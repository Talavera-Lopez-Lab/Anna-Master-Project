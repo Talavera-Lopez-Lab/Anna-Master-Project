{
 "cells": [
  {
   "attachments": {},
   "cell_type": "markdown",
   "metadata": {},
   "source": [
    "## Notebook for Shin 2022 (Drosophila) anndata file creation \n",
    "### Developed by: Anna Maguza\n",
    "\n",
    "### Institute of Computational Biology - Computational Health Centre - Hemlholtz Munich\n",
    "\n",
    "### 2nd April 2023"
   ]
  },
  {
   "cell_type": "markdown",
   "metadata": {},
   "source": [
    "#### Load packages"
   ]
  },
  {
   "cell_type": "code",
   "execution_count": 1,
   "metadata": {},
   "outputs": [],
   "source": [
    "import numpy as np\n",
    "import pandas as pd\n",
    "import scanpy as sc\n",
    "import anndata as an\n",
    "import h5py\n",
    "from scipy.io import mmread\n",
    "from scipy.sparse import coo_matrix\n",
    "import matplotlib.pyplot as plt\n",
    "import scipy as sci"
   ]
  },
  {
   "cell_type": "markdown",
   "metadata": {},
   "source": [
    "#### Setup Cells"
   ]
  },
  {
   "cell_type": "code",
   "execution_count": 2,
   "metadata": {},
   "outputs": [],
   "source": [
    "%matplotlib inline"
   ]
  },
  {
   "cell_type": "code",
   "execution_count": 3,
   "metadata": {},
   "outputs": [
    {
     "name": "stderr",
     "output_type": "stream",
     "text": [
      "/Users/anna.maguza/miniconda3/envs/scanpy_env/lib/python3.9/site-packages/tqdm/auto.py:21: TqdmWarning: IProgress not found. Please update jupyter and ipywidgets. See https://ipywidgets.readthedocs.io/en/stable/user_install.html\n",
      "  from .autonotebook import tqdm as notebook_tqdm\n"
     ]
    },
    {
     "name": "stdout",
     "output_type": "stream",
     "text": [
      "scanpy==1.9.3 anndata==0.8.0 umap==0.5.3 numpy==1.23.5 scipy==1.10.1 pandas==1.3.5 scikit-learn==1.2.2 statsmodels==0.13.5 pynndescent==0.5.8\n"
     ]
    }
   ],
   "source": [
    "sc.settings.verbosity = 3             # verbosity: errors (0), warnings (1), info (2), hints (3)\n",
    "sc.logging.print_header()\n",
    "sc.settings.set_figure_params(dpi=80, facecolor='white')"
   ]
  },
  {
   "cell_type": "markdown",
   "metadata": {},
   "source": [
    "## Data Upload"
   ]
  },
  {
   "cell_type": "code",
   "execution_count": 4,
   "metadata": {},
   "outputs": [],
   "source": [
    "# Upload barcodes and features (txt files)\n",
    "barcodes = pd.read_csv('/Users/anna.maguza/Desktop/Data/Gut_project/Interspecies_analysis/Drosophila/Shin_2022/SCP1696/expression/61b79702771a5b0dd6116d26/WT_barcodes.tsv', sep='\\t', header=None)\n",
    "features = pd.read_csv('/Users/anna.maguza/Desktop/Data/Gut_project/Interspecies_analysis/Drosophila/Shin_2022/SCP1696/expression/61b79702771a5b0dd6116d26/WT_features.tsv', sep='\\t', header=None)\n"
   ]
  },
  {
   "cell_type": "code",
   "execution_count": 5,
   "metadata": {},
   "outputs": [],
   "source": [
    "# Upload matrix (mtx file)\n",
    "matrix = mmread('/Users/anna.maguza/Desktop/Data/Gut_project/Interspecies_analysis/Drosophila/Shin_2022/SCP1696/expression/61b79702771a5b0dd6116d26/WT_matrix.mtx')"
   ]
  },
  {
   "cell_type": "code",
   "execution_count": 6,
   "metadata": {},
   "outputs": [],
   "source": [
    "# Convert matrix to sparse matrix\n",
    "matrix = sci.sparse.csr_matrix(matrix)"
   ]
  },
  {
   "cell_type": "code",
   "execution_count": 7,
   "metadata": {},
   "outputs": [],
   "source": [
    "# Upload metadata (csv file)\n",
    "metadata = pd.read_csv('/Users/anna.maguza/Desktop/Data/Gut_project/Interspecies_analysis/Drosophila/Shin_2022/SCP1696/metadata/WT_metadata.csv')"
   ]
  },
  {
   "attachments": {},
   "cell_type": "markdown",
   "metadata": {},
   "source": [
    "### Make anndata object"
   ]
  },
  {
   "cell_type": "code",
   "execution_count": 15,
   "metadata": {},
   "outputs": [],
   "source": [
    "# Metadata preprocessing\n",
    "# Make column 'NAME' as index\n",
    "metadata.set_index('NAME', inplace=True)\n",
    "# Drop row 'TYPE'\n",
    "metadata.drop('TYPE', inplace=True)"
   ]
  },
  {
   "cell_type": "code",
   "execution_count": 9,
   "metadata": {},
   "outputs": [],
   "source": [
    "# Make column '0' as index in barcodes and features\n",
    "barcodes.set_index(0, inplace=True)\n",
    "features.set_index(0, inplace=True)"
   ]
  },
  {
   "cell_type": "code",
   "execution_count": null,
   "metadata": {},
   "outputs": [],
   "source": [
    "# Merge barcodes and metadata (by index)\n",
    "barcodes = barcodes.merge(metadata, left_index=True, right_index=True)"
   ]
  },
  {
   "cell_type": "code",
   "execution_count": 10,
   "metadata": {},
   "outputs": [
    {
     "name": "stderr",
     "output_type": "stream",
     "text": [
      "/var/folders/gb/wwnzrh015q9dns5cmsc3xcjsxglkqz/T/ipykernel_47473/1918965695.py:2: FutureWarning: X.dtype being converted to np.float32 from int64. In the next version of anndata (0.9) conversion will not be automatic. Pass dtype explicitly to avoid this warning. Pass `AnnData(X, dtype=X.dtype, ...)` to get the future behavour.\n",
      "  adata = an.AnnData(X=np.transpose(matrix), obs=barcodes, var=features)\n"
     ]
    }
   ],
   "source": [
    "# Create anndata object\n",
    "adata = an.AnnData(X=np.transpose(matrix), obs=barcodes, var=features)"
   ]
  },
  {
   "cell_type": "code",
   "execution_count": 16,
   "metadata": {},
   "outputs": [],
   "source": [
    "#Make a list of cells that are present in barcodes but absent in metadata\n",
    "cells = list(set(barcodes.index) - set(metadata.index))\n",
    "# Drop from anndata object cells that are present in barcodes but absent in metadata\n",
    "adata = adata[~adata.obs.index.isin(cells)]\n"
   ]
  },
  {
   "cell_type": "code",
   "execution_count": 29,
   "metadata": {},
   "outputs": [],
   "source": [
    "# Make sure the index name is a string, or set it to None\n",
    "adata.obs.index.name = str(adata.obs.index.name) if adata.obs.index.name is not None else None"
   ]
  },
  {
   "cell_type": "code",
   "execution_count": 30,
   "metadata": {},
   "outputs": [],
   "source": [
    "#Make andata.obs.index.name as string\n",
    "adata.obs.index = adata.obs.index.astype(str)"
   ]
  },
  {
   "cell_type": "code",
   "execution_count": 31,
   "metadata": {},
   "outputs": [],
   "source": [
    "# Merge the metadata with adata.obs\n",
    "adata.obs = adata.obs.join(metadata)"
   ]
  },
  {
   "cell_type": "code",
   "execution_count": 34,
   "metadata": {},
   "outputs": [
    {
     "data": {
      "text/html": [
       "<div>\n",
       "<style scoped>\n",
       "    .dataframe tbody tr th:only-of-type {\n",
       "        vertical-align: middle;\n",
       "    }\n",
       "\n",
       "    .dataframe tbody tr th {\n",
       "        vertical-align: top;\n",
       "    }\n",
       "\n",
       "    .dataframe thead th {\n",
       "        text-align: right;\n",
       "    }\n",
       "</style>\n",
       "<table border=\"1\" class=\"dataframe\">\n",
       "  <thead>\n",
       "    <tr style=\"text-align: right;\">\n",
       "      <th></th>\n",
       "      <th>1</th>\n",
       "      <th>2</th>\n",
       "    </tr>\n",
       "    <tr>\n",
       "      <th>0</th>\n",
       "      <th></th>\n",
       "      <th></th>\n",
       "    </tr>\n",
       "  </thead>\n",
       "  <tbody>\n",
       "    <tr>\n",
       "      <th>FBgn0267431</th>\n",
       "      <td>Myo81F</td>\n",
       "      <td>Gene Expression</td>\n",
       "    </tr>\n",
       "    <tr>\n",
       "      <th>FBgn0085804</th>\n",
       "      <td>CR41571</td>\n",
       "      <td>Gene Expression</td>\n",
       "    </tr>\n",
       "    <tr>\n",
       "      <th>FBgn0039987</th>\n",
       "      <td>CR12798</td>\n",
       "      <td>Gene Expression</td>\n",
       "    </tr>\n",
       "    <tr>\n",
       "      <th>FBgn0267798</th>\n",
       "      <td>CR46123</td>\n",
       "      <td>Gene Expression</td>\n",
       "    </tr>\n",
       "    <tr>\n",
       "      <th>FBgn0267797</th>\n",
       "      <td>CR46122</td>\n",
       "      <td>Gene Expression</td>\n",
       "    </tr>\n",
       "    <tr>\n",
       "      <th>...</th>\n",
       "      <td>...</td>\n",
       "      <td>...</td>\n",
       "    </tr>\n",
       "    <tr>\n",
       "      <th>FBgn0267595</th>\n",
       "      <td>CR45933</td>\n",
       "      <td>Gene Expression</td>\n",
       "    </tr>\n",
       "    <tr>\n",
       "      <th>FBgn0259864</th>\n",
       "      <td>Su(Ste):CR42433</td>\n",
       "      <td>Gene Expression</td>\n",
       "    </tr>\n",
       "    <tr>\n",
       "      <th>FBgn0085506</th>\n",
       "      <td>CG40635</td>\n",
       "      <td>Gene Expression</td>\n",
       "    </tr>\n",
       "    <tr>\n",
       "      <th>FBgn0259870</th>\n",
       "      <td>Su(Ste):CR42439</td>\n",
       "      <td>Gene Expression</td>\n",
       "    </tr>\n",
       "    <tr>\n",
       "      <th>FBgn0085511</th>\n",
       "      <td>CR40719</td>\n",
       "      <td>Gene Expression</td>\n",
       "    </tr>\n",
       "  </tbody>\n",
       "</table>\n",
       "<p>17737 rows × 2 columns</p>\n",
       "</div>"
      ],
      "text/plain": [
       "                           1                2\n",
       "0                                            \n",
       "FBgn0267431           Myo81F  Gene Expression\n",
       "FBgn0085804          CR41571  Gene Expression\n",
       "FBgn0039987          CR12798  Gene Expression\n",
       "FBgn0267798          CR46123  Gene Expression\n",
       "FBgn0267797          CR46122  Gene Expression\n",
       "...                      ...              ...\n",
       "FBgn0267595          CR45933  Gene Expression\n",
       "FBgn0259864  Su(Ste):CR42433  Gene Expression\n",
       "FBgn0085506          CG40635  Gene Expression\n",
       "FBgn0259870  Su(Ste):CR42439  Gene Expression\n",
       "FBgn0085511          CR40719  Gene Expression\n",
       "\n",
       "[17737 rows x 2 columns]"
      ]
     },
     "execution_count": 34,
     "metadata": {},
     "output_type": "execute_result"
    }
   ],
   "source": [
    "adata.var"
   ]
  },
  {
   "cell_type": "code",
   "execution_count": 41,
   "metadata": {},
   "outputs": [],
   "source": [
    "# Upload UMAP coordinates (txt file)\n",
    "umap = pd.read_csv('/Users/anna.maguza/Desktop/Data/Gut_project/Interspecies_analysis/Drosophila/Shin_2022/SCP1696/cluster/WT_umap.txt', sep='\\t', header=None)"
   ]
  },
  {
   "cell_type": "code",
   "execution_count": 42,
   "metadata": {},
   "outputs": [],
   "source": [
    "# Make column '0' as index in umap\n",
    "umap.set_index(0, inplace=True)\n",
    "# Drop row 'TYPE'\n",
    "umap.drop('TYPE', inplace=True)\n",
    "# Make row 'NAME' as columns names in umap\n",
    "umap.columns = umap.loc['NAME']\n",
    "# Drop row 'NAME'\n",
    "umap.drop('NAME', inplace=True)\n"
   ]
  },
  {
   "cell_type": "code",
   "execution_count": 43,
   "metadata": {},
   "outputs": [],
   "source": [
    "# Add UMAP coordinates to adata.obsm\n",
    "adata.obsm['X_umap'] = umap.values\n"
   ]
  },
  {
   "cell_type": "code",
   "execution_count": 44,
   "metadata": {},
   "outputs": [
    {
     "data": {
      "text/plain": [
       "AnnData object with n_obs × n_vars = 3806 × 17737\n",
       "    obs: 'biosample_id', 'donor_id', 'CellType', 'species', 'species__ontology_label', 'sex', 'disease', 'disease__ontology_label', 'organ', 'organ__ontology_label', 'library_preparation_protocol', 'library_preparation_protocol__ontology_label'\n",
       "    var: 1, 2\n",
       "    obsm: 'X_umap'"
      ]
     },
     "execution_count": 44,
     "metadata": {},
     "output_type": "execute_result"
    }
   ],
   "source": [
    "adata"
   ]
  },
  {
   "cell_type": "code",
   "execution_count": 56,
   "metadata": {},
   "outputs": [],
   "source": [
    "adata.var.index.name = \"FlyBase_ID\"\n",
    "#Rename adata.var column 1 to gene_name\n",
    "adata.var.rename(columns={1: \"gene_name\"}, inplace=True)\n",
    "#Rename adata.var column 2 to gene_type\n",
    "adata.var.rename(columns={2: \"gene_type\"}, inplace=True)"
   ]
  },
  {
   "cell_type": "code",
   "execution_count": 57,
   "metadata": {},
   "outputs": [
    {
     "data": {
      "text/html": [
       "<div>\n",
       "<style scoped>\n",
       "    .dataframe tbody tr th:only-of-type {\n",
       "        vertical-align: middle;\n",
       "    }\n",
       "\n",
       "    .dataframe tbody tr th {\n",
       "        vertical-align: top;\n",
       "    }\n",
       "\n",
       "    .dataframe thead th {\n",
       "        text-align: right;\n",
       "    }\n",
       "</style>\n",
       "<table border=\"1\" class=\"dataframe\">\n",
       "  <thead>\n",
       "    <tr style=\"text-align: right;\">\n",
       "      <th></th>\n",
       "      <th>gene_name</th>\n",
       "      <th>gene_type</th>\n",
       "    </tr>\n",
       "    <tr>\n",
       "      <th>FlyBase_ID</th>\n",
       "      <th></th>\n",
       "      <th></th>\n",
       "    </tr>\n",
       "  </thead>\n",
       "  <tbody>\n",
       "    <tr>\n",
       "      <th>FBgn0267431</th>\n",
       "      <td>Myo81F</td>\n",
       "      <td>Gene Expression</td>\n",
       "    </tr>\n",
       "    <tr>\n",
       "      <th>FBgn0085804</th>\n",
       "      <td>CR41571</td>\n",
       "      <td>Gene Expression</td>\n",
       "    </tr>\n",
       "    <tr>\n",
       "      <th>FBgn0039987</th>\n",
       "      <td>CR12798</td>\n",
       "      <td>Gene Expression</td>\n",
       "    </tr>\n",
       "    <tr>\n",
       "      <th>FBgn0267798</th>\n",
       "      <td>CR46123</td>\n",
       "      <td>Gene Expression</td>\n",
       "    </tr>\n",
       "    <tr>\n",
       "      <th>FBgn0267797</th>\n",
       "      <td>CR46122</td>\n",
       "      <td>Gene Expression</td>\n",
       "    </tr>\n",
       "    <tr>\n",
       "      <th>...</th>\n",
       "      <td>...</td>\n",
       "      <td>...</td>\n",
       "    </tr>\n",
       "    <tr>\n",
       "      <th>FBgn0267595</th>\n",
       "      <td>CR45933</td>\n",
       "      <td>Gene Expression</td>\n",
       "    </tr>\n",
       "    <tr>\n",
       "      <th>FBgn0259864</th>\n",
       "      <td>Su(Ste):CR42433</td>\n",
       "      <td>Gene Expression</td>\n",
       "    </tr>\n",
       "    <tr>\n",
       "      <th>FBgn0085506</th>\n",
       "      <td>CG40635</td>\n",
       "      <td>Gene Expression</td>\n",
       "    </tr>\n",
       "    <tr>\n",
       "      <th>FBgn0259870</th>\n",
       "      <td>Su(Ste):CR42439</td>\n",
       "      <td>Gene Expression</td>\n",
       "    </tr>\n",
       "    <tr>\n",
       "      <th>FBgn0085511</th>\n",
       "      <td>CR40719</td>\n",
       "      <td>Gene Expression</td>\n",
       "    </tr>\n",
       "  </tbody>\n",
       "</table>\n",
       "<p>17737 rows × 2 columns</p>\n",
       "</div>"
      ],
      "text/plain": [
       "                   gene_name        gene_type\n",
       "FlyBase_ID                                   \n",
       "FBgn0267431           Myo81F  Gene Expression\n",
       "FBgn0085804          CR41571  Gene Expression\n",
       "FBgn0039987          CR12798  Gene Expression\n",
       "FBgn0267798          CR46123  Gene Expression\n",
       "FBgn0267797          CR46122  Gene Expression\n",
       "...                      ...              ...\n",
       "FBgn0267595          CR45933  Gene Expression\n",
       "FBgn0259864  Su(Ste):CR42433  Gene Expression\n",
       "FBgn0085506          CG40635  Gene Expression\n",
       "FBgn0259870  Su(Ste):CR42439  Gene Expression\n",
       "FBgn0085511          CR40719  Gene Expression\n",
       "\n",
       "[17737 rows x 2 columns]"
      ]
     },
     "execution_count": 57,
     "metadata": {},
     "output_type": "execute_result"
    }
   ],
   "source": [
    "adata.var"
   ]
  },
  {
   "cell_type": "code",
   "execution_count": 58,
   "metadata": {},
   "outputs": [],
   "source": [
    "adata.obs.index = adata.obs.index.astype(str)\n",
    "adata.var.index = adata.var.index.astype(str)\n",
    "adata.obs_names = adata.obs_names.astype(str)\n",
    "adata.var.index.name = str(adata.var.index.name) if adata.var.index.name is not None else None\n",
    "adata.var_names = adata.var_names.astype(str)\n",
    "adata.obs = adata.obs.astype(str)\n",
    "adata.var = adata.var.astype(str)"
   ]
  },
  {
   "cell_type": "code",
   "execution_count": 59,
   "metadata": {},
   "outputs": [],
   "source": [
    "# Save anndata object\n",
    "adata.write('/Users/anna.maguza/Desktop/Data/Gut_project/Interspecies_analysis/Drosophila/Shin_2022/Raw_anndata_file/Shin_2022_raw_anndata.h5ad')"
   ]
  },
  {
   "cell_type": "code",
   "execution_count": 60,
   "metadata": {},
   "outputs": [
    {
     "data": {
      "text/html": [
       "<div>\n",
       "<style scoped>\n",
       "    .dataframe tbody tr th:only-of-type {\n",
       "        vertical-align: middle;\n",
       "    }\n",
       "\n",
       "    .dataframe tbody tr th {\n",
       "        vertical-align: top;\n",
       "    }\n",
       "\n",
       "    .dataframe thead th {\n",
       "        text-align: right;\n",
       "    }\n",
       "</style>\n",
       "<table border=\"1\" class=\"dataframe\">\n",
       "  <thead>\n",
       "    <tr style=\"text-align: right;\">\n",
       "      <th></th>\n",
       "      <th>biosample_id</th>\n",
       "      <th>donor_id</th>\n",
       "      <th>CellType</th>\n",
       "      <th>species</th>\n",
       "      <th>species__ontology_label</th>\n",
       "      <th>sex</th>\n",
       "      <th>disease</th>\n",
       "      <th>disease__ontology_label</th>\n",
       "      <th>organ</th>\n",
       "      <th>organ__ontology_label</th>\n",
       "      <th>library_preparation_protocol</th>\n",
       "      <th>library_preparation_protocol__ontology_label</th>\n",
       "    </tr>\n",
       "    <tr>\n",
       "      <th>0</th>\n",
       "      <th></th>\n",
       "      <th></th>\n",
       "      <th></th>\n",
       "      <th></th>\n",
       "      <th></th>\n",
       "      <th></th>\n",
       "      <th></th>\n",
       "      <th></th>\n",
       "      <th></th>\n",
       "      <th></th>\n",
       "      <th></th>\n",
       "      <th></th>\n",
       "    </tr>\n",
       "  </thead>\n",
       "  <tbody>\n",
       "    <tr>\n",
       "      <th>AAACCCAAGAGTCCGA-1</th>\n",
       "      <td>WT</td>\n",
       "      <td>WT</td>\n",
       "      <td>esg-,N+</td>\n",
       "      <td>NCBITaxon:7227</td>\n",
       "      <td>Drosophila melanogaster</td>\n",
       "      <td>female</td>\n",
       "      <td>PATO_0000461</td>\n",
       "      <td>normal</td>\n",
       "      <td>UBERON_0000160</td>\n",
       "      <td>intestine</td>\n",
       "      <td>EFO:0009922</td>\n",
       "      <td>10x 3' v3</td>\n",
       "    </tr>\n",
       "    <tr>\n",
       "      <th>AAACCCAAGTGGACGT-1</th>\n",
       "      <td>WT</td>\n",
       "      <td>WT</td>\n",
       "      <td>aEC</td>\n",
       "      <td>NCBITaxon:7227</td>\n",
       "      <td>Drosophila melanogaster</td>\n",
       "      <td>female</td>\n",
       "      <td>PATO_0000461</td>\n",
       "      <td>normal</td>\n",
       "      <td>UBERON:0000160</td>\n",
       "      <td>intestine</td>\n",
       "      <td>EFO:0009922</td>\n",
       "      <td>10x 3' v3</td>\n",
       "    </tr>\n",
       "    <tr>\n",
       "      <th>AAACCCACAAGTGACG-1</th>\n",
       "      <td>WT</td>\n",
       "      <td>WT</td>\n",
       "      <td>mEC-1</td>\n",
       "      <td>NCBITaxon:7227</td>\n",
       "      <td>Drosophila melanogaster</td>\n",
       "      <td>female</td>\n",
       "      <td>PATO_0000461</td>\n",
       "      <td>normal</td>\n",
       "      <td>UBERON:0000160</td>\n",
       "      <td>intestine</td>\n",
       "      <td>EFO:0009922</td>\n",
       "      <td>10x 3' v3</td>\n",
       "    </tr>\n",
       "    <tr>\n",
       "      <th>AAACCCAGTTTGGAGG-1</th>\n",
       "      <td>WT</td>\n",
       "      <td>WT</td>\n",
       "      <td>pEC-2</td>\n",
       "      <td>NCBITaxon:7227</td>\n",
       "      <td>Drosophila melanogaster</td>\n",
       "      <td>female</td>\n",
       "      <td>PATO_0000461</td>\n",
       "      <td>normal</td>\n",
       "      <td>UBERON:0000160</td>\n",
       "      <td>intestine</td>\n",
       "      <td>EFO:0009922</td>\n",
       "      <td>10x 3' v3</td>\n",
       "    </tr>\n",
       "    <tr>\n",
       "      <th>AAACCCATCTAAACGC-1</th>\n",
       "      <td>WT</td>\n",
       "      <td>WT</td>\n",
       "      <td>Progenitors</td>\n",
       "      <td>NCBITaxon:7227</td>\n",
       "      <td>Drosophila melanogaster</td>\n",
       "      <td>female</td>\n",
       "      <td>PATO_0000461</td>\n",
       "      <td>normal</td>\n",
       "      <td>UBERON:0000160</td>\n",
       "      <td>intestine</td>\n",
       "      <td>EFO:0009922</td>\n",
       "      <td>10x 3' v3</td>\n",
       "    </tr>\n",
       "    <tr>\n",
       "      <th>...</th>\n",
       "      <td>...</td>\n",
       "      <td>...</td>\n",
       "      <td>...</td>\n",
       "      <td>...</td>\n",
       "      <td>...</td>\n",
       "      <td>...</td>\n",
       "      <td>...</td>\n",
       "      <td>...</td>\n",
       "      <td>...</td>\n",
       "      <td>...</td>\n",
       "      <td>...</td>\n",
       "      <td>...</td>\n",
       "    </tr>\n",
       "    <tr>\n",
       "      <th>TTTGGAGAGACTCCGC-1</th>\n",
       "      <td>WT</td>\n",
       "      <td>WT</td>\n",
       "      <td>mEC-2</td>\n",
       "      <td>NCBITaxon:7227</td>\n",
       "      <td>Drosophila melanogaster</td>\n",
       "      <td>female</td>\n",
       "      <td>PATO_0000461</td>\n",
       "      <td>normal</td>\n",
       "      <td>UBERON:0000160</td>\n",
       "      <td>intestine</td>\n",
       "      <td>EFO:0009922</td>\n",
       "      <td>10x 3' v3</td>\n",
       "    </tr>\n",
       "    <tr>\n",
       "      <th>TTTGGTTAGCCTTTCC-1</th>\n",
       "      <td>WT</td>\n",
       "      <td>WT</td>\n",
       "      <td>Immature EC</td>\n",
       "      <td>NCBITaxon:7227</td>\n",
       "      <td>Drosophila melanogaster</td>\n",
       "      <td>female</td>\n",
       "      <td>PATO_0000461</td>\n",
       "      <td>normal</td>\n",
       "      <td>UBERON:0000160</td>\n",
       "      <td>intestine</td>\n",
       "      <td>EFO:0009922</td>\n",
       "      <td>10x 3' v3</td>\n",
       "    </tr>\n",
       "    <tr>\n",
       "      <th>TTTGTTGAGCGTATAA-1</th>\n",
       "      <td>WT</td>\n",
       "      <td>WT</td>\n",
       "      <td>Unknown-2</td>\n",
       "      <td>NCBITaxon:7227</td>\n",
       "      <td>Drosophila melanogaster</td>\n",
       "      <td>female</td>\n",
       "      <td>PATO_0000461</td>\n",
       "      <td>normal</td>\n",
       "      <td>UBERON:0000160</td>\n",
       "      <td>intestine</td>\n",
       "      <td>EFO:0009922</td>\n",
       "      <td>10x 3' v3</td>\n",
       "    </tr>\n",
       "    <tr>\n",
       "      <th>TTTGTTGGTCACATTG-1</th>\n",
       "      <td>WT</td>\n",
       "      <td>WT</td>\n",
       "      <td>CC</td>\n",
       "      <td>NCBITaxon:7227</td>\n",
       "      <td>Drosophila melanogaster</td>\n",
       "      <td>female</td>\n",
       "      <td>PATO_0000461</td>\n",
       "      <td>normal</td>\n",
       "      <td>UBERON:0000160</td>\n",
       "      <td>intestine</td>\n",
       "      <td>EFO:0009922</td>\n",
       "      <td>10x 3' v3</td>\n",
       "    </tr>\n",
       "    <tr>\n",
       "      <th>TTTGTTGTCGCTTTAT-1</th>\n",
       "      <td>WT</td>\n",
       "      <td>WT</td>\n",
       "      <td>aEC</td>\n",
       "      <td>NCBITaxon:7227</td>\n",
       "      <td>Drosophila melanogaster</td>\n",
       "      <td>female</td>\n",
       "      <td>PATO_0000461</td>\n",
       "      <td>normal</td>\n",
       "      <td>UBERON:0000160</td>\n",
       "      <td>intestine</td>\n",
       "      <td>EFO:0009922</td>\n",
       "      <td>10x 3' v3</td>\n",
       "    </tr>\n",
       "  </tbody>\n",
       "</table>\n",
       "<p>3806 rows × 12 columns</p>\n",
       "</div>"
      ],
      "text/plain": [
       "                   biosample_id donor_id     CellType         species  \\\n",
       "0                                                                       \n",
       "AAACCCAAGAGTCCGA-1           WT       WT      esg-,N+  NCBITaxon:7227   \n",
       "AAACCCAAGTGGACGT-1           WT       WT          aEC  NCBITaxon:7227   \n",
       "AAACCCACAAGTGACG-1           WT       WT        mEC-1  NCBITaxon:7227   \n",
       "AAACCCAGTTTGGAGG-1           WT       WT        pEC-2  NCBITaxon:7227   \n",
       "AAACCCATCTAAACGC-1           WT       WT  Progenitors  NCBITaxon:7227   \n",
       "...                         ...      ...          ...             ...   \n",
       "TTTGGAGAGACTCCGC-1           WT       WT        mEC-2  NCBITaxon:7227   \n",
       "TTTGGTTAGCCTTTCC-1           WT       WT  Immature EC  NCBITaxon:7227   \n",
       "TTTGTTGAGCGTATAA-1           WT       WT    Unknown-2  NCBITaxon:7227   \n",
       "TTTGTTGGTCACATTG-1           WT       WT           CC  NCBITaxon:7227   \n",
       "TTTGTTGTCGCTTTAT-1           WT       WT          aEC  NCBITaxon:7227   \n",
       "\n",
       "                    species__ontology_label     sex       disease  \\\n",
       "0                                                                   \n",
       "AAACCCAAGAGTCCGA-1  Drosophila melanogaster  female  PATO_0000461   \n",
       "AAACCCAAGTGGACGT-1  Drosophila melanogaster  female  PATO_0000461   \n",
       "AAACCCACAAGTGACG-1  Drosophila melanogaster  female  PATO_0000461   \n",
       "AAACCCAGTTTGGAGG-1  Drosophila melanogaster  female  PATO_0000461   \n",
       "AAACCCATCTAAACGC-1  Drosophila melanogaster  female  PATO_0000461   \n",
       "...                                     ...     ...           ...   \n",
       "TTTGGAGAGACTCCGC-1  Drosophila melanogaster  female  PATO_0000461   \n",
       "TTTGGTTAGCCTTTCC-1  Drosophila melanogaster  female  PATO_0000461   \n",
       "TTTGTTGAGCGTATAA-1  Drosophila melanogaster  female  PATO_0000461   \n",
       "TTTGTTGGTCACATTG-1  Drosophila melanogaster  female  PATO_0000461   \n",
       "TTTGTTGTCGCTTTAT-1  Drosophila melanogaster  female  PATO_0000461   \n",
       "\n",
       "                   disease__ontology_label           organ  \\\n",
       "0                                                            \n",
       "AAACCCAAGAGTCCGA-1                  normal  UBERON_0000160   \n",
       "AAACCCAAGTGGACGT-1                  normal  UBERON:0000160   \n",
       "AAACCCACAAGTGACG-1                  normal  UBERON:0000160   \n",
       "AAACCCAGTTTGGAGG-1                  normal  UBERON:0000160   \n",
       "AAACCCATCTAAACGC-1                  normal  UBERON:0000160   \n",
       "...                                    ...             ...   \n",
       "TTTGGAGAGACTCCGC-1                  normal  UBERON:0000160   \n",
       "TTTGGTTAGCCTTTCC-1                  normal  UBERON:0000160   \n",
       "TTTGTTGAGCGTATAA-1                  normal  UBERON:0000160   \n",
       "TTTGTTGGTCACATTG-1                  normal  UBERON:0000160   \n",
       "TTTGTTGTCGCTTTAT-1                  normal  UBERON:0000160   \n",
       "\n",
       "                   organ__ontology_label library_preparation_protocol  \\\n",
       "0                                                                       \n",
       "AAACCCAAGAGTCCGA-1             intestine                  EFO:0009922   \n",
       "AAACCCAAGTGGACGT-1             intestine                  EFO:0009922   \n",
       "AAACCCACAAGTGACG-1             intestine                  EFO:0009922   \n",
       "AAACCCAGTTTGGAGG-1             intestine                  EFO:0009922   \n",
       "AAACCCATCTAAACGC-1             intestine                  EFO:0009922   \n",
       "...                                  ...                          ...   \n",
       "TTTGGAGAGACTCCGC-1             intestine                  EFO:0009922   \n",
       "TTTGGTTAGCCTTTCC-1             intestine                  EFO:0009922   \n",
       "TTTGTTGAGCGTATAA-1             intestine                  EFO:0009922   \n",
       "TTTGTTGGTCACATTG-1             intestine                  EFO:0009922   \n",
       "TTTGTTGTCGCTTTAT-1             intestine                  EFO:0009922   \n",
       "\n",
       "                   library_preparation_protocol__ontology_label  \n",
       "0                                                                \n",
       "AAACCCAAGAGTCCGA-1                                    10x 3' v3  \n",
       "AAACCCAAGTGGACGT-1                                    10x 3' v3  \n",
       "AAACCCACAAGTGACG-1                                    10x 3' v3  \n",
       "AAACCCAGTTTGGAGG-1                                    10x 3' v3  \n",
       "AAACCCATCTAAACGC-1                                    10x 3' v3  \n",
       "...                                                         ...  \n",
       "TTTGGAGAGACTCCGC-1                                    10x 3' v3  \n",
       "TTTGGTTAGCCTTTCC-1                                    10x 3' v3  \n",
       "TTTGTTGAGCGTATAA-1                                    10x 3' v3  \n",
       "TTTGTTGGTCACATTG-1                                    10x 3' v3  \n",
       "TTTGTTGTCGCTTTAT-1                                    10x 3' v3  \n",
       "\n",
       "[3806 rows x 12 columns]"
      ]
     },
     "execution_count": 60,
     "metadata": {},
     "output_type": "execute_result"
    }
   ],
   "source": [
    "adata.obs"
   ]
  },
  {
   "cell_type": "code",
   "execution_count": 61,
   "metadata": {},
   "outputs": [
    {
     "data": {
      "text/plain": [
       "([0, 1, 2, 3, 4, 5, 6, 7, 8, 9, 10, 11, 12, 13, 14, 15],\n",
       " [Text(0, 0, 'Immature EC'),\n",
       "  Text(1, 0, 'Progenitors'),\n",
       "  Text(2, 0, 'aEC'),\n",
       "  Text(3, 0, 'pEC-1'),\n",
       "  Text(4, 0, 'mEC-1'),\n",
       "  Text(5, 0, 'mEC-2'),\n",
       "  Text(6, 0, 'EC'),\n",
       "  Text(7, 0, 'pEC-2'),\n",
       "  Text(8, 0, 'EE'),\n",
       "  Text(9, 0, 'esg-,N+'),\n",
       "  Text(10, 0, 'Unknown-1'),\n",
       "  Text(11, 0, 'Unknown-2'),\n",
       "  Text(12, 0, 'Unknown-3'),\n",
       "  Text(13, 0, 'CC'),\n",
       "  Text(14, 0, 'cardia'),\n",
       "  Text(15, 0, 'LFC')])"
      ]
     },
     "execution_count": 61,
     "metadata": {},
     "output_type": "execute_result"
    },
    {
     "data": {
      "image/png": "[encoded data removed]",
      "text/plain": [
       "<Figure size 1200x400 with 1 Axes>"
      ]
     },
     "metadata": {
      "image/png": {
       "height": 406,
       "width": 994
      }
     },
     "output_type": "display_data"
    }
   ],
   "source": [
    "# Make a plot with cell types \n",
    "#Create a barplot of the number of cells per cell type in the anndata_pediatric object\n",
    "plt.figure(figsize = (15, 5))\n",
    "plt.bar(adata.obs[\"CellType\"].value_counts().index, adata.obs[\"CellType\"].value_counts(), color = \"blue\", edgecolor = \"black\", linewidth = 1.2)\n",
    "plt.xticks(rotation = 90, fontsize = 12)"
   ]
  }
 ],
 "metadata": {
  "kernelspec": {
   "display_name": "scanpy_env",
   "language": "python",
   "name": "python3"
  },
  "language_info": {
   "codemirror_mode": {
    "name": "ipython",
    "version": 3
   },
   "file_extension": ".py",
   "mimetype": "text/x-python",
   "name": "python",
   "nbconvert_exporter": "python",
   "pygments_lexer": "ipython3",
   "version": "3.9.16"
  },
  "orig_nbformat": 4
 },
 "nbformat": 4,
 "nbformat_minor": 2
}
