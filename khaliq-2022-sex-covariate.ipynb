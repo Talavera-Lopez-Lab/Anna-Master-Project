{
 "cells": [
  {
   "cell_type": "markdown",
   "metadata": {},
   "source": [
    "## Notebook for the finding of sex-covariates\n",
    "### Developed by: Anna Maguza\n",
    "\n",
    "### Institute of Computational Biology - Computational Health Centre - Hemlholtz Munich\n",
    "\n",
    "### 12 October 2022\n",
    "\n",
    "This notebook was developed separately because pybiomart package that is needed to this analysis is incompetible with some packages in my main environment, therefore, I have created a new environment"
   ]
  },
  {
   "cell_type": "markdown",
   "metadata": {},
   "source": [
    "#### Load required packages"
   ]
  },
  {
   "cell_type": "code",
   "execution_count": 3,
   "metadata": {},
   "outputs": [],
   "source": [
    "import numpy as np\n",
    "import pandas as pd\n",
    "import pybiomart as bm\n",
    "import scanpy as sc"
   ]
  },
  {
   "cell_type": "markdown",
   "metadata": {},
   "source": [
    "#### Setup Cells"
   ]
  },
  {
   "cell_type": "code",
   "execution_count": 5,
   "metadata": {},
   "outputs": [],
   "source": [
    "%matplotlib inline"
   ]
  },
  {
   "cell_type": "code",
   "execution_count": 6,
   "metadata": {},
   "outputs": [
    {
     "name": "stdout",
     "output_type": "stream",
     "text": [
      "scanpy==1.9.1 anndata==0.8.0 umap==0.5.1 numpy==1.23.3 scipy==1.9.1 pandas==1.5.0 scikit-learn==1.1.2 statsmodels==0.13.2 pynndescent==0.5.7\n"
     ]
    }
   ],
   "source": [
    "sc.settings.verbosity = 3             # verbosity: errors (0), warnings (1), info (2), hints (3)\n",
    "sc.logging.print_header()\n",
    "sc.settings.set_figure_params(dpi=80, facecolor='white')"
   ]
  },
  {
   "cell_type": "markdown",
   "metadata": {},
   "source": [
    "## Khaliq-2022"
   ]
  },
  {
   "cell_type": "markdown",
   "metadata": {},
   "source": [
    "#### Uploading data"
   ]
  },
  {
   "cell_type": "code",
   "execution_count": 7,
   "metadata": {},
   "outputs": [],
   "source": [
    "#Khaliq-2022\n",
    "input_CRC_file = '/Users/annamaguza/Desktop/Desktop-Anna/LMU/Master-Thesis/Anna-Master-Project/khaliq_2022_anndata_raw.h5ad'  # the file that will store the analysis results\n",
    "output_CRC_file = '/Users/annamaguza/Desktop/Desktop-Anna/LMU/Master-Thesis/Anna-Master-Project/khaliq_2022_anndata_processed.h5ad'  # the file that will store the analysis results"
   ]
  },
  {
   "cell_type": "code",
   "execution_count": 8,
   "metadata": {},
   "outputs": [
    {
     "data": {
      "text/plain": [
       "array([[0., 0., 0., ..., 0., 0., 0.],\n",
       "       [0., 0., 0., ..., 0., 0., 0.],\n",
       "       [0., 0., 0., ..., 0., 0., 0.],\n",
       "       ...,\n",
       "       [0., 0., 0., ..., 0., 0., 0.],\n",
       "       [0., 0., 0., ..., 0., 0., 0.],\n",
       "       [0., 0., 0., ..., 0., 0., 0.]], dtype=float32)"
      ]
     },
     "execution_count": 8,
     "metadata": {},
     "output_type": "execute_result"
    }
   ],
   "source": [
    "#Anndata upload\n",
    "khaliq_ad = sc.read_h5ad(input_CRC_file)\n",
    "khaliq_ad.X"
   ]
  },
  {
   "cell_type": "code",
   "execution_count": 9,
   "metadata": {},
   "outputs": [],
   "source": [
    "#Delete normal samples (leave only tumor)\n",
    "khaliq_ad_tumor = khaliq_ad[khaliq_ad.obs.Condition == \"Tumor\", :]"
   ]
  },
  {
   "cell_type": "code",
   "execution_count": 4,
   "metadata": {},
   "outputs": [],
   "source": [
    "annot = sc.queries.biomart_annotations(\n",
    "        \"hsapiens\",\n",
    "        [\"ensembl_gene_id\", \"external_gene_name\", \"start_position\", \"end_position\", \"chromosome_name\"],\n",
    "    ).set_index(\"external_gene_name\")"
   ]
  },
  {
   "cell_type": "code",
   "execution_count": 10,
   "metadata": {},
   "outputs": [
    {
     "data": {
      "text/html": [
       "<div>\n",
       "<style scoped>\n",
       "    .dataframe tbody tr th:only-of-type {\n",
       "        vertical-align: middle;\n",
       "    }\n",
       "\n",
       "    .dataframe tbody tr th {\n",
       "        vertical-align: top;\n",
       "    }\n",
       "\n",
       "    .dataframe thead th {\n",
       "        text-align: right;\n",
       "    }\n",
       "</style>\n",
       "<table border=\"1\" class=\"dataframe\">\n",
       "  <thead>\n",
       "    <tr style=\"text-align: right;\">\n",
       "      <th></th>\n",
       "      <th>ensembl_gene_id</th>\n",
       "      <th>start_position</th>\n",
       "      <th>end_position</th>\n",
       "      <th>chromosome_name</th>\n",
       "    </tr>\n",
       "    <tr>\n",
       "      <th>external_gene_name</th>\n",
       "      <th></th>\n",
       "      <th></th>\n",
       "      <th></th>\n",
       "      <th></th>\n",
       "    </tr>\n",
       "  </thead>\n",
       "  <tbody>\n",
       "    <tr>\n",
       "      <th>MT-TF</th>\n",
       "      <td>ENSG00000210049</td>\n",
       "      <td>577</td>\n",
       "      <td>647</td>\n",
       "      <td>MT</td>\n",
       "    </tr>\n",
       "    <tr>\n",
       "      <th>MT-RNR1</th>\n",
       "      <td>ENSG00000211459</td>\n",
       "      <td>648</td>\n",
       "      <td>1601</td>\n",
       "      <td>MT</td>\n",
       "    </tr>\n",
       "    <tr>\n",
       "      <th>MT-TV</th>\n",
       "      <td>ENSG00000210077</td>\n",
       "      <td>1602</td>\n",
       "      <td>1670</td>\n",
       "      <td>MT</td>\n",
       "    </tr>\n",
       "    <tr>\n",
       "      <th>MT-RNR2</th>\n",
       "      <td>ENSG00000210082</td>\n",
       "      <td>1671</td>\n",
       "      <td>3229</td>\n",
       "      <td>MT</td>\n",
       "    </tr>\n",
       "    <tr>\n",
       "      <th>MT-TL1</th>\n",
       "      <td>ENSG00000209082</td>\n",
       "      <td>3230</td>\n",
       "      <td>3304</td>\n",
       "      <td>MT</td>\n",
       "    </tr>\n",
       "  </tbody>\n",
       "</table>\n",
       "</div>"
      ],
      "text/plain": [
       "                    ensembl_gene_id  start_position  end_position  \\\n",
       "external_gene_name                                                  \n",
       "MT-TF               ENSG00000210049             577           647   \n",
       "MT-RNR1             ENSG00000211459             648          1601   \n",
       "MT-TV               ENSG00000210077            1602          1670   \n",
       "MT-RNR2             ENSG00000210082            1671          3229   \n",
       "MT-TL1              ENSG00000209082            3230          3304   \n",
       "\n",
       "                   chromosome_name  \n",
       "external_gene_name                  \n",
       "MT-TF                           MT  \n",
       "MT-RNR1                         MT  \n",
       "MT-TV                           MT  \n",
       "MT-RNR2                         MT  \n",
       "MT-TL1                          MT  "
      ]
     },
     "execution_count": 10,
     "metadata": {},
     "output_type": "execute_result"
    }
   ],
   "source": [
    "annot.head()"
   ]
  },
  {
   "cell_type": "code",
   "execution_count": 20,
   "metadata": {},
   "outputs": [
    {
     "data": {
      "text/plain": [
       "Index(['RPS4Y1', 'ZFY', 'ZFY-AS1', 'LINC00278', 'TBL1Y', 'USP9Y', 'DDX3Y',\n",
       "       'UTY', 'TMSB4Y', 'NLGN4Y', 'FAM224B', 'TTTY14', 'KDM5D', 'TTTY10',\n",
       "       'EIF1AY', 'RPS4Y2', 'PRORY', 'DAZ1'],\n",
       "      dtype='object')"
      ]
     },
     "execution_count": 20,
     "metadata": {},
     "output_type": "execute_result"
    }
   ],
   "source": [
    "chrY_genes = khaliq_ad_tumor.var_names.intersection(annot.index[annot.chromosome_name == \"Y\"])\n",
    "chrY_genes"
   ]
  },
  {
   "cell_type": "code",
   "execution_count": 26,
   "metadata": {},
   "outputs": [
    {
     "data": {
      "text/html": [
       "<div>\n",
       "<style scoped>\n",
       "    .dataframe tbody tr th:only-of-type {\n",
       "        vertical-align: middle;\n",
       "    }\n",
       "\n",
       "    .dataframe tbody tr th {\n",
       "        vertical-align: top;\n",
       "    }\n",
       "\n",
       "    .dataframe thead th {\n",
       "        text-align: right;\n",
       "    }\n",
       "</style>\n",
       "<table border=\"1\" class=\"dataframe\">\n",
       "  <thead>\n",
       "    <tr style=\"text-align: right;\">\n",
       "      <th></th>\n",
       "      <th>samples</th>\n",
       "      <th>Condition</th>\n",
       "      <th>Location</th>\n",
       "      <th>MSI_Status</th>\n",
       "      <th>bulk_prediction</th>\n",
       "      <th>prediction</th>\n",
       "      <th>percent_chrY</th>\n",
       "      <th>XIST-counts</th>\n",
       "    </tr>\n",
       "  </thead>\n",
       "  <tbody>\n",
       "    <tr>\n",
       "      <th>T_cac1_AAACCTGAGAATAGGG</th>\n",
       "      <td>T_cac1</td>\n",
       "      <td>Tumor</td>\n",
       "      <td>Right</td>\n",
       "      <td>MSS</td>\n",
       "      <td>CMS4</td>\n",
       "      <td>CMS2</td>\n",
       "      <td>NaN</td>\n",
       "      <td>0.0</td>\n",
       "    </tr>\n",
       "    <tr>\n",
       "      <th>T_cac1_AAACCTGAGCAGCGTA</th>\n",
       "      <td>T_cac1</td>\n",
       "      <td>Tumor</td>\n",
       "      <td>Right</td>\n",
       "      <td>MSS</td>\n",
       "      <td>CMS4</td>\n",
       "      <td>CMS4</td>\n",
       "      <td>NaN</td>\n",
       "      <td>0.0</td>\n",
       "    </tr>\n",
       "    <tr>\n",
       "      <th>T_cac1_AAACCTGCAATCTGCA</th>\n",
       "      <td>T_cac1</td>\n",
       "      <td>Tumor</td>\n",
       "      <td>Right</td>\n",
       "      <td>MSS</td>\n",
       "      <td>CMS4</td>\n",
       "      <td>CMS3</td>\n",
       "      <td>NaN</td>\n",
       "      <td>0.0</td>\n",
       "    </tr>\n",
       "    <tr>\n",
       "      <th>T_cac1_AAACCTGGTCTTGCGG</th>\n",
       "      <td>T_cac1</td>\n",
       "      <td>Tumor</td>\n",
       "      <td>Right</td>\n",
       "      <td>MSS</td>\n",
       "      <td>CMS4</td>\n",
       "      <td>CMS3</td>\n",
       "      <td>NaN</td>\n",
       "      <td>0.0</td>\n",
       "    </tr>\n",
       "    <tr>\n",
       "      <th>T_cac1_AAACCTGGTGTGCCTG</th>\n",
       "      <td>T_cac1</td>\n",
       "      <td>Tumor</td>\n",
       "      <td>Right</td>\n",
       "      <td>MSS</td>\n",
       "      <td>CMS4</td>\n",
       "      <td>CMS3</td>\n",
       "      <td>NaN</td>\n",
       "      <td>0.0</td>\n",
       "    </tr>\n",
       "    <tr>\n",
       "      <th>...</th>\n",
       "      <td>...</td>\n",
       "      <td>...</td>\n",
       "      <td>...</td>\n",
       "      <td>...</td>\n",
       "      <td>...</td>\n",
       "      <td>...</td>\n",
       "      <td>...</td>\n",
       "      <td>...</td>\n",
       "    </tr>\n",
       "    <tr>\n",
       "      <th>T_cac9_TTTGGTTCAACACGCC</th>\n",
       "      <td>T_cac9</td>\n",
       "      <td>Tumor</td>\n",
       "      <td>Left</td>\n",
       "      <td>MSS</td>\n",
       "      <td>CMS2</td>\n",
       "      <td>CMS4</td>\n",
       "      <td>NaN</td>\n",
       "      <td>0.0</td>\n",
       "    </tr>\n",
       "    <tr>\n",
       "      <th>T_cac9_TTTGGTTCATAGACTC</th>\n",
       "      <td>T_cac9</td>\n",
       "      <td>Tumor</td>\n",
       "      <td>Left</td>\n",
       "      <td>MSS</td>\n",
       "      <td>CMS2</td>\n",
       "      <td>CMS4</td>\n",
       "      <td>NaN</td>\n",
       "      <td>0.0</td>\n",
       "    </tr>\n",
       "    <tr>\n",
       "      <th>T_cac9_TTTGGTTCATCTATGG</th>\n",
       "      <td>T_cac9</td>\n",
       "      <td>Tumor</td>\n",
       "      <td>Left</td>\n",
       "      <td>MSS</td>\n",
       "      <td>CMS2</td>\n",
       "      <td>CMS1</td>\n",
       "      <td>NaN</td>\n",
       "      <td>0.0</td>\n",
       "    </tr>\n",
       "    <tr>\n",
       "      <th>T_cac9_TTTGGTTTCAATCTCT</th>\n",
       "      <td>T_cac9</td>\n",
       "      <td>Tumor</td>\n",
       "      <td>Left</td>\n",
       "      <td>MSS</td>\n",
       "      <td>CMS2</td>\n",
       "      <td>CMS1</td>\n",
       "      <td>NaN</td>\n",
       "      <td>0.0</td>\n",
       "    </tr>\n",
       "    <tr>\n",
       "      <th>T_cac9_TTTGTCAGTCCAACTA</th>\n",
       "      <td>T_cac9</td>\n",
       "      <td>Tumor</td>\n",
       "      <td>Left</td>\n",
       "      <td>MSS</td>\n",
       "      <td>CMS2</td>\n",
       "      <td>CMS1</td>\n",
       "      <td>NaN</td>\n",
       "      <td>0.0</td>\n",
       "    </tr>\n",
       "  </tbody>\n",
       "</table>\n",
       "<p>31586 rows × 8 columns</p>\n",
       "</div>"
      ],
      "text/plain": [
       "                        samples Condition Location MSI_Status bulk_prediction  \\\n",
       "T_cac1_AAACCTGAGAATAGGG  T_cac1     Tumor    Right        MSS            CMS4   \n",
       "T_cac1_AAACCTGAGCAGCGTA  T_cac1     Tumor    Right        MSS            CMS4   \n",
       "T_cac1_AAACCTGCAATCTGCA  T_cac1     Tumor    Right        MSS            CMS4   \n",
       "T_cac1_AAACCTGGTCTTGCGG  T_cac1     Tumor    Right        MSS            CMS4   \n",
       "T_cac1_AAACCTGGTGTGCCTG  T_cac1     Tumor    Right        MSS            CMS4   \n",
       "...                         ...       ...      ...        ...             ...   \n",
       "T_cac9_TTTGGTTCAACACGCC  T_cac9     Tumor     Left        MSS            CMS2   \n",
       "T_cac9_TTTGGTTCATAGACTC  T_cac9     Tumor     Left        MSS            CMS2   \n",
       "T_cac9_TTTGGTTCATCTATGG  T_cac9     Tumor     Left        MSS            CMS2   \n",
       "T_cac9_TTTGGTTTCAATCTCT  T_cac9     Tumor     Left        MSS            CMS2   \n",
       "T_cac9_TTTGTCAGTCCAACTA  T_cac9     Tumor     Left        MSS            CMS2   \n",
       "\n",
       "                        prediction  percent_chrY  XIST-counts  \n",
       "T_cac1_AAACCTGAGAATAGGG       CMS2           NaN          0.0  \n",
       "T_cac1_AAACCTGAGCAGCGTA       CMS4           NaN          0.0  \n",
       "T_cac1_AAACCTGCAATCTGCA       CMS3           NaN          0.0  \n",
       "T_cac1_AAACCTGGTCTTGCGG       CMS3           NaN          0.0  \n",
       "T_cac1_AAACCTGGTGTGCCTG       CMS3           NaN          0.0  \n",
       "...                            ...           ...          ...  \n",
       "T_cac9_TTTGGTTCAACACGCC       CMS4           NaN          0.0  \n",
       "T_cac9_TTTGGTTCATAGACTC       CMS4           NaN          0.0  \n",
       "T_cac9_TTTGGTTCATCTATGG       CMS1           NaN          0.0  \n",
       "T_cac9_TTTGGTTTCAATCTCT       CMS1           NaN          0.0  \n",
       "T_cac9_TTTGTCAGTCCAACTA       CMS1           NaN          0.0  \n",
       "\n",
       "[31586 rows x 8 columns]"
      ]
     },
     "execution_count": 26,
     "metadata": {},
     "output_type": "execute_result"
    }
   ],
   "source": [
    "khaliq_ad_tumor.obs"
   ]
  },
  {
   "cell_type": "code",
   "execution_count": 25,
   "metadata": {},
   "outputs": [],
   "source": [
    "khaliq_ad_tumor.obs[\"XIST-counts\"] = khaliq_ad_tumor.X[:,khaliq_ad_tumor.var_names.str.match('XIST')]"
   ]
  },
  {
   "cell_type": "code",
   "execution_count": 27,
   "metadata": {},
   "outputs": [
    {
     "data": {
      "image/png": "[encoded data removed]",
      "text/plain": [
       "<Figure size 417.2x320 with 1 Axes>"
      ]
     },
     "metadata": {
      "image/png": {
       "height": 318,
       "width": 481
      }
     },
     "output_type": "display_data"
    }
   ],
   "source": [
    "sc.pl.scatter(khaliq_ad_tumor, x = 'XIST-counts', y = 'percent_chrY', color = \"samples\")"
   ]
  },
  {
   "cell_type": "code",
   "execution_count": 29,
   "metadata": {},
   "outputs": [
    {
     "data": {
      "image/png": "[encoded data removed]",
      "text/plain": [
       "<Figure size 372.24x320 with 1 Axes>"
      ]
     },
     "metadata": {
      "image/png": {
       "height": 319,
       "width": 303
      }
     },
     "output_type": "display_data"
    }
   ],
   "source": [
    "sc.pl.violin(khaliq_ad_tumor, [\"XIST-counts\"], jitter = 0.4, groupby = 'samples', rotation = 45)"
   ]
  },
  {
   "cell_type": "code",
   "execution_count": 32,
   "metadata": {},
   "outputs": [
    {
     "ename": "AttributeError",
     "evalue": "'ArrayView' object has no attribute 'A1'",
     "output_type": "error",
     "traceback": [
      "\u001b[0;31m---------------------------------------------------------------------------\u001b[0m",
      "\u001b[0;31mAttributeError\u001b[0m                            Traceback (most recent call last)",
      "Cell \u001b[0;32mIn [32], line 3\u001b[0m\n\u001b[1;32m      1\u001b[0m \u001b[39m#khaliq_ad_tumor.obs['percent_chrY'] = np.sum(khaliq_ad_tumor[:, chrY_genes].X, axis = 1)/np.sum(khaliq_ad_tumor.X, axis = 1)*100\u001b[39;00m\n\u001b[0;32m----> 3\u001b[0m khaliq_ad_tumor\u001b[39m.\u001b[39mobs[\u001b[39m'\u001b[39m\u001b[39mpercent_chrY\u001b[39m\u001b[39m'\u001b[39m] \u001b[39m=\u001b[39m np\u001b[39m.\u001b[39;49msum(\n\u001b[1;32m      4\u001b[0m     khaliq_ad_tumor[:, chrY_genes]\u001b[39m.\u001b[39;49mX, axis\u001b[39m=\u001b[39;49m\u001b[39m1\u001b[39;49m)\u001b[39m.\u001b[39;49mA1 \u001b[39m/\u001b[39m np\u001b[39m.\u001b[39msum(khaliq_ad_tumor\u001b[39m.\u001b[39mX, axis\u001b[39m=\u001b[39m\u001b[39m1\u001b[39m)\u001b[39m.\u001b[39mA1 \u001b[39m*\u001b[39m \u001b[39m100\u001b[39m\n",
      "\u001b[0;31mAttributeError\u001b[0m: 'ArrayView' object has no attribute 'A1'"
     ]
    }
   ],
   "source": [
    "khaliq_ad_tumor.obs['percent_chrY'] = np.sum(khaliq_ad_tumor[:, chrY_genes].X, axis = 1)/np.sum(khaliq_ad_tumor.X, axis = 1)*100"
   ]
  },
  {
   "cell_type": "code",
   "execution_count": 33,
   "metadata": {},
   "outputs": [
    {
     "data": {
      "text/plain": [
       "ArrayView([ 0., 17.,  0., ...,  4.,  0.,  5.], dtype=float32)"
      ]
     },
     "execution_count": 33,
     "metadata": {},
     "output_type": "execute_result"
    }
   ],
   "source": [
    "np.sum(khaliq_ad_tumor[:, chrY_genes].X, axis = 1)"
   ]
  },
  {
   "cell_type": "code",
   "execution_count": 35,
   "metadata": {},
   "outputs": [
    {
     "data": {
      "text/plain": [
       "array([  922., 11519.,   831., ...,  3283.,   995.,  3251.], dtype=float32)"
      ]
     },
     "execution_count": 35,
     "metadata": {},
     "output_type": "execute_result"
    }
   ],
   "source": [
    "np.sum(khaliq_ad_tumor.X, axis = 1)"
   ]
  },
  {
   "cell_type": "code",
   "execution_count": 36,
   "metadata": {},
   "outputs": [
    {
     "data": {
      "text/plain": [
       "ArrayView([0.        , 0.00147582, 0.        , ..., 0.0012184 ,\n",
       "           0.        , 0.00153799], dtype=float32)"
      ]
     },
     "execution_count": 36,
     "metadata": {},
     "output_type": "execute_result"
    }
   ],
   "source": [
    "np.sum(khaliq_ad_tumor[:, chrY_genes].X, axis = 1)/np.sum(khaliq_ad_tumor.X, axis = 1)"
   ]
  },
  {
   "cell_type": "code",
   "execution_count": 37,
   "metadata": {},
   "outputs": [
    {
     "data": {
      "text/plain": [
       "ArrayView([0.        , 0.14758225, 0.        , ..., 0.12183978,\n",
       "           0.        , 0.15379883], dtype=float32)"
      ]
     },
     "execution_count": 37,
     "metadata": {},
     "output_type": "execute_result"
    }
   ],
   "source": [
    "np.sum(khaliq_ad_tumor[:, chrY_genes].X, axis = 1)/np.sum(khaliq_ad_tumor.X, axis = 1)*100"
   ]
  },
  {
   "cell_type": "code",
   "execution_count": 38,
   "metadata": {},
   "outputs": [],
   "source": [
    "khaliq_ad_tumor.obs['percent_chrY'] = np.sum(khaliq_ad_tumor[:, chrY_genes].X, axis = 1)/np.sum(khaliq_ad_tumor.X, axis = 1)*100"
   ]
  },
  {
   "cell_type": "code",
   "execution_count": 39,
   "metadata": {},
   "outputs": [
    {
     "data": {
      "text/html": [
       "<div>\n",
       "<style scoped>\n",
       "    .dataframe tbody tr th:only-of-type {\n",
       "        vertical-align: middle;\n",
       "    }\n",
       "\n",
       "    .dataframe tbody tr th {\n",
       "        vertical-align: top;\n",
       "    }\n",
       "\n",
       "    .dataframe thead th {\n",
       "        text-align: right;\n",
       "    }\n",
       "</style>\n",
       "<table border=\"1\" class=\"dataframe\">\n",
       "  <thead>\n",
       "    <tr style=\"text-align: right;\">\n",
       "      <th></th>\n",
       "      <th>samples</th>\n",
       "      <th>Condition</th>\n",
       "      <th>Location</th>\n",
       "      <th>MSI_Status</th>\n",
       "      <th>bulk_prediction</th>\n",
       "      <th>prediction</th>\n",
       "      <th>percent_chrY</th>\n",
       "      <th>XIST-counts</th>\n",
       "    </tr>\n",
       "  </thead>\n",
       "  <tbody>\n",
       "    <tr>\n",
       "      <th>T_cac1_AAACCTGAGAATAGGG</th>\n",
       "      <td>T_cac1</td>\n",
       "      <td>Tumor</td>\n",
       "      <td>Right</td>\n",
       "      <td>MSS</td>\n",
       "      <td>CMS4</td>\n",
       "      <td>CMS2</td>\n",
       "      <td>NaN</td>\n",
       "      <td>0.0</td>\n",
       "    </tr>\n",
       "    <tr>\n",
       "      <th>T_cac1_AAACCTGAGCAGCGTA</th>\n",
       "      <td>T_cac1</td>\n",
       "      <td>Tumor</td>\n",
       "      <td>Right</td>\n",
       "      <td>MSS</td>\n",
       "      <td>CMS4</td>\n",
       "      <td>CMS4</td>\n",
       "      <td>NaN</td>\n",
       "      <td>0.0</td>\n",
       "    </tr>\n",
       "    <tr>\n",
       "      <th>T_cac1_AAACCTGCAATCTGCA</th>\n",
       "      <td>T_cac1</td>\n",
       "      <td>Tumor</td>\n",
       "      <td>Right</td>\n",
       "      <td>MSS</td>\n",
       "      <td>CMS4</td>\n",
       "      <td>CMS3</td>\n",
       "      <td>NaN</td>\n",
       "      <td>0.0</td>\n",
       "    </tr>\n",
       "    <tr>\n",
       "      <th>T_cac1_AAACCTGGTCTTGCGG</th>\n",
       "      <td>T_cac1</td>\n",
       "      <td>Tumor</td>\n",
       "      <td>Right</td>\n",
       "      <td>MSS</td>\n",
       "      <td>CMS4</td>\n",
       "      <td>CMS3</td>\n",
       "      <td>NaN</td>\n",
       "      <td>0.0</td>\n",
       "    </tr>\n",
       "    <tr>\n",
       "      <th>T_cac1_AAACCTGGTGTGCCTG</th>\n",
       "      <td>T_cac1</td>\n",
       "      <td>Tumor</td>\n",
       "      <td>Right</td>\n",
       "      <td>MSS</td>\n",
       "      <td>CMS4</td>\n",
       "      <td>CMS3</td>\n",
       "      <td>NaN</td>\n",
       "      <td>0.0</td>\n",
       "    </tr>\n",
       "    <tr>\n",
       "      <th>...</th>\n",
       "      <td>...</td>\n",
       "      <td>...</td>\n",
       "      <td>...</td>\n",
       "      <td>...</td>\n",
       "      <td>...</td>\n",
       "      <td>...</td>\n",
       "      <td>...</td>\n",
       "      <td>...</td>\n",
       "    </tr>\n",
       "    <tr>\n",
       "      <th>T_cac9_TTTGGTTCAACACGCC</th>\n",
       "      <td>T_cac9</td>\n",
       "      <td>Tumor</td>\n",
       "      <td>Left</td>\n",
       "      <td>MSS</td>\n",
       "      <td>CMS2</td>\n",
       "      <td>CMS4</td>\n",
       "      <td>NaN</td>\n",
       "      <td>0.0</td>\n",
       "    </tr>\n",
       "    <tr>\n",
       "      <th>T_cac9_TTTGGTTCATAGACTC</th>\n",
       "      <td>T_cac9</td>\n",
       "      <td>Tumor</td>\n",
       "      <td>Left</td>\n",
       "      <td>MSS</td>\n",
       "      <td>CMS2</td>\n",
       "      <td>CMS4</td>\n",
       "      <td>NaN</td>\n",
       "      <td>0.0</td>\n",
       "    </tr>\n",
       "    <tr>\n",
       "      <th>T_cac9_TTTGGTTCATCTATGG</th>\n",
       "      <td>T_cac9</td>\n",
       "      <td>Tumor</td>\n",
       "      <td>Left</td>\n",
       "      <td>MSS</td>\n",
       "      <td>CMS2</td>\n",
       "      <td>CMS1</td>\n",
       "      <td>NaN</td>\n",
       "      <td>0.0</td>\n",
       "    </tr>\n",
       "    <tr>\n",
       "      <th>T_cac9_TTTGGTTTCAATCTCT</th>\n",
       "      <td>T_cac9</td>\n",
       "      <td>Tumor</td>\n",
       "      <td>Left</td>\n",
       "      <td>MSS</td>\n",
       "      <td>CMS2</td>\n",
       "      <td>CMS1</td>\n",
       "      <td>NaN</td>\n",
       "      <td>0.0</td>\n",
       "    </tr>\n",
       "    <tr>\n",
       "      <th>T_cac9_TTTGTCAGTCCAACTA</th>\n",
       "      <td>T_cac9</td>\n",
       "      <td>Tumor</td>\n",
       "      <td>Left</td>\n",
       "      <td>MSS</td>\n",
       "      <td>CMS2</td>\n",
       "      <td>CMS1</td>\n",
       "      <td>NaN</td>\n",
       "      <td>0.0</td>\n",
       "    </tr>\n",
       "  </tbody>\n",
       "</table>\n",
       "<p>31586 rows × 8 columns</p>\n",
       "</div>"
      ],
      "text/plain": [
       "                        samples Condition Location MSI_Status bulk_prediction  \\\n",
       "T_cac1_AAACCTGAGAATAGGG  T_cac1     Tumor    Right        MSS            CMS4   \n",
       "T_cac1_AAACCTGAGCAGCGTA  T_cac1     Tumor    Right        MSS            CMS4   \n",
       "T_cac1_AAACCTGCAATCTGCA  T_cac1     Tumor    Right        MSS            CMS4   \n",
       "T_cac1_AAACCTGGTCTTGCGG  T_cac1     Tumor    Right        MSS            CMS4   \n",
       "T_cac1_AAACCTGGTGTGCCTG  T_cac1     Tumor    Right        MSS            CMS4   \n",
       "...                         ...       ...      ...        ...             ...   \n",
       "T_cac9_TTTGGTTCAACACGCC  T_cac9     Tumor     Left        MSS            CMS2   \n",
       "T_cac9_TTTGGTTCATAGACTC  T_cac9     Tumor     Left        MSS            CMS2   \n",
       "T_cac9_TTTGGTTCATCTATGG  T_cac9     Tumor     Left        MSS            CMS2   \n",
       "T_cac9_TTTGGTTTCAATCTCT  T_cac9     Tumor     Left        MSS            CMS2   \n",
       "T_cac9_TTTGTCAGTCCAACTA  T_cac9     Tumor     Left        MSS            CMS2   \n",
       "\n",
       "                        prediction  percent_chrY  XIST-counts  \n",
       "T_cac1_AAACCTGAGAATAGGG       CMS2           NaN          0.0  \n",
       "T_cac1_AAACCTGAGCAGCGTA       CMS4           NaN          0.0  \n",
       "T_cac1_AAACCTGCAATCTGCA       CMS3           NaN          0.0  \n",
       "T_cac1_AAACCTGGTCTTGCGG       CMS3           NaN          0.0  \n",
       "T_cac1_AAACCTGGTGTGCCTG       CMS3           NaN          0.0  \n",
       "...                            ...           ...          ...  \n",
       "T_cac9_TTTGGTTCAACACGCC       CMS4           NaN          0.0  \n",
       "T_cac9_TTTGGTTCATAGACTC       CMS4           NaN          0.0  \n",
       "T_cac9_TTTGGTTCATCTATGG       CMS1           NaN          0.0  \n",
       "T_cac9_TTTGGTTTCAATCTCT       CMS1           NaN          0.0  \n",
       "T_cac9_TTTGTCAGTCCAACTA       CMS1           NaN          0.0  \n",
       "\n",
       "[31586 rows x 8 columns]"
      ]
     },
     "execution_count": 39,
     "metadata": {},
     "output_type": "execute_result"
    }
   ],
   "source": [
    "khaliq_ad_tumor.obs"
   ]
  }
 ],
 "metadata": {
  "kernelspec": {
   "display_name": "Python 3.9.13 ('biomart')",
   "language": "python",
   "name": "python3"
  },
  "language_info": {
   "codemirror_mode": {
    "name": "ipython",
    "version": 3
   },
   "file_extension": ".py",
   "mimetype": "text/x-python",
   "name": "python",
   "nbconvert_exporter": "python",
   "pygments_lexer": "ipython3",
   "version": "3.9.13"
  },
  "orig_nbformat": 4,
  "vscode": {
   "interpreter": {
    "hash": "c62b7b4516cae7df0ece476231dbd098a0d11fa9230eec73046aa230b9b6019f"
   }
  }
 },
 "nbformat": 4,
 "nbformat_minor": 2
}
