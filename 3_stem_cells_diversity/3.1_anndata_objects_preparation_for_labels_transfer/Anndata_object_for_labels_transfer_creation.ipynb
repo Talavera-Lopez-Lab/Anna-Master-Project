{
 "cells": [
  {
   "attachments": {},
   "cell_type": "markdown",
   "metadata": {},
   "source": [
    "## Notebook for anndata objects for labels transfer creations\n",
    "\n",
    "- **Developed by**: Anna Maguza\n",
    "- **Institute of Computational Biology - Computational Health Centre - Helmholtz Munich**\n",
    "- 21st April 2023"
   ]
  },
  {
   "cell_type": "markdown",
   "metadata": {},
   "source": [
    "### Load required modules"
   ]
  },
  {
   "cell_type": "code",
   "execution_count": 77,
   "metadata": {},
   "outputs": [],
   "source": [
    "import scanpy as sc\n",
    "import matplotlib.pyplot as plt\n",
    "import numpy as np\n",
    "import pandas as pd\n",
    "import anndata as an"
   ]
  },
  {
   "cell_type": "code",
   "execution_count": 78,
   "metadata": {},
   "outputs": [],
   "source": [
    "def X_is_raw(adata):\n",
    "    return np.array_equal(adata.X.sum(axis=0).astype(int), adata.X.sum(axis=0))"
   ]
  },
  {
   "cell_type": "markdown",
   "metadata": {},
   "source": [
    "### Read in datasets"
   ]
  },
  {
   "cell_type": "code",
   "execution_count": 79,
   "metadata": {},
   "outputs": [],
   "source": [
    "# Read reference (Kong-2023 dataset)\n",
    "input_Kong = '/Users/anna.maguza/Desktop/Data/Gut_project/Healthy_gut_data/Kong_2023/Raw_anndata/Kong_2023_raw_anndata.h5ad'\n",
    "output_Kong = '/Users/anna.maguza/Desktop/Data/Gut_project/Healthy_gut_data/Kong_2023/Processed_anndata/Kong_2023_raw_anndata_output.h5ad'\n",
    "reference = sc.read(input_Kong)"
   ]
  },
  {
   "cell_type": "code",
   "execution_count": 80,
   "metadata": {},
   "outputs": [],
   "source": [
    "# Read query (predicted Stem cells)\n",
    "input_Stem = '/Users/anna.maguza/Desktop/Data/Processed_datasets/Predicted_stem_cells/Predicted_stem_cells.h5ad'\n",
    "output_Stem = '/Users/anna.maguza/Desktop/Data/Processed_datasets/Predicted_stem_cells/Predicted_stem_cells_output.h5ad'\n",
    "query = sc.read(input_Stem)"
   ]
  },
  {
   "cell_type": "markdown",
   "metadata": {},
   "source": [
    "### Preprocess datasets"
   ]
  },
  {
   "cell_type": "code",
   "execution_count": 81,
   "metadata": {},
   "outputs": [
    {
     "data": {
      "text/plain": [
       "True"
      ]
     },
     "execution_count": 81,
     "metadata": {},
     "output_type": "execute_result"
    }
   ],
   "source": [
    "X_is_raw(query)"
   ]
  },
  {
   "cell_type": "code",
   "execution_count": 82,
   "metadata": {},
   "outputs": [
    {
     "data": {
      "text/plain": [
       "True"
      ]
     },
     "execution_count": 82,
     "metadata": {},
     "output_type": "execute_result"
    }
   ],
   "source": [
    "X_is_raw(reference)"
   ]
  },
  {
   "cell_type": "code",
   "execution_count": 83,
   "metadata": {},
   "outputs": [],
   "source": [
    "# Filter out only healthy samples\n",
    "reference = reference[reference.obs['disease__ontology_label'] == 'normal']"
   ]
  },
  {
   "cell_type": "code",
   "execution_count": 84,
   "metadata": {},
   "outputs": [],
   "source": [
    "# Copy gene_id column in query.var as a first column in query.var with a name 'gene_name'\n",
    "query.var.insert(0, 'gene_name', query.var.index)\n",
    "# Make a gene name as index\n",
    "query.var.index = query.var['gene_name']\n",
    "# Delete gene_name column\n",
    "del query.var['gene_name']"
   ]
  },
  {
   "cell_type": "code",
   "execution_count": 85,
   "metadata": {},
   "outputs": [],
   "source": [
    "# Filter cells that have 'Stem cells' in reference.obs['Celltype']\n",
    "stem_cells_list = ['Stem cells OLFM4 LGR5', 'Stem cells OLFM4 PCNA', 'Stem cells OLFM4 GSTA1', 'Stem cells OLFM4']\n",
    "reference = reference[reference.obs['Celltype'].isin(stem_cells_list)]"
   ]
  },
  {
   "cell_type": "code",
   "execution_count": 86,
   "metadata": {},
   "outputs": [
    {
     "name": "stderr",
     "output_type": "stream",
     "text": [
      "/var/folders/gb/wwnzrh015q9dns5cmsc3xcjsxglkqz/T/ipykernel_33248/2497720154.py:2: ImplicitModificationWarning: Trying to modify attribute `.obs` of view, initializing view as actual.\n",
      "  reference.obs['Site'] = reference.obs['Site'].replace('CO', 'Colon')\n"
     ]
    }
   ],
   "source": [
    "# Change 'CO' in Kong_adata.obs['Site'] to 'Colon', 'TI' to 'Terminal Ileum', and 'SB' to 'Small Bowel'\n",
    "reference.obs['Site'] = reference.obs['Site'].replace('CO', 'Colon')\n",
    "reference.obs['Site'] = reference.obs['Site'].replace('TI', 'Terminal Ileum')\n",
    "reference.obs['Site'] = reference.obs['Site'].replace('SB', 'Small Bowel')"
   ]
  },
  {
   "cell_type": "code",
   "execution_count": 87,
   "metadata": {},
   "outputs": [],
   "source": [
    "# Rename 'donor_id' column in reference.obs to 'Donor_ID'\n",
    "reference.obs.rename(columns = {'donor_id': 'Donor_ID'}, inplace = True)\n",
    "reference.obs['Study_name'] = 'Kong 2023'\n",
    "reference.obs.rename(columns = {'biosample_id': 'Sample_ID'}, inplace = True)\n",
    "reference.obs.rename(columns = {'Site': 'Location'}, inplace = True)\n",
    "#reference.obs.rename(columns = {'cell_type': 'Celltype'}, inplace = True)\n",
    "query.obs.rename(columns = {'10X': 'Library_Preparation_Protocol'}, inplace = True)\n",
    "reference.obs.rename(columns = {'library_preparation_protocol__ontology_label': 'Library_Preparation_Protocol'}, inplace = True)"
   ]
  },
  {
   "cell_type": "code",
   "execution_count": 88,
   "metadata": {},
   "outputs": [],
   "source": [
    "# Make gene_id as a first column in adata.var\n",
    "reference.var.insert(0, 'gene_id', reference.var.index)\n",
    "# Make a gene name as index \n",
    "reference.var.index = reference.var['gene_name']\n",
    "\n",
    "reference.obs_names_make_unique()\n",
    "query.obs_names_make_unique()\n",
    "reference.var_names_make_unique()\n",
    "query.var_names_make_unique()"
   ]
  },
  {
   "cell_type": "code",
   "execution_count": 89,
   "metadata": {},
   "outputs": [],
   "source": [
    "# Change Geneder to the same values\n",
    "reference.obs['sex'] = reference.obs['sex'].replace('male', 'Male')\n",
    "reference.obs['sex'] = reference.obs['sex'].replace('female', 'Female')\n",
    "reference.obs.rename(columns = {'sex': 'Gender'}, inplace = True)\n",
    "query.obs['Gender'] = query.obs['Gender'].replace('M', 'Male')\n",
    "query.obs['Gender'] = query.obs['Gender'].replace('F', 'Female')"
   ]
  },
  {
   "cell_type": "code",
   "execution_count": 90,
   "metadata": {},
   "outputs": [],
   "source": [
    "# Add 'Female' to sex column in adata.obs for donor_id= 101694 , 110216 , 139073 , 152638 , 157844 , 158160 , 199129 , N8 , N10 , N13, N18 , N20 , N21\n",
    "female_donors = ['101694', '110216', '139073', '152638', '157844', '158160', '199129', 'N8', 'N10', 'N13', 'N18', 'N20', 'N21']\n",
    "\n",
    "reference.obs['Gender'] = ['Female' if donor in female_donors else 'Male' for donor in reference.obs['Donor_ID']]"
   ]
  },
  {
   "cell_type": "code",
   "execution_count": 91,
   "metadata": {},
   "outputs": [],
   "source": [
    "# Uniform the values in the 'Diagnosis' column\n",
    "query.obs['Diagnosis'] = query.obs['Diagnosis'].replace('fetal', 'Fetal Healthy')\n",
    "query.obs['Diagnosis'] = query.obs['Diagnosis'].replace('Healthy', 'Healthy adult')\n",
    "query.obs['Diagnosis'] = query.obs['Diagnosis'].replace('nan', 'Healthy adult')\n",
    "query.obs['Diagnosis'] = query.obs['Diagnosis'].replace('Non-inflamed', 'Adult Ulcerative Colitis Non-inflamed')\n",
    "reference.obs['disease__ontology_label'] = reference.obs['disease__ontology_label'].replace('normal', 'Healthy adult')\n",
    "reference.obs.rename(columns = {'disease__ontology_label': 'Diagnosis'}, inplace = True)\n"
   ]
  },
  {
   "cell_type": "code",
   "execution_count": 92,
   "metadata": {},
   "outputs": [],
   "source": [
    "reference.obs.rename(columns = {'Celltype': 'Cell States Kong'}, inplace = True)\n",
    "reference.obs['Cell States'] = 'Stem_Cells_ext'\n",
    "reference.obs.rename(columns = {'cell_type': 'Cell Type'}, inplace = True)\n",
    "query.obs.rename(columns = {'CellType': 'Cell Type'}, inplace = True)"
   ]
  },
  {
   "cell_type": "code",
   "execution_count": 93,
   "metadata": {},
   "outputs": [],
   "source": [
    "query.obs['Age_group'] = query.obs['Age_group'].replace('nan', 'Adult')\n",
    "reference.obs['Age_group'] = 'Adult'"
   ]
  },
  {
   "cell_type": "code",
   "execution_count": 94,
   "metadata": {},
   "outputs": [],
   "source": [
    "# Drop unnecessary columns\n",
    "reference.obs.drop(columns = ['organ', 'tissue', 'Type', 'library_preparation_protocol', 'disease', 'organ__ontology_label', 'species', 'species__ontology_label'], inplace = True)"
   ]
  },
  {
   "cell_type": "code",
   "execution_count": 95,
   "metadata": {},
   "outputs": [],
   "source": [
    "# Replace the \"nan\" or \"NaN\" string in the Sample_ID column\n",
    "query.obs['Sample_ID'] = query.obs.apply(\n",
    "    lambda row: row['Sample_ID'] if row['Sample_ID'].lower() != \"nan\" else\n",
    "    (row['Donor_ID'] + '_' + str(row['Age']) + '_' + row['Region code'] + '_' + str(row['Fraction'])),\n",
    "    axis=1\n",
    ")\n",
    "\n",
    "query.obs['Donor_ID'] = query.obs['Donor_ID'].astype('str')\n",
    "query.obs['Age'] = query.obs['Age'].astype('str')\n",
    "query.obs['Region code'] = query.obs['Region code'].astype('str')\n",
    "query.obs['Fraction'] = query.obs['Fraction'].astype('str')\n",
    "\n",
    "query.obs['Sample_ID'] = query.obs['Sample_ID'].where(\n",
    "    pd.notna(query.obs['Sample_ID']),\n",
    "    query.obs['Donor_ID'] + '_' + query.obs['Age'].astype(str) + '_' +\n",
    "    query.obs['Region code'] + '_' + query.obs['Fraction'].astype(str)\n",
    ")"
   ]
  },
  {
   "cell_type": "code",
   "execution_count": 96,
   "metadata": {},
   "outputs": [],
   "source": [
    "reference.obs['seed_labels'] = reference.obs['Cell States Kong'].copy()\n",
    "query.obs['seed_labels'] = 'Unlabeled'"
   ]
  },
  {
   "attachments": {},
   "cell_type": "markdown",
   "metadata": {},
   "source": [
    "### Concatenate reference and query"
   ]
  },
  {
   "cell_type": "code",
   "execution_count": 97,
   "metadata": {},
   "outputs": [
    {
     "name": "stderr",
     "output_type": "stream",
     "text": [
      "/Users/anna.maguza/miniconda3/envs/scanpy_env/lib/python3.9/site-packages/anndata/_core/anndata.py:1785: FutureWarning: X.dtype being converted to np.float32 from float64. In the next version of anndata (0.9) conversion will not be automatic. Pass dtype explicitly to avoid this warning. Pass `AnnData(X, dtype=X.dtype, ...)` to get the future behavour.\n",
      "  [AnnData(sparse.csr_matrix(a.shape), obs=a.obs) for a in all_adatas],\n"
     ]
    }
   ],
   "source": [
    "# Concatenate reference and query\n",
    "adata = reference.concatenate(query, batch_key = 'dataset', batch_categories = ['reference', 'query'])"
   ]
  },
  {
   "cell_type": "code",
   "execution_count": 98,
   "metadata": {},
   "outputs": [],
   "source": [
    "del reference, query"
   ]
  },
  {
   "cell_type": "code",
   "execution_count": 99,
   "metadata": {},
   "outputs": [
    {
     "data": {
      "text/plain": [
       "True"
      ]
     },
     "execution_count": 99,
     "metadata": {},
     "output_type": "execute_result"
    }
   ],
   "source": [
    "X_is_raw(adata)"
   ]
  },
  {
   "cell_type": "code",
   "execution_count": 100,
   "metadata": {},
   "outputs": [
    {
     "data": {
      "text/plain": [
       "Unlabeled                 14938\n",
       "Stem cells OLFM4           7053\n",
       "Stem cells OLFM4 LGR5      4972\n",
       "Stem cells OLFM4 PCNA      2931\n",
       "Stem cells OLFM4 GSTA1     1404\n",
       "Name: seed_labels, dtype: int64"
      ]
     },
     "execution_count": 100,
     "metadata": {},
     "output_type": "execute_result"
    }
   ],
   "source": [
    "adata.obs['seed_labels'].value_counts()"
   ]
  },
  {
   "cell_type": "code",
   "execution_count": 101,
   "metadata": {},
   "outputs": [],
   "source": [
    "# Calculate quality control metrics\n",
    "sc.pp.calculate_qc_metrics(adata, inplace=True)\n",
    "\n",
    "# Calculate mitochondrial and rybosomal fraction\n",
    "adata.var['mito'] = adata.var_names.str.startswith((\"MT-\"))  # annotate the group of ribosomal genes as 'ribo'\n",
    "sc.pp.calculate_qc_metrics(adata, qc_vars=['mito'], percent_top=None, log1p=False, inplace=True)\n",
    "adata.var['ribo'] = adata.var_names.str.startswith((\"RPS\",\"RPL\"))  # annotate the group of ribosomal genes as 'ribo'\n",
    "sc.pp.calculate_qc_metrics(adata, qc_vars=['ribo'], percent_top=None, log1p=False, inplace=True)"
   ]
  },
  {
   "cell_type": "code",
   "execution_count": 102,
   "metadata": {},
   "outputs": [],
   "source": [
    "del adata.obs['n_genes'], adata.obs['n_counts'], adata.obs['log1p_n_genes_by_counts'], adata.obs['log1p_total_counts'], adata.obs['pct_counts_in_top_50_genes'], adata.obs['pct_counts_in_top_100_genes'], adata.obs['pct_counts_in_top_200_genes'], adata.obs['pct_counts_in_top_500_genes'], adata.obs['percent_mito'], adata.obs['percent_ribo'], adata.obs['total_counts_mt']"
   ]
  },
  {
   "cell_type": "code",
   "execution_count": 103,
   "metadata": {},
   "outputs": [
    {
     "data": {
      "text/plain": [
       "<bound method AnnData.obs_keys of AnnData object with n_obs × n_vars = 31298 × 23616\n",
       "    obs: 'Cell Type', 'batch', 'Sample_ID', 'Chem', 'Location', 'Donor_ID', 'Layer', 'Cell States Kong', 'Gender', 'Library_Preparation_Protocol', 'Diagnosis', 'Study_name', 'Cell States', 'Age_group', 'seed_labels', 'UniqueCell_ID', 'Age', 'Region code', 'Fraction', 'n_genes_by_counts', 'doublet_scores', 'predicted_doublets', 'total_counts_ribo', 'Cell Label', 'dataset', 'total_counts', 'total_counts_mito', 'pct_counts_mito', 'pct_counts_ribo'\n",
       "    var: 'gene_id-reference', 'gene_name-reference', 'n_cells_by_counts', 'mean_counts', 'log1p_mean_counts', 'pct_dropout_by_counts', 'total_counts', 'log1p_total_counts', 'mito', 'ribo'>"
      ]
     },
     "execution_count": 103,
     "metadata": {},
     "output_type": "execute_result"
    }
   ],
   "source": [
    "adata.obs_keys"
   ]
  },
  {
   "cell_type": "code",
   "execution_count": 104,
   "metadata": {},
   "outputs": [],
   "source": [
    "# Save the adata object\n",
    "adata.write_h5ad('/Users/anna.maguza/Desktop/Data/Processed_datasets/Stem_cells_diversity/Initial_anndata/predicted_stem_cells_and_Kong_all_genes.h5ad')"
   ]
  },
  {
   "attachments": {},
   "cell_type": "markdown",
   "metadata": {},
   "source": [
    "### Calculate Highly Variable Genes"
   ]
  },
  {
   "attachments": {},
   "cell_type": "markdown",
   "metadata": {},
   "source": [
    "#### 3000 HVGs"
   ]
  },
  {
   "cell_type": "code",
   "execution_count": 105,
   "metadata": {},
   "outputs": [],
   "source": [
    "# Make a copy of the original data\n",
    "adata_raw = adata.copy()"
   ]
  },
  {
   "cell_type": "code",
   "execution_count": 106,
   "metadata": {},
   "outputs": [],
   "source": [
    "adata.layers['counts'] = adata.X.copy()"
   ]
  },
  {
   "cell_type": "code",
   "execution_count": 107,
   "metadata": {},
   "outputs": [],
   "source": [
    "# Calculate 3000 HVGs\n",
    "sc.pp.highly_variable_genes(\n",
    "    adata,\n",
    "    flavor = \"seurat_v3\",\n",
    "    n_top_genes = 3000,\n",
    "    layer = \"counts\",\n",
    "    batch_key = \"Library_Preparation_Protocol\",\n",
    "    subset = True,\n",
    "    span = 1\n",
    ")"
   ]
  },
  {
   "cell_type": "code",
   "execution_count": 108,
   "metadata": {},
   "outputs": [],
   "source": [
    "# Save the adata object\n",
    "adata.write_h5ad('/Users/anna.maguza/Desktop/Data/Processed_datasets/Stem_cells_diversity/Initial_anndata/predicted_stem_cells_and_Kong_3K.h5ad')"
   ]
  },
  {
   "attachments": {},
   "cell_type": "markdown",
   "metadata": {},
   "source": [
    "#### 5000 HVGs"
   ]
  },
  {
   "cell_type": "code",
   "execution_count": 109,
   "metadata": {},
   "outputs": [],
   "source": [
    "adata = adata_raw.copy()"
   ]
  },
  {
   "cell_type": "code",
   "execution_count": 110,
   "metadata": {},
   "outputs": [],
   "source": [
    "adata.layers['counts'] = adata.X.copy()"
   ]
  },
  {
   "cell_type": "code",
   "execution_count": 111,
   "metadata": {},
   "outputs": [],
   "source": [
    "# Calculate 3000 HVGs\n",
    "sc.pp.highly_variable_genes(\n",
    "    adata,\n",
    "    flavor = \"seurat_v3\",\n",
    "    n_top_genes = 5000,\n",
    "    layer = \"counts\",\n",
    "    batch_key = \"Library_Preparation_Protocol\",\n",
    "    subset = True,\n",
    "    span = 1\n",
    ")"
   ]
  },
  {
   "cell_type": "code",
   "execution_count": 112,
   "metadata": {},
   "outputs": [],
   "source": [
    "# Save the adata object\n",
    "adata.write_h5ad('/Users/anna.maguza/Desktop/Data/Processed_datasets/Stem_cells_diversity/Initial_anndata/predicted_stem_cells_and_Kong_5K.h5ad')"
   ]
  },
  {
   "attachments": {},
   "cell_type": "markdown",
   "metadata": {},
   "source": [
    "#### 7000 HVGs"
   ]
  },
  {
   "cell_type": "code",
   "execution_count": 113,
   "metadata": {},
   "outputs": [],
   "source": [
    "adata = adata_raw.copy()"
   ]
  },
  {
   "cell_type": "code",
   "execution_count": 114,
   "metadata": {},
   "outputs": [],
   "source": [
    "adata.layers['counts'] = adata.X.copy()"
   ]
  },
  {
   "cell_type": "code",
   "execution_count": 115,
   "metadata": {},
   "outputs": [],
   "source": [
    "# Calculate 3000 HVGs\n",
    "sc.pp.highly_variable_genes(\n",
    "    adata,\n",
    "    flavor = \"seurat_v3\",\n",
    "    n_top_genes = 7000,\n",
    "    layer = \"counts\",\n",
    "    batch_key = \"Library_Preparation_Protocol\",\n",
    "    subset = True,\n",
    "    span = 1\n",
    ")"
   ]
  },
  {
   "cell_type": "code",
   "execution_count": 116,
   "metadata": {},
   "outputs": [],
   "source": [
    "# Save the adata object\n",
    "adata.write_h5ad('/Users/anna.maguza/Desktop/Data/Processed_datasets/Stem_cells_diversity/Initial_anndata/predicted_stem_cells_and_Kong_7K.h5ad')"
   ]
  }
 ],
 "metadata": {
  "kernelspec": {
   "display_name": "scanpy_env",
   "language": "python",
   "name": "python3"
  },
  "language_info": {
   "codemirror_mode": {
    "name": "ipython",
    "version": 3
   },
   "file_extension": ".py",
   "mimetype": "text/x-python",
   "name": "python",
   "nbconvert_exporter": "python",
   "pygments_lexer": "ipython3",
   "version": "3.9.16"
  },
  "orig_nbformat": 4
 },
 "nbformat": 4,
 "nbformat_minor": 2
}
