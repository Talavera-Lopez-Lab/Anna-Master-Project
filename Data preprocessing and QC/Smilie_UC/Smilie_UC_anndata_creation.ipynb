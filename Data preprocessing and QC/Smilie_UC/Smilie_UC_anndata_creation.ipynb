{
 "cells": [
  {
   "cell_type": "markdown",
   "metadata": {},
   "source": [
    "## Notebook for Smilie anndata file creation \n",
    "### Developed by: Anna Maguza\n",
    "\n",
    "### Institute of Computational Biology - Computational Health Centre - Hemlholtz Munich\n",
    "\n",
    "### 10 February 2022"
   ]
  },
  {
   "cell_type": "markdown",
   "metadata": {},
   "source": [
    "#### Load packages"
   ]
  },
  {
   "cell_type": "code",
   "execution_count": 1,
   "metadata": {},
   "outputs": [],
   "source": [
    "import numpy as np\n",
    "import pandas as pd\n",
    "import scanpy as sc\n",
    "import anndata as an\n",
    "import h5py\n",
    "from scipy.io import mmread\n",
    "from scipy.sparse import coo_matrix\n",
    "import matplotlib.pyplot as plt\n",
    "import scipy as sci"
   ]
  },
  {
   "cell_type": "markdown",
   "metadata": {},
   "source": [
    "#### Setup Cells"
   ]
  },
  {
   "cell_type": "code",
   "execution_count": 2,
   "metadata": {},
   "outputs": [],
   "source": [
    "%matplotlib inline"
   ]
  },
  {
   "cell_type": "code",
   "execution_count": 3,
   "metadata": {},
   "outputs": [
    {
     "name": "stderr",
     "output_type": "stream",
     "text": [
      "/home/icb/anna.maguza/miniconda3/envs/scanpy_env/lib/python3.9/site-packages/tqdm/auto.py:22: TqdmWarning: IProgress not found. Please update jupyter and ipywidgets. See https://ipywidgets.readthedocs.io/en/stable/user_install.html\n",
      "  from .autonotebook import tqdm as notebook_tqdm\n"
     ]
    },
    {
     "name": "stdout",
     "output_type": "stream",
     "text": [
      "scanpy==1.9.1 anndata==0.8.0 umap==0.5.3 numpy==1.21.5 scipy==1.7.3 pandas==1.5.1 scikit-learn==1.1.3 statsmodels==0.13.2 pynndescent==0.5.8\n"
     ]
    }
   ],
   "source": [
    "sc.settings.verbosity = 3             # verbosity: errors (0), warnings (1), info (2), hints (3)\n",
    "sc.logging.print_header()\n",
    "sc.settings.set_figure_params(dpi=80, facecolor='white')"
   ]
  },
  {
   "cell_type": "markdown",
   "metadata": {},
   "source": [
    "#### Data Upload"
   ]
  },
  {
   "cell_type": "code",
   "execution_count": 4,
   "metadata": {},
   "outputs": [],
   "source": [
    "#Upload barcodes (tsv file) and gene names (tsv file) \n",
    "#Epithelial cells\n",
    "epi_barcodes = pd.read_csv('/lustre/groups/talaveralopez/datasets/Colorectal_cancer/Raw_data/Smillie_ulcerative_colitis/Epi.barcodes2.tsv', sep='\\t', header=None)\n",
    "epi_genes = pd.read_csv('/lustre/groups/talaveralopez/datasets/Colorectal_cancer/Raw_data/Smillie_ulcerative_colitis/Epi.genes.tsv', sep='\\t', header=None)\n",
    "\n",
    "#Immune cells\n",
    "imm_barcodes = pd.read_csv('/lustre/groups/talaveralopez/datasets/Colorectal_cancer/Raw_data/Smillie_ulcerative_colitis/Imm.barcodes2.tsv', sep='\\t', header=None)\n",
    "imm_genes = pd.read_csv('/lustre/groups/talaveralopez/datasets/Colorectal_cancer/Raw_data/Smillie_ulcerative_colitis/Imm.genes.tsv', sep='\\t', header=None)\n",
    "\n",
    "#Fibroblasts\n",
    "fib_barcodes = pd.read_csv('/lustre/groups/talaveralopez/datasets/Colorectal_cancer/Raw_data/Smillie_ulcerative_colitis/Fib.barcodes2.tsv', sep='\\t', header=None)\n",
    "fib_genes = pd.read_csv('/lustre/groups/talaveralopez/datasets/Colorectal_cancer/Raw_data/Smillie_ulcerative_colitis/Fib.genes.tsv', sep='\\t', header=None)"
   ]
  },
  {
   "cell_type": "code",
   "execution_count": 5,
   "metadata": {},
   "outputs": [],
   "source": [
    "#Upload countmatrix (mtx file)\n",
    "#Epithelial cells\n",
    "epi_mtx = mmread('/lustre/groups/talaveralopez/datasets/Colorectal_cancer/Raw_data/Smillie_ulcerative_colitis/gene_sorted-Epi.matrix.mtx')\n",
    "epi_mtx = sci.sparse.csr_matrix(epi_mtx)\n",
    "\n",
    "#Immune cells\n",
    "imm_mtx = mmread('/lustre/groups/talaveralopez/datasets/Colorectal_cancer/Raw_data/Smillie_ulcerative_colitis/gene_sorted-Imm.matrix.mtx')\n",
    "imm_mtx = sci.sparse.csr_matrix(imm_mtx)\n",
    "\n",
    "#Fibroblasts\n",
    "fib_mtx = mmread('/lustre/groups/talaveralopez/datasets/Colorectal_cancer/Raw_data/Smillie_ulcerative_colitis/gene_sorted-Fib.matrix.mtx')\n",
    "fib_mtx = sci.sparse.csr_matrix(fib_mtx)"
   ]
  },
  {
   "cell_type": "code",
   "execution_count": 6,
   "metadata": {},
   "outputs": [],
   "source": [
    "#Rename epi_barcode column to 'cell_id'\n",
    "epi_barcodes.columns = ['cell_id']\n",
    "fib_barcodes.columns = ['cell_id']\n",
    "imm_barcodes.columns = ['cell_id']"
   ]
  },
  {
   "cell_type": "code",
   "execution_count": 7,
   "metadata": {},
   "outputs": [
    {
     "name": "stderr",
     "output_type": "stream",
     "text": [
      "/tmp/ipykernel_92634/3383977657.py:2: FutureWarning: X.dtype being converted to np.float32 from int64. In the next version of anndata (0.9) conversion will not be automatic. Pass dtype explicitly to avoid this warning. Pass `AnnData(X, dtype=X.dtype, ...)` to get the future behavour.\n",
      "  epi_adata = an.AnnData(X = np.transpose(epi_mtx), obs = epi_barcodes, var = epi_genes)\n",
      "/home/icb/anna.maguza/miniconda3/envs/scanpy_env/lib/python3.9/site-packages/anndata/_core/anndata.py:121: ImplicitModificationWarning: Transforming to str index.\n",
      "  warnings.warn(\"Transforming to str index.\", ImplicitModificationWarning)\n",
      "/tmp/ipykernel_92634/3383977657.py:4: FutureWarning: X.dtype being converted to np.float32 from int64. In the next version of anndata (0.9) conversion will not be automatic. Pass dtype explicitly to avoid this warning. Pass `AnnData(X, dtype=X.dtype, ...)` to get the future behavour.\n",
      "  fib_adata = an.AnnData(X = np.transpose(fib_mtx), obs = fib_barcodes, var = fib_genes)\n",
      "/tmp/ipykernel_92634/3383977657.py:6: FutureWarning: X.dtype being converted to np.float32 from int64. In the next version of anndata (0.9) conversion will not be automatic. Pass dtype explicitly to avoid this warning. Pass `AnnData(X, dtype=X.dtype, ...)` to get the future behavour.\n",
      "  imm_adata = an.AnnData(X = np.transpose(imm_mtx), obs = imm_barcodes, var = imm_genes)\n"
     ]
    }
   ],
   "source": [
    "#Create epithelial anndata object\n",
    "epi_adata = an.AnnData(X = np.transpose(epi_mtx), obs = epi_barcodes, var = epi_genes)\n",
    "#Create fibroblasts anndata object\n",
    "fib_adata = an.AnnData(X = np.transpose(fib_mtx), obs = fib_barcodes, var = fib_genes)\n",
    "#Create immune anndata object\n",
    "imm_adata = an.AnnData(X = np.transpose(imm_mtx), obs = imm_barcodes, var = imm_genes)"
   ]
  },
  {
   "cell_type": "code",
   "execution_count": 8,
   "metadata": {},
   "outputs": [],
   "source": [
    "#Make gene names as index\n",
    "fib_adata.var_names = fib_adata.var[0]\n",
    "imm_adata.var_names = imm_adata.var[0]\n",
    "epi_adata.var_names = epi_adata.var[0]"
   ]
  },
  {
   "cell_type": "code",
   "execution_count": 9,
   "metadata": {},
   "outputs": [
    {
     "name": "stderr",
     "output_type": "stream",
     "text": [
      "/home/icb/anna.maguza/miniconda3/envs/scanpy_env/lib/python3.9/site-packages/anndata/_core/anndata.py:1828: UserWarning: Observation names are not unique. To make them unique, call `.obs_names_make_unique`.\n",
      "  utils.warn_names_duplicates(\"obs\")\n"
     ]
    }
   ],
   "source": [
    "#Create a merged anndata object\n",
    "merged = an.concat([fib_adata, imm_adata, epi_adata], join = 'outer')"
   ]
  },
  {
   "cell_type": "code",
   "execution_count": 10,
   "metadata": {},
   "outputs": [],
   "source": [
    "#Create an obs_names with cell_id \n",
    "merged.obs_names = merged.obs['cell_id']"
   ]
  },
  {
   "cell_type": "code",
   "execution_count": 11,
   "metadata": {},
   "outputs": [
    {
     "name": "stderr",
     "output_type": "stream",
     "text": [
      "/tmp/ipykernel_92634/256645115.py:2: DtypeWarning: Columns (2,3) have mixed types. Specify dtype option on import or set low_memory=False.\n",
      "  all_meta2 = pd.read_csv('/lustre/groups/talaveralopez/datasets/Colorectal_cancer/Raw_data/Smillie_ulcerative_colitis/all.meta2.csv', sep=';')\n"
     ]
    }
   ],
   "source": [
    "#Upload metadata (txt file)\n",
    "all_meta2 = pd.read_csv('/lustre/groups/talaveralopez/datasets/Colorectal_cancer/Raw_data/Smillie_ulcerative_colitis/all.meta2.csv', sep=';')"
   ]
  },
  {
   "cell_type": "code",
   "execution_count": 12,
   "metadata": {},
   "outputs": [],
   "source": [
    "#Make NAME as index and remove the first column\n",
    "all_meta2.index = all_meta2['NAME']\n",
    "all_meta2 = all_meta2.drop(['NAME'], axis = 1)"
   ]
  },
  {
   "cell_type": "code",
   "execution_count": 13,
   "metadata": {},
   "outputs": [],
   "source": [
    "#Change nUMI to int type in all_meta2\n",
    "all_meta2['nUMI'] = all_meta2['nUMI'].astype(str)\n",
    "all_meta2['nGene'] = all_meta2['nGene'].astype(str)"
   ]
  },
  {
   "cell_type": "code",
   "execution_count": 14,
   "metadata": {},
   "outputs": [],
   "source": [
    "#Add all_meta2 to merged anndata object by cell_id in merged.obs and NAME in all_meta2\n",
    "merged.obs['cell_type'] = all_meta2['Cluster']\n",
    "merged.obs['nGene'] = all_meta2['nGene']\n",
    "merged.obs['nUMI'] = all_meta2['nUMI']\n",
    "merged.obs['Subject'] = all_meta2['Subject']\n",
    "merged.obs['Sample'] = all_meta2['Sample']\n",
    "merged.obs['Health'] = all_meta2['Health']\n",
    "merged.obs['Location'] = all_meta2['Location']\n"
   ]
  },
  {
   "cell_type": "code",
   "execution_count": 15,
   "metadata": {},
   "outputs": [
    {
     "data": {
      "text/html": [
       "<div>\n",
       "<style scoped>\n",
       "    .dataframe tbody tr th:only-of-type {\n",
       "        vertical-align: middle;\n",
       "    }\n",
       "\n",
       "    .dataframe tbody tr th {\n",
       "        vertical-align: top;\n",
       "    }\n",
       "\n",
       "    .dataframe thead th {\n",
       "        text-align: right;\n",
       "    }\n",
       "</style>\n",
       "<table border=\"1\" class=\"dataframe\">\n",
       "  <thead>\n",
       "    <tr style=\"text-align: right;\">\n",
       "      <th></th>\n",
       "      <th>cell_id</th>\n",
       "      <th>cell_type</th>\n",
       "      <th>nGene</th>\n",
       "      <th>nUMI</th>\n",
       "      <th>Subject</th>\n",
       "      <th>Sample</th>\n",
       "      <th>Health</th>\n",
       "      <th>Location</th>\n",
       "    </tr>\n",
       "    <tr>\n",
       "      <th>cell_id</th>\n",
       "      <th></th>\n",
       "      <th></th>\n",
       "      <th></th>\n",
       "      <th></th>\n",
       "      <th></th>\n",
       "      <th></th>\n",
       "      <th></th>\n",
       "      <th></th>\n",
       "    </tr>\n",
       "  </thead>\n",
       "  <tbody>\n",
       "    <tr>\n",
       "      <th>N7.LPA.AAACATACCATTTC</th>\n",
       "      <td>N7.LPA.AAACATACCATTTC</td>\n",
       "      <td>WNT2B+ Fos-lo 1</td>\n",
       "      <td>550</td>\n",
       "      <td>1118</td>\n",
       "      <td>N7</td>\n",
       "      <td>N7.LPA</td>\n",
       "      <td>Non-inflamed</td>\n",
       "      <td>LP</td>\n",
       "    </tr>\n",
       "    <tr>\n",
       "      <th>N7.LPA.AAACGCACCCGATA</th>\n",
       "      <td>N7.LPA.AAACGCACCCGATA</td>\n",
       "      <td>Myofibroblasts</td>\n",
       "      <td>303</td>\n",
       "      <td>516</td>\n",
       "      <td>N7</td>\n",
       "      <td>N7.LPA</td>\n",
       "      <td>Non-inflamed</td>\n",
       "      <td>LP</td>\n",
       "    </tr>\n",
       "    <tr>\n",
       "      <th>N7.LPA.AAACGCTGTATCGG</th>\n",
       "      <td>N7.LPA.AAACGCTGTATCGG</td>\n",
       "      <td>Myofibroblasts</td>\n",
       "      <td>636</td>\n",
       "      <td>1312</td>\n",
       "      <td>N7</td>\n",
       "      <td>N7.LPA</td>\n",
       "      <td>Non-inflamed</td>\n",
       "      <td>LP</td>\n",
       "    </tr>\n",
       "    <tr>\n",
       "      <th>N7.LPA.AAAGACGAGACAGG</th>\n",
       "      <td>N7.LPA.AAAGACGAGACAGG</td>\n",
       "      <td>WNT2B+ Fos-hi</td>\n",
       "      <td>1030</td>\n",
       "      <td>2594</td>\n",
       "      <td>N7</td>\n",
       "      <td>N7.LPA</td>\n",
       "      <td>Non-inflamed</td>\n",
       "      <td>LP</td>\n",
       "    </tr>\n",
       "    <tr>\n",
       "      <th>N7.LPA.AAAGATCTAGTCTG</th>\n",
       "      <td>N7.LPA.AAAGATCTAGTCTG</td>\n",
       "      <td>WNT2B+ Fos-hi</td>\n",
       "      <td>707</td>\n",
       "      <td>1769</td>\n",
       "      <td>N7</td>\n",
       "      <td>N7.LPA</td>\n",
       "      <td>Non-inflamed</td>\n",
       "      <td>LP</td>\n",
       "    </tr>\n",
       "    <tr>\n",
       "      <th>...</th>\n",
       "      <td>...</td>\n",
       "      <td>...</td>\n",
       "      <td>...</td>\n",
       "      <td>...</td>\n",
       "      <td>...</td>\n",
       "      <td>...</td>\n",
       "      <td>...</td>\n",
       "      <td>...</td>\n",
       "    </tr>\n",
       "    <tr>\n",
       "      <th>N110.LPB.TTTGGTTGTGTGGCTC</th>\n",
       "      <td>N110.LPB.TTTGGTTGTGTGGCTC</td>\n",
       "      <td>Immature Enterocytes 2</td>\n",
       "      <td>2553</td>\n",
       "      <td>11705</td>\n",
       "      <td>N110</td>\n",
       "      <td>N110.LPB</td>\n",
       "      <td>Inflamed</td>\n",
       "      <td>LP</td>\n",
       "    </tr>\n",
       "    <tr>\n",
       "      <th>N110.LPB.TTTGGTTTCCTTAATC</th>\n",
       "      <td>N110.LPB.TTTGGTTTCCTTAATC</td>\n",
       "      <td>TA 2</td>\n",
       "      <td>3234</td>\n",
       "      <td>16164</td>\n",
       "      <td>N110</td>\n",
       "      <td>N110.LPB</td>\n",
       "      <td>Inflamed</td>\n",
       "      <td>LP</td>\n",
       "    </tr>\n",
       "    <tr>\n",
       "      <th>N110.LPB.TTTGGTTTCTTACCTA</th>\n",
       "      <td>N110.LPB.TTTGGTTTCTTACCTA</td>\n",
       "      <td>Enterocyte Progenitors</td>\n",
       "      <td>258</td>\n",
       "      <td>384</td>\n",
       "      <td>N110</td>\n",
       "      <td>N110.LPB</td>\n",
       "      <td>Inflamed</td>\n",
       "      <td>LP</td>\n",
       "    </tr>\n",
       "    <tr>\n",
       "      <th>N110.LPB.TTTGTCAAGGATGGAA</th>\n",
       "      <td>N110.LPB.TTTGTCAAGGATGGAA</td>\n",
       "      <td>TA 1</td>\n",
       "      <td>487</td>\n",
       "      <td>772</td>\n",
       "      <td>N110</td>\n",
       "      <td>N110.LPB</td>\n",
       "      <td>Inflamed</td>\n",
       "      <td>LP</td>\n",
       "    </tr>\n",
       "    <tr>\n",
       "      <th>N110.LPB.TTTGTCAGTTGTTTGG</th>\n",
       "      <td>N110.LPB.TTTGTCAGTTGTTTGG</td>\n",
       "      <td>TA 1</td>\n",
       "      <td>363</td>\n",
       "      <td>747</td>\n",
       "      <td>N110</td>\n",
       "      <td>N110.LPB</td>\n",
       "      <td>Inflamed</td>\n",
       "      <td>LP</td>\n",
       "    </tr>\n",
       "  </tbody>\n",
       "</table>\n",
       "<p>365492 rows × 8 columns</p>\n",
       "</div>"
      ],
      "text/plain": [
       "                                             cell_id               cell_type  \\\n",
       "cell_id                                                                        \n",
       "N7.LPA.AAACATACCATTTC          N7.LPA.AAACATACCATTTC         WNT2B+ Fos-lo 1   \n",
       "N7.LPA.AAACGCACCCGATA          N7.LPA.AAACGCACCCGATA          Myofibroblasts   \n",
       "N7.LPA.AAACGCTGTATCGG          N7.LPA.AAACGCTGTATCGG          Myofibroblasts   \n",
       "N7.LPA.AAAGACGAGACAGG          N7.LPA.AAAGACGAGACAGG           WNT2B+ Fos-hi   \n",
       "N7.LPA.AAAGATCTAGTCTG          N7.LPA.AAAGATCTAGTCTG           WNT2B+ Fos-hi   \n",
       "...                                              ...                     ...   \n",
       "N110.LPB.TTTGGTTGTGTGGCTC  N110.LPB.TTTGGTTGTGTGGCTC  Immature Enterocytes 2   \n",
       "N110.LPB.TTTGGTTTCCTTAATC  N110.LPB.TTTGGTTTCCTTAATC                    TA 2   \n",
       "N110.LPB.TTTGGTTTCTTACCTA  N110.LPB.TTTGGTTTCTTACCTA  Enterocyte Progenitors   \n",
       "N110.LPB.TTTGTCAAGGATGGAA  N110.LPB.TTTGTCAAGGATGGAA                    TA 1   \n",
       "N110.LPB.TTTGTCAGTTGTTTGG  N110.LPB.TTTGTCAGTTGTTTGG                    TA 1   \n",
       "\n",
       "                          nGene   nUMI Subject    Sample        Health  \\\n",
       "cell_id                                                                  \n",
       "N7.LPA.AAACATACCATTTC       550   1118      N7    N7.LPA  Non-inflamed   \n",
       "N7.LPA.AAACGCACCCGATA       303    516      N7    N7.LPA  Non-inflamed   \n",
       "N7.LPA.AAACGCTGTATCGG       636   1312      N7    N7.LPA  Non-inflamed   \n",
       "N7.LPA.AAAGACGAGACAGG      1030   2594      N7    N7.LPA  Non-inflamed   \n",
       "N7.LPA.AAAGATCTAGTCTG       707   1769      N7    N7.LPA  Non-inflamed   \n",
       "...                         ...    ...     ...       ...           ...   \n",
       "N110.LPB.TTTGGTTGTGTGGCTC  2553  11705    N110  N110.LPB      Inflamed   \n",
       "N110.LPB.TTTGGTTTCCTTAATC  3234  16164    N110  N110.LPB      Inflamed   \n",
       "N110.LPB.TTTGGTTTCTTACCTA   258    384    N110  N110.LPB      Inflamed   \n",
       "N110.LPB.TTTGTCAAGGATGGAA   487    772    N110  N110.LPB      Inflamed   \n",
       "N110.LPB.TTTGTCAGTTGTTTGG   363    747    N110  N110.LPB      Inflamed   \n",
       "\n",
       "                          Location  \n",
       "cell_id                             \n",
       "N7.LPA.AAACATACCATTTC           LP  \n",
       "N7.LPA.AAACGCACCCGATA           LP  \n",
       "N7.LPA.AAACGCTGTATCGG           LP  \n",
       "N7.LPA.AAAGACGAGACAGG           LP  \n",
       "N7.LPA.AAAGATCTAGTCTG           LP  \n",
       "...                            ...  \n",
       "N110.LPB.TTTGGTTGTGTGGCTC       LP  \n",
       "N110.LPB.TTTGGTTTCCTTAATC       LP  \n",
       "N110.LPB.TTTGGTTTCTTACCTA       LP  \n",
       "N110.LPB.TTTGTCAAGGATGGAA       LP  \n",
       "N110.LPB.TTTGTCAGTTGTTTGG       LP  \n",
       "\n",
       "[365492 rows x 8 columns]"
      ]
     },
     "execution_count": 15,
     "metadata": {},
     "output_type": "execute_result"
    }
   ],
   "source": [
    "merged.obs"
   ]
  },
  {
   "cell_type": "code",
   "execution_count": 16,
   "metadata": {},
   "outputs": [],
   "source": [
    "#Save anndata object\n",
    "merged.write('/lustre/groups/talaveralopez/datasets/Colorectal_cancer/Raw_data/Smillie_ulcerative_colitis/Smillie_ulcerative_colitis_anndata.h5ad')"
   ]
  }
 ],
 "metadata": {
  "kernelspec": {
   "display_name": "Python 3 (ipykernel)",
   "language": "python",
   "name": "python3"
  },
  "language_info": {
   "codemirror_mode": {
    "name": "ipython",
    "version": 3
   },
   "file_extension": ".py",
   "mimetype": "text/x-python",
   "name": "python",
   "nbconvert_exporter": "python",
   "pygments_lexer": "ipython3",
   "version": "3.9.15"
  },
  "orig_nbformat": 4
 },
 "nbformat": 4,
 "nbformat_minor": 2
}
