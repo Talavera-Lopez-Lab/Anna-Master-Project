{
 "cells": [
  {
   "attachments": {},
   "cell_type": "markdown",
   "metadata": {},
   "source": [
    "### Notebook for the epithelial label transfer of Reference mesenchymal dataset to rest of mesenchymal cells from GCA using `scANVI`\n",
    "\n",
    "- **Developed by:** Anna Maguza\n",
    "- **Institute of Computational Biology - Computational Health Department - Helmholtz Munich**\n",
    "- 27th February 2022"
   ]
  },
  {
   "cell_type": "markdown",
   "metadata": {},
   "source": [
    "### Import required modules"
   ]
  },
  {
   "cell_type": "code",
   "execution_count": 1,
   "metadata": {},
   "outputs": [
    {
     "name": "stderr",
     "output_type": "stream",
     "text": [
      "Global seed set to 0\n",
      "/home/icb/anna.maguza/miniconda3/envs/scvi_env/lib/python3.9/site-packages/pytorch_lightning/utilities/warnings.py:53: LightningDeprecationWarning: pytorch_lightning.utilities.warnings.rank_zero_deprecation has been deprecated in v1.6 and will be removed in v1.8. Use the equivalent function from the pytorch_lightning.utilities.rank_zero module instead.\n",
      "  new_rank_zero_deprecation(\n",
      "/home/icb/anna.maguza/miniconda3/envs/scvi_env/lib/python3.9/site-packages/pytorch_lightning/utilities/warnings.py:58: LightningDeprecationWarning: The `pytorch_lightning.loggers.base.rank_zero_experiment` is deprecated in v1.7 and will be removed in v1.9. Please use `pytorch_lightning.loggers.logger.rank_zero_experiment` instead.\n",
      "  return new_rank_zero_deprecation(*args, **kwargs)\n"
     ]
    }
   ],
   "source": [
    "import scvi\n",
    "import anndata\n",
    "import warnings\n",
    "import numpy as np\n",
    "import scanpy as sc\n",
    "import pandas as pd\n",
    "import matplotlib.pyplot as plt"
   ]
  },
  {
   "cell_type": "markdown",
   "metadata": {},
   "source": [
    "### Set up working environment"
   ]
  },
  {
   "cell_type": "code",
   "execution_count": 2,
   "metadata": {},
   "outputs": [],
   "source": [
    "%matplotlib inline"
   ]
  },
  {
   "cell_type": "code",
   "execution_count": 3,
   "metadata": {},
   "outputs": [
    {
     "name": "stdout",
     "output_type": "stream",
     "text": [
      "-----\n",
      "anndata     0.8.0\n",
      "scanpy      1.9.1\n",
      "-----\n",
      "PIL                 9.2.0\n",
      "absl                NA\n",
      "asttokens           NA\n",
      "attr                22.1.0\n",
      "backcall            0.2.0\n",
      "beta_ufunc          NA\n",
      "binom_ufunc         NA\n",
      "bottleneck          1.3.5\n",
      "brotli              NA\n",
      "certifi             2022.09.24\n",
      "cffi                1.15.1\n",
      "charset_normalizer  2.1.1\n",
      "chex                0.1.5\n",
      "contextlib2         NA\n",
      "cycler              0.10.0\n",
      "cython_runtime      NA\n",
      "dateutil            2.8.2\n",
      "debugpy             1.6.3\n",
      "decorator           5.1.1\n",
      "defusedxml          0.7.1\n",
      "deprecate           0.3.2\n",
      "docrep              0.3.2\n",
      "entrypoints         0.4\n",
      "executing           1.2.0\n",
      "flax                0.6.2\n",
      "fsspec              2022.11.0\n",
      "google              NA\n",
      "h5py                3.7.0\n",
      "hypergeom_ufunc     NA\n",
      "idna                3.4\n",
      "ipykernel           6.17.1\n",
      "ipython_genutils    0.2.0\n",
      "ipywidgets          8.0.2\n",
      "jax                 0.3.25\n",
      "jaxlib              0.3.25\n",
      "jedi                0.18.2\n",
      "joblib              1.2.0\n",
      "jupyter_server      1.23.3\n",
      "kiwisolver          1.4.4\n",
      "llvmlite            0.39.1\n",
      "matplotlib          3.6.2\n",
      "matplotlib_inline   0.1.6\n",
      "ml_collections      NA\n",
      "mpl_toolkits        NA\n",
      "msgpack             1.0.4\n",
      "mudata              0.2.1\n",
      "multipledispatch    0.6.0\n",
      "natsort             8.2.0\n",
      "nbinom_ufunc        NA\n",
      "ncf_ufunc           NA\n",
      "numba               0.56.4\n",
      "numexpr             2.8.4\n",
      "numpy               1.23.5\n",
      "numpyro             0.10.1\n",
      "nvidia              NA\n",
      "opt_einsum          v3.3.0\n",
      "optax               0.1.4\n",
      "packaging           21.3\n",
      "pandas              1.5.1\n",
      "parso               0.8.3\n",
      "pexpect             4.8.0\n",
      "pickleshare         0.7.5\n",
      "pkg_resources       NA\n",
      "platformdirs        2.5.2\n",
      "prompt_toolkit      3.0.33\n",
      "psutil              5.9.4\n",
      "ptyprocess          0.7.0\n",
      "pure_eval           0.2.2\n",
      "pydev_ipython       NA\n",
      "pydevconsole        NA\n",
      "pydevd              2.8.0\n",
      "pydevd_file_utils   NA\n",
      "pydevd_plugins      NA\n",
      "pydevd_tracing      NA\n",
      "pygments            2.13.0\n",
      "pyparsing           3.0.9\n",
      "pyro                1.8.3\n",
      "pytorch_lightning   1.7.7\n",
      "pytz                2022.6\n",
      "requests            2.28.1\n",
      "rich                NA\n",
      "scipy               1.9.3\n",
      "scvi                0.19.0\n",
      "session_info        1.0.0\n",
      "setuptools          65.5.1\n",
      "six                 1.16.0\n",
      "sklearn             1.1.3\n",
      "socks               1.7.1\n",
      "stack_data          0.6.1\n",
      "tensorboard         2.11.0\n",
      "threadpoolctl       3.1.0\n",
      "toolz               0.12.0\n",
      "torch               1.12.1.post201\n",
      "torchmetrics        0.10.3\n",
      "torchvision         0.13.0a0+8069656\n",
      "tornado             6.2\n",
      "tqdm                4.64.1\n",
      "traitlets           5.5.0\n",
      "tree                0.1.7\n",
      "typing_extensions   NA\n",
      "unicodedata2        NA\n",
      "urllib3             1.26.13\n",
      "wcwidth             0.2.5\n",
      "yaml                6.0\n",
      "zipp                NA\n",
      "zmq                 24.0.1\n",
      "zoneinfo            NA\n",
      "-----\n",
      "IPython             8.6.0\n",
      "jupyter_client      7.4.7\n",
      "jupyter_core        5.0.0\n",
      "jupyterlab          3.5.0\n",
      "notebook            6.5.2\n",
      "-----\n",
      "Python 3.9.15 | packaged by conda-forge | (main, Nov 22 2022, 15:55:03) [GCC 10.4.0]\n",
      "Linux-3.10.0-1160.71.1.el7.x86_64-x86_64-with-glibc2.17\n",
      "-----\n",
      "Session information updated at 2023-02-27 14:35\n"
     ]
    }
   ],
   "source": [
    "sc.settings.verbosity = 3\n",
    "sc.logging.print_versions()\n",
    "sc.settings.set_figure_params(dpi = 180, color_map = 'magma_r', dpi_save = 300, vector_friendly = True, format = 'svg')"
   ]
  },
  {
   "cell_type": "code",
   "execution_count": 4,
   "metadata": {},
   "outputs": [
    {
     "name": "stderr",
     "output_type": "stream",
     "text": [
      "Global seed set to 1712\n"
     ]
    }
   ],
   "source": [
    "warnings.simplefilter(action = 'ignore')\n",
    "scvi.settings.seed = 1712\n",
    "%config InlineBackend.print_figure_kwargs = {'facecolor' : \"w\"}\n",
    "%config InlineBackend.figure_format = 'retina'"
   ]
  },
  {
   "cell_type": "code",
   "execution_count": 5,
   "metadata": {},
   "outputs": [],
   "source": [
    "arches_params = dict(\n",
    "    use_layer_norm = \"both\",\n",
    "    use_batch_norm = \"none\",\n",
    "    encode_covariates = True,\n",
    "    dropout_rate = 0.2,\n",
    "    n_layers = 2,\n",
    ")"
   ]
  },
  {
   "cell_type": "markdown",
   "metadata": {},
   "source": [
    "### Read in Reference object"
   ]
  },
  {
   "cell_type": "code",
   "execution_count": 6,
   "metadata": {},
   "outputs": [],
   "source": [
    "reference_input = '/lustre/groups/talaveralopez/workspace/anna.maguza/Processed_datasets/expi_map/Mesenchymal_reference_map_subset_after_geosketch2.h5ad'\n",
    "reference_output = '/lustre/groups/talaveralopez/workspace/anna.maguza/Processed_datasets/expi_map/Mesenchymal_reference_map_subset_after_geosketch2_output.h5ad'"
   ]
  },
  {
   "cell_type": "code",
   "execution_count": 7,
   "metadata": {},
   "outputs": [
    {
     "data": {
      "text/plain": [
       "<107299x40144 sparse matrix of type '<class 'numpy.float32'>'\n",
       "\twith 218795216 stored elements in Compressed Sparse Row format>"
      ]
     },
     "execution_count": 7,
     "metadata": {},
     "output_type": "execute_result"
    }
   ],
   "source": [
    "reference = sc.read_h5ad(reference_input)\n",
    "reference.X"
   ]
  },
  {
   "cell_type": "code",
   "execution_count": 8,
   "metadata": {},
   "outputs": [
    {
     "data": {
      "text/html": [
       "<div>\n",
       "<style scoped>\n",
       "    .dataframe tbody tr th:only-of-type {\n",
       "        vertical-align: middle;\n",
       "    }\n",
       "\n",
       "    .dataframe tbody tr th {\n",
       "        vertical-align: top;\n",
       "    }\n",
       "\n",
       "    .dataframe thead th {\n",
       "        text-align: right;\n",
       "    }\n",
       "</style>\n",
       "<table border=\"1\" class=\"dataframe\">\n",
       "  <thead>\n",
       "    <tr style=\"text-align: right;\">\n",
       "      <th></th>\n",
       "      <th>UniqueCell_ID</th>\n",
       "      <th>Sample_ID</th>\n",
       "      <th>CellType</th>\n",
       "      <th>Study_name</th>\n",
       "      <th>Diagnosis</th>\n",
       "      <th>Age</th>\n",
       "      <th>Region code</th>\n",
       "      <th>Fraction</th>\n",
       "      <th>Gender</th>\n",
       "      <th>10X</th>\n",
       "      <th>...</th>\n",
       "      <th>doublet_scores</th>\n",
       "      <th>predicted_doublets</th>\n",
       "      <th>Age_group</th>\n",
       "      <th>Integrated_05</th>\n",
       "      <th>total_counts_ribo</th>\n",
       "      <th>Location</th>\n",
       "      <th>n_counts</th>\n",
       "      <th>percent_mito</th>\n",
       "      <th>percent_ribo</th>\n",
       "      <th>Subject</th>\n",
       "    </tr>\n",
       "    <tr>\n",
       "      <th>cell_id</th>\n",
       "      <th></th>\n",
       "      <th></th>\n",
       "      <th></th>\n",
       "      <th></th>\n",
       "      <th></th>\n",
       "      <th></th>\n",
       "      <th></th>\n",
       "      <th></th>\n",
       "      <th></th>\n",
       "      <th></th>\n",
       "      <th></th>\n",
       "      <th></th>\n",
       "      <th></th>\n",
       "      <th></th>\n",
       "      <th></th>\n",
       "      <th></th>\n",
       "      <th></th>\n",
       "      <th></th>\n",
       "      <th></th>\n",
       "      <th></th>\n",
       "      <th></th>\n",
       "    </tr>\n",
       "  </thead>\n",
       "  <tbody>\n",
       "    <tr>\n",
       "      <th>AACACGTTCTTGCATT_Ileum-1_Stem Cell</th>\n",
       "      <td>AACACGTTCTTGCATT_Ileum-1_Stem Cell</td>\n",
       "      <td>Ileum-1</td>\n",
       "      <td>Stem Cell</td>\n",
       "      <td>Wang</td>\n",
       "      <td>Healthy adult</td>\n",
       "      <td>nan</td>\n",
       "      <td>nan</td>\n",
       "      <td>nan</td>\n",
       "      <td>nan</td>\n",
       "      <td>nan</td>\n",
       "      <td>...</td>\n",
       "      <td>nan</td>\n",
       "      <td>nan</td>\n",
       "      <td>nan</td>\n",
       "      <td>Stem_Cells_ext</td>\n",
       "      <td>nan</td>\n",
       "      <td>nan</td>\n",
       "      <td>nan</td>\n",
       "      <td>nan</td>\n",
       "      <td>nan</td>\n",
       "      <td>nan</td>\n",
       "    </tr>\n",
       "    <tr>\n",
       "      <th>AACCGCGCATGAAGTA_Ileum-1_Stem Cell</th>\n",
       "      <td>AACCGCGCATGAAGTA_Ileum-1_Stem Cell</td>\n",
       "      <td>Ileum-1</td>\n",
       "      <td>Stem Cell</td>\n",
       "      <td>Wang</td>\n",
       "      <td>Healthy adult</td>\n",
       "      <td>nan</td>\n",
       "      <td>nan</td>\n",
       "      <td>nan</td>\n",
       "      <td>nan</td>\n",
       "      <td>nan</td>\n",
       "      <td>...</td>\n",
       "      <td>nan</td>\n",
       "      <td>nan</td>\n",
       "      <td>nan</td>\n",
       "      <td>Stem_Cells_ext</td>\n",
       "      <td>nan</td>\n",
       "      <td>nan</td>\n",
       "      <td>nan</td>\n",
       "      <td>nan</td>\n",
       "      <td>nan</td>\n",
       "      <td>nan</td>\n",
       "    </tr>\n",
       "    <tr>\n",
       "      <th>AACTCAGAGCGATCCC_Ileum-1_Stem Cell</th>\n",
       "      <td>AACTCAGAGCGATCCC_Ileum-1_Stem Cell</td>\n",
       "      <td>Ileum-1</td>\n",
       "      <td>Stem Cell</td>\n",
       "      <td>Wang</td>\n",
       "      <td>Healthy adult</td>\n",
       "      <td>nan</td>\n",
       "      <td>nan</td>\n",
       "      <td>nan</td>\n",
       "      <td>nan</td>\n",
       "      <td>nan</td>\n",
       "      <td>...</td>\n",
       "      <td>nan</td>\n",
       "      <td>nan</td>\n",
       "      <td>nan</td>\n",
       "      <td>Stem_Cells_ext</td>\n",
       "      <td>nan</td>\n",
       "      <td>nan</td>\n",
       "      <td>nan</td>\n",
       "      <td>nan</td>\n",
       "      <td>nan</td>\n",
       "      <td>nan</td>\n",
       "    </tr>\n",
       "    <tr>\n",
       "      <th>AACTCCCTCTCAACTT_Ileum-1_Stem Cell</th>\n",
       "      <td>AACTCCCTCTCAACTT_Ileum-1_Stem Cell</td>\n",
       "      <td>Ileum-1</td>\n",
       "      <td>Stem Cell</td>\n",
       "      <td>Wang</td>\n",
       "      <td>Healthy adult</td>\n",
       "      <td>nan</td>\n",
       "      <td>nan</td>\n",
       "      <td>nan</td>\n",
       "      <td>nan</td>\n",
       "      <td>nan</td>\n",
       "      <td>...</td>\n",
       "      <td>nan</td>\n",
       "      <td>nan</td>\n",
       "      <td>nan</td>\n",
       "      <td>Stem_Cells_ext</td>\n",
       "      <td>nan</td>\n",
       "      <td>nan</td>\n",
       "      <td>nan</td>\n",
       "      <td>nan</td>\n",
       "      <td>nan</td>\n",
       "      <td>nan</td>\n",
       "    </tr>\n",
       "    <tr>\n",
       "      <th>AACTCTTAGCTTCGCG_Ileum-1_Stem Cell</th>\n",
       "      <td>AACTCTTAGCTTCGCG_Ileum-1_Stem Cell</td>\n",
       "      <td>Ileum-1</td>\n",
       "      <td>Stem Cell</td>\n",
       "      <td>Wang</td>\n",
       "      <td>Healthy adult</td>\n",
       "      <td>nan</td>\n",
       "      <td>nan</td>\n",
       "      <td>nan</td>\n",
       "      <td>nan</td>\n",
       "      <td>nan</td>\n",
       "      <td>...</td>\n",
       "      <td>nan</td>\n",
       "      <td>nan</td>\n",
       "      <td>nan</td>\n",
       "      <td>Stem_Cells_ext</td>\n",
       "      <td>nan</td>\n",
       "      <td>nan</td>\n",
       "      <td>nan</td>\n",
       "      <td>nan</td>\n",
       "      <td>nan</td>\n",
       "      <td>nan</td>\n",
       "    </tr>\n",
       "    <tr>\n",
       "      <th>...</th>\n",
       "      <td>...</td>\n",
       "      <td>...</td>\n",
       "      <td>...</td>\n",
       "      <td>...</td>\n",
       "      <td>...</td>\n",
       "      <td>...</td>\n",
       "      <td>...</td>\n",
       "      <td>...</td>\n",
       "      <td>...</td>\n",
       "      <td>...</td>\n",
       "      <td>...</td>\n",
       "      <td>...</td>\n",
       "      <td>...</td>\n",
       "      <td>...</td>\n",
       "      <td>...</td>\n",
       "      <td>...</td>\n",
       "      <td>...</td>\n",
       "      <td>...</td>\n",
       "      <td>...</td>\n",
       "      <td>...</td>\n",
       "      <td>...</td>\n",
       "    </tr>\n",
       "    <tr>\n",
       "      <th>TGACGGCTCCGTTGCT-1-4918STDY7718976</th>\n",
       "      <td>nan</td>\n",
       "      <td>nan</td>\n",
       "      <td>Mesenchymal</td>\n",
       "      <td>Gut Cell Atlas</td>\n",
       "      <td>fetal</td>\n",
       "      <td>10Wk</td>\n",
       "      <td>FTIL</td>\n",
       "      <td>SC-EPCAMP</td>\n",
       "      <td>M</td>\n",
       "      <td>3'</td>\n",
       "      <td>...</td>\n",
       "      <td>0.043699421965317904</td>\n",
       "      <td>False</td>\n",
       "      <td>First trim</td>\n",
       "      <td>Stromal 1 (ADAMDEC1+)</td>\n",
       "      <td>1721.0</td>\n",
       "      <td>SmallInt</td>\n",
       "      <td>5303.0</td>\n",
       "      <td>1.7605543</td>\n",
       "      <td>32.453327</td>\n",
       "      <td>BRC2134</td>\n",
       "    </tr>\n",
       "    <tr>\n",
       "      <th>TTAGTTCGTGTGGTTT-1-4918STDY7718976</th>\n",
       "      <td>nan</td>\n",
       "      <td>nan</td>\n",
       "      <td>Mesenchymal</td>\n",
       "      <td>Gut Cell Atlas</td>\n",
       "      <td>fetal</td>\n",
       "      <td>10Wk</td>\n",
       "      <td>FTIL</td>\n",
       "      <td>SC-EPCAMP</td>\n",
       "      <td>M</td>\n",
       "      <td>3'</td>\n",
       "      <td>...</td>\n",
       "      <td>0.01658944851292781</td>\n",
       "      <td>False</td>\n",
       "      <td>First trim</td>\n",
       "      <td>Stromal 1 (ADAMDEC1+)</td>\n",
       "      <td>1219.0</td>\n",
       "      <td>SmallInt</td>\n",
       "      <td>3829.0</td>\n",
       "      <td>1.1939639</td>\n",
       "      <td>31.835989</td>\n",
       "      <td>BRC2134</td>\n",
       "    </tr>\n",
       "    <tr>\n",
       "      <th>TTCCCAGGTGCGATAG-1-4918STDY7718976</th>\n",
       "      <td>nan</td>\n",
       "      <td>nan</td>\n",
       "      <td>Mesenchymal</td>\n",
       "      <td>Gut Cell Atlas</td>\n",
       "      <td>fetal</td>\n",
       "      <td>10Wk</td>\n",
       "      <td>FTIL</td>\n",
       "      <td>SC-EPCAMP</td>\n",
       "      <td>M</td>\n",
       "      <td>3'</td>\n",
       "      <td>...</td>\n",
       "      <td>0.01797511138423721</td>\n",
       "      <td>False</td>\n",
       "      <td>First trim</td>\n",
       "      <td>Stromal 1 (ADAMDEC1+)</td>\n",
       "      <td>1318.0</td>\n",
       "      <td>SmallInt</td>\n",
       "      <td>3603.0</td>\n",
       "      <td>1.5593741</td>\n",
       "      <td>36.580627</td>\n",
       "      <td>BRC2134</td>\n",
       "    </tr>\n",
       "    <tr>\n",
       "      <th>TTGCCGTTCCCAACGG-1-4918STDY7718976</th>\n",
       "      <td>nan</td>\n",
       "      <td>nan</td>\n",
       "      <td>Mesenchymal</td>\n",
       "      <td>Gut Cell Atlas</td>\n",
       "      <td>fetal</td>\n",
       "      <td>10Wk</td>\n",
       "      <td>FTIL</td>\n",
       "      <td>SC-EPCAMP</td>\n",
       "      <td>M</td>\n",
       "      <td>3'</td>\n",
       "      <td>...</td>\n",
       "      <td>0.06678700361010828</td>\n",
       "      <td>False</td>\n",
       "      <td>First trim</td>\n",
       "      <td>Stromal 1 (ADAMDEC1+)</td>\n",
       "      <td>1154.0</td>\n",
       "      <td>SmallInt</td>\n",
       "      <td>3010.0</td>\n",
       "      <td>1.9038773</td>\n",
       "      <td>38.33887</td>\n",
       "      <td>BRC2134</td>\n",
       "    </tr>\n",
       "    <tr>\n",
       "      <th>AAGCCGCTCAACTCTT-1-4918STDY7718977</th>\n",
       "      <td>nan</td>\n",
       "      <td>nan</td>\n",
       "      <td>Mesenchymal</td>\n",
       "      <td>Gut Cell Atlas</td>\n",
       "      <td>fetal</td>\n",
       "      <td>10Wk</td>\n",
       "      <td>FLI</td>\n",
       "      <td>SC-EPCAMP</td>\n",
       "      <td>M</td>\n",
       "      <td>3'</td>\n",
       "      <td>...</td>\n",
       "      <td>0.04981949458483754</td>\n",
       "      <td>False</td>\n",
       "      <td>First trim</td>\n",
       "      <td>Stromal 1 (ADAMDEC1+)</td>\n",
       "      <td>2428.0</td>\n",
       "      <td>LargeInt</td>\n",
       "      <td>6271.0</td>\n",
       "      <td>0.8221863</td>\n",
       "      <td>38.717907</td>\n",
       "      <td>BRC2134</td>\n",
       "    </tr>\n",
       "  </tbody>\n",
       "</table>\n",
       "<p>107299 rows × 24 columns</p>\n",
       "</div>"
      ],
      "text/plain": [
       "                                                         UniqueCell_ID  \\\n",
       "cell_id                                                                  \n",
       "AACACGTTCTTGCATT_Ileum-1_Stem Cell  AACACGTTCTTGCATT_Ileum-1_Stem Cell   \n",
       "AACCGCGCATGAAGTA_Ileum-1_Stem Cell  AACCGCGCATGAAGTA_Ileum-1_Stem Cell   \n",
       "AACTCAGAGCGATCCC_Ileum-1_Stem Cell  AACTCAGAGCGATCCC_Ileum-1_Stem Cell   \n",
       "AACTCCCTCTCAACTT_Ileum-1_Stem Cell  AACTCCCTCTCAACTT_Ileum-1_Stem Cell   \n",
       "AACTCTTAGCTTCGCG_Ileum-1_Stem Cell  AACTCTTAGCTTCGCG_Ileum-1_Stem Cell   \n",
       "...                                                                ...   \n",
       "TGACGGCTCCGTTGCT-1-4918STDY7718976                                 nan   \n",
       "TTAGTTCGTGTGGTTT-1-4918STDY7718976                                 nan   \n",
       "TTCCCAGGTGCGATAG-1-4918STDY7718976                                 nan   \n",
       "TTGCCGTTCCCAACGG-1-4918STDY7718976                                 nan   \n",
       "AAGCCGCTCAACTCTT-1-4918STDY7718977                                 nan   \n",
       "\n",
       "                                   Sample_ID     CellType      Study_name  \\\n",
       "cell_id                                                                     \n",
       "AACACGTTCTTGCATT_Ileum-1_Stem Cell   Ileum-1    Stem Cell            Wang   \n",
       "AACCGCGCATGAAGTA_Ileum-1_Stem Cell   Ileum-1    Stem Cell            Wang   \n",
       "AACTCAGAGCGATCCC_Ileum-1_Stem Cell   Ileum-1    Stem Cell            Wang   \n",
       "AACTCCCTCTCAACTT_Ileum-1_Stem Cell   Ileum-1    Stem Cell            Wang   \n",
       "AACTCTTAGCTTCGCG_Ileum-1_Stem Cell   Ileum-1    Stem Cell            Wang   \n",
       "...                                      ...          ...             ...   \n",
       "TGACGGCTCCGTTGCT-1-4918STDY7718976       nan  Mesenchymal  Gut Cell Atlas   \n",
       "TTAGTTCGTGTGGTTT-1-4918STDY7718976       nan  Mesenchymal  Gut Cell Atlas   \n",
       "TTCCCAGGTGCGATAG-1-4918STDY7718976       nan  Mesenchymal  Gut Cell Atlas   \n",
       "TTGCCGTTCCCAACGG-1-4918STDY7718976       nan  Mesenchymal  Gut Cell Atlas   \n",
       "AAGCCGCTCAACTCTT-1-4918STDY7718977       nan  Mesenchymal  Gut Cell Atlas   \n",
       "\n",
       "                                        Diagnosis   Age Region code  \\\n",
       "cell_id                                                               \n",
       "AACACGTTCTTGCATT_Ileum-1_Stem Cell  Healthy adult   nan         nan   \n",
       "AACCGCGCATGAAGTA_Ileum-1_Stem Cell  Healthy adult   nan         nan   \n",
       "AACTCAGAGCGATCCC_Ileum-1_Stem Cell  Healthy adult   nan         nan   \n",
       "AACTCCCTCTCAACTT_Ileum-1_Stem Cell  Healthy adult   nan         nan   \n",
       "AACTCTTAGCTTCGCG_Ileum-1_Stem Cell  Healthy adult   nan         nan   \n",
       "...                                           ...   ...         ...   \n",
       "TGACGGCTCCGTTGCT-1-4918STDY7718976          fetal  10Wk        FTIL   \n",
       "TTAGTTCGTGTGGTTT-1-4918STDY7718976          fetal  10Wk        FTIL   \n",
       "TTCCCAGGTGCGATAG-1-4918STDY7718976          fetal  10Wk        FTIL   \n",
       "TTGCCGTTCCCAACGG-1-4918STDY7718976          fetal  10Wk        FTIL   \n",
       "AAGCCGCTCAACTCTT-1-4918STDY7718977          fetal  10Wk         FLI   \n",
       "\n",
       "                                     Fraction Gender  10X  ...  \\\n",
       "cell_id                                                    ...   \n",
       "AACACGTTCTTGCATT_Ileum-1_Stem Cell        nan    nan  nan  ...   \n",
       "AACCGCGCATGAAGTA_Ileum-1_Stem Cell        nan    nan  nan  ...   \n",
       "AACTCAGAGCGATCCC_Ileum-1_Stem Cell        nan    nan  nan  ...   \n",
       "AACTCCCTCTCAACTT_Ileum-1_Stem Cell        nan    nan  nan  ...   \n",
       "AACTCTTAGCTTCGCG_Ileum-1_Stem Cell        nan    nan  nan  ...   \n",
       "...                                       ...    ...  ...  ...   \n",
       "TGACGGCTCCGTTGCT-1-4918STDY7718976  SC-EPCAMP      M   3'  ...   \n",
       "TTAGTTCGTGTGGTTT-1-4918STDY7718976  SC-EPCAMP      M   3'  ...   \n",
       "TTCCCAGGTGCGATAG-1-4918STDY7718976  SC-EPCAMP      M   3'  ...   \n",
       "TTGCCGTTCCCAACGG-1-4918STDY7718976  SC-EPCAMP      M   3'  ...   \n",
       "AAGCCGCTCAACTCTT-1-4918STDY7718977  SC-EPCAMP      M   3'  ...   \n",
       "\n",
       "                                          doublet_scores predicted_doublets  \\\n",
       "cell_id                                                                       \n",
       "AACACGTTCTTGCATT_Ileum-1_Stem Cell                   nan                nan   \n",
       "AACCGCGCATGAAGTA_Ileum-1_Stem Cell                   nan                nan   \n",
       "AACTCAGAGCGATCCC_Ileum-1_Stem Cell                   nan                nan   \n",
       "AACTCCCTCTCAACTT_Ileum-1_Stem Cell                   nan                nan   \n",
       "AACTCTTAGCTTCGCG_Ileum-1_Stem Cell                   nan                nan   \n",
       "...                                                  ...                ...   \n",
       "TGACGGCTCCGTTGCT-1-4918STDY7718976  0.043699421965317904              False   \n",
       "TTAGTTCGTGTGGTTT-1-4918STDY7718976   0.01658944851292781              False   \n",
       "TTCCCAGGTGCGATAG-1-4918STDY7718976   0.01797511138423721              False   \n",
       "TTGCCGTTCCCAACGG-1-4918STDY7718976   0.06678700361010828              False   \n",
       "AAGCCGCTCAACTCTT-1-4918STDY7718977   0.04981949458483754              False   \n",
       "\n",
       "                                     Age_group          Integrated_05  \\\n",
       "cell_id                                                                 \n",
       "AACACGTTCTTGCATT_Ileum-1_Stem Cell         nan         Stem_Cells_ext   \n",
       "AACCGCGCATGAAGTA_Ileum-1_Stem Cell         nan         Stem_Cells_ext   \n",
       "AACTCAGAGCGATCCC_Ileum-1_Stem Cell         nan         Stem_Cells_ext   \n",
       "AACTCCCTCTCAACTT_Ileum-1_Stem Cell         nan         Stem_Cells_ext   \n",
       "AACTCTTAGCTTCGCG_Ileum-1_Stem Cell         nan         Stem_Cells_ext   \n",
       "...                                        ...                    ...   \n",
       "TGACGGCTCCGTTGCT-1-4918STDY7718976  First trim  Stromal 1 (ADAMDEC1+)   \n",
       "TTAGTTCGTGTGGTTT-1-4918STDY7718976  First trim  Stromal 1 (ADAMDEC1+)   \n",
       "TTCCCAGGTGCGATAG-1-4918STDY7718976  First trim  Stromal 1 (ADAMDEC1+)   \n",
       "TTGCCGTTCCCAACGG-1-4918STDY7718976  First trim  Stromal 1 (ADAMDEC1+)   \n",
       "AAGCCGCTCAACTCTT-1-4918STDY7718977  First trim  Stromal 1 (ADAMDEC1+)   \n",
       "\n",
       "                                   total_counts_ribo  Location n_counts  \\\n",
       "cell_id                                                                   \n",
       "AACACGTTCTTGCATT_Ileum-1_Stem Cell               nan       nan      nan   \n",
       "AACCGCGCATGAAGTA_Ileum-1_Stem Cell               nan       nan      nan   \n",
       "AACTCAGAGCGATCCC_Ileum-1_Stem Cell               nan       nan      nan   \n",
       "AACTCCCTCTCAACTT_Ileum-1_Stem Cell               nan       nan      nan   \n",
       "AACTCTTAGCTTCGCG_Ileum-1_Stem Cell               nan       nan      nan   \n",
       "...                                              ...       ...      ...   \n",
       "TGACGGCTCCGTTGCT-1-4918STDY7718976            1721.0  SmallInt   5303.0   \n",
       "TTAGTTCGTGTGGTTT-1-4918STDY7718976            1219.0  SmallInt   3829.0   \n",
       "TTCCCAGGTGCGATAG-1-4918STDY7718976            1318.0  SmallInt   3603.0   \n",
       "TTGCCGTTCCCAACGG-1-4918STDY7718976            1154.0  SmallInt   3010.0   \n",
       "AAGCCGCTCAACTCTT-1-4918STDY7718977            2428.0  LargeInt   6271.0   \n",
       "\n",
       "                                   percent_mito percent_ribo  Subject  \n",
       "cell_id                                                                \n",
       "AACACGTTCTTGCATT_Ileum-1_Stem Cell          nan          nan      nan  \n",
       "AACCGCGCATGAAGTA_Ileum-1_Stem Cell          nan          nan      nan  \n",
       "AACTCAGAGCGATCCC_Ileum-1_Stem Cell          nan          nan      nan  \n",
       "AACTCCCTCTCAACTT_Ileum-1_Stem Cell          nan          nan      nan  \n",
       "AACTCTTAGCTTCGCG_Ileum-1_Stem Cell          nan          nan      nan  \n",
       "...                                         ...          ...      ...  \n",
       "TGACGGCTCCGTTGCT-1-4918STDY7718976    1.7605543    32.453327  BRC2134  \n",
       "TTAGTTCGTGTGGTTT-1-4918STDY7718976    1.1939639    31.835989  BRC2134  \n",
       "TTCCCAGGTGCGATAG-1-4918STDY7718976    1.5593741    36.580627  BRC2134  \n",
       "TTGCCGTTCCCAACGG-1-4918STDY7718976    1.9038773     38.33887  BRC2134  \n",
       "AAGCCGCTCAACTCTT-1-4918STDY7718977    0.8221863    38.717907  BRC2134  \n",
       "\n",
       "[107299 rows x 24 columns]"
      ]
     },
     "execution_count": 8,
     "metadata": {},
     "output_type": "execute_result"
    }
   ],
   "source": [
    "reference.obs"
   ]
  },
  {
   "cell_type": "code",
   "execution_count": 9,
   "metadata": {},
   "outputs": [],
   "source": [
    "reference.obs['seed_labels'] = reference.obs['Integrated_05'].copy()"
   ]
  },
  {
   "cell_type": "markdown",
   "metadata": {},
   "source": [
    "### Read query object"
   ]
  },
  {
   "cell_type": "code",
   "execution_count": 10,
   "metadata": {},
   "outputs": [],
   "source": [
    "query_input = '/lustre/groups/talaveralopez/workspace/anna.maguza/Processed_datasets/expi_map/Mesenchymal_query_map_after_geosketch2.h5ad'\n",
    "query_output = '/lustre/groups/talaveralopez/workspace/anna.maguza/Processed_datasets/expi_map/Mesenchymal_query_map_after_geosketch2_output.h5ad'"
   ]
  },
  {
   "cell_type": "code",
   "execution_count": 11,
   "metadata": {},
   "outputs": [
    {
     "data": {
      "text/plain": [
       "<50994x40144 sparse matrix of type '<class 'numpy.float32'>'\n",
       "\twith 76880166 stored elements in Compressed Sparse Row format>"
      ]
     },
     "execution_count": 11,
     "metadata": {},
     "output_type": "execute_result"
    }
   ],
   "source": [
    "query = sc.read_h5ad(query_input)\n",
    "query.X"
   ]
  },
  {
   "cell_type": "code",
   "execution_count": 12,
   "metadata": {},
   "outputs": [],
   "source": [
    "query.obs['seed_labels'] = 'Unknown'"
   ]
  },
  {
   "cell_type": "code",
   "execution_count": 13,
   "metadata": {},
   "outputs": [],
   "source": [
    "# Concatenate reference and query\n",
    "adata = reference.concatenate(query, batch_key = 'dataset', batch_categories = ['reference', 'query'])"
   ]
  },
  {
   "cell_type": "markdown",
   "metadata": {},
   "source": [
    "### Select HVGs"
   ]
  },
  {
   "cell_type": "code",
   "execution_count": 14,
   "metadata": {},
   "outputs": [],
   "source": [
    "adata_raw = adata.copy()\n",
    "adata.layers['counts'] = adata.X.copy()\n",
    "\n",
    "sc.pp.highly_variable_genes(\n",
    "    adata,\n",
    "    flavor = \"seurat_v3\",\n",
    "    n_top_genes = 7000,\n",
    "    layer = \"counts\",\n",
    "    batch_key = \"donor\",\n",
    "    subset = True\n",
    ")"
   ]
  },
  {
   "cell_type": "markdown",
   "metadata": {},
   "source": [
    "### Transfer of annotation with scANVI"
   ]
  },
  {
   "cell_type": "code",
   "execution_count": null,
   "metadata": {},
   "outputs": [],
   "source": [
    "scvi.model.SCVI.setup_anndata(adata, batch_key = 'Sample_ID', labels_key = \"seed_labels\", layer = 'counts')"
   ]
  },
  {
   "cell_type": "code",
   "execution_count": null,
   "metadata": {},
   "outputs": [],
   "source": [
    "scvi_model = scvi.model.SCVI(adata, n_latent = 50, n_layers = 3, dispersion = 'gene-batch', gene_likelihood = 'nb')"
   ]
  },
  {
   "cell_type": "code",
   "execution_count": null,
   "metadata": {},
   "outputs": [],
   "source": [
    "scvi_model.train(100)"
   ]
  },
  {
   "cell_type": "markdown",
   "metadata": {},
   "source": [
    "### Label transfer with `scANVI` "
   ]
  },
  {
   "cell_type": "code",
   "execution_count": null,
   "metadata": {},
   "outputs": [],
   "source": [
    "scanvi_model = scvi.model.SCANVI.from_scvi_model(scvi_model, 'Unknown')"
   ]
  },
  {
   "cell_type": "code",
   "execution_count": null,
   "metadata": {},
   "outputs": [],
   "source": [
    "scanvi_model.train(25)"
   ]
  },
  {
   "cell_type": "code",
   "execution_count": null,
   "metadata": {},
   "outputs": [],
   "source": [
    "adata.obs[\"C_scANVI\"] = scanvi_model.predict(adata)"
   ]
  },
  {
   "cell_type": "markdown",
   "metadata": {},
   "source": [
    "- Extract latent representation"
   ]
  },
  {
   "cell_type": "code",
   "execution_count": null,
   "metadata": {},
   "outputs": [],
   "source": [
    "adata.obsm[\"X_scANVI\"] = scanvi_model.get_latent_representation(adata)"
   ]
  },
  {
   "cell_type": "markdown",
   "metadata": {},
   "source": [
    "- Visualise corrected dataset"
   ]
  },
  {
   "cell_type": "code",
   "execution_count": null,
   "metadata": {},
   "outputs": [],
   "source": [
    "sc.pp.neighbors(adata, use_rep = \"X_scANVI\", n_neighbors = 50, metric = 'minkowski')\n",
    "sc.tl.umap(adata, min_dist = 0.2, spread = 2, random_state = 1712)"
   ]
  },
  {
   "cell_type": "code",
   "execution_count": null,
   "metadata": {},
   "outputs": [],
   "source": [
    "adata.obs"
   ]
  },
  {
   "cell_type": "code",
   "execution_count": null,
   "metadata": {},
   "outputs": [],
   "source": [
    "sc.pl.umap(adata, frameon = False, color = ['C_scANVI', 'Integrated_05', 'CellType', 'dataset', 'Diagnosis', 'Study_name'], size = 0.6, legend_fontsize = 5, ncols = 3)"
   ]
  },
  {
   "cell_type": "code",
   "execution_count": null,
   "metadata": {},
   "outputs": [],
   "source": [
    "#Write anndata object to file\n",
    "adata.write_h5ad('/lustre/groups/talaveralopez/workspace/anna.maguza/Processed_datasets/expi_map/Mesenchymal_cells_after_scanvi.h5ad')"
   ]
  },
  {
   "cell_type": "markdown",
   "metadata": {},
   "source": [
    "### Models Validation"
   ]
  },
  {
   "cell_type": "code",
   "execution_count": null,
   "metadata": {},
   "outputs": [],
   "source": [
    "input_file = '/lustre/groups/talaveralopez/workspace/anna.maguza/Processed_datasets/expi_map/Mesenchymal_cells_after_scanvi.h5ad'\n",
    "output_file = '/lustre/groups/talaveralopez/workspace/anna.maguza/Processed_datasets/expi_map/Mesenchymal_cells_after_scanvi_output.h5ad'\n",
    "adata = sc.read_h5ad(input_file)"
   ]
  },
  {
   "cell_type": "code",
   "execution_count": null,
   "metadata": {},
   "outputs": [],
   "source": [
    "adata.obs['C_scANVI'].value_counts()"
   ]
  },
  {
   "cell_type": "code",
   "execution_count": null,
   "metadata": {},
   "outputs": [],
   "source": [
    "adata.obs['Integrated_05'].value_counts()"
   ]
  },
  {
   "cell_type": "code",
   "execution_count": null,
   "metadata": {},
   "outputs": [],
   "source": [
    "#Validation of the clusters\n",
    "df = adata.obs.groupby(['Integrated_05', \"C_scANVI\"]).size().unstack(fill_value=0)\n",
    "norm_df = df / df.sum(axis=0)\n",
    "\n",
    "plt.figure(figsize=(8, 8))\n",
    "_ = plt.pcolor(norm_df)\n",
    "_ = plt.xticks(np.arange(0.5, len(df.columns), 1), df.columns, rotation=90)\n",
    "_ = plt.yticks(np.arange(0.5, len(df.index), 1), df.index)\n",
    "plt.xlabel(\"Predicted\")\n",
    "plt.ylabel(\"Observed\")"
   ]
  },
  {
   "cell_type": "code",
   "execution_count": null,
   "metadata": {},
   "outputs": [],
   "source": [
    "#Calculate accuracy\n",
    "print(f\"Acc: {np.mean(adata.obs.CellType.cat.codes == adata.obs.C_scANVI.cat.codes)}\")"
   ]
  }
 ],
 "metadata": {
  "kernelspec": {
   "display_name": "Python 3 (ipykernel)",
   "language": "python",
   "name": "python3"
  },
  "language_info": {
   "codemirror_mode": {
    "name": "ipython",
    "version": 3
   },
   "file_extension": ".py",
   "mimetype": "text/x-python",
   "name": "python",
   "nbconvert_exporter": "python",
   "pygments_lexer": "ipython3",
   "version": "3.9.15"
  },
  "orig_nbformat": 4
 },
 "nbformat": 4,
 "nbformat_minor": 2
}
