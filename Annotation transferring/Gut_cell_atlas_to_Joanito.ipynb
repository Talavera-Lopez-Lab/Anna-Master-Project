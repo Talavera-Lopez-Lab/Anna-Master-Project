{
 "cells": [
  {
   "cell_type": "markdown",
   "metadata": {},
   "source": [
    "## Notebook for the annotation transferring from Gut Cell Atlas to Joanito 2022 data\n",
    "\n",
    "- **Developed by**: Anna Maguza\n",
    "- **Institute of Computational Biology - Computational Health Centre - Helmholtz Munich**\n",
    "- 28th November 2022"
   ]
  },
  {
   "cell_type": "markdown",
   "metadata": {},
   "source": [
    "#### Import required modules"
   ]
  },
  {
   "cell_type": "code",
   "execution_count": 2,
   "metadata": {},
   "outputs": [],
   "source": [
    "import scnym"
   ]
  },
  {
   "cell_type": "code",
   "execution_count": 3,
   "metadata": {},
   "outputs": [],
   "source": [
    "import anndata\n",
    "import numpy as np\n",
    "import pandas as pd\n",
    "import scanpy as sc"
   ]
  },
  {
   "cell_type": "markdown",
   "metadata": {},
   "source": [
    "#### Setup Cells"
   ]
  },
  {
   "cell_type": "code",
   "execution_count": 4,
   "metadata": {},
   "outputs": [],
   "source": [
    "%matplotlib inline"
   ]
  },
  {
   "cell_type": "code",
   "execution_count": 5,
   "metadata": {},
   "outputs": [
    {
     "name": "stdout",
     "output_type": "stream",
     "text": [
      "scanpy==1.6.0 anndata==0.7.4 umap==0.3.10 numpy==1.18.2 scipy==1.4.1 pandas==1.0.4 scikit-learn==0.22.2.post1 statsmodels==0.13.5 python-igraph==0.10.2 louvain==0.7.0 leidenalg==0.8.0\n"
     ]
    }
   ],
   "source": [
    "sc.settings.verbosity = 3             # verbosity: errors (0), warnings (1), info (2), hints (3)\n",
    "sc.logging.print_header()\n",
    "sc.settings.set_figure_params(dpi = 160, color_map = 'magma_r', dpi_save = 300, vector_friendly = True)"
   ]
  },
  {
   "cell_type": "markdown",
   "metadata": {},
   "source": [
    "#### Read reference object"
   ]
  },
  {
   "cell_type": "code",
   "execution_count": 6,
   "metadata": {},
   "outputs": [],
   "source": [
    "input_Normal_file = '/lustre/groups/talaveralopez/datasets/Colorectal_cancer/Raw_data/Normal Control Gut Cell Atlas/Full_obj_raw_counts_nosoupx_v2.h5ad'  # the file that will store the analysis results\n",
    "output_Normal_file = '/lustre/groups/talaveralopez/workspace/anna.maguza/Processed_datasets/Gut_cell_atlas_three_donors_output.h5ad'  # the file that will store the analysis results"
   ]
  },
  {
   "cell_type": "code",
   "execution_count": 7,
   "metadata": {},
   "outputs": [
    {
     "data": {
      "text/plain": [
       "<428469x33538 sparse matrix of type '<class 'numpy.float32'>'\n",
       "\twith 760344941 stored elements in Compressed Sparse Row format>"
      ]
     },
     "execution_count": 7,
     "metadata": {},
     "output_type": "execute_result"
    }
   ],
   "source": [
    "#Anndata upload\n",
    "control_ad = sc.read_h5ad(input_Normal_file)\n",
    "control_ad.X"
   ]
  },
  {
   "cell_type": "markdown",
   "metadata": {},
   "source": [
    "#### Quick Filtering of Gut Cell Atlas file"
   ]
  },
  {
   "cell_type": "code",
   "execution_count": 8,
   "metadata": {},
   "outputs": [
    {
     "name": "stderr",
     "output_type": "stream",
     "text": [
      "Trying to set attribute `.var` of view, copying.\n"
     ]
    }
   ],
   "source": [
    "#Remove Pediatric Crohn Disease\n",
    "control_ad_clean = control_ad[~control_ad.obs['Diagnosis'].isin(['Pediatric Crohn Disease']),:]\n",
    "del control_ad\n",
    "#Deleting the lymph node samples\n",
    "control_ad_clean = control_ad_clean[~control_ad_clean.obs['Region'].isin(['lymph node']),:]\n",
    "#Adding percentage of ribosomial genes\n",
    "control_ad_clean.var['ribo'] = control_ad_clean.var_names.str.startswith((\"RPS\",\"RPL\"))  # annotate the group of ribosomal genes as 'ribo'\n",
    "sc.pp.calculate_qc_metrics(control_ad_clean, qc_vars=['ribo'], percent_top=None, log1p=False, inplace=True)\n",
    "#Filtering by genes\n",
    "control_ad_clean = control_ad_clean[control_ad_clean.obs.n_genes_by_counts < 5000, :]\n",
    "control_ad_clean = control_ad_clean[control_ad_clean.obs.n_genes_by_counts > 200, :]\n",
    "#Filtering by counts\n",
    "control_ad_clean = control_ad_clean[control_ad_clean.obs.total_counts < 50000, :]"
   ]
  },
  {
   "cell_type": "markdown",
   "metadata": {},
   "source": [
    "#### Read in query"
   ]
  },
  {
   "cell_type": "code",
   "execution_count": 9,
   "metadata": {},
   "outputs": [],
   "source": [
    "input_CRC_file = '/lustre/groups/talaveralopez/datasets/Colorectal_cancer/Raw_data/Joanito, 2022/Anndata Raw/joanito_2022_anndata_raw-2.h5ad'  # the file that will store the analysis results\n",
    "output_CRC_file = '/lustre/groups/talaveralopez/workspace/anna.maguza/Processed_datasets/joanito_2022_anndata_output.h5ad'  # the file that will store the analysis results"
   ]
  },
  {
   "cell_type": "code",
   "execution_count": 10,
   "metadata": {},
   "outputs": [
    {
     "data": {
      "text/plain": [
       "<373058x33287 sparse matrix of type '<class 'numpy.float32'>'\n",
       "\twith 741331835 stored elements in Compressed Sparse Row format>"
      ]
     },
     "execution_count": 10,
     "metadata": {},
     "output_type": "execute_result"
    }
   ],
   "source": [
    "#Anndata upload\n",
    "Joanito_ad = sc.read_h5ad(input_CRC_file)\n",
    "Joanito_ad.X"
   ]
  },
  {
   "cell_type": "markdown",
   "metadata": {},
   "source": [
    "#### Quick Filtering of Joanito file"
   ]
  },
  {
   "cell_type": "code",
   "execution_count": 11,
   "metadata": {},
   "outputs": [],
   "source": [
    "#Filter out normal (non-tumor samles)\n",
    "Joanito_ad_tumor = Joanito_ad[Joanito_ad.obs['sample.origin'] == \"Tumor\", :]\n",
    "del Joanito_ad"
   ]
  },
  {
   "cell_type": "code",
   "execution_count": 12,
   "metadata": {},
   "outputs": [
    {
     "name": "stderr",
     "output_type": "stream",
     "text": [
      "Trying to set attribute `.obs` of view, copying.\n"
     ]
    }
   ],
   "source": [
    "#Filtering by quality metrics\n",
    "#Calculate quality control metrics\n",
    "sc.pp.calculate_qc_metrics(Joanito_ad_tumor, expr_type = 'counts', var_type='genes', percent_top = None, inplace=True)\n",
    "#Filtering by genes\n",
    "Joanito_ad_tumor = Joanito_ad_tumor[Joanito_ad_tumor.obs.n_genes_by_counts < 4000, :]\n",
    "Joanito_ad_tumor = Joanito_ad_tumor[Joanito_ad_tumor.obs.n_genes_by_counts > 200, :]\n",
    "#Filtering by counts\n",
    "Joanito_ad_tumor = Joanito_ad_tumor[Joanito_ad_tumor.obs.total_counts < 20000, :]"
   ]
  },
  {
   "cell_type": "markdown",
   "metadata": {},
   "source": [
    "#### Format reference for `scNym`"
   ]
  },
  {
   "cell_type": "code",
   "execution_count": 13,
   "metadata": {},
   "outputs": [
    {
     "data": {
      "text/plain": [
       "View of AnnData object with n_obs × n_vars = 372785 × 33538\n",
       "    obs: 'Sample name', 'Diagnosis', 'Age', 'sample name', 'Region code', 'Fraction', 'Gender', 'Region', '10X', 'batch', 'n_genes', 'n_genes_by_counts', 'total_counts', 'total_counts_mt', 'pct_counts_mt', 'doublet_scores', 'predicted_doublets', 'category', 'Age_group', 'Integrated_05', 'total_counts_ribo', 'pct_counts_ribo'\n",
       "    var: 'gene_ids', 'feature_types', 'ribo', 'n_cells_by_counts', 'mean_counts', 'pct_dropout_by_counts', 'total_counts'"
      ]
     },
     "execution_count": 13,
     "metadata": {},
     "output_type": "execute_result"
    }
   ],
   "source": [
    "control_ad_clean"
   ]
  },
  {
   "cell_type": "code",
   "execution_count": 14,
   "metadata": {},
   "outputs": [
    {
     "data": {
      "text/plain": [
       "View of AnnData object with n_obs × n_vars = 150571 × 33287\n",
       "    obs: 'cell.ID', 'nFeature_RNA', 'percent.mt', 'sample.ID', 'patient.ID', 'sample.origin', 'dataset_x', 'cell.type', 'iCMS', 'msi', 'dataset_y', 'Gender', 'Age at recruitment', 'MSS/MSI', 'Site', 'Sidedness', 'Group Stage', 'Stage TNM', 'iCMS.transcriptomic', 'iCMS.inferCNV', 'KRAS', 'BRAF', 'TP53', 'APC', 'PIK3CA', 'LymphNode', 'Normal', 'Tumor', 'n_genes_by_counts', 'log1p_n_genes_by_counts', 'total_counts', 'log1p_total_counts'\n",
       "    var: 'feature_types', 'genome', 'n_cells_by_counts', 'mean_counts', 'log1p_mean_counts', 'pct_dropout_by_counts', 'total_counts', 'log1p_total_counts'"
      ]
     },
     "execution_count": 14,
     "metadata": {},
     "output_type": "execute_result"
    }
   ],
   "source": [
    "Joanito_ad_tumor"
   ]
  },
  {
   "cell_type": "code",
   "execution_count": 15,
   "metadata": {},
   "outputs": [],
   "source": [
    "# Make cell.ID column in Joanito_ad_tumor the index\n",
    "Joanito_ad_tumor.obs.index = Joanito_ad_tumor.obs['cell.ID']\n",
    "# Delete cell.ID column in Joanito_ad_tumor\n",
    "del Joanito_ad_tumor.obs['cell.ID']"
   ]
  },
  {
   "cell_type": "code",
   "execution_count": 16,
   "metadata": {},
   "outputs": [
    {
     "name": "stderr",
     "output_type": "stream",
     "text": [
      "Trying to set attribute `.obs` of view, copying.\n",
      "Trying to set attribute `.obs` of view, copying.\n"
     ]
    }
   ],
   "source": [
    "Joanito_ad_tumor.obs[\"Study\"] = \"Joanito, 2022\"\n",
    "Joanito_ad_tumor.obs['Study'] = Joanito_ad_tumor.obs['Study'].astype('category')\n",
    "control_ad_clean.obs[\"Study\"] = \"Gut Cell Atlas\"\n",
    "control_ad_clean.obs['Study'] = control_ad_clean.obs['Study'].astype('category')\n",
    "Joanito_ad_tumor.obs.rename(columns={\"Age at recruitment\": \"Age\"}, inplace=True)\n",
    "Joanito_ad_tumor.obs.rename(columns={\"percent.mt\": \"pct_counts_mt\"}, inplace=True)\n",
    "Joanito_ad_tumor.obs.rename(columns={\"Site\": \"Region code\"}, inplace=True)\n",
    "Joanito_ad_tumor.obs['Region code'] = Joanito_ad_tumor.obs['Region code'].astype('category')"
   ]
  },
  {
   "cell_type": "code",
   "execution_count": 17,
   "metadata": {},
   "outputs": [
    {
     "data": {
      "text/plain": [
       "Index(['target_CRC-JSC-S02-GIS-N-US', 'target_CRC-JSC-S02-GIS-T-US-1',\n",
       "       'target_CRC-JSC-S02-GIS-T-US-2', 'target_CRC-JSC-S03-GIS-N-US-1',\n",
       "       'target_CRC-JSC-S03-GIS-N-US-2', 'target_CRC-JSC-S03-GIS-T-US-1',\n",
       "       'target_CRC-JSC-S03-GIS-T-US-2', 'target_CRC-JSC-S04-GIS-T-US-1',\n",
       "       'target_CRC-JSC-S04-GIS-T-US-2', 'target_CRC-JSC-S05-GIS-T-US-1',\n",
       "       'target_CRC-JSC-S05-GIS-T-US-2', 'target_CRC-JSC-S06-GIS-T-US-1',\n",
       "       'target_CRC-JSC-S06-GIS-T-US-2', 'target_CRC-JSC-S07-GIS-T-US-1',\n",
       "       'target_CRC-JSC-S07-GIS-T-US-2', 'target_CRC-JSC-S08-GIS-T-US-1',\n",
       "       'target_CRC-JSC-S08-GIS-T-US-2', 'target_CRC-JSC-S10-GIS-T-US-1',\n",
       "       'target_CRC-JSC-S10-GIS-T-US-2', 'target_CRC-JSC-S12-GIS-T-US-1',\n",
       "       'target_CRC-JSC-S12-GIS-T-US-2', 'target_CRC-JSC-S13-GIS-T-US-1',\n",
       "       'target_CRC-JSC-S13-GIS-T-US-2', 'target_CRC-JSC-S14-GIS-T-US-1',\n",
       "       'target_CRC-JSC-S14-GIS-T-US-2', 'target_CRC-JSC-S15-GIS-N-US-1',\n",
       "       'target_CRC-JSC-S15-GIS-N-US-2', 'target_CRC-JSC-S15-GIS-T-US-1',\n",
       "       'target_CRC-JSC-S15-GIS-T-US-2', 'target_CRC-JSC-S15-GIS-TS-US-1',\n",
       "       'target_EXT001', 'target_EXT009', 'target_EXT012', 'target_EXT017',\n",
       "       'target_EXT018', 'target_EXT021', 'target_EXT027', 'target_EXT030',\n",
       "       'target_EXT048', 'target_EXT095', 'target_EXT097', 'target_EXT113',\n",
       "       'target_EXT121', 'target_EXT127', 'target_MUX8563', 'target_MUX8564',\n",
       "       'target_MUX8568', 'target_MUX8569', 'target_MUX8579', 'target_MUX8580',\n",
       "       'target_MUX8631', 'target_MUX8633', 'target_MUX8644', 'target_MUX8645',\n",
       "       'target_MUX8722', 'target_MUX8723', 'target_MUX8727', 'target_MUX8728',\n",
       "       'target_MUX9005', 'target_MUX9006', 'target_MUX9007', 'target_MUX9008',\n",
       "       'target_MUX9011', 'target_MUX9064', 'target_MUX9065', 'target_MUX9068',\n",
       "       'target_MUX9069', 'target_MUX9384', 'target_MUX9385', 'target_SMC01-T',\n",
       "       'target_SMC02-T', 'target_SMC03-T', 'target_SMC04-T', 'target_SMC05-T',\n",
       "       'target_SMC06-T', 'target_SMC07-T', 'target_SMC08-T', 'target_SMC09-T',\n",
       "       'target_SMC10-T', 'target_SMC11-T', 'target_SMC14-T', 'target_SMC15-T',\n",
       "       'target_SMC16-T', 'target_SMC17-T', 'target_SMC18-T', 'target_SMC19-T',\n",
       "       'target_SMC20-T', 'target_SMC21-T', 'target_SMC22-T', 'target_SMC23-T',\n",
       "       'target_SMC24-T', 'target_SMC25-T', 'target_XHC078', 'target_XHC079',\n",
       "       'target_XHC084', 'target_XHC087', 'target_XHC088'],\n",
       "      dtype='object')"
      ]
     },
     "execution_count": 17,
     "metadata": {},
     "output_type": "execute_result"
    }
   ],
   "source": [
    "Joanito_ad_tumor.obs['domain_label'] = Joanito_ad_tumor.obs['sample.ID'].copy()\n",
    "Joanito_ad_tumor.obs['domain_label'] = 'target_' + Joanito_ad_tumor.obs['domain_label'].astype(str)\n",
    "Joanito_ad_tumor.obs['domain_label'] = Joanito_ad_tumor.obs['domain_label'].astype('category')\n",
    "Joanito_ad_tumor.obs['domain_label'].cat.categories"
   ]
  },
  {
   "cell_type": "code",
   "execution_count": 18,
   "metadata": {},
   "outputs": [],
   "source": [
    "Joanito_ad_tumor.obs['cell_states'] = 'Unlabeled'\n",
    "Joanito_ad_tumor.obs['cell_states'] = Joanito_ad_tumor.obs['cell_states'].astype('category')"
   ]
  },
  {
   "cell_type": "code",
   "execution_count": 19,
   "metadata": {},
   "outputs": [
    {
     "data": {
      "text/html": [
       "<div>\n",
       "<style scoped>\n",
       "    .dataframe tbody tr th:only-of-type {\n",
       "        vertical-align: middle;\n",
       "    }\n",
       "\n",
       "    .dataframe tbody tr th {\n",
       "        vertical-align: top;\n",
       "    }\n",
       "\n",
       "    .dataframe thead th {\n",
       "        text-align: right;\n",
       "    }\n",
       "</style>\n",
       "<table border=\"1\" class=\"dataframe\">\n",
       "  <thead>\n",
       "    <tr style=\"text-align: right;\">\n",
       "      <th></th>\n",
       "      <th>nFeature_RNA</th>\n",
       "      <th>pct_counts_mt</th>\n",
       "      <th>sample.ID</th>\n",
       "      <th>patient.ID</th>\n",
       "      <th>sample.origin</th>\n",
       "      <th>dataset_x</th>\n",
       "      <th>cell.type</th>\n",
       "      <th>iCMS</th>\n",
       "      <th>msi</th>\n",
       "      <th>dataset_y</th>\n",
       "      <th>...</th>\n",
       "      <th>LymphNode</th>\n",
       "      <th>Normal</th>\n",
       "      <th>Tumor</th>\n",
       "      <th>n_genes_by_counts</th>\n",
       "      <th>log1p_n_genes_by_counts</th>\n",
       "      <th>total_counts</th>\n",
       "      <th>log1p_total_counts</th>\n",
       "      <th>Study</th>\n",
       "      <th>domain_label</th>\n",
       "      <th>cell_states</th>\n",
       "    </tr>\n",
       "    <tr>\n",
       "      <th>cell.ID</th>\n",
       "      <th></th>\n",
       "      <th></th>\n",
       "      <th></th>\n",
       "      <th></th>\n",
       "      <th></th>\n",
       "      <th></th>\n",
       "      <th></th>\n",
       "      <th></th>\n",
       "      <th></th>\n",
       "      <th></th>\n",
       "      <th></th>\n",
       "      <th></th>\n",
       "      <th></th>\n",
       "      <th></th>\n",
       "      <th></th>\n",
       "      <th></th>\n",
       "      <th></th>\n",
       "      <th></th>\n",
       "      <th></th>\n",
       "      <th></th>\n",
       "      <th></th>\n",
       "    </tr>\n",
       "  </thead>\n",
       "  <tbody>\n",
       "    <tr>\n",
       "      <th>CRC16_MUX8563_AAAGATGCAGAAGCAC-1</th>\n",
       "      <td>4759</td>\n",
       "      <td>23.734351</td>\n",
       "      <td>MUX8563</td>\n",
       "      <td>CRC2794</td>\n",
       "      <td>Tumor</td>\n",
       "      <td>CRC-SG1</td>\n",
       "      <td>Epithelial</td>\n",
       "      <td>iCMS2</td>\n",
       "      <td>MSS</td>\n",
       "      <td>CRC-SG1</td>\n",
       "      <td>...</td>\n",
       "      <td>0.0</td>\n",
       "      <td>1.0</td>\n",
       "      <td>4.0</td>\n",
       "      <td>1531</td>\n",
       "      <td>7.334329</td>\n",
       "      <td>3259.0</td>\n",
       "      <td>8.089482</td>\n",
       "      <td>Joanito, 2022</td>\n",
       "      <td>target_MUX8563</td>\n",
       "      <td>Unlabeled</td>\n",
       "    </tr>\n",
       "    <tr>\n",
       "      <th>CRC16_MUX8563_ACAGCCGGTCTCTTAT-1</th>\n",
       "      <td>2499</td>\n",
       "      <td>11.020450</td>\n",
       "      <td>MUX8563</td>\n",
       "      <td>CRC2794</td>\n",
       "      <td>Tumor</td>\n",
       "      <td>CRC-SG1</td>\n",
       "      <td>Epithelial</td>\n",
       "      <td>iCMS2</td>\n",
       "      <td>MSS</td>\n",
       "      <td>CRC-SG1</td>\n",
       "      <td>...</td>\n",
       "      <td>0.0</td>\n",
       "      <td>1.0</td>\n",
       "      <td>4.0</td>\n",
       "      <td>1686</td>\n",
       "      <td>7.430707</td>\n",
       "      <td>3771.0</td>\n",
       "      <td>8.235361</td>\n",
       "      <td>Joanito, 2022</td>\n",
       "      <td>target_MUX8563</td>\n",
       "      <td>Unlabeled</td>\n",
       "    </tr>\n",
       "    <tr>\n",
       "      <th>CRC16_MUX8563_ACATACGGTTACGTCA-1</th>\n",
       "      <td>3745</td>\n",
       "      <td>17.618134</td>\n",
       "      <td>MUX8563</td>\n",
       "      <td>CRC2794</td>\n",
       "      <td>Tumor</td>\n",
       "      <td>CRC-SG1</td>\n",
       "      <td>Epithelial</td>\n",
       "      <td>iCMS2</td>\n",
       "      <td>MSS</td>\n",
       "      <td>CRC-SG1</td>\n",
       "      <td>...</td>\n",
       "      <td>0.0</td>\n",
       "      <td>1.0</td>\n",
       "      <td>4.0</td>\n",
       "      <td>3080</td>\n",
       "      <td>8.033009</td>\n",
       "      <td>7321.0</td>\n",
       "      <td>8.898639</td>\n",
       "      <td>Joanito, 2022</td>\n",
       "      <td>target_MUX8563</td>\n",
       "      <td>Unlabeled</td>\n",
       "    </tr>\n",
       "    <tr>\n",
       "      <th>CRC16_MUX8563_ACATGGTGTCCATGAT-1</th>\n",
       "      <td>6874</td>\n",
       "      <td>17.782717</td>\n",
       "      <td>MUX8563</td>\n",
       "      <td>CRC2794</td>\n",
       "      <td>Tumor</td>\n",
       "      <td>CRC-SG1</td>\n",
       "      <td>Epithelial</td>\n",
       "      <td>iCMS2</td>\n",
       "      <td>MSS</td>\n",
       "      <td>CRC-SG1</td>\n",
       "      <td>...</td>\n",
       "      <td>0.0</td>\n",
       "      <td>1.0</td>\n",
       "      <td>4.0</td>\n",
       "      <td>1383</td>\n",
       "      <td>7.232733</td>\n",
       "      <td>2459.0</td>\n",
       "      <td>7.807917</td>\n",
       "      <td>Joanito, 2022</td>\n",
       "      <td>target_MUX8563</td>\n",
       "      <td>Unlabeled</td>\n",
       "    </tr>\n",
       "    <tr>\n",
       "      <th>CRC16_MUX8563_ACGAGGACATCTGGTA-1</th>\n",
       "      <td>5116</td>\n",
       "      <td>18.923530</td>\n",
       "      <td>MUX8563</td>\n",
       "      <td>CRC2794</td>\n",
       "      <td>Tumor</td>\n",
       "      <td>CRC-SG1</td>\n",
       "      <td>Epithelial</td>\n",
       "      <td>iCMS2</td>\n",
       "      <td>MSS</td>\n",
       "      <td>CRC-SG1</td>\n",
       "      <td>...</td>\n",
       "      <td>0.0</td>\n",
       "      <td>1.0</td>\n",
       "      <td>4.0</td>\n",
       "      <td>1562</td>\n",
       "      <td>7.354362</td>\n",
       "      <td>3136.0</td>\n",
       "      <td>8.051023</td>\n",
       "      <td>Joanito, 2022</td>\n",
       "      <td>target_MUX8563</td>\n",
       "      <td>Unlabeled</td>\n",
       "    </tr>\n",
       "    <tr>\n",
       "      <th>...</th>\n",
       "      <td>...</td>\n",
       "      <td>...</td>\n",
       "      <td>...</td>\n",
       "      <td>...</td>\n",
       "      <td>...</td>\n",
       "      <td>...</td>\n",
       "      <td>...</td>\n",
       "      <td>...</td>\n",
       "      <td>...</td>\n",
       "      <td>...</td>\n",
       "      <td>...</td>\n",
       "      <td>...</td>\n",
       "      <td>...</td>\n",
       "      <td>...</td>\n",
       "      <td>...</td>\n",
       "      <td>...</td>\n",
       "      <td>...</td>\n",
       "      <td>...</td>\n",
       "      <td>...</td>\n",
       "      <td>...</td>\n",
       "      <td>...</td>\n",
       "    </tr>\n",
       "    <tr>\n",
       "      <th>KUL5_EXT127_TTGGAACGTGAAAGAG-1</th>\n",
       "      <td>1144</td>\n",
       "      <td>8.299758</td>\n",
       "      <td>EXT127</td>\n",
       "      <td>SC044</td>\n",
       "      <td>Tumor</td>\n",
       "      <td>KUL5</td>\n",
       "      <td>T_NK</td>\n",
       "      <td>nan</td>\n",
       "      <td>nan</td>\n",
       "      <td>KUL5</td>\n",
       "      <td>...</td>\n",
       "      <td>0.0</td>\n",
       "      <td>2.0</td>\n",
       "      <td>3.0</td>\n",
       "      <td>3298</td>\n",
       "      <td>8.101375</td>\n",
       "      <td>8446.0</td>\n",
       "      <td>9.041567</td>\n",
       "      <td>Joanito, 2022</td>\n",
       "      <td>target_EXT127</td>\n",
       "      <td>Unlabeled</td>\n",
       "    </tr>\n",
       "    <tr>\n",
       "      <th>KUL5_EXT127_TTGGCAACATGGTAGG-1</th>\n",
       "      <td>1235</td>\n",
       "      <td>2.585657</td>\n",
       "      <td>EXT127</td>\n",
       "      <td>SC044</td>\n",
       "      <td>Tumor</td>\n",
       "      <td>KUL5</td>\n",
       "      <td>PlasmaB</td>\n",
       "      <td>nan</td>\n",
       "      <td>nan</td>\n",
       "      <td>KUL5</td>\n",
       "      <td>...</td>\n",
       "      <td>0.0</td>\n",
       "      <td>2.0</td>\n",
       "      <td>3.0</td>\n",
       "      <td>2786</td>\n",
       "      <td>7.932721</td>\n",
       "      <td>6576.0</td>\n",
       "      <td>8.791334</td>\n",
       "      <td>Joanito, 2022</td>\n",
       "      <td>target_EXT127</td>\n",
       "      <td>Unlabeled</td>\n",
       "    </tr>\n",
       "    <tr>\n",
       "      <th>KUL5_EXT127_TTTCCTCCATTACGAC-1</th>\n",
       "      <td>833</td>\n",
       "      <td>6.911582</td>\n",
       "      <td>EXT127</td>\n",
       "      <td>SC044</td>\n",
       "      <td>Tumor</td>\n",
       "      <td>KUL5</td>\n",
       "      <td>T_NK</td>\n",
       "      <td>nan</td>\n",
       "      <td>nan</td>\n",
       "      <td>KUL5</td>\n",
       "      <td>...</td>\n",
       "      <td>0.0</td>\n",
       "      <td>2.0</td>\n",
       "      <td>3.0</td>\n",
       "      <td>2077</td>\n",
       "      <td>7.639161</td>\n",
       "      <td>4410.0</td>\n",
       "      <td>8.391857</td>\n",
       "      <td>Joanito, 2022</td>\n",
       "      <td>target_EXT127</td>\n",
       "      <td>Unlabeled</td>\n",
       "    </tr>\n",
       "    <tr>\n",
       "      <th>KUL5_EXT127_TTTGCGCGTTCGTGAT-1</th>\n",
       "      <td>1472</td>\n",
       "      <td>4.568457</td>\n",
       "      <td>EXT127</td>\n",
       "      <td>SC044</td>\n",
       "      <td>Tumor</td>\n",
       "      <td>KUL5</td>\n",
       "      <td>T_NK</td>\n",
       "      <td>nan</td>\n",
       "      <td>nan</td>\n",
       "      <td>KUL5</td>\n",
       "      <td>...</td>\n",
       "      <td>0.0</td>\n",
       "      <td>2.0</td>\n",
       "      <td>3.0</td>\n",
       "      <td>2104</td>\n",
       "      <td>7.652071</td>\n",
       "      <td>4797.0</td>\n",
       "      <td>8.475954</td>\n",
       "      <td>Joanito, 2022</td>\n",
       "      <td>target_EXT127</td>\n",
       "      <td>Unlabeled</td>\n",
       "    </tr>\n",
       "    <tr>\n",
       "      <th>KUL5_EXT127_TTTGCGCTCATGGTCA-1</th>\n",
       "      <td>2668</td>\n",
       "      <td>1.475736</td>\n",
       "      <td>EXT127</td>\n",
       "      <td>SC044</td>\n",
       "      <td>Tumor</td>\n",
       "      <td>KUL5</td>\n",
       "      <td>PlasmaB</td>\n",
       "      <td>nan</td>\n",
       "      <td>nan</td>\n",
       "      <td>KUL5</td>\n",
       "      <td>...</td>\n",
       "      <td>0.0</td>\n",
       "      <td>2.0</td>\n",
       "      <td>3.0</td>\n",
       "      <td>1885</td>\n",
       "      <td>7.542213</td>\n",
       "      <td>3590.0</td>\n",
       "      <td>8.186186</td>\n",
       "      <td>Joanito, 2022</td>\n",
       "      <td>target_EXT127</td>\n",
       "      <td>Unlabeled</td>\n",
       "    </tr>\n",
       "  </tbody>\n",
       "</table>\n",
       "<p>150571 rows × 34 columns</p>\n",
       "</div>"
      ],
      "text/plain": [
       "                                  nFeature_RNA  pct_counts_mt sample.ID  \\\n",
       "cell.ID                                                                   \n",
       "CRC16_MUX8563_AAAGATGCAGAAGCAC-1          4759      23.734351   MUX8563   \n",
       "CRC16_MUX8563_ACAGCCGGTCTCTTAT-1          2499      11.020450   MUX8563   \n",
       "CRC16_MUX8563_ACATACGGTTACGTCA-1          3745      17.618134   MUX8563   \n",
       "CRC16_MUX8563_ACATGGTGTCCATGAT-1          6874      17.782717   MUX8563   \n",
       "CRC16_MUX8563_ACGAGGACATCTGGTA-1          5116      18.923530   MUX8563   \n",
       "...                                        ...            ...       ...   \n",
       "KUL5_EXT127_TTGGAACGTGAAAGAG-1            1144       8.299758    EXT127   \n",
       "KUL5_EXT127_TTGGCAACATGGTAGG-1            1235       2.585657    EXT127   \n",
       "KUL5_EXT127_TTTCCTCCATTACGAC-1             833       6.911582    EXT127   \n",
       "KUL5_EXT127_TTTGCGCGTTCGTGAT-1            1472       4.568457    EXT127   \n",
       "KUL5_EXT127_TTTGCGCTCATGGTCA-1            2668       1.475736    EXT127   \n",
       "\n",
       "                                 patient.ID sample.origin dataset_x  \\\n",
       "cell.ID                                                               \n",
       "CRC16_MUX8563_AAAGATGCAGAAGCAC-1    CRC2794         Tumor   CRC-SG1   \n",
       "CRC16_MUX8563_ACAGCCGGTCTCTTAT-1    CRC2794         Tumor   CRC-SG1   \n",
       "CRC16_MUX8563_ACATACGGTTACGTCA-1    CRC2794         Tumor   CRC-SG1   \n",
       "CRC16_MUX8563_ACATGGTGTCCATGAT-1    CRC2794         Tumor   CRC-SG1   \n",
       "CRC16_MUX8563_ACGAGGACATCTGGTA-1    CRC2794         Tumor   CRC-SG1   \n",
       "...                                     ...           ...       ...   \n",
       "KUL5_EXT127_TTGGAACGTGAAAGAG-1        SC044         Tumor      KUL5   \n",
       "KUL5_EXT127_TTGGCAACATGGTAGG-1        SC044         Tumor      KUL5   \n",
       "KUL5_EXT127_TTTCCTCCATTACGAC-1        SC044         Tumor      KUL5   \n",
       "KUL5_EXT127_TTTGCGCGTTCGTGAT-1        SC044         Tumor      KUL5   \n",
       "KUL5_EXT127_TTTGCGCTCATGGTCA-1        SC044         Tumor      KUL5   \n",
       "\n",
       "                                   cell.type   iCMS  msi dataset_y  ...  \\\n",
       "cell.ID                                                             ...   \n",
       "CRC16_MUX8563_AAAGATGCAGAAGCAC-1  Epithelial  iCMS2  MSS   CRC-SG1  ...   \n",
       "CRC16_MUX8563_ACAGCCGGTCTCTTAT-1  Epithelial  iCMS2  MSS   CRC-SG1  ...   \n",
       "CRC16_MUX8563_ACATACGGTTACGTCA-1  Epithelial  iCMS2  MSS   CRC-SG1  ...   \n",
       "CRC16_MUX8563_ACATGGTGTCCATGAT-1  Epithelial  iCMS2  MSS   CRC-SG1  ...   \n",
       "CRC16_MUX8563_ACGAGGACATCTGGTA-1  Epithelial  iCMS2  MSS   CRC-SG1  ...   \n",
       "...                                      ...    ...  ...       ...  ...   \n",
       "KUL5_EXT127_TTGGAACGTGAAAGAG-1          T_NK    nan  nan      KUL5  ...   \n",
       "KUL5_EXT127_TTGGCAACATGGTAGG-1       PlasmaB    nan  nan      KUL5  ...   \n",
       "KUL5_EXT127_TTTCCTCCATTACGAC-1          T_NK    nan  nan      KUL5  ...   \n",
       "KUL5_EXT127_TTTGCGCGTTCGTGAT-1          T_NK    nan  nan      KUL5  ...   \n",
       "KUL5_EXT127_TTTGCGCTCATGGTCA-1       PlasmaB    nan  nan      KUL5  ...   \n",
       "\n",
       "                                 LymphNode  Normal Tumor n_genes_by_counts  \\\n",
       "cell.ID                                                                      \n",
       "CRC16_MUX8563_AAAGATGCAGAAGCAC-1       0.0     1.0   4.0              1531   \n",
       "CRC16_MUX8563_ACAGCCGGTCTCTTAT-1       0.0     1.0   4.0              1686   \n",
       "CRC16_MUX8563_ACATACGGTTACGTCA-1       0.0     1.0   4.0              3080   \n",
       "CRC16_MUX8563_ACATGGTGTCCATGAT-1       0.0     1.0   4.0              1383   \n",
       "CRC16_MUX8563_ACGAGGACATCTGGTA-1       0.0     1.0   4.0              1562   \n",
       "...                                    ...     ...   ...               ...   \n",
       "KUL5_EXT127_TTGGAACGTGAAAGAG-1         0.0     2.0   3.0              3298   \n",
       "KUL5_EXT127_TTGGCAACATGGTAGG-1         0.0     2.0   3.0              2786   \n",
       "KUL5_EXT127_TTTCCTCCATTACGAC-1         0.0     2.0   3.0              2077   \n",
       "KUL5_EXT127_TTTGCGCGTTCGTGAT-1         0.0     2.0   3.0              2104   \n",
       "KUL5_EXT127_TTTGCGCTCATGGTCA-1         0.0     2.0   3.0              1885   \n",
       "\n",
       "                                 log1p_n_genes_by_counts total_counts  \\\n",
       "cell.ID                                                                 \n",
       "CRC16_MUX8563_AAAGATGCAGAAGCAC-1                7.334329       3259.0   \n",
       "CRC16_MUX8563_ACAGCCGGTCTCTTAT-1                7.430707       3771.0   \n",
       "CRC16_MUX8563_ACATACGGTTACGTCA-1                8.033009       7321.0   \n",
       "CRC16_MUX8563_ACATGGTGTCCATGAT-1                7.232733       2459.0   \n",
       "CRC16_MUX8563_ACGAGGACATCTGGTA-1                7.354362       3136.0   \n",
       "...                                                  ...          ...   \n",
       "KUL5_EXT127_TTGGAACGTGAAAGAG-1                  8.101375       8446.0   \n",
       "KUL5_EXT127_TTGGCAACATGGTAGG-1                  7.932721       6576.0   \n",
       "KUL5_EXT127_TTTCCTCCATTACGAC-1                  7.639161       4410.0   \n",
       "KUL5_EXT127_TTTGCGCGTTCGTGAT-1                  7.652071       4797.0   \n",
       "KUL5_EXT127_TTTGCGCTCATGGTCA-1                  7.542213       3590.0   \n",
       "\n",
       "                                 log1p_total_counts          Study  \\\n",
       "cell.ID                                                              \n",
       "CRC16_MUX8563_AAAGATGCAGAAGCAC-1           8.089482  Joanito, 2022   \n",
       "CRC16_MUX8563_ACAGCCGGTCTCTTAT-1           8.235361  Joanito, 2022   \n",
       "CRC16_MUX8563_ACATACGGTTACGTCA-1           8.898639  Joanito, 2022   \n",
       "CRC16_MUX8563_ACATGGTGTCCATGAT-1           7.807917  Joanito, 2022   \n",
       "CRC16_MUX8563_ACGAGGACATCTGGTA-1           8.051023  Joanito, 2022   \n",
       "...                                             ...            ...   \n",
       "KUL5_EXT127_TTGGAACGTGAAAGAG-1             9.041567  Joanito, 2022   \n",
       "KUL5_EXT127_TTGGCAACATGGTAGG-1             8.791334  Joanito, 2022   \n",
       "KUL5_EXT127_TTTCCTCCATTACGAC-1             8.391857  Joanito, 2022   \n",
       "KUL5_EXT127_TTTGCGCGTTCGTGAT-1             8.475954  Joanito, 2022   \n",
       "KUL5_EXT127_TTTGCGCTCATGGTCA-1             8.186186  Joanito, 2022   \n",
       "\n",
       "                                    domain_label cell_states  \n",
       "cell.ID                                                       \n",
       "CRC16_MUX8563_AAAGATGCAGAAGCAC-1  target_MUX8563   Unlabeled  \n",
       "CRC16_MUX8563_ACAGCCGGTCTCTTAT-1  target_MUX8563   Unlabeled  \n",
       "CRC16_MUX8563_ACATACGGTTACGTCA-1  target_MUX8563   Unlabeled  \n",
       "CRC16_MUX8563_ACATGGTGTCCATGAT-1  target_MUX8563   Unlabeled  \n",
       "CRC16_MUX8563_ACGAGGACATCTGGTA-1  target_MUX8563   Unlabeled  \n",
       "...                                          ...         ...  \n",
       "KUL5_EXT127_TTGGAACGTGAAAGAG-1     target_EXT127   Unlabeled  \n",
       "KUL5_EXT127_TTGGCAACATGGTAGG-1     target_EXT127   Unlabeled  \n",
       "KUL5_EXT127_TTTCCTCCATTACGAC-1     target_EXT127   Unlabeled  \n",
       "KUL5_EXT127_TTTGCGCGTTCGTGAT-1     target_EXT127   Unlabeled  \n",
       "KUL5_EXT127_TTTGCGCTCATGGTCA-1     target_EXT127   Unlabeled  \n",
       "\n",
       "[150571 rows x 34 columns]"
      ]
     },
     "execution_count": 19,
     "metadata": {},
     "output_type": "execute_result"
    }
   ],
   "source": [
    "Joanito_ad_tumor.obs"
   ]
  },
  {
   "cell_type": "markdown",
   "metadata": {},
   "source": [
    "#### Format reference for `scNym`"
   ]
  },
  {
   "cell_type": "code",
   "execution_count": 20,
   "metadata": {},
   "outputs": [],
   "source": [
    "control_ad_clean.obs['cell_states'] = control_ad_clean.obs['category'].copy()\n",
    "control_ad_clean.obs['cell_states'] = control_ad_clean.obs['cell_states'].astype('category')"
   ]
  },
  {
   "cell_type": "code",
   "execution_count": 22,
   "metadata": {},
   "outputs": [
    {
     "data": {
      "text/plain": [
       "Index(['train_A26-CAE-0-SC-1', 'train_A26-SCL-0-SC-1', 'train_A26-TCL-0-SC-1',\n",
       "       'train_A30-SCL-6-SC-45N-1', 'train_A30-SCL-6-SC-45N-2',\n",
       "       'train_A30-SCL-6-SC-45P-1', 'train_A30-SCL-6-SC-45P-2',\n",
       "       'train_A32-APD-0-SC-45N-1', 'train_A32-APD-0-SC-45P-1',\n",
       "       'train_A32-CAE-0-SC-45N-1',\n",
       "       ...\n",
       "       'train_T036-TIL-SC-EPCAMN', 'train_T036-TIL-SC-EPCAMP',\n",
       "       'train_T057-TIL-SC-EPCAMP', 'train_T110-TIL-SC-EPCAMN',\n",
       "       'train_T110-TIL-SC-EPCAMP', 'train_T160-TIL-SC-EPCAMP',\n",
       "       'train_T161-TIL-SC-EPCAMP', 'train_T182-TIL-SC-EPCAMP',\n",
       "       'train_T44-TIL-SC-EPCAMP', 'train_nan'],\n",
       "      dtype='object', length=110)"
      ]
     },
     "execution_count": 22,
     "metadata": {},
     "output_type": "execute_result"
    }
   ],
   "source": [
    "control_ad_clean.obs['domain_label'] = control_ad_clean.obs['sample name'].copy()\n",
    "control_ad_clean.obs['domain_label'] = 'train_' + control_ad_clean.obs['domain_label'].astype(str)\n",
    "control_ad_clean.obs['domain_label'] = control_ad_clean.obs['domain_label'].astype('category')\n",
    "control_ad_clean.obs['domain_label'].cat.categories"
   ]
  },
  {
   "cell_type": "code",
   "execution_count": 23,
   "metadata": {},
   "outputs": [
    {
     "data": {
      "text/plain": [
       "Mesenchymal        155794\n",
       "Epithelial         129929\n",
       "Neuronal            17594\n",
       "T cells             17394\n",
       "Plasma cells        16445\n",
       "Endothelial         13082\n",
       "B cells             11381\n",
       "Myeloid              9820\n",
       "Red blood cells      1346\n",
       "Name: cell_states, dtype: int64"
      ]
     },
     "execution_count": 23,
     "metadata": {},
     "output_type": "execute_result"
    }
   ],
   "source": [
    "control_ad_clean.obs['cell_states'].value_counts()"
   ]
  },
  {
   "cell_type": "markdown",
   "metadata": {},
   "source": [
    "#### Merge two objects "
   ]
  },
  {
   "cell_type": "code",
   "execution_count": 24,
   "metadata": {},
   "outputs": [
    {
     "data": {
      "text/plain": [
       "AnnData object with n_obs × n_vars = 523356 × 33264\n",
       "    obs: 'nFeature_RNA', 'pct_counts_mt', 'sample.ID', 'patient.ID', 'sample.origin', 'dataset_x', 'cell.type', 'iCMS', 'msi', 'dataset_y', 'Gender', 'Age', 'MSS/MSI', 'Region code', 'Sidedness', 'Group Stage', 'Stage TNM', 'iCMS.transcriptomic', 'iCMS.inferCNV', 'KRAS', 'BRAF', 'TP53', 'APC', 'PIK3CA', 'LymphNode', 'Normal', 'Tumor', 'n_genes_by_counts', 'log1p_n_genes_by_counts', 'total_counts', 'log1p_total_counts', 'Study', 'domain_label', 'cell_states', 'Sample name', 'Diagnosis', 'sample name', 'Fraction', 'Region', '10X', 'batch', 'n_genes', 'total_counts_mt', 'doublet_scores', 'predicted_doublets', 'category', 'Age_group', 'Integrated_05', 'total_counts_ribo', 'pct_counts_ribo', 'object'\n",
       "    var: 'feature_types', 'genome-query', 'n_cells_by_counts-query', 'mean_counts-query', 'log1p_mean_counts-query', 'pct_dropout_by_counts-query', 'total_counts-query', 'log1p_total_counts-query', 'n_cells_by_counts-reference', 'mean_counts-reference', 'pct_dropout_by_counts-reference', 'total_counts-reference', 'gene_ids-reference', 'ribo-reference'"
      ]
     },
     "execution_count": 24,
     "metadata": {},
     "output_type": "execute_result"
    }
   ],
   "source": [
    "REF_QUERY = Joanito_ad_tumor.concatenate(control_ad_clean, batch_key = 'object', batch_categories = ['query', 'reference'], join = 'inner')\n",
    "REF_QUERY"
   ]
  },
  {
   "cell_type": "markdown",
   "metadata": {},
   "source": [
    "#### Clean up object"
   ]
  },
  {
   "cell_type": "markdown",
   "metadata": {},
   "source": [
    "- Clean up `adata.obs`"
   ]
  },
  {
   "cell_type": "code",
   "execution_count": 25,
   "metadata": {},
   "outputs": [
    {
     "data": {
      "text/plain": [
       "AnnData object with n_obs × n_vars = 523356 × 33264\n",
       "    obs: 'cell.type', 'Region code', 'domain_label', 'cell_states', 'object'\n",
       "    var: 'feature_types', 'genome-query', 'n_cells_by_counts-query', 'mean_counts-query', 'log1p_mean_counts-query', 'pct_dropout_by_counts-query', 'total_counts-query', 'log1p_total_counts-query', 'n_cells_by_counts-reference', 'mean_counts-reference', 'pct_dropout_by_counts-reference', 'total_counts-reference', 'gene_ids-reference', 'ribo-reference'"
      ]
     },
     "execution_count": 25,
     "metadata": {},
     "output_type": "execute_result"
    }
   ],
   "source": [
    "REF_QUERY.obs.drop(REF_QUERY.obs.columns.difference(['domain_label','cell_states', 'object', \"cell.type\", \"Region code\"]), 1, inplace = True)\n",
    "REF_QUERY"
   ]
  },
  {
   "cell_type": "markdown",
   "metadata": {},
   "source": [
    "- Clean up `adata.var`"
   ]
  },
  {
   "cell_type": "code",
   "execution_count": 26,
   "metadata": {},
   "outputs": [
    {
     "data": {
      "text/plain": [
       "AnnData object with n_obs × n_vars = 523356 × 33264\n",
       "    obs: 'cell.type', 'Region code', 'domain_label', 'cell_states', 'object'"
      ]
     },
     "execution_count": 26,
     "metadata": {},
     "output_type": "execute_result"
    }
   ],
   "source": [
    "REF_QUERY.var.drop(REF_QUERY.var.columns.difference(['mt']), 1, inplace = True)\n",
    "REF_QUERY"
   ]
  },
  {
   "cell_type": "code",
   "execution_count": 27,
   "metadata": {},
   "outputs": [],
   "source": [
    "del Joanito_ad_tumor, control_ad_clean"
   ]
  },
  {
   "cell_type": "code",
   "execution_count": 31,
   "metadata": {},
   "outputs": [
    {
     "data": {
      "text/plain": [
       "T_NK            50441\n",
       "Epithelial      32181\n",
       "McDC            17895\n",
       "PlasmaB         16958\n",
       "Fibroblast      16240\n",
       "B                7674\n",
       "Endothelial      5037\n",
       "Neutrophils      1692\n",
       "Mast             1294\n",
       "Entericglial      858\n",
       "pDC               301\n",
       "Name: cell.type, dtype: int64"
      ]
     },
     "execution_count": 31,
     "metadata": {},
     "output_type": "execute_result"
    }
   ],
   "source": [
    "REF_QUERY.obs['cell.type'].value_counts()"
   ]
  },
  {
   "cell_type": "code",
   "execution_count": 32,
   "metadata": {},
   "outputs": [
    {
     "data": {
      "text/plain": [
       "Mesenchymal        155794\n",
       "Unlabeled          150571\n",
       "Epithelial         129929\n",
       "Neuronal            17594\n",
       "T cells             17394\n",
       "Plasma cells        16445\n",
       "Endothelial         13082\n",
       "B cells             11381\n",
       "Myeloid              9820\n",
       "Red blood cells      1346\n",
       "Name: cell_states, dtype: int64"
      ]
     },
     "execution_count": 32,
     "metadata": {},
     "output_type": "execute_result"
    }
   ],
   "source": [
    "REF_QUERY.obs['cell_states'].value_counts()"
   ]
  },
  {
   "cell_type": "markdown",
   "metadata": {},
   "source": [
    "#### LogP1 normalization"
   ]
  },
  {
   "cell_type": "code",
   "execution_count": 29,
   "metadata": {},
   "outputs": [],
   "source": [
    "#Log normalization\n",
    "sc.pp.log1p(REF_QUERY)"
   ]
  },
  {
   "cell_type": "markdown",
   "metadata": {},
   "source": [
    "#### Train reference with `scNym`"
   ]
  },
  {
   "cell_type": "code",
   "execution_count": 30,
   "metadata": {},
   "outputs": [
    {
     "name": "stdout",
     "output_type": "stream",
     "text": [
      "No CUDA device found.\n",
      "Computations will be performed on the CPU.\n",
      "Add a CUDA compute device to improve speed dramatically.\n",
      "\n",
      "150571 unlabeled observations found.\n",
      "Using unlabeled data as a target set for semi-supervised, adversarial training.\n",
      "\n",
      "training examples:  (372785, 33264)\n",
      "target   examples:  (150571, 33264)\n",
      "X:  (372785, 33264)\n",
      "y:  (372785,)\n",
      "Using user provided domain labels.\n",
      "Found 110 source domains and 97 target domains.\n",
      "Not weighting classes and not balancing classes.\n",
      "Found 207 unique domains.\n",
      "Using MixMatch for semi-supervised learning\n",
      "Scaling ICL over 100 epochs, 0 epochs for burn in.\n",
      "Scaling ICL over 20 epochs, 0 epochs for burn in.\n",
      "Using a Domain Adaptation Loss.\n",
      "Training...\n",
      "Epoch 3/99|______________________________|\r"
     ]
    },
    {
     "ename": "KeyboardInterrupt",
     "evalue": "",
     "output_type": "error",
     "traceback": [
      "\u001b[0;31m---------------------------------------------------------------------------\u001b[0m",
      "\u001b[0;31mKeyboardInterrupt\u001b[0m                         Traceback (most recent call last)",
      "Cell \u001b[0;32mIn [30], line 1\u001b[0m\n\u001b[0;32m----> 1\u001b[0m scnym\u001b[39m.\u001b[39;49mapi\u001b[39m.\u001b[39;49mscnym_api(\n\u001b[1;32m      2\u001b[0m     adata \u001b[39m=\u001b[39;49m REF_QUERY,\n\u001b[1;32m      3\u001b[0m     task \u001b[39m=\u001b[39;49m \u001b[39m'\u001b[39;49m\u001b[39mtrain\u001b[39;49m\u001b[39m'\u001b[39;49m,\n\u001b[1;32m      4\u001b[0m     groupby \u001b[39m=\u001b[39;49m \u001b[39m'\u001b[39;49m\u001b[39mcell_states\u001b[39;49m\u001b[39m'\u001b[39;49m,\n\u001b[1;32m      5\u001b[0m     domain_groupby\u001b[39m=\u001b[39;49m\u001b[39m'\u001b[39;49m\u001b[39mdomain_label\u001b[39;49m\u001b[39m'\u001b[39;49m,\n\u001b[1;32m      6\u001b[0m     out_path \u001b[39m=\u001b[39;49m \u001b[39m'\u001b[39;49m\u001b[39m/lustre/groups/talaveralopez/workspace/anna.maguza/Processed_datasets/scnym_training_on_all_GCA_donors\u001b[39;49m\u001b[39m'\u001b[39;49m,\n\u001b[1;32m      7\u001b[0m     config \u001b[39m=\u001b[39;49m \u001b[39m'\u001b[39;49m\u001b[39mnew_identity_discovery\u001b[39;49m\u001b[39m'\u001b[39;49m,\n\u001b[1;32m      8\u001b[0m )\n",
      "File \u001b[0;32m~/miniconda3/envs/scnym_env/lib/python3.8/site-packages/scnym/api.py:339\u001b[0m, in \u001b[0;36mscnym_api\u001b[0;34m(adata, task, groupby, domain_groupby, out_path, trained_model, config, key_added, copy)\u001b[0m\n\u001b[1;32m    336\u001b[0m         msg \u001b[39m=\u001b[39m \u001b[39mf\u001b[39m\u001b[39m'\u001b[39m\u001b[39m{\u001b[39;00mgroupby\u001b[39m}\u001b[39;00m\u001b[39m is not a variable in `adata.obs`\u001b[39m\u001b[39m'\u001b[39m\n\u001b[1;32m    337\u001b[0m         \u001b[39mraise\u001b[39;00m \u001b[39mValueError\u001b[39;00m(msg)\n\u001b[0;32m--> 339\u001b[0m     scnym_train(\n\u001b[1;32m    340\u001b[0m         adata\u001b[39m=\u001b[39;49madata,\n\u001b[1;32m    341\u001b[0m         config\u001b[39m=\u001b[39;49mconfig,\n\u001b[1;32m    342\u001b[0m     )\n\u001b[1;32m    343\u001b[0m \u001b[39melse\u001b[39;00m:\n\u001b[1;32m    344\u001b[0m     \u001b[39m# check that a pre-trained model was specified or \u001b[39;00m\n\u001b[1;32m    345\u001b[0m     \u001b[39m# provided for prediction\u001b[39;00m\n\u001b[1;32m    346\u001b[0m     \u001b[39mif\u001b[39;00m trained_model \u001b[39mis\u001b[39;00m \u001b[39mNone\u001b[39;00m:\n",
      "File \u001b[0;32m~/miniconda3/envs/scnym_env/lib/python3.8/site-packages/scnym/api.py:514\u001b[0m, in \u001b[0;36mscnym_train\u001b[0;34m(adata, config)\u001b[0m\n\u001b[1;32m    511\u001b[0m         msg \u001b[39m=\u001b[39m \u001b[39mf\u001b[39m\u001b[39m'\u001b[39m\u001b[39m{\u001b[39;00mpretrained\u001b[39m}\u001b[39;00m\u001b[39m file not found.\u001b[39m\u001b[39m'\u001b[39m\n\u001b[1;32m    512\u001b[0m         \u001b[39mraise\u001b[39;00m \u001b[39mFileNotFoundError\u001b[39;00m(msg)\n\u001b[0;32m--> 514\u001b[0m acc, loss \u001b[39m=\u001b[39m main\u001b[39m.\u001b[39;49mfit_model(\n\u001b[1;32m    515\u001b[0m     X\u001b[39m=\u001b[39;49mX,\n\u001b[1;32m    516\u001b[0m     y\u001b[39m=\u001b[39;49my,\n\u001b[1;32m    517\u001b[0m     traintest_idx\u001b[39m=\u001b[39;49mtraintest_idx,\n\u001b[1;32m    518\u001b[0m     val_idx\u001b[39m=\u001b[39;49mval_idx,\n\u001b[1;32m    519\u001b[0m     batch_size\u001b[39m=\u001b[39;49mconfig[\u001b[39m'\u001b[39;49m\u001b[39mbatch_size\u001b[39;49m\u001b[39m'\u001b[39;49m],\n\u001b[1;32m    520\u001b[0m     n_epochs\u001b[39m=\u001b[39;49mconfig[\u001b[39m'\u001b[39;49m\u001b[39mn_epochs\u001b[39;49m\u001b[39m'\u001b[39;49m],\n\u001b[1;32m    521\u001b[0m     lr\u001b[39m=\u001b[39;49mconfig[\u001b[39m'\u001b[39;49m\u001b[39mlr\u001b[39;49m\u001b[39m'\u001b[39;49m],\n\u001b[1;32m    522\u001b[0m     optimizer_name\u001b[39m=\u001b[39;49mconfig[\u001b[39m'\u001b[39;49m\u001b[39moptimizer_name\u001b[39;49m\u001b[39m'\u001b[39;49m],\n\u001b[1;32m    523\u001b[0m     weight_decay\u001b[39m=\u001b[39;49mconfig[\u001b[39m'\u001b[39;49m\u001b[39mweight_decay\u001b[39;49m\u001b[39m'\u001b[39;49m],\n\u001b[1;32m    524\u001b[0m     ModelClass\u001b[39m=\u001b[39;49mmodel\u001b[39m.\u001b[39;49mCellTypeCLF,\n\u001b[1;32m    525\u001b[0m     out_path\u001b[39m=\u001b[39;49mconfig[\u001b[39m'\u001b[39;49m\u001b[39mout_path\u001b[39;49m\u001b[39m'\u001b[39;49m],\n\u001b[1;32m    526\u001b[0m     mixup_alpha\u001b[39m=\u001b[39;49mconfig[\u001b[39m'\u001b[39;49m\u001b[39mmixup_alpha\u001b[39;49m\u001b[39m'\u001b[39;49m],\n\u001b[1;32m    527\u001b[0m     unlabeled_counts\u001b[39m=\u001b[39;49munlabeled_counts,\n\u001b[1;32m    528\u001b[0m     input_domain\u001b[39m=\u001b[39;49minput_domain,\n\u001b[1;32m    529\u001b[0m     unlabeled_domain\u001b[39m=\u001b[39;49munlabeled_domain,\n\u001b[1;32m    530\u001b[0m     unsup_max_weight\u001b[39m=\u001b[39;49mconfig[\u001b[39m'\u001b[39;49m\u001b[39munsup_max_weight\u001b[39;49m\u001b[39m'\u001b[39;49m],\n\u001b[1;32m    531\u001b[0m     unsup_mean_teacher\u001b[39m=\u001b[39;49mconfig[\u001b[39m'\u001b[39;49m\u001b[39munsup_mean_teacher\u001b[39;49m\u001b[39m'\u001b[39;49m],\n\u001b[1;32m    532\u001b[0m     ssl_method\u001b[39m=\u001b[39;49mconfig[\u001b[39m'\u001b[39;49m\u001b[39mssl_method\u001b[39;49m\u001b[39m'\u001b[39;49m],\n\u001b[1;32m    533\u001b[0m     ssl_kwargs\u001b[39m=\u001b[39;49mconfig[\u001b[39m'\u001b[39;49m\u001b[39mssl_kwargs\u001b[39;49m\u001b[39m'\u001b[39;49m],\n\u001b[1;32m    534\u001b[0m     pretrained\u001b[39m=\u001b[39;49mpretrained,\n\u001b[1;32m    535\u001b[0m     patience\u001b[39m=\u001b[39;49mconfig\u001b[39m.\u001b[39;49mget(\u001b[39m'\u001b[39;49m\u001b[39mpatience\u001b[39;49m\u001b[39m'\u001b[39;49m, \u001b[39mNone\u001b[39;49;00m),\n\u001b[1;32m    536\u001b[0m     save_freq\u001b[39m=\u001b[39;49mconfig\u001b[39m.\u001b[39;49mget(\u001b[39m'\u001b[39;49m\u001b[39msave_freq\u001b[39;49m\u001b[39m'\u001b[39;49m, \u001b[39mNone\u001b[39;49;00m),\n\u001b[1;32m    537\u001b[0m     tensorboard\u001b[39m=\u001b[39;49mconfig\u001b[39m.\u001b[39;49mget(\u001b[39m'\u001b[39;49m\u001b[39mtensorboard\u001b[39;49m\u001b[39m'\u001b[39;49m, \u001b[39mFalse\u001b[39;49;00m),\n\u001b[1;32m    538\u001b[0m     \u001b[39m*\u001b[39;49m\u001b[39m*\u001b[39;49mconfig[\u001b[39m'\u001b[39;49m\u001b[39mmodel_kwargs\u001b[39;49m\u001b[39m'\u001b[39;49m],\n\u001b[1;32m    539\u001b[0m )\n\u001b[1;32m    541\u001b[0m \u001b[39m# add the final model results to `adata`\u001b[39;00m\n\u001b[1;32m    542\u001b[0m results \u001b[39m=\u001b[39m {\n\u001b[1;32m    543\u001b[0m     \u001b[39m'\u001b[39m\u001b[39mmodel_path\u001b[39m\u001b[39m'\u001b[39m: osp\u001b[39m.\u001b[39mrealpath(osp\u001b[39m.\u001b[39mjoin(config[\u001b[39m'\u001b[39m\u001b[39mout_path\u001b[39m\u001b[39m'\u001b[39m], \u001b[39m'\u001b[39m\u001b[39m00_best_model_weights.pkl\u001b[39m\u001b[39m'\u001b[39m)),\n\u001b[1;32m    544\u001b[0m     \u001b[39m'\u001b[39m\u001b[39mfinal_acc\u001b[39m\u001b[39m'\u001b[39m: acc,\n\u001b[0;32m   (...)\u001b[0m\n\u001b[1;32m    552\u001b[0m     \u001b[39m'\u001b[39m\u001b[39mval_idx\u001b[39m\u001b[39m'\u001b[39m: val_idx,\n\u001b[1;32m    553\u001b[0m }\n",
      "File \u001b[0;32m~/miniconda3/envs/scnym_env/lib/python3.8/site-packages/scnym/main.py:519\u001b[0m, in \u001b[0;36mfit_model\u001b[0;34m(X, y, traintest_idx, val_idx, batch_size, n_epochs, lr, optimizer_name, weight_decay, ModelClass, out_path, n_genes, mixup_alpha, unlabeled_counts, unsup_max_weight, unsup_mean_teacher, ssl_method, ssl_kwargs, weighted_classes, balanced_classes, input_domain, unlabeled_domain, pretrained, patience, save_freq, tensorboard, **kwargs)\u001b[0m\n\u001b[1;32m    509\u001b[0m     T \u001b[39m=\u001b[39m SemiSupervisedTrainer(\n\u001b[1;32m    510\u001b[0m         unsup_dataloader\u001b[39m=\u001b[39munsup_dataloader,\n\u001b[1;32m    511\u001b[0m         unsup_criterion\u001b[39m=\u001b[39mUSL,\n\u001b[0;32m   (...)\u001b[0m\n\u001b[1;32m    515\u001b[0m         \u001b[39m*\u001b[39m\u001b[39m*\u001b[39mtrainer_kwargs,\n\u001b[1;32m    516\u001b[0m     )\n\u001b[1;32m    518\u001b[0m \u001b[39mprint\u001b[39m(\u001b[39m'\u001b[39m\u001b[39mTraining...\u001b[39m\u001b[39m'\u001b[39m)\n\u001b[0;32m--> 519\u001b[0m T\u001b[39m.\u001b[39;49mtrain()\n\u001b[1;32m    520\u001b[0m \u001b[39mprint\u001b[39m(\u001b[39m'\u001b[39m\u001b[39mTraining complete.\u001b[39m\u001b[39m'\u001b[39m)\n\u001b[1;32m    521\u001b[0m \u001b[39mprint\u001b[39m()\n",
      "File \u001b[0;32m~/miniconda3/envs/scnym_env/lib/python3.8/site-packages/scnym/trainer.py:452\u001b[0m, in \u001b[0;36mTrainer.train\u001b[0;34m(self)\u001b[0m\n\u001b[1;32m    449\u001b[0m \u001b[39mprint\u001b[39m(msg, end\u001b[39m=\u001b[39mend_char)\n\u001b[1;32m    451\u001b[0m \u001b[39m# training epoch\u001b[39;00m\n\u001b[0;32m--> 452\u001b[0m \u001b[39mself\u001b[39;49m\u001b[39m.\u001b[39;49mtrain_epoch()\n\u001b[1;32m    453\u001b[0m \u001b[39m# evaluate model\u001b[39;00m\n\u001b[1;32m    454\u001b[0m \u001b[39mself\u001b[39m\u001b[39m.\u001b[39mval_epoch()\n",
      "File \u001b[0;32m~/miniconda3/envs/scnym_env/lib/python3.8/site-packages/scnym/trainer.py:606\u001b[0m, in \u001b[0;36mSemiSupervisedTrainer.train_epoch\u001b[0;34m(self)\u001b[0m\n\u001b[1;32m    603\u001b[0m     \u001b[39m# NOTE: pseudolabel confidence is only used if `use_conf_pseudolabels`\u001b[39;00m\n\u001b[1;32m    604\u001b[0m     \u001b[39m# was passed to the initiatilization of `DANLoss`\u001b[39;00m\n\u001b[1;32m    605\u001b[0m     pseudolabel_confidence \u001b[39m=\u001b[39m \u001b[39mself\u001b[39m\u001b[39m.\u001b[39munsup_criterion\u001b[39m.\u001b[39mrunning_confidence_scores[\u001b[39m-\u001b[39m\u001b[39m1\u001b[39m][\u001b[39m0\u001b[39m]\n\u001b[0;32m--> 606\u001b[0m     dan_loss \u001b[39m=\u001b[39m \u001b[39mself\u001b[39;49m\u001b[39m.\u001b[39;49mdan_criterion(\n\u001b[1;32m    607\u001b[0m         labeled_sample\u001b[39m=\u001b[39;49mdata,\n\u001b[1;32m    608\u001b[0m         unlabeled_sample\u001b[39m=\u001b[39;49munsup_data,\n\u001b[1;32m    609\u001b[0m         weight\u001b[39m=\u001b[39;49mdan_weight,\n\u001b[1;32m    610\u001b[0m         pseudolabel_confidence\u001b[39m=\u001b[39;49mpseudolabel_confidence,\n\u001b[1;32m    611\u001b[0m     )\n\u001b[1;32m    612\u001b[0m \u001b[39melse\u001b[39;00m:\n\u001b[1;32m    613\u001b[0m     dan_loss \u001b[39m=\u001b[39m torch\u001b[39m.\u001b[39mzeros(\u001b[39m1\u001b[39m,)\u001b[39m.\u001b[39mfloat()\n",
      "File \u001b[0;32m~/miniconda3/envs/scnym_env/lib/python3.8/site-packages/scnym/trainer.py:1746\u001b[0m, in \u001b[0;36mDANLoss.__call__\u001b[0;34m(self, labeled_sample, unlabeled_sample, weight, pseudolabel_confidence)\u001b[0m\n\u001b[1;32m   1743\u001b[0m dlabel \u001b[39m=\u001b[39m torch\u001b[39m.\u001b[39mcat([source_label, target_label], \u001b[39m0\u001b[39m)\n\u001b[1;32m   1745\u001b[0m \u001b[39mself\u001b[39m\u001b[39m.\u001b[39mdann\u001b[39m.\u001b[39mset_rev_grad_weight(weight\u001b[39m=\u001b[39mweight)\n\u001b[0;32m-> 1746\u001b[0m domain_pred, x_embed \u001b[39m=\u001b[39m \u001b[39mself\u001b[39;49m\u001b[39m.\u001b[39;49mdann(x)\n\u001b[1;32m   1748\u001b[0m \u001b[39m# store embeddings and labels\u001b[39;00m\n\u001b[1;32m   1749\u001b[0m \u001b[39mif\u001b[39;00m x_embed\u001b[39m.\u001b[39msize(\u001b[39m0\u001b[39m) \u001b[39m>\u001b[39m\u001b[39m=\u001b[39m \u001b[39mself\u001b[39m\u001b[39m.\u001b[39mx_embed\u001b[39m.\u001b[39msize(\u001b[39m0\u001b[39m):\n",
      "File \u001b[0;32m~/miniconda3/envs/scnym_env/lib/python3.8/site-packages/torch/nn/modules/module.py:532\u001b[0m, in \u001b[0;36mModule.__call__\u001b[0;34m(self, *input, **kwargs)\u001b[0m\n\u001b[1;32m    530\u001b[0m     result \u001b[39m=\u001b[39m \u001b[39mself\u001b[39m\u001b[39m.\u001b[39m_slow_forward(\u001b[39m*\u001b[39m\u001b[39minput\u001b[39m, \u001b[39m*\u001b[39m\u001b[39m*\u001b[39mkwargs)\n\u001b[1;32m    531\u001b[0m \u001b[39melse\u001b[39;00m:\n\u001b[0;32m--> 532\u001b[0m     result \u001b[39m=\u001b[39m \u001b[39mself\u001b[39;49m\u001b[39m.\u001b[39;49mforward(\u001b[39m*\u001b[39;49m\u001b[39minput\u001b[39;49m, \u001b[39m*\u001b[39;49m\u001b[39m*\u001b[39;49mkwargs)\n\u001b[1;32m    533\u001b[0m \u001b[39mfor\u001b[39;00m hook \u001b[39min\u001b[39;00m \u001b[39mself\u001b[39m\u001b[39m.\u001b[39m_forward_hooks\u001b[39m.\u001b[39mvalues():\n\u001b[1;32m    534\u001b[0m     hook_result \u001b[39m=\u001b[39m hook(\u001b[39mself\u001b[39m, \u001b[39minput\u001b[39m, result)\n",
      "File \u001b[0;32m~/miniconda3/envs/scnym_env/lib/python3.8/site-packages/scnym/model.py:371\u001b[0m, in \u001b[0;36mDANN.forward\u001b[0;34m(self, x)\u001b[0m\n\u001b[1;32m    366\u001b[0m x_rev   \u001b[39m=\u001b[39m GradReverse\u001b[39m.\u001b[39mapply(\n\u001b[1;32m    367\u001b[0m     x_embed,\n\u001b[1;32m    368\u001b[0m     \u001b[39mself\u001b[39m\u001b[39m.\u001b[39mweight,\n\u001b[1;32m    369\u001b[0m )\n\u001b[1;32m    370\u001b[0m \u001b[39m# classify the domains\u001b[39;00m\n\u001b[0;32m--> 371\u001b[0m domain_pred \u001b[39m=\u001b[39m \u001b[39mself\u001b[39;49m\u001b[39m.\u001b[39;49mdomain_clf(x_rev)\n\u001b[1;32m    372\u001b[0m \u001b[39mreturn\u001b[39;00m domain_pred, x_embed\n",
      "File \u001b[0;32m~/miniconda3/envs/scnym_env/lib/python3.8/site-packages/torch/nn/modules/module.py:532\u001b[0m, in \u001b[0;36mModule.__call__\u001b[0;34m(self, *input, **kwargs)\u001b[0m\n\u001b[1;32m    530\u001b[0m     result \u001b[39m=\u001b[39m \u001b[39mself\u001b[39m\u001b[39m.\u001b[39m_slow_forward(\u001b[39m*\u001b[39m\u001b[39minput\u001b[39m, \u001b[39m*\u001b[39m\u001b[39m*\u001b[39mkwargs)\n\u001b[1;32m    531\u001b[0m \u001b[39melse\u001b[39;00m:\n\u001b[0;32m--> 532\u001b[0m     result \u001b[39m=\u001b[39m \u001b[39mself\u001b[39;49m\u001b[39m.\u001b[39;49mforward(\u001b[39m*\u001b[39;49m\u001b[39minput\u001b[39;49m, \u001b[39m*\u001b[39;49m\u001b[39m*\u001b[39;49mkwargs)\n\u001b[1;32m    533\u001b[0m \u001b[39mfor\u001b[39;00m hook \u001b[39min\u001b[39;00m \u001b[39mself\u001b[39m\u001b[39m.\u001b[39m_forward_hooks\u001b[39m.\u001b[39mvalues():\n\u001b[1;32m    534\u001b[0m     hook_result \u001b[39m=\u001b[39m hook(\u001b[39mself\u001b[39m, \u001b[39minput\u001b[39m, result)\n",
      "File \u001b[0;32m~/miniconda3/envs/scnym_env/lib/python3.8/site-packages/torch/nn/modules/container.py:100\u001b[0m, in \u001b[0;36mSequential.forward\u001b[0;34m(self, input)\u001b[0m\n\u001b[1;32m     98\u001b[0m \u001b[39mdef\u001b[39;00m \u001b[39mforward\u001b[39m(\u001b[39mself\u001b[39m, \u001b[39minput\u001b[39m):\n\u001b[1;32m     99\u001b[0m     \u001b[39mfor\u001b[39;00m module \u001b[39min\u001b[39;00m \u001b[39mself\u001b[39m:\n\u001b[0;32m--> 100\u001b[0m         \u001b[39minput\u001b[39m \u001b[39m=\u001b[39m module(\u001b[39minput\u001b[39;49m)\n\u001b[1;32m    101\u001b[0m     \u001b[39mreturn\u001b[39;00m \u001b[39minput\u001b[39m\n",
      "File \u001b[0;32m~/miniconda3/envs/scnym_env/lib/python3.8/site-packages/torch/nn/modules/module.py:532\u001b[0m, in \u001b[0;36mModule.__call__\u001b[0;34m(self, *input, **kwargs)\u001b[0m\n\u001b[1;32m    530\u001b[0m     result \u001b[39m=\u001b[39m \u001b[39mself\u001b[39m\u001b[39m.\u001b[39m_slow_forward(\u001b[39m*\u001b[39m\u001b[39minput\u001b[39m, \u001b[39m*\u001b[39m\u001b[39m*\u001b[39mkwargs)\n\u001b[1;32m    531\u001b[0m \u001b[39melse\u001b[39;00m:\n\u001b[0;32m--> 532\u001b[0m     result \u001b[39m=\u001b[39m \u001b[39mself\u001b[39;49m\u001b[39m.\u001b[39;49mforward(\u001b[39m*\u001b[39;49m\u001b[39minput\u001b[39;49m, \u001b[39m*\u001b[39;49m\u001b[39m*\u001b[39;49mkwargs)\n\u001b[1;32m    533\u001b[0m \u001b[39mfor\u001b[39;00m hook \u001b[39min\u001b[39;00m \u001b[39mself\u001b[39m\u001b[39m.\u001b[39m_forward_hooks\u001b[39m.\u001b[39mvalues():\n\u001b[1;32m    534\u001b[0m     hook_result \u001b[39m=\u001b[39m hook(\u001b[39mself\u001b[39m, \u001b[39minput\u001b[39m, result)\n",
      "File \u001b[0;32m~/miniconda3/envs/scnym_env/lib/python3.8/site-packages/torch/nn/modules/linear.py:87\u001b[0m, in \u001b[0;36mLinear.forward\u001b[0;34m(self, input)\u001b[0m\n\u001b[1;32m     86\u001b[0m \u001b[39mdef\u001b[39;00m \u001b[39mforward\u001b[39m(\u001b[39mself\u001b[39m, \u001b[39minput\u001b[39m):\n\u001b[0;32m---> 87\u001b[0m     \u001b[39mreturn\u001b[39;00m F\u001b[39m.\u001b[39;49mlinear(\u001b[39minput\u001b[39;49m, \u001b[39mself\u001b[39;49m\u001b[39m.\u001b[39;49mweight, \u001b[39mself\u001b[39;49m\u001b[39m.\u001b[39;49mbias)\n",
      "File \u001b[0;32m~/miniconda3/envs/scnym_env/lib/python3.8/site-packages/torch/nn/functional.py:1370\u001b[0m, in \u001b[0;36mlinear\u001b[0;34m(input, weight, bias)\u001b[0m\n\u001b[1;32m   1357\u001b[0m \u001b[39mr\u001b[39m\u001b[39m\"\"\"\u001b[39;00m\n\u001b[1;32m   1358\u001b[0m \u001b[39mApplies a linear transformation to the incoming data: :math:`y = xA^T + b`.\u001b[39;00m\n\u001b[1;32m   1359\u001b[0m \n\u001b[0;32m   (...)\u001b[0m\n\u001b[1;32m   1366\u001b[0m \u001b[39m    - Output: :math:`(N, *, out\\_features)`\u001b[39;00m\n\u001b[1;32m   1367\u001b[0m \u001b[39m\"\"\"\u001b[39;00m\n\u001b[1;32m   1368\u001b[0m \u001b[39mif\u001b[39;00m \u001b[39minput\u001b[39m\u001b[39m.\u001b[39mdim() \u001b[39m==\u001b[39m \u001b[39m2\u001b[39m \u001b[39mand\u001b[39;00m bias \u001b[39mis\u001b[39;00m \u001b[39mnot\u001b[39;00m \u001b[39mNone\u001b[39;00m:\n\u001b[1;32m   1369\u001b[0m     \u001b[39m# fused op is marginally faster\u001b[39;00m\n\u001b[0;32m-> 1370\u001b[0m     ret \u001b[39m=\u001b[39m torch\u001b[39m.\u001b[39maddmm(bias, \u001b[39minput\u001b[39m, weight\u001b[39m.\u001b[39;49mt())\n\u001b[1;32m   1371\u001b[0m \u001b[39melse\u001b[39;00m:\n\u001b[1;32m   1372\u001b[0m     output \u001b[39m=\u001b[39m \u001b[39minput\u001b[39m\u001b[39m.\u001b[39mmatmul(weight\u001b[39m.\u001b[39mt())\n",
      "\u001b[0;31mKeyboardInterrupt\u001b[0m: "
     ]
    }
   ],
   "source": [
    "scnym.api.scnym_api(\n",
    "    adata = REF_QUERY,\n",
    "    task = 'train',\n",
    "    groupby = 'cell_states',\n",
    "    domain_groupby='domain_label',\n",
    "    out_path = '/lustre/groups/talaveralopez/workspace/anna.maguza/Processed_datasets/scnym_training_on_all_GCA_donors',\n",
    "    config = 'new_identity_discovery',\n",
    ")"
   ]
  }
 ],
 "metadata": {
  "kernelspec": {
   "display_name": "Python 3 (ipykernel)",
   "language": "python",
   "name": "python3"
  },
  "language_info": {
   "codemirror_mode": {
    "name": "ipython",
    "version": 3
   },
   "file_extension": ".py",
   "mimetype": "text/x-python",
   "name": "python",
   "nbconvert_exporter": "python",
   "pygments_lexer": "ipython3",
   "version": "3.8.15"
  },
  "orig_nbformat": 4
 },
 "nbformat": 4,
 "nbformat_minor": 2
}
