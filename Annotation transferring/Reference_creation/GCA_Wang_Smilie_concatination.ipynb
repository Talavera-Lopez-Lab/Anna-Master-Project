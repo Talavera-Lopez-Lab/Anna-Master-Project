{
 "cells": [
  {
   "cell_type": "markdown",
   "metadata": {},
   "source": [
    "## Notebook for the Reference Map preparation for ExpiMap\n",
    "\n",
    "- **Developed by**: Anna Maguza\n",
    "- **Institute of Computational Biology - Computational Health Centre - Helmholtz Munich**\n",
    "- 13th February 2023"
   ]
  },
  {
   "cell_type": "markdown",
   "metadata": {},
   "source": [
    "#### Import required modules"
   ]
  },
  {
   "cell_type": "code",
   "execution_count": 1,
   "metadata": {
    "vscode": {
     "languageId": "python"
    }
   },
   "outputs": [],
   "source": [
    "import scanpy as sc\n",
    "import torch\n",
    "import scarches as sca\n",
    "import numpy as np\n",
    "import gdown\n",
    "import anndata as ad"
   ]
  },
  {
   "cell_type": "markdown",
   "metadata": {},
   "source": [
    "#### Setup Cells"
   ]
  },
  {
   "cell_type": "code",
   "execution_count": 2,
   "metadata": {
    "vscode": {
     "languageId": "python"
    }
   },
   "outputs": [],
   "source": [
    "%matplotlib inline"
   ]
  },
  {
   "cell_type": "code",
   "execution_count": 3,
   "metadata": {
    "vscode": {
     "languageId": "python"
    }
   },
   "outputs": [
    {
     "name": "stdout",
     "output_type": "stream",
     "text": [
      "scanpy==1.9.1 anndata==0.8.0 umap==0.5.3 numpy==1.23.5 scipy==1.10.0 pandas==1.5.3 scikit-learn==1.2.1 statsmodels==0.13.5 python-igraph==0.10.4 pynndescent==0.5.8\n"
     ]
    }
   ],
   "source": [
    "sc.settings.verbosity = 3             # verbosity: errors (0), warnings (1), info (2), hints (3)\n",
    "sc.logging.print_header()\n",
    "sc.settings.set_figure_params(dpi = 160, color_map = 'magma_r', dpi_save = 300, vector_friendly = True)"
   ]
  },
  {
   "cell_type": "markdown",
   "metadata": {},
   "source": [
    "### Upload All Datasets\n"
   ]
  },
  {
   "cell_type": "code",
   "execution_count": 4,
   "metadata": {
    "vscode": {
     "languageId": "python"
    }
   },
   "outputs": [],
   "source": [
    "# Smilie Dataset\n",
    "input_Smilie = '/lustre/groups/talaveralopez/datasets/Anna_Maguza_Master_2023/Smillie_ulcerative_colitis/Anndata/Smillie_ulcerative_colitis_anndata.h5ad'  # the file that will store the analysis results\n",
    "output_Smilie = '/lustre/groups/talaveralopez/datasets/Anna_Maguza_Master_2023/Smillie_ulcerative_colitis/Anndata/Smillie_ulcerative_colitis_anndata_output.h5ad'  # the file that will store the analysis results"
   ]
  },
  {
   "cell_type": "code",
   "execution_count": 5,
   "metadata": {
    "vscode": {
     "languageId": "python"
    }
   },
   "outputs": [
    {
     "data": {
      "text/plain": [
       "<365492x21784 sparse matrix of type '<class 'numpy.float32'>'\n",
       "\twith 386767544 stored elements in Compressed Sparse Row format>"
      ]
     },
     "execution_count": 5,
     "metadata": {},
     "output_type": "execute_result"
    }
   ],
   "source": [
    "#Anndata upload\n",
    "Smilie = sc.read_h5ad(input_Smilie)\n",
    "Smilie.X"
   ]
  },
  {
   "cell_type": "code",
   "execution_count": 6,
   "metadata": {
    "vscode": {
     "languageId": "python"
    }
   },
   "outputs": [],
   "source": [
    "# Wang Raw Dataset\n",
    "input_Wang = '/lustre/groups/talaveralopez/workspace/anna.maguza/Processed_datasets/Wang_2022/Wang_2022_raw_anndata.h5ad'  # the file that will store the analysis results\n",
    "output_Wang = '/lustre/groups/talaveralopez/workspace/anna.maguza/Processed_datasets/Wang_2022/Wang_2022_raw_anndata_output.h5ad'  # the file that will store the analysis results"
   ]
  },
  {
   "cell_type": "code",
   "execution_count": 7,
   "metadata": {
    "vscode": {
     "languageId": "python"
    }
   },
   "outputs": [
    {
     "data": {
      "text/plain": [
       "array([[0., 0., 0., 0., 0., 0., 0., ..., 0., 0., 0., 0., 0., 0., 0.],\n",
       "       [0., 0., 0., 0., 0., 0., 0., ..., 0., 0., 0., 0., 0., 0., 0.],\n",
       "       [0., 0., 0., 0., 0., 0., 0., ..., 0., 0., 0., 0., 0., 0., 0.],\n",
       "       [0., 0., 0., 0., 0., 0., 0., ..., 0., 0., 0., 0., 0., 0., 0.],\n",
       "       [0., 0., 0., 0., 0., 0., 0., ..., 0., 0., 0., 0., 0., 0., 0.],\n",
       "       [0., 0., 0., 0., 0., 0., 0., ..., 0., 0., 0., 0., 0., 0., 0.],\n",
       "       [0., 0., 0., 0., 0., 0., 0., ..., 0., 0., 0., 0., 0., 0., 0.],\n",
       "       ...,\n",
       "       [0., 0., 0., 0., 0., 0., 0., ..., 0., 0., 0., 0., 0., 0., 0.],\n",
       "       [0., 1., 0., 0., 0., 0., 0., ..., 0., 0., 0., 0., 0., 0., 0.],\n",
       "       [0., 0., 0., 0., 0., 0., 0., ..., 0., 0., 0., 0., 0., 0., 0.],\n",
       "       [0., 0., 0., 0., 0., 0., 0., ..., 0., 0., 0., 0., 0., 0., 0.],\n",
       "       [0., 0., 0., 0., 0., 0., 0., ..., 0., 0., 0., 0., 0., 0., 0.],\n",
       "       [0., 0., 0., 0., 0., 0., 0., ..., 0., 0., 0., 0., 0., 0., 0.],\n",
       "       [0., 0., 0., 0., 0., 0., 0., ..., 0., 0., 0., 0., 0., 0., 0.]],\n",
       "      dtype=float32)"
      ]
     },
     "execution_count": 7,
     "metadata": {},
     "output_type": "execute_result"
    }
   ],
   "source": [
    "#Anndata upload\n",
    "Wang = sc.read_h5ad(input_Wang)\n",
    "Wang.X"
   ]
  },
  {
   "cell_type": "code",
   "execution_count": 8,
   "metadata": {
    "vscode": {
     "languageId": "python"
    }
   },
   "outputs": [],
   "source": [
    "#Gut Cell Atlas Data Loading\n",
    "input_Normal_file = '/lustre/groups/talaveralopez/datasets/Anna_Maguza_Master_2023/Gut_Cell_Atlas_Data/Gut_cell_atlas.h5ad'  # the file that will store the analysis results\n",
    "output_Normal_file = '/lustre/groups/talaveralopez/datasets/Anna_Maguza_Master_2023/Gut_Cell_Atlas_Data/Gut_cell_atlas_output.h5ad'  # the file that will store the analysis results"
   ]
  },
  {
   "cell_type": "code",
   "execution_count": 9,
   "metadata": {
    "vscode": {
     "languageId": "python"
    }
   },
   "outputs": [
    {
     "data": {
      "text/plain": [
       "<428469x33538 sparse matrix of type '<class 'numpy.float32'>'\n",
       "\twith 760344941 stored elements in Compressed Sparse Row format>"
      ]
     },
     "execution_count": 9,
     "metadata": {},
     "output_type": "execute_result"
    }
   ],
   "source": [
    "#Anndata upload\n",
    "control_ad = sc.read_h5ad(input_Normal_file)\n",
    "control_ad.X"
   ]
  },
  {
   "cell_type": "code",
   "execution_count": 10,
   "metadata": {
    "vscode": {
     "languageId": "python"
    }
   },
   "outputs": [],
   "source": [
    "#Pham 2022 Data Loading\n",
    "input_pham_2022 = '/lustre/groups/talaveralopez/datasets/Anna_Maguza_Master_2023/Pham_2022/Anndata/Pham_2022_naiveTSC_adata.h5ad'\n",
    "output_pham_2022 = '/lustre/groups/talaveralopez/datasets/Anna_Maguza_Master_2023/Pham_2022/Anndata/Pham_2022_naiveTSC_adata_output.h5ad'"
   ]
  },
  {
   "cell_type": "code",
   "execution_count": 11,
   "metadata": {
    "vscode": {
     "languageId": "python"
    }
   },
   "outputs": [],
   "source": [
    "#Anndata upload\n",
    "pham_2022 = sc.read_h5ad(input_pham_2022)"
   ]
  },
  {
   "cell_type": "markdown",
   "metadata": {},
   "source": [
    "### Data Preprocessing"
   ]
  },
  {
   "cell_type": "markdown",
   "metadata": {},
   "source": [
    "#### Gut Cell Atlas Data"
   ]
  },
  {
   "cell_type": "code",
   "execution_count": 12,
   "metadata": {
    "vscode": {
     "languageId": "python"
    }
   },
   "outputs": [
    {
     "name": "stderr",
     "output_type": "stream",
     "text": [
      "/tmp/ipykernel_36806/3645214653.py:7: ImplicitModificationWarning: Trying to modify attribute `.var` of view, initializing view as actual.\n",
      "  control_ad_clean.var['ribo'] = control_ad_clean.var_names.str.startswith((\"RPS\",\"RPL\"))  # annotate the group of ribosomal genes as 'ribo'\n"
     ]
    }
   ],
   "source": [
    "#Remove Pediatric Crohn Disease\n",
    "control_ad_clean = control_ad[~control_ad.obs['Diagnosis'].isin(['Pediatric Crohn Disease']),:]\n",
    "del control_ad\n",
    "#Deleting the lymph node samples\n",
    "control_ad_clean = control_ad_clean[~control_ad_clean.obs['Region'].isin(['lymph node']),:]\n",
    "#Adding percentage of ribosomial genes\n",
    "control_ad_clean.var['ribo'] = control_ad_clean.var_names.str.startswith((\"RPS\",\"RPL\"))  # annotate the group of ribosomal genes as 'ribo'\n",
    "sc.pp.calculate_qc_metrics(control_ad_clean, qc_vars=['ribo'], percent_top=None, log1p=False, inplace=True)\n",
    "#Filtering by genes\n",
    "control_ad_clean = control_ad_clean[control_ad_clean.obs.n_genes_by_counts < 5000, :]\n",
    "control_ad_clean = control_ad_clean[control_ad_clean.obs.n_genes_by_counts > 200, :]\n",
    "#Filtering by counts\n",
    "control_ad_clean = control_ad_clean[control_ad_clean.obs.total_counts < 50000, :]"
   ]
  },
  {
   "cell_type": "markdown",
   "metadata": {},
   "source": [
    "#### Smilie Data"
   ]
  },
  {
   "cell_type": "code",
   "execution_count": 13,
   "metadata": {
    "vscode": {
     "languageId": "python"
    }
   },
   "outputs": [],
   "source": [
    "#Extract stem cells from Smilie dataset\n",
    "Smilie_stem = Smilie[Smilie.obs['cell_type'].isin(['Stem']),:]\n",
    "#Filter only not inflamed stem cells from the Smilie_stem \n",
    "Smilie_stem = Smilie_stem[Smilie_stem.obs['Health'].isin(['Healthy', 'Non-inflamed']),:]"
   ]
  },
  {
   "cell_type": "code",
   "execution_count": 14,
   "metadata": {
    "vscode": {
     "languageId": "python"
    }
   },
   "outputs": [
    {
     "data": {
      "text/html": [
       "<div>\n",
       "<style scoped>\n",
       "    .dataframe tbody tr th:only-of-type {\n",
       "        vertical-align: middle;\n",
       "    }\n",
       "\n",
       "    .dataframe tbody tr th {\n",
       "        vertical-align: top;\n",
       "    }\n",
       "\n",
       "    .dataframe thead th {\n",
       "        text-align: right;\n",
       "    }\n",
       "</style>\n",
       "<table border=\"1\" class=\"dataframe\">\n",
       "  <thead>\n",
       "    <tr style=\"text-align: right;\">\n",
       "      <th></th>\n",
       "      <th>cell_id</th>\n",
       "      <th>cell_type</th>\n",
       "      <th>nGene</th>\n",
       "      <th>nUMI</th>\n",
       "      <th>Subject</th>\n",
       "      <th>Sample</th>\n",
       "      <th>Health</th>\n",
       "      <th>Location</th>\n",
       "    </tr>\n",
       "    <tr>\n",
       "      <th>cell_id</th>\n",
       "      <th></th>\n",
       "      <th></th>\n",
       "      <th></th>\n",
       "      <th></th>\n",
       "      <th></th>\n",
       "      <th></th>\n",
       "      <th></th>\n",
       "      <th></th>\n",
       "    </tr>\n",
       "  </thead>\n",
       "  <tbody>\n",
       "    <tr>\n",
       "      <th>N9.EpiA.AAAGACGATCCCGT</th>\n",
       "      <td>N9.EpiA.AAAGACGATCCCGT</td>\n",
       "      <td>Stem</td>\n",
       "      <td>2574</td>\n",
       "      <td>14616</td>\n",
       "      <td>N9</td>\n",
       "      <td>N9.EpiA</td>\n",
       "      <td>Non-inflamed</td>\n",
       "      <td>Epi</td>\n",
       "    </tr>\n",
       "    <tr>\n",
       "      <th>N9.EpiA.AAATGTTGAAAGTG</th>\n",
       "      <td>N9.EpiA.AAATGTTGAAAGTG</td>\n",
       "      <td>Stem</td>\n",
       "      <td>3670</td>\n",
       "      <td>19529</td>\n",
       "      <td>N9</td>\n",
       "      <td>N9.EpiA</td>\n",
       "      <td>Non-inflamed</td>\n",
       "      <td>Epi</td>\n",
       "    </tr>\n",
       "    <tr>\n",
       "      <th>N9.EpiA.AACATTGATTGTCT</th>\n",
       "      <td>N9.EpiA.AACATTGATTGTCT</td>\n",
       "      <td>Stem</td>\n",
       "      <td>1878</td>\n",
       "      <td>10891</td>\n",
       "      <td>N9</td>\n",
       "      <td>N9.EpiA</td>\n",
       "      <td>Non-inflamed</td>\n",
       "      <td>Epi</td>\n",
       "    </tr>\n",
       "    <tr>\n",
       "      <th>N9.EpiA.AAGTCTCTCTCCAC</th>\n",
       "      <td>N9.EpiA.AAGTCTCTCTCCAC</td>\n",
       "      <td>Stem</td>\n",
       "      <td>1040</td>\n",
       "      <td>3535</td>\n",
       "      <td>N9</td>\n",
       "      <td>N9.EpiA</td>\n",
       "      <td>Non-inflamed</td>\n",
       "      <td>Epi</td>\n",
       "    </tr>\n",
       "    <tr>\n",
       "      <th>N9.EpiA.AAGTTATGAGAGTA</th>\n",
       "      <td>N9.EpiA.AAGTTATGAGAGTA</td>\n",
       "      <td>Stem</td>\n",
       "      <td>1350</td>\n",
       "      <td>5972</td>\n",
       "      <td>N9</td>\n",
       "      <td>N9.EpiA</td>\n",
       "      <td>Non-inflamed</td>\n",
       "      <td>Epi</td>\n",
       "    </tr>\n",
       "    <tr>\n",
       "      <th>...</th>\n",
       "      <td>...</td>\n",
       "      <td>...</td>\n",
       "      <td>...</td>\n",
       "      <td>...</td>\n",
       "      <td>...</td>\n",
       "      <td>...</td>\n",
       "      <td>...</td>\n",
       "      <td>...</td>\n",
       "    </tr>\n",
       "    <tr>\n",
       "      <th>N110.LPA.TCGGGACGTCAACTGT</th>\n",
       "      <td>N110.LPA.TCGGGACGTCAACTGT</td>\n",
       "      <td>Stem</td>\n",
       "      <td>1232</td>\n",
       "      <td>4384</td>\n",
       "      <td>N110</td>\n",
       "      <td>N110.LPA</td>\n",
       "      <td>Non-inflamed</td>\n",
       "      <td>LP</td>\n",
       "    </tr>\n",
       "    <tr>\n",
       "      <th>N110.LPA.TGAGCATTCCAGTAGT</th>\n",
       "      <td>N110.LPA.TGAGCATTCCAGTAGT</td>\n",
       "      <td>Stem</td>\n",
       "      <td>3181</td>\n",
       "      <td>15655</td>\n",
       "      <td>N110</td>\n",
       "      <td>N110.LPA</td>\n",
       "      <td>Non-inflamed</td>\n",
       "      <td>LP</td>\n",
       "    </tr>\n",
       "    <tr>\n",
       "      <th>N110.LPA.TGGCCAGAGAGGACGG</th>\n",
       "      <td>N110.LPA.TGGCCAGAGAGGACGG</td>\n",
       "      <td>Stem</td>\n",
       "      <td>4380</td>\n",
       "      <td>26921</td>\n",
       "      <td>N110</td>\n",
       "      <td>N110.LPA</td>\n",
       "      <td>Non-inflamed</td>\n",
       "      <td>LP</td>\n",
       "    </tr>\n",
       "    <tr>\n",
       "      <th>N110.LPA.TTCTTAGCAGTCCTTC</th>\n",
       "      <td>N110.LPA.TTCTTAGCAGTCCTTC</td>\n",
       "      <td>Stem</td>\n",
       "      <td>3634</td>\n",
       "      <td>22468</td>\n",
       "      <td>N110</td>\n",
       "      <td>N110.LPA</td>\n",
       "      <td>Non-inflamed</td>\n",
       "      <td>LP</td>\n",
       "    </tr>\n",
       "    <tr>\n",
       "      <th>N110.LPA.TTTATGCAGACTACAA</th>\n",
       "      <td>N110.LPA.TTTATGCAGACTACAA</td>\n",
       "      <td>Stem</td>\n",
       "      <td>2094</td>\n",
       "      <td>11357</td>\n",
       "      <td>N110</td>\n",
       "      <td>N110.LPA</td>\n",
       "      <td>Non-inflamed</td>\n",
       "      <td>LP</td>\n",
       "    </tr>\n",
       "  </tbody>\n",
       "</table>\n",
       "<p>1848 rows × 8 columns</p>\n",
       "</div>"
      ],
      "text/plain": [
       "                                             cell_id cell_type nGene   nUMI  \\\n",
       "cell_id                                                                       \n",
       "N9.EpiA.AAAGACGATCCCGT        N9.EpiA.AAAGACGATCCCGT      Stem  2574  14616   \n",
       "N9.EpiA.AAATGTTGAAAGTG        N9.EpiA.AAATGTTGAAAGTG      Stem  3670  19529   \n",
       "N9.EpiA.AACATTGATTGTCT        N9.EpiA.AACATTGATTGTCT      Stem  1878  10891   \n",
       "N9.EpiA.AAGTCTCTCTCCAC        N9.EpiA.AAGTCTCTCTCCAC      Stem  1040   3535   \n",
       "N9.EpiA.AAGTTATGAGAGTA        N9.EpiA.AAGTTATGAGAGTA      Stem  1350   5972   \n",
       "...                                              ...       ...   ...    ...   \n",
       "N110.LPA.TCGGGACGTCAACTGT  N110.LPA.TCGGGACGTCAACTGT      Stem  1232   4384   \n",
       "N110.LPA.TGAGCATTCCAGTAGT  N110.LPA.TGAGCATTCCAGTAGT      Stem  3181  15655   \n",
       "N110.LPA.TGGCCAGAGAGGACGG  N110.LPA.TGGCCAGAGAGGACGG      Stem  4380  26921   \n",
       "N110.LPA.TTCTTAGCAGTCCTTC  N110.LPA.TTCTTAGCAGTCCTTC      Stem  3634  22468   \n",
       "N110.LPA.TTTATGCAGACTACAA  N110.LPA.TTTATGCAGACTACAA      Stem  2094  11357   \n",
       "\n",
       "                          Subject    Sample        Health Location  \n",
       "cell_id                                                             \n",
       "N9.EpiA.AAAGACGATCCCGT         N9   N9.EpiA  Non-inflamed      Epi  \n",
       "N9.EpiA.AAATGTTGAAAGTG         N9   N9.EpiA  Non-inflamed      Epi  \n",
       "N9.EpiA.AACATTGATTGTCT         N9   N9.EpiA  Non-inflamed      Epi  \n",
       "N9.EpiA.AAGTCTCTCTCCAC         N9   N9.EpiA  Non-inflamed      Epi  \n",
       "N9.EpiA.AAGTTATGAGAGTA         N9   N9.EpiA  Non-inflamed      Epi  \n",
       "...                           ...       ...           ...      ...  \n",
       "N110.LPA.TCGGGACGTCAACTGT    N110  N110.LPA  Non-inflamed       LP  \n",
       "N110.LPA.TGAGCATTCCAGTAGT    N110  N110.LPA  Non-inflamed       LP  \n",
       "N110.LPA.TGGCCAGAGAGGACGG    N110  N110.LPA  Non-inflamed       LP  \n",
       "N110.LPA.TTCTTAGCAGTCCTTC    N110  N110.LPA  Non-inflamed       LP  \n",
       "N110.LPA.TTTATGCAGACTACAA    N110  N110.LPA  Non-inflamed       LP  \n",
       "\n",
       "[1848 rows x 8 columns]"
      ]
     },
     "execution_count": 14,
     "metadata": {},
     "output_type": "execute_result"
    }
   ],
   "source": [
    "Smilie_stem.obs"
   ]
  },
  {
   "cell_type": "markdown",
   "metadata": {},
   "source": [
    "#### Wang Data"
   ]
  },
  {
   "cell_type": "code",
   "execution_count": 15,
   "metadata": {
    "vscode": {
     "languageId": "python"
    }
   },
   "outputs": [],
   "source": [
    "#Extract stem cells from Wang colon dataset\n",
    "Wang_stem = Wang[Wang.obs['CellType'].isin(['Stem Cell']),:]"
   ]
  },
  {
   "cell_type": "code",
   "execution_count": 16,
   "metadata": {
    "vscode": {
     "languageId": "python"
    }
   },
   "outputs": [
    {
     "data": {
      "text/html": [
       "<div>\n",
       "<style scoped>\n",
       "    .dataframe tbody tr th:only-of-type {\n",
       "        vertical-align: middle;\n",
       "    }\n",
       "\n",
       "    .dataframe tbody tr th {\n",
       "        vertical-align: top;\n",
       "    }\n",
       "\n",
       "    .dataframe thead th {\n",
       "        text-align: right;\n",
       "    }\n",
       "</style>\n",
       "<table border=\"1\" class=\"dataframe\">\n",
       "  <thead>\n",
       "    <tr style=\"text-align: right;\">\n",
       "      <th></th>\n",
       "      <th>UniqueCell_ID</th>\n",
       "      <th>Sample_ID</th>\n",
       "      <th>CellType</th>\n",
       "    </tr>\n",
       "    <tr>\n",
       "      <th>UniqueCell_ID</th>\n",
       "      <th></th>\n",
       "      <th></th>\n",
       "      <th></th>\n",
       "    </tr>\n",
       "  </thead>\n",
       "  <tbody>\n",
       "    <tr>\n",
       "      <th>AACACGTTCTTGCATT_Ileum-1_Stem Cell</th>\n",
       "      <td>AACACGTTCTTGCATT_Ileum-1_Stem Cell</td>\n",
       "      <td>Ileum-1</td>\n",
       "      <td>Stem Cell</td>\n",
       "    </tr>\n",
       "    <tr>\n",
       "      <th>AACCGCGCATGAAGTA_Ileum-1_Stem Cell</th>\n",
       "      <td>AACCGCGCATGAAGTA_Ileum-1_Stem Cell</td>\n",
       "      <td>Ileum-1</td>\n",
       "      <td>Stem Cell</td>\n",
       "    </tr>\n",
       "    <tr>\n",
       "      <th>AACTCAGAGCGATCCC_Ileum-1_Stem Cell</th>\n",
       "      <td>AACTCAGAGCGATCCC_Ileum-1_Stem Cell</td>\n",
       "      <td>Ileum-1</td>\n",
       "      <td>Stem Cell</td>\n",
       "    </tr>\n",
       "    <tr>\n",
       "      <th>AACTCCCTCTCAACTT_Ileum-1_Stem Cell</th>\n",
       "      <td>AACTCCCTCTCAACTT_Ileum-1_Stem Cell</td>\n",
       "      <td>Ileum-1</td>\n",
       "      <td>Stem Cell</td>\n",
       "    </tr>\n",
       "    <tr>\n",
       "      <th>AACTCTTAGCTTCGCG_Ileum-1_Stem Cell</th>\n",
       "      <td>AACTCTTAGCTTCGCG_Ileum-1_Stem Cell</td>\n",
       "      <td>Ileum-1</td>\n",
       "      <td>Stem Cell</td>\n",
       "    </tr>\n",
       "    <tr>\n",
       "      <th>...</th>\n",
       "      <td>...</td>\n",
       "      <td>...</td>\n",
       "      <td>...</td>\n",
       "    </tr>\n",
       "    <tr>\n",
       "      <th>TCAGGATGTTCCACAA_Rectum-2_Stem Cell</th>\n",
       "      <td>TCAGGATGTTCCACAA_Rectum-2_Stem Cell</td>\n",
       "      <td>Rectum-2</td>\n",
       "      <td>Stem Cell</td>\n",
       "    </tr>\n",
       "    <tr>\n",
       "      <th>TCCACACAGCAATATG_Rectum-2_Stem Cell</th>\n",
       "      <td>TCCACACAGCAATATG_Rectum-2_Stem Cell</td>\n",
       "      <td>Rectum-2</td>\n",
       "      <td>Stem Cell</td>\n",
       "    </tr>\n",
       "    <tr>\n",
       "      <th>TCGAGGCCAAGGTGTG_Rectum-2_Stem Cell</th>\n",
       "      <td>TCGAGGCCAAGGTGTG_Rectum-2_Stem Cell</td>\n",
       "      <td>Rectum-2</td>\n",
       "      <td>Stem Cell</td>\n",
       "    </tr>\n",
       "    <tr>\n",
       "      <th>TCTATTGTCTTCGAGA_Rectum-2_Stem Cell</th>\n",
       "      <td>TCTATTGTCTTCGAGA_Rectum-2_Stem Cell</td>\n",
       "      <td>Rectum-2</td>\n",
       "      <td>Stem Cell</td>\n",
       "    </tr>\n",
       "    <tr>\n",
       "      <th>TGCCCTAGTAGCCTCG_Rectum-2_Stem Cell</th>\n",
       "      <td>TGCCCTAGTAGCCTCG_Rectum-2_Stem Cell</td>\n",
       "      <td>Rectum-2</td>\n",
       "      <td>Stem Cell</td>\n",
       "    </tr>\n",
       "  </tbody>\n",
       "</table>\n",
       "<p>660 rows × 3 columns</p>\n",
       "</div>"
      ],
      "text/plain": [
       "                                                           UniqueCell_ID  \\\n",
       "UniqueCell_ID                                                              \n",
       "AACACGTTCTTGCATT_Ileum-1_Stem Cell    AACACGTTCTTGCATT_Ileum-1_Stem Cell   \n",
       "AACCGCGCATGAAGTA_Ileum-1_Stem Cell    AACCGCGCATGAAGTA_Ileum-1_Stem Cell   \n",
       "AACTCAGAGCGATCCC_Ileum-1_Stem Cell    AACTCAGAGCGATCCC_Ileum-1_Stem Cell   \n",
       "AACTCCCTCTCAACTT_Ileum-1_Stem Cell    AACTCCCTCTCAACTT_Ileum-1_Stem Cell   \n",
       "AACTCTTAGCTTCGCG_Ileum-1_Stem Cell    AACTCTTAGCTTCGCG_Ileum-1_Stem Cell   \n",
       "...                                                                  ...   \n",
       "TCAGGATGTTCCACAA_Rectum-2_Stem Cell  TCAGGATGTTCCACAA_Rectum-2_Stem Cell   \n",
       "TCCACACAGCAATATG_Rectum-2_Stem Cell  TCCACACAGCAATATG_Rectum-2_Stem Cell   \n",
       "TCGAGGCCAAGGTGTG_Rectum-2_Stem Cell  TCGAGGCCAAGGTGTG_Rectum-2_Stem Cell   \n",
       "TCTATTGTCTTCGAGA_Rectum-2_Stem Cell  TCTATTGTCTTCGAGA_Rectum-2_Stem Cell   \n",
       "TGCCCTAGTAGCCTCG_Rectum-2_Stem Cell  TGCCCTAGTAGCCTCG_Rectum-2_Stem Cell   \n",
       "\n",
       "                                    Sample_ID   CellType  \n",
       "UniqueCell_ID                                             \n",
       "AACACGTTCTTGCATT_Ileum-1_Stem Cell    Ileum-1  Stem Cell  \n",
       "AACCGCGCATGAAGTA_Ileum-1_Stem Cell    Ileum-1  Stem Cell  \n",
       "AACTCAGAGCGATCCC_Ileum-1_Stem Cell    Ileum-1  Stem Cell  \n",
       "AACTCCCTCTCAACTT_Ileum-1_Stem Cell    Ileum-1  Stem Cell  \n",
       "AACTCTTAGCTTCGCG_Ileum-1_Stem Cell    Ileum-1  Stem Cell  \n",
       "...                                       ...        ...  \n",
       "TCAGGATGTTCCACAA_Rectum-2_Stem Cell  Rectum-2  Stem Cell  \n",
       "TCCACACAGCAATATG_Rectum-2_Stem Cell  Rectum-2  Stem Cell  \n",
       "TCGAGGCCAAGGTGTG_Rectum-2_Stem Cell  Rectum-2  Stem Cell  \n",
       "TCTATTGTCTTCGAGA_Rectum-2_Stem Cell  Rectum-2  Stem Cell  \n",
       "TGCCCTAGTAGCCTCG_Rectum-2_Stem Cell  Rectum-2  Stem Cell  \n",
       "\n",
       "[660 rows x 3 columns]"
      ]
     },
     "execution_count": 16,
     "metadata": {},
     "output_type": "execute_result"
    }
   ],
   "source": [
    "Wang_stem.obs"
   ]
  },
  {
   "cell_type": "markdown",
   "metadata": {},
   "source": [
    "### Concatenate all anndata files"
   ]
  },
  {
   "cell_type": "code",
   "execution_count": 17,
   "metadata": {
    "vscode": {
     "languageId": "python"
    }
   },
   "outputs": [
    {
     "name": "stderr",
     "output_type": "stream",
     "text": [
      "/tmp/ipykernel_36806/3640803422.py:2: ImplicitModificationWarning: Trying to modify attribute `.obs` of view, initializing view as actual.\n",
      "  Wang_stem.obs['Study_name'] = 'Wang'\n",
      "/tmp/ipykernel_36806/3640803422.py:3: ImplicitModificationWarning: Trying to modify attribute `.obs` of view, initializing view as actual.\n",
      "  control_ad_clean.obs['Study_name'] = 'Gut Cell Atlas'\n",
      "/tmp/ipykernel_36806/3640803422.py:4: ImplicitModificationWarning: Trying to modify attribute `.obs` of view, initializing view as actual.\n",
      "  Smilie_stem.obs['Study_name'] = 'Smilie'\n"
     ]
    }
   ],
   "source": [
    "#Add column with study name to each anndata object\n",
    "Wang_stem.obs['Study_name'] = 'Wang'\n",
    "control_ad_clean.obs['Study_name'] = 'Gut Cell Atlas'\n",
    "Smilie_stem.obs['Study_name'] = 'Smilie'"
   ]
  },
  {
   "cell_type": "code",
   "execution_count": 18,
   "metadata": {
    "vscode": {
     "languageId": "python"
    }
   },
   "outputs": [],
   "source": [
    "# Rename obs index to cell_id in Wang_stem\n",
    "Wang_stem.obs.index.name = \"cell_id\"\n",
    "control_ad_clean.obs.index.name = \"cell_id\"\n",
    "Smilie_stem.obs.index.name = \"cell_id\""
   ]
  },
  {
   "cell_type": "code",
   "execution_count": 19,
   "metadata": {
    "vscode": {
     "languageId": "python"
    }
   },
   "outputs": [],
   "source": [
    "# Rename columns in control_ad_clean as they are in Wang_stem\n",
    "control_ad_clean.obs[\"Sample_ID\"] = control_ad_clean.obs[\"sample name\"]\n",
    "del control_ad_clean.obs[\"sample name\"]\n",
    "control_ad_clean.obs[\"CellType\"] = control_ad_clean.obs[\"category\"]\n",
    "del control_ad_clean.obs[\"category\"]\n",
    "control_ad_clean.obs[\"Location\"] = control_ad_clean.obs[\"Region\"]\n",
    "del control_ad_clean.obs[\"Region\"]\n",
    "control_ad_clean.obs[\"n_counts\"] = control_ad_clean.obs[\"total_counts\"]\n",
    "del control_ad_clean.obs[\"total_counts\"]\n",
    "control_ad_clean.obs[\"percent_mito\"] = control_ad_clean.obs[\"pct_counts_mt\"]\n",
    "del control_ad_clean.obs[\"pct_counts_mt\"]\n",
    "control_ad_clean.obs[\"percent_ribo\"] = control_ad_clean.obs[\"pct_counts_ribo\"]\n",
    "del control_ad_clean.obs[\"pct_counts_ribo\"]\n",
    "control_ad_clean.obs[\"Subject\"] = control_ad_clean.obs[\"Sample name\"]\n",
    "del control_ad_clean.obs[\"Sample name\"]"
   ]
  },
  {
   "cell_type": "code",
   "execution_count": 20,
   "metadata": {
    "vscode": {
     "languageId": "python"
    }
   },
   "outputs": [],
   "source": [
    "# Rename columns in Smilie_stem as they are in Wang_stem\n",
    "del Smilie_stem.obs[\"cell_id\"]\n",
    "Smilie_stem.obs[\"Sample_ID\"] = Smilie_stem.obs[\"Sample\"]\n",
    "del Smilie_stem.obs[\"Sample\"]\n",
    "Smilie_stem.obs[\"CellType\"] = Smilie_stem.obs[\"cell_type\"]\n",
    "del Smilie_stem.obs[\"cell_type\"]\n",
    "Smilie_stem.obs[\"n_counts\"] = Smilie_stem.obs[\"nUMI\"]\n",
    "del Smilie_stem.obs[\"nUMI\"]\n",
    "Smilie_stem.obs[\"n_genes\"] = Smilie_stem.obs[\"nGene\"]\n",
    "del Smilie_stem.obs[\"nGene\"]\n",
    "Smilie_stem.obs[\"Diagnosis\"] = Smilie_stem.obs[\"Health\"]\n",
    "del Smilie_stem.obs[\"Health\"]\n",
    "Smilie_stem.obs[\"CellType\"] = 'Stem Cell'"
   ]
  },
  {
   "cell_type": "code",
   "execution_count": 21,
   "metadata": {
    "vscode": {
     "languageId": "python"
    }
   },
   "outputs": [
    {
     "data": {
      "text/html": [
       "<div>\n",
       "<style scoped>\n",
       "    .dataframe tbody tr th:only-of-type {\n",
       "        vertical-align: middle;\n",
       "    }\n",
       "\n",
       "    .dataframe tbody tr th {\n",
       "        vertical-align: top;\n",
       "    }\n",
       "\n",
       "    .dataframe thead th {\n",
       "        text-align: right;\n",
       "    }\n",
       "</style>\n",
       "<table border=\"1\" class=\"dataframe\">\n",
       "  <thead>\n",
       "    <tr style=\"text-align: right;\">\n",
       "      <th></th>\n",
       "    </tr>\n",
       "  </thead>\n",
       "  <tbody>\n",
       "    <tr>\n",
       "      <th>7SK</th>\n",
       "    </tr>\n",
       "    <tr>\n",
       "      <th>A1BG</th>\n",
       "    </tr>\n",
       "    <tr>\n",
       "      <th>A1BG-AS1</th>\n",
       "    </tr>\n",
       "    <tr>\n",
       "      <th>A1CF</th>\n",
       "    </tr>\n",
       "    <tr>\n",
       "      <th>A2M</th>\n",
       "    </tr>\n",
       "    <tr>\n",
       "      <th>...</th>\n",
       "    </tr>\n",
       "    <tr>\n",
       "      <th>hsa-mir-5571</th>\n",
       "    </tr>\n",
       "    <tr>\n",
       "      <th>hsa-mir-6080</th>\n",
       "    </tr>\n",
       "    <tr>\n",
       "      <th>hsa-mir-8072</th>\n",
       "    </tr>\n",
       "    <tr>\n",
       "      <th>snoU109</th>\n",
       "    </tr>\n",
       "    <tr>\n",
       "      <th>snoU13</th>\n",
       "    </tr>\n",
       "  </tbody>\n",
       "</table>\n",
       "<p>21784 rows × 0 columns</p>\n",
       "</div>"
      ],
      "text/plain": [
       "Empty DataFrame\n",
       "Columns: []\n",
       "Index: [7SK, A1BG, A1BG-AS1, A1CF, A2M, A2M-AS1, A2ML1, A4GALT, AAAS, AACS, AADAC, AADAT, AAED1, AAGAB, AAK1, AAMDC, AAMP, AANAT, AAR2, AARD, AARS, AARS2, AARSD1, AASDH, AASDHPPT, AASS, AATF, AATK, ABAT, ABCA1, ABCA10, ABCA12, ABCA13, ABCA2, ABCA3, ABCA4, ABCA5, ABCA6, ABCA7, ABCA8, ABCA9, ABCB1, ABCB10, ABCB11, ABCB4, ABCB5, ABCB7, ABCB8, ABCB9, ABCC1, ABCC10, ABCC2, ABCC3, ABCC4, ABCC5, ABCC6, ABCC8, ABCC9, ABCD1, ABCD2, ABCD3, ABCD4, ABCE1, ABCF1, ABCF2, ABCF3, ABCG1, ABCG2, ABCG5, ABCG8, ABHD1, ABHD10, ABHD11, ABHD12, ABHD12B, ABHD13, ABHD14A, ABHD14B, ABHD15, ABHD16A, ABHD17A, ABHD17B, ABHD17C, ABHD2, ABHD3, ABHD4, ABHD5, ABHD6, ABHD8, ABI1, ABI2, ABI3, ABI3BP, ABL1, ABL2, ABLIM1, ABLIM2, ABLIM3, ABO, ABR, ...]\n",
       "\n",
       "[21784 rows x 0 columns]"
      ]
     },
     "execution_count": 21,
     "metadata": {},
     "output_type": "execute_result"
    }
   ],
   "source": [
    "Smilie_stem.var"
   ]
  },
  {
   "cell_type": "code",
   "execution_count": 22,
   "metadata": {
    "vscode": {
     "languageId": "python"
    }
   },
   "outputs": [
    {
     "data": {
      "text/html": [
       "<div>\n",
       "<style scoped>\n",
       "    .dataframe tbody tr th:only-of-type {\n",
       "        vertical-align: middle;\n",
       "    }\n",
       "\n",
       "    .dataframe tbody tr th {\n",
       "        vertical-align: top;\n",
       "    }\n",
       "\n",
       "    .dataframe thead th {\n",
       "        text-align: right;\n",
       "    }\n",
       "</style>\n",
       "<table border=\"1\" class=\"dataframe\">\n",
       "  <thead>\n",
       "    <tr style=\"text-align: right;\">\n",
       "      <th></th>\n",
       "      <th>GENE</th>\n",
       "    </tr>\n",
       "    <tr>\n",
       "      <th>GENE</th>\n",
       "      <th></th>\n",
       "    </tr>\n",
       "  </thead>\n",
       "  <tbody>\n",
       "    <tr>\n",
       "      <th>RP11-34P13.7</th>\n",
       "      <td>RP11-34P13.7</td>\n",
       "    </tr>\n",
       "    <tr>\n",
       "      <th>FO538757.2</th>\n",
       "      <td>FO538757.2</td>\n",
       "    </tr>\n",
       "    <tr>\n",
       "      <th>AP006222.2</th>\n",
       "      <td>AP006222.2</td>\n",
       "    </tr>\n",
       "    <tr>\n",
       "      <th>RP4-669L17.10</th>\n",
       "      <td>RP4-669L17.10</td>\n",
       "    </tr>\n",
       "    <tr>\n",
       "      <th>RP11-206L10.9</th>\n",
       "      <td>RP11-206L10.9</td>\n",
       "    </tr>\n",
       "    <tr>\n",
       "      <th>...</th>\n",
       "      <td>...</td>\n",
       "    </tr>\n",
       "    <tr>\n",
       "      <th>GGT2</th>\n",
       "      <td>GGT2</td>\n",
       "    </tr>\n",
       "    <tr>\n",
       "      <th>RP3-510H16.3</th>\n",
       "      <td>RP3-510H16.3</td>\n",
       "    </tr>\n",
       "    <tr>\n",
       "      <th>RP4-669P10.16</th>\n",
       "      <td>RP4-669P10.16</td>\n",
       "    </tr>\n",
       "    <tr>\n",
       "      <th>BACH1-AS1</th>\n",
       "      <td>BACH1-AS1</td>\n",
       "    </tr>\n",
       "    <tr>\n",
       "      <th>DNMT3L</th>\n",
       "      <td>DNMT3L</td>\n",
       "    </tr>\n",
       "  </tbody>\n",
       "</table>\n",
       "<p>19525 rows × 1 columns</p>\n",
       "</div>"
      ],
      "text/plain": [
       "                        GENE\n",
       "GENE                        \n",
       "RP11-34P13.7    RP11-34P13.7\n",
       "FO538757.2        FO538757.2\n",
       "AP006222.2        AP006222.2\n",
       "RP4-669L17.10  RP4-669L17.10\n",
       "RP11-206L10.9  RP11-206L10.9\n",
       "...                      ...\n",
       "GGT2                    GGT2\n",
       "RP3-510H16.3    RP3-510H16.3\n",
       "RP4-669P10.16  RP4-669P10.16\n",
       "BACH1-AS1          BACH1-AS1\n",
       "DNMT3L                DNMT3L\n",
       "\n",
       "[19525 rows x 1 columns]"
      ]
     },
     "execution_count": 22,
     "metadata": {},
     "output_type": "execute_result"
    }
   ],
   "source": [
    "Wang_stem.var"
   ]
  },
  {
   "cell_type": "code",
   "execution_count": 23,
   "metadata": {
    "vscode": {
     "languageId": "python"
    }
   },
   "outputs": [
    {
     "data": {
      "text/html": [
       "<div>\n",
       "<style scoped>\n",
       "    .dataframe tbody tr th:only-of-type {\n",
       "        vertical-align: middle;\n",
       "    }\n",
       "\n",
       "    .dataframe tbody tr th {\n",
       "        vertical-align: top;\n",
       "    }\n",
       "\n",
       "    .dataframe thead th {\n",
       "        text-align: right;\n",
       "    }\n",
       "</style>\n",
       "<table border=\"1\" class=\"dataframe\">\n",
       "  <thead>\n",
       "    <tr style=\"text-align: right;\">\n",
       "      <th></th>\n",
       "      <th>gene_ids</th>\n",
       "      <th>feature_types</th>\n",
       "      <th>ribo</th>\n",
       "      <th>n_cells_by_counts</th>\n",
       "      <th>mean_counts</th>\n",
       "      <th>pct_dropout_by_counts</th>\n",
       "      <th>total_counts</th>\n",
       "    </tr>\n",
       "  </thead>\n",
       "  <tbody>\n",
       "    <tr>\n",
       "      <th>MIR1302-2HG</th>\n",
       "      <td>ENSG00000243485</td>\n",
       "      <td>Gene Expression</td>\n",
       "      <td>False</td>\n",
       "      <td>49</td>\n",
       "      <td>0.000128</td>\n",
       "      <td>99.987172</td>\n",
       "      <td>49.0</td>\n",
       "    </tr>\n",
       "    <tr>\n",
       "      <th>FAM138A</th>\n",
       "      <td>ENSG00000237613</td>\n",
       "      <td>Gene Expression</td>\n",
       "      <td>False</td>\n",
       "      <td>2</td>\n",
       "      <td>0.000005</td>\n",
       "      <td>99.999476</td>\n",
       "      <td>2.0</td>\n",
       "    </tr>\n",
       "    <tr>\n",
       "      <th>OR4F5</th>\n",
       "      <td>ENSG00000186092</td>\n",
       "      <td>Gene Expression</td>\n",
       "      <td>False</td>\n",
       "      <td>3</td>\n",
       "      <td>0.000008</td>\n",
       "      <td>99.999215</td>\n",
       "      <td>3.0</td>\n",
       "    </tr>\n",
       "    <tr>\n",
       "      <th>AL627309.1</th>\n",
       "      <td>ENSG00000238009</td>\n",
       "      <td>Gene Expression</td>\n",
       "      <td>False</td>\n",
       "      <td>441</td>\n",
       "      <td>0.001157</td>\n",
       "      <td>99.884545</td>\n",
       "      <td>442.0</td>\n",
       "    </tr>\n",
       "    <tr>\n",
       "      <th>AL627309.3</th>\n",
       "      <td>ENSG00000239945</td>\n",
       "      <td>Gene Expression</td>\n",
       "      <td>False</td>\n",
       "      <td>32</td>\n",
       "      <td>0.000084</td>\n",
       "      <td>99.991622</td>\n",
       "      <td>32.0</td>\n",
       "    </tr>\n",
       "    <tr>\n",
       "      <th>...</th>\n",
       "      <td>...</td>\n",
       "      <td>...</td>\n",
       "      <td>...</td>\n",
       "      <td>...</td>\n",
       "      <td>...</td>\n",
       "      <td>...</td>\n",
       "      <td>...</td>\n",
       "    </tr>\n",
       "    <tr>\n",
       "      <th>AC233755.2</th>\n",
       "      <td>ENSG00000277856</td>\n",
       "      <td>Gene Expression</td>\n",
       "      <td>False</td>\n",
       "      <td>2759</td>\n",
       "      <td>0.271879</td>\n",
       "      <td>99.277686</td>\n",
       "      <td>103849.0</td>\n",
       "    </tr>\n",
       "    <tr>\n",
       "      <th>AC233755.1</th>\n",
       "      <td>ENSG00000275063</td>\n",
       "      <td>Gene Expression</td>\n",
       "      <td>False</td>\n",
       "      <td>3404</td>\n",
       "      <td>0.631719</td>\n",
       "      <td>99.108824</td>\n",
       "      <td>241296.0</td>\n",
       "    </tr>\n",
       "    <tr>\n",
       "      <th>AC240274.1</th>\n",
       "      <td>ENSG00000271254</td>\n",
       "      <td>Gene Expression</td>\n",
       "      <td>False</td>\n",
       "      <td>18267</td>\n",
       "      <td>0.053112</td>\n",
       "      <td>95.217650</td>\n",
       "      <td>20287.0</td>\n",
       "    </tr>\n",
       "    <tr>\n",
       "      <th>AC213203.1</th>\n",
       "      <td>ENSG00000277475</td>\n",
       "      <td>Gene Expression</td>\n",
       "      <td>False</td>\n",
       "      <td>12</td>\n",
       "      <td>0.000031</td>\n",
       "      <td>99.996858</td>\n",
       "      <td>12.0</td>\n",
       "    </tr>\n",
       "    <tr>\n",
       "      <th>FAM231C</th>\n",
       "      <td>ENSG00000268674</td>\n",
       "      <td>Gene Expression</td>\n",
       "      <td>False</td>\n",
       "      <td>12</td>\n",
       "      <td>0.000031</td>\n",
       "      <td>99.996858</td>\n",
       "      <td>12.0</td>\n",
       "    </tr>\n",
       "  </tbody>\n",
       "</table>\n",
       "<p>33538 rows × 7 columns</p>\n",
       "</div>"
      ],
      "text/plain": [
       "                    gene_ids    feature_types   ribo  n_cells_by_counts  \\\n",
       "MIR1302-2HG  ENSG00000243485  Gene Expression  False                 49   \n",
       "FAM138A      ENSG00000237613  Gene Expression  False                  2   \n",
       "OR4F5        ENSG00000186092  Gene Expression  False                  3   \n",
       "AL627309.1   ENSG00000238009  Gene Expression  False                441   \n",
       "AL627309.3   ENSG00000239945  Gene Expression  False                 32   \n",
       "...                      ...              ...    ...                ...   \n",
       "AC233755.2   ENSG00000277856  Gene Expression  False               2759   \n",
       "AC233755.1   ENSG00000275063  Gene Expression  False               3404   \n",
       "AC240274.1   ENSG00000271254  Gene Expression  False              18267   \n",
       "AC213203.1   ENSG00000277475  Gene Expression  False                 12   \n",
       "FAM231C      ENSG00000268674  Gene Expression  False                 12   \n",
       "\n",
       "             mean_counts  pct_dropout_by_counts  total_counts  \n",
       "MIR1302-2HG     0.000128              99.987172          49.0  \n",
       "FAM138A         0.000005              99.999476           2.0  \n",
       "OR4F5           0.000008              99.999215           3.0  \n",
       "AL627309.1      0.001157              99.884545         442.0  \n",
       "AL627309.3      0.000084              99.991622          32.0  \n",
       "...                  ...                    ...           ...  \n",
       "AC233755.2      0.271879              99.277686      103849.0  \n",
       "AC233755.1      0.631719              99.108824      241296.0  \n",
       "AC240274.1      0.053112              95.217650       20287.0  \n",
       "AC213203.1      0.000031              99.996858          12.0  \n",
       "FAM231C         0.000031              99.996858          12.0  \n",
       "\n",
       "[33538 rows x 7 columns]"
      ]
     },
     "execution_count": 23,
     "metadata": {},
     "output_type": "execute_result"
    }
   ],
   "source": [
    "control_ad_clean.var"
   ]
  },
  {
   "cell_type": "code",
   "execution_count": 24,
   "metadata": {
    "vscode": {
     "languageId": "python"
    }
   },
   "outputs": [],
   "source": [
    "# Rename var index to gene_id in Wang_stem, control_ad_clean and Smilie_stem\n",
    "Wang_stem.var.index.name = \"gene_id\"\n",
    "control_ad_clean.var.index.name = \"gene_id\"\n",
    "Smilie_stem.var.index.name = \"gene_id\""
   ]
  },
  {
   "cell_type": "code",
   "execution_count": 25,
   "metadata": {
    "vscode": {
     "languageId": "python"
    }
   },
   "outputs": [],
   "source": [
    "# Concatenate all datasets\n",
    "Reference_map_full = ad.concat([Wang_stem, control_ad_clean, Smilie_stem], join = 'outer')"
   ]
  },
  {
   "cell_type": "code",
   "execution_count": 26,
   "metadata": {
    "vscode": {
     "languageId": "python"
    }
   },
   "outputs": [],
   "source": [
    "Reference_map_full.obs.index = Reference_map_full.obs.index.astype(str)\n",
    "Reference_map_full.var.index = Reference_map_full.var.index.astype(str)"
   ]
  },
  {
   "cell_type": "code",
   "execution_count": 27,
   "metadata": {
    "vscode": {
     "languageId": "python"
    }
   },
   "outputs": [],
   "source": [
    "Reference_map_full.obs_names = Reference_map_full.obs_names.astype(str)\n",
    "Reference_map_full.var_names = Reference_map_full.var_names.astype(str)"
   ]
  },
  {
   "cell_type": "code",
   "execution_count": 28,
   "metadata": {
    "vscode": {
     "languageId": "python"
    }
   },
   "outputs": [],
   "source": [
    "Reference_map_full.obs = Reference_map_full.obs.astype(str)"
   ]
  },
  {
   "cell_type": "code",
   "execution_count": 29,
   "metadata": {
    "vscode": {
     "languageId": "python"
    }
   },
   "outputs": [
    {
     "data": {
      "text/html": [
       "<div>\n",
       "<style scoped>\n",
       "    .dataframe tbody tr th:only-of-type {\n",
       "        vertical-align: middle;\n",
       "    }\n",
       "\n",
       "    .dataframe tbody tr th {\n",
       "        vertical-align: top;\n",
       "    }\n",
       "\n",
       "    .dataframe thead th {\n",
       "        text-align: right;\n",
       "    }\n",
       "</style>\n",
       "<table border=\"1\" class=\"dataframe\">\n",
       "  <thead>\n",
       "    <tr style=\"text-align: right;\">\n",
       "      <th></th>\n",
       "      <th>UniqueCell_ID</th>\n",
       "      <th>Sample_ID</th>\n",
       "      <th>CellType</th>\n",
       "      <th>Study_name</th>\n",
       "      <th>Diagnosis</th>\n",
       "      <th>Age</th>\n",
       "      <th>Region code</th>\n",
       "      <th>Fraction</th>\n",
       "      <th>Gender</th>\n",
       "      <th>10X</th>\n",
       "      <th>...</th>\n",
       "      <th>doublet_scores</th>\n",
       "      <th>predicted_doublets</th>\n",
       "      <th>Age_group</th>\n",
       "      <th>Integrated_05</th>\n",
       "      <th>total_counts_ribo</th>\n",
       "      <th>Location</th>\n",
       "      <th>n_counts</th>\n",
       "      <th>percent_mito</th>\n",
       "      <th>percent_ribo</th>\n",
       "      <th>Subject</th>\n",
       "    </tr>\n",
       "    <tr>\n",
       "      <th>cell_id</th>\n",
       "      <th></th>\n",
       "      <th></th>\n",
       "      <th></th>\n",
       "      <th></th>\n",
       "      <th></th>\n",
       "      <th></th>\n",
       "      <th></th>\n",
       "      <th></th>\n",
       "      <th></th>\n",
       "      <th></th>\n",
       "      <th></th>\n",
       "      <th></th>\n",
       "      <th></th>\n",
       "      <th></th>\n",
       "      <th></th>\n",
       "      <th></th>\n",
       "      <th></th>\n",
       "      <th></th>\n",
       "      <th></th>\n",
       "      <th></th>\n",
       "      <th></th>\n",
       "    </tr>\n",
       "  </thead>\n",
       "  <tbody>\n",
       "    <tr>\n",
       "      <th>AACACGTTCTTGCATT_Ileum-1_Stem Cell</th>\n",
       "      <td>AACACGTTCTTGCATT_Ileum-1_Stem Cell</td>\n",
       "      <td>Ileum-1</td>\n",
       "      <td>Stem Cell</td>\n",
       "      <td>Wang</td>\n",
       "      <td>nan</td>\n",
       "      <td>nan</td>\n",
       "      <td>nan</td>\n",
       "      <td>nan</td>\n",
       "      <td>nan</td>\n",
       "      <td>nan</td>\n",
       "      <td>...</td>\n",
       "      <td>nan</td>\n",
       "      <td>nan</td>\n",
       "      <td>nan</td>\n",
       "      <td>nan</td>\n",
       "      <td>nan</td>\n",
       "      <td>nan</td>\n",
       "      <td>nan</td>\n",
       "      <td>nan</td>\n",
       "      <td>nan</td>\n",
       "      <td>nan</td>\n",
       "    </tr>\n",
       "    <tr>\n",
       "      <th>AACCGCGCATGAAGTA_Ileum-1_Stem Cell</th>\n",
       "      <td>AACCGCGCATGAAGTA_Ileum-1_Stem Cell</td>\n",
       "      <td>Ileum-1</td>\n",
       "      <td>Stem Cell</td>\n",
       "      <td>Wang</td>\n",
       "      <td>nan</td>\n",
       "      <td>nan</td>\n",
       "      <td>nan</td>\n",
       "      <td>nan</td>\n",
       "      <td>nan</td>\n",
       "      <td>nan</td>\n",
       "      <td>...</td>\n",
       "      <td>nan</td>\n",
       "      <td>nan</td>\n",
       "      <td>nan</td>\n",
       "      <td>nan</td>\n",
       "      <td>nan</td>\n",
       "      <td>nan</td>\n",
       "      <td>nan</td>\n",
       "      <td>nan</td>\n",
       "      <td>nan</td>\n",
       "      <td>nan</td>\n",
       "    </tr>\n",
       "    <tr>\n",
       "      <th>AACTCAGAGCGATCCC_Ileum-1_Stem Cell</th>\n",
       "      <td>AACTCAGAGCGATCCC_Ileum-1_Stem Cell</td>\n",
       "      <td>Ileum-1</td>\n",
       "      <td>Stem Cell</td>\n",
       "      <td>Wang</td>\n",
       "      <td>nan</td>\n",
       "      <td>nan</td>\n",
       "      <td>nan</td>\n",
       "      <td>nan</td>\n",
       "      <td>nan</td>\n",
       "      <td>nan</td>\n",
       "      <td>...</td>\n",
       "      <td>nan</td>\n",
       "      <td>nan</td>\n",
       "      <td>nan</td>\n",
       "      <td>nan</td>\n",
       "      <td>nan</td>\n",
       "      <td>nan</td>\n",
       "      <td>nan</td>\n",
       "      <td>nan</td>\n",
       "      <td>nan</td>\n",
       "      <td>nan</td>\n",
       "    </tr>\n",
       "    <tr>\n",
       "      <th>AACTCCCTCTCAACTT_Ileum-1_Stem Cell</th>\n",
       "      <td>AACTCCCTCTCAACTT_Ileum-1_Stem Cell</td>\n",
       "      <td>Ileum-1</td>\n",
       "      <td>Stem Cell</td>\n",
       "      <td>Wang</td>\n",
       "      <td>nan</td>\n",
       "      <td>nan</td>\n",
       "      <td>nan</td>\n",
       "      <td>nan</td>\n",
       "      <td>nan</td>\n",
       "      <td>nan</td>\n",
       "      <td>...</td>\n",
       "      <td>nan</td>\n",
       "      <td>nan</td>\n",
       "      <td>nan</td>\n",
       "      <td>nan</td>\n",
       "      <td>nan</td>\n",
       "      <td>nan</td>\n",
       "      <td>nan</td>\n",
       "      <td>nan</td>\n",
       "      <td>nan</td>\n",
       "      <td>nan</td>\n",
       "    </tr>\n",
       "    <tr>\n",
       "      <th>AACTCTTAGCTTCGCG_Ileum-1_Stem Cell</th>\n",
       "      <td>AACTCTTAGCTTCGCG_Ileum-1_Stem Cell</td>\n",
       "      <td>Ileum-1</td>\n",
       "      <td>Stem Cell</td>\n",
       "      <td>Wang</td>\n",
       "      <td>nan</td>\n",
       "      <td>nan</td>\n",
       "      <td>nan</td>\n",
       "      <td>nan</td>\n",
       "      <td>nan</td>\n",
       "      <td>nan</td>\n",
       "      <td>...</td>\n",
       "      <td>nan</td>\n",
       "      <td>nan</td>\n",
       "      <td>nan</td>\n",
       "      <td>nan</td>\n",
       "      <td>nan</td>\n",
       "      <td>nan</td>\n",
       "      <td>nan</td>\n",
       "      <td>nan</td>\n",
       "      <td>nan</td>\n",
       "      <td>nan</td>\n",
       "    </tr>\n",
       "    <tr>\n",
       "      <th>...</th>\n",
       "      <td>...</td>\n",
       "      <td>...</td>\n",
       "      <td>...</td>\n",
       "      <td>...</td>\n",
       "      <td>...</td>\n",
       "      <td>...</td>\n",
       "      <td>...</td>\n",
       "      <td>...</td>\n",
       "      <td>...</td>\n",
       "      <td>...</td>\n",
       "      <td>...</td>\n",
       "      <td>...</td>\n",
       "      <td>...</td>\n",
       "      <td>...</td>\n",
       "      <td>...</td>\n",
       "      <td>...</td>\n",
       "      <td>...</td>\n",
       "      <td>...</td>\n",
       "      <td>...</td>\n",
       "      <td>...</td>\n",
       "      <td>...</td>\n",
       "    </tr>\n",
       "    <tr>\n",
       "      <th>N110.LPA.TCGGGACGTCAACTGT</th>\n",
       "      <td>nan</td>\n",
       "      <td>N110.LPA</td>\n",
       "      <td>Stem Cell</td>\n",
       "      <td>Smilie</td>\n",
       "      <td>Non-inflamed</td>\n",
       "      <td>nan</td>\n",
       "      <td>nan</td>\n",
       "      <td>nan</td>\n",
       "      <td>nan</td>\n",
       "      <td>nan</td>\n",
       "      <td>...</td>\n",
       "      <td>nan</td>\n",
       "      <td>nan</td>\n",
       "      <td>nan</td>\n",
       "      <td>nan</td>\n",
       "      <td>nan</td>\n",
       "      <td>LP</td>\n",
       "      <td>4384</td>\n",
       "      <td>nan</td>\n",
       "      <td>nan</td>\n",
       "      <td>N110</td>\n",
       "    </tr>\n",
       "    <tr>\n",
       "      <th>N110.LPA.TGAGCATTCCAGTAGT</th>\n",
       "      <td>nan</td>\n",
       "      <td>N110.LPA</td>\n",
       "      <td>Stem Cell</td>\n",
       "      <td>Smilie</td>\n",
       "      <td>Non-inflamed</td>\n",
       "      <td>nan</td>\n",
       "      <td>nan</td>\n",
       "      <td>nan</td>\n",
       "      <td>nan</td>\n",
       "      <td>nan</td>\n",
       "      <td>...</td>\n",
       "      <td>nan</td>\n",
       "      <td>nan</td>\n",
       "      <td>nan</td>\n",
       "      <td>nan</td>\n",
       "      <td>nan</td>\n",
       "      <td>LP</td>\n",
       "      <td>15655</td>\n",
       "      <td>nan</td>\n",
       "      <td>nan</td>\n",
       "      <td>N110</td>\n",
       "    </tr>\n",
       "    <tr>\n",
       "      <th>N110.LPA.TGGCCAGAGAGGACGG</th>\n",
       "      <td>nan</td>\n",
       "      <td>N110.LPA</td>\n",
       "      <td>Stem Cell</td>\n",
       "      <td>Smilie</td>\n",
       "      <td>Non-inflamed</td>\n",
       "      <td>nan</td>\n",
       "      <td>nan</td>\n",
       "      <td>nan</td>\n",
       "      <td>nan</td>\n",
       "      <td>nan</td>\n",
       "      <td>...</td>\n",
       "      <td>nan</td>\n",
       "      <td>nan</td>\n",
       "      <td>nan</td>\n",
       "      <td>nan</td>\n",
       "      <td>nan</td>\n",
       "      <td>LP</td>\n",
       "      <td>26921</td>\n",
       "      <td>nan</td>\n",
       "      <td>nan</td>\n",
       "      <td>N110</td>\n",
       "    </tr>\n",
       "    <tr>\n",
       "      <th>N110.LPA.TTCTTAGCAGTCCTTC</th>\n",
       "      <td>nan</td>\n",
       "      <td>N110.LPA</td>\n",
       "      <td>Stem Cell</td>\n",
       "      <td>Smilie</td>\n",
       "      <td>Non-inflamed</td>\n",
       "      <td>nan</td>\n",
       "      <td>nan</td>\n",
       "      <td>nan</td>\n",
       "      <td>nan</td>\n",
       "      <td>nan</td>\n",
       "      <td>...</td>\n",
       "      <td>nan</td>\n",
       "      <td>nan</td>\n",
       "      <td>nan</td>\n",
       "      <td>nan</td>\n",
       "      <td>nan</td>\n",
       "      <td>LP</td>\n",
       "      <td>22468</td>\n",
       "      <td>nan</td>\n",
       "      <td>nan</td>\n",
       "      <td>N110</td>\n",
       "    </tr>\n",
       "    <tr>\n",
       "      <th>N110.LPA.TTTATGCAGACTACAA</th>\n",
       "      <td>nan</td>\n",
       "      <td>N110.LPA</td>\n",
       "      <td>Stem Cell</td>\n",
       "      <td>Smilie</td>\n",
       "      <td>Non-inflamed</td>\n",
       "      <td>nan</td>\n",
       "      <td>nan</td>\n",
       "      <td>nan</td>\n",
       "      <td>nan</td>\n",
       "      <td>nan</td>\n",
       "      <td>...</td>\n",
       "      <td>nan</td>\n",
       "      <td>nan</td>\n",
       "      <td>nan</td>\n",
       "      <td>nan</td>\n",
       "      <td>nan</td>\n",
       "      <td>LP</td>\n",
       "      <td>11357</td>\n",
       "      <td>nan</td>\n",
       "      <td>nan</td>\n",
       "      <td>N110</td>\n",
       "    </tr>\n",
       "  </tbody>\n",
       "</table>\n",
       "<p>375293 rows × 24 columns</p>\n",
       "</div>"
      ],
      "text/plain": [
       "                                                         UniqueCell_ID  \\\n",
       "cell_id                                                                  \n",
       "AACACGTTCTTGCATT_Ileum-1_Stem Cell  AACACGTTCTTGCATT_Ileum-1_Stem Cell   \n",
       "AACCGCGCATGAAGTA_Ileum-1_Stem Cell  AACCGCGCATGAAGTA_Ileum-1_Stem Cell   \n",
       "AACTCAGAGCGATCCC_Ileum-1_Stem Cell  AACTCAGAGCGATCCC_Ileum-1_Stem Cell   \n",
       "AACTCCCTCTCAACTT_Ileum-1_Stem Cell  AACTCCCTCTCAACTT_Ileum-1_Stem Cell   \n",
       "AACTCTTAGCTTCGCG_Ileum-1_Stem Cell  AACTCTTAGCTTCGCG_Ileum-1_Stem Cell   \n",
       "...                                                                ...   \n",
       "N110.LPA.TCGGGACGTCAACTGT                                          nan   \n",
       "N110.LPA.TGAGCATTCCAGTAGT                                          nan   \n",
       "N110.LPA.TGGCCAGAGAGGACGG                                          nan   \n",
       "N110.LPA.TTCTTAGCAGTCCTTC                                          nan   \n",
       "N110.LPA.TTTATGCAGACTACAA                                          nan   \n",
       "\n",
       "                                   Sample_ID   CellType Study_name  \\\n",
       "cell_id                                                              \n",
       "AACACGTTCTTGCATT_Ileum-1_Stem Cell   Ileum-1  Stem Cell       Wang   \n",
       "AACCGCGCATGAAGTA_Ileum-1_Stem Cell   Ileum-1  Stem Cell       Wang   \n",
       "AACTCAGAGCGATCCC_Ileum-1_Stem Cell   Ileum-1  Stem Cell       Wang   \n",
       "AACTCCCTCTCAACTT_Ileum-1_Stem Cell   Ileum-1  Stem Cell       Wang   \n",
       "AACTCTTAGCTTCGCG_Ileum-1_Stem Cell   Ileum-1  Stem Cell       Wang   \n",
       "...                                      ...        ...        ...   \n",
       "N110.LPA.TCGGGACGTCAACTGT           N110.LPA  Stem Cell     Smilie   \n",
       "N110.LPA.TGAGCATTCCAGTAGT           N110.LPA  Stem Cell     Smilie   \n",
       "N110.LPA.TGGCCAGAGAGGACGG           N110.LPA  Stem Cell     Smilie   \n",
       "N110.LPA.TTCTTAGCAGTCCTTC           N110.LPA  Stem Cell     Smilie   \n",
       "N110.LPA.TTTATGCAGACTACAA           N110.LPA  Stem Cell     Smilie   \n",
       "\n",
       "                                       Diagnosis  Age Region code Fraction  \\\n",
       "cell_id                                                                      \n",
       "AACACGTTCTTGCATT_Ileum-1_Stem Cell           nan  nan         nan      nan   \n",
       "AACCGCGCATGAAGTA_Ileum-1_Stem Cell           nan  nan         nan      nan   \n",
       "AACTCAGAGCGATCCC_Ileum-1_Stem Cell           nan  nan         nan      nan   \n",
       "AACTCCCTCTCAACTT_Ileum-1_Stem Cell           nan  nan         nan      nan   \n",
       "AACTCTTAGCTTCGCG_Ileum-1_Stem Cell           nan  nan         nan      nan   \n",
       "...                                          ...  ...         ...      ...   \n",
       "N110.LPA.TCGGGACGTCAACTGT           Non-inflamed  nan         nan      nan   \n",
       "N110.LPA.TGAGCATTCCAGTAGT           Non-inflamed  nan         nan      nan   \n",
       "N110.LPA.TGGCCAGAGAGGACGG           Non-inflamed  nan         nan      nan   \n",
       "N110.LPA.TTCTTAGCAGTCCTTC           Non-inflamed  nan         nan      nan   \n",
       "N110.LPA.TTTATGCAGACTACAA           Non-inflamed  nan         nan      nan   \n",
       "\n",
       "                                   Gender  10X  ... doublet_scores  \\\n",
       "cell_id                                         ...                  \n",
       "AACACGTTCTTGCATT_Ileum-1_Stem Cell    nan  nan  ...            nan   \n",
       "AACCGCGCATGAAGTA_Ileum-1_Stem Cell    nan  nan  ...            nan   \n",
       "AACTCAGAGCGATCCC_Ileum-1_Stem Cell    nan  nan  ...            nan   \n",
       "AACTCCCTCTCAACTT_Ileum-1_Stem Cell    nan  nan  ...            nan   \n",
       "AACTCTTAGCTTCGCG_Ileum-1_Stem Cell    nan  nan  ...            nan   \n",
       "...                                   ...  ...  ...            ...   \n",
       "N110.LPA.TCGGGACGTCAACTGT             nan  nan  ...            nan   \n",
       "N110.LPA.TGAGCATTCCAGTAGT             nan  nan  ...            nan   \n",
       "N110.LPA.TGGCCAGAGAGGACGG             nan  nan  ...            nan   \n",
       "N110.LPA.TTCTTAGCAGTCCTTC             nan  nan  ...            nan   \n",
       "N110.LPA.TTTATGCAGACTACAA             nan  nan  ...            nan   \n",
       "\n",
       "                                   predicted_doublets Age_group Integrated_05  \\\n",
       "cell_id                                                                         \n",
       "AACACGTTCTTGCATT_Ileum-1_Stem Cell                nan       nan           nan   \n",
       "AACCGCGCATGAAGTA_Ileum-1_Stem Cell                nan       nan           nan   \n",
       "AACTCAGAGCGATCCC_Ileum-1_Stem Cell                nan       nan           nan   \n",
       "AACTCCCTCTCAACTT_Ileum-1_Stem Cell                nan       nan           nan   \n",
       "AACTCTTAGCTTCGCG_Ileum-1_Stem Cell                nan       nan           nan   \n",
       "...                                               ...       ...           ...   \n",
       "N110.LPA.TCGGGACGTCAACTGT                         nan       nan           nan   \n",
       "N110.LPA.TGAGCATTCCAGTAGT                         nan       nan           nan   \n",
       "N110.LPA.TGGCCAGAGAGGACGG                         nan       nan           nan   \n",
       "N110.LPA.TTCTTAGCAGTCCTTC                         nan       nan           nan   \n",
       "N110.LPA.TTTATGCAGACTACAA                         nan       nan           nan   \n",
       "\n",
       "                                   total_counts_ribo Location n_counts  \\\n",
       "cell_id                                                                  \n",
       "AACACGTTCTTGCATT_Ileum-1_Stem Cell               nan      nan      nan   \n",
       "AACCGCGCATGAAGTA_Ileum-1_Stem Cell               nan      nan      nan   \n",
       "AACTCAGAGCGATCCC_Ileum-1_Stem Cell               nan      nan      nan   \n",
       "AACTCCCTCTCAACTT_Ileum-1_Stem Cell               nan      nan      nan   \n",
       "AACTCTTAGCTTCGCG_Ileum-1_Stem Cell               nan      nan      nan   \n",
       "...                                              ...      ...      ...   \n",
       "N110.LPA.TCGGGACGTCAACTGT                        nan       LP     4384   \n",
       "N110.LPA.TGAGCATTCCAGTAGT                        nan       LP    15655   \n",
       "N110.LPA.TGGCCAGAGAGGACGG                        nan       LP    26921   \n",
       "N110.LPA.TTCTTAGCAGTCCTTC                        nan       LP    22468   \n",
       "N110.LPA.TTTATGCAGACTACAA                        nan       LP    11357   \n",
       "\n",
       "                                   percent_mito percent_ribo Subject  \n",
       "cell_id                                                               \n",
       "AACACGTTCTTGCATT_Ileum-1_Stem Cell          nan          nan     nan  \n",
       "AACCGCGCATGAAGTA_Ileum-1_Stem Cell          nan          nan     nan  \n",
       "AACTCAGAGCGATCCC_Ileum-1_Stem Cell          nan          nan     nan  \n",
       "AACTCCCTCTCAACTT_Ileum-1_Stem Cell          nan          nan     nan  \n",
       "AACTCTTAGCTTCGCG_Ileum-1_Stem Cell          nan          nan     nan  \n",
       "...                                         ...          ...     ...  \n",
       "N110.LPA.TCGGGACGTCAACTGT                   nan          nan    N110  \n",
       "N110.LPA.TGAGCATTCCAGTAGT                   nan          nan    N110  \n",
       "N110.LPA.TGGCCAGAGAGGACGG                   nan          nan    N110  \n",
       "N110.LPA.TTCTTAGCAGTCCTTC                   nan          nan    N110  \n",
       "N110.LPA.TTTATGCAGACTACAA                   nan          nan    N110  \n",
       "\n",
       "[375293 rows x 24 columns]"
      ]
     },
     "execution_count": 29,
     "metadata": {},
     "output_type": "execute_result"
    }
   ],
   "source": [
    "Reference_map_full.obs"
   ]
  },
  {
   "cell_type": "code",
   "execution_count": 31,
   "metadata": {
    "vscode": {
     "languageId": "python"
    }
   },
   "outputs": [],
   "source": [
    "# Write reference map to file\n",
    "Reference_map_full.write('/lustre/groups/talaveralopez/workspace/anna.maguza/Processed_datasets/expi_map/Reference_map_(Gut_cell_atlas+Smilie+Wang).h5ad')"
   ]
  }
 ],
 "metadata": {
  "kernelspec": {
   "display_name": "Python 3 (ipykernel)",
   "language": "python",
   "name": "python3"
  },
  "orig_nbformat": 4,
  "vscode": {
   "interpreter": {
    "hash": "aad44d5fec43f0a7f158b64a056274c3cff366b9d05b31ea6aa064b8b41777f4"
   }
  }
 },
 "nbformat": 4,
 "nbformat_minor": 2
}
