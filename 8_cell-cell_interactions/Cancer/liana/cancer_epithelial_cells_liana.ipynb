{
 "cells": [
  {
   "attachments": {},
   "cell_type": "markdown",
   "metadata": {},
   "source": [
    "### Notebook for the cell-cell interaction research of cancer epithelial cells with liana package\n",
    "\n",
    "- **Developed by:** Anna Maguza\n",
    "- **Institute of Computational Biology - Computational Health Department - Helmholtz Munich**\n",
    "- 30th June 2023"
   ]
  },
  {
   "cell_type": "markdown",
   "metadata": {},
   "source": [
    "### Import required modules"
   ]
  },
  {
   "cell_type": "code",
   "execution_count": 2,
   "metadata": {},
   "outputs": [],
   "source": [
    "import scanpy as sc\n",
    "import numpy as np\n",
    "import pandas as pd\n",
    "import matplotlib.pyplot as plt\n",
    "import seaborn as sns\n",
    "import liana as li\n",
    "import anndata as ad"
   ]
  },
  {
   "cell_type": "markdown",
   "metadata": {},
   "source": [
    "### Set up working environment"
   ]
  },
  {
   "cell_type": "code",
   "execution_count": 3,
   "metadata": {},
   "outputs": [],
   "source": [
    "%matplotlib inline"
   ]
  },
  {
   "cell_type": "code",
   "execution_count": 4,
   "metadata": {},
   "outputs": [
    {
     "name": "stdout",
     "output_type": "stream",
     "text": [
      "-----\n",
      "anndata     0.8.0\n",
      "scanpy      1.9.3\n",
      "-----\n",
      "PIL                         9.4.0\n",
      "appnope                     0.1.2\n",
      "asttokens                   NA\n",
      "backcall                    0.2.0\n",
      "cffi                        1.15.1\n",
      "comm                        0.1.2\n",
      "cycler                      0.10.0\n",
      "cython_runtime              NA\n",
      "dateutil                    2.8.2\n",
      "debugpy                     1.5.1\n",
      "decorator                   5.1.1\n",
      "defusedxml                  0.7.1\n",
      "entrypoints                 0.4\n",
      "executing                   0.8.3\n",
      "fontTools                   4.39.3\n",
      "h5py                        3.8.0\n",
      "importlib_resources         NA\n",
      "ipykernel                   6.19.2\n",
      "ipython_genutils            0.2.0\n",
      "jedi                        0.18.1\n",
      "joblib                      1.2.0\n",
      "jupyter_server              1.23.6\n",
      "kiwisolver                  1.4.4\n",
      "liana                       0.1.7\n",
      "llvmlite                    0.39.1\n",
      "matplotlib                  3.7.1\n",
      "matplotlib_inline           0.1.6\n",
      "mizani                      0.8.1\n",
      "mpl_toolkits                NA\n",
      "natsort                     8.3.1\n",
      "numba                       0.56.4\n",
      "numpy                       1.23.5\n",
      "packaging                   23.0\n",
      "palettable                  3.3.0\n",
      "pandas                      1.3.5\n",
      "parso                       0.8.3\n",
      "patsy                       0.5.3\n",
      "pexpect                     4.8.0\n",
      "pickleshare                 0.7.5\n",
      "pkg_resources               NA\n",
      "platformdirs                2.5.2\n",
      "plotnine                    0.10.1\n",
      "prompt_toolkit              3.0.36\n",
      "psutil                      5.9.0\n",
      "ptyprocess                  0.7.0\n",
      "pure_eval                   0.2.2\n",
      "pydev_ipython               NA\n",
      "pydevconsole                NA\n",
      "pydevd                      2.6.0\n",
      "pydevd_concurrency_analyser NA\n",
      "pydevd_file_utils           NA\n",
      "pydevd_plugins              NA\n",
      "pydevd_tracing              NA\n",
      "pygments                    2.11.2\n",
      "pyparsing                   3.0.9\n",
      "pytz                        2023.3\n",
      "scipy                       1.10.1\n",
      "seaborn                     0.12.2\n",
      "session_info                1.0.0\n",
      "setuptools                  65.6.3\n",
      "six                         1.16.0\n",
      "sklearn                     1.2.2\n",
      "stack_data                  0.2.0\n",
      "statsmodels                 0.13.5\n",
      "threadpoolctl               3.1.0\n",
      "tornado                     6.2\n",
      "tqdm                        4.65.0\n",
      "traitlets                   5.7.1\n",
      "typing_extensions           NA\n",
      "wcwidth                     0.2.5\n",
      "zipp                        NA\n",
      "zmq                         23.2.0\n",
      "zoneinfo                    NA\n",
      "-----\n",
      "IPython             8.10.0\n",
      "jupyter_client      7.4.9\n",
      "jupyter_core        5.3.0\n",
      "jupyterlab          3.5.0\n",
      "notebook            6.5.3\n",
      "-----\n",
      "Python 3.9.16 (main, Mar  8 2023, 04:29:24) [Clang 14.0.6 ]\n",
      "macOS-12.6.1-arm64-arm-64bit\n",
      "-----\n",
      "Session information updated at 2023-07-02 22:07\n"
     ]
    }
   ],
   "source": [
    "sc.settings.verbosity = 3\n",
    "sc.logging.print_versions()\n",
    "sc.settings.set_figure_params(dpi = 180, color_map = 'magma_r', dpi_save = 300, vector_friendly = True, format = 'svg')"
   ]
  },
  {
   "cell_type": "code",
   "execution_count": 5,
   "metadata": {},
   "outputs": [],
   "source": [
    "def X_is_raw(adata):\n",
    "    return np.array_equal(adata.X.sum(axis=0).astype(int), adata.X.sum(axis=0))"
   ]
  },
  {
   "cell_type": "markdown",
   "metadata": {},
   "source": [
    "### Data Upload"
   ]
  },
  {
   "cell_type": "code",
   "execution_count": 6,
   "metadata": {},
   "outputs": [
    {
     "data": {
      "text/plain": [
       "False"
      ]
     },
     "execution_count": 6,
     "metadata": {},
     "output_type": "execute_result"
    }
   ],
   "source": [
    "input = '/Users/anna.maguza/Desktop/Data/Processed_datasets/Cancer_dataset_integration/Labels_transfer/scBalance/Joanito_predicted_labels_with_scBalance_7000.h5ad'\n",
    "adata = sc.read_h5ad(input)\n",
    "X_is_raw(adata)"
   ]
  },
  {
   "cell_type": "code",
   "execution_count": 7,
   "metadata": {},
   "outputs": [
    {
     "data": {
      "text/plain": [
       "AnnData object with n_obs × n_vars = 35714 × 33287\n",
       "    obs: 'nFeature_RNA', 'pct_counts_mito', 'Sample_ID', 'Donor_ID', 'sample.origin', 'dataset_x', 'Cell Type', 'iCMS', 'msi', 'dataset_y', 'Sex', 'Tumor Stage', 'MSS/MSI', 'Location', 'Side', 'Group Stage', 'Stage TNM', 'iCMS.transcriptomic', 'iCMS.inferCNV', 'KRAS', 'BRAF', 'TP53', 'APC', 'PIK3CA', 'LymphNode', 'Normal', 'Tumor', 'CMS', 'Age_group', 'Study_name', 'Diagnosis', 'n_genes_by_counts', 'total_counts', 'Library_Preparation_Protocol', 'doublet_scores', 'predicted_doublets', 'doublet_info', 'Predicted Label'\n",
       "    var: 'feature_types', 'genome'\n",
       "    uns: 'log1p'"
      ]
     },
     "execution_count": 7,
     "metadata": {},
     "output_type": "execute_result"
    }
   ],
   "source": [
    "# Extract the raw counts\n",
    "adata = adata.raw.to_adata()\n",
    "adata"
   ]
  },
  {
   "cell_type": "code",
   "execution_count": 8,
   "metadata": {},
   "outputs": [
    {
     "data": {
      "text/plain": [
       "True"
      ]
     },
     "execution_count": 8,
     "metadata": {},
     "output_type": "execute_result"
    }
   ],
   "source": [
    "X_is_raw(adata)"
   ]
  },
  {
   "cell_type": "markdown",
   "metadata": {},
   "source": [
    "### Liana Run"
   ]
  },
  {
   "cell_type": "code",
   "execution_count": 9,
   "metadata": {},
   "outputs": [],
   "source": [
    "# import all individual methods\n",
    "import liana \n",
    "from liana.method import singlecellsignalr, connectome, cellphonedb, natmi, logfc, cellchat, geometric_mean"
   ]
  },
  {
   "cell_type": "markdown",
   "metadata": {},
   "source": [
    "### Run CellChat"
   ]
  },
  {
   "cell_type": "code",
   "execution_count": 10,
   "metadata": {},
   "outputs": [],
   "source": [
    "# Save raw counts in raw\n",
    "adata.raw = adata"
   ]
  },
  {
   "cell_type": "code",
   "execution_count": 11,
   "metadata": {},
   "outputs": [
    {
     "data": {
      "text/plain": [
       "TA                        22094\n",
       "Paneth cells               7622\n",
       "Colonocyte                 2136\n",
       "Enterocyte                 1661\n",
       "Tuft cells                 1400\n",
       "Stem cells                  555\n",
       "Epithelial cells            103\n",
       "Goblet cells                 94\n",
       "Enteroendocrine cells        31\n",
       "Microfold cell                9\n",
       "Enterochromaffin cells        6\n",
       "L cells                       3\n",
       "Name: Predicted Label, dtype: int64"
      ]
     },
     "execution_count": 11,
     "metadata": {},
     "output_type": "execute_result"
    }
   ],
   "source": [
    "adata.obs['Predicted Label'].value_counts()"
   ]
  },
  {
   "cell_type": "code",
   "execution_count": 12,
   "metadata": {},
   "outputs": [
    {
     "name": "stdout",
     "output_type": "stream",
     "text": [
      "Using `.raw`!\n",
      "6092 features of mat are empty, they will be removed.\n",
      "Make sure that normalized counts are passed!\n"
     ]
    },
    {
     "name": "stderr",
     "output_type": "stream",
     "text": [
      "/Users/anna.maguza/.local/lib/python3.9/site-packages/pandas/core/indexing.py:1667: ImplicitModificationWarning: Trying to modify attribute `.obs` of view, initializing view as actual.\n"
     ]
    },
    {
     "name": "stdout",
     "output_type": "stream",
     "text": [
      "The following cell identities were excluded: L cells\n",
      "0.07 of entities in the resource are missing from the data.\n",
      "Generating ligand-receptor stats for 35711 samples and 27195 features\n"
     ]
    },
    {
     "name": "stderr",
     "output_type": "stream",
     "text": [
      "100%|██████████| 1000/1000 [28:53<00:00,  1.73s/it]\n"
     ]
    }
   ],
   "source": [
    "#run cellchat\n",
    "cellchat(adata, groupby='Predicted Label', expr_prop=0.1, verbose=True)"
   ]
  },
  {
   "cell_type": "code",
   "execution_count": 13,
   "metadata": {},
   "outputs": [],
   "source": [
    "#Write anndata object to file\n",
    "adata.write('/Users/anna.maguza/Desktop/Data/Processed_datasets/Cell_cell_interaction/Cancer_epithelial/Liana/Epithelial_cancer_post-liana_cellChat_all_counts.h5ad')"
   ]
  },
  {
   "cell_type": "code",
   "execution_count": null,
   "metadata": {},
   "outputs": [],
   "source": [
    "li.pl.dotplot(adata = adata, \n",
    "              colour='lr_probs',\n",
    "              size='cellchat_pvals',\n",
    "              inverse_size=True, # we inverse sign since we want small p-values to have large sizes\n",
    "              source_labels=['Stem cells'],\n",
    "              target_labels=['Enterocyte', 'TA', 'Goblet cells', 'Colonocyte', 'Paneth cells', 'Tuft cells', 'Enterochromaffin cells', 'Enteroendocrine cells', 'Microfold cell', 'Epithelial cells'],\n",
    "              figure_size=(8, 80),\n",
    "              # finally, since cpdbv2 suggests using a filter to FPs\n",
    "              # we filter the pvals column to <= 0.05\n",
    "              filterby='cellchat_pvals',\n",
    "              filter_lambda=lambda x: x <= 0.05\n",
    "             )"
   ]
  },
  {
   "cell_type": "code",
   "execution_count": null,
   "metadata": {},
   "outputs": [],
   "source": [
    "li.pl.dotplot(adata = adata, \n",
    "              colour='lr_probs',\n",
    "              size='cellchat_pvals',\n",
    "              inverse_size=True, # we inverse sign since we want small p-values to have large sizes\n",
    "              source_labels=['Stem cells'],\n",
    "              target_labels=['Epithelial cells'],\n",
    "              figure_size=(5, 30),\n",
    "              # finally, since cpdbv2 suggests using a filter to FPs\n",
    "              # we filter the pvals column to <= 0.05\n",
    "              filterby='cellchat_pvals',\n",
    "              filter_lambda=lambda x: x <= 0.05\n",
    "             )"
   ]
  }
 ],
 "metadata": {
  "kernelspec": {
   "display_name": "liana_env",
   "language": "python",
   "name": "python3"
  },
  "language_info": {
   "codemirror_mode": {
    "name": "ipython",
    "version": 3
   },
   "file_extension": ".py",
   "mimetype": "text/x-python",
   "name": "python",
   "nbconvert_exporter": "python",
   "pygments_lexer": "ipython3",
   "version": "3.9.16"
  },
  "orig_nbformat": 4
 },
 "nbformat": 4,
 "nbformat_minor": 2
}
