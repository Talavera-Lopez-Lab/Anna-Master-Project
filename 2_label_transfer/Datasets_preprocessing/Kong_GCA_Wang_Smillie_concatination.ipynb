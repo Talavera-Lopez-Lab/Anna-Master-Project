{
 "cells": [
  {
   "attachments": {},
   "cell_type": "markdown",
   "metadata": {},
   "source": [
    "## Notebook for the adding of the Kong-2023 dataset to the GCA_Wang_Smillie dataset \n",
    "\n",
    "- **Developed by**: Anna Maguza\n",
    "- **Institute of Computational Biology - Computational Health Centre - Helmholtz Munich**\n",
    "- 11th April 2023"
   ]
  },
  {
   "cell_type": "markdown",
   "metadata": {},
   "source": [
    "#### Import required modules"
   ]
  },
  {
   "cell_type": "code",
   "execution_count": 29,
   "metadata": {},
   "outputs": [],
   "source": [
    "import scanpy as sc\n",
    "import numpy as np\n",
    "import anndata as ad\n",
    "import pandas as pd\n",
    "import anndata as an"
   ]
  },
  {
   "cell_type": "code",
   "execution_count": 14,
   "metadata": {},
   "outputs": [],
   "source": [
    "import matplotlib.pyplot as plt\n",
    "from matplotlib import axes\n",
    "from matplotlib import pylab"
   ]
  },
  {
   "cell_type": "markdown",
   "metadata": {},
   "source": [
    "#### Setup Cells"
   ]
  },
  {
   "cell_type": "code",
   "execution_count": 17,
   "metadata": {},
   "outputs": [],
   "source": [
    "%matplotlib inline"
   ]
  },
  {
   "cell_type": "code",
   "execution_count": 18,
   "metadata": {},
   "outputs": [
    {
     "name": "stdout",
     "output_type": "stream",
     "text": [
      "scanpy==1.9.3 anndata==0.8.0 umap==0.5.3 numpy==1.23.5 scipy==1.9.1 pandas==1.3.5 scikit-learn==1.2.2 statsmodels==0.13.5 pynndescent==0.5.8\n"
     ]
    }
   ],
   "source": [
    "sc.settings.verbosity = 3             # verbosity: errors (0), warnings (1), info (2), hints (3)\n",
    "sc.logging.print_header()\n",
    "sc.settings.set_figure_params(dpi = 160, color_map = 'magma_r', dpi_save = 300, vector_friendly = True)"
   ]
  },
  {
   "cell_type": "code",
   "execution_count": 19,
   "metadata": {},
   "outputs": [],
   "source": [
    "def X_is_raw(adata):\n",
    "    return np.array_equal(adata.X.sum(axis=0).astype(int), adata.X.sum(axis=0))"
   ]
  },
  {
   "cell_type": "markdown",
   "metadata": {},
   "source": [
    "### Upload All Datasets \n"
   ]
  },
  {
   "cell_type": "code",
   "execution_count": 20,
   "metadata": {},
   "outputs": [],
   "source": [
    "# Upload GCA_Smillie_Wang dataset\n",
    "input = '/Users/anna.maguza/Desktop/Data/Processed_datasets/Healthy_reference/GCA_Smillie_Wang_unprocessed/Reference_map_(Gut_cell_atlas+Smilie+Wang).h5ad'\n",
    "GCA_adata = sc.read_h5ad(input)"
   ]
  },
  {
   "cell_type": "code",
   "execution_count": 25,
   "metadata": {},
   "outputs": [],
   "source": [
    "# Upload Kong-2023 dataset\n",
    "input_Kong = '/Users/anna.maguza/Desktop/Data/Gut_project/Healthy_gut_data/Kong_2023/Raw_anndata/adata_Kong_2023_healthy_with_QC.h5ad'\n",
    "Kong_adata = sc.read_h5ad(input_Kong)\n",
    "\n",
    "input_Kong_raw = '/Users/anna.maguza/Desktop/Data/Gut_project/Healthy_gut_data/Kong_2023/Raw_anndata/Kong_2023_raw_anndata.h5ad'\n",
    "Kong_adata_raw = sc.read_h5ad(input_Kong_raw)"
   ]
  },
  {
   "attachments": {},
   "cell_type": "markdown",
   "metadata": {},
   "source": [
    "### Datasets Preprocessing"
   ]
  },
  {
   "cell_type": "code",
   "execution_count": 26,
   "metadata": {},
   "outputs": [
    {
     "data": {
      "text/plain": [
       "True"
      ]
     },
     "execution_count": 26,
     "metadata": {},
     "output_type": "execute_result"
    }
   ],
   "source": [
    "X_is_raw(GCA_adata)"
   ]
  },
  {
   "cell_type": "code",
   "execution_count": 27,
   "metadata": {},
   "outputs": [
    {
     "data": {
      "text/plain": [
       "False"
      ]
     },
     "execution_count": 27,
     "metadata": {},
     "output_type": "execute_result"
    }
   ],
   "source": [
    "X_is_raw(Kong_adata)"
   ]
  },
  {
   "cell_type": "code",
   "execution_count": 28,
   "metadata": {},
   "outputs": [
    {
     "data": {
      "text/plain": [
       "True"
      ]
     },
     "execution_count": 28,
     "metadata": {},
     "output_type": "execute_result"
    }
   ],
   "source": [
    "X_is_raw(Kong_adata_raw)"
   ]
  },
  {
   "cell_type": "code",
   "execution_count": 30,
   "metadata": {},
   "outputs": [
    {
     "data": {
      "text/plain": [
       "AnnData object with n_obs × n_vars = 181806 × 27830\n",
       "    obs: 'cell_type', 'tissue', 'batch', 'biosample_id', 'n_genes', 'n_counts', 'Chem', 'Site', 'Type', 'donor_id', 'Layer', 'Celltype', 'sex', 'species', 'species__ontology_label', 'library_preparation_protocol', 'library_preparation_protocol__ontology_label', 'organ', 'organ__ontology_label', 'disease', 'disease__ontology_label', 'n_genes_by_counts', 'log1p_n_genes_by_counts', 'total_counts', 'log1p_total_counts', 'pct_counts_in_top_50_genes', 'pct_counts_in_top_100_genes', 'pct_counts_in_top_200_genes', 'pct_counts_in_top_500_genes', 'total_counts_mito', 'pct_counts_mito', 'total_counts_ribo', 'pct_counts_ribo', 'S_score', 'G2M_score', 'doublet_scores', 'predicted_doublets', 'doublet_info', 'percent_chrY', 'XIST-counts'\n",
       "    var: 'gene_id', 'gene_name', 'n_cells_by_counts', 'mean_counts', 'log1p_mean_counts', 'pct_dropout_by_counts', 'total_counts', 'log1p_total_counts', 'mito', 'ribo', 'highly_variable', 'highly_variable_rank', 'means', 'variances', 'variances_norm'\n",
       "    uns: 'biosample_id_colors', 'donor_id_colors', 'hvg', 'neighbors', 'umap'\n",
       "    obsm: 'X_pca', 'X_umap'\n",
       "    obsp: 'connectivities', 'distances'"
      ]
     },
     "execution_count": 30,
     "metadata": {},
     "output_type": "execute_result"
    }
   ],
   "source": [
    "Kong_adata"
   ]
  },
  {
   "cell_type": "code",
   "execution_count": 33,
   "metadata": {},
   "outputs": [],
   "source": [
    "# Filter out only healthy samples\n",
    "Kong_adata_raw = Kong_adata_raw[Kong_adata_raw.obs['disease__ontology_label'] == 'normal']"
   ]
  },
  {
   "cell_type": "code",
   "execution_count": 34,
   "metadata": {},
   "outputs": [],
   "source": [
    "Kong_adata = an.AnnData(X = Kong_adata_raw.X, obs = Kong_adata.obs, var = Kong_adata.var)"
   ]
  },
  {
   "cell_type": "code",
   "execution_count": 35,
   "metadata": {},
   "outputs": [
    {
     "data": {
      "text/plain": [
       "True"
      ]
     },
     "execution_count": 35,
     "metadata": {},
     "output_type": "execute_result"
    }
   ],
   "source": [
    "X_is_raw(Kong_adata)"
   ]
  },
  {
   "cell_type": "code",
   "execution_count": 36,
   "metadata": {},
   "outputs": [],
   "source": [
    "# Change 'CO' in Kong_adata.obs['Site'] to 'Colon', 'TI' to 'Terminal Ileum', and 'SB' to 'Small Bowel'\n",
    "Kong_adata.obs['Site'] = Kong_adata.obs['Site'].replace('CO', 'Colon')\n",
    "Kong_adata.obs['Site'] = Kong_adata.obs['Site'].replace('TI', 'Terminal Ileum')\n",
    "Kong_adata.obs['Site'] = Kong_adata.obs['Site'].replace('SB', 'Small Bowel')"
   ]
  },
  {
   "cell_type": "code",
   "execution_count": 37,
   "metadata": {},
   "outputs": [],
   "source": [
    "# Rename columns in Kong-2023 dataset as in GCA_Smillie_Wang dataset\n",
    "Kong_adata.obs.rename(columns = {'donor_id': 'Donor_ID'}, inplace = True)\n",
    "Kong_adata.obs['Study_name'] = 'Kong 2023'\n",
    "Kong_adata.obs.rename(columns = {'biosample_id': 'Sample_ID'}, inplace = True)\n",
    "Kong_adata.obs.rename(columns = {'Site': 'Location'}, inplace = True)\n",
    "\n",
    "GCA_adata.obs.rename(columns = {'10X': 'Library_Preparation_Protocol'}, inplace = True)\n",
    "Kong_adata.obs.rename(columns = {'library_preparation_protocol__ontology_label': 'Library_Preparation_Protocol'}, inplace = True)"
   ]
  },
  {
   "cell_type": "code",
   "execution_count": 38,
   "metadata": {},
   "outputs": [],
   "source": [
    "# Delete log1p_n_genes_by_counts, log1p_total_counts, log1p_total_counts, pct_counts_in_top_50_genes, pct_counts_in_top_100_genes, pct_counts_in_top_200_genes, pct_counts_in_top_500_genes, and total_counts columns from Kong_adata.obs\n",
    "Kong_adata.obs.drop(columns = ['log1p_n_genes_by_counts', 'log1p_total_counts', 'log1p_total_counts', 'pct_counts_in_top_50_genes', 'pct_counts_in_top_100_genes', 'pct_counts_in_top_200_genes', 'pct_counts_in_top_500_genes', 'total_counts'], inplace = True)"
   ]
  },
  {
   "cell_type": "code",
   "execution_count": 39,
   "metadata": {},
   "outputs": [],
   "source": [
    "# Change Geneder to the same values\n",
    "Kong_adata.obs['sex'] = Kong_adata.obs['sex'].replace('male', 'Male')\n",
    "Kong_adata.obs['sex'] = Kong_adata.obs['sex'].replace('female', 'Female')\n",
    "Kong_adata.obs.rename(columns = {'sex': 'Sex'}, inplace = True)\n",
    "GCA_adata.obs.rename(columns = {'Gender': 'Sex'}, inplace = True)\n",
    "GCA_adata.obs['Sex'] = GCA_adata.obs['Sex'].replace('M', 'Male')\n",
    "GCA_adata.obs['Sex'] = GCA_adata.obs['Sex'].replace('F', 'Female')"
   ]
  },
  {
   "cell_type": "code",
   "execution_count": 40,
   "metadata": {},
   "outputs": [
    {
     "data": {
      "text/plain": [
       "False    181574\n",
       "True        232\n",
       "Name: doublet_info, dtype: int64"
      ]
     },
     "execution_count": 40,
     "metadata": {},
     "output_type": "execute_result"
    }
   ],
   "source": [
    "Kong_adata.obs['doublet_info'].value_counts()"
   ]
  },
  {
   "cell_type": "code",
   "execution_count": 41,
   "metadata": {},
   "outputs": [],
   "source": [
    "# Make QC metrics columns the same\n",
    "GCA_adata.obs.rename(columns = {'total_counts_mt': 'total_counts_mito'}, inplace = True)\n",
    "Kong_adata.obs.rename(columns = {'pct_counts_mito': 'percent_mito'}, inplace = True)\n",
    "Kong_adata.obs.rename(columns = {'pct_counts_ribo': 'percent_ribo'}, inplace = True)"
   ]
  },
  {
   "cell_type": "code",
   "execution_count": 42,
   "metadata": {},
   "outputs": [],
   "source": [
    "# Uniform the values in the 'Diagnosis' column\n",
    "GCA_adata.obs['Diagnosis'] = GCA_adata.obs['Diagnosis'].replace('fetal', 'Fetal Healthy')\n",
    "GCA_adata.obs['Diagnosis'] = GCA_adata.obs['Diagnosis'].replace('Healthy', 'Healthy adult')\n",
    "GCA_adata.obs['Diagnosis'] = GCA_adata.obs['Diagnosis'].replace('nan', 'Healthy adult')\n",
    "GCA_adata.obs['Diagnosis'] = GCA_adata.obs['Diagnosis'].replace('Non-inflamed', 'Adult Ulcerative Colitis Non-inflamed')\n",
    "Kong_adata.obs['disease__ontology_label'] = Kong_adata.obs['disease__ontology_label'].replace('normal', 'Healthy adult')\n",
    "Kong_adata.obs.rename(columns = {'disease__ontology_label': 'Diagnosis'}, inplace = True)"
   ]
  },
  {
   "cell_type": "code",
   "execution_count": 43,
   "metadata": {},
   "outputs": [],
   "source": [
    "# Drop unnecessary columns\n",
    "Kong_adata.obs.drop(columns = ['G2M_score', 'percent_chrY', 'doublet_info', 'XIST-counts', 'S_score'], inplace = True)"
   ]
  },
  {
   "cell_type": "code",
   "execution_count": 44,
   "metadata": {},
   "outputs": [],
   "source": [
    "Kong_adata.obs.rename(columns = {'Celltype': 'Cell States'}, inplace = True)\n",
    "Kong_adata.obs.rename(columns = {'cell_type': 'Cell Type'}, inplace = True)\n",
    "GCA_adata.obs.rename(columns = {'CellType': 'Cell Type'}, inplace = True)"
   ]
  },
  {
   "cell_type": "code",
   "execution_count": 45,
   "metadata": {},
   "outputs": [],
   "source": [
    "GCA_adata.obs['Age_group'] = GCA_adata.obs['Age_group'].replace('nan', 'Adult')\n",
    "Kong_adata.obs['Age_group'] = 'Adult'"
   ]
  },
  {
   "cell_type": "code",
   "execution_count": 46,
   "metadata": {},
   "outputs": [],
   "source": [
    "# Drop unnecessary columns\n",
    "Kong_adata.obs.drop(columns = ['organ', 'tissue', 'Type', 'library_preparation_protocol', 'disease', 'organ__ontology_label', 'species', 'species__ontology_label'], inplace = True)"
   ]
  },
  {
   "cell_type": "code",
   "execution_count": 47,
   "metadata": {},
   "outputs": [],
   "source": [
    "# Create a list with the Kong_adata.obs_keys and GCA_adata.obs_keys, and then make a list with the columns that are present in Kong_adata.obs_keys but not in GCA_adata.obs_keys\n",
    "Kong_adata_keys = list(Kong_adata.obs_keys())\n",
    "GCA_adata_keys = list(GCA_adata.obs_keys())\n",
    "Kong_adata_keys_not_in_GCA_adata_keys = list(set(Kong_adata_keys) - set(GCA_adata_keys))"
   ]
  },
  {
   "attachments": {},
   "cell_type": "markdown",
   "metadata": {},
   "source": [
    "### Uniform the Cell Types"
   ]
  },
  {
   "cell_type": "code",
   "execution_count": 48,
   "metadata": {},
   "outputs": [
    {
     "data": {
      "text/plain": [
       "Mesenchymal        155794\n",
       "Epithelial         129929\n",
       "Neuronal            17594\n",
       "T cells             17394\n",
       "Plasma cells        16445\n",
       "Endothelial         13082\n",
       "B cells             11381\n",
       "Myeloid              9820\n",
       "Stem Cell            2508\n",
       "Red blood cells      1346\n",
       "Name: Cell Type, dtype: int64"
      ]
     },
     "execution_count": 48,
     "metadata": {},
     "output_type": "execute_result"
    }
   ],
   "source": [
    "GCA_adata.obs['Cell Type'].value_counts()"
   ]
  },
  {
   "cell_type": "code",
   "execution_count": 49,
   "metadata": {},
   "outputs": [
    {
     "data": {
      "text/plain": [
       "Immune        81599\n",
       "Epithelial    77638\n",
       "Stromal       22569\n",
       "Name: Cell Type, dtype: int64"
      ]
     },
     "execution_count": 49,
     "metadata": {},
     "output_type": "execute_result"
    }
   ],
   "source": [
    "Kong_adata.obs['Cell Type'].value_counts()"
   ]
  },
  {
   "cell_type": "code",
   "execution_count": 50,
   "metadata": {},
   "outputs": [],
   "source": [
    "# Filter only healthy adult samples\n",
    "GCA_adata_adult = GCA_adata[GCA_adata.obs['Diagnosis'] == 'Healthy adult']\n",
    "\n",
    "# Make a list of cell states in the Endothelial cell type in GCA_adata\n",
    "GCA_adata_Endothelial_cell_states = list(GCA_adata_adult.obs.loc[GCA_adata_adult.obs['Cell Type'] == 'Endothelial', 'Cell States'].unique())"
   ]
  },
  {
   "cell_type": "code",
   "execution_count": 51,
   "metadata": {},
   "outputs": [],
   "source": [
    "# List of specific Cell States to look for\n",
    "cell_states_list = [\n",
    "    'Stem cells OLFM4 LGR5',\n",
    "    'Stem cells OLFM4 PCNA',\n",
    "    'Stem cells OLFM4 GSTA1',\n",
    "    'Stem cells OLFM4'\n",
    "]\n",
    "\n",
    "# Add 'Stem Cell' as a new category to the 'Cell Type' column\n",
    "Kong_adata.obs['Cell Type'] = Kong_adata.obs['Cell Type'].cat.add_categories(['Stem Cell'])\n",
    "\n",
    "# Update 'Cell Type' based on the condition in 'Cell States'\n",
    "Kong_adata.obs.loc[Kong_adata.obs['Cell States'].isin(cell_states_list), 'Cell Type'] = 'Stem Cell'"
   ]
  },
  {
   "cell_type": "code",
   "execution_count": 52,
   "metadata": {},
   "outputs": [],
   "source": [
    "# Create a new DataFrame with unique cell states and their corresponding cell types\n",
    "unique_cell_states = GCA_adata_adult.obs.drop_duplicates(subset=['Cell States', 'Cell Type'])\n",
    "\n",
    "# Reset index and drop the original index\n",
    "unique_cell_states.reset_index(drop=True, inplace=True)\n",
    "\n",
    "# Drop all columns except 'Cell States' and 'Cell Type' from unique_cell_states\n",
    "unique_cell_states = unique_cell_states[['Cell States', 'Cell Type']]\n"
   ]
  },
  {
   "cell_type": "code",
   "execution_count": 53,
   "metadata": {},
   "outputs": [],
   "source": [
    "# List of specific Cell States to look for\n",
    "cell_states_list = [\n",
    "    'B cells',\n",
    "    'B cells AICDA LRMP'\n",
    "]\n",
    "\n",
    "# Add 'B cells' as a new category to the 'Cell Type' column\n",
    "Kong_adata.obs['Cell Type'] = Kong_adata.obs['Cell Type'].cat.add_categories(['B cells'])\n",
    "\n",
    "# Update 'Cell Type' based on the condition in 'Cell States'\n",
    "Kong_adata.obs.loc[Kong_adata.obs['Cell States'].isin(cell_states_list), 'Cell Type'] = 'B cells'"
   ]
  },
  {
   "cell_type": "code",
   "execution_count": 54,
   "metadata": {},
   "outputs": [],
   "source": [
    "# List of specific Cell States to look for\n",
    "cell_states_list = [\n",
    "    'T cells CD4 FOSB',\n",
    "    'T cells CD4 IL17A',\n",
    "    'T cells CD8',\n",
    "    'T cells CD8 KLRG1',\n",
    "    'T cells Naive CD4',\n",
    "    'T cells OGT',\n",
    "    'Tregs',\n",
    "    'NK cells KLRF1 CD3G-',\n",
    "    'NK-like cells ID3 ENTPD1',\n",
    "    'ILCs',\n",
    "    'IELs ID3 ENTPD1',\n",
    "    'Lymphatics'\n",
    "]\n",
    "\n",
    "# Add 'T cells' as a new category to the 'Cell Type' column\n",
    "Kong_adata.obs['Cell Type'] = Kong_adata.obs['Cell Type'].cat.add_categories(['T cells'])\n",
    "\n",
    "# Update 'Cell Type' based on the condition in 'Cell States'\n",
    "Kong_adata.obs.loc[Kong_adata.obs['Cell States'].isin(cell_states_list), 'Cell Type'] = 'T cells'"
   ]
  },
  {
   "cell_type": "code",
   "execution_count": 55,
   "metadata": {},
   "outputs": [],
   "source": [
    "cell_states_list = [\n",
    "    'Plasma cells'\n",
    "]\n",
    "\n",
    "# Add 'Plasma cells' as a new category to the 'Cell Type' column\n",
    "Kong_adata.obs['Cell Type'] = Kong_adata.obs['Cell Type'].cat.add_categories(['Plasma cells'])\n",
    "\n",
    "# Update 'Cell Type' based on the condition in 'Cell States'\n",
    "Kong_adata.obs.loc[Kong_adata.obs['Cell States'].isin(cell_states_list), 'Cell Type'] = 'Plasma cells'"
   ]
  },
  {
   "cell_type": "code",
   "execution_count": 56,
   "metadata": {},
   "outputs": [],
   "source": [
    "cell_states_list = [\n",
    "    'Cycling cells',\n",
    "    'DC1',\n",
    "    'DC2 CD1D',\n",
    "    'DC2 CD1D-',\n",
    "    'Immune Cycling cells',\n",
    "    'Macrophages',\n",
    "    'Macrophages CCL3 CCL4',\n",
    "    'Macrophages CXCL9 CXCL10',\n",
    "    'Macrophages LYVE1',\n",
    "    'Macrophages Metallothionein',\n",
    "    'Macrophages PLA2G2D',\n",
    "    'Mast cells',\n",
    "    'Mature DCs',\n",
    "    'Monocytes CHI3L1 CYP27A1', \n",
    "    'Monocytes HBB',\n",
    "    'Monocytes S100A8 S100A9'\n",
    "]\n",
    "\n",
    "# Add 'Myeloid' as a new category to the 'Cell Type' column\n",
    "Kong_adata.obs['Cell Type'] = Kong_adata.obs['Cell Type'].cat.add_categories(['Myeloid'])\n",
    "\n",
    "# Update 'Cell Type' based on the condition in 'Cell States'\n",
    "Kong_adata.obs.loc[Kong_adata.obs['Cell States'].isin(cell_states_list), 'Cell Type'] = 'Myeloid'"
   ]
  },
  {
   "cell_type": "code",
   "execution_count": 57,
   "metadata": {},
   "outputs": [
    {
     "data": {
      "text/plain": [
       "Epithelial      61278\n",
       "Plasma cells    30236\n",
       "T cells         29649\n",
       "Stromal         22125\n",
       "Stem Cell       16360\n",
       "Myeloid         15767\n",
       "B cells          6391\n",
       "Immune              0\n",
       "Name: Cell Type, dtype: int64"
      ]
     },
     "execution_count": 57,
     "metadata": {},
     "output_type": "execute_result"
    }
   ],
   "source": [
    "Kong_adata.obs['Cell Type'].value_counts()"
   ]
  },
  {
   "cell_type": "code",
   "execution_count": 58,
   "metadata": {},
   "outputs": [],
   "source": [
    "cell_states_list = [\n",
    "    'Glial cells'\n",
    "]\n",
    "\n",
    "# Add 'Neuronal' as a new category to the 'Cell Type' column\n",
    "Kong_adata.obs['Cell Type'] = Kong_adata.obs['Cell Type'].cat.add_categories(['Neuronal'])\n",
    "\n",
    "# Update 'Cell Type' based on the condition in 'Cell States'\n",
    "Kong_adata.obs.loc[Kong_adata.obs['Cell States'].isin(cell_states_list), 'Cell Type'] = 'Neuronal'"
   ]
  },
  {
   "cell_type": "code",
   "execution_count": 59,
   "metadata": {},
   "outputs": [],
   "source": [
    "cell_states_list = [\n",
    "    'Endothelial cells CA4 CD36',\n",
    "    'Endothelial cells CD36',\n",
    "    'Endothelial cells DARC',\n",
    "    'Endothelial cells LTC4S SEMA3G'\n",
    "]\n",
    "\n",
    "# Add 'Endothelial' as a new category to the 'Cell Type' column\n",
    "Kong_adata.obs['Cell Type'] = Kong_adata.obs['Cell Type'].cat.add_categories(['Endothelial'])\n",
    "\n",
    "# Update 'Cell Type' based on the condition in 'Cell States'\n",
    "Kong_adata.obs.loc[Kong_adata.obs['Cell States'].isin(cell_states_list), 'Cell Type'] = 'Endothelial'"
   ]
  },
  {
   "cell_type": "code",
   "execution_count": 60,
   "metadata": {},
   "outputs": [],
   "source": [
    "cell_states_list = [\n",
    "    'Activated fibroblasts CCL19 ADAMADEC1',\n",
    "    'Fibroblasts ADAMDEC1',\n",
    "    'Fibroblasts KCNN3 LY6H',\n",
    "    'Fibroblasts NPY SLITRK6',\n",
    "    'Fibroblasts SFRP2 SLPI',\n",
    "    'Fibroblasts SMOC2 PTGIS',\n",
    "    'Inflammatory fibroblasts IL11 CHI3L1',\n",
    "    'Pericytes HIGD1B STEAP4',\n",
    "    'Pericytes RERGL NTRK2',\n",
    "    'Stromal Cycling cells',\n",
    "    'Myofibroblasts GREM1 GREM2',\n",
    "    'Myofibroblasts HHIP NPNT'\n",
    "]\n",
    "\n",
    "# Add 'Mesenchymal' as a new category to the 'Cell Type' column\n",
    "Kong_adata.obs['Cell Type'] = Kong_adata.obs['Cell Type'].cat.add_categories(['Mesenchymal'])\n",
    "\n",
    "# Update 'Cell Type' based on the condition in 'Cell States'\n",
    "Kong_adata.obs.loc[Kong_adata.obs['Cell States'].isin(cell_states_list), 'Cell Type'] = 'Mesenchymal'"
   ]
  },
  {
   "cell_type": "code",
   "execution_count": 61,
   "metadata": {},
   "outputs": [
    {
     "data": {
      "text/plain": [
       "Epithelial      61278\n",
       "Plasma cells    30236\n",
       "T cells         29649\n",
       "Mesenchymal     16863\n",
       "Stem Cell       16360\n",
       "Myeloid         15767\n",
       "B cells          6391\n",
       "Endothelial      3549\n",
       "Neuronal         1713\n",
       "Immune              0\n",
       "Stromal             0\n",
       "Name: Cell Type, dtype: int64"
      ]
     },
     "execution_count": 61,
     "metadata": {},
     "output_type": "execute_result"
    }
   ],
   "source": [
    "Kong_adata.obs['Cell Type'].value_counts()"
   ]
  },
  {
   "attachments": {},
   "cell_type": "markdown",
   "metadata": {},
   "source": [
    "### Files concatination"
   ]
  },
  {
   "cell_type": "code",
   "execution_count": 62,
   "metadata": {},
   "outputs": [],
   "source": [
    "Kong_adata.obs['Cell States Kong'] = Kong_adata.obs['Cell States']\n",
    "GCA_adata.obs['Cell States GCA'] = GCA_adata.obs['Cell States']"
   ]
  },
  {
   "cell_type": "code",
   "execution_count": 63,
   "metadata": {},
   "outputs": [
    {
     "name": "stderr",
     "output_type": "stream",
     "text": [
      "/Users/anna.maguza/miniconda3/envs/scanpy_env/lib/python3.9/site-packages/anndata/_core/anndata.py:1785: FutureWarning: X.dtype being converted to np.float32 from float64. In the next version of anndata (0.9) conversion will not be automatic. Pass dtype explicitly to avoid this warning. Pass `AnnData(X, dtype=X.dtype, ...)` to get the future behavour.\n",
      "  [AnnData(sparse.csr_matrix(a.shape), obs=a.obs) for a in all_adatas],\n"
     ]
    }
   ],
   "source": [
    "# Merge the two datasets\n",
    "adata = Kong_adata.concatenate(GCA_adata, batch_categories=['Kong', 'GCA'], index_unique=None)"
   ]
  },
  {
   "cell_type": "code",
   "execution_count": 64,
   "metadata": {},
   "outputs": [
    {
     "data": {
      "text/plain": [
       "<bound method AnnData.obs_keys of AnnData object with n_obs × n_vars = 557099 × 23616\n",
       "    obs: 'Cell Type', 'batch', 'Sample_ID', 'n_genes', 'n_counts', 'Chem', 'Location', 'Donor_ID', 'Layer', 'Cell States', 'Gender', 'library_preparation_protocol__ontology_label', 'Diagnosis', 'n_genes_by_counts', 'total_counts_mito', 'percent_mito', 'total_counts_ribo', 'percent_ribo', 'doublet_scores', 'predicted_doublets', 'Study_name', 'Age_group', 'Cell States Kong', 'UniqueCell_ID', 'Age', 'Region code', 'Fraction', 'Cell States GCA'\n",
       "    var: 'gene_id-Kong', 'gene_name-Kong', 'n_cells_by_counts-Kong', 'mean_counts-Kong', 'log1p_mean_counts-Kong', 'pct_dropout_by_counts-Kong', 'total_counts-Kong', 'log1p_total_counts-Kong', 'mito-Kong', 'ribo-Kong', 'highly_variable-Kong', 'highly_variable_rank-Kong', 'means-Kong', 'variances-Kong', 'variances_norm-Kong'>"
      ]
     },
     "execution_count": 64,
     "metadata": {},
     "output_type": "execute_result"
    }
   ],
   "source": [
    "adata.obs_keys"
   ]
  },
  {
   "cell_type": "code",
   "execution_count": 65,
   "metadata": {},
   "outputs": [],
   "source": [
    "adata.obs.index = adata.obs.index.astype(str)\n",
    "adata.var.index = adata.var.index.astype(str)\n",
    "adata.obs_names = adata.obs_names.astype(str)\n",
    "adata.var_names = adata.var_names.astype(str)\n",
    "adata.obs = adata.obs.astype(str)"
   ]
  },
  {
   "cell_type": "code",
   "execution_count": 66,
   "metadata": {},
   "outputs": [],
   "source": [
    "# Write adata to file\n",
    "adata.write('/Users/anna.maguza/Desktop/Data/Processed_datasets/Healthy_reference/GCA_Kong_Smillie_Wang_unprocessed/GCA_Kong_Wang_Smillie_raw.h5ad')"
   ]
  }
 ],
 "metadata": {
  "kernelspec": {
   "display_name": "scanpy_env",
   "language": "python",
   "name": "python3"
  },
  "language_info": {
   "codemirror_mode": {
    "name": "ipython",
    "version": 3
   },
   "file_extension": ".py",
   "mimetype": "text/x-python",
   "name": "python",
   "nbconvert_exporter": "python",
   "pygments_lexer": "ipython3",
   "version": "3.9.16"
  },
  "orig_nbformat": 4
 },
 "nbformat": 4,
 "nbformat_minor": 2
}
