{
 "cells": [
  {
   "attachments": {},
   "cell_type": "markdown",
   "metadata": {},
   "source": [
    "## Notebook for the Integrated Healthy dataset and Colon Cancer Atlas\n",
    "### Developed by: Anna Maguza\n",
    "\n",
    "### Institute of Computational Biology - Computational Health Centre - Hemlholtz Munich\n",
    "\n",
    "### 15 May 2023"
   ]
  },
  {
   "cell_type": "markdown",
   "metadata": {},
   "source": [
    "#### Load required packages"
   ]
  },
  {
   "cell_type": "code",
   "execution_count": null,
   "metadata": {},
   "outputs": [],
   "source": [
    "import numpy as np\n",
    "import pandas as pd\n",
    "import scanpy as sc\n",
    "import anndata as an\n",
    "import matplotlib.pyplot as plt\n",
    "from matplotlib.pyplot import figure\n",
    "import scipy as sci"
   ]
  },
  {
   "cell_type": "markdown",
   "metadata": {},
   "source": [
    "#### Setup Cells"
   ]
  },
  {
   "cell_type": "code",
   "execution_count": null,
   "metadata": {},
   "outputs": [],
   "source": [
    "%matplotlib inline"
   ]
  },
  {
   "cell_type": "code",
   "execution_count": null,
   "metadata": {},
   "outputs": [],
   "source": [
    "sc.settings.verbosity = 3             # verbosity: errors (0), warnings (1), info (2), hints (3)\n",
    "sc.logging.print_header()\n",
    "sc.settings.set_figure_params(dpi=80, facecolor='white')"
   ]
  },
  {
   "cell_type": "code",
   "execution_count": null,
   "metadata": {},
   "outputs": [],
   "source": [
    "def X_is_raw(adata):\n",
    "    return np.array_equal(adata.X.sum(axis=0).astype(int), adata.X.sum(axis=0))"
   ]
  },
  {
   "cell_type": "markdown",
   "metadata": {},
   "source": [
    "#### Upload Data"
   ]
  },
  {
   "cell_type": "code",
   "execution_count": null,
   "metadata": {},
   "outputs": [],
   "source": [
    "input_path_cancer = '/Users/anna.maguza/Desktop/Data/Gut_project/Human_Colon_Cancer_Atlas/anndata/Colon_cancer_atlas_anndata.h5ad'\n",
    "Cancer_adata = sc.read_h5ad(input_path_cancer)"
   ]
  },
  {
   "cell_type": "code",
   "execution_count": null,
   "metadata": {},
   "outputs": [],
   "source": [
    "X_is_raw(Cancer_adata)"
   ]
  },
  {
   "cell_type": "markdown",
   "metadata": {},
   "source": [
    "### Preprocess obs in Cancer data"
   ]
  },
  {
   "cell_type": "code",
   "execution_count": null,
   "metadata": {},
   "outputs": [],
   "source": [
    "Cancer_adata.obs_keys()"
   ]
  },
  {
   "cell_type": "code",
   "execution_count": null,
   "metadata": {},
   "outputs": [],
   "source": [
    "Cancer_adata.obs['disease__ontology_label'].value_counts()"
   ]
  },
  {
   "cell_type": "code",
   "execution_count": null,
   "metadata": {},
   "outputs": [],
   "source": [
    "# Filter only cancer cells\n",
    "Cancer_adata = Cancer_adata[Cancer_adata.obs['disease__ontology_label'] == 'colon adenocarcinoma', :]"
   ]
  },
  {
   "cell_type": "code",
   "execution_count": null,
   "metadata": {},
   "outputs": [],
   "source": [
    "Cancer_adata.obs_keys"
   ]
  },
  {
   "cell_type": "code",
   "execution_count": null,
   "metadata": {},
   "outputs": [],
   "source": [
    "# Delete unnecessary columns\n",
    "del Cancer_adata.obs['disease'], Cancer_adata.obs['species'], Cancer_adata.obs['species__ontology_label'], Cancer_adata.obs['organ'], Cancer_adata.obs['library_preparation_protocol']\n",
    "del Cancer_adata.obs['qc_geneCount']\n",
    "del Cancer_adata.obs['qc_logMappedReads']\n",
    "del Cancer_adata.obs['qc_meanReadsPerUmi']\n",
    "del Cancer_adata.obs['qc_totalReads']\n",
    "del Cancer_adata.obs['qc_logUmiCount']\n",
    "del Cancer_adata.obs['qc_bcSwapFraction']\n",
    "del Cancer_adata.obs['qc_geneSatFraction']\n",
    "del Cancer_adata.obs['qc_seqDupEst']\n",
    "del Cancer_adata.obs['qc_umiSatFraction']\n",
    "del Cancer_adata.obs['qc_emptyDropPval']\n",
    "del Cancer_adata.obs['qc_mitoFraction']"
   ]
  },
  {
   "cell_type": "code",
   "execution_count": null,
   "metadata": {},
   "outputs": [],
   "source": [
    "Cancer_adata.obs['Study_name'] = 'Colon_cancer_atlas'"
   ]
  },
  {
   "cell_type": "code",
   "execution_count": null,
   "metadata": {},
   "outputs": [],
   "source": [
    "# Rename columns in Cancer_adata as in Healthy_adata\n",
    "Cancer_adata.obs.rename(columns={'biosample_id': 'Sample_ID',\n",
    "                                  'donor_id': 'Donor_ID',\n",
    "                                  'disease__ontology_label': 'Diagnosis',\n",
    "                                  'library_preparation_protocol__ontology_label': 'Library_Preparation_Protocol',\n",
    "                                  'sex': 'Sex',\n",
    "                                  'organ': 'Location',\n",
    "                                  'ClusterTop': 'Cell Type'}, inplace=True)"
   ]
  },
  {
   "cell_type": "code",
   "execution_count": null,
   "metadata": {},
   "outputs": [],
   "source": [
    "# Rename values in Cancer_adata.obs['ClusterTop'] as in Healthy_adata.obs['Cell Type']\n",
    "Cancer_adata.obs['Cell Type'].replace({'Epi': 'Epithelial', \n",
    "                                        'Plasma': 'Plasma cells',\n",
    "                                        'TNKILC': 'T cells',\n",
    "                                        'B': 'B cells',\n",
    "                                        'Strom': 'Mesenchymal',\n",
    "                                        'Mast': 'Myeloid'}, inplace=True)"
   ]
  },
  {
   "cell_type": "code",
   "execution_count": null,
   "metadata": {},
   "outputs": [],
   "source": [
    "# Rename values in Cancer_adata.obs as in Healthy_adata.obs\n",
    "Cancer_adata.obs['Gender'].replace({'male': 'Male', \n",
    "                                        'female': 'Female'}, inplace=True)\n",
    "\n",
    "Cancer_adata.obs['Library_Preparation_Protocol'].replace({\"10X 3' v2 sequencing\": \"10x 3' v2\", \n",
    "                                        \"10X 3' v3 sequencing\": \"10x 3' v3\"}, inplace=True)"
   ]
  },
  {
   "cell_type": "markdown",
   "metadata": {},
   "source": [
    "### Make the QC the same as in the Healthy dataset"
   ]
  },
  {
   "cell_type": "code",
   "execution_count": null,
   "metadata": {},
   "outputs": [],
   "source": [
    "# Calculate quality metrics for cancer dataset\n",
    "sc.pp.calculate_qc_metrics(Cancer_adata, inplace=True)"
   ]
  },
  {
   "cell_type": "code",
   "execution_count": null,
   "metadata": {},
   "outputs": [],
   "source": [
    "# Make gene_id as a first column in adata.var\n",
    "Cancer_adata.var.insert(0, 'gene_id', Cancer_adata.var.index)\n",
    "# Make a gene name as index \n",
    "Cancer_adata.var.index = Cancer_adata.var['gene_name']"
   ]
  },
  {
   "cell_type": "code",
   "execution_count": null,
   "metadata": {},
   "outputs": [],
   "source": [
    "# Calculate mitochondrial fraction\n",
    "Cancer_adata.var['mito'] = Cancer_adata.var_names.str.startswith((\"MT-\"))  # annotate the group of ribosomal genes as 'ribo'\n",
    "sc.pp.calculate_qc_metrics(Cancer_adata, qc_vars=['mito'], percent_top=None, log1p=False, inplace=True)\n",
    "Cancer_adata.var['ribo'] = Cancer_adata.var_names.str.startswith((\"RPS\",\"RPL\"))  # annotate the group of ribosomal genes as 'ribo'\n",
    "sc.pp.calculate_qc_metrics(Cancer_adata, qc_vars=['ribo'], percent_top=None, log1p=False, inplace=True)"
   ]
  },
  {
   "cell_type": "code",
   "execution_count": null,
   "metadata": {},
   "outputs": [],
   "source": [
    "Cancer_adata.obs"
   ]
  },
  {
   "cell_type": "code",
   "execution_count": null,
   "metadata": {},
   "outputs": [],
   "source": [
    "# Delete unnecessary columns\n",
    "del Cancer_adata.obs['log1p_total_counts'], Cancer_adata.obs['pct_counts_in_top_50_genes'], Cancer_adata.obs['log1p_n_genes_by_counts']\n",
    "del Cancer_adata.obs['pct_counts_in_top_100_genes'], Cancer_adata.obs['pct_counts_in_top_200_genes'], Cancer_adata.obs['pct_counts_in_top_500_genes']"
   ]
  },
  {
   "cell_type": "code",
   "execution_count": null,
   "metadata": {},
   "outputs": [],
   "source": [
    "# Write objects\n",
    "Cancer_adata.write_h5ad('/Users/anna.maguza/Desktop/Data/Processed_datasets/Cancer_dataset_integration/input_files/all_cells/Colon_cancer_atlas_anndata.h5ad')"
   ]
  },
  {
   "attachments": {},
   "cell_type": "markdown",
   "metadata": {},
   "source": [
    "# Prepare Epithelial cells"
   ]
  },
  {
   "cell_type": "code",
   "execution_count": null,
   "metadata": {},
   "outputs": [],
   "source": [
    "input = '/Users/anna.maguza/Desktop/Data/Processed_datasets/Cancer_dataset_integration/input_files/all_cells/Healthy_integrated_data_all_genes.h5ad'\n",
    "healthy_all_counts = sc.read_h5ad(input)\n",
    "input = '/Users/anna.maguza/Desktop/Data/Processed_datasets/Cancer_dataset_integration/input_files/all_cells/Colon_cancer_atlas_anndata.h5ad'\n",
    "Cancer_adata = sc.read_h5ad(input)"
   ]
  },
  {
   "cell_type": "code",
   "execution_count": null,
   "metadata": {},
   "outputs": [],
   "source": [
    "healthy_all_counts.obs['Diagnosis'].value_counts()"
   ]
  },
  {
   "cell_type": "code",
   "execution_count": null,
   "metadata": {},
   "outputs": [],
   "source": [
    "# Filter out fetal and pediatric samples\n",
    "healthy_all_counts = healthy_all_counts[healthy_all_counts.obs['Diagnosis'] != 'Fetal Healthy', :]\n",
    "healthy_all_counts = healthy_all_counts[healthy_all_counts.obs['Diagnosis'] != 'Pediatric healthy', :]"
   ]
  },
  {
   "cell_type": "code",
   "execution_count": null,
   "metadata": {},
   "outputs": [],
   "source": [
    "healthy_all_counts.obs"
   ]
  },
  {
   "cell_type": "markdown",
   "metadata": {},
   "source": [
    "### Unify Cell States in Healthy reference"
   ]
  },
  {
   "cell_type": "code",
   "execution_count": null,
   "metadata": {},
   "outputs": [],
   "source": [
    "# Subset only epitheleal cells\n",
    "Cancer_adata = Cancer_adata[Cancer_adata.obs['Cell Type'] == 'Epithelial', :]\n",
    "healthy_all_counts = healthy_all_counts[healthy_all_counts.obs['Cell Type'] == 'Epithelial', :]\n"
   ]
  },
  {
   "cell_type": "code",
   "execution_count": null,
   "metadata": {},
   "outputs": [],
   "source": [
    "healthy_all_counts.obs['Unified Cell States'] = healthy_all_counts.obs['Cell States']"
   ]
  },
  {
   "cell_type": "code",
   "execution_count": null,
   "metadata": {},
   "outputs": [],
   "source": [
    "healthy_all_counts.obs['Unified Cell States'].replace({\"Enterocytes TMIGD1 MEP1A\": 'Enterocyte',\n",
    "                                               'Enterocytes CA1 CA2 CA4-': 'Enterocyte',\n",
    "                                               'Enterocytes TMIGD1 MEP1A GSTA1': 'Enterocyte',\n",
    "                                               'Stem cells OLFM4': 'Stem cells',\n",
    "                                               'Stem cells OLFM4 LGR5': 'Stem cells',\n",
    "                                               'Stem_Cells_GCA': 'Stem cells',\n",
    "                                               'Stem cells OLFM4 PCNA': 'Stem cells',\n",
    "                                               'Stem_Cells_ext': 'Stem cells',\n",
    "                                               'Stem cells OLFM4 GSTA1': 'Stem cells',\n",
    "                                               'Tuft': 'Tuft cells',\n",
    "                                               'Paneth': 'Paneth cells',\n",
    "                                               'Goblet cells SPINK4': 'Goblet cells',\n",
    "                                               'Goblet cell': 'Goblet cells',\n",
    "                                               'Goblet cells MUC2 TFF1-': 'Goblet cells',\n",
    "                                               'Goblet cells MUC2 TFF1': 'Goblet cells',\n",
    "                                               'BEST2+ Goblet cell': 'Goblet cells',\n",
    "                                               'L cells (PYY+)': 'L cells',\n",
    "                                               'EC cells (TAC1+)': 'Enterochromaffin cells',\n",
    "                                               'EC cells (NPW+)': 'Enterochromaffin cells',\n",
    "                                               'EECs': 'Enteroendocrine cells',\n",
    "                                               'BEST4+ epithelial': 'Enterocytes BEST4'}, inplace=True)"
   ]
  },
  {
   "attachments": {},
   "cell_type": "markdown",
   "metadata": {},
   "source": [
    "### Counts Normalization"
   ]
  },
  {
   "cell_type": "code",
   "execution_count": null,
   "metadata": {},
   "outputs": [],
   "source": [
    "sc.pp.log1p(Cancer_adata)\n",
    "sc.pp.log1p(healthy_all_counts)"
   ]
  },
  {
   "attachments": {},
   "cell_type": "markdown",
   "metadata": {},
   "source": [
    "### Extract Highly Variable Genes"
   ]
  },
  {
   "cell_type": "code",
   "execution_count": null,
   "metadata": {},
   "outputs": [],
   "source": [
    "healthy_all_counts.layers['raw_counts'] = healthy_all_counts.X.copy()\n",
    "\n",
    "### HVGs selection\n",
    "# Calculate HVGs for cancer dataset\n",
    "sc.pp.highly_variable_genes(\n",
    "    healthy_all_counts,\n",
    "    flavor = \"seurat_v3\",\n",
    "    n_top_genes = 3000,\n",
    "    layer = \"raw_counts\",\n",
    "    batch_key = \"Library_Preparation_Protocol\",\n",
    "    subset = True,\n",
    "    span = 1\n",
    ")"
   ]
  },
  {
   "cell_type": "code",
   "execution_count": null,
   "metadata": {},
   "outputs": [],
   "source": [
    "df = healthy_all_counts.obs['Cell States'].value_counts()"
   ]
  },
  {
   "cell_type": "code",
   "execution_count": null,
   "metadata": {},
   "outputs": [],
   "source": [
    "Cancer_adata.layers['raw_counts'] = Cancer_adata.X.copy()"
   ]
  },
  {
   "cell_type": "code",
   "execution_count": null,
   "metadata": {},
   "outputs": [],
   "source": [
    "# Extract same HVGs in the cancer dataset as in the healthy dataset\n",
    "\n",
    "#Make indexes as string\n",
    "Cancer_adata.var.index = Cancer_adata.var.index.astype(str)\n",
    "\n",
    "# Ensure indexes are unique\n",
    "Cancer_adata.var_names_make_unique()\n",
    "\n",
    "# Identify common genes\n",
    "common_genes = list(set(healthy_all_counts.var_names) & set(Cancer_adata.var_names))\n",
    "\n",
    "# Filter genes\n",
    "healthy_all_counts = healthy_all_counts[:, common_genes]\n",
    "Cancer_adata = Cancer_adata[:, common_genes]\n",
    "\n",
    "#Ensure the same order of the genes\n",
    "Cancer_adata = Cancer_adata[:, healthy_all_counts.var_names]"
   ]
  },
  {
   "cell_type": "code",
   "execution_count": null,
   "metadata": {},
   "outputs": [],
   "source": [
    "# Save anndata objects\n",
    "Cancer_adata.write('/Users/anna.maguza/Desktop/Data/Processed_datasets/Cancer_dataset_integration/input_files/Epithelial_cells/Epithelial_Colon_cancer_atlas_normalized_3KA.h5ad')\n",
    "healthy_all_counts.write('/Users/anna.maguza/Desktop/Data/Processed_datasets/Cancer_dataset_integration/input_files/Epithelial_cells/Epithelial_Healthy_anndata_normalized_3K.h5ad')"
   ]
  }
 ],
 "metadata": {
  "kernelspec": {
   "display_name": "scanpy_env",
   "language": "python",
   "name": "python3"
  },
  "language_info": {
   "codemirror_mode": {
    "name": "ipython",
    "version": 3
   },
   "file_extension": ".py",
   "mimetype": "text/x-python",
   "name": "python",
   "nbconvert_exporter": "python",
   "pygments_lexer": "ipython3",
   "version": "3.9.16"
  },
  "orig_nbformat": 4
 },
 "nbformat": 4,
 "nbformat_minor": 2
}
