{
 "cells": [
  {
   "attachments": {},
   "cell_type": "markdown",
   "metadata": {},
   "source": [
    "## Notebook for the Healthy reference stem - immune cells preparation\n",
    "\n",
    "**Developed by**: Anna Maguza  \n",
    "**Institute of Computational Biology - Computational Health Centre - Hemlholtz Munich**  \n",
    "**29 June 2023**  "
   ]
  },
  {
   "cell_type": "markdown",
   "metadata": {},
   "source": [
    "#### Load required packages"
   ]
  },
  {
   "cell_type": "code",
   "execution_count": 1,
   "metadata": {},
   "outputs": [],
   "source": [
    "import numpy as np\n",
    "import pandas as pd\n",
    "import scanpy as sc\n",
    "import anndata as an\n",
    "import matplotlib.pyplot as plt\n",
    "from matplotlib.pyplot import figure\n",
    "import scipy as sci"
   ]
  },
  {
   "cell_type": "code",
   "execution_count": 2,
   "metadata": {},
   "outputs": [],
   "source": [
    "import scrublet"
   ]
  },
  {
   "cell_type": "markdown",
   "metadata": {},
   "source": [
    "#### Setup Cells"
   ]
  },
  {
   "cell_type": "code",
   "execution_count": 3,
   "metadata": {},
   "outputs": [],
   "source": [
    "%matplotlib inline"
   ]
  },
  {
   "cell_type": "code",
   "execution_count": 4,
   "metadata": {},
   "outputs": [
    {
     "name": "stderr",
     "output_type": "stream",
     "text": [
      "/Users/anna.maguza/miniconda3/envs/scanpy_env/lib/python3.9/site-packages/tqdm/auto.py:21: TqdmWarning: IProgress not found. Please update jupyter and ipywidgets. See https://ipywidgets.readthedocs.io/en/stable/user_install.html\n",
      "  from .autonotebook import tqdm as notebook_tqdm\n"
     ]
    },
    {
     "name": "stdout",
     "output_type": "stream",
     "text": [
      "scanpy==1.9.3 anndata==0.8.0 umap==0.5.3 numpy==1.23.5 scipy==1.9.1 pandas==1.3.5 scikit-learn==1.2.2 statsmodels==0.13.5 pynndescent==0.5.8\n"
     ]
    }
   ],
   "source": [
    "sc.settings.verbosity = 3             # verbosity: errors (0), warnings (1), info (2), hints (3)\n",
    "sc.logging.print_header()\n",
    "sc.settings.set_figure_params(dpi=80, facecolor='white')"
   ]
  },
  {
   "cell_type": "code",
   "execution_count": 5,
   "metadata": {},
   "outputs": [],
   "source": [
    "def X_is_raw(adata):\n",
    "    return np.array_equal(adata.X.sum(axis=0).astype(int), adata.X.sum(axis=0))"
   ]
  },
  {
   "cell_type": "markdown",
   "metadata": {},
   "source": [
    "#### Upload Data"
   ]
  },
  {
   "cell_type": "code",
   "execution_count": 6,
   "metadata": {},
   "outputs": [],
   "source": [
    "input_path_healthy = '/Users/anna.maguza/Desktop/Data/Processed_datasets/Cancer_dataset_integration/input_files/all_cells/Healthy_integrated_data_all_genes.h5ad'\n",
    "Healthy_adata = sc.read_h5ad(input_path_healthy)"
   ]
  },
  {
   "cell_type": "code",
   "execution_count": 7,
   "metadata": {},
   "outputs": [
    {
     "data": {
      "text/plain": [
       "True"
      ]
     },
     "execution_count": 7,
     "metadata": {},
     "output_type": "execute_result"
    }
   ],
   "source": [
    "X_is_raw(Healthy_adata)"
   ]
  },
  {
   "cell_type": "markdown",
   "metadata": {},
   "source": [
    "### Preprocess obs"
   ]
  },
  {
   "cell_type": "code",
   "execution_count": 8,
   "metadata": {},
   "outputs": [
    {
     "data": {
      "text/plain": [
       "Epithelial         210075\n",
       "Mesenchymal        172657\n",
       "T cells             47043\n",
       "Plasma cells        46681\n",
       "Myeloid             25587\n",
       "Neuronal            19307\n",
       "B cells             17772\n",
       "Endothelial         16631\n",
       "Red blood cells      1346\n",
       "Name: Cell Type, dtype: int64"
      ]
     },
     "execution_count": 8,
     "metadata": {},
     "output_type": "execute_result"
    }
   ],
   "source": [
    "Healthy_adata.obs['Cell Type'].value_counts()"
   ]
  },
  {
   "cell_type": "code",
   "execution_count": 9,
   "metadata": {},
   "outputs": [
    {
     "data": {
      "text/plain": [
       "TA                          39556\n",
       "Mesoderm 2 (ZEB2+)          34705\n",
       "Enterocyte                  32183\n",
       "Plasma cells                30236\n",
       "Mesoderm 1 (HAND1+)         28949\n",
       "                            ...  \n",
       "STAT1+ Naive B                 23\n",
       "Stromal 4 (MMP1+)              20\n",
       "Monocytes CHI3L1 CYP27A1       16\n",
       "Macrophages CXCL9 CXCL10       12\n",
       "Germ                           11\n",
       "Name: Cell States, Length: 201, dtype: int64"
      ]
     },
     "execution_count": 9,
     "metadata": {},
     "output_type": "execute_result"
    }
   ],
   "source": [
    "Healthy_adata.obs['Cell States'].value_counts()"
   ]
  },
  {
   "cell_type": "code",
   "execution_count": 10,
   "metadata": {},
   "outputs": [],
   "source": [
    "# Keep only Epithelial, T cells, Plasma cells, Myeloid, B cells\n",
    "Healthy_adata = Healthy_adata[Healthy_adata.obs['Cell Type'].isin(['Epithelial', 'T cells', 'Plasma cells', 'Myeloid', 'B cells'])]"
   ]
  },
  {
   "cell_type": "code",
   "execution_count": 11,
   "metadata": {},
   "outputs": [
    {
     "name": "stderr",
     "output_type": "stream",
     "text": [
      "/var/folders/gb/wwnzrh015q9dns5cmsc3xcjsxglkqz/T/ipykernel_31132/1014397207.py:2: ImplicitModificationWarning: Trying to modify attribute `.obs` of view, initializing view as actual.\n",
      "  Healthy_adata.obs['Unified_Cell_States'] = Healthy_adata.obs['Cell States']\n"
     ]
    }
   ],
   "source": [
    "# If the cell type is 'Epithelial', keep only 'Stem cells'\n",
    "Healthy_adata.obs['Unified_Cell_States'] = Healthy_adata.obs['Cell States']\n",
    "\n",
    "Healthy_adata.obs['Unified_Cell_States'].replace({\n",
    "                                               'Stem_Cells_GCA': 'Stem cells',\n",
    "                                               'Stem_Cells_ext': 'Stem cells',\n",
    "                                               'Stem cells OLFM4': 'Stem cells',\n",
    "                                               'Stem cells OLFM4 GSTA1': 'Stem cells',\n",
    "                                               'Stem cells OLFM4 LGR5': 'Stem cells',\n",
    "                                               'Stem cells OLFM4 PCNA': 'Stem cells'}, inplace=True)\n",
    "\n",
    "Healthy_adata = Healthy_adata[~((Healthy_adata.obs['Cell Type'] == 'Epithelial') & (Healthy_adata.obs['Unified_Cell_States'] != 'Stem cells'))]"
   ]
  },
  {
   "cell_type": "code",
   "execution_count": 12,
   "metadata": {},
   "outputs": [],
   "source": [
    "df = Healthy_adata.obs['Unified_Cell_States'].value_counts()"
   ]
  },
  {
   "cell_type": "code",
   "execution_count": 13,
   "metadata": {},
   "outputs": [
    {
     "name": "stderr",
     "output_type": "stream",
     "text": [
      "/var/folders/gb/wwnzrh015q9dns5cmsc3xcjsxglkqz/T/ipykernel_31132/3876241847.py:2: ImplicitModificationWarning: Trying to modify attribute `.obs` of view, initializing view as actual.\n",
      "  Healthy_adata.obs['Unified_Cell_States'] = np.where(Healthy_adata.obs['Cell Type'] == 'T cells', 'T cells', Healthy_adata.obs['Unified_Cell_States'])\n"
     ]
    }
   ],
   "source": [
    "# If Healthy_adata.obs['Cell Type'] is 'T cells', change the value in Healthy_adata.obs['Unified_Cell_States'] to 'T cells'\n",
    "Healthy_adata.obs['Unified_Cell_States'] = np.where(Healthy_adata.obs['Cell Type'] == 'T cells', 'T cells', Healthy_adata.obs['Unified_Cell_States'])"
   ]
  },
  {
   "cell_type": "code",
   "execution_count": 14,
   "metadata": {},
   "outputs": [],
   "source": [
    "Healthy_adata.obs['Unified_Cell_States'] = np.where(Healthy_adata.obs['Cell Type'] == 'Plasma cells', 'Plasma cells', Healthy_adata.obs['Unified_Cell_States'])"
   ]
  },
  {
   "cell_type": "code",
   "execution_count": 15,
   "metadata": {},
   "outputs": [],
   "source": [
    "Healthy_adata.obs['Unified_Cell_States'] = np.where(Healthy_adata.obs['Cell Type'] == 'B cells', 'B cells', Healthy_adata.obs['Unified_Cell_States'])"
   ]
  },
  {
   "cell_type": "code",
   "execution_count": 16,
   "metadata": {},
   "outputs": [],
   "source": [
    "Healthy_adata.obs['Unified_Cell_States'].replace({\n",
    "                                               'Mast cell': 'Mast cells',\n",
    "                                               'CLC+ Mast cell': 'Mast cells',\n",
    "                                               'Macrophages': 'McDC',\n",
    "                                               'Macrophages CCL3 CCL4': 'McDC',\n",
    "                                               'LYVE1+ Macrophage': 'McDC',\n",
    "                                               'Macrophages LYVE1': 'McDC',\n",
    "                                               'Macrophages Metallothionein': 'McDC', \n",
    "                                               'Macrophages CXCL9 CXCL10': 'McDC',\n",
    "                                               'Macrophages PLA2G2D': 'McDC',\n",
    "                                               'MMP9+ Inflammatory macrophage': 'McDC',\n",
    "                                               'Monocytes': 'McDC',\n",
    "                                               'Monocytes S100A8 S100A9': 'McDC',\n",
    "                                               'Monocytes HBB': 'McDC',\n",
    "                                               'Monocytes CHI3L1 CYP27A1': 'McDC',\n",
    "                                               'DC1': 'McDC',\n",
    "                                               'cDC1': 'McDC',\n",
    "                                               'Mature DCs': 'McDC',\n",
    "                                               'Lymphoid DC': 'McDC',\n",
    "                                               'cDC2': 'McDC',\n",
    "                                               'DC2 CD1D': 'McDC',\n",
    "                                               'DC2 CD1D-': 'McDC',\n",
    "                                               'MPO+ mono-neutrophil': 'Neutrophils',\n",
    "                                               'Cycling cells': 'Immune Cycling cells',\n",
    "                                               }, inplace=True)"
   ]
  },
  {
   "cell_type": "code",
   "execution_count": 17,
   "metadata": {},
   "outputs": [
    {
     "data": {
      "text/plain": [
       "T cells                 47043\n",
       "Plasma cells            46681\n",
       "Stem cells              35335\n",
       "McDC                    20301\n",
       "B cells                 17772\n",
       "Mast cells               3719\n",
       "Immune Cycling cells     1260\n",
       "pDC                       137\n",
       "Neutrophils               114\n",
       "Megakaryocyte              56\n",
       "Name: Unified_Cell_States, dtype: int64"
      ]
     },
     "execution_count": 17,
     "metadata": {},
     "output_type": "execute_result"
    }
   ],
   "source": [
    "Healthy_adata.obs['Unified_Cell_States'].value_counts()"
   ]
  },
  {
   "cell_type": "code",
   "execution_count": 18,
   "metadata": {},
   "outputs": [
    {
     "data": {
      "text/plain": [
       "<172418x26442 sparse matrix of type '<class 'numpy.float32'>'\n",
       "\twith 186884584 stored elements in Compressed Sparse Row format>"
      ]
     },
     "execution_count": 18,
     "metadata": {},
     "output_type": "execute_result"
    }
   ],
   "source": [
    "Healthy_adata.raw.X"
   ]
  },
  {
   "cell_type": "code",
   "execution_count": 21,
   "metadata": {},
   "outputs": [],
   "source": [
    "## Delete Pediatric and Fetal samples\n",
    "Healthy_adata = Healthy_adata[Healthy_adata.obs['Diagnosis'] != 'Pediatric healthy']\n",
    "Healthy_adata = Healthy_adata[Healthy_adata.obs['Diagnosis'] != 'Fetal Healthy']"
   ]
  },
  {
   "cell_type": "code",
   "execution_count": 23,
   "metadata": {},
   "outputs": [
    {
     "name": "stderr",
     "output_type": "stream",
     "text": [
      "/Users/anna.maguza/miniconda3/envs/scanpy_env/lib/python3.9/site-packages/anndata/_core/anndata.py:1235: ImplicitModificationWarning: Trying to modify attribute `.obs` of view, initializing view as actual.\n",
      "  df[key] = c\n"
     ]
    }
   ],
   "source": [
    "# Write the file\n",
    "Healthy_adata.write('/Users/anna.maguza/Desktop/Data/Processed_datasets/Cancer_dataset_integration/input_files/Stem_immune_cells/Healthy_stem_and_immune_cells_all_genes.h5ad')"
   ]
  },
  {
   "attachments": {},
   "cell_type": "markdown",
   "metadata": {},
   "source": [
    "### Doublets Identification"
   ]
  },
  {
   "cell_type": "code",
   "execution_count": 24,
   "metadata": {},
   "outputs": [],
   "source": [
    "scrub = scrublet.Scrublet(Healthy_adata.X)"
   ]
  },
  {
   "cell_type": "code",
   "execution_count": 25,
   "metadata": {},
   "outputs": [
    {
     "name": "stdout",
     "output_type": "stream",
     "text": [
      "Preprocessing...\n",
      "Simulating doublets...\n",
      "Embedding transcriptomes using PCA...\n",
      "Calculating doublet scores...\n",
      "Automatically set threshold at doublet score = 0.60\n",
      "Detected doublet rate = 0.1%\n",
      "Estimated detectable doublet fraction = 24.3%\n",
      "Overall doublet rate:\n",
      "\tExpected   = 10.0%\n",
      "\tEstimated  = 0.6%\n",
      "Elapsed time: 452.3 seconds\n"
     ]
    },
    {
     "data": {
      "text/plain": [
       "(<Figure size 640x240 with 2 Axes>,\n",
       " array([<Axes: title={'center': 'Observed transcriptomes'}, xlabel='Doublet score', ylabel='Prob. density'>,\n",
       "        <Axes: title={'center': 'Simulated doublets'}, xlabel='Doublet score', ylabel='Prob. density'>],\n",
       "       dtype=object))"
      ]
     },
     "execution_count": 25,
     "metadata": {},
     "output_type": "execute_result"
    },
    {
     "data": {
      "image/png": "[encoded data removed]",
      "text/plain": [
       "<Figure size 640x240 with 2 Axes>"
      ]
     },
     "metadata": {
      "image/png": {
       "height": 223,
       "width": 623
      }
     },
     "output_type": "display_data"
    }
   ],
   "source": [
    "Healthy_adata.obs['doublet_scores'], Healthy_adata.obs['predicted_doublets'] = scrub.scrub_doublets()\n",
    "scrub.plot_histogram()"
   ]
  },
  {
   "cell_type": "code",
   "execution_count": 26,
   "metadata": {},
   "outputs": [
    {
     "data": {
      "text/plain": [
       "190"
      ]
     },
     "execution_count": 26,
     "metadata": {},
     "output_type": "execute_result"
    }
   ],
   "source": [
    "sum(Healthy_adata.obs['predicted_doublets'])"
   ]
  },
  {
   "cell_type": "code",
   "execution_count": 27,
   "metadata": {},
   "outputs": [],
   "source": [
    "# add in column with singlet/doublet instead of True/False\n",
    "Healthy_adata.obs['doublet_info'] = Healthy_adata.obs[\"predicted_doublets\"].astype(str)"
   ]
  },
  {
   "cell_type": "code",
   "execution_count": 28,
   "metadata": {},
   "outputs": [],
   "source": [
    "# Write the file\n",
    "Healthy_adata.write('/Users/anna.maguza/Desktop/Data/Processed_datasets/Cancer_dataset_integration/input_files/Stem_immune_cells/Healthy_stem_and_immune_cells_all_genes.h5ad')"
   ]
  }
 ],
 "metadata": {
  "kernelspec": {
   "display_name": "scanpy_env",
   "language": "python",
   "name": "python3"
  },
  "language_info": {
   "codemirror_mode": {
    "name": "ipython",
    "version": 3
   },
   "file_extension": ".py",
   "mimetype": "text/x-python",
   "name": "python",
   "nbconvert_exporter": "python",
   "pygments_lexer": "ipython3",
   "version": "3.9.16"
  },
  "orig_nbformat": 4
 },
 "nbformat": 4,
 "nbformat_minor": 2
}
