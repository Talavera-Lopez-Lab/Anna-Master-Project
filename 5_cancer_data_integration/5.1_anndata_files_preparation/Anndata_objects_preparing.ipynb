{
 "cells": [
  {
   "attachments": {},
   "cell_type": "markdown",
   "metadata": {},
   "source": [
    "## Notebook for the Integrated Healthy dataset and Colon Cancer Atlas\n",
    "### Developed by: Anna Maguza\n",
    "\n",
    "### Institute of Computational Biology - Computational Health Centre - Hemlholtz Munich\n",
    "\n",
    "### 15 May 2023"
   ]
  },
  {
   "cell_type": "markdown",
   "metadata": {},
   "source": [
    "#### Load required packages"
   ]
  },
  {
   "cell_type": "code",
   "execution_count": 1,
   "metadata": {},
   "outputs": [],
   "source": [
    "import numpy as np\n",
    "import pandas as pd\n",
    "import scanpy as sc\n",
    "import anndata as an\n",
    "import matplotlib.pyplot as plt\n",
    "from matplotlib.pyplot import figure\n",
    "import scipy as sci"
   ]
  },
  {
   "cell_type": "markdown",
   "metadata": {},
   "source": [
    "#### Setup Cells"
   ]
  },
  {
   "cell_type": "code",
   "execution_count": 2,
   "metadata": {},
   "outputs": [],
   "source": [
    "%matplotlib inline"
   ]
  },
  {
   "cell_type": "code",
   "execution_count": 3,
   "metadata": {},
   "outputs": [
    {
     "name": "stderr",
     "output_type": "stream",
     "text": [
      "/Users/anna.maguza/miniconda3/envs/scanpy_env/lib/python3.9/site-packages/tqdm/auto.py:21: TqdmWarning: IProgress not found. Please update jupyter and ipywidgets. See https://ipywidgets.readthedocs.io/en/stable/user_install.html\n",
      "  from .autonotebook import tqdm as notebook_tqdm\n"
     ]
    },
    {
     "name": "stdout",
     "output_type": "stream",
     "text": [
      "scanpy==1.9.3 anndata==0.8.0 umap==0.5.3 numpy==1.23.5 scipy==1.9.1 pandas==1.3.5 scikit-learn==1.2.2 statsmodels==0.13.5 pynndescent==0.5.8\n"
     ]
    }
   ],
   "source": [
    "sc.settings.verbosity = 3             # verbosity: errors (0), warnings (1), info (2), hints (3)\n",
    "sc.logging.print_header()\n",
    "sc.settings.set_figure_params(dpi=80, facecolor='white')"
   ]
  },
  {
   "cell_type": "code",
   "execution_count": 4,
   "metadata": {},
   "outputs": [],
   "source": [
    "def X_is_raw(adata):\n",
    "    return np.array_equal(adata.X.sum(axis=0).astype(int), adata.X.sum(axis=0))"
   ]
  },
  {
   "cell_type": "markdown",
   "metadata": {},
   "source": [
    "#### Upload Data"
   ]
  },
  {
   "cell_type": "code",
   "execution_count": 27,
   "metadata": {},
   "outputs": [],
   "source": [
    "input_path_healthy = '/Users/anna.maguza/Desktop/Data/Processed_datasets/Datasets Integration/Integrated datasets/All_cells_5000_HVGs_scvi_scanvi.h5ad'\n",
    "Healthy_adata = sc.read_h5ad(input_path_healthy)"
   ]
  },
  {
   "cell_type": "code",
   "execution_count": 28,
   "metadata": {},
   "outputs": [
    {
     "data": {
      "text/plain": [
       "True"
      ]
     },
     "execution_count": 28,
     "metadata": {},
     "output_type": "execute_result"
    }
   ],
   "source": [
    "X_is_raw(Healthy_adata)"
   ]
  },
  {
   "cell_type": "code",
   "execution_count": 29,
   "metadata": {},
   "outputs": [],
   "source": [
    "input_path_cancer = '/Users/anna.maguza/Desktop/Data/Gut_project/Human_Colon_Cancer_Atlas/anndata/Colon_cancer_atlas_anndata.h5ad'\n",
    "Cancer_adata = sc.read_h5ad(input_path_cancer)"
   ]
  },
  {
   "cell_type": "code",
   "execution_count": 30,
   "metadata": {},
   "outputs": [
    {
     "data": {
      "text/plain": [
       "False"
      ]
     },
     "execution_count": 30,
     "metadata": {},
     "output_type": "execute_result"
    }
   ],
   "source": [
    "X_is_raw(Cancer_adata)"
   ]
  },
  {
   "cell_type": "code",
   "execution_count": 38,
   "metadata": {},
   "outputs": [],
   "source": [
    "# Upload unprocessed dataset (before HVGs extraction)\n",
    "input_path_healthy_all_counts = '/Users/anna.maguza/Desktop/Data/Processed_datasets/Healthy_reference/GCA_Kong_Smillie_Wang_unprocessed/GCA_Kong_Wang_Smillie_raw.h5ad'\n",
    "healthy_all_counts = sc.read_h5ad(input_path_healthy_all_counts)"
   ]
  },
  {
   "cell_type": "code",
   "execution_count": 39,
   "metadata": {},
   "outputs": [
    {
     "data": {
      "text/plain": [
       "True"
      ]
     },
     "execution_count": 39,
     "metadata": {},
     "output_type": "execute_result"
    }
   ],
   "source": [
    "X_is_raw(healthy_all_counts)"
   ]
  },
  {
   "attachments": {},
   "cell_type": "markdown",
   "metadata": {},
   "source": [
    "### Preprocess X in Healthy data"
   ]
  },
  {
   "cell_type": "code",
   "execution_count": 40,
   "metadata": {},
   "outputs": [
    {
     "data": {
      "text/plain": [
       "<557099x23616 sparse matrix of type '<class 'numpy.float32'>'\n",
       "\twith 794816608 stored elements in Compressed Sparse Row format>"
      ]
     },
     "execution_count": 40,
     "metadata": {},
     "output_type": "execute_result"
    }
   ],
   "source": [
    "healthy_all_counts.X"
   ]
  },
  {
   "cell_type": "code",
   "execution_count": 50,
   "metadata": {},
   "outputs": [
    {
     "data": {
      "text/plain": [
       "AnnData object with n_obs × n_vars = 557099 × 5000\n",
       "    obs: 'Sample_ID', 'Cell Type', 'Study_name', 'Donor_ID', 'Diagnosis', 'Age', 'Region code', 'Fraction', 'Gender', 'Library_Preparation_Protocol', 'batch', 'Age_group', 'Location', 'Cell States', 'Cell States GCA', 'Chem', 'Layer', 'Cell States Kong', 'dataset', 'n_genes_by_counts', 'total_counts', 'total_counts_mito', 'pct_counts_mito', 'total_counts_ribo', 'pct_counts_ribo', 'Cell_ID', '_scvi_batch', '_scvi_labels'\n",
       "    var: 'gene_id-query', 'gene_name-query', 'n_cells_by_counts', 'mean_counts', 'log1p_mean_counts', 'pct_dropout_by_counts', 'total_counts', 'log1p_total_counts', 'mito', 'ribo', 'highly_variable', 'highly_variable_rank', 'means', 'variances', 'variances_norm', 'highly_variable_nbatches'\n",
       "    uns: 'Age_group_colors', 'Cell Type_colors', 'Diagnosis_colors', 'Donor_ID_colors', 'Gender_colors', 'Library_Preparation_Protocol_colors', 'Location_colors', 'Study_name_colors', '_scvi_manager_uuid', '_scvi_uuid', 'hvg', 'neighbors', 'umap'\n",
       "    obsm: 'X_mde', 'X_mde_scanvi', 'X_scANVI', 'X_scVI', 'X_umap', '_scvi_extra_categorical_covs', '_scvi_extra_continuous_covs'\n",
       "    layers: 'counts'\n",
       "    obsp: 'connectivities', 'distances'"
      ]
     },
     "execution_count": 50,
     "metadata": {},
     "output_type": "execute_result"
    }
   ],
   "source": [
    "Healthy_adata"
   ]
  },
  {
   "cell_type": "code",
   "execution_count": 53,
   "metadata": {},
   "outputs": [
    {
     "data": {
      "text/plain": [
       "AnnData object with n_obs × n_vars = 557099 × 23616\n",
       "    obs: 'Sample_ID', 'Cell Type', 'Study_name', 'Donor_ID', 'Diagnosis', 'Age', 'Region code', 'Fraction', 'Gender', 'Library_Preparation_Protocol', 'batch', 'Age_group', 'Location', 'Cell States', 'Cell States GCA', 'Chem', 'Layer', 'Cell States Kong', 'dataset', 'n_genes_by_counts', 'total_counts', 'total_counts_mito', 'pct_counts_mito', 'total_counts_ribo', 'pct_counts_ribo', 'Cell_ID', '_scvi_batch', '_scvi_labels'\n",
       "    var: 'gene_id-Kong', 'gene_name-Kong', 'n_cells_by_counts-Kong', 'mean_counts-Kong', 'log1p_mean_counts-Kong', 'pct_dropout_by_counts-Kong', 'total_counts-Kong', 'log1p_total_counts-Kong', 'mito-Kong', 'ribo-Kong', 'highly_variable-Kong', 'highly_variable_rank-Kong', 'means-Kong', 'variances-Kong', 'variances_norm-Kong'\n",
       "    uns: 'Age_group_colors', 'Cell Type_colors', 'Diagnosis_colors', 'Donor_ID_colors', 'Gender_colors', 'Library_Preparation_Protocol_colors', 'Location_colors', 'Study_name_colors', '_scvi_manager_uuid', '_scvi_uuid', 'hvg', 'neighbors', 'umap'\n",
       "    obsm: 'X_mde', 'X_mde_scanvi', 'X_scANVI', 'X_scVI', 'X_umap', '_scvi_extra_categorical_covs', '_scvi_extra_continuous_covs'\n",
       "    obsp: 'connectivities', 'distances'"
      ]
     },
     "execution_count": 53,
     "metadata": {},
     "output_type": "execute_result"
    }
   ],
   "source": [
    "healthy_all_counts"
   ]
  },
  {
   "cell_type": "code",
   "execution_count": 52,
   "metadata": {},
   "outputs": [],
   "source": [
    "# Transfer var and X from unprocessed dataset to processed one\n",
    "healthy_all_counts.obs = Healthy_adata.obs\n",
    "healthy_all_counts.obsm = Healthy_adata.obsm\n",
    "healthy_all_counts.uns = Healthy_adata.uns\n",
    "healthy_all_counts.obsp = Healthy_adata.obsp"
   ]
  },
  {
   "cell_type": "markdown",
   "metadata": {},
   "source": [
    "### Preprocess obs in Cancer data"
   ]
  },
  {
   "cell_type": "code",
   "execution_count": 54,
   "metadata": {},
   "outputs": [
    {
     "data": {
      "text/plain": [
       "['biosample_id',\n",
       " 'donor_id',\n",
       " 'SpecimenType',\n",
       " 'TissueSource',\n",
       " 'ProcessingMethod',\n",
       " 'PatientTypeID',\n",
       " 'sex',\n",
       " 'Site',\n",
       " 'Grade',\n",
       " 'TumorStage',\n",
       " 'LymphNodeStatus',\n",
       " 'MMRStatusTumor',\n",
       " 'MMRMLH1Tumor',\n",
       " 'qc_geneCount',\n",
       " 'qc_logMappedReads',\n",
       " 'qc_meanReadsPerUmi',\n",
       " 'qc_totalReads',\n",
       " 'qc_logUmiCount',\n",
       " 'qc_bcSwapFraction',\n",
       " 'qc_geneSatFraction',\n",
       " 'qc_seqDupEst',\n",
       " 'qc_umiSatFraction',\n",
       " 'qc_emptyDropPval',\n",
       " 'qc_mitoFraction',\n",
       " 'species',\n",
       " 'species__ontology_label',\n",
       " 'disease',\n",
       " 'disease__ontology_label',\n",
       " 'organ',\n",
       " 'organ__ontology_label',\n",
       " 'library_preparation_protocol',\n",
       " 'library_preparation_protocol__ontology_label',\n",
       " 'ClusterFull',\n",
       " 'ClusterMidway',\n",
       " 'ClusterTop']"
      ]
     },
     "execution_count": 54,
     "metadata": {},
     "output_type": "execute_result"
    }
   ],
   "source": [
    "Cancer_adata.obs_keys()"
   ]
  },
  {
   "cell_type": "code",
   "execution_count": 55,
   "metadata": {},
   "outputs": [
    {
     "data": {
      "text/plain": [
       "colon adenocarcinoma    258359\n",
       "normal                  112864\n",
       "Name: disease__ontology_label, dtype: int64"
      ]
     },
     "execution_count": 55,
     "metadata": {},
     "output_type": "execute_result"
    }
   ],
   "source": [
    "Cancer_adata.obs['disease__ontology_label'].value_counts()"
   ]
  },
  {
   "cell_type": "code",
   "execution_count": 56,
   "metadata": {},
   "outputs": [],
   "source": [
    "# Filter only cancer cells\n",
    "Cancer_adata = Cancer_adata[Cancer_adata.obs['disease__ontology_label'] == 'colon adenocarcinoma', :]"
   ]
  },
  {
   "cell_type": "code",
   "execution_count": 57,
   "metadata": {},
   "outputs": [
    {
     "data": {
      "text/plain": [
       "<bound method AnnData.obs_keys of View of AnnData object with n_obs × n_vars = 258359 × 43282\n",
       "    obs: 'biosample_id', 'donor_id', 'SpecimenType', 'TissueSource', 'ProcessingMethod', 'PatientTypeID', 'sex', 'Site', 'Grade', 'TumorStage', 'LymphNodeStatus', 'MMRStatusTumor', 'MMRMLH1Tumor', 'qc_geneCount', 'qc_logMappedReads', 'qc_meanReadsPerUmi', 'qc_totalReads', 'qc_logUmiCount', 'qc_bcSwapFraction', 'qc_geneSatFraction', 'qc_seqDupEst', 'qc_umiSatFraction', 'qc_emptyDropPval', 'qc_mitoFraction', 'species', 'species__ontology_label', 'disease', 'disease__ontology_label', 'organ', 'organ__ontology_label', 'library_preparation_protocol', 'library_preparation_protocol__ontology_label', 'ClusterFull', 'ClusterMidway', 'ClusterTop'\n",
       "    var: 'gene_name'>"
      ]
     },
     "execution_count": 57,
     "metadata": {},
     "output_type": "execute_result"
    }
   ],
   "source": [
    "Cancer_adata.obs_keys"
   ]
  },
  {
   "cell_type": "code",
   "execution_count": 58,
   "metadata": {},
   "outputs": [
    {
     "data": {
      "text/plain": [
       "<bound method AnnData.obs_keys of AnnData object with n_obs × n_vars = 557099 × 5000\n",
       "    obs: 'Sample_ID', 'Cell Type', 'Study_name', 'Donor_ID', 'Diagnosis', 'Age', 'Region code', 'Fraction', 'Gender', 'Library_Preparation_Protocol', 'batch', 'Age_group', 'Location', 'Cell States', 'Cell States GCA', 'Chem', 'Layer', 'Cell States Kong', 'dataset', 'n_genes_by_counts', 'total_counts', 'total_counts_mito', 'pct_counts_mito', 'total_counts_ribo', 'pct_counts_ribo', 'Cell_ID', '_scvi_batch', '_scvi_labels'\n",
       "    var: 'gene_id-query', 'gene_name-query', 'n_cells_by_counts', 'mean_counts', 'log1p_mean_counts', 'pct_dropout_by_counts', 'total_counts', 'log1p_total_counts', 'mito', 'ribo', 'highly_variable', 'highly_variable_rank', 'means', 'variances', 'variances_norm', 'highly_variable_nbatches'\n",
       "    uns: 'Age_group_colors', 'Cell Type_colors', 'Diagnosis_colors', 'Donor_ID_colors', 'Gender_colors', 'Library_Preparation_Protocol_colors', 'Location_colors', 'Study_name_colors', '_scvi_manager_uuid', '_scvi_uuid', 'hvg', 'neighbors', 'umap'\n",
       "    obsm: 'X_mde', 'X_mde_scanvi', 'X_scANVI', 'X_scVI', 'X_umap', '_scvi_extra_categorical_covs', '_scvi_extra_continuous_covs'\n",
       "    layers: 'counts'\n",
       "    obsp: 'connectivities', 'distances'>"
      ]
     },
     "execution_count": 58,
     "metadata": {},
     "output_type": "execute_result"
    }
   ],
   "source": [
    "Healthy_adata.obs_keys"
   ]
  },
  {
   "cell_type": "code",
   "execution_count": 59,
   "metadata": {},
   "outputs": [],
   "source": [
    "# Delete unnecessary columns\n",
    "del Cancer_adata.obs['disease'], Cancer_adata.obs['species'], Cancer_adata.obs['species__ontology_label'], Cancer_adata.obs['organ'], Cancer_adata.obs['library_preparation_protocol']\n",
    "del Cancer_adata.obs['qc_geneCount']\n",
    "del Cancer_adata.obs['qc_logMappedReads']\n",
    "del Cancer_adata.obs['qc_meanReadsPerUmi']\n",
    "del Cancer_adata.obs['qc_totalReads']\n",
    "del Cancer_adata.obs['qc_logUmiCount']\n",
    "del Cancer_adata.obs['qc_bcSwapFraction']\n",
    "del Cancer_adata.obs['qc_geneSatFraction']\n",
    "del Cancer_adata.obs['qc_seqDupEst']\n",
    "del Cancer_adata.obs['qc_umiSatFraction']\n",
    "del Cancer_adata.obs['qc_emptyDropPval']\n",
    "del Cancer_adata.obs['qc_mitoFraction']"
   ]
  },
  {
   "cell_type": "code",
   "execution_count": 60,
   "metadata": {},
   "outputs": [
    {
     "name": "stderr",
     "output_type": "stream",
     "text": [
      "/var/folders/gb/wwnzrh015q9dns5cmsc3xcjsxglkqz/T/ipykernel_20416/1349155902.py:1: ImplicitModificationWarning: Trying to modify attribute `.obs` of view, initializing view as actual.\n",
      "  Cancer_adata.obs['Study_name'] = 'Colon_cancer_atlas'\n"
     ]
    }
   ],
   "source": [
    "Cancer_adata.obs['Study_name'] = 'Colon_cancer_atlas'"
   ]
  },
  {
   "cell_type": "code",
   "execution_count": 61,
   "metadata": {},
   "outputs": [],
   "source": [
    "# Rename columns in Cancer_adata as in Healthy_adata\n",
    "Cancer_adata.obs.rename(columns={'biosample_id': 'Sample_ID',\n",
    "                                  'donor_id': 'Donor_ID',\n",
    "                                  'disease__ontology_label': 'Diagnosis',\n",
    "                                  'library_preparation_protocol__ontology_label': 'Library_Preparation_Protocol',\n",
    "                                  'sex': 'Gender',\n",
    "                                  'organ': 'Location',\n",
    "                                  'ClusterTop': 'Cell Type'}, inplace=True)"
   ]
  },
  {
   "cell_type": "code",
   "execution_count": 62,
   "metadata": {},
   "outputs": [],
   "source": [
    "# Rename values in Cancer_adata.obs['ClusterTop'] as in Healthy_adata.obs['Cell Type']\n",
    "Cancer_adata.obs['Cell Type'].replace({'Epi': 'Epithelial', \n",
    "                                        'Plasma': 'Plasma cells',\n",
    "                                        'TNKILC': 'T cells',\n",
    "                                        'B': 'B cells',\n",
    "                                        'Strom': 'Mesenchymal',\n",
    "                                        'Mast': 'Myeloid'}, inplace=True)"
   ]
  },
  {
   "cell_type": "code",
   "execution_count": 18,
   "metadata": {},
   "outputs": [
    {
     "data": {
      "text/plain": [
       "Epithelial         191207\n",
       "Mesenchymal        172657\n",
       "T cells             47043\n",
       "Plasma cells        46681\n",
       "Myeloid             25587\n",
       "Neuronal            19307\n",
       "Stem Cell           18868\n",
       "B cells             17772\n",
       "Endothelial         16631\n",
       "Red blood cells      1346\n",
       "Name: Cell Type, dtype: int64"
      ]
     },
     "execution_count": 18,
     "metadata": {},
     "output_type": "execute_result"
    }
   ],
   "source": [
    "healthy_all_counts.obs['Cell Type'].value_counts()"
   ]
  },
  {
   "cell_type": "code",
   "execution_count": 63,
   "metadata": {},
   "outputs": [],
   "source": [
    "# Rename values in Cancer_adata.obs['ClusterTop'] as in Healthy_adata.obs['Cell Type']\n",
    "healthy_all_counts.obs['Cell Type'].replace({'Stem Cell': 'Epithelial'}, inplace=True)"
   ]
  },
  {
   "attachments": {},
   "cell_type": "markdown",
   "metadata": {},
   "source": [
    "### Make the QC the same as in the Healthy dataset"
   ]
  },
  {
   "cell_type": "code",
   "execution_count": 64,
   "metadata": {},
   "outputs": [],
   "source": [
    "# Calculate quality metrics for cancer dataset\n",
    "sc.pp.calculate_qc_metrics(Cancer_adata, inplace=True)"
   ]
  },
  {
   "cell_type": "code",
   "execution_count": 66,
   "metadata": {},
   "outputs": [],
   "source": [
    "# Make gene_id as a first column in adata.var\n",
    "Cancer_adata.var.insert(0, 'gene_id', Cancer_adata.var.index)\n",
    "# Make a gene name as index \n",
    "Cancer_adata.var.index = Cancer_adata.var['gene_name']"
   ]
  },
  {
   "cell_type": "code",
   "execution_count": 68,
   "metadata": {},
   "outputs": [],
   "source": [
    "# Calculate mitochondrial fraction\n",
    "Cancer_adata.var['mito'] = Cancer_adata.var_names.str.startswith((\"MT-\"))  # annotate the group of ribosomal genes as 'ribo'\n",
    "sc.pp.calculate_qc_metrics(Cancer_adata, qc_vars=['mito'], percent_top=None, log1p=False, inplace=True)\n",
    "Cancer_adata.var['ribo'] = Cancer_adata.var_names.str.startswith((\"RPS\",\"RPL\"))  # annotate the group of ribosomal genes as 'ribo'\n",
    "sc.pp.calculate_qc_metrics(Cancer_adata, qc_vars=['ribo'], percent_top=None, log1p=False, inplace=True)"
   ]
  },
  {
   "cell_type": "code",
   "execution_count": 71,
   "metadata": {},
   "outputs": [
    {
     "data": {
      "text/html": [
       "<div>\n",
       "<style scoped>\n",
       "    .dataframe tbody tr th:only-of-type {\n",
       "        vertical-align: middle;\n",
       "    }\n",
       "\n",
       "    .dataframe tbody tr th {\n",
       "        vertical-align: top;\n",
       "    }\n",
       "\n",
       "    .dataframe thead th {\n",
       "        text-align: right;\n",
       "    }\n",
       "</style>\n",
       "<table border=\"1\" class=\"dataframe\">\n",
       "  <thead>\n",
       "    <tr style=\"text-align: right;\">\n",
       "      <th></th>\n",
       "      <th>Sample_ID</th>\n",
       "      <th>Donor_ID</th>\n",
       "      <th>SpecimenType</th>\n",
       "      <th>TissueSource</th>\n",
       "      <th>ProcessingMethod</th>\n",
       "      <th>PatientTypeID</th>\n",
       "      <th>Gender</th>\n",
       "      <th>Site</th>\n",
       "      <th>Grade</th>\n",
       "      <th>TumorStage</th>\n",
       "      <th>...</th>\n",
       "      <th>ClusterMidway</th>\n",
       "      <th>Cell Type</th>\n",
       "      <th>Study_name</th>\n",
       "      <th>n_genes_by_counts</th>\n",
       "      <th>log1p_n_genes_by_counts</th>\n",
       "      <th>total_counts</th>\n",
       "      <th>total_counts_mito</th>\n",
       "      <th>pct_counts_mito</th>\n",
       "      <th>total_counts_ribo</th>\n",
       "      <th>pct_counts_ribo</th>\n",
       "    </tr>\n",
       "    <tr>\n",
       "      <th>cell_id</th>\n",
       "      <th></th>\n",
       "      <th></th>\n",
       "      <th></th>\n",
       "      <th></th>\n",
       "      <th></th>\n",
       "      <th></th>\n",
       "      <th></th>\n",
       "      <th></th>\n",
       "      <th></th>\n",
       "      <th></th>\n",
       "      <th></th>\n",
       "      <th></th>\n",
       "      <th></th>\n",
       "      <th></th>\n",
       "      <th></th>\n",
       "      <th></th>\n",
       "      <th></th>\n",
       "      <th></th>\n",
       "      <th></th>\n",
       "      <th></th>\n",
       "      <th></th>\n",
       "    </tr>\n",
       "  </thead>\n",
       "  <tbody>\n",
       "    <tr>\n",
       "      <th>C103_T_1_1_0_c1_v2_id-AAACCTGCATGCTAGT</th>\n",
       "      <td>C103_T_1_1_0_c1_v2</td>\n",
       "      <td>C103</td>\n",
       "      <td>T</td>\n",
       "      <td>MGH</td>\n",
       "      <td>unsorted</td>\n",
       "      <td>C103_T</td>\n",
       "      <td>male</td>\n",
       "      <td>left</td>\n",
       "      <td>low</td>\n",
       "      <td>notT4</td>\n",
       "      <td>...</td>\n",
       "      <td>EpiT</td>\n",
       "      <td>Epithelial</td>\n",
       "      <td>Colon_cancer_atlas</td>\n",
       "      <td>3098</td>\n",
       "      <td>8.038835</td>\n",
       "      <td>4603.801270</td>\n",
       "      <td>68.937042</td>\n",
       "      <td>1.497394</td>\n",
       "      <td>445.594940</td>\n",
       "      <td>9.678848</td>\n",
       "    </tr>\n",
       "    <tr>\n",
       "      <th>C103_T_1_1_0_c1_v2_id-AAACCTGGTAGCCTAT</th>\n",
       "      <td>C103_T_1_1_0_c1_v2</td>\n",
       "      <td>C103</td>\n",
       "      <td>T</td>\n",
       "      <td>MGH</td>\n",
       "      <td>unsorted</td>\n",
       "      <td>C103_T</td>\n",
       "      <td>male</td>\n",
       "      <td>left</td>\n",
       "      <td>low</td>\n",
       "      <td>notT4</td>\n",
       "      <td>...</td>\n",
       "      <td>EpiT</td>\n",
       "      <td>Epithelial</td>\n",
       "      <td>Colon_cancer_atlas</td>\n",
       "      <td>507</td>\n",
       "      <td>6.230481</td>\n",
       "      <td>2108.768555</td>\n",
       "      <td>94.047325</td>\n",
       "      <td>4.459822</td>\n",
       "      <td>371.848663</td>\n",
       "      <td>17.633450</td>\n",
       "    </tr>\n",
       "    <tr>\n",
       "      <th>C103_T_1_1_0_c1_v2_id-AAACCTGGTTGTCGCG</th>\n",
       "      <td>C103_T_1_1_0_c1_v2</td>\n",
       "      <td>C103</td>\n",
       "      <td>T</td>\n",
       "      <td>MGH</td>\n",
       "      <td>unsorted</td>\n",
       "      <td>C103_T</td>\n",
       "      <td>male</td>\n",
       "      <td>left</td>\n",
       "      <td>low</td>\n",
       "      <td>notT4</td>\n",
       "      <td>...</td>\n",
       "      <td>EpiT</td>\n",
       "      <td>Epithelial</td>\n",
       "      <td>Colon_cancer_atlas</td>\n",
       "      <td>6688</td>\n",
       "      <td>8.808220</td>\n",
       "      <td>5887.731934</td>\n",
       "      <td>76.699623</td>\n",
       "      <td>1.302702</td>\n",
       "      <td>400.767029</td>\n",
       "      <td>6.806816</td>\n",
       "    </tr>\n",
       "    <tr>\n",
       "      <th>C103_T_1_1_0_c1_v2_id-AAACCTGTCATGTGGT</th>\n",
       "      <td>C103_T_1_1_0_c1_v2</td>\n",
       "      <td>C103</td>\n",
       "      <td>T</td>\n",
       "      <td>MGH</td>\n",
       "      <td>unsorted</td>\n",
       "      <td>C103_T</td>\n",
       "      <td>male</td>\n",
       "      <td>left</td>\n",
       "      <td>low</td>\n",
       "      <td>notT4</td>\n",
       "      <td>...</td>\n",
       "      <td>EpiT</td>\n",
       "      <td>Epithelial</td>\n",
       "      <td>Colon_cancer_atlas</td>\n",
       "      <td>3515</td>\n",
       "      <td>8.165079</td>\n",
       "      <td>4969.738281</td>\n",
       "      <td>75.586861</td>\n",
       "      <td>1.520943</td>\n",
       "      <td>429.411682</td>\n",
       "      <td>8.640530</td>\n",
       "    </tr>\n",
       "    <tr>\n",
       "      <th>C103_T_1_1_0_c1_v2_id-AAACCTGTCCTTGGTC</th>\n",
       "      <td>C103_T_1_1_0_c1_v2</td>\n",
       "      <td>C103</td>\n",
       "      <td>T</td>\n",
       "      <td>MGH</td>\n",
       "      <td>unsorted</td>\n",
       "      <td>C103_T</td>\n",
       "      <td>male</td>\n",
       "      <td>left</td>\n",
       "      <td>low</td>\n",
       "      <td>notT4</td>\n",
       "      <td>...</td>\n",
       "      <td>EpiT</td>\n",
       "      <td>Epithelial</td>\n",
       "      <td>Colon_cancer_atlas</td>\n",
       "      <td>6316</td>\n",
       "      <td>8.751000</td>\n",
       "      <td>5981.045410</td>\n",
       "      <td>78.871780</td>\n",
       "      <td>1.318696</td>\n",
       "      <td>373.194397</td>\n",
       "      <td>6.239618</td>\n",
       "    </tr>\n",
       "    <tr>\n",
       "      <th>...</th>\n",
       "      <td>...</td>\n",
       "      <td>...</td>\n",
       "      <td>...</td>\n",
       "      <td>...</td>\n",
       "      <td>...</td>\n",
       "      <td>...</td>\n",
       "      <td>...</td>\n",
       "      <td>...</td>\n",
       "      <td>...</td>\n",
       "      <td>...</td>\n",
       "      <td>...</td>\n",
       "      <td>...</td>\n",
       "      <td>...</td>\n",
       "      <td>...</td>\n",
       "      <td>...</td>\n",
       "      <td>...</td>\n",
       "      <td>...</td>\n",
       "      <td>...</td>\n",
       "      <td>...</td>\n",
       "      <td>...</td>\n",
       "      <td>...</td>\n",
       "    </tr>\n",
       "    <tr>\n",
       "      <th>C173_T_0_0_0_c1_v3_id-TTTGGAGTCATCGGGC</th>\n",
       "      <td>C173_T_0_0_0_c1_v3</td>\n",
       "      <td>C173</td>\n",
       "      <td>T</td>\n",
       "      <td>DFCI</td>\n",
       "      <td>unsorted</td>\n",
       "      <td>C173_T</td>\n",
       "      <td>female</td>\n",
       "      <td>left</td>\n",
       "      <td>high</td>\n",
       "      <td>T4</td>\n",
       "      <td>...</td>\n",
       "      <td>Macro</td>\n",
       "      <td>Myeloid</td>\n",
       "      <td>Colon_cancer_atlas</td>\n",
       "      <td>3172</td>\n",
       "      <td>8.062433</td>\n",
       "      <td>5487.610352</td>\n",
       "      <td>80.156494</td>\n",
       "      <td>1.460681</td>\n",
       "      <td>246.709534</td>\n",
       "      <td>4.495755</td>\n",
       "    </tr>\n",
       "    <tr>\n",
       "      <th>C173_T_0_0_0_c1_v3_id-TTTGGAGTCTAGTGTG</th>\n",
       "      <td>C173_T_0_0_0_c1_v3</td>\n",
       "      <td>C173</td>\n",
       "      <td>T</td>\n",
       "      <td>DFCI</td>\n",
       "      <td>unsorted</td>\n",
       "      <td>C173_T</td>\n",
       "      <td>female</td>\n",
       "      <td>left</td>\n",
       "      <td>high</td>\n",
       "      <td>T4</td>\n",
       "      <td>...</td>\n",
       "      <td>EpiT</td>\n",
       "      <td>Epithelial</td>\n",
       "      <td>Colon_cancer_atlas</td>\n",
       "      <td>4377</td>\n",
       "      <td>8.384347</td>\n",
       "      <td>5541.674316</td>\n",
       "      <td>94.976021</td>\n",
       "      <td>1.713851</td>\n",
       "      <td>358.535309</td>\n",
       "      <td>6.469801</td>\n",
       "    </tr>\n",
       "    <tr>\n",
       "      <th>C173_T_0_0_0_c1_v3_id-TTTGTTGCAGCAATTC</th>\n",
       "      <td>C173_T_0_0_0_c1_v3</td>\n",
       "      <td>C173</td>\n",
       "      <td>T</td>\n",
       "      <td>DFCI</td>\n",
       "      <td>unsorted</td>\n",
       "      <td>C173_T</td>\n",
       "      <td>female</td>\n",
       "      <td>left</td>\n",
       "      <td>high</td>\n",
       "      <td>T4</td>\n",
       "      <td>...</td>\n",
       "      <td>EpiT</td>\n",
       "      <td>Epithelial</td>\n",
       "      <td>Colon_cancer_atlas</td>\n",
       "      <td>869</td>\n",
       "      <td>6.768493</td>\n",
       "      <td>2635.017578</td>\n",
       "      <td>103.340820</td>\n",
       "      <td>3.921827</td>\n",
       "      <td>67.731804</td>\n",
       "      <td>2.570450</td>\n",
       "    </tr>\n",
       "    <tr>\n",
       "      <th>C173_T_0_0_0_c1_v3_id-TTTGTTGGTTCTGAGT</th>\n",
       "      <td>C173_T_0_0_0_c1_v3</td>\n",
       "      <td>C173</td>\n",
       "      <td>T</td>\n",
       "      <td>DFCI</td>\n",
       "      <td>unsorted</td>\n",
       "      <td>C173_T</td>\n",
       "      <td>female</td>\n",
       "      <td>left</td>\n",
       "      <td>high</td>\n",
       "      <td>T4</td>\n",
       "      <td>...</td>\n",
       "      <td>TCD4</td>\n",
       "      <td>T cells</td>\n",
       "      <td>Colon_cancer_atlas</td>\n",
       "      <td>641</td>\n",
       "      <td>6.464588</td>\n",
       "      <td>2512.186279</td>\n",
       "      <td>78.763542</td>\n",
       "      <td>3.135259</td>\n",
       "      <td>368.961121</td>\n",
       "      <td>14.686854</td>\n",
       "    </tr>\n",
       "    <tr>\n",
       "      <th>C173_T_0_0_0_c1_v3_id-TTTGTTGTCGTTCCCA</th>\n",
       "      <td>C173_T_0_0_0_c1_v3</td>\n",
       "      <td>C173</td>\n",
       "      <td>T</td>\n",
       "      <td>DFCI</td>\n",
       "      <td>unsorted</td>\n",
       "      <td>C173_T</td>\n",
       "      <td>female</td>\n",
       "      <td>left</td>\n",
       "      <td>high</td>\n",
       "      <td>T4</td>\n",
       "      <td>...</td>\n",
       "      <td>EpiT</td>\n",
       "      <td>Epithelial</td>\n",
       "      <td>Colon_cancer_atlas</td>\n",
       "      <td>5308</td>\n",
       "      <td>8.577159</td>\n",
       "      <td>4336.700684</td>\n",
       "      <td>102.541946</td>\n",
       "      <td>2.364515</td>\n",
       "      <td>384.193542</td>\n",
       "      <td>8.859120</td>\n",
       "    </tr>\n",
       "  </tbody>\n",
       "</table>\n",
       "<p>258359 rows × 27 columns</p>\n",
       "</div>"
      ],
      "text/plain": [
       "                                                 Sample_ID Donor_ID  \\\n",
       "cell_id                                                               \n",
       "C103_T_1_1_0_c1_v2_id-AAACCTGCATGCTAGT  C103_T_1_1_0_c1_v2     C103   \n",
       "C103_T_1_1_0_c1_v2_id-AAACCTGGTAGCCTAT  C103_T_1_1_0_c1_v2     C103   \n",
       "C103_T_1_1_0_c1_v2_id-AAACCTGGTTGTCGCG  C103_T_1_1_0_c1_v2     C103   \n",
       "C103_T_1_1_0_c1_v2_id-AAACCTGTCATGTGGT  C103_T_1_1_0_c1_v2     C103   \n",
       "C103_T_1_1_0_c1_v2_id-AAACCTGTCCTTGGTC  C103_T_1_1_0_c1_v2     C103   \n",
       "...                                                    ...      ...   \n",
       "C173_T_0_0_0_c1_v3_id-TTTGGAGTCATCGGGC  C173_T_0_0_0_c1_v3     C173   \n",
       "C173_T_0_0_0_c1_v3_id-TTTGGAGTCTAGTGTG  C173_T_0_0_0_c1_v3     C173   \n",
       "C173_T_0_0_0_c1_v3_id-TTTGTTGCAGCAATTC  C173_T_0_0_0_c1_v3     C173   \n",
       "C173_T_0_0_0_c1_v3_id-TTTGTTGGTTCTGAGT  C173_T_0_0_0_c1_v3     C173   \n",
       "C173_T_0_0_0_c1_v3_id-TTTGTTGTCGTTCCCA  C173_T_0_0_0_c1_v3     C173   \n",
       "\n",
       "                                       SpecimenType TissueSource  \\\n",
       "cell_id                                                            \n",
       "C103_T_1_1_0_c1_v2_id-AAACCTGCATGCTAGT            T          MGH   \n",
       "C103_T_1_1_0_c1_v2_id-AAACCTGGTAGCCTAT            T          MGH   \n",
       "C103_T_1_1_0_c1_v2_id-AAACCTGGTTGTCGCG            T          MGH   \n",
       "C103_T_1_1_0_c1_v2_id-AAACCTGTCATGTGGT            T          MGH   \n",
       "C103_T_1_1_0_c1_v2_id-AAACCTGTCCTTGGTC            T          MGH   \n",
       "...                                             ...          ...   \n",
       "C173_T_0_0_0_c1_v3_id-TTTGGAGTCATCGGGC            T         DFCI   \n",
       "C173_T_0_0_0_c1_v3_id-TTTGGAGTCTAGTGTG            T         DFCI   \n",
       "C173_T_0_0_0_c1_v3_id-TTTGTTGCAGCAATTC            T         DFCI   \n",
       "C173_T_0_0_0_c1_v3_id-TTTGTTGGTTCTGAGT            T         DFCI   \n",
       "C173_T_0_0_0_c1_v3_id-TTTGTTGTCGTTCCCA            T         DFCI   \n",
       "\n",
       "                                       ProcessingMethod PatientTypeID  Gender  \\\n",
       "cell_id                                                                         \n",
       "C103_T_1_1_0_c1_v2_id-AAACCTGCATGCTAGT         unsorted        C103_T    male   \n",
       "C103_T_1_1_0_c1_v2_id-AAACCTGGTAGCCTAT         unsorted        C103_T    male   \n",
       "C103_T_1_1_0_c1_v2_id-AAACCTGGTTGTCGCG         unsorted        C103_T    male   \n",
       "C103_T_1_1_0_c1_v2_id-AAACCTGTCATGTGGT         unsorted        C103_T    male   \n",
       "C103_T_1_1_0_c1_v2_id-AAACCTGTCCTTGGTC         unsorted        C103_T    male   \n",
       "...                                                 ...           ...     ...   \n",
       "C173_T_0_0_0_c1_v3_id-TTTGGAGTCATCGGGC         unsorted        C173_T  female   \n",
       "C173_T_0_0_0_c1_v3_id-TTTGGAGTCTAGTGTG         unsorted        C173_T  female   \n",
       "C173_T_0_0_0_c1_v3_id-TTTGTTGCAGCAATTC         unsorted        C173_T  female   \n",
       "C173_T_0_0_0_c1_v3_id-TTTGTTGGTTCTGAGT         unsorted        C173_T  female   \n",
       "C173_T_0_0_0_c1_v3_id-TTTGTTGTCGTTCCCA         unsorted        C173_T  female   \n",
       "\n",
       "                                        Site Grade TumorStage  ...  \\\n",
       "cell_id                                                        ...   \n",
       "C103_T_1_1_0_c1_v2_id-AAACCTGCATGCTAGT  left   low      notT4  ...   \n",
       "C103_T_1_1_0_c1_v2_id-AAACCTGGTAGCCTAT  left   low      notT4  ...   \n",
       "C103_T_1_1_0_c1_v2_id-AAACCTGGTTGTCGCG  left   low      notT4  ...   \n",
       "C103_T_1_1_0_c1_v2_id-AAACCTGTCATGTGGT  left   low      notT4  ...   \n",
       "C103_T_1_1_0_c1_v2_id-AAACCTGTCCTTGGTC  left   low      notT4  ...   \n",
       "...                                      ...   ...        ...  ...   \n",
       "C173_T_0_0_0_c1_v3_id-TTTGGAGTCATCGGGC  left  high         T4  ...   \n",
       "C173_T_0_0_0_c1_v3_id-TTTGGAGTCTAGTGTG  left  high         T4  ...   \n",
       "C173_T_0_0_0_c1_v3_id-TTTGTTGCAGCAATTC  left  high         T4  ...   \n",
       "C173_T_0_0_0_c1_v3_id-TTTGTTGGTTCTGAGT  left  high         T4  ...   \n",
       "C173_T_0_0_0_c1_v3_id-TTTGTTGTCGTTCCCA  left  high         T4  ...   \n",
       "\n",
       "                                       ClusterMidway   Cell Type  \\\n",
       "cell_id                                                            \n",
       "C103_T_1_1_0_c1_v2_id-AAACCTGCATGCTAGT          EpiT  Epithelial   \n",
       "C103_T_1_1_0_c1_v2_id-AAACCTGGTAGCCTAT          EpiT  Epithelial   \n",
       "C103_T_1_1_0_c1_v2_id-AAACCTGGTTGTCGCG          EpiT  Epithelial   \n",
       "C103_T_1_1_0_c1_v2_id-AAACCTGTCATGTGGT          EpiT  Epithelial   \n",
       "C103_T_1_1_0_c1_v2_id-AAACCTGTCCTTGGTC          EpiT  Epithelial   \n",
       "...                                              ...         ...   \n",
       "C173_T_0_0_0_c1_v3_id-TTTGGAGTCATCGGGC         Macro     Myeloid   \n",
       "C173_T_0_0_0_c1_v3_id-TTTGGAGTCTAGTGTG          EpiT  Epithelial   \n",
       "C173_T_0_0_0_c1_v3_id-TTTGTTGCAGCAATTC          EpiT  Epithelial   \n",
       "C173_T_0_0_0_c1_v3_id-TTTGTTGGTTCTGAGT          TCD4     T cells   \n",
       "C173_T_0_0_0_c1_v3_id-TTTGTTGTCGTTCCCA          EpiT  Epithelial   \n",
       "\n",
       "                                                Study_name n_genes_by_counts  \\\n",
       "cell_id                                                                        \n",
       "C103_T_1_1_0_c1_v2_id-AAACCTGCATGCTAGT  Colon_cancer_atlas              3098   \n",
       "C103_T_1_1_0_c1_v2_id-AAACCTGGTAGCCTAT  Colon_cancer_atlas               507   \n",
       "C103_T_1_1_0_c1_v2_id-AAACCTGGTTGTCGCG  Colon_cancer_atlas              6688   \n",
       "C103_T_1_1_0_c1_v2_id-AAACCTGTCATGTGGT  Colon_cancer_atlas              3515   \n",
       "C103_T_1_1_0_c1_v2_id-AAACCTGTCCTTGGTC  Colon_cancer_atlas              6316   \n",
       "...                                                    ...               ...   \n",
       "C173_T_0_0_0_c1_v3_id-TTTGGAGTCATCGGGC  Colon_cancer_atlas              3172   \n",
       "C173_T_0_0_0_c1_v3_id-TTTGGAGTCTAGTGTG  Colon_cancer_atlas              4377   \n",
       "C173_T_0_0_0_c1_v3_id-TTTGTTGCAGCAATTC  Colon_cancer_atlas               869   \n",
       "C173_T_0_0_0_c1_v3_id-TTTGTTGGTTCTGAGT  Colon_cancer_atlas               641   \n",
       "C173_T_0_0_0_c1_v3_id-TTTGTTGTCGTTCCCA  Colon_cancer_atlas              5308   \n",
       "\n",
       "                                       log1p_n_genes_by_counts total_counts  \\\n",
       "cell_id                                                                       \n",
       "C103_T_1_1_0_c1_v2_id-AAACCTGCATGCTAGT                8.038835  4603.801270   \n",
       "C103_T_1_1_0_c1_v2_id-AAACCTGGTAGCCTAT                6.230481  2108.768555   \n",
       "C103_T_1_1_0_c1_v2_id-AAACCTGGTTGTCGCG                8.808220  5887.731934   \n",
       "C103_T_1_1_0_c1_v2_id-AAACCTGTCATGTGGT                8.165079  4969.738281   \n",
       "C103_T_1_1_0_c1_v2_id-AAACCTGTCCTTGGTC                8.751000  5981.045410   \n",
       "...                                                        ...          ...   \n",
       "C173_T_0_0_0_c1_v3_id-TTTGGAGTCATCGGGC                8.062433  5487.610352   \n",
       "C173_T_0_0_0_c1_v3_id-TTTGGAGTCTAGTGTG                8.384347  5541.674316   \n",
       "C173_T_0_0_0_c1_v3_id-TTTGTTGCAGCAATTC                6.768493  2635.017578   \n",
       "C173_T_0_0_0_c1_v3_id-TTTGTTGGTTCTGAGT                6.464588  2512.186279   \n",
       "C173_T_0_0_0_c1_v3_id-TTTGTTGTCGTTCCCA                8.577159  4336.700684   \n",
       "\n",
       "                                       total_counts_mito pct_counts_mito  \\\n",
       "cell_id                                                                    \n",
       "C103_T_1_1_0_c1_v2_id-AAACCTGCATGCTAGT         68.937042        1.497394   \n",
       "C103_T_1_1_0_c1_v2_id-AAACCTGGTAGCCTAT         94.047325        4.459822   \n",
       "C103_T_1_1_0_c1_v2_id-AAACCTGGTTGTCGCG         76.699623        1.302702   \n",
       "C103_T_1_1_0_c1_v2_id-AAACCTGTCATGTGGT         75.586861        1.520943   \n",
       "C103_T_1_1_0_c1_v2_id-AAACCTGTCCTTGGTC         78.871780        1.318696   \n",
       "...                                                  ...             ...   \n",
       "C173_T_0_0_0_c1_v3_id-TTTGGAGTCATCGGGC         80.156494        1.460681   \n",
       "C173_T_0_0_0_c1_v3_id-TTTGGAGTCTAGTGTG         94.976021        1.713851   \n",
       "C173_T_0_0_0_c1_v3_id-TTTGTTGCAGCAATTC        103.340820        3.921827   \n",
       "C173_T_0_0_0_c1_v3_id-TTTGTTGGTTCTGAGT         78.763542        3.135259   \n",
       "C173_T_0_0_0_c1_v3_id-TTTGTTGTCGTTCCCA        102.541946        2.364515   \n",
       "\n",
       "                                       total_counts_ribo pct_counts_ribo  \n",
       "cell_id                                                                   \n",
       "C103_T_1_1_0_c1_v2_id-AAACCTGCATGCTAGT        445.594940        9.678848  \n",
       "C103_T_1_1_0_c1_v2_id-AAACCTGGTAGCCTAT        371.848663       17.633450  \n",
       "C103_T_1_1_0_c1_v2_id-AAACCTGGTTGTCGCG        400.767029        6.806816  \n",
       "C103_T_1_1_0_c1_v2_id-AAACCTGTCATGTGGT        429.411682        8.640530  \n",
       "C103_T_1_1_0_c1_v2_id-AAACCTGTCCTTGGTC        373.194397        6.239618  \n",
       "...                                                  ...             ...  \n",
       "C173_T_0_0_0_c1_v3_id-TTTGGAGTCATCGGGC        246.709534        4.495755  \n",
       "C173_T_0_0_0_c1_v3_id-TTTGGAGTCTAGTGTG        358.535309        6.469801  \n",
       "C173_T_0_0_0_c1_v3_id-TTTGTTGCAGCAATTC         67.731804        2.570450  \n",
       "C173_T_0_0_0_c1_v3_id-TTTGTTGGTTCTGAGT        368.961121       14.686854  \n",
       "C173_T_0_0_0_c1_v3_id-TTTGTTGTCGTTCCCA        384.193542        8.859120  \n",
       "\n",
       "[258359 rows x 27 columns]"
      ]
     },
     "execution_count": 71,
     "metadata": {},
     "output_type": "execute_result"
    }
   ],
   "source": [
    "Cancer_adata.obs"
   ]
  },
  {
   "cell_type": "code",
   "execution_count": 70,
   "metadata": {},
   "outputs": [],
   "source": [
    "# Delete unnecessary columns\n",
    "del Cancer_adata.obs['log1p_total_counts'], Cancer_adata.obs['pct_counts_in_top_50_genes'], Cancer_adata.obs['log1p_n_genes_by_counts']\n",
    "del Cancer_adata.obs['pct_counts_in_top_100_genes'], Cancer_adata.obs['pct_counts_in_top_200_genes'], Cancer_adata.obs['pct_counts_in_top_500_genes']"
   ]
  },
  {
   "cell_type": "code",
   "execution_count": 74,
   "metadata": {},
   "outputs": [],
   "source": [
    "# Write objects\n",
    "Cancer_adata.write_h5ad('/Users/anna.maguza/Desktop/Data/Processed_datasets/Cancer_dataset_integration/input_files/all_cells/Colon_cancer_atlas_anndata.h5ad')\n",
    "healthy_all_counts.write_h5ad('/Users/anna.maguza/Desktop/Data/Processed_datasets/Cancer_dataset_integration/input_files/all_cells/Healthy_integrated_data_all_genes.h5ad')"
   ]
  },
  {
   "attachments": {},
   "cell_type": "markdown",
   "metadata": {},
   "source": [
    "# Prepare Epithelial cells"
   ]
  },
  {
   "attachments": {},
   "cell_type": "markdown",
   "metadata": {},
   "source": [
    "### Counts Normalization"
   ]
  },
  {
   "cell_type": "code",
   "execution_count": 5,
   "metadata": {},
   "outputs": [
    {
     "name": "stderr",
     "output_type": "stream",
     "text": [
      "/Users/anna.maguza/miniconda3/envs/scanpy_env/lib/python3.9/site-packages/anndata/_core/anndata.py:121: ImplicitModificationWarning: Transforming to str index.\n",
      "  warnings.warn(\"Transforming to str index.\", ImplicitModificationWarning)\n",
      "/Users/anna.maguza/miniconda3/envs/scanpy_env/lib/python3.9/site-packages/anndata/_core/anndata.py:1830: UserWarning: Variable names are not unique. To make them unique, call `.var_names_make_unique`.\n",
      "  utils.warn_names_duplicates(\"var\")\n"
     ]
    }
   ],
   "source": [
    "# Upload objects\n",
    "input_cancer = '/Users/anna.maguza/Desktop/Data/Processed_datasets/Cancer_dataset_integration/input_files/all_cells/Colon_cancer_atlas_anndata.h5ad'\n",
    "Cancer_adata = sc.read_h5ad(input_cancer)\n",
    "\n",
    "input_healthy = '/Users/anna.maguza/Desktop/Data/Processed_datasets/Cancer_dataset_integration/input_files/all_cells/Healthy_integrated_data_all_genes.h5ad'\n",
    "Healthy_adata = sc.read_h5ad(input_healthy)"
   ]
  },
  {
   "cell_type": "code",
   "execution_count": 7,
   "metadata": {},
   "outputs": [],
   "source": [
    "# Subset only epitheleal cells\n",
    "Cancer_adata = Cancer_adata[Cancer_adata.obs['Cell Type'] == 'Epithelial', :]\n",
    "healthy_all_counts = healthy_all_counts[healthy_all_counts.obs['Cell Type'] == 'Epithelial', :]\n"
   ]
  },
  {
   "cell_type": "code",
   "execution_count": 8,
   "metadata": {},
   "outputs": [
    {
     "name": "stderr",
     "output_type": "stream",
     "text": [
      "/Users/anna.maguza/miniconda3/envs/scanpy_env/lib/python3.9/site-packages/scanpy/preprocessing/_simple.py:373: UserWarning: Received a view of an AnnData. Making a copy.\n",
      "  view_to_actual(adata)\n"
     ]
    }
   ],
   "source": [
    "sc.pp.log1p(Cancer_adata)\n",
    "sc.pp.log1p(healthy_all_counts)"
   ]
  },
  {
   "cell_type": "code",
   "execution_count": 10,
   "metadata": {},
   "outputs": [],
   "source": [
    "# Save anndata objects\n",
    "Cancer_adata.write('/Users/anna.maguza/Desktop/Data/Processed_datasets/Cancer_dataset_integration/input_files/Epithelial_cells/Epithelial_Colon_cancer_atlas_normalized.h5ad')\n",
    "healthy_all_counts.write('/Users/anna.maguza/Desktop/Data/Processed_datasets/Cancer_dataset_integration/input_files/Epithelial_cells/Epithelial_Healthy_anndata_normalized.h5ad')"
   ]
  },
  {
   "attachments": {},
   "cell_type": "markdown",
   "metadata": {},
   "source": [
    "### Extract Highly Variable Genes"
   ]
  },
  {
   "cell_type": "code",
   "execution_count": 2,
   "metadata": {},
   "outputs": [],
   "source": [
    "input = '/Users/anna.maguza/Desktop/Data/Processed_datasets/Cancer_dataset_integration/input_files/Epithelial_cells/Epithelial_Healthy_anndata_normalized.h5ad'\n",
    "healthy_adata = sc.read(input)"
   ]
  },
  {
   "cell_type": "code",
   "execution_count": 4,
   "metadata": {},
   "outputs": [],
   "source": [
    "input = '/Users/anna.maguza/Desktop/Data/Processed_datasets/Cancer_dataset_integration/input_files/Epithelial_cells/Epithelial_Healthy_anndata_normalized.h5ad'\n",
    "cancer_adata = sc.read(input)"
   ]
  },
  {
   "cell_type": "code",
   "execution_count": 3,
   "metadata": {},
   "outputs": [
    {
     "name": "stderr",
     "output_type": "stream",
     "text": [
      "/Users/anna.maguza/miniconda3/envs/scanpy_env/lib/python3.9/site-packages/scanpy/preprocessing/_highly_variable_genes.py:62: UserWarning: `flavor='seurat_v3'` expects raw count data, but non-integers were found.\n",
      "  warnings.warn(\n"
     ]
    }
   ],
   "source": [
    "healthy_adata.layers['raw_counts'] = healthy_adata.X.copy()\n",
    "\n",
    "### HVGs selection\n",
    "# Calculate HVGs for cancer dataset\n",
    "sc.pp.highly_variable_genes(\n",
    "    healthy_adata,\n",
    "    flavor = \"seurat_v3\",\n",
    "    n_top_genes = 5000,\n",
    "    layer = \"raw_counts\",\n",
    "    batch_key = \"Library_Preparation_Protocol\",\n",
    "    subset = True,\n",
    "    span = 1\n",
    ")"
   ]
  },
  {
   "cell_type": "code",
   "execution_count": 5,
   "metadata": {},
   "outputs": [],
   "source": [
    "cancer_adata.layers['raw_counts'] = cancer_adata.X.copy()"
   ]
  },
  {
   "cell_type": "code",
   "execution_count": 6,
   "metadata": {},
   "outputs": [],
   "source": [
    "# Extract same HVGs in the cancer dataset as in the healthy dataset\n",
    "\n",
    "#Make indexes as string\n",
    "cancer_adata.var.index = cancer_adata.var.index.astype(str)\n",
    "\n",
    "# Ensure indexes are unique\n",
    "cancer_adata.var_names_make_unique()\n",
    "\n",
    "# Identify common genes\n",
    "common_genes = list(set(healthy_adata.var_names) & set(cancer_adata.var_names))\n",
    "\n",
    "# Filter genes\n",
    "adata_healthy = healthy_adata[:, common_genes]\n",
    "cancer_adata = cancer_adata[:, common_genes]\n",
    "\n",
    "#Ensure the same order of the genes\n",
    "cancer_adata = cancer_adata[:, adata_healthy.var_names]"
   ]
  },
  {
   "cell_type": "code",
   "execution_count": 9,
   "metadata": {},
   "outputs": [],
   "source": [
    "# Save anndata objects\n",
    "cancer_adata.write('/Users/anna.maguza/Desktop/Data/Processed_datasets/Cancer_dataset_integration/input_files/Epithelial_cells/Epithelial_Colon_cancer_atlas_normalized_5K.h5ad')\n",
    "adata_healthy.write('/Users/anna.maguza/Desktop/Data/Processed_datasets/Cancer_dataset_integration/input_files/Epithelial_cells/Epithelial_Healthy_anndata_normalized_5K.h5ad')"
   ]
  }
 ],
 "metadata": {
  "kernelspec": {
   "display_name": "scanpy_env",
   "language": "python",
   "name": "python3"
  },
  "language_info": {
   "codemirror_mode": {
    "name": "ipython",
    "version": 3
   },
   "file_extension": ".py",
   "mimetype": "text/x-python",
   "name": "python",
   "nbconvert_exporter": "python",
   "pygments_lexer": "ipython3",
   "version": "3.9.16"
  },
  "orig_nbformat": 4
 },
 "nbformat": 4,
 "nbformat_minor": 2
}
