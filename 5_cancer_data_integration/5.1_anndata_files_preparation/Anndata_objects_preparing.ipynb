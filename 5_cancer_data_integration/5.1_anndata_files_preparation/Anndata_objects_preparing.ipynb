{
 "cells": [
  {
   "attachments": {},
   "cell_type": "markdown",
   "metadata": {},
   "source": [
    "## Notebook for the Integrated Healthy dataset and Colon Cancer Atlas\n",
    "### Developed by: Anna Maguza\n",
    "\n",
    "### Institute of Computational Biology - Computational Health Centre - Hemlholtz Munich\n",
    "\n",
    "### 15 May 2023"
   ]
  },
  {
   "cell_type": "markdown",
   "metadata": {},
   "source": [
    "#### Load required packages"
   ]
  },
  {
   "cell_type": "code",
   "execution_count": 2,
   "metadata": {},
   "outputs": [],
   "source": [
    "import numpy as np\n",
    "import pandas as pd\n",
    "import scanpy as sc\n",
    "import anndata as an\n",
    "import matplotlib.pyplot as plt\n",
    "from matplotlib.pyplot import figure\n",
    "import scipy as sci"
   ]
  },
  {
   "cell_type": "markdown",
   "metadata": {},
   "source": [
    "#### Setup Cells"
   ]
  },
  {
   "cell_type": "code",
   "execution_count": 3,
   "metadata": {},
   "outputs": [],
   "source": [
    "%matplotlib inline"
   ]
  },
  {
   "cell_type": "code",
   "execution_count": 4,
   "metadata": {},
   "outputs": [
    {
     "name": "stderr",
     "output_type": "stream",
     "text": [
      "/Users/anna.maguza/miniconda3/envs/scanpy_env/lib/python3.9/site-packages/tqdm/auto.py:21: TqdmWarning: IProgress not found. Please update jupyter and ipywidgets. See https://ipywidgets.readthedocs.io/en/stable/user_install.html\n",
      "  from .autonotebook import tqdm as notebook_tqdm\n"
     ]
    },
    {
     "name": "stdout",
     "output_type": "stream",
     "text": [
      "scanpy==1.9.3 anndata==0.8.0 umap==0.5.3 numpy==1.23.5 scipy==1.9.1 pandas==1.3.5 scikit-learn==1.2.2 statsmodels==0.13.5 pynndescent==0.5.8\n"
     ]
    }
   ],
   "source": [
    "sc.settings.verbosity = 3             # verbosity: errors (0), warnings (1), info (2), hints (3)\n",
    "sc.logging.print_header()\n",
    "sc.settings.set_figure_params(dpi=80, facecolor='white')"
   ]
  },
  {
   "cell_type": "code",
   "execution_count": 5,
   "metadata": {},
   "outputs": [],
   "source": [
    "def X_is_raw(adata):\n",
    "    return np.array_equal(adata.X.sum(axis=0).astype(int), adata.X.sum(axis=0))"
   ]
  },
  {
   "cell_type": "markdown",
   "metadata": {},
   "source": [
    "#### Upload Data"
   ]
  },
  {
   "cell_type": "code",
   "execution_count": 6,
   "metadata": {},
   "outputs": [],
   "source": [
    "input_path_healthy = '/Users/anna.maguza/Desktop/Data/Processed_datasets/Datasets Integration/Integrated datasets/All_cells_5000_HVGs_scvi_scanvi.h5ad'\n",
    "Healthy_adata = sc.read_h5ad(input_path_healthy)"
   ]
  },
  {
   "cell_type": "code",
   "execution_count": 7,
   "metadata": {},
   "outputs": [
    {
     "data": {
      "text/plain": [
       "True"
      ]
     },
     "execution_count": 7,
     "metadata": {},
     "output_type": "execute_result"
    }
   ],
   "source": [
    "X_is_raw(Healthy_adata)"
   ]
  },
  {
   "cell_type": "code",
   "execution_count": 8,
   "metadata": {},
   "outputs": [],
   "source": [
    "input_path_cancer = '/Users/anna.maguza/Desktop/Data/Gut_project/Human_Colon_Cancer_Atlas/anndata/Colon_cancer_atlas_anndata.h5ad'\n",
    "Cancer_adata = sc.read_h5ad(input_path_cancer)"
   ]
  },
  {
   "cell_type": "code",
   "execution_count": 9,
   "metadata": {},
   "outputs": [
    {
     "data": {
      "text/plain": [
       "False"
      ]
     },
     "execution_count": 9,
     "metadata": {},
     "output_type": "execute_result"
    }
   ],
   "source": [
    "X_is_raw(Cancer_adata)"
   ]
  },
  {
   "cell_type": "code",
   "execution_count": 10,
   "metadata": {},
   "outputs": [],
   "source": [
    "# Upload unprocessed dataset (before HVGs extraction)\n",
    "input_path_healthy_all_counts = '/Users/anna.maguza/Desktop/Data/Processed_datasets/Healthy_reference/GCA_Kong_Smillie_Wang_unprocessed/GCA_Kong_Wang_Smillie_raw.h5ad'\n",
    "healthy_all_counts = sc.read_h5ad(input_path_healthy_all_counts)"
   ]
  },
  {
   "cell_type": "code",
   "execution_count": 11,
   "metadata": {},
   "outputs": [
    {
     "data": {
      "text/plain": [
       "True"
      ]
     },
     "execution_count": 11,
     "metadata": {},
     "output_type": "execute_result"
    }
   ],
   "source": [
    "X_is_raw(healthy_all_counts)"
   ]
  },
  {
   "attachments": {},
   "cell_type": "markdown",
   "metadata": {},
   "source": [
    "### Preprocess X in Healthy data"
   ]
  },
  {
   "cell_type": "code",
   "execution_count": 12,
   "metadata": {},
   "outputs": [
    {
     "data": {
      "text/plain": [
       "<557099x23616 sparse matrix of type '<class 'numpy.float32'>'\n",
       "\twith 794816608 stored elements in Compressed Sparse Row format>"
      ]
     },
     "execution_count": 12,
     "metadata": {},
     "output_type": "execute_result"
    }
   ],
   "source": [
    "healthy_all_counts.X"
   ]
  },
  {
   "cell_type": "code",
   "execution_count": 13,
   "metadata": {},
   "outputs": [
    {
     "data": {
      "text/plain": [
       "AnnData object with n_obs × n_vars = 557099 × 5000\n",
       "    obs: 'Sample_ID', 'Cell Type', 'Study_name', 'Donor_ID', 'Diagnosis', 'Age', 'Region code', 'Fraction', 'Gender', 'Library_Preparation_Protocol', 'batch', 'Age_group', 'Location', 'Cell States', 'Cell States GCA', 'Chem', 'Layer', 'Cell States Kong', 'dataset', 'n_genes_by_counts', 'total_counts', 'total_counts_mito', 'pct_counts_mito', 'total_counts_ribo', 'pct_counts_ribo', 'Cell_ID', '_scvi_batch', '_scvi_labels'\n",
       "    var: 'gene_id-query', 'gene_name-query', 'n_cells_by_counts', 'mean_counts', 'log1p_mean_counts', 'pct_dropout_by_counts', 'total_counts', 'log1p_total_counts', 'mito', 'ribo', 'highly_variable', 'highly_variable_rank', 'means', 'variances', 'variances_norm', 'highly_variable_nbatches'\n",
       "    uns: 'Age_group_colors', 'Cell Type_colors', 'Diagnosis_colors', 'Donor_ID_colors', 'Gender_colors', 'Library_Preparation_Protocol_colors', 'Location_colors', 'Study_name_colors', '_scvi_manager_uuid', '_scvi_uuid', 'hvg', 'neighbors', 'umap'\n",
       "    obsm: 'X_mde', 'X_mde_scanvi', 'X_scANVI', 'X_scVI', 'X_umap', '_scvi_extra_categorical_covs', '_scvi_extra_continuous_covs'\n",
       "    layers: 'counts'\n",
       "    obsp: 'connectivities', 'distances'"
      ]
     },
     "execution_count": 13,
     "metadata": {},
     "output_type": "execute_result"
    }
   ],
   "source": [
    "Healthy_adata"
   ]
  },
  {
   "cell_type": "code",
   "execution_count": 14,
   "metadata": {},
   "outputs": [
    {
     "data": {
      "text/plain": [
       "AnnData object with n_obs × n_vars = 557099 × 23616\n",
       "    obs: 'Cell Type', 'batch', 'Sample_ID', 'n_genes', 'n_counts', 'Chem', 'Location', 'Donor_ID', 'Layer', 'Cell States', 'Gender', 'library_preparation_protocol__ontology_label', 'Diagnosis', 'n_genes_by_counts', 'total_counts_mito', 'percent_mito', 'total_counts_ribo', 'percent_ribo', 'doublet_scores', 'predicted_doublets', 'Study_name', 'Age_group', 'Cell States Kong', 'UniqueCell_ID', 'Age', 'Region code', 'Fraction', 'Cell States GCA'\n",
       "    var: 'gene_id-Kong', 'gene_name-Kong', 'n_cells_by_counts-Kong', 'mean_counts-Kong', 'log1p_mean_counts-Kong', 'pct_dropout_by_counts-Kong', 'total_counts-Kong', 'log1p_total_counts-Kong', 'mito-Kong', 'ribo-Kong', 'highly_variable-Kong', 'highly_variable_rank-Kong', 'means-Kong', 'variances-Kong', 'variances_norm-Kong'"
      ]
     },
     "execution_count": 14,
     "metadata": {},
     "output_type": "execute_result"
    }
   ],
   "source": [
    "healthy_all_counts"
   ]
  },
  {
   "cell_type": "code",
   "execution_count": 15,
   "metadata": {},
   "outputs": [],
   "source": [
    "# Transfer var and X from unprocessed dataset to processed one\n",
    "healthy_all_counts.obs = Healthy_adata.obs\n",
    "healthy_all_counts.obsm = Healthy_adata.obsm\n",
    "healthy_all_counts.uns = Healthy_adata.uns\n",
    "healthy_all_counts.obsp = Healthy_adata.obsp"
   ]
  },
  {
   "cell_type": "code",
   "execution_count": 16,
   "metadata": {},
   "outputs": [],
   "source": [
    "del Healthy_adata"
   ]
  },
  {
   "cell_type": "markdown",
   "metadata": {},
   "source": [
    "### Preprocess obs in Cancer data"
   ]
  },
  {
   "cell_type": "code",
   "execution_count": 17,
   "metadata": {},
   "outputs": [
    {
     "data": {
      "text/plain": [
       "['biosample_id',\n",
       " 'donor_id',\n",
       " 'SpecimenType',\n",
       " 'TissueSource',\n",
       " 'ProcessingMethod',\n",
       " 'PatientTypeID',\n",
       " 'sex',\n",
       " 'Site',\n",
       " 'Grade',\n",
       " 'TumorStage',\n",
       " 'LymphNodeStatus',\n",
       " 'MMRStatusTumor',\n",
       " 'MMRMLH1Tumor',\n",
       " 'qc_geneCount',\n",
       " 'qc_logMappedReads',\n",
       " 'qc_meanReadsPerUmi',\n",
       " 'qc_totalReads',\n",
       " 'qc_logUmiCount',\n",
       " 'qc_bcSwapFraction',\n",
       " 'qc_geneSatFraction',\n",
       " 'qc_seqDupEst',\n",
       " 'qc_umiSatFraction',\n",
       " 'qc_emptyDropPval',\n",
       " 'qc_mitoFraction',\n",
       " 'species',\n",
       " 'species__ontology_label',\n",
       " 'disease',\n",
       " 'disease__ontology_label',\n",
       " 'organ',\n",
       " 'organ__ontology_label',\n",
       " 'library_preparation_protocol',\n",
       " 'library_preparation_protocol__ontology_label',\n",
       " 'ClusterFull',\n",
       " 'ClusterMidway',\n",
       " 'ClusterTop']"
      ]
     },
     "execution_count": 17,
     "metadata": {},
     "output_type": "execute_result"
    }
   ],
   "source": [
    "Cancer_adata.obs_keys()"
   ]
  },
  {
   "cell_type": "code",
   "execution_count": 18,
   "metadata": {},
   "outputs": [
    {
     "data": {
      "text/plain": [
       "colon adenocarcinoma    258359\n",
       "normal                  112864\n",
       "Name: disease__ontology_label, dtype: int64"
      ]
     },
     "execution_count": 18,
     "metadata": {},
     "output_type": "execute_result"
    }
   ],
   "source": [
    "Cancer_adata.obs['disease__ontology_label'].value_counts()"
   ]
  },
  {
   "cell_type": "code",
   "execution_count": 19,
   "metadata": {},
   "outputs": [],
   "source": [
    "# Filter only cancer cells\n",
    "Cancer_adata = Cancer_adata[Cancer_adata.obs['disease__ontology_label'] == 'colon adenocarcinoma', :]"
   ]
  },
  {
   "cell_type": "code",
   "execution_count": 20,
   "metadata": {},
   "outputs": [
    {
     "data": {
      "text/plain": [
       "<bound method AnnData.obs_keys of View of AnnData object with n_obs × n_vars = 258359 × 43282\n",
       "    obs: 'biosample_id', 'donor_id', 'SpecimenType', 'TissueSource', 'ProcessingMethod', 'PatientTypeID', 'sex', 'Site', 'Grade', 'TumorStage', 'LymphNodeStatus', 'MMRStatusTumor', 'MMRMLH1Tumor', 'qc_geneCount', 'qc_logMappedReads', 'qc_meanReadsPerUmi', 'qc_totalReads', 'qc_logUmiCount', 'qc_bcSwapFraction', 'qc_geneSatFraction', 'qc_seqDupEst', 'qc_umiSatFraction', 'qc_emptyDropPval', 'qc_mitoFraction', 'species', 'species__ontology_label', 'disease', 'disease__ontology_label', 'organ', 'organ__ontology_label', 'library_preparation_protocol', 'library_preparation_protocol__ontology_label', 'ClusterFull', 'ClusterMidway', 'ClusterTop'\n",
       "    var: 'gene_name'>"
      ]
     },
     "execution_count": 20,
     "metadata": {},
     "output_type": "execute_result"
    }
   ],
   "source": [
    "Cancer_adata.obs_keys"
   ]
  },
  {
   "cell_type": "code",
   "execution_count": 21,
   "metadata": {},
   "outputs": [],
   "source": [
    "# Delete unnecessary columns\n",
    "del Cancer_adata.obs['disease'], Cancer_adata.obs['species'], Cancer_adata.obs['species__ontology_label'], Cancer_adata.obs['organ'], Cancer_adata.obs['library_preparation_protocol']\n",
    "del Cancer_adata.obs['qc_geneCount']\n",
    "del Cancer_adata.obs['qc_logMappedReads']\n",
    "del Cancer_adata.obs['qc_meanReadsPerUmi']\n",
    "del Cancer_adata.obs['qc_totalReads']\n",
    "del Cancer_adata.obs['qc_logUmiCount']\n",
    "del Cancer_adata.obs['qc_bcSwapFraction']\n",
    "del Cancer_adata.obs['qc_geneSatFraction']\n",
    "del Cancer_adata.obs['qc_seqDupEst']\n",
    "del Cancer_adata.obs['qc_umiSatFraction']\n",
    "del Cancer_adata.obs['qc_emptyDropPval']\n",
    "del Cancer_adata.obs['qc_mitoFraction']"
   ]
  },
  {
   "cell_type": "code",
   "execution_count": 22,
   "metadata": {},
   "outputs": [
    {
     "name": "stderr",
     "output_type": "stream",
     "text": [
      "/var/folders/gb/wwnzrh015q9dns5cmsc3xcjsxglkqz/T/ipykernel_3991/1349155902.py:1: ImplicitModificationWarning: Trying to modify attribute `.obs` of view, initializing view as actual.\n",
      "  Cancer_adata.obs['Study_name'] = 'Colon_cancer_atlas'\n"
     ]
    }
   ],
   "source": [
    "Cancer_adata.obs['Study_name'] = 'Colon_cancer_atlas'"
   ]
  },
  {
   "cell_type": "code",
   "execution_count": 23,
   "metadata": {},
   "outputs": [],
   "source": [
    "# Rename columns in Cancer_adata as in Healthy_adata\n",
    "Cancer_adata.obs.rename(columns={'biosample_id': 'Sample_ID',\n",
    "                                  'donor_id': 'Donor_ID',\n",
    "                                  'disease__ontology_label': 'Diagnosis',\n",
    "                                  'library_preparation_protocol__ontology_label': 'Library_Preparation_Protocol',\n",
    "                                  'sex': 'Gender',\n",
    "                                  'organ': 'Location',\n",
    "                                  'ClusterTop': 'Cell Type'}, inplace=True)"
   ]
  },
  {
   "cell_type": "code",
   "execution_count": 24,
   "metadata": {},
   "outputs": [],
   "source": [
    "# Rename values in Cancer_adata.obs['ClusterTop'] as in Healthy_adata.obs['Cell Type']\n",
    "Cancer_adata.obs['Cell Type'].replace({'Epi': 'Epithelial', \n",
    "                                        'Plasma': 'Plasma cells',\n",
    "                                        'TNKILC': 'T cells',\n",
    "                                        'B': 'B cells',\n",
    "                                        'Strom': 'Mesenchymal',\n",
    "                                        'Mast': 'Myeloid'}, inplace=True)"
   ]
  },
  {
   "cell_type": "code",
   "execution_count": 25,
   "metadata": {},
   "outputs": [],
   "source": [
    "# Rename values in Cancer_adata.obs['ClusterTop'] as in Healthy_adata.obs['Cell Type']\n",
    "healthy_all_counts.obs['Cell Type'].replace({'Stem Cell': 'Epithelial'}, inplace=True)"
   ]
  },
  {
   "cell_type": "code",
   "execution_count": 26,
   "metadata": {},
   "outputs": [],
   "source": [
    "# Rename values in Cancer_adata.obs as in Healthy_adata.obs\n",
    "Cancer_adata.obs['Gender'].replace({'male': 'Male', \n",
    "                                        'female': 'Female'}, inplace=True)\n",
    "\n",
    "Cancer_adata.obs['Library_Preparation_Protocol'].replace({\"10X 3' v2 sequencing\": \"10x 3' v2\", \n",
    "                                        \"10X 3' v3 sequencing\": \"10x 3' v3\"}, inplace=True)"
   ]
  },
  {
   "cell_type": "code",
   "execution_count": 27,
   "metadata": {},
   "outputs": [],
   "source": [
    "# Rename values in Cancer_adata.obs['ClusterTop'] as in Healthy_adata.obs['Cell Type']\n",
    "healthy_all_counts.obs['Location'].replace({'SmallInt' : 'Small Intestine',\n",
    "                                            'Small Bowel' : 'Small Intestine',\n",
    "                                            'LargeInt': 'Large Intestine',\n",
    "                                            'Colon': 'Large Intestine',\n",
    "                                            'REC' : 'Rectum',\n",
    "                                            'Epi': 'Epithelium',\n",
    "                                            'LP': 'Lamina Propria'}, inplace=True)"
   ]
  },
  {
   "cell_type": "markdown",
   "metadata": {},
   "source": [
    "### Make the QC the same as in the Healthy dataset"
   ]
  },
  {
   "cell_type": "code",
   "execution_count": 28,
   "metadata": {},
   "outputs": [],
   "source": [
    "# Calculate quality metrics for cancer dataset\n",
    "sc.pp.calculate_qc_metrics(Cancer_adata, inplace=True)"
   ]
  },
  {
   "cell_type": "code",
   "execution_count": 29,
   "metadata": {},
   "outputs": [],
   "source": [
    "# Make gene_id as a first column in adata.var\n",
    "Cancer_adata.var.insert(0, 'gene_id', Cancer_adata.var.index)\n",
    "# Make a gene name as index \n",
    "Cancer_adata.var.index = Cancer_adata.var['gene_name']"
   ]
  },
  {
   "cell_type": "code",
   "execution_count": 30,
   "metadata": {},
   "outputs": [],
   "source": [
    "# Calculate mitochondrial fraction\n",
    "Cancer_adata.var['mito'] = Cancer_adata.var_names.str.startswith((\"MT-\"))  # annotate the group of ribosomal genes as 'ribo'\n",
    "sc.pp.calculate_qc_metrics(Cancer_adata, qc_vars=['mito'], percent_top=None, log1p=False, inplace=True)\n",
    "Cancer_adata.var['ribo'] = Cancer_adata.var_names.str.startswith((\"RPS\",\"RPL\"))  # annotate the group of ribosomal genes as 'ribo'\n",
    "sc.pp.calculate_qc_metrics(Cancer_adata, qc_vars=['ribo'], percent_top=None, log1p=False, inplace=True)"
   ]
  },
  {
   "cell_type": "code",
   "execution_count": 31,
   "metadata": {},
   "outputs": [
    {
     "data": {
      "text/html": [
       "<div>\n",
       "<style scoped>\n",
       "    .dataframe tbody tr th:only-of-type {\n",
       "        vertical-align: middle;\n",
       "    }\n",
       "\n",
       "    .dataframe tbody tr th {\n",
       "        vertical-align: top;\n",
       "    }\n",
       "\n",
       "    .dataframe thead th {\n",
       "        text-align: right;\n",
       "    }\n",
       "</style>\n",
       "<table border=\"1\" class=\"dataframe\">\n",
       "  <thead>\n",
       "    <tr style=\"text-align: right;\">\n",
       "      <th></th>\n",
       "      <th>Sample_ID</th>\n",
       "      <th>Donor_ID</th>\n",
       "      <th>SpecimenType</th>\n",
       "      <th>TissueSource</th>\n",
       "      <th>ProcessingMethod</th>\n",
       "      <th>PatientTypeID</th>\n",
       "      <th>Gender</th>\n",
       "      <th>Site</th>\n",
       "      <th>Grade</th>\n",
       "      <th>TumorStage</th>\n",
       "      <th>...</th>\n",
       "      <th>total_counts</th>\n",
       "      <th>log1p_total_counts</th>\n",
       "      <th>pct_counts_in_top_50_genes</th>\n",
       "      <th>pct_counts_in_top_100_genes</th>\n",
       "      <th>pct_counts_in_top_200_genes</th>\n",
       "      <th>pct_counts_in_top_500_genes</th>\n",
       "      <th>total_counts_mito</th>\n",
       "      <th>pct_counts_mito</th>\n",
       "      <th>total_counts_ribo</th>\n",
       "      <th>pct_counts_ribo</th>\n",
       "    </tr>\n",
       "    <tr>\n",
       "      <th>cell_id</th>\n",
       "      <th></th>\n",
       "      <th></th>\n",
       "      <th></th>\n",
       "      <th></th>\n",
       "      <th></th>\n",
       "      <th></th>\n",
       "      <th></th>\n",
       "      <th></th>\n",
       "      <th></th>\n",
       "      <th></th>\n",
       "      <th></th>\n",
       "      <th></th>\n",
       "      <th></th>\n",
       "      <th></th>\n",
       "      <th></th>\n",
       "      <th></th>\n",
       "      <th></th>\n",
       "      <th></th>\n",
       "      <th></th>\n",
       "      <th></th>\n",
       "      <th></th>\n",
       "    </tr>\n",
       "  </thead>\n",
       "  <tbody>\n",
       "    <tr>\n",
       "      <th>C103_T_1_1_0_c1_v2_id-AAACCTGCATGCTAGT</th>\n",
       "      <td>C103_T_1_1_0_c1_v2</td>\n",
       "      <td>C103</td>\n",
       "      <td>T</td>\n",
       "      <td>MGH</td>\n",
       "      <td>unsorted</td>\n",
       "      <td>C103_T</td>\n",
       "      <td>Male</td>\n",
       "      <td>left</td>\n",
       "      <td>low</td>\n",
       "      <td>notT4</td>\n",
       "      <td>...</td>\n",
       "      <td>4603.801270</td>\n",
       "      <td>8.434855</td>\n",
       "      <td>14.948589</td>\n",
       "      <td>21.813485</td>\n",
       "      <td>32.439550</td>\n",
       "      <td>48.347822</td>\n",
       "      <td>68.937042</td>\n",
       "      <td>1.497394</td>\n",
       "      <td>445.594940</td>\n",
       "      <td>9.678848</td>\n",
       "    </tr>\n",
       "    <tr>\n",
       "      <th>C103_T_1_1_0_c1_v2_id-AAACCTGGTAGCCTAT</th>\n",
       "      <td>C103_T_1_1_0_c1_v2</td>\n",
       "      <td>C103</td>\n",
       "      <td>T</td>\n",
       "      <td>MGH</td>\n",
       "      <td>unsorted</td>\n",
       "      <td>C103_T</td>\n",
       "      <td>Male</td>\n",
       "      <td>left</td>\n",
       "      <td>low</td>\n",
       "      <td>notT4</td>\n",
       "      <td>...</td>\n",
       "      <td>2108.768555</td>\n",
       "      <td>7.654334</td>\n",
       "      <td>26.236284</td>\n",
       "      <td>38.976408</td>\n",
       "      <td>57.089805</td>\n",
       "      <td>99.936938</td>\n",
       "      <td>94.047325</td>\n",
       "      <td>4.459822</td>\n",
       "      <td>371.848663</td>\n",
       "      <td>17.633450</td>\n",
       "    </tr>\n",
       "    <tr>\n",
       "      <th>C103_T_1_1_0_c1_v2_id-AAACCTGGTTGTCGCG</th>\n",
       "      <td>C103_T_1_1_0_c1_v2</td>\n",
       "      <td>C103</td>\n",
       "      <td>T</td>\n",
       "      <td>MGH</td>\n",
       "      <td>unsorted</td>\n",
       "      <td>C103_T</td>\n",
       "      <td>Male</td>\n",
       "      <td>left</td>\n",
       "      <td>low</td>\n",
       "      <td>notT4</td>\n",
       "      <td>...</td>\n",
       "      <td>5887.731934</td>\n",
       "      <td>8.680796</td>\n",
       "      <td>12.383847</td>\n",
       "      <td>17.824891</td>\n",
       "      <td>26.005590</td>\n",
       "      <td>39.622050</td>\n",
       "      <td>76.699623</td>\n",
       "      <td>1.302702</td>\n",
       "      <td>400.767029</td>\n",
       "      <td>6.806816</td>\n",
       "    </tr>\n",
       "    <tr>\n",
       "      <th>C103_T_1_1_0_c1_v2_id-AAACCTGTCATGTGGT</th>\n",
       "      <td>C103_T_1_1_0_c1_v2</td>\n",
       "      <td>C103</td>\n",
       "      <td>T</td>\n",
       "      <td>MGH</td>\n",
       "      <td>unsorted</td>\n",
       "      <td>C103_T</td>\n",
       "      <td>Male</td>\n",
       "      <td>left</td>\n",
       "      <td>low</td>\n",
       "      <td>notT4</td>\n",
       "      <td>...</td>\n",
       "      <td>4969.738281</td>\n",
       "      <td>8.511324</td>\n",
       "      <td>13.649248</td>\n",
       "      <td>20.067856</td>\n",
       "      <td>29.738970</td>\n",
       "      <td>45.172732</td>\n",
       "      <td>75.586861</td>\n",
       "      <td>1.520943</td>\n",
       "      <td>429.411682</td>\n",
       "      <td>8.640530</td>\n",
       "    </tr>\n",
       "    <tr>\n",
       "      <th>C103_T_1_1_0_c1_v2_id-AAACCTGTCCTTGGTC</th>\n",
       "      <td>C103_T_1_1_0_c1_v2</td>\n",
       "      <td>C103</td>\n",
       "      <td>T</td>\n",
       "      <td>MGH</td>\n",
       "      <td>unsorted</td>\n",
       "      <td>C103_T</td>\n",
       "      <td>Male</td>\n",
       "      <td>left</td>\n",
       "      <td>low</td>\n",
       "      <td>notT4</td>\n",
       "      <td>...</td>\n",
       "      <td>5981.045410</td>\n",
       "      <td>8.696518</td>\n",
       "      <td>11.909785</td>\n",
       "      <td>17.189286</td>\n",
       "      <td>25.343654</td>\n",
       "      <td>39.579511</td>\n",
       "      <td>78.871780</td>\n",
       "      <td>1.318696</td>\n",
       "      <td>373.194397</td>\n",
       "      <td>6.239618</td>\n",
       "    </tr>\n",
       "    <tr>\n",
       "      <th>...</th>\n",
       "      <td>...</td>\n",
       "      <td>...</td>\n",
       "      <td>...</td>\n",
       "      <td>...</td>\n",
       "      <td>...</td>\n",
       "      <td>...</td>\n",
       "      <td>...</td>\n",
       "      <td>...</td>\n",
       "      <td>...</td>\n",
       "      <td>...</td>\n",
       "      <td>...</td>\n",
       "      <td>...</td>\n",
       "      <td>...</td>\n",
       "      <td>...</td>\n",
       "      <td>...</td>\n",
       "      <td>...</td>\n",
       "      <td>...</td>\n",
       "      <td>...</td>\n",
       "      <td>...</td>\n",
       "      <td>...</td>\n",
       "      <td>...</td>\n",
       "    </tr>\n",
       "    <tr>\n",
       "      <th>C173_T_0_0_0_c1_v3_id-TTTGGAGTCATCGGGC</th>\n",
       "      <td>C173_T_0_0_0_c1_v3</td>\n",
       "      <td>C173</td>\n",
       "      <td>T</td>\n",
       "      <td>DFCI</td>\n",
       "      <td>unsorted</td>\n",
       "      <td>C173_T</td>\n",
       "      <td>Female</td>\n",
       "      <td>left</td>\n",
       "      <td>high</td>\n",
       "      <td>T4</td>\n",
       "      <td>...</td>\n",
       "      <td>5487.610352</td>\n",
       "      <td>8.610431</td>\n",
       "      <td>11.153262</td>\n",
       "      <td>16.671019</td>\n",
       "      <td>24.364308</td>\n",
       "      <td>39.993964</td>\n",
       "      <td>80.156494</td>\n",
       "      <td>1.460681</td>\n",
       "      <td>246.709534</td>\n",
       "      <td>4.495755</td>\n",
       "    </tr>\n",
       "    <tr>\n",
       "      <th>C173_T_0_0_0_c1_v3_id-TTTGGAGTCTAGTGTG</th>\n",
       "      <td>C173_T_0_0_0_c1_v3</td>\n",
       "      <td>C173</td>\n",
       "      <td>T</td>\n",
       "      <td>DFCI</td>\n",
       "      <td>unsorted</td>\n",
       "      <td>C173_T</td>\n",
       "      <td>Female</td>\n",
       "      <td>left</td>\n",
       "      <td>high</td>\n",
       "      <td>T4</td>\n",
       "      <td>...</td>\n",
       "      <td>5541.674316</td>\n",
       "      <td>8.620233</td>\n",
       "      <td>13.388294</td>\n",
       "      <td>18.677148</td>\n",
       "      <td>26.559739</td>\n",
       "      <td>40.406723</td>\n",
       "      <td>94.976021</td>\n",
       "      <td>1.713851</td>\n",
       "      <td>358.535309</td>\n",
       "      <td>6.469801</td>\n",
       "    </tr>\n",
       "    <tr>\n",
       "      <th>C173_T_0_0_0_c1_v3_id-TTTGTTGCAGCAATTC</th>\n",
       "      <td>C173_T_0_0_0_c1_v3</td>\n",
       "      <td>C173</td>\n",
       "      <td>T</td>\n",
       "      <td>DFCI</td>\n",
       "      <td>unsorted</td>\n",
       "      <td>C173_T</td>\n",
       "      <td>Female</td>\n",
       "      <td>left</td>\n",
       "      <td>high</td>\n",
       "      <td>T4</td>\n",
       "      <td>...</td>\n",
       "      <td>2635.017578</td>\n",
       "      <td>7.877025</td>\n",
       "      <td>15.402242</td>\n",
       "      <td>22.468265</td>\n",
       "      <td>34.015013</td>\n",
       "      <td>65.510289</td>\n",
       "      <td>103.340820</td>\n",
       "      <td>3.921827</td>\n",
       "      <td>67.731804</td>\n",
       "      <td>2.570450</td>\n",
       "    </tr>\n",
       "    <tr>\n",
       "      <th>C173_T_0_0_0_c1_v3_id-TTTGTTGGTTCTGAGT</th>\n",
       "      <td>C173_T_0_0_0_c1_v3</td>\n",
       "      <td>C173</td>\n",
       "      <td>T</td>\n",
       "      <td>DFCI</td>\n",
       "      <td>unsorted</td>\n",
       "      <td>C173_T</td>\n",
       "      <td>Female</td>\n",
       "      <td>left</td>\n",
       "      <td>high</td>\n",
       "      <td>T4</td>\n",
       "      <td>...</td>\n",
       "      <td>2512.186279</td>\n",
       "      <td>7.829307</td>\n",
       "      <td>22.150078</td>\n",
       "      <td>33.266912</td>\n",
       "      <td>49.832953</td>\n",
       "      <td>87.480684</td>\n",
       "      <td>78.763542</td>\n",
       "      <td>3.135259</td>\n",
       "      <td>368.961121</td>\n",
       "      <td>14.686854</td>\n",
       "    </tr>\n",
       "    <tr>\n",
       "      <th>C173_T_0_0_0_c1_v3_id-TTTGTTGTCGTTCCCA</th>\n",
       "      <td>C173_T_0_0_0_c1_v3</td>\n",
       "      <td>C173</td>\n",
       "      <td>T</td>\n",
       "      <td>DFCI</td>\n",
       "      <td>unsorted</td>\n",
       "      <td>C173_T</td>\n",
       "      <td>Female</td>\n",
       "      <td>left</td>\n",
       "      <td>high</td>\n",
       "      <td>T4</td>\n",
       "      <td>...</td>\n",
       "      <td>4336.700684</td>\n",
       "      <td>8.375100</td>\n",
       "      <td>14.139018</td>\n",
       "      <td>20.800330</td>\n",
       "      <td>30.249355</td>\n",
       "      <td>43.486648</td>\n",
       "      <td>102.541946</td>\n",
       "      <td>2.364515</td>\n",
       "      <td>384.193542</td>\n",
       "      <td>8.859120</td>\n",
       "    </tr>\n",
       "  </tbody>\n",
       "</table>\n",
       "<p>258359 rows × 32 columns</p>\n",
       "</div>"
      ],
      "text/plain": [
       "                                                 Sample_ID Donor_ID  \\\n",
       "cell_id                                                               \n",
       "C103_T_1_1_0_c1_v2_id-AAACCTGCATGCTAGT  C103_T_1_1_0_c1_v2     C103   \n",
       "C103_T_1_1_0_c1_v2_id-AAACCTGGTAGCCTAT  C103_T_1_1_0_c1_v2     C103   \n",
       "C103_T_1_1_0_c1_v2_id-AAACCTGGTTGTCGCG  C103_T_1_1_0_c1_v2     C103   \n",
       "C103_T_1_1_0_c1_v2_id-AAACCTGTCATGTGGT  C103_T_1_1_0_c1_v2     C103   \n",
       "C103_T_1_1_0_c1_v2_id-AAACCTGTCCTTGGTC  C103_T_1_1_0_c1_v2     C103   \n",
       "...                                                    ...      ...   \n",
       "C173_T_0_0_0_c1_v3_id-TTTGGAGTCATCGGGC  C173_T_0_0_0_c1_v3     C173   \n",
       "C173_T_0_0_0_c1_v3_id-TTTGGAGTCTAGTGTG  C173_T_0_0_0_c1_v3     C173   \n",
       "C173_T_0_0_0_c1_v3_id-TTTGTTGCAGCAATTC  C173_T_0_0_0_c1_v3     C173   \n",
       "C173_T_0_0_0_c1_v3_id-TTTGTTGGTTCTGAGT  C173_T_0_0_0_c1_v3     C173   \n",
       "C173_T_0_0_0_c1_v3_id-TTTGTTGTCGTTCCCA  C173_T_0_0_0_c1_v3     C173   \n",
       "\n",
       "                                       SpecimenType TissueSource  \\\n",
       "cell_id                                                            \n",
       "C103_T_1_1_0_c1_v2_id-AAACCTGCATGCTAGT            T          MGH   \n",
       "C103_T_1_1_0_c1_v2_id-AAACCTGGTAGCCTAT            T          MGH   \n",
       "C103_T_1_1_0_c1_v2_id-AAACCTGGTTGTCGCG            T          MGH   \n",
       "C103_T_1_1_0_c1_v2_id-AAACCTGTCATGTGGT            T          MGH   \n",
       "C103_T_1_1_0_c1_v2_id-AAACCTGTCCTTGGTC            T          MGH   \n",
       "...                                             ...          ...   \n",
       "C173_T_0_0_0_c1_v3_id-TTTGGAGTCATCGGGC            T         DFCI   \n",
       "C173_T_0_0_0_c1_v3_id-TTTGGAGTCTAGTGTG            T         DFCI   \n",
       "C173_T_0_0_0_c1_v3_id-TTTGTTGCAGCAATTC            T         DFCI   \n",
       "C173_T_0_0_0_c1_v3_id-TTTGTTGGTTCTGAGT            T         DFCI   \n",
       "C173_T_0_0_0_c1_v3_id-TTTGTTGTCGTTCCCA            T         DFCI   \n",
       "\n",
       "                                       ProcessingMethod PatientTypeID  Gender  \\\n",
       "cell_id                                                                         \n",
       "C103_T_1_1_0_c1_v2_id-AAACCTGCATGCTAGT         unsorted        C103_T    Male   \n",
       "C103_T_1_1_0_c1_v2_id-AAACCTGGTAGCCTAT         unsorted        C103_T    Male   \n",
       "C103_T_1_1_0_c1_v2_id-AAACCTGGTTGTCGCG         unsorted        C103_T    Male   \n",
       "C103_T_1_1_0_c1_v2_id-AAACCTGTCATGTGGT         unsorted        C103_T    Male   \n",
       "C103_T_1_1_0_c1_v2_id-AAACCTGTCCTTGGTC         unsorted        C103_T    Male   \n",
       "...                                                 ...           ...     ...   \n",
       "C173_T_0_0_0_c1_v3_id-TTTGGAGTCATCGGGC         unsorted        C173_T  Female   \n",
       "C173_T_0_0_0_c1_v3_id-TTTGGAGTCTAGTGTG         unsorted        C173_T  Female   \n",
       "C173_T_0_0_0_c1_v3_id-TTTGTTGCAGCAATTC         unsorted        C173_T  Female   \n",
       "C173_T_0_0_0_c1_v3_id-TTTGTTGGTTCTGAGT         unsorted        C173_T  Female   \n",
       "C173_T_0_0_0_c1_v3_id-TTTGTTGTCGTTCCCA         unsorted        C173_T  Female   \n",
       "\n",
       "                                        Site Grade TumorStage  ...  \\\n",
       "cell_id                                                        ...   \n",
       "C103_T_1_1_0_c1_v2_id-AAACCTGCATGCTAGT  left   low      notT4  ...   \n",
       "C103_T_1_1_0_c1_v2_id-AAACCTGGTAGCCTAT  left   low      notT4  ...   \n",
       "C103_T_1_1_0_c1_v2_id-AAACCTGGTTGTCGCG  left   low      notT4  ...   \n",
       "C103_T_1_1_0_c1_v2_id-AAACCTGTCATGTGGT  left   low      notT4  ...   \n",
       "C103_T_1_1_0_c1_v2_id-AAACCTGTCCTTGGTC  left   low      notT4  ...   \n",
       "...                                      ...   ...        ...  ...   \n",
       "C173_T_0_0_0_c1_v3_id-TTTGGAGTCATCGGGC  left  high         T4  ...   \n",
       "C173_T_0_0_0_c1_v3_id-TTTGGAGTCTAGTGTG  left  high         T4  ...   \n",
       "C173_T_0_0_0_c1_v3_id-TTTGTTGCAGCAATTC  left  high         T4  ...   \n",
       "C173_T_0_0_0_c1_v3_id-TTTGTTGGTTCTGAGT  left  high         T4  ...   \n",
       "C173_T_0_0_0_c1_v3_id-TTTGTTGTCGTTCCCA  left  high         T4  ...   \n",
       "\n",
       "                                       total_counts log1p_total_counts  \\\n",
       "cell_id                                                                  \n",
       "C103_T_1_1_0_c1_v2_id-AAACCTGCATGCTAGT  4603.801270           8.434855   \n",
       "C103_T_1_1_0_c1_v2_id-AAACCTGGTAGCCTAT  2108.768555           7.654334   \n",
       "C103_T_1_1_0_c1_v2_id-AAACCTGGTTGTCGCG  5887.731934           8.680796   \n",
       "C103_T_1_1_0_c1_v2_id-AAACCTGTCATGTGGT  4969.738281           8.511324   \n",
       "C103_T_1_1_0_c1_v2_id-AAACCTGTCCTTGGTC  5981.045410           8.696518   \n",
       "...                                             ...                ...   \n",
       "C173_T_0_0_0_c1_v3_id-TTTGGAGTCATCGGGC  5487.610352           8.610431   \n",
       "C173_T_0_0_0_c1_v3_id-TTTGGAGTCTAGTGTG  5541.674316           8.620233   \n",
       "C173_T_0_0_0_c1_v3_id-TTTGTTGCAGCAATTC  2635.017578           7.877025   \n",
       "C173_T_0_0_0_c1_v3_id-TTTGTTGGTTCTGAGT  2512.186279           7.829307   \n",
       "C173_T_0_0_0_c1_v3_id-TTTGTTGTCGTTCCCA  4336.700684           8.375100   \n",
       "\n",
       "                                       pct_counts_in_top_50_genes  \\\n",
       "cell_id                                                             \n",
       "C103_T_1_1_0_c1_v2_id-AAACCTGCATGCTAGT                  14.948589   \n",
       "C103_T_1_1_0_c1_v2_id-AAACCTGGTAGCCTAT                  26.236284   \n",
       "C103_T_1_1_0_c1_v2_id-AAACCTGGTTGTCGCG                  12.383847   \n",
       "C103_T_1_1_0_c1_v2_id-AAACCTGTCATGTGGT                  13.649248   \n",
       "C103_T_1_1_0_c1_v2_id-AAACCTGTCCTTGGTC                  11.909785   \n",
       "...                                                           ...   \n",
       "C173_T_0_0_0_c1_v3_id-TTTGGAGTCATCGGGC                  11.153262   \n",
       "C173_T_0_0_0_c1_v3_id-TTTGGAGTCTAGTGTG                  13.388294   \n",
       "C173_T_0_0_0_c1_v3_id-TTTGTTGCAGCAATTC                  15.402242   \n",
       "C173_T_0_0_0_c1_v3_id-TTTGTTGGTTCTGAGT                  22.150078   \n",
       "C173_T_0_0_0_c1_v3_id-TTTGTTGTCGTTCCCA                  14.139018   \n",
       "\n",
       "                                       pct_counts_in_top_100_genes  \\\n",
       "cell_id                                                              \n",
       "C103_T_1_1_0_c1_v2_id-AAACCTGCATGCTAGT                   21.813485   \n",
       "C103_T_1_1_0_c1_v2_id-AAACCTGGTAGCCTAT                   38.976408   \n",
       "C103_T_1_1_0_c1_v2_id-AAACCTGGTTGTCGCG                   17.824891   \n",
       "C103_T_1_1_0_c1_v2_id-AAACCTGTCATGTGGT                   20.067856   \n",
       "C103_T_1_1_0_c1_v2_id-AAACCTGTCCTTGGTC                   17.189286   \n",
       "...                                                            ...   \n",
       "C173_T_0_0_0_c1_v3_id-TTTGGAGTCATCGGGC                   16.671019   \n",
       "C173_T_0_0_0_c1_v3_id-TTTGGAGTCTAGTGTG                   18.677148   \n",
       "C173_T_0_0_0_c1_v3_id-TTTGTTGCAGCAATTC                   22.468265   \n",
       "C173_T_0_0_0_c1_v3_id-TTTGTTGGTTCTGAGT                   33.266912   \n",
       "C173_T_0_0_0_c1_v3_id-TTTGTTGTCGTTCCCA                   20.800330   \n",
       "\n",
       "                                       pct_counts_in_top_200_genes  \\\n",
       "cell_id                                                              \n",
       "C103_T_1_1_0_c1_v2_id-AAACCTGCATGCTAGT                   32.439550   \n",
       "C103_T_1_1_0_c1_v2_id-AAACCTGGTAGCCTAT                   57.089805   \n",
       "C103_T_1_1_0_c1_v2_id-AAACCTGGTTGTCGCG                   26.005590   \n",
       "C103_T_1_1_0_c1_v2_id-AAACCTGTCATGTGGT                   29.738970   \n",
       "C103_T_1_1_0_c1_v2_id-AAACCTGTCCTTGGTC                   25.343654   \n",
       "...                                                            ...   \n",
       "C173_T_0_0_0_c1_v3_id-TTTGGAGTCATCGGGC                   24.364308   \n",
       "C173_T_0_0_0_c1_v3_id-TTTGGAGTCTAGTGTG                   26.559739   \n",
       "C173_T_0_0_0_c1_v3_id-TTTGTTGCAGCAATTC                   34.015013   \n",
       "C173_T_0_0_0_c1_v3_id-TTTGTTGGTTCTGAGT                   49.832953   \n",
       "C173_T_0_0_0_c1_v3_id-TTTGTTGTCGTTCCCA                   30.249355   \n",
       "\n",
       "                                       pct_counts_in_top_500_genes  \\\n",
       "cell_id                                                              \n",
       "C103_T_1_1_0_c1_v2_id-AAACCTGCATGCTAGT                   48.347822   \n",
       "C103_T_1_1_0_c1_v2_id-AAACCTGGTAGCCTAT                   99.936938   \n",
       "C103_T_1_1_0_c1_v2_id-AAACCTGGTTGTCGCG                   39.622050   \n",
       "C103_T_1_1_0_c1_v2_id-AAACCTGTCATGTGGT                   45.172732   \n",
       "C103_T_1_1_0_c1_v2_id-AAACCTGTCCTTGGTC                   39.579511   \n",
       "...                                                            ...   \n",
       "C173_T_0_0_0_c1_v3_id-TTTGGAGTCATCGGGC                   39.993964   \n",
       "C173_T_0_0_0_c1_v3_id-TTTGGAGTCTAGTGTG                   40.406723   \n",
       "C173_T_0_0_0_c1_v3_id-TTTGTTGCAGCAATTC                   65.510289   \n",
       "C173_T_0_0_0_c1_v3_id-TTTGTTGGTTCTGAGT                   87.480684   \n",
       "C173_T_0_0_0_c1_v3_id-TTTGTTGTCGTTCCCA                   43.486648   \n",
       "\n",
       "                                       total_counts_mito pct_counts_mito  \\\n",
       "cell_id                                                                    \n",
       "C103_T_1_1_0_c1_v2_id-AAACCTGCATGCTAGT         68.937042        1.497394   \n",
       "C103_T_1_1_0_c1_v2_id-AAACCTGGTAGCCTAT         94.047325        4.459822   \n",
       "C103_T_1_1_0_c1_v2_id-AAACCTGGTTGTCGCG         76.699623        1.302702   \n",
       "C103_T_1_1_0_c1_v2_id-AAACCTGTCATGTGGT         75.586861        1.520943   \n",
       "C103_T_1_1_0_c1_v2_id-AAACCTGTCCTTGGTC         78.871780        1.318696   \n",
       "...                                                  ...             ...   \n",
       "C173_T_0_0_0_c1_v3_id-TTTGGAGTCATCGGGC         80.156494        1.460681   \n",
       "C173_T_0_0_0_c1_v3_id-TTTGGAGTCTAGTGTG         94.976021        1.713851   \n",
       "C173_T_0_0_0_c1_v3_id-TTTGTTGCAGCAATTC        103.340820        3.921827   \n",
       "C173_T_0_0_0_c1_v3_id-TTTGTTGGTTCTGAGT         78.763542        3.135259   \n",
       "C173_T_0_0_0_c1_v3_id-TTTGTTGTCGTTCCCA        102.541946        2.364515   \n",
       "\n",
       "                                       total_counts_ribo pct_counts_ribo  \n",
       "cell_id                                                                   \n",
       "C103_T_1_1_0_c1_v2_id-AAACCTGCATGCTAGT        445.594940        9.678848  \n",
       "C103_T_1_1_0_c1_v2_id-AAACCTGGTAGCCTAT        371.848663       17.633450  \n",
       "C103_T_1_1_0_c1_v2_id-AAACCTGGTTGTCGCG        400.767029        6.806816  \n",
       "C103_T_1_1_0_c1_v2_id-AAACCTGTCATGTGGT        429.411682        8.640530  \n",
       "C103_T_1_1_0_c1_v2_id-AAACCTGTCCTTGGTC        373.194397        6.239618  \n",
       "...                                                  ...             ...  \n",
       "C173_T_0_0_0_c1_v3_id-TTTGGAGTCATCGGGC        246.709534        4.495755  \n",
       "C173_T_0_0_0_c1_v3_id-TTTGGAGTCTAGTGTG        358.535309        6.469801  \n",
       "C173_T_0_0_0_c1_v3_id-TTTGTTGCAGCAATTC         67.731804        2.570450  \n",
       "C173_T_0_0_0_c1_v3_id-TTTGTTGGTTCTGAGT        368.961121       14.686854  \n",
       "C173_T_0_0_0_c1_v3_id-TTTGTTGTCGTTCCCA        384.193542        8.859120  \n",
       "\n",
       "[258359 rows x 32 columns]"
      ]
     },
     "execution_count": 31,
     "metadata": {},
     "output_type": "execute_result"
    }
   ],
   "source": [
    "Cancer_adata.obs"
   ]
  },
  {
   "cell_type": "code",
   "execution_count": 32,
   "metadata": {},
   "outputs": [],
   "source": [
    "# Delete unnecessary columns\n",
    "del Cancer_adata.obs['log1p_total_counts'], Cancer_adata.obs['pct_counts_in_top_50_genes'], Cancer_adata.obs['log1p_n_genes_by_counts']\n",
    "del Cancer_adata.obs['pct_counts_in_top_100_genes'], Cancer_adata.obs['pct_counts_in_top_200_genes'], Cancer_adata.obs['pct_counts_in_top_500_genes']"
   ]
  },
  {
   "cell_type": "code",
   "execution_count": 33,
   "metadata": {},
   "outputs": [],
   "source": [
    "# Write objects\n",
    "Cancer_adata.write_h5ad('/Users/anna.maguza/Desktop/Data/Processed_datasets/Cancer_dataset_integration/input_files/all_cells/Colon_cancer_atlas_anndata.h5ad')\n",
    "healthy_all_counts.write_h5ad('/Users/anna.maguza/Desktop/Data/Processed_datasets/Cancer_dataset_integration/input_files/all_cells/Healthy_integrated_data_all_genes.h5ad')"
   ]
  },
  {
   "attachments": {},
   "cell_type": "markdown",
   "metadata": {},
   "source": [
    "# Prepare Epithelial cells"
   ]
  },
  {
   "cell_type": "code",
   "execution_count": 27,
   "metadata": {},
   "outputs": [
    {
     "name": "stderr",
     "output_type": "stream",
     "text": [
      "/Users/anna.maguza/miniconda3/envs/scanpy_env/lib/python3.9/site-packages/anndata/_core/anndata.py:121: ImplicitModificationWarning: Transforming to str index.\n",
      "  warnings.warn(\"Transforming to str index.\", ImplicitModificationWarning)\n"
     ]
    }
   ],
   "source": [
    "input = '/Users/anna.maguza/Desktop/Data/Processed_datasets/Cancer_dataset_integration/input_files/all_cells/Healthy_integrated_data_all_genes.h5ad'\n",
    "healthy_all_counts = sc.read_h5ad(input)\n",
    "input = '/Users/anna.maguza/Desktop/Data/Processed_datasets/Cancer_dataset_integration/input_files/all_cells/Colon_cancer_atlas_anndata.h5ad'\n",
    "Cancer_adata = sc.read_h5ad(input)"
   ]
  },
  {
   "cell_type": "code",
   "execution_count": 28,
   "metadata": {},
   "outputs": [
    {
     "data": {
      "text/plain": [
       "Healthy adult                            295158\n",
       "Fetal Healthy                            231646\n",
       "Pediatric healthy                         29265\n",
       "Adult Ulcerative Colitis Non-inflamed      1030\n",
       "Name: Diagnosis, dtype: int64"
      ]
     },
     "execution_count": 28,
     "metadata": {},
     "output_type": "execute_result"
    }
   ],
   "source": [
    "healthy_all_counts.obs['Diagnosis'].value_counts()"
   ]
  },
  {
   "cell_type": "code",
   "execution_count": 29,
   "metadata": {},
   "outputs": [],
   "source": [
    "# Filter out fetal and pediatric samples\n",
    "healthy_all_counts = healthy_all_counts[healthy_all_counts.obs['Diagnosis'] != 'Fetal Healthy', :]\n",
    "healthy_all_counts = healthy_all_counts[healthy_all_counts.obs['Diagnosis'] != 'Pediatric healthy', :]"
   ]
  },
  {
   "cell_type": "code",
   "execution_count": 17,
   "metadata": {},
   "outputs": [
    {
     "data": {
      "text/html": [
       "<div>\n",
       "<style scoped>\n",
       "    .dataframe tbody tr th:only-of-type {\n",
       "        vertical-align: middle;\n",
       "    }\n",
       "\n",
       "    .dataframe tbody tr th {\n",
       "        vertical-align: top;\n",
       "    }\n",
       "\n",
       "    .dataframe thead th {\n",
       "        text-align: right;\n",
       "    }\n",
       "</style>\n",
       "<table border=\"1\" class=\"dataframe\">\n",
       "  <thead>\n",
       "    <tr style=\"text-align: right;\">\n",
       "      <th></th>\n",
       "      <th>Sample_ID</th>\n",
       "      <th>Cell Type</th>\n",
       "      <th>Study_name</th>\n",
       "      <th>Donor_ID</th>\n",
       "      <th>Diagnosis</th>\n",
       "      <th>Age</th>\n",
       "      <th>Region code</th>\n",
       "      <th>Fraction</th>\n",
       "      <th>Gender</th>\n",
       "      <th>Library_Preparation_Protocol</th>\n",
       "      <th>...</th>\n",
       "      <th>dataset</th>\n",
       "      <th>n_genes_by_counts</th>\n",
       "      <th>total_counts</th>\n",
       "      <th>total_counts_mito</th>\n",
       "      <th>pct_counts_mito</th>\n",
       "      <th>total_counts_ribo</th>\n",
       "      <th>pct_counts_ribo</th>\n",
       "      <th>Cell_ID</th>\n",
       "      <th>_scvi_batch</th>\n",
       "      <th>_scvi_labels</th>\n",
       "    </tr>\n",
       "    <tr>\n",
       "      <th>cell_id</th>\n",
       "      <th></th>\n",
       "      <th></th>\n",
       "      <th></th>\n",
       "      <th></th>\n",
       "      <th></th>\n",
       "      <th></th>\n",
       "      <th></th>\n",
       "      <th></th>\n",
       "      <th></th>\n",
       "      <th></th>\n",
       "      <th></th>\n",
       "      <th></th>\n",
       "      <th></th>\n",
       "      <th></th>\n",
       "      <th></th>\n",
       "      <th></th>\n",
       "      <th></th>\n",
       "      <th></th>\n",
       "      <th></th>\n",
       "      <th></th>\n",
       "      <th></th>\n",
       "    </tr>\n",
       "  </thead>\n",
       "  <tbody>\n",
       "    <tr>\n",
       "      <th>GCATGATAGTCAAGGC-1-WTDAtest7770718</th>\n",
       "      <td>A30-SCL-6-SC-45P-2</td>\n",
       "      <td>B cells</td>\n",
       "      <td>Gut Cell Atlas</td>\n",
       "      <td>A30 (398B)</td>\n",
       "      <td>Healthy adult</td>\n",
       "      <td>20-25</td>\n",
       "      <td>SCL</td>\n",
       "      <td>SC-45P</td>\n",
       "      <td>Female</td>\n",
       "      <td>3'</td>\n",
       "      <td>...</td>\n",
       "      <td>reference</td>\n",
       "      <td>1356</td>\n",
       "      <td>4981.0</td>\n",
       "      <td>219.0</td>\n",
       "      <td>4.396708</td>\n",
       "      <td>1788.0</td>\n",
       "      <td>35.896404</td>\n",
       "      <td>GCATGATAGTCAAGGC-1-WTDAtest7770718</td>\n",
       "      <td>0</td>\n",
       "      <td>0</td>\n",
       "    </tr>\n",
       "    <tr>\n",
       "      <th>H158108_N1-GAACGGACACTTAACG</th>\n",
       "      <td>H158108_N1</td>\n",
       "      <td>Mesenchymal</td>\n",
       "      <td>Kong 2023</td>\n",
       "      <td>158108</td>\n",
       "      <td>Healthy adult</td>\n",
       "      <td>NaN</td>\n",
       "      <td>NaN</td>\n",
       "      <td>NaN</td>\n",
       "      <td>Male</td>\n",
       "      <td>10x 3' v2</td>\n",
       "      <td>...</td>\n",
       "      <td>query</td>\n",
       "      <td>883</td>\n",
       "      <td>1628.0</td>\n",
       "      <td>17.0</td>\n",
       "      <td>1.044226</td>\n",
       "      <td>251.0</td>\n",
       "      <td>15.417690</td>\n",
       "      <td>H158108_N1-GAACGGACACTTAACG</td>\n",
       "      <td>0</td>\n",
       "      <td>3</td>\n",
       "    </tr>\n",
       "    <tr>\n",
       "      <th>H197396_N1-TATGCCCAGGGTGTGT</th>\n",
       "      <td>H197396_N1</td>\n",
       "      <td>T cells</td>\n",
       "      <td>Kong 2023</td>\n",
       "      <td>197396</td>\n",
       "      <td>Healthy adult</td>\n",
       "      <td>NaN</td>\n",
       "      <td>NaN</td>\n",
       "      <td>NaN</td>\n",
       "      <td>Male</td>\n",
       "      <td>10x 3' v2</td>\n",
       "      <td>...</td>\n",
       "      <td>query</td>\n",
       "      <td>414</td>\n",
       "      <td>678.0</td>\n",
       "      <td>51.0</td>\n",
       "      <td>7.522124</td>\n",
       "      <td>100.0</td>\n",
       "      <td>14.749263</td>\n",
       "      <td>H197396_N1-TATGCCCAGGGTGTGT</td>\n",
       "      <td>0</td>\n",
       "      <td>9</td>\n",
       "    </tr>\n",
       "    <tr>\n",
       "      <th>N17_LP_A-AGCGAACTTATGGC</th>\n",
       "      <td>N17_LP_A</td>\n",
       "      <td>Plasma cells</td>\n",
       "      <td>Kong 2023</td>\n",
       "      <td>N17</td>\n",
       "      <td>Healthy adult</td>\n",
       "      <td>NaN</td>\n",
       "      <td>NaN</td>\n",
       "      <td>NaN</td>\n",
       "      <td>Male</td>\n",
       "      <td>10x 3' v1</td>\n",
       "      <td>...</td>\n",
       "      <td>query</td>\n",
       "      <td>231</td>\n",
       "      <td>1526.0</td>\n",
       "      <td>2.0</td>\n",
       "      <td>0.131062</td>\n",
       "      <td>159.0</td>\n",
       "      <td>10.419397</td>\n",
       "      <td>N17_LP_A-AGCGAACTTATGGC</td>\n",
       "      <td>0</td>\n",
       "      <td>6</td>\n",
       "    </tr>\n",
       "    <tr>\n",
       "      <th>H158108_N1-GTTAAGCAGAGGTAGA</th>\n",
       "      <td>H158108_N1</td>\n",
       "      <td>Epithelial</td>\n",
       "      <td>Kong 2023</td>\n",
       "      <td>158108</td>\n",
       "      <td>Healthy adult</td>\n",
       "      <td>NaN</td>\n",
       "      <td>NaN</td>\n",
       "      <td>NaN</td>\n",
       "      <td>Male</td>\n",
       "      <td>10x 3' v2</td>\n",
       "      <td>...</td>\n",
       "      <td>query</td>\n",
       "      <td>806</td>\n",
       "      <td>2072.0</td>\n",
       "      <td>15.0</td>\n",
       "      <td>0.723938</td>\n",
       "      <td>185.0</td>\n",
       "      <td>8.928572</td>\n",
       "      <td>H158108_N1-GTTAAGCAGAGGTAGA</td>\n",
       "      <td>0</td>\n",
       "      <td>2</td>\n",
       "    </tr>\n",
       "    <tr>\n",
       "      <th>...</th>\n",
       "      <td>...</td>\n",
       "      <td>...</td>\n",
       "      <td>...</td>\n",
       "      <td>...</td>\n",
       "      <td>...</td>\n",
       "      <td>...</td>\n",
       "      <td>...</td>\n",
       "      <td>...</td>\n",
       "      <td>...</td>\n",
       "      <td>...</td>\n",
       "      <td>...</td>\n",
       "      <td>...</td>\n",
       "      <td>...</td>\n",
       "      <td>...</td>\n",
       "      <td>...</td>\n",
       "      <td>...</td>\n",
       "      <td>...</td>\n",
       "      <td>...</td>\n",
       "      <td>...</td>\n",
       "      <td>...</td>\n",
       "      <td>...</td>\n",
       "    </tr>\n",
       "    <tr>\n",
       "      <th>H180844_N1-ATAGACCTCTAACTGG</th>\n",
       "      <td>H180844_N1</td>\n",
       "      <td>Epithelial</td>\n",
       "      <td>Kong 2023</td>\n",
       "      <td>180844</td>\n",
       "      <td>Healthy adult</td>\n",
       "      <td>NaN</td>\n",
       "      <td>NaN</td>\n",
       "      <td>NaN</td>\n",
       "      <td>Male</td>\n",
       "      <td>10x 3' v2</td>\n",
       "      <td>...</td>\n",
       "      <td>query</td>\n",
       "      <td>379</td>\n",
       "      <td>752.0</td>\n",
       "      <td>79.0</td>\n",
       "      <td>10.505320</td>\n",
       "      <td>207.0</td>\n",
       "      <td>27.526596</td>\n",
       "      <td>H180844_N1-ATAGACCTCTAACTGG</td>\n",
       "      <td>0</td>\n",
       "      <td>2</td>\n",
       "    </tr>\n",
       "    <tr>\n",
       "      <th>H180844_N4-TTTGCGCCATGCGCAC</th>\n",
       "      <td>H180844_N4</td>\n",
       "      <td>Epithelial</td>\n",
       "      <td>Kong 2023</td>\n",
       "      <td>180844</td>\n",
       "      <td>Healthy adult</td>\n",
       "      <td>NaN</td>\n",
       "      <td>NaN</td>\n",
       "      <td>NaN</td>\n",
       "      <td>Male</td>\n",
       "      <td>10x 3' v2</td>\n",
       "      <td>...</td>\n",
       "      <td>query</td>\n",
       "      <td>407</td>\n",
       "      <td>807.0</td>\n",
       "      <td>132.0</td>\n",
       "      <td>16.356878</td>\n",
       "      <td>49.0</td>\n",
       "      <td>6.071871</td>\n",
       "      <td>H180844_N4-TTTGCGCCATGCGCAC</td>\n",
       "      <td>0</td>\n",
       "      <td>2</td>\n",
       "    </tr>\n",
       "    <tr>\n",
       "      <th>N51_LP_A-ACCTTTAGTTTGTTTC</th>\n",
       "      <td>N51_LP_A</td>\n",
       "      <td>Plasma cells</td>\n",
       "      <td>Kong 2023</td>\n",
       "      <td>N51</td>\n",
       "      <td>Healthy adult</td>\n",
       "      <td>NaN</td>\n",
       "      <td>NaN</td>\n",
       "      <td>NaN</td>\n",
       "      <td>Male</td>\n",
       "      <td>10x 3' v2</td>\n",
       "      <td>...</td>\n",
       "      <td>query</td>\n",
       "      <td>1470</td>\n",
       "      <td>9510.0</td>\n",
       "      <td>175.0</td>\n",
       "      <td>1.840168</td>\n",
       "      <td>2198.0</td>\n",
       "      <td>23.112513</td>\n",
       "      <td>N51_LP_A-ACCTTTAGTTTGTTTC</td>\n",
       "      <td>0</td>\n",
       "      <td>6</td>\n",
       "    </tr>\n",
       "    <tr>\n",
       "      <th>N21_LP_B-AGAAGATGGTAAGA</th>\n",
       "      <td>N21_LP_B</td>\n",
       "      <td>Myeloid</td>\n",
       "      <td>Kong 2023</td>\n",
       "      <td>N21</td>\n",
       "      <td>Healthy adult</td>\n",
       "      <td>NaN</td>\n",
       "      <td>NaN</td>\n",
       "      <td>NaN</td>\n",
       "      <td>Female</td>\n",
       "      <td>10x 3' v1</td>\n",
       "      <td>...</td>\n",
       "      <td>query</td>\n",
       "      <td>1273</td>\n",
       "      <td>4985.0</td>\n",
       "      <td>115.0</td>\n",
       "      <td>2.306921</td>\n",
       "      <td>900.0</td>\n",
       "      <td>18.054161</td>\n",
       "      <td>N21_LP_B-AGAAGATGGTAAGA</td>\n",
       "      <td>0</td>\n",
       "      <td>4</td>\n",
       "    </tr>\n",
       "    <tr>\n",
       "      <th>H158108_N3-TTCTCCTCAAGCTGTT</th>\n",
       "      <td>H158108_N3</td>\n",
       "      <td>T cells</td>\n",
       "      <td>Kong 2023</td>\n",
       "      <td>158108</td>\n",
       "      <td>Healthy adult</td>\n",
       "      <td>NaN</td>\n",
       "      <td>NaN</td>\n",
       "      <td>NaN</td>\n",
       "      <td>Male</td>\n",
       "      <td>10x 3' v2</td>\n",
       "      <td>...</td>\n",
       "      <td>query</td>\n",
       "      <td>611</td>\n",
       "      <td>1507.0</td>\n",
       "      <td>45.0</td>\n",
       "      <td>2.986065</td>\n",
       "      <td>595.0</td>\n",
       "      <td>39.482414</td>\n",
       "      <td>H158108_N3-TTCTCCTCAAGCTGTT</td>\n",
       "      <td>0</td>\n",
       "      <td>9</td>\n",
       "    </tr>\n",
       "  </tbody>\n",
       "</table>\n",
       "<p>296188 rows × 28 columns</p>\n",
       "</div>"
      ],
      "text/plain": [
       "                                             Sample_ID     Cell Type  \\\n",
       "cell_id                                                                \n",
       "GCATGATAGTCAAGGC-1-WTDAtest7770718  A30-SCL-6-SC-45P-2       B cells   \n",
       "H158108_N1-GAACGGACACTTAACG                 H158108_N1   Mesenchymal   \n",
       "H197396_N1-TATGCCCAGGGTGTGT                 H197396_N1       T cells   \n",
       "N17_LP_A-AGCGAACTTATGGC                       N17_LP_A  Plasma cells   \n",
       "H158108_N1-GTTAAGCAGAGGTAGA                 H158108_N1    Epithelial   \n",
       "...                                                ...           ...   \n",
       "H180844_N1-ATAGACCTCTAACTGG                 H180844_N1    Epithelial   \n",
       "H180844_N4-TTTGCGCCATGCGCAC                 H180844_N4    Epithelial   \n",
       "N51_LP_A-ACCTTTAGTTTGTTTC                     N51_LP_A  Plasma cells   \n",
       "N21_LP_B-AGAAGATGGTAAGA                       N21_LP_B       Myeloid   \n",
       "H158108_N3-TTCTCCTCAAGCTGTT                 H158108_N3       T cells   \n",
       "\n",
       "                                        Study_name    Donor_ID      Diagnosis  \\\n",
       "cell_id                                                                         \n",
       "GCATGATAGTCAAGGC-1-WTDAtest7770718  Gut Cell Atlas  A30 (398B)  Healthy adult   \n",
       "H158108_N1-GAACGGACACTTAACG              Kong 2023      158108  Healthy adult   \n",
       "H197396_N1-TATGCCCAGGGTGTGT              Kong 2023      197396  Healthy adult   \n",
       "N17_LP_A-AGCGAACTTATGGC                  Kong 2023         N17  Healthy adult   \n",
       "H158108_N1-GTTAAGCAGAGGTAGA              Kong 2023      158108  Healthy adult   \n",
       "...                                            ...         ...            ...   \n",
       "H180844_N1-ATAGACCTCTAACTGG              Kong 2023      180844  Healthy adult   \n",
       "H180844_N4-TTTGCGCCATGCGCAC              Kong 2023      180844  Healthy adult   \n",
       "N51_LP_A-ACCTTTAGTTTGTTTC                Kong 2023         N51  Healthy adult   \n",
       "N21_LP_B-AGAAGATGGTAAGA                  Kong 2023         N21  Healthy adult   \n",
       "H158108_N3-TTCTCCTCAAGCTGTT              Kong 2023      158108  Healthy adult   \n",
       "\n",
       "                                      Age Region code Fraction  Gender  \\\n",
       "cell_id                                                                  \n",
       "GCATGATAGTCAAGGC-1-WTDAtest7770718  20-25         SCL   SC-45P  Female   \n",
       "H158108_N1-GAACGGACACTTAACG           NaN         NaN      NaN    Male   \n",
       "H197396_N1-TATGCCCAGGGTGTGT           NaN         NaN      NaN    Male   \n",
       "N17_LP_A-AGCGAACTTATGGC               NaN         NaN      NaN    Male   \n",
       "H158108_N1-GTTAAGCAGAGGTAGA           NaN         NaN      NaN    Male   \n",
       "...                                   ...         ...      ...     ...   \n",
       "H180844_N1-ATAGACCTCTAACTGG           NaN         NaN      NaN    Male   \n",
       "H180844_N4-TTTGCGCCATGCGCAC           NaN         NaN      NaN    Male   \n",
       "N51_LP_A-ACCTTTAGTTTGTTTC             NaN         NaN      NaN    Male   \n",
       "N21_LP_B-AGAAGATGGTAAGA               NaN         NaN      NaN  Female   \n",
       "H158108_N3-TTCTCCTCAAGCTGTT           NaN         NaN      NaN    Male   \n",
       "\n",
       "                                   Library_Preparation_Protocol  ...  \\\n",
       "cell_id                                                          ...   \n",
       "GCATGATAGTCAAGGC-1-WTDAtest7770718                           3'  ...   \n",
       "H158108_N1-GAACGGACACTTAACG                           10x 3' v2  ...   \n",
       "H197396_N1-TATGCCCAGGGTGTGT                           10x 3' v2  ...   \n",
       "N17_LP_A-AGCGAACTTATGGC                               10x 3' v1  ...   \n",
       "H158108_N1-GTTAAGCAGAGGTAGA                           10x 3' v2  ...   \n",
       "...                                                         ...  ...   \n",
       "H180844_N1-ATAGACCTCTAACTGG                           10x 3' v2  ...   \n",
       "H180844_N4-TTTGCGCCATGCGCAC                           10x 3' v2  ...   \n",
       "N51_LP_A-ACCTTTAGTTTGTTTC                             10x 3' v2  ...   \n",
       "N21_LP_B-AGAAGATGGTAAGA                               10x 3' v1  ...   \n",
       "H158108_N3-TTCTCCTCAAGCTGTT                           10x 3' v2  ...   \n",
       "\n",
       "                                      dataset n_genes_by_counts total_counts  \\\n",
       "cell_id                                                                        \n",
       "GCATGATAGTCAAGGC-1-WTDAtest7770718  reference              1356       4981.0   \n",
       "H158108_N1-GAACGGACACTTAACG             query               883       1628.0   \n",
       "H197396_N1-TATGCCCAGGGTGTGT             query               414        678.0   \n",
       "N17_LP_A-AGCGAACTTATGGC                 query               231       1526.0   \n",
       "H158108_N1-GTTAAGCAGAGGTAGA             query               806       2072.0   \n",
       "...                                       ...               ...          ...   \n",
       "H180844_N1-ATAGACCTCTAACTGG             query               379        752.0   \n",
       "H180844_N4-TTTGCGCCATGCGCAC             query               407        807.0   \n",
       "N51_LP_A-ACCTTTAGTTTGTTTC               query              1470       9510.0   \n",
       "N21_LP_B-AGAAGATGGTAAGA                 query              1273       4985.0   \n",
       "H158108_N3-TTCTCCTCAAGCTGTT             query               611       1507.0   \n",
       "\n",
       "                                   total_counts_mito pct_counts_mito  \\\n",
       "cell_id                                                                \n",
       "GCATGATAGTCAAGGC-1-WTDAtest7770718             219.0        4.396708   \n",
       "H158108_N1-GAACGGACACTTAACG                     17.0        1.044226   \n",
       "H197396_N1-TATGCCCAGGGTGTGT                     51.0        7.522124   \n",
       "N17_LP_A-AGCGAACTTATGGC                          2.0        0.131062   \n",
       "H158108_N1-GTTAAGCAGAGGTAGA                     15.0        0.723938   \n",
       "...                                              ...             ...   \n",
       "H180844_N1-ATAGACCTCTAACTGG                     79.0       10.505320   \n",
       "H180844_N4-TTTGCGCCATGCGCAC                    132.0       16.356878   \n",
       "N51_LP_A-ACCTTTAGTTTGTTTC                      175.0        1.840168   \n",
       "N21_LP_B-AGAAGATGGTAAGA                        115.0        2.306921   \n",
       "H158108_N3-TTCTCCTCAAGCTGTT                     45.0        2.986065   \n",
       "\n",
       "                                   total_counts_ribo pct_counts_ribo  \\\n",
       "cell_id                                                                \n",
       "GCATGATAGTCAAGGC-1-WTDAtest7770718            1788.0       35.896404   \n",
       "H158108_N1-GAACGGACACTTAACG                    251.0       15.417690   \n",
       "H197396_N1-TATGCCCAGGGTGTGT                    100.0       14.749263   \n",
       "N17_LP_A-AGCGAACTTATGGC                        159.0       10.419397   \n",
       "H158108_N1-GTTAAGCAGAGGTAGA                    185.0        8.928572   \n",
       "...                                              ...             ...   \n",
       "H180844_N1-ATAGACCTCTAACTGG                    207.0       27.526596   \n",
       "H180844_N4-TTTGCGCCATGCGCAC                     49.0        6.071871   \n",
       "N51_LP_A-ACCTTTAGTTTGTTTC                     2198.0       23.112513   \n",
       "N21_LP_B-AGAAGATGGTAAGA                        900.0       18.054161   \n",
       "H158108_N3-TTCTCCTCAAGCTGTT                    595.0       39.482414   \n",
       "\n",
       "                                                               Cell_ID  \\\n",
       "cell_id                                                                  \n",
       "GCATGATAGTCAAGGC-1-WTDAtest7770718  GCATGATAGTCAAGGC-1-WTDAtest7770718   \n",
       "H158108_N1-GAACGGACACTTAACG                H158108_N1-GAACGGACACTTAACG   \n",
       "H197396_N1-TATGCCCAGGGTGTGT                H197396_N1-TATGCCCAGGGTGTGT   \n",
       "N17_LP_A-AGCGAACTTATGGC                        N17_LP_A-AGCGAACTTATGGC   \n",
       "H158108_N1-GTTAAGCAGAGGTAGA                H158108_N1-GTTAAGCAGAGGTAGA   \n",
       "...                                                                ...   \n",
       "H180844_N1-ATAGACCTCTAACTGG                H180844_N1-ATAGACCTCTAACTGG   \n",
       "H180844_N4-TTTGCGCCATGCGCAC                H180844_N4-TTTGCGCCATGCGCAC   \n",
       "N51_LP_A-ACCTTTAGTTTGTTTC                    N51_LP_A-ACCTTTAGTTTGTTTC   \n",
       "N21_LP_B-AGAAGATGGTAAGA                        N21_LP_B-AGAAGATGGTAAGA   \n",
       "H158108_N3-TTCTCCTCAAGCTGTT                H158108_N3-TTCTCCTCAAGCTGTT   \n",
       "\n",
       "                                   _scvi_batch  _scvi_labels  \n",
       "cell_id                                                       \n",
       "GCATGATAGTCAAGGC-1-WTDAtest7770718           0             0  \n",
       "H158108_N1-GAACGGACACTTAACG                  0             3  \n",
       "H197396_N1-TATGCCCAGGGTGTGT                  0             9  \n",
       "N17_LP_A-AGCGAACTTATGGC                      0             6  \n",
       "H158108_N1-GTTAAGCAGAGGTAGA                  0             2  \n",
       "...                                        ...           ...  \n",
       "H180844_N1-ATAGACCTCTAACTGG                  0             2  \n",
       "H180844_N4-TTTGCGCCATGCGCAC                  0             2  \n",
       "N51_LP_A-ACCTTTAGTTTGTTTC                    0             6  \n",
       "N21_LP_B-AGAAGATGGTAAGA                      0             4  \n",
       "H158108_N3-TTCTCCTCAAGCTGTT                  0             9  \n",
       "\n",
       "[296188 rows x 28 columns]"
      ]
     },
     "execution_count": 17,
     "metadata": {},
     "output_type": "execute_result"
    }
   ],
   "source": [
    "healthy_all_counts.obs"
   ]
  },
  {
   "cell_type": "markdown",
   "metadata": {},
   "source": [
    "### Unify Cell States in Healthy reference"
   ]
  },
  {
   "cell_type": "code",
   "execution_count": 30,
   "metadata": {},
   "outputs": [],
   "source": [
    "# Subset only epitheleal cells\n",
    "Cancer_adata = Cancer_adata[Cancer_adata.obs['Cell Type'] == 'Epithelial', :]\n",
    "healthy_all_counts = healthy_all_counts[healthy_all_counts.obs['Cell Type'] == 'Epithelial', :]\n"
   ]
  },
  {
   "cell_type": "code",
   "execution_count": 31,
   "metadata": {},
   "outputs": [
    {
     "name": "stderr",
     "output_type": "stream",
     "text": [
      "/var/folders/gb/wwnzrh015q9dns5cmsc3xcjsxglkqz/T/ipykernel_7085/3225961289.py:1: ImplicitModificationWarning: Trying to modify attribute `.obs` of view, initializing view as actual.\n",
      "  healthy_all_counts.obs['Unified Cell States'] = healthy_all_counts.obs['Cell States']\n"
     ]
    }
   ],
   "source": [
    "healthy_all_counts.obs['Unified Cell States'] = healthy_all_counts.obs['Cell States']"
   ]
  },
  {
   "cell_type": "code",
   "execution_count": 32,
   "metadata": {},
   "outputs": [],
   "source": [
    "healthy_all_counts.obs['Unified Cell States'].replace({\"Enterocytes TMIGD1 MEP1A\": 'Enterocyte',\n",
    "                                               'Enterocytes CA1 CA2 CA4-': 'Enterocyte',\n",
    "                                               'Enterocytes TMIGD1 MEP1A GSTA1': 'Enterocyte',\n",
    "                                               'Stem cells OLFM4': 'Stem cells',\n",
    "                                               'Stem cells OLFM4 LGR5': 'Stem cells',\n",
    "                                               'Stem_Cells_GCA': 'Stem cells',\n",
    "                                               'Stem cells OLFM4 PCNA': 'Stem cells',\n",
    "                                               'Stem_Cells_ext': 'Stem cells',\n",
    "                                               'Stem cells OLFM4 GSTA1': 'Stem cells',\n",
    "                                               'Tuft': 'Tuft cells',\n",
    "                                               'Paneth': 'Paneth cells',\n",
    "                                               'Goblet cells SPINK4': 'Goblet cells',\n",
    "                                               'Goblet cell': 'Goblet cells',\n",
    "                                               'Goblet cells MUC2 TFF1-': 'Goblet cells',\n",
    "                                               'Goblet cells MUC2 TFF1': 'Goblet cells',\n",
    "                                               'BEST2+ Goblet cell': 'Goblet cells',\n",
    "                                               'L cells (PYY+)': 'L cells',\n",
    "                                               'EC cells (TAC1+)': 'Enterochromaffin cells',\n",
    "                                               'EC cells (NPW+)': 'Enterochromaffin cells',\n",
    "                                               'EECs': 'Enteroendocrine cells',\n",
    "                                               'BEST4+ epithelial': 'Enterocytes BEST4'}, inplace=True)"
   ]
  },
  {
   "attachments": {},
   "cell_type": "markdown",
   "metadata": {},
   "source": [
    "### Counts Normalization"
   ]
  },
  {
   "cell_type": "code",
   "execution_count": 33,
   "metadata": {},
   "outputs": [],
   "source": [
    "sc.pp.log1p(Cancer_adata)\n",
    "sc.pp.log1p(healthy_all_counts)"
   ]
  },
  {
   "attachments": {},
   "cell_type": "markdown",
   "metadata": {},
   "source": [
    "### Extract Highly Variable Genes"
   ]
  },
  {
   "cell_type": "code",
   "execution_count": 34,
   "metadata": {},
   "outputs": [],
   "source": [
    "healthy_all_counts.layers['raw_counts'] = healthy_all_counts.X.copy()\n",
    "\n",
    "### HVGs selection\n",
    "# Calculate HVGs for cancer dataset\n",
    "sc.pp.highly_variable_genes(\n",
    "    healthy_all_counts,\n",
    "    flavor = \"seurat_v3\",\n",
    "    n_top_genes = 3000,\n",
    "    layer = \"raw_counts\",\n",
    "    batch_key = \"Library_Preparation_Protocol\",\n",
    "    subset = True,\n",
    "    span = 1\n",
    ")"
   ]
  },
  {
   "cell_type": "code",
   "execution_count": 37,
   "metadata": {},
   "outputs": [
    {
     "ename": "",
     "evalue": "",
     "output_type": "error",
     "traceback": [
      "\u001b[1;31mThe Kernel crashed while executing code in the the current cell or a previous cell. Please review the code in the cell(s) to identify a possible cause of the failure. Click <a href='https://aka.ms/vscodeJupyterKernelCrash'>here</a> for more info. View Jupyter <a href='command:jupyter.viewOutput'>log</a> for further details."
     ]
    }
   ],
   "source": [
    "df = healthy_all_counts.obs['Cell States'].value_counts()"
   ]
  },
  {
   "cell_type": "code",
   "execution_count": 24,
   "metadata": {},
   "outputs": [],
   "source": [
    "Cancer_adata.layers['raw_counts'] = Cancer_adata.X.copy()"
   ]
  },
  {
   "cell_type": "code",
   "execution_count": 25,
   "metadata": {},
   "outputs": [
    {
     "name": "stderr",
     "output_type": "stream",
     "text": [
      "/Users/anna.maguza/miniconda3/envs/scanpy_env/lib/python3.9/site-packages/anndata/utils.py:111: UserWarning: Suffix used (-[0-9]+) to deduplicate index values may make index values difficult to interpret. There values with a similar suffixes in the index. Consider using a different delimiter by passing `join={delimiter}`Example key collisions generated by the make_index_unique algorithm: ['SNORD116-1', 'SNORD116-2', 'SNORD116-3', 'SNORD116-5', 'SNORD116-6']\n",
      "  warnings.warn(\n"
     ]
    }
   ],
   "source": [
    "# Extract same HVGs in the cancer dataset as in the healthy dataset\n",
    "\n",
    "#Make indexes as string\n",
    "Cancer_adata.var.index = Cancer_adata.var.index.astype(str)\n",
    "\n",
    "# Ensure indexes are unique\n",
    "Cancer_adata.var_names_make_unique()\n",
    "\n",
    "# Identify common genes\n",
    "common_genes = list(set(healthy_all_counts.var_names) & set(Cancer_adata.var_names))\n",
    "\n",
    "# Filter genes\n",
    "healthy_all_counts = healthy_all_counts[:, common_genes]\n",
    "Cancer_adata = Cancer_adata[:, common_genes]\n",
    "\n",
    "#Ensure the same order of the genes\n",
    "Cancer_adata = Cancer_adata[:, healthy_all_counts.var_names]"
   ]
  },
  {
   "cell_type": "code",
   "execution_count": 26,
   "metadata": {},
   "outputs": [
    {
     "name": "stderr",
     "output_type": "stream",
     "text": [
      "/Users/anna.maguza/miniconda3/envs/scanpy_env/lib/python3.9/site-packages/anndata/_core/anndata.py:1235: ImplicitModificationWarning: Trying to modify attribute `.obs` of view, initializing view as actual.\n",
      "  df[key] = c\n"
     ]
    }
   ],
   "source": [
    "# Save anndata objects\n",
    "Cancer_adata.write('/Users/anna.maguza/Desktop/Data/Processed_datasets/Cancer_dataset_integration/input_files/Epithelial_cells/Epithelial_Colon_cancer_atlas_normalized_3KA.h5ad')\n",
    "healthy_all_counts.write('/Users/anna.maguza/Desktop/Data/Processed_datasets/Cancer_dataset_integration/input_files/Epithelial_cells/Epithelial_Healthy_anndata_normalized_3K.h5ad')"
   ]
  }
 ],
 "metadata": {
  "kernelspec": {
   "display_name": "scanpy_env",
   "language": "python",
   "name": "python3"
  },
  "language_info": {
   "codemirror_mode": {
    "name": "ipython",
    "version": 3
   },
   "file_extension": ".py",
   "mimetype": "text/x-python",
   "name": "python",
   "nbconvert_exporter": "python",
   "pygments_lexer": "ipython3",
   "version": "3.9.16"
  },
  "orig_nbformat": 4
 },
 "nbformat": 4,
 "nbformat_minor": 2
}
