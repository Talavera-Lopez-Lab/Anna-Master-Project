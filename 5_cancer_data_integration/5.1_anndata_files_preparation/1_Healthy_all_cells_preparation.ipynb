{
 "cells": [
  {
   "attachments": {},
   "cell_type": "markdown",
   "metadata": {},
   "source": [
    "## Notebook for the Healthy reference counts preparation\n",
    "\n",
    "**Developed by**: Anna Maguza  \n",
    "**Institute of Computational Biology - Computational Health Centre - Hemlholtz Munich**  \n",
    "**19 June 2023**  "
   ]
  },
  {
   "cell_type": "markdown",
   "metadata": {},
   "source": [
    "#### Load required packages"
   ]
  },
  {
   "cell_type": "code",
   "execution_count": 1,
   "metadata": {},
   "outputs": [],
   "source": [
    "import numpy as np\n",
    "import pandas as pd\n",
    "import scanpy as sc\n",
    "import anndata as an\n",
    "import matplotlib.pyplot as plt\n",
    "from matplotlib.pyplot import figure\n",
    "import scipy as sci"
   ]
  },
  {
   "cell_type": "code",
   "execution_count": 2,
   "metadata": {},
   "outputs": [],
   "source": [
    "import scrublet"
   ]
  },
  {
   "cell_type": "markdown",
   "metadata": {},
   "source": [
    "#### Setup Cells"
   ]
  },
  {
   "cell_type": "code",
   "execution_count": 3,
   "metadata": {},
   "outputs": [],
   "source": [
    "%matplotlib inline"
   ]
  },
  {
   "cell_type": "code",
   "execution_count": 4,
   "metadata": {},
   "outputs": [
    {
     "name": "stderr",
     "output_type": "stream",
     "text": [
      "/Users/anna.maguza/miniconda3/envs/scanpy_env/lib/python3.9/site-packages/tqdm/auto.py:21: TqdmWarning: IProgress not found. Please update jupyter and ipywidgets. See https://ipywidgets.readthedocs.io/en/stable/user_install.html\n",
      "  from .autonotebook import tqdm as notebook_tqdm\n"
     ]
    },
    {
     "name": "stdout",
     "output_type": "stream",
     "text": [
      "scanpy==1.9.3 anndata==0.8.0 umap==0.5.3 numpy==1.23.5 scipy==1.9.1 pandas==1.3.5 scikit-learn==1.2.2 statsmodels==0.13.5 pynndescent==0.5.8\n"
     ]
    }
   ],
   "source": [
    "sc.settings.verbosity = 3             # verbosity: errors (0), warnings (1), info (2), hints (3)\n",
    "sc.logging.print_header()\n",
    "sc.settings.set_figure_params(dpi=80, facecolor='white')"
   ]
  },
  {
   "cell_type": "code",
   "execution_count": 5,
   "metadata": {},
   "outputs": [],
   "source": [
    "def X_is_raw(adata):\n",
    "    return np.array_equal(adata.X.sum(axis=0).astype(int), adata.X.sum(axis=0))"
   ]
  },
  {
   "attachments": {},
   "cell_type": "markdown",
   "metadata": {},
   "source": [
    "### Prepare GCA part of the object"
   ]
  },
  {
   "cell_type": "code",
   "execution_count": 23,
   "metadata": {},
   "outputs": [
    {
     "data": {
      "text/plain": [
       "True"
      ]
     },
     "execution_count": 23,
     "metadata": {},
     "output_type": "execute_result"
    }
   ],
   "source": [
    "input_path_healthy = '/Users/anna.maguza/Desktop/Data/Processed_datasets/Datasets Integration/Integrated datasets/All_cells_5000_HVGs_scvi_scanvi.h5ad'\n",
    "Healthy_adata = sc.read_h5ad(input_path_healthy)\n",
    "X_is_raw(Healthy_adata)"
   ]
  },
  {
   "cell_type": "code",
   "execution_count": 19,
   "metadata": {},
   "outputs": [
    {
     "data": {
      "text/plain": [
       "True"
      ]
     },
     "execution_count": 19,
     "metadata": {},
     "output_type": "execute_result"
    }
   ],
   "source": [
    "GCA_adata = sc.read('/Users/anna.maguza/Desktop/GCA_social_network/data/raw_anndata/GCA/GCA_raw_anndata.h5ad')\n",
    "X_is_raw(GCA_adata)"
   ]
  },
  {
   "cell_type": "code",
   "execution_count": 24,
   "metadata": {},
   "outputs": [],
   "source": [
    "Healthy_adata = Healthy_adata[Healthy_adata.obs['Study_name'] == 'Gut Cell Atlas']"
   ]
  },
  {
   "cell_type": "code",
   "execution_count": 25,
   "metadata": {},
   "outputs": [],
   "source": [
    "# Delete cells from GCA_adata that are not in Healthy_adata\n",
    "GCA_adata = GCA_adata[GCA_adata.obs.index.isin(Healthy_adata.obs.index)]"
   ]
  },
  {
   "cell_type": "code",
   "execution_count": 26,
   "metadata": {},
   "outputs": [],
   "source": [
    "# Change the order of cells in the Healthy_adata as it is in the GCA_adata\n",
    "assert set(Healthy_adata.obs.index) == set(GCA_adata.obs.index)\n",
    "\n",
    "# Make the cells order the same\n",
    "Healthy_adata = Healthy_adata[GCA_adata.obs_names]"
   ]
  },
  {
   "cell_type": "code",
   "execution_count": 27,
   "metadata": {},
   "outputs": [],
   "source": [
    "# Create a new anndata object with obs from Healthy_adata and var and X from GCA_adata\n",
    "Healthy_GCA_adata = an.AnnData(X=GCA_adata.X, obs=Healthy_adata.obs, var=GCA_adata.var)"
   ]
  },
  {
   "cell_type": "code",
   "execution_count": 28,
   "metadata": {},
   "outputs": [],
   "source": [
    "del Healthy_adata, GCA_adata"
   ]
  },
  {
   "attachments": {},
   "cell_type": "markdown",
   "metadata": {},
   "source": [
    "### Prepare Kong part of the object"
   ]
  },
  {
   "cell_type": "code",
   "execution_count": 9,
   "metadata": {},
   "outputs": [],
   "source": [
    "input_path_healthy = '/Users/anna.maguza/Desktop/Data/Processed_datasets/Datasets Integration/Integrated datasets/All_cells_5000_HVGs_scvi_scanvi.h5ad'\n",
    "Healthy_adata = sc.read_h5ad(input_path_healthy)"
   ]
  },
  {
   "cell_type": "code",
   "execution_count": 10,
   "metadata": {},
   "outputs": [
    {
     "data": {
      "text/plain": [
       "True"
      ]
     },
     "execution_count": 10,
     "metadata": {},
     "output_type": "execute_result"
    }
   ],
   "source": [
    "Kong_adata = sc.read('/Users/anna.maguza/Desktop/GCA_social_network/data/raw_anndata/Kong_2023/Kong_2023_raw_anndata.h5ad')\n",
    "X_is_raw(Kong_adata)"
   ]
  },
  {
   "cell_type": "code",
   "execution_count": 11,
   "metadata": {},
   "outputs": [],
   "source": [
    "Healthy_adata = Healthy_adata[Healthy_adata.obs['Study_name'] == 'Kong 2023']"
   ]
  },
  {
   "cell_type": "code",
   "execution_count": 12,
   "metadata": {},
   "outputs": [],
   "source": [
    "# Delete cells from Kong_adata that are not in Healthy_adata\n",
    "Kong_adata = Kong_adata[Kong_adata.obs.index.isin(Healthy_adata.obs.index)]"
   ]
  },
  {
   "cell_type": "code",
   "execution_count": 13,
   "metadata": {},
   "outputs": [],
   "source": [
    "# Change the order of cells in the Healthy_adata as it is in the GCA_adata\n",
    "assert set(Healthy_adata.obs.index) == set(Kong_adata.obs.index)\n",
    "\n",
    "# Make the cells order the same\n",
    "Healthy_adata = Healthy_adata[Kong_adata.obs_names]"
   ]
  },
  {
   "cell_type": "code",
   "execution_count": 14,
   "metadata": {},
   "outputs": [],
   "source": [
    "# Create a new anndata object with obs from Healthy_adata and var and X from Kong_adata\n",
    "Healthy_Kong_adata = an.AnnData(X=Kong_adata.X, obs=Healthy_adata.obs, var=Kong_adata.var)"
   ]
  },
  {
   "cell_type": "code",
   "execution_count": 15,
   "metadata": {},
   "outputs": [],
   "source": [
    "del Kong_adata, Healthy_adata"
   ]
  },
  {
   "attachments": {},
   "cell_type": "markdown",
   "metadata": {},
   "source": [
    "### Prepare Wang part of the object"
   ]
  },
  {
   "cell_type": "code",
   "execution_count": 35,
   "metadata": {},
   "outputs": [],
   "source": [
    "input_path_healthy = '/Users/anna.maguza/Desktop/Data/Processed_datasets/Datasets Integration/Integrated datasets/All_cells_5000_HVGs_scvi_scanvi.h5ad'\n",
    "Healthy_adata = sc.read_h5ad(input_path_healthy)"
   ]
  },
  {
   "cell_type": "code",
   "execution_count": 36,
   "metadata": {},
   "outputs": [
    {
     "data": {
      "text/plain": [
       "True"
      ]
     },
     "execution_count": 36,
     "metadata": {},
     "output_type": "execute_result"
    }
   ],
   "source": [
    "Wang_adata = sc.read('/Users/anna.maguza/Desktop/GCA_social_network/data/raw_anndata/Wang/Wang_2022_raw_anndata.h5ad')\n",
    "X_is_raw(Wang_adata)"
   ]
  },
  {
   "cell_type": "code",
   "execution_count": 37,
   "metadata": {},
   "outputs": [],
   "source": [
    "Healthy_adata = Healthy_adata[Healthy_adata.obs['Study_name'] == 'Wang']"
   ]
  },
  {
   "cell_type": "code",
   "execution_count": 38,
   "metadata": {},
   "outputs": [],
   "source": [
    "# Delete cells from Wang_adata that are not in Healthy_adata\n",
    "Wang_adata = Wang_adata[Wang_adata.obs.index.isin(Healthy_adata.obs.index)]"
   ]
  },
  {
   "cell_type": "code",
   "execution_count": 39,
   "metadata": {},
   "outputs": [],
   "source": [
    "# Change the order of cells in the Healthy_adata as it is in the GCA_adata\n",
    "assert set(Healthy_adata.obs.index) == set(Wang_adata.obs.index)\n",
    "\n",
    "# Make the cells order the same\n",
    "Healthy_adata = Healthy_adata[Wang_adata.obs_names]"
   ]
  },
  {
   "cell_type": "code",
   "execution_count": 40,
   "metadata": {},
   "outputs": [],
   "source": [
    "# Create a new anndata object with obs from Healthy_adata and var and X from Kong_adata\n",
    "Healthy_Wang_adata = an.AnnData(X=Wang_adata.X, obs=Healthy_adata.obs, var=Wang_adata.var)"
   ]
  },
  {
   "cell_type": "code",
   "execution_count": 41,
   "metadata": {},
   "outputs": [],
   "source": [
    "del Healthy_adata, Wang_adata"
   ]
  },
  {
   "attachments": {},
   "cell_type": "markdown",
   "metadata": {},
   "source": [
    "### Prepare Smillie part of the object"
   ]
  },
  {
   "cell_type": "code",
   "execution_count": 42,
   "metadata": {},
   "outputs": [],
   "source": [
    "input_path_healthy = '/Users/anna.maguza/Desktop/Data/Processed_datasets/Datasets Integration/Integrated datasets/All_cells_5000_HVGs_scvi_scanvi.h5ad'\n",
    "Healthy_adata = sc.read_h5ad(input_path_healthy)"
   ]
  },
  {
   "cell_type": "code",
   "execution_count": 43,
   "metadata": {},
   "outputs": [
    {
     "data": {
      "text/plain": [
       "True"
      ]
     },
     "execution_count": 43,
     "metadata": {},
     "output_type": "execute_result"
    }
   ],
   "source": [
    "Smillie_adata = sc.read('/Users/anna.maguza/Desktop/GCA_social_network/data/raw_anndata/Smillie/Smillie_ulcerative_colitis_anndata.h5ad')\n",
    "X_is_raw(Smillie_adata)"
   ]
  },
  {
   "cell_type": "code",
   "execution_count": 44,
   "metadata": {},
   "outputs": [],
   "source": [
    "Healthy_adata = Healthy_adata[Healthy_adata.obs['Study_name'] == 'Smilie']"
   ]
  },
  {
   "cell_type": "code",
   "execution_count": 45,
   "metadata": {},
   "outputs": [],
   "source": [
    "# Delete cells from Wang_adata that are not in Healthy_adata\n",
    "Smillie_adata = Smillie_adata[Smillie_adata.obs.index.isin(Healthy_adata.obs.index)]"
   ]
  },
  {
   "cell_type": "code",
   "execution_count": 46,
   "metadata": {},
   "outputs": [],
   "source": [
    "# Change the order of cells in the Healthy_adata as it is in the GCA_adata\n",
    "assert set(Healthy_adata.obs.index) == set(Smillie_adata.obs.index)\n",
    "\n",
    "# Make the cells order the same\n",
    "Healthy_adata = Healthy_adata[Smillie_adata.obs_names]"
   ]
  },
  {
   "cell_type": "code",
   "execution_count": 47,
   "metadata": {},
   "outputs": [],
   "source": [
    "# Create a new anndata object with obs from Healthy_adata and var and X from Kong_adata\n",
    "Healthy_Smillie_adata = an.AnnData(X=Smillie_adata.X, obs=Healthy_adata.obs, var=Smillie_adata.var)"
   ]
  },
  {
   "cell_type": "code",
   "execution_count": 48,
   "metadata": {},
   "outputs": [],
   "source": [
    "del Healthy_adata, Smillie_adata"
   ]
  },
  {
   "attachments": {},
   "cell_type": "markdown",
   "metadata": {},
   "source": [
    "### Concatenate 4 datasets"
   ]
  },
  {
   "cell_type": "code",
   "execution_count": 30,
   "metadata": {},
   "outputs": [],
   "source": [
    "# Make index as a second column in GCA_adata.var\n",
    "Healthy_GCA_adata.var['gene_name'] = Healthy_GCA_adata.var.index\n",
    "\n",
    "# Make gene_name as an index in GCA_adata.var\n",
    "Healthy_GCA_adata.var = Healthy_GCA_adata.var.set_index('gene_ids')"
   ]
  },
  {
   "cell_type": "code",
   "execution_count": 32,
   "metadata": {},
   "outputs": [],
   "source": [
    "# Rename index in GCA_adata.var to gene_name\n",
    "Healthy_GCA_adata.var.index.name = 'gene_name'\n",
    "Healthy_Kong_adata.var.index.name = 'gene_name'\n",
    "\n",
    "# Rename index in GCA_adata.obs to cell_id\n",
    "Healthy_GCA_adata.obs.index.name = 'cell_id'\n",
    "Healthy_Kong_adata.obs.index.name = 'cell_id'\n",
    "\n",
    "# Rename GCA_adata.var['gene_ids'] to gene_id\n",
    "Healthy_GCA_adata.var = Healthy_GCA_adata.var.rename(columns={'gene_ids': 'gene_id'})"
   ]
  },
  {
   "cell_type": "code",
   "execution_count": 33,
   "metadata": {},
   "outputs": [
    {
     "name": "stderr",
     "output_type": "stream",
     "text": [
      "/Users/anna.maguza/miniconda3/envs/scanpy_env/lib/python3.9/site-packages/anndata/_core/anndata.py:1785: FutureWarning: X.dtype being converted to np.float32 from float64. In the next version of anndata (0.9) conversion will not be automatic. Pass dtype explicitly to avoid this warning. Pass `AnnData(X, dtype=X.dtype, ...)` to get the future behavour.\n",
      "  [AnnData(sparse.csr_matrix(a.shape), obs=a.obs) for a in all_adatas],\n"
     ]
    }
   ],
   "source": [
    "# Merge all datasets\n",
    "adata = Healthy_GCA_adata.concatenate(Healthy_Kong_adata, index_unique = None)"
   ]
  },
  {
   "cell_type": "code",
   "execution_count": 51,
   "metadata": {},
   "outputs": [
    {
     "data": {
      "text/html": [
       "<div>\n",
       "<style scoped>\n",
       "    .dataframe tbody tr th:only-of-type {\n",
       "        vertical-align: middle;\n",
       "    }\n",
       "\n",
       "    .dataframe tbody tr th {\n",
       "        vertical-align: top;\n",
       "    }\n",
       "\n",
       "    .dataframe thead th {\n",
       "        text-align: right;\n",
       "    }\n",
       "</style>\n",
       "<table border=\"1\" class=\"dataframe\">\n",
       "  <thead>\n",
       "    <tr style=\"text-align: right;\">\n",
       "      <th></th>\n",
       "      <th>feature_types-0</th>\n",
       "      <th>gene_name-1</th>\n",
       "      <th>gene_id</th>\n",
       "    </tr>\n",
       "    <tr>\n",
       "      <th>gene_name</th>\n",
       "      <th></th>\n",
       "      <th></th>\n",
       "      <th></th>\n",
       "    </tr>\n",
       "  </thead>\n",
       "  <tbody>\n",
       "    <tr>\n",
       "      <th>AL627309.1</th>\n",
       "      <td>Gene Expression</td>\n",
       "      <td>RP11-34P13.7</td>\n",
       "      <td>ENSG00000238009</td>\n",
       "    </tr>\n",
       "    <tr>\n",
       "      <th>AL627309.3</th>\n",
       "      <td>Gene Expression</td>\n",
       "      <td>RP11-34P13.8</td>\n",
       "      <td>ENSG00000239945</td>\n",
       "    </tr>\n",
       "    <tr>\n",
       "      <th>AL627309.4</th>\n",
       "      <td>Gene Expression</td>\n",
       "      <td>RP11-34P13.9</td>\n",
       "      <td>ENSG00000241599</td>\n",
       "    </tr>\n",
       "    <tr>\n",
       "      <th>AL732372.1</th>\n",
       "      <td>Gene Expression</td>\n",
       "      <td>RP4-669L17.2</td>\n",
       "      <td>ENSG00000236601</td>\n",
       "    </tr>\n",
       "    <tr>\n",
       "      <th>AC114498.1</th>\n",
       "      <td>Gene Expression</td>\n",
       "      <td>RP5-857K21.2</td>\n",
       "      <td>ENSG00000235146</td>\n",
       "    </tr>\n",
       "    <tr>\n",
       "      <th>...</th>\n",
       "      <td>...</td>\n",
       "      <td>...</td>\n",
       "      <td>...</td>\n",
       "    </tr>\n",
       "    <tr>\n",
       "      <th>MT-ND4L</th>\n",
       "      <td>Gene Expression</td>\n",
       "      <td>MT-ND4L</td>\n",
       "      <td>ENSG00000212907</td>\n",
       "    </tr>\n",
       "    <tr>\n",
       "      <th>MT-ND4</th>\n",
       "      <td>Gene Expression</td>\n",
       "      <td>MT-ND4</td>\n",
       "      <td>ENSG00000198886</td>\n",
       "    </tr>\n",
       "    <tr>\n",
       "      <th>MT-ND5</th>\n",
       "      <td>Gene Expression</td>\n",
       "      <td>MT-ND5</td>\n",
       "      <td>ENSG00000198786</td>\n",
       "    </tr>\n",
       "    <tr>\n",
       "      <th>MT-ND6</th>\n",
       "      <td>Gene Expression</td>\n",
       "      <td>MT-ND6</td>\n",
       "      <td>ENSG00000198695</td>\n",
       "    </tr>\n",
       "    <tr>\n",
       "      <th>MT-CYB</th>\n",
       "      <td>Gene Expression</td>\n",
       "      <td>MT-CYB</td>\n",
       "      <td>ENSG00000198727</td>\n",
       "    </tr>\n",
       "  </tbody>\n",
       "</table>\n",
       "<p>26442 rows × 3 columns</p>\n",
       "</div>"
      ],
      "text/plain": [
       "            feature_types-0   gene_name-1          gene_id\n",
       "gene_name                                                 \n",
       "AL627309.1  Gene Expression  RP11-34P13.7  ENSG00000238009\n",
       "AL627309.3  Gene Expression  RP11-34P13.8  ENSG00000239945\n",
       "AL627309.4  Gene Expression  RP11-34P13.9  ENSG00000241599\n",
       "AL732372.1  Gene Expression  RP4-669L17.2  ENSG00000236601\n",
       "AC114498.1  Gene Expression  RP5-857K21.2  ENSG00000235146\n",
       "...                     ...           ...              ...\n",
       "MT-ND4L     Gene Expression       MT-ND4L  ENSG00000212907\n",
       "MT-ND4      Gene Expression        MT-ND4  ENSG00000198886\n",
       "MT-ND5      Gene Expression        MT-ND5  ENSG00000198786\n",
       "MT-ND6      Gene Expression        MT-ND6  ENSG00000198695\n",
       "MT-CYB      Gene Expression        MT-CYB  ENSG00000198727\n",
       "\n",
       "[26442 rows x 3 columns]"
      ]
     },
     "execution_count": 51,
     "metadata": {},
     "output_type": "execute_result"
    }
   ],
   "source": [
    "adata.var"
   ]
  },
  {
   "cell_type": "code",
   "execution_count": 50,
   "metadata": {},
   "outputs": [],
   "source": [
    "# Make index as a second column in Kong_adata.var\n",
    "adata.var['gene_id'] = adata.var.index\n",
    "\n",
    "# Make gene_name as an index in Kong_adata.var\n",
    "adata.var = adata.var.set_index('gene_name-0')\n",
    "\n",
    "adata.var.index.name = 'gene_name'"
   ]
  },
  {
   "cell_type": "code",
   "execution_count": 52,
   "metadata": {},
   "outputs": [],
   "source": [
    "# Rename indexes in Healthy_Smillie_adata and Healthy_Wang_adata\n",
    "Healthy_Smillie_adata.var.index.name = 'gene_name'\n",
    "Healthy_Wang_adata.var.index.name = 'gene_name'\n",
    "\n",
    "# RRename indexes in Healthy_Smillie_adata and Healthy_Wang_adata\n",
    "Healthy_Smillie_adata.obs.index.name = 'cell_id'\n",
    "Healthy_Wang_adata.obs.index.name = 'cell_id'"
   ]
  },
  {
   "cell_type": "code",
   "execution_count": 53,
   "metadata": {},
   "outputs": [],
   "source": [
    "# Delete genes from Healthy_Wang_adata that are not in adata\n",
    "common_genes = Healthy_Wang_adata.var_names.isin(adata.var_names)\n",
    "Healthy_Wang_adata = Healthy_Wang_adata[:, common_genes]\n",
    "\n",
    "common_genes = Healthy_Smillie_adata.var_names.isin(adata.var_names)\n",
    "Healthy_Smillie_adata = Healthy_Smillie_adata[:, common_genes]"
   ]
  },
  {
   "cell_type": "code",
   "execution_count": 54,
   "metadata": {},
   "outputs": [
    {
     "name": "stderr",
     "output_type": "stream",
     "text": [
      "/Users/anna.maguza/miniconda3/envs/scanpy_env/lib/python3.9/site-packages/anndata/_core/anndata.py:1785: FutureWarning: X.dtype being converted to np.float32 from float64. In the next version of anndata (0.9) conversion will not be automatic. Pass dtype explicitly to avoid this warning. Pass `AnnData(X, dtype=X.dtype, ...)` to get the future behavour.\n",
      "  [AnnData(sparse.csr_matrix(a.shape), obs=a.obs) for a in all_adatas],\n"
     ]
    }
   ],
   "source": [
    "adata = adata.concatenate(Healthy_Wang_adata, index_unique = None, join = 'outer')\n",
    "adata = adata.concatenate(Healthy_Smillie_adata, index_unique = None, join = 'outer')"
   ]
  },
  {
   "cell_type": "code",
   "execution_count": 55,
   "metadata": {},
   "outputs": [
    {
     "data": {
      "text/html": [
       "<div>\n",
       "<style scoped>\n",
       "    .dataframe tbody tr th:only-of-type {\n",
       "        vertical-align: middle;\n",
       "    }\n",
       "\n",
       "    .dataframe tbody tr th {\n",
       "        vertical-align: top;\n",
       "    }\n",
       "\n",
       "    .dataframe thead th {\n",
       "        text-align: right;\n",
       "    }\n",
       "</style>\n",
       "<table border=\"1\" class=\"dataframe\">\n",
       "  <thead>\n",
       "    <tr style=\"text-align: right;\">\n",
       "      <th></th>\n",
       "      <th>feature_types-0-0-0</th>\n",
       "      <th>gene_name-1-0-0</th>\n",
       "      <th>gene_id-0-0</th>\n",
       "      <th>GENE-1-0</th>\n",
       "    </tr>\n",
       "    <tr>\n",
       "      <th>gene_name</th>\n",
       "      <th></th>\n",
       "      <th></th>\n",
       "      <th></th>\n",
       "      <th></th>\n",
       "    </tr>\n",
       "  </thead>\n",
       "  <tbody>\n",
       "    <tr>\n",
       "      <th>A1BG</th>\n",
       "      <td>Gene Expression</td>\n",
       "      <td>A1BG</td>\n",
       "      <td>ENSG00000121410</td>\n",
       "      <td>A1BG</td>\n",
       "    </tr>\n",
       "    <tr>\n",
       "      <th>A1BG-AS1</th>\n",
       "      <td>Gene Expression</td>\n",
       "      <td>A1BG-AS1</td>\n",
       "      <td>ENSG00000268895</td>\n",
       "      <td>A1BG-AS1</td>\n",
       "    </tr>\n",
       "    <tr>\n",
       "      <th>A1CF</th>\n",
       "      <td>Gene Expression</td>\n",
       "      <td>A1CF</td>\n",
       "      <td>ENSG00000148584</td>\n",
       "      <td>A1CF</td>\n",
       "    </tr>\n",
       "    <tr>\n",
       "      <th>A2M</th>\n",
       "      <td>Gene Expression</td>\n",
       "      <td>A2M</td>\n",
       "      <td>ENSG00000175899</td>\n",
       "      <td>A2M</td>\n",
       "    </tr>\n",
       "    <tr>\n",
       "      <th>A2M-AS1</th>\n",
       "      <td>Gene Expression</td>\n",
       "      <td>A2M-AS1</td>\n",
       "      <td>ENSG00000245105</td>\n",
       "      <td>A2M-AS1</td>\n",
       "    </tr>\n",
       "    <tr>\n",
       "      <th>...</th>\n",
       "      <td>...</td>\n",
       "      <td>...</td>\n",
       "      <td>...</td>\n",
       "      <td>...</td>\n",
       "    </tr>\n",
       "    <tr>\n",
       "      <th>ZXDC</th>\n",
       "      <td>Gene Expression</td>\n",
       "      <td>ZXDC</td>\n",
       "      <td>ENSG00000070476</td>\n",
       "      <td>ZXDC</td>\n",
       "    </tr>\n",
       "    <tr>\n",
       "      <th>ZYG11A</th>\n",
       "      <td>Gene Expression</td>\n",
       "      <td>ZYG11A</td>\n",
       "      <td>ENSG00000203995</td>\n",
       "      <td>ZYG11A</td>\n",
       "    </tr>\n",
       "    <tr>\n",
       "      <th>ZYG11B</th>\n",
       "      <td>Gene Expression</td>\n",
       "      <td>ZYG11B</td>\n",
       "      <td>ENSG00000162378</td>\n",
       "      <td>ZYG11B</td>\n",
       "    </tr>\n",
       "    <tr>\n",
       "      <th>ZYX</th>\n",
       "      <td>Gene Expression</td>\n",
       "      <td>ZYX</td>\n",
       "      <td>ENSG00000159840</td>\n",
       "      <td>ZYX</td>\n",
       "    </tr>\n",
       "    <tr>\n",
       "      <th>ZZEF1</th>\n",
       "      <td>Gene Expression</td>\n",
       "      <td>ZZEF1</td>\n",
       "      <td>ENSG00000074755</td>\n",
       "      <td>ZZEF1</td>\n",
       "    </tr>\n",
       "  </tbody>\n",
       "</table>\n",
       "<p>26442 rows × 4 columns</p>\n",
       "</div>"
      ],
      "text/plain": [
       "          feature_types-0-0-0 gene_name-1-0-0      gene_id-0-0  GENE-1-0\n",
       "gene_name                                                               \n",
       "A1BG          Gene Expression            A1BG  ENSG00000121410      A1BG\n",
       "A1BG-AS1      Gene Expression        A1BG-AS1  ENSG00000268895  A1BG-AS1\n",
       "A1CF          Gene Expression            A1CF  ENSG00000148584      A1CF\n",
       "A2M           Gene Expression             A2M  ENSG00000175899       A2M\n",
       "A2M-AS1       Gene Expression         A2M-AS1  ENSG00000245105   A2M-AS1\n",
       "...                       ...             ...              ...       ...\n",
       "ZXDC          Gene Expression            ZXDC  ENSG00000070476      ZXDC\n",
       "ZYG11A        Gene Expression          ZYG11A  ENSG00000203995    ZYG11A\n",
       "ZYG11B        Gene Expression          ZYG11B  ENSG00000162378    ZYG11B\n",
       "ZYX           Gene Expression             ZYX  ENSG00000159840       ZYX\n",
       "ZZEF1         Gene Expression           ZZEF1  ENSG00000074755     ZZEF1\n",
       "\n",
       "[26442 rows x 4 columns]"
      ]
     },
     "execution_count": 55,
     "metadata": {},
     "output_type": "execute_result"
    }
   ],
   "source": [
    "adata.var"
   ]
  },
  {
   "cell_type": "code",
   "execution_count": 56,
   "metadata": {},
   "outputs": [
    {
     "ename": "",
     "evalue": "",
     "output_type": "error",
     "traceback": [
      "\u001b[1;31mThe Kernel crashed while executing code in the the current cell or a previous cell. Please review the code in the cell(s) to identify a possible cause of the failure. Click <a href='https://aka.ms/vscodeJupyterKernelCrash'>here</a> for more info. View Jupyter <a href='command:jupyter.viewOutput'>log</a> for further details."
     ]
    }
   ],
   "source": [
    "#Write the anndata object to h5ad file\n",
    "adata.write_h5ad('/Users/anna.maguza/Desktop/Data/Processed_datasets/Cancer_dataset_integration/input_files/all_cells/Healthy_integrated_data_all_genes.h5ad')"
   ]
  }
 ],
 "metadata": {
  "kernelspec": {
   "display_name": "scanpy_env",
   "language": "python",
   "name": "python3"
  },
  "language_info": {
   "codemirror_mode": {
    "name": "ipython",
    "version": 3
   },
   "file_extension": ".py",
   "mimetype": "text/x-python",
   "name": "python",
   "nbconvert_exporter": "python",
   "pygments_lexer": "ipython3",
   "version": "3.9.16"
  },
  "orig_nbformat": 4
 },
 "nbformat": 4,
 "nbformat_minor": 2
}
