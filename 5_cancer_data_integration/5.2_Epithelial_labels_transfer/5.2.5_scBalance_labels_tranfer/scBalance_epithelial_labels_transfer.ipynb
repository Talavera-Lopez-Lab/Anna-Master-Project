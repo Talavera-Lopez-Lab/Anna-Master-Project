{
 "cells": [
  {
   "attachments": {},
   "cell_type": "markdown",
   "metadata": {},
   "source": [
    "## Notebook for transferring labels from Healthy epithelial reference to cancer cells using `scBalance`\n",
    "\n",
    "- **Developed by**: Anna Maguza\n",
    "- **Institute of Computational Biology - Computational Health Centre - Helmholtz Munich**\n",
    "- 8th June 2023"
   ]
  },
  {
   "cell_type": "markdown",
   "metadata": {},
   "source": [
    "### Load required modules"
   ]
  },
  {
   "cell_type": "code",
   "execution_count": 1,
   "metadata": {},
   "outputs": [],
   "source": [
    "import scBalance as sb\n",
    "import scBalance.scbalance_IO as ss\n",
    "import scanpy as sc\n",
    "import pandas as pd\n",
    "import numpy as np"
   ]
  },
  {
   "attachments": {},
   "cell_type": "markdown",
   "metadata": {},
   "source": [
    "### Data upload"
   ]
  },
  {
   "cell_type": "code",
   "execution_count": 105,
   "metadata": {},
   "outputs": [],
   "source": [
    "input_healthy = '/Users/anna.maguza/Desktop/Data/Processed_datasets/Cancer_dataset_integration/input_files/Epithelial_cells/Healthy_epithelial_cells_all_genes.h5ad'\n",
    "Healthy_adata = sc.read(input_healthy)"
   ]
  },
  {
   "cell_type": "code",
   "execution_count": 106,
   "metadata": {},
   "outputs": [],
   "source": [
    "input_cancer = '/Users/anna.maguza/Desktop/Data/Gut_project/Joanito_cancer/anndata/Joanito_raw_anndata_tumor_cells.h5ad'\n",
    "Cancer_adata = sc.read(input_cancer)"
   ]
  },
  {
   "cell_type": "code",
   "execution_count": 107,
   "metadata": {},
   "outputs": [],
   "source": [
    "# Filter epithelial cells\n",
    "Cancer_adata = Cancer_adata[Cancer_adata.obs['Cell Type'] == 'Epithelial',:]"
   ]
  },
  {
   "cell_type": "code",
   "execution_count": 108,
   "metadata": {},
   "outputs": [],
   "source": [
    "# Remove Paneth cells from healthy epithelial cells\n",
    "#Healthy_adata = Healthy_adata[Healthy_adata.obs['Unified Cell States'] != 'Paneth cells',:]"
   ]
  },
  {
   "attachments": {},
   "cell_type": "markdown",
   "metadata": {},
   "source": [
    "### Preprocess"
   ]
  },
  {
   "cell_type": "code",
   "execution_count": 109,
   "metadata": {},
   "outputs": [],
   "source": [
    "Healthy_adata.layers['counts'] = Healthy_adata.X.copy()\n",
    "\n",
    "### HVGs selection\n",
    "# Calculate HVGs for cancer dataset\n",
    "sc.pp.highly_variable_genes(\n",
    "    Healthy_adata,\n",
    "    flavor = \"seurat_v3\",\n",
    "    n_top_genes = 7000,\n",
    "    layer = \"counts\",\n",
    "    batch_key = \"Library_Preparation_Protocol\",\n",
    "    subset = True,\n",
    "    span = 1\n",
    ")"
   ]
  },
  {
   "cell_type": "code",
   "execution_count": 110,
   "metadata": {},
   "outputs": [],
   "source": [
    "Cancer_adata.layers['counts'] = Cancer_adata.X.copy()\n",
    "\n",
    "# Extract same HVGs in the cancer dataset as in the healthy dataset\n",
    "\n",
    "#Make indexes as string\n",
    "Cancer_adata.var.index = Cancer_adata.var.index.astype(str)\n",
    "\n",
    "# Ensure indexes are unique\n",
    "Cancer_adata.var_names_make_unique()\n",
    "\n",
    "# Identify common genes\n",
    "common_genes = list(set(Healthy_adata.var_names) & set(Cancer_adata.var_names))\n",
    "\n",
    "# Filter genes\n",
    "Healthy_adata = Healthy_adata[:, common_genes]\n",
    "Cancer_adata = Cancer_adata[:, common_genes]\n",
    "\n",
    "#Ensure the same order of the genes\n",
    "Cancer_adata = Cancer_adata[:, Healthy_adata.var_names]"
   ]
  },
  {
   "cell_type": "code",
   "execution_count": 111,
   "metadata": {},
   "outputs": [
    {
     "name": "stderr",
     "output_type": "stream",
     "text": [
      "/Users/anna.maguza/miniconda3/envs/scBalance_env/lib/python3.9/site-packages/scanpy/preprocessing/_normalization.py:170: UserWarning: Received a view of an AnnData. Making a copy.\n",
      "  view_to_actual(adata)\n"
     ]
    }
   ],
   "source": [
    "sc.pp.normalize_total(Healthy_adata, target_sum=1e4)\n",
    "sc.pp.log1p(Healthy_adata)\n",
    "\n",
    "sc.pp.normalize_total(Cancer_adata, target_sum=1e4)\n",
    "sc.pp.log1p(Cancer_adata)"
   ]
  },
  {
   "cell_type": "code",
   "execution_count": 112,
   "metadata": {},
   "outputs": [
    {
     "name": "stderr",
     "output_type": "stream",
     "text": [
      "/var/folders/gb/wwnzrh015q9dns5cmsc3xcjsxglkqz/T/ipykernel_28553/3660271860.py:1: FutureWarning: Index.__and__ operating as a set operation is deprecated, in the future this will be a logical operation matching Series.__and__.  Use index.intersection(other) instead\n",
      "  gene = Healthy_adata.var_names & Cancer_adata.var_names\n"
     ]
    }
   ],
   "source": [
    "gene = Healthy_adata.var_names & Cancer_adata.var_names"
   ]
  },
  {
   "cell_type": "code",
   "execution_count": 113,
   "metadata": {},
   "outputs": [],
   "source": [
    "X_train = Healthy_adata.to_df()[gene]\n",
    "X_test = Cancer_adata.to_df()[gene]"
   ]
  },
  {
   "cell_type": "code",
   "execution_count": 114,
   "metadata": {},
   "outputs": [],
   "source": [
    "y_train = pd.DataFrame(Healthy_adata.obs['Unified Cell States'])\n",
    "\n",
    "# Rename 'Unified Cell States' column in the dataframe to 'Label' to be consistent with the scBalance input\n",
    "y_train = y_train.rename(columns={'Unified Cell States': 'Label'})"
   ]
  },
  {
   "cell_type": "code",
   "execution_count": 115,
   "metadata": {},
   "outputs": [],
   "source": [
    "# Convert y_train to category and store the categories\n",
    "y_train['Label'] = y_train['Label'].astype('category')\n",
    "categories = y_train['Label'].cat.categories\n",
    "\n",
    "# Convert to integer codes\n",
    "y_train_values = y_train['Label'].cat.codes.values\n",
    "\n",
    "# then, convert it back to DataFrame for sb.scBalance()\n",
    "y_train = pd.DataFrame(y_train_values, columns=['Label'])"
   ]
  },
  {
   "cell_type": "code",
   "execution_count": 116,
   "metadata": {},
   "outputs": [
    {
     "name": "stdout",
     "output_type": "stream",
     "text": [
      "--------Start annotating----------\n",
      "Computational unit be used is: cpu\n",
      "100%[====================->]143.39s\n",
      "--------Annotation Finished----------\n"
     ]
    }
   ],
   "source": [
    "pred_result = sb.scBalance(X_test, X_train, y_train, processing_unit = 'cpu', weighted_sampling = True)"
   ]
  },
  {
   "cell_type": "code",
   "execution_count": 117,
   "metadata": {},
   "outputs": [],
   "source": [
    "# Create a DataFrame from the prediction result\n",
    "pred_result_df = pd.DataFrame(pred_result, columns=['Label'])\n",
    "\n",
    "# Map integers back to original labels using categories\n",
    "pred_result_df['Label'] = categories[pred_result_df['Label']]"
   ]
  },
  {
   "cell_type": "code",
   "execution_count": 118,
   "metadata": {},
   "outputs": [],
   "source": [
    "# Convert dataframe to numpy array\n",
    "pred_result_array = pred_result_df['Label'].values\n",
    "\n",
    "# Assign the numpy array to the 'Predicted Label' column in your AnnData object\n",
    "Cancer_adata.obs['Predicted Label'] = pred_result_array"
   ]
  },
  {
   "cell_type": "code",
   "execution_count": 119,
   "metadata": {},
   "outputs": [
    {
     "data": {
      "text/plain": [
       "TA                        34035\n",
       "Enterocyte                  698\n",
       "Tuft cells                  332\n",
       "Epithelial cells            306\n",
       "Colonocyte                  290\n",
       "Enteroendocrine cells        35\n",
       "L cells                       7\n",
       "Microfold cell                6\n",
       "Enterochromaffin cells        3\n",
       "Stem cells                    2\n",
       "Name: Predicted Label, dtype: int64"
      ]
     },
     "execution_count": 119,
     "metadata": {},
     "output_type": "execute_result"
    }
   ],
   "source": [
    "Cancer_adata.obs['Predicted Label'].value_counts()"
   ]
  },
  {
   "cell_type": "code",
   "execution_count": 120,
   "metadata": {},
   "outputs": [],
   "source": [
    "# Save the output\n",
    "Cancer_adata.write('/Users/anna.maguza/Desktop/Data/Processed_datasets/Cancer_dataset_integration/output/Epithelial/Joanito_predicted_labels_with_scBalance_3000HVGs_no_Paneth.h5ad')"
   ]
  },
  {
   "cell_type": "code",
   "execution_count": 131,
   "metadata": {},
   "outputs": [],
   "source": [
    "# Save the output\n",
    "input = '/Users/anna.maguza/Desktop/Data/Processed_datasets/Cancer_dataset_integration/output/Epithelial/Joanito_predicted_labels_with_scBalance_2000HVGs.h5ad'\n",
    "adata = sc.read(input)"
   ]
  },
  {
   "cell_type": "code",
   "execution_count": 132,
   "metadata": {},
   "outputs": [
    {
     "data": {
      "text/plain": [
       "Paneth cells              20805\n",
       "Enterocyte                14489\n",
       "Tuft cells                  179\n",
       "Epithelial cells            109\n",
       "Enteroendocrine cells       107\n",
       "L cells                       9\n",
       "TA                            7\n",
       "Microfold cell                4\n",
       "Enterochromaffin cells        3\n",
       "Stem cells                    2\n",
       "Name: Predicted Label, dtype: int64"
      ]
     },
     "execution_count": 132,
     "metadata": {},
     "output_type": "execute_result"
    }
   ],
   "source": [
    "adata.obs['Predicted Label'].value_counts()"
   ]
  }
 ],
 "metadata": {
  "kernelspec": {
   "display_name": "scBalance_env",
   "language": "python",
   "name": "python3"
  },
  "language_info": {
   "codemirror_mode": {
    "name": "ipython",
    "version": 3
   },
   "file_extension": ".py",
   "mimetype": "text/x-python",
   "name": "python",
   "nbconvert_exporter": "python",
   "pygments_lexer": "ipython3",
   "version": "3.9.16"
  },
  "orig_nbformat": 4
 },
 "nbformat": 4,
 "nbformat_minor": 2
}
