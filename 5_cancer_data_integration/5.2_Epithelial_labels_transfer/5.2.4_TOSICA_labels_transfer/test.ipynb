{
 "cells": [
  {
   "cell_type": "code",
   "execution_count": 1,
   "metadata": {},
   "outputs": [],
   "source": [
    "import TOSICA\n",
    "import scanpy as sc\n",
    "import numpy as np\n",
    "import warnings \n",
    "warnings.filterwarnings (\"ignore\")\n",
    "import pandas as pd\n",
    "import os\n"
   ]
  },
  {
   "cell_type": "code",
   "execution_count": 2,
   "metadata": {},
   "outputs": [
    {
     "name": "stdout",
     "output_type": "stream",
     "text": [
      "2.0.1\n"
     ]
    }
   ],
   "source": [
    "import torch\n",
    "print(torch.__version__)"
   ]
  },
  {
   "cell_type": "code",
   "execution_count": 3,
   "metadata": {},
   "outputs": [
    {
     "name": "stdout",
     "output_type": "stream",
     "text": [
      "View of AnnData object with n_obs × n_vars = 10600 × 3000\n",
      "    obs: 'Celltype'\n",
      "    var: 'Gene Symbol'\n",
      "Celltype\n",
      "alpha          3136\n",
      "beta           2966\n",
      "ductal         1290\n",
      "acinar         1144\n",
      "delta           793\n",
      "PSC             524\n",
      "PP              356\n",
      "endothelial     273\n",
      "macrophage       52\n",
      "mast             25\n",
      "epsilon          21\n",
      "schwann          13\n",
      "t_cell            7\n",
      "Name: count, dtype: int64\n"
     ]
    }
   ],
   "source": [
    "ref_adata = sc.read('/Users/anna.maguza/Downloads/demo_train.h5ad')\n",
    "ref_adata = ref_adata[:,ref_adata.var_names]\n",
    "print(ref_adata)\n",
    "print(ref_adata.obs.Celltype.value_counts())"
   ]
  },
  {
   "cell_type": "code",
   "execution_count": 4,
   "metadata": {},
   "outputs": [
    {
     "name": "stdout",
     "output_type": "stream",
     "text": [
      "View of AnnData object with n_obs × n_vars = 4218 × 3000\n",
      "    obs: 'Celltype'\n",
      "    var: 'Gene Symbol'\n",
      "Celltype\n",
      "alpha           2011\n",
      "beta            1006\n",
      "ductal           414\n",
      "PP               282\n",
      "acinar           209\n",
      "delta            188\n",
      "PSC               73\n",
      "endothelial       16\n",
      "epsilon            7\n",
      "mast               7\n",
      "MHC class II       5\n",
      "Name: count, dtype: int64\n"
     ]
    }
   ],
   "source": [
    "query_adata = sc.read('/Users/anna.maguza/Downloads/demo_test.h5ad')\n",
    "query_adata = query_adata[:,ref_adata.var_names]\n",
    "print(query_adata)\n",
    "print(query_adata.obs.Celltype.value_counts())"
   ]
  },
  {
   "cell_type": "code",
   "execution_count": 6,
   "metadata": {},
   "outputs": [
    {
     "name": "stdout",
     "output_type": "stream",
     "text": [
      "cpu\n",
      "Mask loaded!\n",
      "Model builded!\n"
     ]
    },
    {
     "name": "stderr",
     "output_type": "stream",
     "text": [
      "[train epoch 0] loss: 2.578, acc: 0.077:   9%|▊         | 312/3567 [01:07<11:37,  4.67it/s]"
     ]
    },
    {
     "ename": "",
     "evalue": "",
     "output_type": "error",
     "traceback": [
      "\u001b[1;31mCanceled future for execute_request message before replies were done"
     ]
    },
    {
     "ename": "",
     "evalue": "",
     "output_type": "error",
     "traceback": [
      "\u001b[1;31mThe Kernel crashed while executing code in the the current cell or a previous cell. Please review the code in the cell(s) to identify a possible cause of the failure. Click <a href='https://aka.ms/vscodeJupyterKernelCrash'>here</a> for more info. View Jupyter <a href='command:jupyter.viewOutput'>log</a> for further details."
     ]
    }
   ],
   "source": [
    "TOSICA.train(ref_adata, gmt_path='human_gobp', label_name='Celltype',epochs=1,project='hGOBP_demo')\n",
    "!ls ./hGOBP_demo"
   ]
  },
  {
   "cell_type": "code",
   "execution_count": null,
   "metadata": {},
   "outputs": [],
   "source": [
    "model_weight_path = './hGOBP_demo/model-0.pth'\n",
    "new_adata = TOSICA.pre(query_adata, model_weight_path = model_weight_path,project='hGOBP_demo')"
   ]
  }
 ],
 "metadata": {
  "kernelspec": {
   "display_name": "TOSICA",
   "language": "python",
   "name": "python3"
  },
  "language_info": {
   "codemirror_mode": {
    "name": "ipython",
    "version": 3
   },
   "file_extension": ".py",
   "mimetype": "text/x-python",
   "name": "python",
   "nbconvert_exporter": "python",
   "pygments_lexer": "ipython3",
   "version": "3.8.16"
  },
  "orig_nbformat": 4
 },
 "nbformat": 4,
 "nbformat_minor": 2
}
