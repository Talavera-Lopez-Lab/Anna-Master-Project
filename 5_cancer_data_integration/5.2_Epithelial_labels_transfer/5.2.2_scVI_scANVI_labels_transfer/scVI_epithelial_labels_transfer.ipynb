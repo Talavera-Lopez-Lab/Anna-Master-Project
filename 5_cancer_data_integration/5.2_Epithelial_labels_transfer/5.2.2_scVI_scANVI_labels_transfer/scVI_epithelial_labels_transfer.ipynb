{
 "cells": [
  {
   "attachments": {},
   "cell_type": "markdown",
   "metadata": {},
   "source": [
    "## Notebook for transferring labels from Healthy reference to cencer cells using `scVI` and `SCANVi`\n",
    "\n",
    "- **Developed by**: Anna Maguza\n",
    "- **Institute of Computational Biology - Computational Health Centre - Helmholtz Munich**\n",
    "- 24th May 2023"
   ]
  },
  {
   "cell_type": "markdown",
   "metadata": {},
   "source": [
    "### Load required modules"
   ]
  },
  {
   "cell_type": "code",
   "execution_count": 29,
   "metadata": {},
   "outputs": [],
   "source": [
    "import sys\n",
    "import scvi\n",
    "import torch\n",
    "import anndata\n",
    "import matplotlib\n",
    "import matplotlib.pyplot as plt\n",
    "from matplotlib.colors import LinearSegmentedColormap\n",
    "import seaborn as sns\n",
    "\n",
    "import numpy as np\n",
    "import scipy as sp\n",
    "import pandas as pd\n",
    "import scanpy as sc\n",
    "import numpy.random as random\n",
    "\n",
    "\n",
    "from umap import UMAP\n",
    "import warnings; warnings.simplefilter('ignore')\n",
    "\n",
    "import matplotlib.pyplot as plt"
   ]
  },
  {
   "cell_type": "code",
   "execution_count": 30,
   "metadata": {},
   "outputs": [],
   "source": [
    "%matplotlib inline\n",
    "matplotlib.rcParams[\"pdf.fonttype\"] = 42\n",
    "matplotlib.rcParams[\"ps.fonttype\"] = 42"
   ]
  },
  {
   "cell_type": "code",
   "execution_count": 31,
   "metadata": {},
   "outputs": [
    {
     "data": {
      "text/plain": [
       "False"
      ]
     },
     "execution_count": 31,
     "metadata": {},
     "output_type": "execute_result"
    }
   ],
   "source": [
    "torch.cuda.is_available()"
   ]
  },
  {
   "cell_type": "code",
   "execution_count": 32,
   "metadata": {},
   "outputs": [],
   "source": [
    "torch.set_float32_matmul_precision('medium')"
   ]
  },
  {
   "cell_type": "code",
   "execution_count": 33,
   "metadata": {},
   "outputs": [
    {
     "name": "stdout",
     "output_type": "stream",
     "text": [
      "-----\n",
      "anndata     0.8.0\n",
      "scanpy      1.9.3\n",
      "-----\n",
      "PIL                         9.4.0\n",
      "absl                        NA\n",
      "appnope                     0.1.2\n",
      "asttokens                   NA\n",
      "attr                        22.2.0\n",
      "backcall                    0.2.0\n",
      "beta_ufunc                  NA\n",
      "binom_ufunc                 NA\n",
      "brotli                      NA\n",
      "certifi                     2022.12.07\n",
      "cffi                        1.15.1\n",
      "charset_normalizer          2.1.1\n",
      "chex                        0.1.6\n",
      "colorama                    0.4.6\n",
      "comm                        0.1.2\n",
      "contextlib2                 NA\n",
      "cycler                      0.10.0\n",
      "cython_runtime              NA\n",
      "dateutil                    2.8.2\n",
      "debugpy                     1.5.1\n",
      "decorator                   5.1.1\n",
      "defusedxml                  0.7.1\n",
      "docrep                      0.3.2\n",
      "entrypoints                 0.4\n",
      "executing                   0.8.3\n",
      "flax                        0.6.1\n",
      "fsspec                      2023.3.0\n",
      "h5py                        3.8.0\n",
      "hypergeom_ufunc             NA\n",
      "idna                        3.4\n",
      "importlib_resources         NA\n",
      "invgauss_ufunc              NA\n",
      "ipykernel                   6.19.2\n",
      "ipython_genutils            0.2.0\n",
      "jax                         0.4.6\n",
      "jaxlib                      0.4.6\n",
      "jedi                        0.18.1\n",
      "joblib                      1.2.0\n",
      "jupyter_server              1.23.6\n",
      "kiwisolver                  1.4.4\n",
      "lightning_fabric            1.9.4\n",
      "lightning_utilities         0.8.0\n",
      "llvmlite                    0.39.1\n",
      "matplotlib                  3.7.1\n",
      "matplotlib_inline           0.1.6\n",
      "ml_collections              NA\n",
      "mpl_toolkits                NA\n",
      "mpmath                      1.3.0\n",
      "msgpack                     1.0.5\n",
      "mudata                      0.2.1\n",
      "multipledispatch            0.6.0\n",
      "natsort                     8.3.1\n",
      "nbinom_ufunc                NA\n",
      "ncf_ufunc                   NA\n",
      "nct_ufunc                   NA\n",
      "ncx2_ufunc                  NA\n",
      "numba                       0.56.4\n",
      "numpy                       1.23.5\n",
      "numpyro                     0.11.0\n",
      "opt_einsum                  v3.3.0\n",
      "optax                       0.1.4\n",
      "packaging                   23.0\n",
      "pandas                      1.3.5\n",
      "parso                       0.8.3\n",
      "pexpect                     4.8.0\n",
      "pickleshare                 0.7.5\n",
      "pkg_resources               NA\n",
      "platformdirs                3.1.1\n",
      "prompt_toolkit              3.0.36\n",
      "psutil                      5.9.0\n",
      "ptyprocess                  0.7.0\n",
      "pure_eval                   0.2.2\n",
      "pycparser                   2.21\n",
      "pydev_ipython               NA\n",
      "pydevconsole                NA\n",
      "pydevd                      2.6.0\n",
      "pydevd_concurrency_analyser NA\n",
      "pydevd_file_utils           NA\n",
      "pydevd_plugins              NA\n",
      "pydevd_tracing              NA\n",
      "pygments                    2.14.0\n",
      "pynndescent                 0.5.8\n",
      "pyparsing                   3.0.9\n",
      "pyro                        1.8.4+9ed468d\n",
      "pytorch_lightning           1.9.4\n",
      "pytz                        2022.7.1\n",
      "requests                    2.28.2\n",
      "rich                        NA\n",
      "scipy                       1.10.1\n",
      "scvi                        0.20.2\n",
      "seaborn                     0.12.2\n",
      "session_info                1.0.0\n",
      "setuptools                  65.6.3\n",
      "six                         1.16.0\n",
      "skewnorm_ufunc              NA\n",
      "sklearn                     1.2.2\n",
      "socks                       1.7.1\n",
      "stack_data                  0.2.0\n",
      "statsmodels                 0.13.5\n",
      "sympy                       1.11.1\n",
      "threadpoolctl               3.1.0\n",
      "toolz                       0.12.0\n",
      "torch                       2.0.0\n",
      "torchmetrics                0.11.4\n",
      "torchvision                 0.15.1\n",
      "tornado                     6.2\n",
      "tqdm                        4.65.0\n",
      "traitlets                   5.7.1\n",
      "tree                        0.1.7\n",
      "typing_extensions           NA\n",
      "umap                        0.5.3\n",
      "unicodedata2                NA\n",
      "urllib3                     1.26.15\n",
      "wcwidth                     0.2.5\n",
      "wrapt                       1.15.0\n",
      "yaml                        6.0\n",
      "zipp                        NA\n",
      "zmq                         23.2.0\n",
      "-----\n",
      "IPython             8.10.0\n",
      "jupyter_client      7.4.9\n",
      "jupyter_core        5.2.0\n",
      "jupyterlab          3.5.0\n",
      "notebook            6.5.3\n",
      "-----\n",
      "Python 3.9.16 | packaged by conda-forge | (main, Feb  1 2023, 21:38:11) [Clang 14.0.6 ]\n",
      "macOS-12.6.1-arm64-arm-64bit\n",
      "-----\n",
      "Session information updated at 2023-05-31 16:57\n"
     ]
    }
   ],
   "source": [
    "sc.settings.verbosity = 3\n",
    "sc.logging.print_versions()\n",
    "sc.settings.set_figure_params(dpi = 180, color_map = 'magma_r', dpi_save = 300, vector_friendly = True, format = 'svg')"
   ]
  },
  {
   "cell_type": "code",
   "execution_count": 34,
   "metadata": {},
   "outputs": [],
   "source": [
    "arches_params = dict(\n",
    "    use_layer_norm = \"both\",\n",
    "    use_batch_norm = \"none\",\n",
    "    encode_covariates = True,\n",
    "    dropout_rate = 0.2,\n",
    "    n_layers = 2,\n",
    ")"
   ]
  },
  {
   "cell_type": "code",
   "execution_count": 35,
   "metadata": {},
   "outputs": [],
   "source": [
    "def X_is_raw(adata):\n",
    "    return np.array_equal(adata.X.sum(axis=0).astype(int), adata.X.sum(axis=0))"
   ]
  },
  {
   "cell_type": "markdown",
   "metadata": {},
   "source": [
    "### Read in datasets"
   ]
  },
  {
   "cell_type": "code",
   "execution_count": 36,
   "metadata": {},
   "outputs": [],
   "source": [
    "input_healthy = '/Users/anna.maguza/Desktop/Data/Processed_datasets/Cancer_dataset_integration/input_files/Epithelial_cells/Geosketch_subset/Joanito/Healthy_epithelial_cells_Geosketch_subset_2000_HVGs.h5ad'\n",
    "Healthy_adata = sc.read(input_healthy)"
   ]
  },
  {
   "cell_type": "code",
   "execution_count": 37,
   "metadata": {},
   "outputs": [],
   "source": [
    "input_cancer = '/Users/anna.maguza/Desktop/Data/Processed_datasets/Cancer_dataset_integration/input_files/Epithelial_cells/Geosketch_subset/Joanito/Joanito_cancer_epithelial_cells_2000_HVGs.h5ad'\n",
    "Cancer_adata = sc.read(input_cancer)"
   ]
  },
  {
   "cell_type": "code",
   "execution_count": 38,
   "metadata": {},
   "outputs": [],
   "source": [
    "Healthy_adata.obs['seed_labels'] = Healthy_adata.obs['Unified Cell States']\n",
    "Cancer_adata.obs['seed_labels'] = 'Unknown'"
   ]
  },
  {
   "cell_type": "code",
   "execution_count": 39,
   "metadata": {},
   "outputs": [],
   "source": [
    "# Concatenate reference and query\n",
    "adata = Healthy_adata.concatenate(Cancer_adata, batch_key = 'dataset', batch_categories = ['Healthy', 'Cancer'])"
   ]
  },
  {
   "cell_type": "code",
   "execution_count": 40,
   "metadata": {},
   "outputs": [],
   "source": [
    "del Healthy_adata, Cancer_adata"
   ]
  },
  {
   "cell_type": "markdown",
   "metadata": {},
   "source": [
    "### Transfer of annotation with scANVI"
   ]
  },
  {
   "cell_type": "code",
   "execution_count": 41,
   "metadata": {},
   "outputs": [],
   "source": [
    "scvi.model.SCVI.setup_anndata(adata, batch_key = 'Sample_ID', labels_key = \"seed_labels\")"
   ]
  },
  {
   "cell_type": "code",
   "execution_count": 42,
   "metadata": {},
   "outputs": [],
   "source": [
    "scvi_model = scvi.model.SCVI(adata, n_latent = 50, n_layers = 3, dispersion = 'gene-batch', gene_likelihood = 'nb')"
   ]
  },
  {
   "cell_type": "code",
   "execution_count": 43,
   "metadata": {},
   "outputs": [
    {
     "name": "stderr",
     "output_type": "stream",
     "text": [
      "GPU available: True (mps), used: False\n",
      "TPU available: False, using: 0 TPU cores\n",
      "IPU available: False, using: 0 IPUs\n",
      "HPU available: False, using: 0 HPUs\n"
     ]
    },
    {
     "name": "stdout",
     "output_type": "stream",
     "text": [
      "Epoch 128/128: 100%|██████████| 128/128 [18:39<00:00,  8.49s/it, loss=444, v_num=1]"
     ]
    },
    {
     "name": "stderr",
     "output_type": "stream",
     "text": [
      "`Trainer.fit` stopped: `max_epochs=128` reached.\n"
     ]
    },
    {
     "name": "stdout",
     "output_type": "stream",
     "text": [
      "Epoch 128/128: 100%|██████████| 128/128 [18:39<00:00,  8.75s/it, loss=444, v_num=1]\n"
     ]
    }
   ],
   "source": [
    "scvi_model.train()"
   ]
  },
  {
   "cell_type": "code",
   "execution_count": 44,
   "metadata": {},
   "outputs": [],
   "source": [
    "adata.obsm[\"X_scVI\"] = scvi_model.get_latent_representation()"
   ]
  },
  {
   "cell_type": "markdown",
   "metadata": {},
   "source": [
    "### Label transfer with `scANVI` "
   ]
  },
  {
   "cell_type": "code",
   "execution_count": 45,
   "metadata": {},
   "outputs": [],
   "source": [
    "scanvi_model = scvi.model.SCANVI.from_scvi_model(scvi_model, 'Unknown')"
   ]
  },
  {
   "cell_type": "code",
   "execution_count": 46,
   "metadata": {},
   "outputs": [
    {
     "name": "stdout",
     "output_type": "stream",
     "text": [
      "\u001b[34mINFO    \u001b[0m Training for \u001b[1;36m10\u001b[0m epochs.                                                                                   \n"
     ]
    },
    {
     "name": "stderr",
     "output_type": "stream",
     "text": [
      "GPU available: True (mps), used: False\n",
      "TPU available: False, using: 0 TPU cores\n",
      "IPU available: False, using: 0 IPUs\n",
      "HPU available: False, using: 0 HPUs\n"
     ]
    },
    {
     "name": "stdout",
     "output_type": "stream",
     "text": [
      "Epoch 10/10: 100%|██████████| 10/10 [03:18<00:00, 19.86s/it, loss=574, v_num=1]"
     ]
    },
    {
     "name": "stderr",
     "output_type": "stream",
     "text": [
      "`Trainer.fit` stopped: `max_epochs=10` reached.\n"
     ]
    },
    {
     "name": "stdout",
     "output_type": "stream",
     "text": [
      "Epoch 10/10: 100%|██████████| 10/10 [03:18<00:00, 19.82s/it, loss=574, v_num=1]\n"
     ]
    }
   ],
   "source": [
    "scanvi_model.train()"
   ]
  },
  {
   "cell_type": "code",
   "execution_count": 47,
   "metadata": {},
   "outputs": [],
   "source": [
    "adata.obs[\"C_scANVI\"] = scanvi_model.predict(adata)"
   ]
  },
  {
   "cell_type": "code",
   "execution_count": 48,
   "metadata": {},
   "outputs": [
    {
     "data": {
      "text/plain": [
       "Paneth cells             18895\n",
       "Colonocyte               17603\n",
       "Enterocyte                9744\n",
       "TA                        7474\n",
       "Stem cells OLFM4          6599\n",
       "Stem cells OLFM4 LGR5     2250\n",
       "Name: C_scANVI, dtype: int64"
      ]
     },
     "execution_count": 48,
     "metadata": {},
     "output_type": "execute_result"
    }
   ],
   "source": [
    "adata.obs[\"C_scANVI\"].value_counts()    "
   ]
  },
  {
   "cell_type": "code",
   "execution_count": 49,
   "metadata": {},
   "outputs": [],
   "source": [
    "adata.obsm[\"X_scANVI\"] = scanvi_model.get_latent_representation(adata)"
   ]
  },
  {
   "cell_type": "code",
   "execution_count": 50,
   "metadata": {},
   "outputs": [],
   "source": [
    "# Save the output\n",
    "adata.write('/Users/anna.maguza/Desktop/Data/Processed_datasets/Cancer_dataset_integration/output/Epithelial/Joanito_predicted_labels_with_scVI_scANVI_2000HVGs.h5ad')"
   ]
  }
 ],
 "metadata": {
  "kernelspec": {
   "display_name": "scvi_env",
   "language": "python",
   "name": "python3"
  },
  "language_info": {
   "codemirror_mode": {
    "name": "ipython",
    "version": 3
   },
   "file_extension": ".py",
   "mimetype": "text/x-python",
   "name": "python",
   "nbconvert_exporter": "python",
   "pygments_lexer": "ipython3",
   "version": "3.9.16"
  },
  "orig_nbformat": 4
 },
 "nbformat": 4,
 "nbformat_minor": 2
}
