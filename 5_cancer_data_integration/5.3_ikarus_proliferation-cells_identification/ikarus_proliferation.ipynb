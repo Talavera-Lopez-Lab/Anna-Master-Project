{
 "cells": [
  {
   "attachments": {},
   "cell_type": "markdown",
   "metadata": {},
   "source": [
    "## Notebook for proliferating tumor cells identification using `ikarus`\n",
    "\n",
    "- **Developed by**: Anna Maguza\n",
    "- **Institute of Computational Biology - Computational Health Centre - Helmholtz Munich**\n",
    "- 31st May 2023"
   ]
  },
  {
   "attachments": {},
   "cell_type": "markdown",
   "metadata": {},
   "source": [
    "### Import packages"
   ]
  },
  {
   "cell_type": "code",
   "execution_count": 1,
   "metadata": {},
   "outputs": [],
   "source": [
    "import urllib.request\n",
    "import anndata\n",
    "import pandas as pd\n",
    "from pathlib import Path\n",
    "from ikarus import classifier, utils, data\n",
    "import scanpy as sc"
   ]
  },
  {
   "attachments": {},
   "cell_type": "markdown",
   "metadata": {},
   "source": [
    "### Data Upload"
   ]
  },
  {
   "cell_type": "code",
   "execution_count": 2,
   "metadata": {},
   "outputs": [
    {
     "name": "stderr",
     "output_type": "stream",
     "text": [
      "/Users/anna.maguza/miniconda3/envs/ikarus_env/lib/python3.8/site-packages/scanpy/preprocessing/_normalization.py:170: UserWarning: Received a view of an AnnData. Making a copy.\n",
      "  view_to_actual(adata)\n"
     ]
    }
   ],
   "source": [
    "paths = [\n",
    "    Path(\"/Users/anna.maguza/Desktop/Data/Gut_project/Joanito_cancer/anndata/\")\n",
    "]\n",
    "names = [\n",
    "    \"Joanito\"\n",
    "]\n",
    "adatas = {}\n",
    "for path, name in zip(paths, names):\n",
    "    adatas[name] = anndata.read_h5ad(path / \"Joanito_raw_anndata_tumor_cells.h5ad\")\n",
    "    # Uncomment to perform preprocessing. Here, the loaded anndata objects are already preprocessed. \n",
    "    adatas[name] = adatas[name][adatas[name].obs['Cell Type'] == 'Epithelial',:]\n",
    "    adatas[name] = data.preprocess_adata(adatas[name])\n",
    "    adatas[name].var['gene_symbol'] = adatas[name].var.index"
   ]
  },
  {
   "cell_type": "code",
   "execution_count": 3,
   "metadata": {},
   "outputs": [],
   "source": [
    "### Upload cancer data\n",
    "input_cancer = '/Users/anna.maguza/Desktop/Data/Gut_project/Joanito_cancer/anndata/Joanito_raw_anndata_tumor_cells.h5ad'\n",
    "Cancer_adata = sc.read(input_cancer)"
   ]
  },
  {
   "cell_type": "code",
   "execution_count": 3,
   "metadata": {},
   "outputs": [
    {
     "data": {
      "text/html": [
       "<div>\n",
       "<style scoped>\n",
       "    .dataframe tbody tr th:only-of-type {\n",
       "        vertical-align: middle;\n",
       "    }\n",
       "\n",
       "    .dataframe tbody tr th {\n",
       "        vertical-align: top;\n",
       "    }\n",
       "\n",
       "    .dataframe thead th {\n",
       "        text-align: right;\n",
       "    }\n",
       "</style>\n",
       "<table border=\"1\" class=\"dataframe\">\n",
       "  <thead>\n",
       "    <tr style=\"text-align: right;\">\n",
       "      <th></th>\n",
       "      <th>0</th>\n",
       "      <th>1</th>\n",
       "      <th>2</th>\n",
       "      <th>3</th>\n",
       "      <th>4</th>\n",
       "      <th>5</th>\n",
       "      <th>6</th>\n",
       "      <th>7</th>\n",
       "      <th>8</th>\n",
       "      <th>9</th>\n",
       "      <th>...</th>\n",
       "      <th>1305</th>\n",
       "      <th>1306</th>\n",
       "      <th>1307</th>\n",
       "      <th>1308</th>\n",
       "      <th>1309</th>\n",
       "      <th>1310</th>\n",
       "      <th>1311</th>\n",
       "      <th>1312</th>\n",
       "      <th>1313</th>\n",
       "      <th>1314</th>\n",
       "    </tr>\n",
       "  </thead>\n",
       "  <tbody>\n",
       "    <tr>\n",
       "      <th>0</th>\n",
       "      <td>Normal</td>\n",
       "      <td>ikarus</td>\n",
       "      <td>RP11-128M1.1</td>\n",
       "      <td>TRAV8-2</td>\n",
       "      <td>PTPRD-AS1</td>\n",
       "      <td>MEOX2</td>\n",
       "      <td>CXCL12</td>\n",
       "      <td>KLRC4-KLRK1</td>\n",
       "      <td>BCAS1</td>\n",
       "      <td>SCNN1A</td>\n",
       "      <td>...</td>\n",
       "      <td>C22ORF15</td>\n",
       "      <td>CYP4F11</td>\n",
       "      <td>AK8</td>\n",
       "      <td>LRRC18</td>\n",
       "      <td>LMO2</td>\n",
       "      <td>COL12A1</td>\n",
       "      <td>ITGA11</td>\n",
       "      <td>EGFL6</td>\n",
       "      <td>RGS11</td>\n",
       "      <td>PCDHB15</td>\n",
       "    </tr>\n",
       "    <tr>\n",
       "      <th>1</th>\n",
       "      <td>Tumor</td>\n",
       "      <td>ikarus</td>\n",
       "      <td>RP11-277P12.10</td>\n",
       "      <td>RP13-895J2.6</td>\n",
       "      <td>BNC1</td>\n",
       "      <td>MAGEA6</td>\n",
       "      <td>ISX</td>\n",
       "      <td>MAGEA3</td>\n",
       "      <td>RP13-614K11.2</td>\n",
       "      <td>CDH7</td>\n",
       "      <td>...</td>\n",
       "      <td>NaN</td>\n",
       "      <td>NaN</td>\n",
       "      <td>NaN</td>\n",
       "      <td>NaN</td>\n",
       "      <td>NaN</td>\n",
       "      <td>NaN</td>\n",
       "      <td>NaN</td>\n",
       "      <td>NaN</td>\n",
       "      <td>NaN</td>\n",
       "      <td>NaN</td>\n",
       "    </tr>\n",
       "  </tbody>\n",
       "</table>\n",
       "<p>2 rows × 1315 columns</p>\n",
       "</div>"
      ],
      "text/plain": [
       "     0       1               2             3          4       5       6     \\\n",
       "0  Normal  ikarus    RP11-128M1.1       TRAV8-2  PTPRD-AS1   MEOX2  CXCL12   \n",
       "1   Tumor  ikarus  RP11-277P12.10  RP13-895J2.6       BNC1  MAGEA6     ISX   \n",
       "\n",
       "          7              8       9     ...      1305     1306 1307    1308  \\\n",
       "0  KLRC4-KLRK1          BCAS1  SCNN1A  ...  C22ORF15  CYP4F11  AK8  LRRC18   \n",
       "1       MAGEA3  RP13-614K11.2    CDH7  ...       NaN      NaN  NaN     NaN   \n",
       "\n",
       "   1309     1310    1311   1312   1313     1314  \n",
       "0  LMO2  COL12A1  ITGA11  EGFL6  RGS11  PCDHB15  \n",
       "1   NaN      NaN     NaN    NaN    NaN      NaN  \n",
       "\n",
       "[2 rows x 1315 columns]"
      ]
     },
     "execution_count": 3,
     "metadata": {},
     "output_type": "execute_result"
    }
   ],
   "source": [
    "signatures_path = Path(\"/Users/anna.maguza/Downloads/signatures.gmt\")\n",
    "pd.read_csv(signatures_path, sep=\"\\t\", header=None)"
   ]
  },
  {
   "cell_type": "markdown",
   "metadata": {},
   "source": [
    "# Make the column in var 'gene"
   ]
  },
  {
   "cell_type": "code",
   "execution_count": 5,
   "metadata": {},
   "outputs": [
    {
     "name": "stderr",
     "output_type": "stream",
     "text": [
      "/var/folders/gb/wwnzrh015q9dns5cmsc3xcjsxglkqz/T/ipykernel_54063/503726983.py:5: ImplicitModificationWarning: Trying to modify attribute `.var` of view, initializing view as actual.\n",
      "  Cancer_adata.var['gene_symbol'] = Cancer_adata.var.index\n"
     ]
    }
   ],
   "source": [
    "# Filter epithelial cells\n",
    "Cancer_adata = Cancer_adata[Cancer_adata.obs['Cell Type'] == 'Epithelial',:]\n",
    "\n",
    "# make the column in var 'gene_symbol' that copies var index\n",
    "Cancer_adata.var['gene_symbol'] = Cancer_adata.var.index\n",
    "\n",
    "Cancer_adata = data.preprocess_adata(Cancer_adata)"
   ]
  },
  {
   "cell_type": "code",
   "execution_count": 4,
   "metadata": {},
   "outputs": [
    {
     "name": "stderr",
     "output_type": "stream",
     "text": [
      "/Users/anna.maguza/miniconda3/envs/ikarus_env/lib/python3.8/site-packages/sklearn/base.py:318: UserWarning: Trying to unpickle estimator LogisticRegression from version 0.24.2 when using version 1.2.2. This might lead to breaking code or invalid results. Use at your own risk. For more info please refer to:\n",
      "https://scikit-learn.org/stable/model_persistence.html#security-maintainability-limitations\n",
      "  warnings.warn(\n"
     ]
    }
   ],
   "source": [
    "model_path = Path(\"/Users/anna.maguza/Downloads/core_model.joblib\")\n",
    "model = classifier.Ikarus(signatures_gmt=signatures_path, out_dir=\"/Users/anna.maguza/Desktop/Data/Processed_datasets/Cancer_dataset_integration/output/Ikarus_output\")\n",
    "model.load_core_model(model_path)"
   ]
  },
  {
   "cell_type": "code",
   "execution_count": 5,
   "metadata": {},
   "outputs": [
    {
     "name": "stderr",
     "output_type": "stream",
     "text": [
      "/Users/anna.maguza/miniconda3/envs/ikarus_env/lib/python3.8/site-packages/sklearn/base.py:432: UserWarning: X has feature names, but LogisticRegression was fitted without feature names\n",
      "  warnings.warn(\n",
      "/Users/anna.maguza/miniconda3/envs/ikarus_env/lib/python3.8/site-packages/sklearn/base.py:432: UserWarning: X has feature names, but LogisticRegression was fitted without feature names\n",
      "  warnings.warn(\n",
      "/Users/anna.maguza/miniconda3/envs/ikarus_env/lib/python3.8/site-packages/scanpy/preprocessing/_highly_variable_genes.py:540: ImplicitModificationWarning: Trying to modify attribute `._uns` of view, initializing view as actual.\n",
      "  adata.uns['hvg'] = {'flavor': flavor}\n",
      "/Users/anna.maguza/miniconda3/envs/ikarus_env/lib/python3.8/site-packages/umap/distances.py:1063: NumbaDeprecationWarning: The 'nopython' keyword argument was not supplied to the 'numba.jit' decorator. The implicit default value for this argument is currently False, but it will be changed to True in Numba 0.59.0. See https://numba.readthedocs.io/en/stable/reference/deprecation.html#deprecation-of-object-mode-fall-back-behaviour-when-using-jit for details.\n",
      "  @numba.jit()\n",
      "/Users/anna.maguza/miniconda3/envs/ikarus_env/lib/python3.8/site-packages/umap/distances.py:1071: NumbaDeprecationWarning: The 'nopython' keyword argument was not supplied to the 'numba.jit' decorator. The implicit default value for this argument is currently False, but it will be changed to True in Numba 0.59.0. See https://numba.readthedocs.io/en/stable/reference/deprecation.html#deprecation-of-object-mode-fall-back-behaviour-when-using-jit for details.\n",
      "  @numba.jit()\n",
      "/Users/anna.maguza/miniconda3/envs/ikarus_env/lib/python3.8/site-packages/umap/distances.py:1086: NumbaDeprecationWarning: The 'nopython' keyword argument was not supplied to the 'numba.jit' decorator. The implicit default value for this argument is currently False, but it will be changed to True in Numba 0.59.0. See https://numba.readthedocs.io/en/stable/reference/deprecation.html#deprecation-of-object-mode-fall-back-behaviour-when-using-jit for details.\n",
      "  @numba.jit()\n",
      "/Users/anna.maguza/miniconda3/envs/ikarus_env/lib/python3.8/site-packages/tqdm/auto.py:21: TqdmWarning: IProgress not found. Please update jupyter and ipywidgets. See https://ipywidgets.readthedocs.io/en/stable/user_install.html\n",
      "  from .autonotebook import tqdm as notebook_tqdm\n",
      "/Users/anna.maguza/miniconda3/envs/ikarus_env/lib/python3.8/site-packages/umap/umap_.py:660: NumbaDeprecationWarning: The 'nopython' keyword argument was not supplied to the 'numba.jit' decorator. The implicit default value for this argument is currently False, but it will be changed to True in Numba 0.59.0. See https://numba.readthedocs.io/en/stable/reference/deprecation.html#deprecation-of-object-mode-fall-back-behaviour-when-using-jit for details.\n",
      "  @numba.jit()\n"
     ]
    },
    {
     "name": "stdout",
     "output_type": "stream",
     "text": [
      "converged at iteration step: 9 with 0.0007 < 0.001\n"
     ]
    }
   ],
   "source": [
    "output = model.predict(adatas[\"Joanito\"], \"Joanito\", save=True)"
   ]
  },
  {
   "cell_type": "code",
   "execution_count": null,
   "metadata": {},
   "outputs": [],
   "source": []
  }
 ],
 "metadata": {
  "kernelspec": {
   "display_name": "ikarus_env",
   "language": "python",
   "name": "python3"
  },
  "language_info": {
   "codemirror_mode": {
    "name": "ipython",
    "version": 3
   },
   "file_extension": ".py",
   "mimetype": "text/x-python",
   "name": "python",
   "nbconvert_exporter": "python",
   "pygments_lexer": "ipython3",
   "version": "3.8.16"
  },
  "orig_nbformat": 4
 },
 "nbformat": 4,
 "nbformat_minor": 2
}
