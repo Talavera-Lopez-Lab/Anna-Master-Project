{
 "cells": [
  {
   "attachments": {},
   "cell_type": "markdown",
   "metadata": {},
   "source": [
    "## Notebook for the gene enrichment analysis of Cancer Joanito Epithelial Cells\n",
    "\n",
    "### Developed by: Anna Maguza\n",
    "\n",
    "### Institute of Computational Biology - Computational Health Centre - Hemlholtz Munich\n",
    "\n",
    "### 4th June 2023"
   ]
  },
  {
   "cell_type": "markdown",
   "metadata": {},
   "source": [
    "#### Load required packages"
   ]
  },
  {
   "cell_type": "code",
   "execution_count": 2,
   "metadata": {},
   "outputs": [],
   "source": [
    "import scanpy as sc\n",
    "import numpy as np\n",
    "import pandas as pd\n",
    "import anndata as ad\n",
    "import seaborn as sns\n",
    "import numpy as np"
   ]
  },
  {
   "cell_type": "markdown",
   "metadata": {},
   "source": [
    "#### Setup Cells\n"
   ]
  },
  {
   "cell_type": "code",
   "execution_count": 3,
   "metadata": {},
   "outputs": [],
   "source": [
    "%matplotlib inline"
   ]
  },
  {
   "cell_type": "code",
   "execution_count": 4,
   "metadata": {},
   "outputs": [
    {
     "name": "stderr",
     "output_type": "stream",
     "text": [
      "/Users/anna.maguza/miniconda3/envs/scanpy_env/lib/python3.9/site-packages/tqdm/auto.py:21: TqdmWarning: IProgress not found. Please update jupyter and ipywidgets. See https://ipywidgets.readthedocs.io/en/stable/user_install.html\n",
      "  from .autonotebook import tqdm as notebook_tqdm\n"
     ]
    },
    {
     "name": "stdout",
     "output_type": "stream",
     "text": [
      "scanpy==1.9.3 anndata==0.8.0 umap==0.5.3 numpy==1.23.5 scipy==1.9.1 pandas==1.3.5 scikit-learn==1.2.2 statsmodels==0.13.5 pynndescent==0.5.8\n"
     ]
    }
   ],
   "source": [
    "sc.settings.verbosity = 3             # verbosity: errors (0), warnings (1), info (2), hints (3)\n",
    "sc.logging.print_header()\n",
    "sc.settings.set_figure_params(dpi=80, facecolor='white')"
   ]
  },
  {
   "attachments": {},
   "cell_type": "markdown",
   "metadata": {},
   "source": [
    "#### Upload Cancer Data"
   ]
  },
  {
   "cell_type": "code",
   "execution_count": null,
   "metadata": {},
   "outputs": [],
   "source": [
    "input = '/Users/anna.maguza/Desktop/Data/Processed_datasets/Cancer_dataset_integration/Predicted_cancer_labels/Joanito/Joanito_epithelial_cells_with_predicted_annotations_after_scVI.h5ad' \n",
    "adata = sc.read_h5ad(input)"
   ]
  },
  {
   "cell_type": "code",
   "execution_count": 5,
   "metadata": {},
   "outputs": [
    {
     "data": {
      "text/plain": [
       "<191909x18525 sparse matrix of type '<class 'numpy.float32'>'\n",
       "\twith 266670546 stored elements in Compressed Sparse Row format>"
      ]
     },
     "execution_count": 5,
     "metadata": {},
     "output_type": "execute_result"
    }
   ],
   "source": [
    "adata.raw.X"
   ]
  },
  {
   "cell_type": "code",
   "execution_count": 6,
   "metadata": {},
   "outputs": [],
   "source": [
    "adata_raw = adata.raw.to_adata()"
   ]
  },
  {
   "cell_type": "code",
   "execution_count": 7,
   "metadata": {},
   "outputs": [
    {
     "data": {
      "text/plain": [
       "AnnData object with n_obs × n_vars = 191909 × 18525\n",
       "    obs: 'Sample_ID', 'Cell Type', 'Study_name', 'Donor_ID', 'Diagnosis', 'Age', 'Region code', 'Fraction', 'Sex', 'Library_Preparation_Protocol', 'batch', 'Age_group', 'Location', 'Cell States', 'Cell States GCA', 'Chem', 'Layer', 'Cell States Kong', 'dataset', 'n_genes_by_counts', 'total_counts', 'total_counts_mito', 'pct_counts_mito', 'total_counts_ribo', 'pct_counts_ribo', 'Cell_ID', '_scvi_batch', '_scvi_labels', 'Unified Cell States', 'doublet_scores', 'predicted_doublets', 'doublet_info', 'nFeature_RNA', 'sample.origin', 'dataset_x', 'iCMS', 'msi', 'dataset_y', 'Tumor Stage', 'MSS/MSI', 'Side', 'Group Stage', 'Stage TNM', 'iCMS.transcriptomic', 'iCMS.inferCNV', 'KRAS', 'BRAF', 'TP53', 'APC', 'PIK3CA', 'LymphNode', 'Normal', 'Tumor', 'CMS', 'Sample origin'\n",
       "    var: 'feature_types-Colorectal cancer', 'genome-Colorectal cancer', 'gene_id-Kong-Healthy gut', 'gene_name-Kong-Healthy gut', 'n_cells_by_counts-Kong-Healthy gut', 'mean_counts-Kong-Healthy gut', 'log1p_mean_counts-Kong-Healthy gut', 'pct_dropout_by_counts-Kong-Healthy gut', 'total_counts-Kong-Healthy gut', 'log1p_total_counts-Kong-Healthy gut', 'mito-Kong-Healthy gut', 'ribo-Kong-Healthy gut', 'highly_variable-Kong-Healthy gut', 'highly_variable_rank-Kong-Healthy gut', 'means-Kong-Healthy gut', 'variances-Kong-Healthy gut', 'variances_norm-Kong-Healthy gut'\n",
       "    uns: 'Diagnosis_colors', 'Library_Preparation_Protocol_colors', 'Sample origin_colors', 'Sex_colors', 'Study_name_colors', 'Unified Cell States_colors', '_scvi_manager_uuid', '_scvi_uuid', 'doublet_info_colors', 'hvg', 'neighbors', 'umap'\n",
       "    obsm: 'X_mde', 'X_mde_scanvi', 'X_scANVI', 'X_scVI', 'X_umap', '_scvi_extra_categorical_covs'\n",
       "    obsp: 'connectivities', 'distances'"
      ]
     },
     "execution_count": 7,
     "metadata": {},
     "output_type": "execute_result"
    }
   ],
   "source": [
    "adata_raw"
   ]
  },
  {
   "attachments": {},
   "cell_type": "markdown",
   "metadata": {},
   "source": [
    "### Prepare Gene Sets"
   ]
  },
  {
   "cell_type": "code",
   "execution_count": 5,
   "metadata": {},
   "outputs": [],
   "source": [
    "Krebs_cycle_genes = ['ACO2', 'CS', 'FH', 'MDH1', 'OGDH', 'PDHA1', 'PDHA2', 'SDHC', 'SUCLG1', 'ACLY', 'ACO1', 'DLAT', 'DLD',\n",
    "                     'DLST', 'IDH1', 'IDH2', 'IDH3A', 'IDH3B', 'IDH3G', 'MDH2', 'MPC1', 'OGDHL', 'PC', 'PCK1', 'PCK2',\n",
    "                     'PDHB', 'SDHA', 'SDHB', 'SDHD', 'SUCLA2', 'SUCLG2']"
   ]
  },
  {
   "cell_type": "code",
   "execution_count": 6,
   "metadata": {},
   "outputs": [],
   "source": [
    "mitochondrial_genes = ['MRPL1', \"MRPL2\", \"MRPL3\", \"MRPL4\", \"MRPL9\", \"MRPL10\", \"MRPL11\", \"MRPL12\", \"MRPL13\", \"MRPL14\", \"MRPL15\",\n",
    "                       \"MRPL16\", \"MRPL17\", \"MRPL18\", \"MRPL19\", \"MRPL20\", \"MRPL21\", \"MRPL22\", \"MRPL23\", \"MRPL24\", \"MRPL27\", \"MRPL28\", \n",
    "                       \"MRPL30\", \"MRPL32\", \"MRPL33\", \"MRPL34\", \"MRPL35\", \"MRPL36\", \"MRPL37\", \"MRPL38\", \"MRPL39\", \"MRPL40\",\"MRPL41\",\n",
    "                       \"MRPL42\", \"MRPL43\", \"MRPL44\", \"MRPL45\", \"MRPL46\", \"MRPL47\", \"MRPL48\", \"MRPL49\", \"MRPL50\", \"MRPL51\", \"MRPL52\",\n",
    "                       \"MRPL53\", \"MRPL54\", \"MRPL55\", \"MRPL57\",\n",
    "                       \"MRPS2\", \"MRPS5\", \"MRPS6\", \"MRPS7\", \"MRPS9\", \"MRPS10\", \"MRPS11\", \"MRPS12\", \"MRPS14\", \"MRPS15\", \"MRPS16\", \"MRPS17\",\n",
    "                       \"MRPS18A\", \"MRPS18B\", \"MRPS18C\", \"MRPS21\", \"MRPS22\", \"MRPS23\", \"MRPS24\", \"MRPS25\", \"MRPS26\", \"MRPS27\", \"MRPS28\", \"MRPS30\", \n",
    "                       \"MRPS31\", \"MRPS33\", \"MRPS34\", \"MRPS35\", \"MRPS36\", 'DAP3',\n",
    "                       \"MT-ND1\", \"MT-ND2\", \"MT-COX1\", \"MT-COX2\" ,\"MT-ATP8\", \"MT-ATP6\", \"MT-COX3\", \"MT-ND3\", \"MT-ND4L\", \"MT-ND4\", \"MT-ND5\", \"MT-ND6\", \"MT-CYTB\",\n",
    "                       'POLG', \"POLG2\", \"SOD2\", \"MFN1\", \"MFN2\", \"OPA1\", \"PINK1\", \"PARK7\", \"PARK2\", \"SDHA\", \"SDHB\", \"SDHC\", \"SDHD\", \"NDUFS1\", \"NDUFS2\", \"NDUFS3\", \"NDUFS4\", \"NDUFS7\", \"NDUFS8\", \"NDUFA1\", \"NDUFA2\", \"NDUFA9\"]"
   ]
  },
  {
   "cell_type": "code",
   "execution_count": 7,
   "metadata": {},
   "outputs": [],
   "source": [
    "glycolysis_genes = ['ALDOA', 'BPGM', 'ENO1', 'ENO2', 'GAPDH', 'GPI', 'HK1', 'HK2', 'HKDC1', 'PFKL', 'PFKM', 'PGAM1', \n",
    "                    'PGAM2', 'PGAM4', 'PGK1', 'PKLR', 'PKM', 'TPI1']"
   ]
  },
  {
   "cell_type": "code",
   "execution_count": 8,
   "metadata": {},
   "outputs": [],
   "source": [
    "gluconeogenesis = ['ALDOA', 'ALDOB', 'ALDOC', 'ENO1', 'ENO2', 'ENO3', 'FBP1', 'FBP2', 'GAPDH', 'GAPDHS', \n",
    "                   'GOT1', 'GOT2', 'GPI', 'MDH1', 'MDH2', 'PC', 'PCK1', 'PCK2', 'PFKFB1', 'PGAM1', 'PGAM2', \n",
    "                   'PGK1', 'PRKACA', 'PRKACB', 'PRKACG', 'SLC25A1', 'SLC25A10', 'SLC25A11', 'SLC25A12', 'SLC25A13', 'TPI1']"
   ]
  },
  {
   "cell_type": "code",
   "execution_count": 9,
   "metadata": {},
   "outputs": [],
   "source": [
    "lipogenesis = ['ACACA', 'ACBD3', 'AGPAT2', 'ANGPTL4', 'APOB', 'AR', 'BRCA1', 'CD68', 'CHUK', 'EIF2AK3', 'ENHO',\n",
    "               'EPAS1', 'FASN', 'FTO', 'GHRL', 'HK2', 'HNF4A', 'HOXB13', 'IDH1', 'IDH2', 'IGF1', 'INSIG1', 'LPIN1',\n",
    "               'MIR1-1', 'MIR185', 'MIR206', 'MIR29A', 'MIR342', 'MIR613', 'MLXIPL', 'MORC2', 'MRC1', 'MTOR', 'NAMPT',\n",
    "               'NEWENTRY', 'NOS3', 'NR0B1', 'NR1H2', 'NR1H3', 'OLR1', 'PFKFB2', 'PIK3CA', 'PPARD', 'PPARG', 'PPARGC1A',\n",
    "               'PRKACA', 'PRL', 'RPS6', 'SCD', 'SHBG', 'SMARCD3', 'SREBF1', 'TRA2B', 'TRIB1', 'TUT1']"
   ]
  },
  {
   "cell_type": "code",
   "execution_count": 10,
   "metadata": {},
   "outputs": [],
   "source": [
    "line1 = ['AICDA', 'APC', 'APOBEC3C', 'ATM', 'CDKN2A', 'EDA', 'ERCC1', 'ERCC4', 'ETS1', 'EVC', 'EVC2', 'GSTM1',\n",
    "         'H19', 'HLA-G', 'IGF2', 'IGF2BP3', 'IGFBP7', 'L1RE1', 'L1TD1', 'LINC01587', 'MAL', 'MECP2', 'MET', 'MGMT',\n",
    "         'MLH1', 'MTHFR', 'MTRR', 'NEWENTRY', 'PADI4', 'PEG3', 'PIWIL2', 'PROM1', 'SAMHD1', 'SLIT2', 'STK32B', 'TERT',\n",
    "         'TINF2',\n",
    "         'ORF1', 'ORF2', 'APOBEC3', 'TREX1', 'MOV10', 'PIWIL1', \"PIWIL2\", \"PIWIL3\", \"PIWIL4\", \"DICER1\", \"AGO2\", \"EIF2C2\"]\n",
    "\n"
   ]
  },
  {
   "cell_type": "code",
   "execution_count": 11,
   "metadata": {},
   "outputs": [],
   "source": [
    "IL10 = ['IL10', 'IL10RA', 'IL10RB']\n",
    "IL23 = ['IL23A', 'IL12B', 'IL12RB1', 'IL23R']\n",
    "TNFa = ['TNF', 'TNFRSF1A', 'TNFRSF1B']"
   ]
  },
  {
   "attachments": {},
   "cell_type": "markdown",
   "metadata": {},
   "source": [
    "### Cancer Dataser"
   ]
  },
  {
   "cell_type": "code",
   "execution_count": null,
   "metadata": {},
   "outputs": [],
   "source": [
    "sc.tl.score_genes(adata_raw, Krebs_cycle_genes)\n",
    "sc.set_figure_params(figsize=(10, 10),dpi=200)\n",
    "sc.pl.umap(adata_raw, color= ['score', 'Study_name', 'Unified Cell States'], color_map = \"magma\", size = 7, frameon = False)"
   ]
  },
  {
   "cell_type": "code",
   "execution_count": null,
   "metadata": {},
   "outputs": [],
   "source": [
    "sc.tl.score_genes(adata_raw, mitochondrial_genes)\n",
    "sc.set_figure_params(figsize=(10, 10),dpi=200)\n",
    "sc.pl.umap(adata_raw, color= ['score', 'Study_name', 'Unified Cell States'], color_map = \"magma\", size = 7, frameon = False)"
   ]
  },
  {
   "cell_type": "code",
   "execution_count": null,
   "metadata": {},
   "outputs": [],
   "source": [
    "sc.tl.score_genes(adata_raw, glycolysis_genes)\n",
    "sc.set_figure_params(figsize=(10, 10),dpi=200)\n",
    "sc.pl.umap(adata_raw, color= ['score', 'Study_name', 'Unified Cell States'], color_map = \"magma\", size = 7, frameon = False)"
   ]
  },
  {
   "attachments": {},
   "cell_type": "markdown",
   "metadata": {},
   "source": [
    "### Upload Healthy and Cancer Dataset"
   ]
  },
  {
   "cell_type": "code",
   "execution_count": 12,
   "metadata": {},
   "outputs": [],
   "source": [
    "input = '/Users/anna.maguza/Desktop/Data/Processed_datasets/Cancer_dataset_integration/input_files/Datasets_integration/Integrated_cancer_Joanito_and_Healthy_datasets_7000_output.h5ad'\n",
    "adata = sc.read_h5ad(input)"
   ]
  },
  {
   "cell_type": "code",
   "execution_count": 13,
   "metadata": {},
   "outputs": [
    {
     "data": {
      "text/plain": [
       "<191909x18525 sparse matrix of type '<class 'numpy.float32'>'\n",
       "\twith 266670546 stored elements in Compressed Sparse Row format>"
      ]
     },
     "execution_count": 13,
     "metadata": {},
     "output_type": "execute_result"
    }
   ],
   "source": [
    "adata.raw.X"
   ]
  },
  {
   "cell_type": "code",
   "execution_count": 14,
   "metadata": {},
   "outputs": [],
   "source": [
    "adata_raw = adata.raw.to_adata()"
   ]
  },
  {
   "cell_type": "code",
   "execution_count": 15,
   "metadata": {},
   "outputs": [
    {
     "data": {
      "text/plain": [
       "AnnData object with n_obs × n_vars = 191909 × 18525\n",
       "    obs: 'Sample_ID', 'Cell Type', 'Study_name', 'Donor_ID', 'Diagnosis', 'Age', 'Region code', 'Fraction', 'Sex', 'Library_Preparation_Protocol', 'batch', 'Age_group', 'Location', 'Cell States', 'Cell States GCA', 'Chem', 'Layer', 'Cell States Kong', 'dataset', 'n_genes_by_counts', 'total_counts', 'total_counts_mito', 'pct_counts_mito', 'total_counts_ribo', 'pct_counts_ribo', 'Cell_ID', '_scvi_batch', '_scvi_labels', 'Unified Cell States', 'doublet_scores', 'predicted_doublets', 'doublet_info', 'nFeature_RNA', 'sample.origin', 'dataset_x', 'iCMS', 'msi', 'dataset_y', 'Tumor Stage', 'MSS/MSI', 'Side', 'Group Stage', 'Stage TNM', 'iCMS.transcriptomic', 'iCMS.inferCNV', 'KRAS', 'BRAF', 'TP53', 'APC', 'PIK3CA', 'LymphNode', 'Normal', 'Tumor', 'CMS', 'Sample origin'\n",
       "    var: 'feature_types-Colorectal cancer', 'genome-Colorectal cancer', 'gene_id-Kong-Healthy gut', 'gene_name-Kong-Healthy gut', 'n_cells_by_counts-Kong-Healthy gut', 'mean_counts-Kong-Healthy gut', 'log1p_mean_counts-Kong-Healthy gut', 'pct_dropout_by_counts-Kong-Healthy gut', 'total_counts-Kong-Healthy gut', 'log1p_total_counts-Kong-Healthy gut', 'mito-Kong-Healthy gut', 'ribo-Kong-Healthy gut', 'highly_variable-Kong-Healthy gut', 'highly_variable_rank-Kong-Healthy gut', 'means-Kong-Healthy gut', 'variances-Kong-Healthy gut', 'variances_norm-Kong-Healthy gut'\n",
       "    uns: 'Diagnosis_colors', 'Library_Preparation_Protocol_colors', 'Sample origin_colors', 'Sex_colors', 'Study_name_colors', 'Unified Cell States_colors', '_scvi_manager_uuid', '_scvi_uuid', 'doublet_info_colors', 'hvg', 'neighbors', 'umap'\n",
       "    obsm: 'X_mde', 'X_mde_scanvi', 'X_scANVI', 'X_scVI', 'X_umap', '_scvi_extra_categorical_covs'\n",
       "    obsp: 'connectivities', 'distances'"
      ]
     },
     "execution_count": 15,
     "metadata": {},
     "output_type": "execute_result"
    }
   ],
   "source": [
    "adata_raw"
   ]
  },
  {
   "cell_type": "code",
   "execution_count": 16,
   "metadata": {},
   "outputs": [
    {
     "name": "stdout",
     "output_type": "stream",
     "text": [
      "computing score 'Krebs_cycle_genes'\n",
      "WARNING: genes are not in var_names and ignored: ['PDHA2']\n",
      "    finished: added\n",
      "    'Krebs_cycle_genes', score of gene set (adata.obs).\n",
      "    499 total control genes are used. (0:00:04)\n"
     ]
    }
   ],
   "source": [
    "sc.tl.score_genes(adata_raw, Krebs_cycle_genes, score_name = \"Krebs_cycle_genes\")"
   ]
  },
  {
   "cell_type": "code",
   "execution_count": 17,
   "metadata": {},
   "outputs": [
    {
     "name": "stdout",
     "output_type": "stream",
     "text": [
      "computing score 'Mitochondrial_genes'\n",
      "WARNING: genes are not in var_names and ignored: ['MRPL57', 'MT-ND1', 'MT-ND2', 'MT-COX1', 'MT-COX2', 'MT-ATP8', 'MT-ATP6', 'MT-COX3', 'MT-ND3', 'MT-ND4L', 'MT-ND4', 'MT-ND5', 'MT-ND6', 'MT-CYTB', 'PARK2']\n",
      "    finished: added\n",
      "    'Mitochondrial_genes', score of gene set (adata.obs).\n",
      "    593 total control genes are used. (0:00:03)\n"
     ]
    }
   ],
   "source": [
    "sc.tl.score_genes(adata_raw, mitochondrial_genes, score_name = \"Mitochondrial_genes\")"
   ]
  },
  {
   "cell_type": "code",
   "execution_count": 18,
   "metadata": {},
   "outputs": [
    {
     "name": "stdout",
     "output_type": "stream",
     "text": [
      "computing score 'Glycolysis_genes'\n",
      "    finished: added\n",
      "    'Glycolysis_genes', score of gene set (adata.obs).\n",
      "    448 total control genes are used. (0:00:03)\n"
     ]
    }
   ],
   "source": [
    "sc.tl.score_genes(adata_raw, glycolysis_genes, score_name = \"Glycolysis_genes\")"
   ]
  },
  {
   "cell_type": "code",
   "execution_count": 19,
   "metadata": {},
   "outputs": [
    {
     "name": "stdout",
     "output_type": "stream",
     "text": [
      "computing score 'Gluconeogenesis_genes'\n",
      "WARNING: genes are not in var_names and ignored: ['SLC25A10']\n",
      "    finished: added\n",
      "    'Gluconeogenesis_genes', score of gene set (adata.obs).\n",
      "    698 total control genes are used. (0:00:03)\n"
     ]
    }
   ],
   "source": [
    "sc.tl.score_genes(adata_raw, gluconeogenesis, score_name = \"Gluconeogenesis_genes\")"
   ]
  },
  {
   "cell_type": "code",
   "execution_count": 20,
   "metadata": {},
   "outputs": [
    {
     "name": "stdout",
     "output_type": "stream",
     "text": [
      "computing score 'Lipogenesis_genes'\n",
      "WARNING: genes are not in var_names and ignored: ['MIR1-1', 'MIR185', 'MIR206', 'MIR29A', 'MIR342', 'MIR613', 'MTOR', 'NEWENTRY', 'RPS6']\n",
      "    finished: added\n",
      "    'Lipogenesis_genes', score of gene set (adata.obs).\n",
      "    898 total control genes are used. (0:00:03)\n"
     ]
    }
   ],
   "source": [
    "sc.tl.score_genes(adata_raw, lipogenesis, score_name = \"Lipogenesis_genes\")"
   ]
  },
  {
   "cell_type": "code",
   "execution_count": 21,
   "metadata": {},
   "outputs": [
    {
     "name": "stdout",
     "output_type": "stream",
     "text": [
      "computing score 'LINE1_genes'\n",
      "WARNING: genes are not in var_names and ignored: ['ERCC1', 'ERCC4', 'H19', 'L1RE1', 'LINC01587', 'MTHFR', 'MTRR', 'NEWENTRY', 'ORF1', 'ORF2', 'APOBEC3', 'EIF2C2']\n",
      "    finished: added\n",
      "    'LINE1_genes', score of gene set (adata.obs).\n",
      "    946 total control genes are used. (0:00:03)\n"
     ]
    }
   ],
   "source": [
    "sc.tl.score_genes(adata_raw, line1, score_name = \"LINE1_genes\")"
   ]
  },
  {
   "cell_type": "code",
   "execution_count": 22,
   "metadata": {},
   "outputs": [
    {
     "name": "stdout",
     "output_type": "stream",
     "text": [
      "computing score 'IL-10'\n",
      "    finished: added\n",
      "    'IL-10', score of gene set (adata.obs).\n",
      "    150 total control genes are used. (0:00:02)\n"
     ]
    }
   ],
   "source": [
    "sc.tl.score_genes(adata_raw, IL10, score_name = \"IL-10\")"
   ]
  },
  {
   "cell_type": "code",
   "execution_count": 23,
   "metadata": {},
   "outputs": [
    {
     "name": "stdout",
     "output_type": "stream",
     "text": [
      "computing score 'IL-23'\n",
      "    finished: added\n",
      "    'IL-23', score of gene set (adata.obs).\n",
      "    200 total control genes are used. (0:00:02)\n"
     ]
    }
   ],
   "source": [
    "sc.tl.score_genes(adata_raw, IL23, score_name = \"IL-23\")"
   ]
  },
  {
   "cell_type": "code",
   "execution_count": 24,
   "metadata": {},
   "outputs": [
    {
     "name": "stdout",
     "output_type": "stream",
     "text": [
      "computing score 'TNFa'\n",
      "    finished: added\n",
      "    'TNFa', score of gene set (adata.obs).\n",
      "    150 total control genes are used. (0:00:02)\n"
     ]
    }
   ],
   "source": [
    "sc.tl.score_genes(adata_raw, TNFa, score_name = \"TNFa\")"
   ]
  },
  {
   "cell_type": "code",
   "execution_count": null,
   "metadata": {},
   "outputs": [],
   "source": [
    "sc.set_figure_params(figsize=(10, 10),dpi=200)\n",
    "sc.pl.umap(adata_raw, color= ['Krebs_cycle_genes', 'Mitochondrial_genes', 'Glycolysis_genes', 'Gluconeogenesis_genes', 'Lipogenesis_genes', 'LINE1_genes', 'IL-10', 'IL-23', 'TNFa', 'Study_name', 'Unified Cell States'], color_map = \"magma\", size = 7, frameon = False)"
   ]
  },
  {
   "attachments": {},
   "cell_type": "markdown",
   "metadata": {},
   "source": [
    "#### Upload Healthy Data"
   ]
  },
  {
   "cell_type": "code",
   "execution_count": null,
   "metadata": {},
   "outputs": [],
   "source": [
    "input = '/Users/anna.maguza/Desktop/Data/Processed_datasets/Cancer_dataset_integration/Healthy_epithelial_scVI/Healthy_epithelial_cells_with_predicted_annotations_after_scVI.h5ad' \n",
    "adata = sc.read_h5ad(input)"
   ]
  },
  {
   "cell_type": "code",
   "execution_count": null,
   "metadata": {},
   "outputs": [],
   "source": [
    "adata.raw.X"
   ]
  },
  {
   "cell_type": "code",
   "execution_count": null,
   "metadata": {},
   "outputs": [],
   "source": [
    "adata_raw = adata.raw.to_adata()"
   ]
  },
  {
   "cell_type": "code",
   "execution_count": null,
   "metadata": {},
   "outputs": [],
   "source": [
    "sc.tl.score_genes(adata_raw, Krebs_cycle_genes)\n",
    "sc.set_figure_params(figsize=(10, 10),dpi=200)\n",
    "sc.pl.umap(adata_raw, color= ['score', 'Study_name', 'Unified Cell States'], color_map = \"magma\", size = 7, frameon = False)"
   ]
  },
  {
   "cell_type": "code",
   "execution_count": null,
   "metadata": {},
   "outputs": [],
   "source": [
    "sc.tl.score_genes(adata_raw, mitochondrial_genes)\n",
    "sc.set_figure_params(figsize=(10, 10),dpi=200)\n",
    "sc.pl.umap(adata_raw, color= ['score', 'Study_name', 'Unified Cell States'], color_map = \"magma\", size = 7, frameon = False)"
   ]
  },
  {
   "cell_type": "code",
   "execution_count": null,
   "metadata": {},
   "outputs": [],
   "source": [
    "sc.tl.score_genes(adata_raw, glycolysis_genes)\n",
    "sc.set_figure_params(figsize=(10, 10),dpi=200)\n",
    "sc.pl.umap(adata_raw, color= ['score', 'Study_name', 'Unified Cell States'], color_map = \"magma\", size = 7, frameon = False)"
   ]
  }
 ],
 "metadata": {
  "kernelspec": {
   "display_name": "scanpy_env",
   "language": "python",
   "name": "python3"
  },
  "language_info": {
   "codemirror_mode": {
    "name": "ipython",
    "version": 3
   },
   "file_extension": ".py",
   "mimetype": "text/x-python",
   "name": "python",
   "nbconvert_exporter": "python",
   "pygments_lexer": "ipython3",
   "version": "3.9.16"
  },
  "orig_nbformat": 4
 },
 "nbformat": 4,
 "nbformat_minor": 2
}
