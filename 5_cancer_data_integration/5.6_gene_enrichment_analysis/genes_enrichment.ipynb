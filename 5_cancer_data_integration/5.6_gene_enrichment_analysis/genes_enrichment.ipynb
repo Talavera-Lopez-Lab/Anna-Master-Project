{
 "cells": [
  {
   "attachments": {},
   "cell_type": "markdown",
   "metadata": {},
   "source": [
    "## Notebook for the gene enrichment analysis of Cancer Joanito Epithelial Cells\n",
    "\n",
    "### Developed by: Anna Maguza\n",
    "\n",
    "### Institute of Computational Biology - Computational Health Centre - Hemlholtz Munich\n",
    "\n",
    "### 4th June 2023"
   ]
  },
  {
   "cell_type": "markdown",
   "metadata": {},
   "source": [
    "#### Load required packages"
   ]
  },
  {
   "cell_type": "code",
   "execution_count": null,
   "metadata": {},
   "outputs": [],
   "source": [
    "import scanpy as sc\n",
    "import numpy as np\n",
    "import pandas as pd\n",
    "import anndata as ad\n",
    "import seaborn as sns\n",
    "import numpy as np"
   ]
  },
  {
   "cell_type": "markdown",
   "metadata": {},
   "source": [
    "#### Setup Cells\n"
   ]
  },
  {
   "cell_type": "code",
   "execution_count": null,
   "metadata": {},
   "outputs": [],
   "source": [
    "%matplotlib inline"
   ]
  },
  {
   "cell_type": "code",
   "execution_count": null,
   "metadata": {},
   "outputs": [],
   "source": [
    "sc.settings.verbosity = 3             # verbosity: errors (0), warnings (1), info (2), hints (3)\n",
    "sc.logging.print_header()\n",
    "sc.settings.set_figure_params(dpi=80, facecolor='white')"
   ]
  },
  {
   "attachments": {},
   "cell_type": "markdown",
   "metadata": {},
   "source": [
    "#### Upload Cancer Data"
   ]
  },
  {
   "cell_type": "code",
   "execution_count": null,
   "metadata": {},
   "outputs": [],
   "source": [
    "input = '/Users/anna.maguza/Desktop/Data/Processed_datasets/Cancer_dataset_integration/Predicted_cancer_labels/Joanito/Joanito_epithelial_cells_with_predicted_annotations_after_scVI.h5ad' \n",
    "adata = sc.read_h5ad(input)"
   ]
  },
  {
   "cell_type": "code",
   "execution_count": null,
   "metadata": {},
   "outputs": [],
   "source": [
    "adata.raw.X"
   ]
  },
  {
   "cell_type": "code",
   "execution_count": null,
   "metadata": {},
   "outputs": [],
   "source": [
    "adata_raw = adata.raw.to_adata()"
   ]
  },
  {
   "cell_type": "code",
   "execution_count": null,
   "metadata": {},
   "outputs": [],
   "source": [
    "adata_raw"
   ]
  },
  {
   "attachments": {},
   "cell_type": "markdown",
   "metadata": {},
   "source": [
    "### Prepare Gene Sets"
   ]
  },
  {
   "cell_type": "code",
   "execution_count": null,
   "metadata": {},
   "outputs": [],
   "source": [
    "Krebs_cycle_genes = ['ACO2', 'CS', 'FH', 'MDH1', 'OGDH', 'PDHA1', 'PDHA2', 'SDHC', 'SUCLG1', 'ACLY', 'ACO1', 'DLAT', 'DLD',\n",
    "                     'DLST', 'IDH1', 'IDH2', 'IDH3A', 'IDH3B', 'IDH3G', 'MDH2', 'MPC1', 'OGDHL', 'PC', 'PCK1', 'PCK2',\n",
    "                     'PDHB', 'SDHA', 'SDHB', 'SDHD', 'SUCLA2', 'SUCLG2']"
   ]
  },
  {
   "cell_type": "code",
   "execution_count": null,
   "metadata": {},
   "outputs": [],
   "source": [
    "mitochondrial_genes = ['MRPL1', \"MRPL2\", \"MRPL3\", \"MRPL4\", \"MRPL9\", \"MRPL10\", \"MRPL11\", \"MRPL12\", \"MRPL13\", \"MRPL14\", \"MRPL15\",\n",
    "                       \"MRPL16\", \"MRPL17\", \"MRPL18\", \"MRPL19\", \"MRPL20\", \"MRPL21\", \"MRPL22\", \"MRPL23\", \"MRPL24\", \"MRPL27\", \"MRPL28\", \n",
    "                       \"MRPL30\", \"MRPL32\", \"MRPL33\", \"MRPL34\", \"MRPL35\", \"MRPL36\", \"MRPL37\", \"MRPL38\", \"MRPL39\", \"MRPL40\",\"MRPL41\",\n",
    "                       \"MRPL42\", \"MRPL43\", \"MRPL44\", \"MRPL45\", \"MRPL46\", \"MRPL47\", \"MRPL48\", \"MRPL49\", \"MRPL50\", \"MRPL51\", \"MRPL52\",\n",
    "                       \"MRPL53\", \"MRPL54\", \"MRPL55\", \"MRPL57\",\n",
    "                       \"MRPS2\", \"MRPS5\", \"MRPS6\", \"MRPS7\", \"MRPS9\", \"MRPS10\", \"MRPS11\", \"MRPS12\", \"MRPS14\", \"MRPS15\", \"MRPS16\", \"MRPS17\",\n",
    "                       \"MRPS18A\", \"MRPS18B\", \"MRPS18C\", \"MRPS21\", \"MRPS22\", \"MRPS23\", \"MRPS24\", \"MRPS25\", \"MRPS26\", \"MRPS27\", \"MRPS28\", \"MRPS30\", \n",
    "                       \"MRPS31\", \"MRPS33\", \"MRPS34\", \"MRPS35\", \"MRPS36\", 'DAP3',\n",
    "                       \"MT-ND1\", \"MT-ND2\", \"MT-COX1\", \"MT-COX2\" ,\"MT-ATP8\", \"MT-ATP6\", \"MT-COX3\", \"MT-ND3\", \"MT-ND4L\", \"MT-ND4\", \"MT-ND5\", \"MT-ND6\", \"MT-CYTB\",\n",
    "                       'POLG', \"POLG2\", \"SOD2\", \"MFN1\", \"MFN2\", \"OPA1\", \"PINK1\", \"PARK7\", \"PARK2\", \"SDHA\", \"SDHB\", \"SDHC\", \"SDHD\", \"NDUFS1\", \"NDUFS2\", \"NDUFS3\", \"NDUFS4\", \"NDUFS7\", \"NDUFS8\", \"NDUFA1\", \"NDUFA2\", \"NDUFA9\"]"
   ]
  },
  {
   "cell_type": "code",
   "execution_count": null,
   "metadata": {},
   "outputs": [],
   "source": [
    "glycolysis_genes = ['ALDOA', 'BPGM', 'ENO1', 'ENO2', 'GAPDH', 'GPI', 'HK1', 'HK2', 'HKDC1', 'PFKL', 'PFKM', 'PGAM1', \n",
    "                    'PGAM2', 'PGAM4', 'PGK1', 'PKLR', 'PKM', 'TPI1']"
   ]
  },
  {
   "attachments": {},
   "cell_type": "markdown",
   "metadata": {},
   "source": [
    "### Cancer Dataser"
   ]
  },
  {
   "cell_type": "code",
   "execution_count": null,
   "metadata": {},
   "outputs": [],
   "source": [
    "sc.tl.score_genes(adata_raw, Krebs_cycle_genes)\n",
    "sc.set_figure_params(figsize=(10, 10),dpi=200)\n",
    "sc.pl.umap(adata_raw, color= ['score', 'Study_name', 'Unified Cell States'], color_map = \"magma\", size = 7, frameon = False)"
   ]
  },
  {
   "cell_type": "code",
   "execution_count": null,
   "metadata": {},
   "outputs": [],
   "source": [
    "sc.tl.score_genes(adata_raw, mitochondrial_genes)\n",
    "sc.set_figure_params(figsize=(10, 10),dpi=200)\n",
    "sc.pl.umap(adata_raw, color= ['score', 'Study_name', 'Unified Cell States'], color_map = \"magma\", size = 7, frameon = False)"
   ]
  },
  {
   "cell_type": "code",
   "execution_count": null,
   "metadata": {},
   "outputs": [],
   "source": [
    "sc.tl.score_genes(adata_raw, glycolysis_genes)\n",
    "sc.set_figure_params(figsize=(10, 10),dpi=200)\n",
    "sc.pl.umap(adata_raw, color= ['score', 'Study_name', 'Unified Cell States'], color_map = \"magma\", size = 7, frameon = False)"
   ]
  },
  {
   "attachments": {},
   "cell_type": "markdown",
   "metadata": {},
   "source": [
    "### Upload Healthy and Cancer Dataset"
   ]
  },
  {
   "cell_type": "code",
   "execution_count": null,
   "metadata": {},
   "outputs": [],
   "source": [
    "input2= '/Users/anna.maguza/Desktop/Data/Processed_datasets/Cancer_dataset_integration/input_files/Datasets_integration/Integrated_cancer_Joanito_and_Healthy_datasets_5000_output.h5ad'\n",
    "adata2 = sc.read_h5ad(input2)"
   ]
  },
  {
   "cell_type": "code",
   "execution_count": null,
   "metadata": {},
   "outputs": [],
   "source": [
    "adata2.raw.X"
   ]
  },
  {
   "cell_type": "code",
   "execution_count": null,
   "metadata": {},
   "outputs": [],
   "source": [
    "adata_raw2 = adata2.raw.to_adata()"
   ]
  },
  {
   "cell_type": "code",
   "execution_count": null,
   "metadata": {},
   "outputs": [],
   "source": [
    "adata_raw2"
   ]
  },
  {
   "cell_type": "code",
   "execution_count": null,
   "metadata": {},
   "outputs": [],
   "source": [
    "sc.tl.score_genes(adata_raw2, Krebs_cycle_genes)\n",
    "sc.set_figure_params(figsize=(10, 10),dpi=200)\n",
    "sc.pl.umap(adata_raw2, color= ['score', 'Study_name', 'Unified Cell States'], color_map = \"magma\", size = 7, frameon = False)"
   ]
  },
  {
   "cell_type": "code",
   "execution_count": null,
   "metadata": {},
   "outputs": [],
   "source": [
    "sc.tl.score_genes(adata_raw2, mitochondrial_genes)\n",
    "sc.set_figure_params(figsize=(10, 10),dpi=200)\n",
    "sc.pl.umap(adata_raw2, color= ['score', 'Study_name', 'Unified Cell States'], color_map = \"magma\", size = 7, frameon = False)"
   ]
  },
  {
   "cell_type": "code",
   "execution_count": null,
   "metadata": {},
   "outputs": [],
   "source": [
    "sc.tl.score_genes(adata_raw2, glycolysis_genes)\n",
    "sc.set_figure_params(figsize=(10, 10),dpi=200)\n",
    "sc.pl.umap(adata_raw2, color= ['score', 'Study_name', 'Unified Cell States'], color_map = \"magma\", size = 7, frameon = False)"
   ]
  },
  {
   "attachments": {},
   "cell_type": "markdown",
   "metadata": {},
   "source": [
    "#### Upload Healthy Data"
   ]
  },
  {
   "cell_type": "code",
   "execution_count": null,
   "metadata": {},
   "outputs": [],
   "source": [
    "input = '/Users/anna.maguza/Desktop/Data/Processed_datasets/Cancer_dataset_integration/Healthy_epithelial_scVI/Healthy_epithelial_cells_with_predicted_annotations_after_scVI.h5ad' \n",
    "adata = sc.read_h5ad(input)"
   ]
  },
  {
   "cell_type": "code",
   "execution_count": null,
   "metadata": {},
   "outputs": [],
   "source": [
    "adata.raw.X"
   ]
  },
  {
   "cell_type": "code",
   "execution_count": null,
   "metadata": {},
   "outputs": [],
   "source": [
    "adata_raw = adata.raw.to_adata()"
   ]
  },
  {
   "cell_type": "code",
   "execution_count": null,
   "metadata": {},
   "outputs": [],
   "source": [
    "sc.tl.score_genes(adata_raw, Krebs_cycle_genes)\n",
    "sc.set_figure_params(figsize=(10, 10),dpi=200)\n",
    "sc.pl.umap(adata_raw, color= ['score', 'Study_name', 'Unified Cell States'], color_map = \"magma\", size = 7, frameon = False)"
   ]
  },
  {
   "cell_type": "code",
   "execution_count": null,
   "metadata": {},
   "outputs": [],
   "source": [
    "sc.tl.score_genes(adata_raw, mitochondrial_genes)\n",
    "sc.set_figure_params(figsize=(10, 10),dpi=200)\n",
    "sc.pl.umap(adata_raw, color= ['score', 'Study_name', 'Unified Cell States'], color_map = \"magma\", size = 7, frameon = False)"
   ]
  },
  {
   "cell_type": "code",
   "execution_count": null,
   "metadata": {},
   "outputs": [],
   "source": [
    "sc.tl.score_genes(adata_raw, glycolysis_genes)\n",
    "sc.set_figure_params(figsize=(10, 10),dpi=200)\n",
    "sc.pl.umap(adata_raw, color= ['score', 'Study_name', 'Unified Cell States'], color_map = \"magma\", size = 7, frameon = False)"
   ]
  }
 ],
 "metadata": {
  "kernelspec": {
   "display_name": "scanpy_env",
   "language": "python",
   "name": "python3"
  },
  "language_info": {
   "codemirror_mode": {
    "name": "ipython",
    "version": 3
   },
   "file_extension": ".py",
   "mimetype": "text/x-python",
   "name": "python",
   "nbconvert_exporter": "python",
   "pygments_lexer": "ipython3",
   "version": "3.9.16"
  },
  "orig_nbformat": 4
 },
 "nbformat": 4,
 "nbformat_minor": 2
}
