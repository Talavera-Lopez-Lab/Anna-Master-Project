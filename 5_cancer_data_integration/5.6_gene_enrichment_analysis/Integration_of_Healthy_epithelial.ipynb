{
 "cells": [
  {
   "attachments": {},
   "cell_type": "markdown",
   "metadata": {},
   "source": [
    "## Notebook for Healthy reference epithelial cells data integration and batch correction `scVI`\n",
    "\n",
    "- **Developed by**: Anna Maguza\n",
    "- **Institute of Computational Biology - Computational Health Centre - Helmholtz Munich**\n",
    "- 5th Juni 2023"
   ]
  },
  {
   "cell_type": "markdown",
   "metadata": {},
   "source": [
    "### Load required modules"
   ]
  },
  {
   "cell_type": "code",
   "execution_count": null,
   "metadata": {},
   "outputs": [],
   "source": [
    "import sys\n",
    "import scvi\n",
    "import torch\n",
    "import anndata\n",
    "import matplotlib\n",
    "import matplotlib.pyplot as plt\n",
    "from matplotlib.colors import LinearSegmentedColormap\n",
    "import seaborn as sns\n",
    "\n",
    "import numpy as np\n",
    "import scipy as sp\n",
    "import pandas as pd\n",
    "import scanpy as sc\n",
    "import numpy.random as random\n",
    "\n",
    "\n",
    "from umap import UMAP\n",
    "import warnings; warnings.simplefilter('ignore')\n",
    "\n",
    "import matplotlib.pyplot as plt"
   ]
  },
  {
   "cell_type": "code",
   "execution_count": null,
   "metadata": {},
   "outputs": [],
   "source": [
    "%matplotlib inline\n",
    "matplotlib.rcParams[\"pdf.fonttype\"] = 42\n",
    "matplotlib.rcParams[\"ps.fonttype\"] = 42"
   ]
  },
  {
   "cell_type": "code",
   "execution_count": null,
   "metadata": {},
   "outputs": [],
   "source": [
    "torch.cuda.is_available()"
   ]
  },
  {
   "cell_type": "code",
   "execution_count": null,
   "metadata": {},
   "outputs": [],
   "source": [
    "torch.set_float32_matmul_precision('medium')"
   ]
  },
  {
   "cell_type": "code",
   "execution_count": null,
   "metadata": {},
   "outputs": [],
   "source": [
    "sc.settings.verbosity = 3\n",
    "sc.logging.print_versions()\n",
    "sc.settings.set_figure_params(dpi = 180, color_map = 'magma_r', dpi_save = 300, vector_friendly = True, format = 'svg')"
   ]
  },
  {
   "cell_type": "code",
   "execution_count": null,
   "metadata": {},
   "outputs": [],
   "source": [
    "arches_params = dict(\n",
    "    use_layer_norm = \"both\",\n",
    "    use_batch_norm = \"none\",\n",
    "    encode_covariates = True,\n",
    "    dropout_rate = 0.2,\n",
    "    n_layers = 2,\n",
    ")"
   ]
  },
  {
   "cell_type": "code",
   "execution_count": null,
   "metadata": {},
   "outputs": [],
   "source": [
    "def X_is_raw(adata):\n",
    "    return np.array_equal(adata.X.sum(axis=0).astype(int), adata.X.sum(axis=0))"
   ]
  },
  {
   "cell_type": "markdown",
   "metadata": {},
   "source": [
    "### Read in datasets"
   ]
  },
  {
   "cell_type": "code",
   "execution_count": null,
   "metadata": {},
   "outputs": [],
   "source": [
    "input = '/Users/anna.maguza/Desktop/Data/Processed_datasets/Cancer_dataset_integration/input_files/all_cells/Healthy_integrated_data_all_genes.h5ad'\n",
    "Healthy_adata = sc.read_h5ad(input)"
   ]
  },
  {
   "attachments": {},
   "cell_type": "markdown",
   "metadata": {},
   "source": [
    "### Preprocess in datasets"
   ]
  },
  {
   "cell_type": "code",
   "execution_count": null,
   "metadata": {},
   "outputs": [],
   "source": [
    "# Filter out fetal and pediatric samples\n",
    "Healthy_adata = Healthy_adata[Healthy_adata.obs['Diagnosis'] != 'Fetal Healthy', :]\n",
    "Healthy_adata = Healthy_adata[Healthy_adata.obs['Diagnosis'] != 'Pediatric healthy', :]\n",
    "# Subset only epitheleal cells\n",
    "Healthy_adata = Healthy_adata[Healthy_adata.obs['Cell Type'] == 'Epithelial', :]\n",
    "Healthy_adata.obs['Unified Cell States'] = Healthy_adata.obs['Cell States']\n",
    "Healthy_adata.obs['Unified Cell States'].replace({\"Enterocytes TMIGD1 MEP1A\": 'Enterocyte',\n",
    "                                               'Enterocytes CA1 CA2 CA4-': 'Enterocyte',\n",
    "                                               'Enterocytes TMIGD1 MEP1A GSTA1': 'Enterocyte',\n",
    "                                               'Enterocytes BEST4': 'Enterocyte',\n",
    "                                               'BEST4+ epithelial': 'Enterocyte',\n",
    "                                               'Stem_Cells_GCA': 'Stem cells OLFM4',\n",
    "                                               'Stem_Cells_ext': 'Stem cells OLFM4',\n",
    "                                               'Tuft': 'Tuft cells',\n",
    "                                               'Paneth': 'Paneth cells',\n",
    "                                               'Epithelial Cycling cells': 'TA',\n",
    "                                               'Goblet cells SPINK4': 'Goblet cells',\n",
    "                                               'Goblet cell': 'Goblet cells',\n",
    "                                               'Goblet cells MUC2 TFF1-': 'Goblet cells',\n",
    "                                               'Goblet cells MUC2 TFF1': 'Goblet cells',\n",
    "                                               'EC cells (TAC1+)': 'Enterochromaffin cells',\n",
    "                                               'EECs': 'Enteroendocrine cells',\n",
    "                                               'K cells (GIP+)': 'Enteroendocrine cells',\n",
    "                                               'M/X cells (MLN/GHRL+)': 'Enteroendocrine cells',\n",
    "                                               'Progenitor (NEUROG3+)': 'Enteroendocrine cells',\n",
    "                                               'D cells (SST+)': 'Enteroendocrine cells',\n",
    "                                               'I cells (CCK+)': 'Enteroendocrine cells',\n",
    "                                               'N cells (NTS+)': 'Enteroendocrine cells',\n",
    "                                               'L cells (PYY+)': 'L cells'}, inplace=True)"
   ]
  },
  {
   "cell_type": "code",
   "execution_count": null,
   "metadata": {},
   "outputs": [],
   "source": [
    "Healthy_adata.raw = Healthy_adata"
   ]
  },
  {
   "cell_type": "code",
   "execution_count": null,
   "metadata": {},
   "outputs": [],
   "source": [
    "Healthy_adata.layers['counts'] = Healthy_adata.X.copy()\n",
    "\n",
    "# Calculate 5000 HVGs\n",
    "sc.pp.highly_variable_genes(\n",
    "    Healthy_adata,\n",
    "    flavor = \"seurat_v3\",\n",
    "    n_top_genes = 5000,\n",
    "    layer = \"counts\",\n",
    "    batch_key = \"Library_Preparation_Protocol\",\n",
    "    subset = True,\n",
    "    span = 1\n",
    ")"
   ]
  },
  {
   "attachments": {},
   "cell_type": "markdown",
   "metadata": {},
   "source": [
    "### Run scVI"
   ]
  },
  {
   "cell_type": "code",
   "execution_count": null,
   "metadata": {},
   "outputs": [],
   "source": [
    "scvi.model.SCVI.setup_anndata(Healthy_adata, batch_key = 'Sample_ID', labels_key = \"Unified Cell States\")"
   ]
  },
  {
   "cell_type": "code",
   "execution_count": null,
   "metadata": {},
   "outputs": [],
   "source": [
    "scvi_model = scvi.model.SCVI(Healthy_adata, n_latent = 50, n_layers = 3, dispersion = 'gene-batch', gene_likelihood = 'nb')"
   ]
  },
  {
   "cell_type": "code",
   "execution_count": null,
   "metadata": {},
   "outputs": [],
   "source": [
    "scvi_model.train()"
   ]
  },
  {
   "cell_type": "code",
   "execution_count": null,
   "metadata": {},
   "outputs": [],
   "source": [
    "Healthy_adata.obsm[\"X_scVI\"] = scvi_model.get_latent_representation()"
   ]
  },
  {
   "cell_type": "markdown",
   "metadata": {},
   "source": [
    "### UMAP calculation"
   ]
  },
  {
   "cell_type": "code",
   "execution_count": null,
   "metadata": {},
   "outputs": [],
   "source": [
    "sc.pp.neighbors(Healthy_adata, use_rep = \"X_scVI\", n_neighbors = 50, metric = 'minkowski')"
   ]
  },
  {
   "cell_type": "code",
   "execution_count": null,
   "metadata": {},
   "outputs": [],
   "source": [
    "sc.tl.umap(Healthy_adata, min_dist = 0.4, spread = 4, random_state = 1712)"
   ]
  },
  {
   "cell_type": "code",
   "execution_count": null,
   "metadata": {},
   "outputs": [],
   "source": [
    "Healthy_adata"
   ]
  },
  {
   "cell_type": "code",
   "execution_count": null,
   "metadata": {},
   "outputs": [],
   "source": [
    "sc.pl.umap(Healthy_adata, frameon = False, color = ['Library_Preparation_Protocol', 'Study_name', 'Unified Cell States', 'Age', 'Location', 'Donor_ID', 'Gender', 'n_genes_by_counts', 'total_counts', 'pct_counts_mito', 'pct_counts_ribo'], size = 1, legend_fontsize = 5, ncols = 3)"
   ]
  },
  {
   "cell_type": "code",
   "execution_count": null,
   "metadata": {},
   "outputs": [],
   "source": [
    "# Save the adata object\n",
    "Healthy_adata.write_h5ad('/Users/anna.maguza/Desktop/Data/Processed_datasets/Cancer_dataset_integration/Healthy_epithelial_scVI/Healthy_epithelial_cells_with_predicted_annotations_after_scVI.h5ad')"
   ]
  }
 ],
 "metadata": {
  "kernelspec": {
   "display_name": "scvi_env",
   "language": "python",
   "name": "python3"
  },
  "language_info": {
   "codemirror_mode": {
    "name": "ipython",
    "version": 3
   },
   "file_extension": ".py",
   "mimetype": "text/x-python",
   "name": "python",
   "nbconvert_exporter": "python",
   "pygments_lexer": "ipython3",
   "version": "3.9.16"
  },
  "orig_nbformat": 4
 },
 "nbformat": 4,
 "nbformat_minor": 2
}
