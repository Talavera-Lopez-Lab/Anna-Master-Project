{
 "cells": [
  {
   "attachments": {},
   "cell_type": "markdown",
   "metadata": {},
   "source": [
    "## Notebook for anndata object preparation that will be used for the datasets integration\n",
    "\n",
    "- **Developed by**: Anna Maguza\n",
    "- **Institute of Computational Biology - Computational Health Centre - Helmholtz Munich**\n",
    "- 31st May 2023"
   ]
  },
  {
   "cell_type": "markdown",
   "metadata": {},
   "source": [
    "### Import Packages"
   ]
  },
  {
   "cell_type": "code",
   "execution_count": 1,
   "metadata": {},
   "outputs": [],
   "source": [
    "import scanpy as sc\n",
    "import pandas as pd\n",
    "import numpy as np\n",
    "import os\n",
    "import anndata as ad"
   ]
  },
  {
   "cell_type": "code",
   "execution_count": 2,
   "metadata": {},
   "outputs": [],
   "source": [
    "def X_is_raw(adata):\n",
    "    return np.array_equal(adata.X.sum(axis=0).astype(int), adata.X.sum(axis=0))"
   ]
  },
  {
   "cell_type": "markdown",
   "metadata": {},
   "source": [
    "### Datasets Upload"
   ]
  },
  {
   "cell_type": "code",
   "execution_count": 3,
   "metadata": {},
   "outputs": [],
   "source": [
    "input = '/Users/anna.maguza/Desktop/Data/Processed_datasets/Cancer_dataset_integration/input_files/Epithelial_cells/Healthy_epithelial_cells_all_genes.h5ad'\n",
    "Healthy_adata = sc.read_h5ad(input)"
   ]
  },
  {
   "cell_type": "code",
   "execution_count": 4,
   "metadata": {},
   "outputs": [],
   "source": [
    "input_cancer = '/Users/anna.maguza/Desktop/Data/Processed_datasets/Cancer_dataset_integration/output/Epithelial/Joanito_predicted_labels_with_scBalance_7000HVGs.h5ad'\n",
    "Cancer_adata_predicted = sc.read_h5ad(input_cancer)"
   ]
  },
  {
   "cell_type": "code",
   "execution_count": 5,
   "metadata": {},
   "outputs": [
    {
     "data": {
      "text/plain": [
       "True"
      ]
     },
     "execution_count": 5,
     "metadata": {},
     "output_type": "execute_result"
    }
   ],
   "source": [
    "X_is_raw(Healthy_adata)"
   ]
  },
  {
   "cell_type": "code",
   "execution_count": 6,
   "metadata": {},
   "outputs": [
    {
     "data": {
      "text/plain": [
       "False"
      ]
     },
     "execution_count": 6,
     "metadata": {},
     "output_type": "execute_result"
    }
   ],
   "source": [
    "X_is_raw(Cancer_adata_predicted)"
   ]
  },
  {
   "cell_type": "code",
   "execution_count": 7,
   "metadata": {},
   "outputs": [
    {
     "data": {
      "text/plain": [
       "<35714x33287 sparse matrix of type '<class 'numpy.float32'>'\n",
       "\twith 66145963 stored elements in Compressed Sparse Row format>"
      ]
     },
     "execution_count": 7,
     "metadata": {},
     "output_type": "execute_result"
    }
   ],
   "source": [
    "Cancer_adata_predicted.raw.X"
   ]
  },
  {
   "cell_type": "code",
   "execution_count": 8,
   "metadata": {},
   "outputs": [],
   "source": [
    "Cancer_adata = Cancer_adata_predicted.raw.to_adata()"
   ]
  },
  {
   "cell_type": "code",
   "execution_count": 9,
   "metadata": {},
   "outputs": [
    {
     "data": {
      "text/plain": [
       "True"
      ]
     },
     "execution_count": 9,
     "metadata": {},
     "output_type": "execute_result"
    }
   ],
   "source": [
    "X_is_raw(Cancer_adata)"
   ]
  },
  {
   "cell_type": "code",
   "execution_count": 10,
   "metadata": {},
   "outputs": [],
   "source": [
    "# Rename column 'C_scANVI' to 'predictions'\n",
    "Cancer_adata.obs.rename(columns={'Predicted Label': 'Unified Cell States'}, inplace=True)"
   ]
  },
  {
   "cell_type": "code",
   "execution_count": 11,
   "metadata": {},
   "outputs": [],
   "source": [
    "# List of Donor_IDs for 'Female'\n",
    "female_donors = ['Wang_Donor_2', 'N7', 'N8', 'N10', 'N13', 'N14', 'N18', 'N19', 'N20', 'N21', 'N23', 'N24', 'N44', 'N50', 'N106', 'N110', 'N111', 'N539']\n",
    "\n",
    "# Assign 'Female' to specified Donor_IDs with 'nan' in 'Sex'\n",
    "Healthy_adata.obs.loc[(Healthy_adata.obs['Donor_ID'].isin(female_donors)) & (Healthy_adata.obs['Sex'] == 'nan'), 'Sex'] = 'Female'\n",
    "\n",
    "# Assign 'Male' to the remaining 'nan' entries in 'Sex'\n",
    "Healthy_adata.obs.loc[Healthy_adata.obs['Sex'] == 'nan', 'Sex'] = 'Male'"
   ]
  },
  {
   "attachments": {},
   "cell_type": "markdown",
   "metadata": {},
   "source": [
    "### Datasets concatenation"
   ]
  },
  {
   "cell_type": "code",
   "execution_count": 16,
   "metadata": {},
   "outputs": [
    {
     "name": "stderr",
     "output_type": "stream",
     "text": [
      "/Users/anna.maguza/miniconda3/envs/scanpy_env/lib/python3.9/site-packages/anndata/_core/merge.py:942: UserWarning: Only some AnnData objects have `.raw` attribute, not concatenating `.raw` attributes.\n",
      "  warn(\n",
      "/Users/anna.maguza/miniconda3/envs/scanpy_env/lib/python3.9/site-packages/anndata/_core/anndata.py:1785: FutureWarning: X.dtype being converted to np.float32 from float64. In the next version of anndata (0.9) conversion will not be automatic. Pass dtype explicitly to avoid this warning. Pass `AnnData(X, dtype=X.dtype, ...)` to get the future behavour.\n",
      "  [AnnData(sparse.csr_matrix(a.shape), obs=a.obs) for a in all_adatas],\n"
     ]
    }
   ],
   "source": [
    "# Concatenate reference and query\n",
    "adata = Healthy_adata.concatenate(Cancer_adata, index_unique = None, batch_key = 'Sample origin', batch_categories = ['Healthy gut', 'Colorectal cancer'])"
   ]
  },
  {
   "cell_type": "code",
   "execution_count": 18,
   "metadata": {},
   "outputs": [
    {
     "data": {
      "text/html": [
       "<div>\n",
       "<style scoped>\n",
       "    .dataframe tbody tr th:only-of-type {\n",
       "        vertical-align: middle;\n",
       "    }\n",
       "\n",
       "    .dataframe tbody tr th {\n",
       "        vertical-align: top;\n",
       "    }\n",
       "\n",
       "    .dataframe thead th {\n",
       "        text-align: right;\n",
       "    }\n",
       "</style>\n",
       "<table border=\"1\" class=\"dataframe\">\n",
       "  <thead>\n",
       "    <tr style=\"text-align: right;\">\n",
       "      <th></th>\n",
       "      <th>Sample_ID</th>\n",
       "      <th>Cell Type</th>\n",
       "      <th>Study_name</th>\n",
       "      <th>Donor_ID</th>\n",
       "      <th>Diagnosis</th>\n",
       "      <th>Age</th>\n",
       "      <th>Region code</th>\n",
       "      <th>Fraction</th>\n",
       "      <th>Sex</th>\n",
       "      <th>Library_Preparation_Protocol</th>\n",
       "      <th>...</th>\n",
       "      <th>KRAS</th>\n",
       "      <th>BRAF</th>\n",
       "      <th>TP53</th>\n",
       "      <th>APC</th>\n",
       "      <th>PIK3CA</th>\n",
       "      <th>LymphNode</th>\n",
       "      <th>Normal</th>\n",
       "      <th>Tumor</th>\n",
       "      <th>CMS</th>\n",
       "      <th>Sample origin</th>\n",
       "    </tr>\n",
       "  </thead>\n",
       "  <tbody>\n",
       "    <tr>\n",
       "      <th>H158108_N1-GTTAAGCAGAGGTAGA</th>\n",
       "      <td>H158108_N1</td>\n",
       "      <td>Epithelial</td>\n",
       "      <td>Kong, 2023</td>\n",
       "      <td>158108</td>\n",
       "      <td>Healthy adult</td>\n",
       "      <td>NaN</td>\n",
       "      <td>NaN</td>\n",
       "      <td>NaN</td>\n",
       "      <td>Male</td>\n",
       "      <td>10x 3' v2</td>\n",
       "      <td>...</td>\n",
       "      <td>NaN</td>\n",
       "      <td>NaN</td>\n",
       "      <td>NaN</td>\n",
       "      <td>NaN</td>\n",
       "      <td>NaN</td>\n",
       "      <td>NaN</td>\n",
       "      <td>NaN</td>\n",
       "      <td>NaN</td>\n",
       "      <td>NaN</td>\n",
       "      <td>Healthy gut</td>\n",
       "    </tr>\n",
       "    <tr>\n",
       "      <th>H180844_N1-AACTCAGTCAAGATCC</th>\n",
       "      <td>H180844_N1</td>\n",
       "      <td>Epithelial</td>\n",
       "      <td>Kong, 2023</td>\n",
       "      <td>180844</td>\n",
       "      <td>Healthy adult</td>\n",
       "      <td>NaN</td>\n",
       "      <td>NaN</td>\n",
       "      <td>NaN</td>\n",
       "      <td>Male</td>\n",
       "      <td>10x 3' v2</td>\n",
       "      <td>...</td>\n",
       "      <td>NaN</td>\n",
       "      <td>NaN</td>\n",
       "      <td>NaN</td>\n",
       "      <td>NaN</td>\n",
       "      <td>NaN</td>\n",
       "      <td>NaN</td>\n",
       "      <td>NaN</td>\n",
       "      <td>NaN</td>\n",
       "      <td>NaN</td>\n",
       "      <td>Healthy gut</td>\n",
       "    </tr>\n",
       "    <tr>\n",
       "      <th>H180844_N4-CGCTTCAGTAGGCATG</th>\n",
       "      <td>H180844_N4</td>\n",
       "      <td>Epithelial</td>\n",
       "      <td>Kong, 2023</td>\n",
       "      <td>180844</td>\n",
       "      <td>Healthy adult</td>\n",
       "      <td>NaN</td>\n",
       "      <td>NaN</td>\n",
       "      <td>NaN</td>\n",
       "      <td>Male</td>\n",
       "      <td>10x 3' v2</td>\n",
       "      <td>...</td>\n",
       "      <td>NaN</td>\n",
       "      <td>NaN</td>\n",
       "      <td>NaN</td>\n",
       "      <td>NaN</td>\n",
       "      <td>NaN</td>\n",
       "      <td>NaN</td>\n",
       "      <td>NaN</td>\n",
       "      <td>NaN</td>\n",
       "      <td>NaN</td>\n",
       "      <td>Healthy gut</td>\n",
       "    </tr>\n",
       "    <tr>\n",
       "      <th>GACGCGTTCCTCAACC-1-WTDAtest7844018</th>\n",
       "      <td>A33-CAE-0-SC-45N-1</td>\n",
       "      <td>Epithelial</td>\n",
       "      <td>Elmentaite, 2021</td>\n",
       "      <td>A33 (414C)</td>\n",
       "      <td>Healthy adult</td>\n",
       "      <td>20-25</td>\n",
       "      <td>CAE</td>\n",
       "      <td>SC-45N</td>\n",
       "      <td>Male</td>\n",
       "      <td>10x 3' v1</td>\n",
       "      <td>...</td>\n",
       "      <td>NaN</td>\n",
       "      <td>NaN</td>\n",
       "      <td>NaN</td>\n",
       "      <td>NaN</td>\n",
       "      <td>NaN</td>\n",
       "      <td>NaN</td>\n",
       "      <td>NaN</td>\n",
       "      <td>NaN</td>\n",
       "      <td>NaN</td>\n",
       "      <td>Healthy gut</td>\n",
       "    </tr>\n",
       "    <tr>\n",
       "      <th>N10_LP_A-TGTGATCTTCGTTT</th>\n",
       "      <td>N10_LP_A</td>\n",
       "      <td>Epithelial</td>\n",
       "      <td>Kong, 2023</td>\n",
       "      <td>N10</td>\n",
       "      <td>Healthy adult</td>\n",
       "      <td>NaN</td>\n",
       "      <td>NaN</td>\n",
       "      <td>NaN</td>\n",
       "      <td>Female</td>\n",
       "      <td>10x 3' v1</td>\n",
       "      <td>...</td>\n",
       "      <td>NaN</td>\n",
       "      <td>NaN</td>\n",
       "      <td>NaN</td>\n",
       "      <td>NaN</td>\n",
       "      <td>NaN</td>\n",
       "      <td>NaN</td>\n",
       "      <td>NaN</td>\n",
       "      <td>NaN</td>\n",
       "      <td>NaN</td>\n",
       "      <td>Healthy gut</td>\n",
       "    </tr>\n",
       "    <tr>\n",
       "      <th>...</th>\n",
       "      <td>...</td>\n",
       "      <td>...</td>\n",
       "      <td>...</td>\n",
       "      <td>...</td>\n",
       "      <td>...</td>\n",
       "      <td>...</td>\n",
       "      <td>...</td>\n",
       "      <td>...</td>\n",
       "      <td>...</td>\n",
       "      <td>...</td>\n",
       "      <td>...</td>\n",
       "      <td>...</td>\n",
       "      <td>...</td>\n",
       "      <td>...</td>\n",
       "      <td>...</td>\n",
       "      <td>...</td>\n",
       "      <td>...</td>\n",
       "      <td>...</td>\n",
       "      <td>...</td>\n",
       "      <td>...</td>\n",
       "      <td>...</td>\n",
       "    </tr>\n",
       "    <tr>\n",
       "      <th>KUL5_EXT127_GACTGCGAGTAGCGGT-1</th>\n",
       "      <td>EXT127</td>\n",
       "      <td>Epithelial</td>\n",
       "      <td>Joanito, 2022</td>\n",
       "      <td>SC044</td>\n",
       "      <td>Colorectal cancer, Stage III</td>\n",
       "      <td>NaN</td>\n",
       "      <td>NaN</td>\n",
       "      <td>NaN</td>\n",
       "      <td>Female</td>\n",
       "      <td>10x 5' v1</td>\n",
       "      <td>...</td>\n",
       "      <td>wt</td>\n",
       "      <td>wt</td>\n",
       "      <td>wt</td>\n",
       "      <td>wt</td>\n",
       "      <td>NaN</td>\n",
       "      <td>0.0</td>\n",
       "      <td>2.0</td>\n",
       "      <td>3.0</td>\n",
       "      <td>CMS1</td>\n",
       "      <td>Colorectal cancer</td>\n",
       "    </tr>\n",
       "    <tr>\n",
       "      <th>KUL5_EXT127_GTGCATAGTTTGACAC-1</th>\n",
       "      <td>EXT127</td>\n",
       "      <td>Epithelial</td>\n",
       "      <td>Joanito, 2022</td>\n",
       "      <td>SC044</td>\n",
       "      <td>Colorectal cancer, Stage III</td>\n",
       "      <td>NaN</td>\n",
       "      <td>NaN</td>\n",
       "      <td>NaN</td>\n",
       "      <td>Female</td>\n",
       "      <td>10x 5' v1</td>\n",
       "      <td>...</td>\n",
       "      <td>wt</td>\n",
       "      <td>wt</td>\n",
       "      <td>wt</td>\n",
       "      <td>wt</td>\n",
       "      <td>NaN</td>\n",
       "      <td>0.0</td>\n",
       "      <td>2.0</td>\n",
       "      <td>3.0</td>\n",
       "      <td>CMS1</td>\n",
       "      <td>Colorectal cancer</td>\n",
       "    </tr>\n",
       "    <tr>\n",
       "      <th>KUL5_EXT127_TATCAGGGTGTGAAAT-1</th>\n",
       "      <td>EXT127</td>\n",
       "      <td>Epithelial</td>\n",
       "      <td>Joanito, 2022</td>\n",
       "      <td>SC044</td>\n",
       "      <td>Colorectal cancer, Stage III</td>\n",
       "      <td>NaN</td>\n",
       "      <td>NaN</td>\n",
       "      <td>NaN</td>\n",
       "      <td>Female</td>\n",
       "      <td>10x 5' v1</td>\n",
       "      <td>...</td>\n",
       "      <td>wt</td>\n",
       "      <td>wt</td>\n",
       "      <td>wt</td>\n",
       "      <td>wt</td>\n",
       "      <td>NaN</td>\n",
       "      <td>0.0</td>\n",
       "      <td>2.0</td>\n",
       "      <td>3.0</td>\n",
       "      <td>CMS1</td>\n",
       "      <td>Colorectal cancer</td>\n",
       "    </tr>\n",
       "    <tr>\n",
       "      <th>KUL5_EXT127_TCACAAGAGATCCCGC-1</th>\n",
       "      <td>EXT127</td>\n",
       "      <td>Epithelial</td>\n",
       "      <td>Joanito, 2022</td>\n",
       "      <td>SC044</td>\n",
       "      <td>Colorectal cancer, Stage III</td>\n",
       "      <td>NaN</td>\n",
       "      <td>NaN</td>\n",
       "      <td>NaN</td>\n",
       "      <td>Female</td>\n",
       "      <td>10x 5' v1</td>\n",
       "      <td>...</td>\n",
       "      <td>wt</td>\n",
       "      <td>wt</td>\n",
       "      <td>wt</td>\n",
       "      <td>wt</td>\n",
       "      <td>NaN</td>\n",
       "      <td>0.0</td>\n",
       "      <td>2.0</td>\n",
       "      <td>3.0</td>\n",
       "      <td>CMS1</td>\n",
       "      <td>Colorectal cancer</td>\n",
       "    </tr>\n",
       "    <tr>\n",
       "      <th>KUL5_EXT127_TGGTTCCAGAGATGAG-1</th>\n",
       "      <td>EXT127</td>\n",
       "      <td>Epithelial</td>\n",
       "      <td>Joanito, 2022</td>\n",
       "      <td>SC044</td>\n",
       "      <td>Colorectal cancer, Stage III</td>\n",
       "      <td>NaN</td>\n",
       "      <td>NaN</td>\n",
       "      <td>NaN</td>\n",
       "      <td>Female</td>\n",
       "      <td>10x 5' v1</td>\n",
       "      <td>...</td>\n",
       "      <td>wt</td>\n",
       "      <td>wt</td>\n",
       "      <td>wt</td>\n",
       "      <td>wt</td>\n",
       "      <td>NaN</td>\n",
       "      <td>0.0</td>\n",
       "      <td>2.0</td>\n",
       "      <td>3.0</td>\n",
       "      <td>CMS1</td>\n",
       "      <td>Colorectal cancer</td>\n",
       "    </tr>\n",
       "  </tbody>\n",
       "</table>\n",
       "<p>191909 rows × 55 columns</p>\n",
       "</div>"
      ],
      "text/plain": [
       "                                             Sample_ID   Cell Type  \\\n",
       "H158108_N1-GTTAAGCAGAGGTAGA                 H158108_N1  Epithelial   \n",
       "H180844_N1-AACTCAGTCAAGATCC                 H180844_N1  Epithelial   \n",
       "H180844_N4-CGCTTCAGTAGGCATG                 H180844_N4  Epithelial   \n",
       "GACGCGTTCCTCAACC-1-WTDAtest7844018  A33-CAE-0-SC-45N-1  Epithelial   \n",
       "N10_LP_A-TGTGATCTTCGTTT                       N10_LP_A  Epithelial   \n",
       "...                                                ...         ...   \n",
       "KUL5_EXT127_GACTGCGAGTAGCGGT-1                  EXT127  Epithelial   \n",
       "KUL5_EXT127_GTGCATAGTTTGACAC-1                  EXT127  Epithelial   \n",
       "KUL5_EXT127_TATCAGGGTGTGAAAT-1                  EXT127  Epithelial   \n",
       "KUL5_EXT127_TCACAAGAGATCCCGC-1                  EXT127  Epithelial   \n",
       "KUL5_EXT127_TGGTTCCAGAGATGAG-1                  EXT127  Epithelial   \n",
       "\n",
       "                                          Study_name    Donor_ID  \\\n",
       "H158108_N1-GTTAAGCAGAGGTAGA               Kong, 2023      158108   \n",
       "H180844_N1-AACTCAGTCAAGATCC               Kong, 2023      180844   \n",
       "H180844_N4-CGCTTCAGTAGGCATG               Kong, 2023      180844   \n",
       "GACGCGTTCCTCAACC-1-WTDAtest7844018  Elmentaite, 2021  A33 (414C)   \n",
       "N10_LP_A-TGTGATCTTCGTTT                   Kong, 2023         N10   \n",
       "...                                              ...         ...   \n",
       "KUL5_EXT127_GACTGCGAGTAGCGGT-1         Joanito, 2022       SC044   \n",
       "KUL5_EXT127_GTGCATAGTTTGACAC-1         Joanito, 2022       SC044   \n",
       "KUL5_EXT127_TATCAGGGTGTGAAAT-1         Joanito, 2022       SC044   \n",
       "KUL5_EXT127_TCACAAGAGATCCCGC-1         Joanito, 2022       SC044   \n",
       "KUL5_EXT127_TGGTTCCAGAGATGAG-1         Joanito, 2022       SC044   \n",
       "\n",
       "                                                       Diagnosis    Age  \\\n",
       "H158108_N1-GTTAAGCAGAGGTAGA                        Healthy adult    NaN   \n",
       "H180844_N1-AACTCAGTCAAGATCC                        Healthy adult    NaN   \n",
       "H180844_N4-CGCTTCAGTAGGCATG                        Healthy adult    NaN   \n",
       "GACGCGTTCCTCAACC-1-WTDAtest7844018                 Healthy adult  20-25   \n",
       "N10_LP_A-TGTGATCTTCGTTT                            Healthy adult    NaN   \n",
       "...                                                          ...    ...   \n",
       "KUL5_EXT127_GACTGCGAGTAGCGGT-1      Colorectal cancer, Stage III    NaN   \n",
       "KUL5_EXT127_GTGCATAGTTTGACAC-1      Colorectal cancer, Stage III    NaN   \n",
       "KUL5_EXT127_TATCAGGGTGTGAAAT-1      Colorectal cancer, Stage III    NaN   \n",
       "KUL5_EXT127_TCACAAGAGATCCCGC-1      Colorectal cancer, Stage III    NaN   \n",
       "KUL5_EXT127_TGGTTCCAGAGATGAG-1      Colorectal cancer, Stage III    NaN   \n",
       "\n",
       "                                   Region code Fraction     Sex  \\\n",
       "H158108_N1-GTTAAGCAGAGGTAGA                NaN      NaN    Male   \n",
       "H180844_N1-AACTCAGTCAAGATCC                NaN      NaN    Male   \n",
       "H180844_N4-CGCTTCAGTAGGCATG                NaN      NaN    Male   \n",
       "GACGCGTTCCTCAACC-1-WTDAtest7844018         CAE   SC-45N    Male   \n",
       "N10_LP_A-TGTGATCTTCGTTT                    NaN      NaN  Female   \n",
       "...                                        ...      ...     ...   \n",
       "KUL5_EXT127_GACTGCGAGTAGCGGT-1             NaN      NaN  Female   \n",
       "KUL5_EXT127_GTGCATAGTTTGACAC-1             NaN      NaN  Female   \n",
       "KUL5_EXT127_TATCAGGGTGTGAAAT-1             NaN      NaN  Female   \n",
       "KUL5_EXT127_TCACAAGAGATCCCGC-1             NaN      NaN  Female   \n",
       "KUL5_EXT127_TGGTTCCAGAGATGAG-1             NaN      NaN  Female   \n",
       "\n",
       "                                   Library_Preparation_Protocol  ... KRAS  \\\n",
       "H158108_N1-GTTAAGCAGAGGTAGA                           10x 3' v2  ...  NaN   \n",
       "H180844_N1-AACTCAGTCAAGATCC                           10x 3' v2  ...  NaN   \n",
       "H180844_N4-CGCTTCAGTAGGCATG                           10x 3' v2  ...  NaN   \n",
       "GACGCGTTCCTCAACC-1-WTDAtest7844018                    10x 3' v1  ...  NaN   \n",
       "N10_LP_A-TGTGATCTTCGTTT                               10x 3' v1  ...  NaN   \n",
       "...                                                         ...  ...  ...   \n",
       "KUL5_EXT127_GACTGCGAGTAGCGGT-1                        10x 5' v1  ...   wt   \n",
       "KUL5_EXT127_GTGCATAGTTTGACAC-1                        10x 5' v1  ...   wt   \n",
       "KUL5_EXT127_TATCAGGGTGTGAAAT-1                        10x 5' v1  ...   wt   \n",
       "KUL5_EXT127_TCACAAGAGATCCCGC-1                        10x 5' v1  ...   wt   \n",
       "KUL5_EXT127_TGGTTCCAGAGATGAG-1                        10x 5' v1  ...   wt   \n",
       "\n",
       "                                   BRAF TP53  APC PIK3CA LymphNode Normal  \\\n",
       "H158108_N1-GTTAAGCAGAGGTAGA         NaN  NaN  NaN    NaN       NaN    NaN   \n",
       "H180844_N1-AACTCAGTCAAGATCC         NaN  NaN  NaN    NaN       NaN    NaN   \n",
       "H180844_N4-CGCTTCAGTAGGCATG         NaN  NaN  NaN    NaN       NaN    NaN   \n",
       "GACGCGTTCCTCAACC-1-WTDAtest7844018  NaN  NaN  NaN    NaN       NaN    NaN   \n",
       "N10_LP_A-TGTGATCTTCGTTT             NaN  NaN  NaN    NaN       NaN    NaN   \n",
       "...                                 ...  ...  ...    ...       ...    ...   \n",
       "KUL5_EXT127_GACTGCGAGTAGCGGT-1       wt   wt   wt    NaN       0.0    2.0   \n",
       "KUL5_EXT127_GTGCATAGTTTGACAC-1       wt   wt   wt    NaN       0.0    2.0   \n",
       "KUL5_EXT127_TATCAGGGTGTGAAAT-1       wt   wt   wt    NaN       0.0    2.0   \n",
       "KUL5_EXT127_TCACAAGAGATCCCGC-1       wt   wt   wt    NaN       0.0    2.0   \n",
       "KUL5_EXT127_TGGTTCCAGAGATGAG-1       wt   wt   wt    NaN       0.0    2.0   \n",
       "\n",
       "                                   Tumor   CMS      Sample origin  \n",
       "H158108_N1-GTTAAGCAGAGGTAGA          NaN   NaN        Healthy gut  \n",
       "H180844_N1-AACTCAGTCAAGATCC          NaN   NaN        Healthy gut  \n",
       "H180844_N4-CGCTTCAGTAGGCATG          NaN   NaN        Healthy gut  \n",
       "GACGCGTTCCTCAACC-1-WTDAtest7844018   NaN   NaN        Healthy gut  \n",
       "N10_LP_A-TGTGATCTTCGTTT              NaN   NaN        Healthy gut  \n",
       "...                                  ...   ...                ...  \n",
       "KUL5_EXT127_GACTGCGAGTAGCGGT-1       3.0  CMS1  Colorectal cancer  \n",
       "KUL5_EXT127_GTGCATAGTTTGACAC-1       3.0  CMS1  Colorectal cancer  \n",
       "KUL5_EXT127_TATCAGGGTGTGAAAT-1       3.0  CMS1  Colorectal cancer  \n",
       "KUL5_EXT127_TCACAAGAGATCCCGC-1       3.0  CMS1  Colorectal cancer  \n",
       "KUL5_EXT127_TGGTTCCAGAGATGAG-1       3.0  CMS1  Colorectal cancer  \n",
       "\n",
       "[191909 rows x 55 columns]"
      ]
     },
     "execution_count": 18,
     "metadata": {},
     "output_type": "execute_result"
    }
   ],
   "source": [
    "adata.obs"
   ]
  },
  {
   "attachments": {},
   "cell_type": "markdown",
   "metadata": {},
   "source": [
    "### Identify Highly Variable Genes"
   ]
  },
  {
   "cell_type": "code",
   "execution_count": 17,
   "metadata": {},
   "outputs": [
    {
     "data": {
      "text/plain": [
       "10x 3' v1    65477\n",
       "10x 3' v2    52863\n",
       "10x 5' v1    48529\n",
       "10x 3' v3    25040\n",
       "Name: Library_Preparation_Protocol, dtype: int64"
      ]
     },
     "execution_count": 17,
     "metadata": {},
     "output_type": "execute_result"
    }
   ],
   "source": [
    "adata.obs['Library_Preparation_Protocol'].value_counts()"
   ]
  },
  {
   "cell_type": "code",
   "execution_count": 18,
   "metadata": {},
   "outputs": [],
   "source": [
    "# Copy counts to raw\n",
    "adata.raw = adata"
   ]
  },
  {
   "cell_type": "code",
   "execution_count": 19,
   "metadata": {},
   "outputs": [],
   "source": [
    "adata.layers['counts'] = adata.X.copy()\n",
    "\n",
    "# Calculate 5000 HVGs\n",
    "sc.pp.highly_variable_genes(\n",
    "    adata,\n",
    "    flavor = \"seurat_v3\",\n",
    "    n_top_genes = 7000,\n",
    "    layer = \"counts\",\n",
    "    batch_key = \"Library_Preparation_Protocol\",\n",
    "    subset = True,\n",
    "    span = 1\n",
    ")"
   ]
  },
  {
   "cell_type": "code",
   "execution_count": 20,
   "metadata": {},
   "outputs": [],
   "source": [
    "# Save the adata object\n",
    "adata.write_h5ad('/Users/anna.maguza/Desktop/Data/Processed_datasets/Cancer_dataset_integration/input_files/Datasets_integration/All_cells_7000_HVGs.h5ad')"
   ]
  },
  {
   "attachments": {},
   "cell_type": "markdown",
   "metadata": {},
   "source": [
    "### Draft functions"
   ]
  },
  {
   "cell_type": "code",
   "execution_count": null,
   "metadata": {},
   "outputs": [],
   "source": [
    "# Copy indexes from Cancer_adata as a column in obs of Cancer dataset\n",
    "Cancer_adata_predicted.obs['Cell_ID2'] = Cancer_adata_predicted.obs.index\n",
    "\n",
    "# Remove part '-Cancer' and '-Healthy' from the Cancer_adata.obs['Cell_ID'] \n",
    "Cancer_adata_predicted.obs['Cell_ID2'] = Cancer_adata_predicted.obs['Cell_ID2'].str.replace('-Cancer', '')\n",
    "Cancer_adata_predicted.obs['Cell_ID2'] = Cancer_adata_predicted.obs['Cell_ID2'].str.replace('-Healthy', '')\n",
    "\n",
    "# Make 'Cell_ID2' column as index\n",
    "Cancer_adata_predicted.obs.set_index('Cell_ID2', inplace=True)\n",
    "\n",
    "del Cancer_adata_predicted.obs['Cell_ID2']"
   ]
  }
 ],
 "metadata": {
  "kernelspec": {
   "display_name": "scanpy_env",
   "language": "python",
   "name": "python3"
  },
  "language_info": {
   "codemirror_mode": {
    "name": "ipython",
    "version": 3
   },
   "file_extension": ".py",
   "mimetype": "text/x-python",
   "name": "python",
   "nbconvert_exporter": "python",
   "pygments_lexer": "ipython3",
   "version": "3.9.16"
  },
  "orig_nbformat": 4
 },
 "nbformat": 4,
 "nbformat_minor": 2
}
