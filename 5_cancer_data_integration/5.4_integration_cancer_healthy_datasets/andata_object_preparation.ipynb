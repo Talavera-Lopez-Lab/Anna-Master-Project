{
 "cells": [
  {
   "attachments": {},
   "cell_type": "markdown",
   "metadata": {},
   "source": [
    "## Notebook for anndata object preparation that will be used for the datasets integration\n",
    "\n",
    "- **Developed by**: Anna Maguza\n",
    "- **Institute of Computational Biology - Computational Health Centre - Helmholtz Munich**\n",
    "- 31st May 2023"
   ]
  },
  {
   "cell_type": "markdown",
   "metadata": {},
   "source": [
    "### Import Packages"
   ]
  },
  {
   "cell_type": "code",
   "execution_count": 1,
   "metadata": {},
   "outputs": [],
   "source": [
    "import scanpy as sc\n",
    "import pandas as pd\n",
    "import numpy as np\n",
    "import os\n",
    "import anndata as ad"
   ]
  },
  {
   "cell_type": "code",
   "execution_count": 2,
   "metadata": {},
   "outputs": [],
   "source": [
    "def X_is_raw(adata):\n",
    "    return np.array_equal(adata.X.sum(axis=0).astype(int), adata.X.sum(axis=0))"
   ]
  },
  {
   "cell_type": "markdown",
   "metadata": {},
   "source": [
    "### Datasets Upload"
   ]
  },
  {
   "cell_type": "code",
   "execution_count": 44,
   "metadata": {},
   "outputs": [],
   "source": [
    "input = '/Users/anna.maguza/Desktop/Data/Processed_datasets/Cancer_dataset_integration/input_files/all_cells/Healthy_integrated_data_all_genes.h5ad'\n",
    "Healthy_adata = sc.read_h5ad(input)"
   ]
  },
  {
   "cell_type": "code",
   "execution_count": 45,
   "metadata": {},
   "outputs": [],
   "source": [
    "input_cancer = '/Users/anna.maguza/Desktop/Data/Processed_datasets/Cancer_dataset_integration/output/Epithelial/Joanito/2000_HVGs/scVI/Joanito_predicted_labels_with_scVI_scANVI_2000HVGs.h5ad'\n",
    "Cancer_adata_predicted = sc.read_h5ad(input_cancer)"
   ]
  },
  {
   "cell_type": "code",
   "execution_count": 46,
   "metadata": {},
   "outputs": [],
   "source": [
    "input_cancer2 = '/Users/anna.maguza/Desktop/Data/Gut_project/Joanito_cancer/anndata/Joanito_raw_anndata_tumor_cells.h5ad'\n",
    "Cancer_adata_raw = sc.read(input_cancer2)"
   ]
  },
  {
   "cell_type": "markdown",
   "metadata": {},
   "source": [
    "### Filter epithelial cells"
   ]
  },
  {
   "cell_type": "code",
   "execution_count": 47,
   "metadata": {},
   "outputs": [],
   "source": [
    "# Filter out fetal and pediatric samples\n",
    "Healthy_adata = Healthy_adata[Healthy_adata.obs['Diagnosis'] != 'Fetal Healthy', :]\n",
    "Healthy_adata = Healthy_adata[Healthy_adata.obs['Diagnosis'] != 'Pediatric healthy', :]"
   ]
  },
  {
   "cell_type": "code",
   "execution_count": 48,
   "metadata": {},
   "outputs": [],
   "source": [
    "# Subset only epitheleal cells\n",
    "Healthy_adata = Healthy_adata[Healthy_adata.obs['Cell Type'] == 'Epithelial', :]"
   ]
  },
  {
   "cell_type": "code",
   "execution_count": 49,
   "metadata": {},
   "outputs": [
    {
     "name": "stderr",
     "output_type": "stream",
     "text": [
      "/var/folders/gb/wwnzrh015q9dns5cmsc3xcjsxglkqz/T/ipykernel_57031/1371884156.py:1: ImplicitModificationWarning: Trying to modify attribute `.obs` of view, initializing view as actual.\n",
      "  Healthy_adata.obs['Unified Cell States'] = Healthy_adata.obs['Cell States']\n"
     ]
    }
   ],
   "source": [
    "Healthy_adata.obs['Unified Cell States'] = Healthy_adata.obs['Cell States']"
   ]
  },
  {
   "cell_type": "code",
   "execution_count": 50,
   "metadata": {},
   "outputs": [],
   "source": [
    "Healthy_adata.obs['Unified Cell States'].replace({\"Enterocytes TMIGD1 MEP1A\": 'Enterocyte',\n",
    "                                               'Enterocytes CA1 CA2 CA4-': 'Enterocyte',\n",
    "                                               'Enterocytes TMIGD1 MEP1A GSTA1': 'Enterocyte',\n",
    "                                               'Enterocytes BEST4': 'Enterocyte',\n",
    "                                               'BEST4+ epithelial': 'Enterocyte',\n",
    "                                               'Stem_Cells_GCA': 'Stem cells OLFM4',\n",
    "                                               'Stem_Cells_ext': 'Stem cells OLFM4',\n",
    "                                               'Tuft': 'Tuft cells',\n",
    "                                               'Paneth': 'Paneth cells',\n",
    "                                               'Epithelial Cycling cells': 'TA',\n",
    "                                               'Goblet cells SPINK4': 'Goblet cells',\n",
    "                                               'Goblet cell': 'Goblet cells',\n",
    "                                               'Goblet cells MUC2 TFF1-': 'Goblet cells',\n",
    "                                               'Goblet cells MUC2 TFF1': 'Goblet cells',\n",
    "                                               'EC cells (TAC1+)': 'Enterochromaffin cells',\n",
    "                                               'EECs': 'Enteroendocrine cells',\n",
    "                                               'K cells (GIP+)': 'Enteroendocrine cells',\n",
    "                                               'M/X cells (MLN/GHRL+)': 'Enteroendocrine cells',\n",
    "                                               'Progenitor (NEUROG3+)': 'Enteroendocrine cells',\n",
    "                                               'D cells (SST+)': 'Enteroendocrine cells',\n",
    "                                               'I cells (CCK+)': 'Enteroendocrine cells',\n",
    "                                               'N cells (NTS+)': 'Enteroendocrine cells',\n",
    "                                               'L cells (PYY+)': 'L cells'}, inplace=True)"
   ]
  },
  {
   "attachments": {},
   "cell_type": "markdown",
   "metadata": {},
   "source": [
    "### Filter Cancer dataset"
   ]
  },
  {
   "cell_type": "code",
   "execution_count": 52,
   "metadata": {},
   "outputs": [],
   "source": [
    "# Filter cancer cells \n",
    "Cancer_adata_predicted = Cancer_adata_predicted[Cancer_adata_predicted.obs['dataset'] == 'Cancer', :]"
   ]
  },
  {
   "cell_type": "code",
   "execution_count": 60,
   "metadata": {},
   "outputs": [],
   "source": [
    "Cancer_adata_raw = Cancer_adata_raw[Cancer_adata_raw.obs['Cell Type'] == 'Epithelial', :]"
   ]
  },
  {
   "cell_type": "code",
   "execution_count": 14,
   "metadata": {},
   "outputs": [
    {
     "data": {
      "text/plain": [
       "Paneth cells        15707\n",
       "Colonocyte          12370\n",
       "Stem cells OLFM4     3247\n",
       "TA                    846\n",
       "Enterocyte             11\n",
       "Name: predictions, dtype: int64"
      ]
     },
     "execution_count": 14,
     "metadata": {},
     "output_type": "execute_result"
    }
   ],
   "source": [
    "# scArches + scANVI, 2000 HVGs\n",
    "Cancer_adata_predicted.obs['predictions'].value_counts()"
   ]
  },
  {
   "cell_type": "code",
   "execution_count": 53,
   "metadata": {},
   "outputs": [
    {
     "data": {
      "text/plain": [
       "Paneth cells             14716\n",
       "Colonocyte               11247\n",
       "Stem cells OLFM4          2163\n",
       "TA                        1835\n",
       "Stem cells OLFM4 LGR5     1227\n",
       "Enterocyte                 993\n",
       "Name: C_scANVI, dtype: int64"
      ]
     },
     "execution_count": 53,
     "metadata": {},
     "output_type": "execute_result"
    }
   ],
   "source": [
    "# scVI + scANVI, 2000 HVGs\n",
    "Cancer_adata_predicted.obs['C_scANVI'].value_counts()"
   ]
  },
  {
   "cell_type": "code",
   "execution_count": 25,
   "metadata": {},
   "outputs": [
    {
     "data": {
      "text/plain": [
       "Colonocyte               16185\n",
       "Paneth cells             11369\n",
       "TA                        4422\n",
       "Enterocyte                 127\n",
       "Stem cells OLFM4            52\n",
       "Stem cells OLFM4 LGR5       26\n",
       "Name: predictions, dtype: int64"
      ]
     },
     "execution_count": 25,
     "metadata": {},
     "output_type": "execute_result"
    }
   ],
   "source": [
    "# scArches + scANVI, 3000 HVGs\n",
    "Cancer_adata_predicted.obs['predictions'].value_counts()"
   ]
  },
  {
   "cell_type": "code",
   "execution_count": 55,
   "metadata": {},
   "outputs": [
    {
     "data": {
      "text/plain": [
       "<bound method AnnData.obs_keys of View of AnnData object with n_obs × n_vars = 32181 × 1808\n",
       "    obs: 'Sample_ID', 'Cell Type', 'Study_name', 'Donor_ID', 'Diagnosis', 'Age', 'Region code', 'Fraction', 'Gender', 'Library_Preparation_Protocol', 'batch', 'Age_group', 'Location', 'Cell States', 'Cell States GCA', 'Chem', 'Layer', 'Cell States Kong', 'dataset', 'n_genes_by_counts', 'total_counts', 'total_counts_mito', 'pct_counts_mito', 'total_counts_ribo', 'pct_counts_ribo', 'Cell_ID', '_scvi_batch', '_scvi_labels', 'Unified Cell States', 'seed_labels', 'nFeature_RNA', 'dataset_x', 'iCMS', 'msi', 'dataset_y', 'Tumor Stage', 'MSS/MSI', 'Side', 'Group Stage', 'Stage TNM', 'iCMS.transcriptomic', 'iCMS.inferCNV', 'KRAS', 'BRAF', 'TP53', 'APC', 'PIK3CA', 'LymphNode', 'Normal', 'Tumor', 'CMS', 'C_scANVI'\n",
       "    var: 'feature_types-Cancer', 'genome-Cancer', 'n_cells_by_counts-Cancer', 'mean_counts-Cancer', 'log1p_mean_counts-Cancer', 'pct_dropout_by_counts-Cancer', 'total_counts-Cancer', 'log1p_total_counts-Cancer', 'highly_variable-Healthy', 'highly_variable_rank-Healthy', 'means-Healthy', 'variances-Healthy', 'variances_norm-Healthy', 'highly_variable_nbatches-Healthy'\n",
       "    uns: '_scvi_manager_uuid', '_scvi_uuid', 'neighbors'\n",
       "    obsm: 'X_scANVI', 'X_scVI'\n",
       "    layers: 'raw_counts'\n",
       "    obsp: 'connectivities', 'distances'>"
      ]
     },
     "execution_count": 55,
     "metadata": {},
     "output_type": "execute_result"
    }
   ],
   "source": [
    "Cancer_adata_predicted.obs_keys"
   ]
  },
  {
   "cell_type": "code",
   "execution_count": 57,
   "metadata": {},
   "outputs": [
    {
     "data": {
      "text/html": [
       "<div>\n",
       "<style scoped>\n",
       "    .dataframe tbody tr th:only-of-type {\n",
       "        vertical-align: middle;\n",
       "    }\n",
       "\n",
       "    .dataframe tbody tr th {\n",
       "        vertical-align: top;\n",
       "    }\n",
       "\n",
       "    .dataframe thead th {\n",
       "        text-align: right;\n",
       "    }\n",
       "</style>\n",
       "<table border=\"1\" class=\"dataframe\">\n",
       "  <thead>\n",
       "    <tr style=\"text-align: right;\">\n",
       "      <th></th>\n",
       "      <th>Sample_ID</th>\n",
       "      <th>Cell Type</th>\n",
       "      <th>Study_name</th>\n",
       "      <th>Donor_ID</th>\n",
       "      <th>Diagnosis</th>\n",
       "      <th>Age</th>\n",
       "      <th>Region code</th>\n",
       "      <th>Fraction</th>\n",
       "      <th>Gender</th>\n",
       "      <th>Library_Preparation_Protocol</th>\n",
       "      <th>...</th>\n",
       "      <th>KRAS</th>\n",
       "      <th>BRAF</th>\n",
       "      <th>TP53</th>\n",
       "      <th>APC</th>\n",
       "      <th>PIK3CA</th>\n",
       "      <th>LymphNode</th>\n",
       "      <th>Normal</th>\n",
       "      <th>Tumor</th>\n",
       "      <th>CMS</th>\n",
       "      <th>C_scANVI</th>\n",
       "    </tr>\n",
       "    <tr>\n",
       "      <th>Cell_ID2</th>\n",
       "      <th></th>\n",
       "      <th></th>\n",
       "      <th></th>\n",
       "      <th></th>\n",
       "      <th></th>\n",
       "      <th></th>\n",
       "      <th></th>\n",
       "      <th></th>\n",
       "      <th></th>\n",
       "      <th></th>\n",
       "      <th></th>\n",
       "      <th></th>\n",
       "      <th></th>\n",
       "      <th></th>\n",
       "      <th></th>\n",
       "      <th></th>\n",
       "      <th></th>\n",
       "      <th></th>\n",
       "      <th></th>\n",
       "      <th></th>\n",
       "      <th></th>\n",
       "    </tr>\n",
       "  </thead>\n",
       "  <tbody>\n",
       "    <tr>\n",
       "      <th>CRC16_MUX8563_AAAGATGCAGAAGCAC-1</th>\n",
       "      <td>MUX8563</td>\n",
       "      <td>Epithelial</td>\n",
       "      <td>Joanito_cancer</td>\n",
       "      <td>CRC2794</td>\n",
       "      <td>Tumor</td>\n",
       "      <td>NaN</td>\n",
       "      <td>NaN</td>\n",
       "      <td>NaN</td>\n",
       "      <td>Female</td>\n",
       "      <td>NaN</td>\n",
       "      <td>...</td>\n",
       "      <td>wt</td>\n",
       "      <td>wt</td>\n",
       "      <td>mut</td>\n",
       "      <td>mut</td>\n",
       "      <td>wt</td>\n",
       "      <td>0.0</td>\n",
       "      <td>1.0</td>\n",
       "      <td>4.0</td>\n",
       "      <td>CMS2</td>\n",
       "      <td>Paneth cells</td>\n",
       "    </tr>\n",
       "    <tr>\n",
       "      <th>CRC16_MUX8563_ACAGCCGGTCTCTTAT-1</th>\n",
       "      <td>MUX8563</td>\n",
       "      <td>Epithelial</td>\n",
       "      <td>Joanito_cancer</td>\n",
       "      <td>CRC2794</td>\n",
       "      <td>Tumor</td>\n",
       "      <td>NaN</td>\n",
       "      <td>NaN</td>\n",
       "      <td>NaN</td>\n",
       "      <td>Female</td>\n",
       "      <td>NaN</td>\n",
       "      <td>...</td>\n",
       "      <td>wt</td>\n",
       "      <td>wt</td>\n",
       "      <td>mut</td>\n",
       "      <td>mut</td>\n",
       "      <td>wt</td>\n",
       "      <td>0.0</td>\n",
       "      <td>1.0</td>\n",
       "      <td>4.0</td>\n",
       "      <td>CMS2</td>\n",
       "      <td>Colonocyte</td>\n",
       "    </tr>\n",
       "    <tr>\n",
       "      <th>CRC16_MUX8563_ACATACGGTTACGTCA-1</th>\n",
       "      <td>MUX8563</td>\n",
       "      <td>Epithelial</td>\n",
       "      <td>Joanito_cancer</td>\n",
       "      <td>CRC2794</td>\n",
       "      <td>Tumor</td>\n",
       "      <td>NaN</td>\n",
       "      <td>NaN</td>\n",
       "      <td>NaN</td>\n",
       "      <td>Female</td>\n",
       "      <td>NaN</td>\n",
       "      <td>...</td>\n",
       "      <td>wt</td>\n",
       "      <td>wt</td>\n",
       "      <td>mut</td>\n",
       "      <td>mut</td>\n",
       "      <td>wt</td>\n",
       "      <td>0.0</td>\n",
       "      <td>1.0</td>\n",
       "      <td>4.0</td>\n",
       "      <td>CMS2</td>\n",
       "      <td>Colonocyte</td>\n",
       "    </tr>\n",
       "    <tr>\n",
       "      <th>CRC16_MUX8563_ACATGGTGTCCATGAT-1</th>\n",
       "      <td>MUX8563</td>\n",
       "      <td>Epithelial</td>\n",
       "      <td>Joanito_cancer</td>\n",
       "      <td>CRC2794</td>\n",
       "      <td>Tumor</td>\n",
       "      <td>NaN</td>\n",
       "      <td>NaN</td>\n",
       "      <td>NaN</td>\n",
       "      <td>Female</td>\n",
       "      <td>NaN</td>\n",
       "      <td>...</td>\n",
       "      <td>wt</td>\n",
       "      <td>wt</td>\n",
       "      <td>mut</td>\n",
       "      <td>mut</td>\n",
       "      <td>wt</td>\n",
       "      <td>0.0</td>\n",
       "      <td>1.0</td>\n",
       "      <td>4.0</td>\n",
       "      <td>CMS2</td>\n",
       "      <td>Paneth cells</td>\n",
       "    </tr>\n",
       "    <tr>\n",
       "      <th>CRC16_MUX8563_ACGAGGACATCTGGTA-1</th>\n",
       "      <td>MUX8563</td>\n",
       "      <td>Epithelial</td>\n",
       "      <td>Joanito_cancer</td>\n",
       "      <td>CRC2794</td>\n",
       "      <td>Tumor</td>\n",
       "      <td>NaN</td>\n",
       "      <td>NaN</td>\n",
       "      <td>NaN</td>\n",
       "      <td>Female</td>\n",
       "      <td>NaN</td>\n",
       "      <td>...</td>\n",
       "      <td>wt</td>\n",
       "      <td>wt</td>\n",
       "      <td>mut</td>\n",
       "      <td>mut</td>\n",
       "      <td>wt</td>\n",
       "      <td>0.0</td>\n",
       "      <td>1.0</td>\n",
       "      <td>4.0</td>\n",
       "      <td>CMS2</td>\n",
       "      <td>Paneth cells</td>\n",
       "    </tr>\n",
       "    <tr>\n",
       "      <th>...</th>\n",
       "      <td>...</td>\n",
       "      <td>...</td>\n",
       "      <td>...</td>\n",
       "      <td>...</td>\n",
       "      <td>...</td>\n",
       "      <td>...</td>\n",
       "      <td>...</td>\n",
       "      <td>...</td>\n",
       "      <td>...</td>\n",
       "      <td>...</td>\n",
       "      <td>...</td>\n",
       "      <td>...</td>\n",
       "      <td>...</td>\n",
       "      <td>...</td>\n",
       "      <td>...</td>\n",
       "      <td>...</td>\n",
       "      <td>...</td>\n",
       "      <td>...</td>\n",
       "      <td>...</td>\n",
       "      <td>...</td>\n",
       "      <td>...</td>\n",
       "    </tr>\n",
       "    <tr>\n",
       "      <th>KUL5_EXT127_GACTGCGAGTAGCGGT-1</th>\n",
       "      <td>EXT127</td>\n",
       "      <td>Epithelial</td>\n",
       "      <td>Joanito_cancer</td>\n",
       "      <td>SC044</td>\n",
       "      <td>Tumor</td>\n",
       "      <td>NaN</td>\n",
       "      <td>NaN</td>\n",
       "      <td>NaN</td>\n",
       "      <td>Female</td>\n",
       "      <td>NaN</td>\n",
       "      <td>...</td>\n",
       "      <td>wt</td>\n",
       "      <td>wt</td>\n",
       "      <td>wt</td>\n",
       "      <td>wt</td>\n",
       "      <td>NaN</td>\n",
       "      <td>0.0</td>\n",
       "      <td>2.0</td>\n",
       "      <td>3.0</td>\n",
       "      <td>CMS1</td>\n",
       "      <td>Paneth cells</td>\n",
       "    </tr>\n",
       "    <tr>\n",
       "      <th>KUL5_EXT127_GTGCATAGTTTGACAC-1</th>\n",
       "      <td>EXT127</td>\n",
       "      <td>Epithelial</td>\n",
       "      <td>Joanito_cancer</td>\n",
       "      <td>SC044</td>\n",
       "      <td>Tumor</td>\n",
       "      <td>NaN</td>\n",
       "      <td>NaN</td>\n",
       "      <td>NaN</td>\n",
       "      <td>Female</td>\n",
       "      <td>NaN</td>\n",
       "      <td>...</td>\n",
       "      <td>wt</td>\n",
       "      <td>wt</td>\n",
       "      <td>wt</td>\n",
       "      <td>wt</td>\n",
       "      <td>NaN</td>\n",
       "      <td>0.0</td>\n",
       "      <td>2.0</td>\n",
       "      <td>3.0</td>\n",
       "      <td>CMS1</td>\n",
       "      <td>Paneth cells</td>\n",
       "    </tr>\n",
       "    <tr>\n",
       "      <th>KUL5_EXT127_TATCAGGGTGTGAAAT-1</th>\n",
       "      <td>EXT127</td>\n",
       "      <td>Epithelial</td>\n",
       "      <td>Joanito_cancer</td>\n",
       "      <td>SC044</td>\n",
       "      <td>Tumor</td>\n",
       "      <td>NaN</td>\n",
       "      <td>NaN</td>\n",
       "      <td>NaN</td>\n",
       "      <td>Female</td>\n",
       "      <td>NaN</td>\n",
       "      <td>...</td>\n",
       "      <td>wt</td>\n",
       "      <td>wt</td>\n",
       "      <td>wt</td>\n",
       "      <td>wt</td>\n",
       "      <td>NaN</td>\n",
       "      <td>0.0</td>\n",
       "      <td>2.0</td>\n",
       "      <td>3.0</td>\n",
       "      <td>CMS1</td>\n",
       "      <td>Stem cells OLFM4 LGR5</td>\n",
       "    </tr>\n",
       "    <tr>\n",
       "      <th>KUL5_EXT127_TCACAAGAGATCCCGC-1</th>\n",
       "      <td>EXT127</td>\n",
       "      <td>Epithelial</td>\n",
       "      <td>Joanito_cancer</td>\n",
       "      <td>SC044</td>\n",
       "      <td>Tumor</td>\n",
       "      <td>NaN</td>\n",
       "      <td>NaN</td>\n",
       "      <td>NaN</td>\n",
       "      <td>Female</td>\n",
       "      <td>NaN</td>\n",
       "      <td>...</td>\n",
       "      <td>wt</td>\n",
       "      <td>wt</td>\n",
       "      <td>wt</td>\n",
       "      <td>wt</td>\n",
       "      <td>NaN</td>\n",
       "      <td>0.0</td>\n",
       "      <td>2.0</td>\n",
       "      <td>3.0</td>\n",
       "      <td>CMS1</td>\n",
       "      <td>Colonocyte</td>\n",
       "    </tr>\n",
       "    <tr>\n",
       "      <th>KUL5_EXT127_TGGTTCCAGAGATGAG-1</th>\n",
       "      <td>EXT127</td>\n",
       "      <td>Epithelial</td>\n",
       "      <td>Joanito_cancer</td>\n",
       "      <td>SC044</td>\n",
       "      <td>Tumor</td>\n",
       "      <td>NaN</td>\n",
       "      <td>NaN</td>\n",
       "      <td>NaN</td>\n",
       "      <td>Female</td>\n",
       "      <td>NaN</td>\n",
       "      <td>...</td>\n",
       "      <td>wt</td>\n",
       "      <td>wt</td>\n",
       "      <td>wt</td>\n",
       "      <td>wt</td>\n",
       "      <td>NaN</td>\n",
       "      <td>0.0</td>\n",
       "      <td>2.0</td>\n",
       "      <td>3.0</td>\n",
       "      <td>CMS1</td>\n",
       "      <td>Colonocyte</td>\n",
       "    </tr>\n",
       "  </tbody>\n",
       "</table>\n",
       "<p>32181 rows × 52 columns</p>\n",
       "</div>"
      ],
      "text/plain": [
       "                                 Sample_ID   Cell Type      Study_name  \\\n",
       "Cell_ID2                                                                 \n",
       "CRC16_MUX8563_AAAGATGCAGAAGCAC-1   MUX8563  Epithelial  Joanito_cancer   \n",
       "CRC16_MUX8563_ACAGCCGGTCTCTTAT-1   MUX8563  Epithelial  Joanito_cancer   \n",
       "CRC16_MUX8563_ACATACGGTTACGTCA-1   MUX8563  Epithelial  Joanito_cancer   \n",
       "CRC16_MUX8563_ACATGGTGTCCATGAT-1   MUX8563  Epithelial  Joanito_cancer   \n",
       "CRC16_MUX8563_ACGAGGACATCTGGTA-1   MUX8563  Epithelial  Joanito_cancer   \n",
       "...                                    ...         ...             ...   \n",
       "KUL5_EXT127_GACTGCGAGTAGCGGT-1      EXT127  Epithelial  Joanito_cancer   \n",
       "KUL5_EXT127_GTGCATAGTTTGACAC-1      EXT127  Epithelial  Joanito_cancer   \n",
       "KUL5_EXT127_TATCAGGGTGTGAAAT-1      EXT127  Epithelial  Joanito_cancer   \n",
       "KUL5_EXT127_TCACAAGAGATCCCGC-1      EXT127  Epithelial  Joanito_cancer   \n",
       "KUL5_EXT127_TGGTTCCAGAGATGAG-1      EXT127  Epithelial  Joanito_cancer   \n",
       "\n",
       "                                 Donor_ID Diagnosis  Age Region code Fraction  \\\n",
       "Cell_ID2                                                                        \n",
       "CRC16_MUX8563_AAAGATGCAGAAGCAC-1  CRC2794     Tumor  NaN         NaN      NaN   \n",
       "CRC16_MUX8563_ACAGCCGGTCTCTTAT-1  CRC2794     Tumor  NaN         NaN      NaN   \n",
       "CRC16_MUX8563_ACATACGGTTACGTCA-1  CRC2794     Tumor  NaN         NaN      NaN   \n",
       "CRC16_MUX8563_ACATGGTGTCCATGAT-1  CRC2794     Tumor  NaN         NaN      NaN   \n",
       "CRC16_MUX8563_ACGAGGACATCTGGTA-1  CRC2794     Tumor  NaN         NaN      NaN   \n",
       "...                                   ...       ...  ...         ...      ...   \n",
       "KUL5_EXT127_GACTGCGAGTAGCGGT-1      SC044     Tumor  NaN         NaN      NaN   \n",
       "KUL5_EXT127_GTGCATAGTTTGACAC-1      SC044     Tumor  NaN         NaN      NaN   \n",
       "KUL5_EXT127_TATCAGGGTGTGAAAT-1      SC044     Tumor  NaN         NaN      NaN   \n",
       "KUL5_EXT127_TCACAAGAGATCCCGC-1      SC044     Tumor  NaN         NaN      NaN   \n",
       "KUL5_EXT127_TGGTTCCAGAGATGAG-1      SC044     Tumor  NaN         NaN      NaN   \n",
       "\n",
       "                                  Gender Library_Preparation_Protocol  ...  \\\n",
       "Cell_ID2                                                               ...   \n",
       "CRC16_MUX8563_AAAGATGCAGAAGCAC-1  Female                          NaN  ...   \n",
       "CRC16_MUX8563_ACAGCCGGTCTCTTAT-1  Female                          NaN  ...   \n",
       "CRC16_MUX8563_ACATACGGTTACGTCA-1  Female                          NaN  ...   \n",
       "CRC16_MUX8563_ACATGGTGTCCATGAT-1  Female                          NaN  ...   \n",
       "CRC16_MUX8563_ACGAGGACATCTGGTA-1  Female                          NaN  ...   \n",
       "...                                  ...                          ...  ...   \n",
       "KUL5_EXT127_GACTGCGAGTAGCGGT-1    Female                          NaN  ...   \n",
       "KUL5_EXT127_GTGCATAGTTTGACAC-1    Female                          NaN  ...   \n",
       "KUL5_EXT127_TATCAGGGTGTGAAAT-1    Female                          NaN  ...   \n",
       "KUL5_EXT127_TCACAAGAGATCCCGC-1    Female                          NaN  ...   \n",
       "KUL5_EXT127_TGGTTCCAGAGATGAG-1    Female                          NaN  ...   \n",
       "\n",
       "                                 KRAS BRAF TP53  APC PIK3CA LymphNode Normal  \\\n",
       "Cell_ID2                                                                       \n",
       "CRC16_MUX8563_AAAGATGCAGAAGCAC-1   wt   wt  mut  mut     wt       0.0    1.0   \n",
       "CRC16_MUX8563_ACAGCCGGTCTCTTAT-1   wt   wt  mut  mut     wt       0.0    1.0   \n",
       "CRC16_MUX8563_ACATACGGTTACGTCA-1   wt   wt  mut  mut     wt       0.0    1.0   \n",
       "CRC16_MUX8563_ACATGGTGTCCATGAT-1   wt   wt  mut  mut     wt       0.0    1.0   \n",
       "CRC16_MUX8563_ACGAGGACATCTGGTA-1   wt   wt  mut  mut     wt       0.0    1.0   \n",
       "...                               ...  ...  ...  ...    ...       ...    ...   \n",
       "KUL5_EXT127_GACTGCGAGTAGCGGT-1     wt   wt   wt   wt    NaN       0.0    2.0   \n",
       "KUL5_EXT127_GTGCATAGTTTGACAC-1     wt   wt   wt   wt    NaN       0.0    2.0   \n",
       "KUL5_EXT127_TATCAGGGTGTGAAAT-1     wt   wt   wt   wt    NaN       0.0    2.0   \n",
       "KUL5_EXT127_TCACAAGAGATCCCGC-1     wt   wt   wt   wt    NaN       0.0    2.0   \n",
       "KUL5_EXT127_TGGTTCCAGAGATGAG-1     wt   wt   wt   wt    NaN       0.0    2.0   \n",
       "\n",
       "                                 Tumor   CMS               C_scANVI  \n",
       "Cell_ID2                                                             \n",
       "CRC16_MUX8563_AAAGATGCAGAAGCAC-1   4.0  CMS2           Paneth cells  \n",
       "CRC16_MUX8563_ACAGCCGGTCTCTTAT-1   4.0  CMS2             Colonocyte  \n",
       "CRC16_MUX8563_ACATACGGTTACGTCA-1   4.0  CMS2             Colonocyte  \n",
       "CRC16_MUX8563_ACATGGTGTCCATGAT-1   4.0  CMS2           Paneth cells  \n",
       "CRC16_MUX8563_ACGAGGACATCTGGTA-1   4.0  CMS2           Paneth cells  \n",
       "...                                ...   ...                    ...  \n",
       "KUL5_EXT127_GACTGCGAGTAGCGGT-1     3.0  CMS1           Paneth cells  \n",
       "KUL5_EXT127_GTGCATAGTTTGACAC-1     3.0  CMS1           Paneth cells  \n",
       "KUL5_EXT127_TATCAGGGTGTGAAAT-1     3.0  CMS1  Stem cells OLFM4 LGR5  \n",
       "KUL5_EXT127_TCACAAGAGATCCCGC-1     3.0  CMS1             Colonocyte  \n",
       "KUL5_EXT127_TGGTTCCAGAGATGAG-1     3.0  CMS1             Colonocyte  \n",
       "\n",
       "[32181 rows x 52 columns]"
      ]
     },
     "execution_count": 57,
     "metadata": {},
     "output_type": "execute_result"
    }
   ],
   "source": [
    "Cancer_adata_predicted.obs"
   ]
  },
  {
   "cell_type": "code",
   "execution_count": null,
   "metadata": {},
   "outputs": [],
   "source": [
    "# Copy indexes from Cancer_adata as a column in obs of Cancer dataset\n",
    "Cancer_adata_predicted.obs['Cell_ID2'] = Cancer_adata_predicted.obs.index\n",
    "\n",
    "# Remove part '-Cancer' and '-Healthy' from the Cancer_adata.obs['Cell_ID'] \n",
    "Cancer_adata_predicted.obs['Cell_ID2'] = Cancer_adata_predicted.obs['Cell_ID2'].str.replace('-Cancer', '')\n",
    "Cancer_adata_predicted.obs['Cell_ID2'] = Cancer_adata_predicted.obs['Cell_ID2'].str.replace('-Healthy', '')\n",
    "\n",
    "# Make 'Cell_ID2' column as index\n",
    "Cancer_adata_predicted.obs.set_index('Cell_ID2', inplace=True)\n",
    "\n",
    "del Cancer_adata_predicted.obs['Cell_ID2']"
   ]
  },
  {
   "cell_type": "code",
   "execution_count": 61,
   "metadata": {},
   "outputs": [],
   "source": [
    "# Merge Cancer_adata_predicted.obs['C_scANVI'] with Cancer_adata_raw.obs by index\n",
    "Cancer_adata_raw.obs = pd.merge(Cancer_adata_raw.obs, Cancer_adata_predicted.obs['C_scANVI'], left_index=True, right_index=True)"
   ]
  },
  {
   "cell_type": "code",
   "execution_count": 63,
   "metadata": {},
   "outputs": [],
   "source": [
    "# Rename column 'C_scANVI' to 'predictions'\n",
    "Cancer_adata_raw.obs.rename(columns={'C_scANVI': 'Unified Cell States'}, inplace=True)"
   ]
  },
  {
   "cell_type": "code",
   "execution_count": 82,
   "metadata": {},
   "outputs": [],
   "source": [
    "# Make a new column \"Library_Preparation_Protocol\" in Cancer_adata_raw.obs and if Cancer_adata_raw.obs[dataset_x] == 'SMC' then fill it with \"10X 3' v2\"\n",
    "# if Cancer_adata_raw.obs[dataset_x] == 'CRC-SG2' then fill it with \"10X 3' v3\"\n",
    "# if Cancer_adata_raw.obs[dataset_x] =='KUL3' then fill it with \"10X 3' v2\"\n",
    "# if Cancer_adata_raw.obs[dataset_x] =='KUL5' then fill it with \"5'\"\n",
    "# if dCancer_adata_raw.obs[dataset_x] == 'CRC-SG1' then fill it with \"5'\"\n",
    "\n",
    "# Create a new column \"Library_Preparation_Protocol\" in Cancer_adata_raw.obs\n",
    "Cancer_adata_raw.obs['Library_Preparation_Protocol'] = \"\"\n",
    "\n",
    "# Iterate over each row and assign the corresponding protocol value\n",
    "for idx, row in Cancer_adata_raw.obs.iterrows():\n",
    "    dataset_x = row['dataset_x']\n",
    "    if dataset_x == 'SMC':\n",
    "        Cancer_adata_raw.obs.at[idx, 'Library_Preparation_Protocol'] = \"10X 3' v2\"\n",
    "    elif dataset_x == 'CRC-SG2':\n",
    "        Cancer_adata_raw.obs.at[idx, 'Library_Preparation_Protocol'] = \"10X 3' v3\"\n",
    "    elif dataset_x == 'KUL3':\n",
    "        Cancer_adata_raw.obs.at[idx, 'Library_Preparation_Protocol'] = \"10X 3' v2\"\n",
    "    elif dataset_x == 'KUL5':\n",
    "        Cancer_adata_raw.obs.at[idx, 'Library_Preparation_Protocol'] = \"5'\"\n",
    "    elif dataset_x == 'CRC-SG1':\n",
    "        Cancer_adata_raw.obs.at[idx, 'Library_Preparation_Protocol'] = \"5'\""
   ]
  },
  {
   "cell_type": "code",
   "execution_count": 83,
   "metadata": {},
   "outputs": [
    {
     "data": {
      "text/plain": [
       "10X 3' v2    15584\n",
       "5'            8597\n",
       "10X 3' v3     8000\n",
       "Name: Library_Preparation_Protocol, dtype: int64"
      ]
     },
     "execution_count": 83,
     "metadata": {},
     "output_type": "execute_result"
    }
   ],
   "source": [
    "Cancer_adata_raw.obs['Library_Preparation_Protocol'].value_counts()"
   ]
  },
  {
   "attachments": {},
   "cell_type": "markdown",
   "metadata": {},
   "source": [
    "### Datasets concatenation"
   ]
  },
  {
   "cell_type": "code",
   "execution_count": 84,
   "metadata": {},
   "outputs": [
    {
     "name": "stderr",
     "output_type": "stream",
     "text": [
      "/Users/anna.maguza/miniconda3/envs/scanpy_env/lib/python3.9/site-packages/anndata/_core/anndata.py:1785: FutureWarning: X.dtype being converted to np.float32 from float64. In the next version of anndata (0.9) conversion will not be automatic. Pass dtype explicitly to avoid this warning. Pass `AnnData(X, dtype=X.dtype, ...)` to get the future behavour.\n",
      "  [AnnData(sparse.csr_matrix(a.shape), obs=a.obs) for a in all_adatas],\n"
     ]
    }
   ],
   "source": [
    "# Concatenate reference and query\n",
    "adata = Healthy_adata.concatenate(Cancer_adata_raw, index_unique = None, batch_key = 'dataset', batch_categories = ['healthy', 'cancer'])"
   ]
  },
  {
   "attachments": {},
   "cell_type": "markdown",
   "metadata": {},
   "source": [
    "### Identify Highly Variable Genes"
   ]
  },
  {
   "cell_type": "code",
   "execution_count": 85,
   "metadata": {},
   "outputs": [],
   "source": [
    "adata.layers['counts'] = adata.X.copy()\n",
    "\n",
    "# Calculate 5000 HVGs\n",
    "sc.pp.highly_variable_genes(\n",
    "    adata,\n",
    "    flavor = \"seurat_v3\",\n",
    "    n_top_genes = 5000,\n",
    "    layer = \"counts\",\n",
    "    batch_key = \"Library_Preparation_Protocol\",\n",
    "    subset = True,\n",
    "    span = 1\n",
    ")"
   ]
  },
  {
   "cell_type": "code",
   "execution_count": 86,
   "metadata": {},
   "outputs": [],
   "source": [
    "# Save the adata object\n",
    "adata.write_h5ad('/Users/anna.maguza/Desktop/Data/Processed_datasets/Cancer_dataset_integration/input_files/Datasets_integration/All_cells_5000_HVGs.h5ad')"
   ]
  }
 ],
 "metadata": {
  "kernelspec": {
   "display_name": "scanpy_env",
   "language": "python",
   "name": "python3"
  },
  "language_info": {
   "codemirror_mode": {
    "name": "ipython",
    "version": 3
   },
   "file_extension": ".py",
   "mimetype": "text/x-python",
   "name": "python",
   "nbconvert_exporter": "python",
   "pygments_lexer": "ipython3",
   "version": "3.9.16"
  },
  "orig_nbformat": 4
 },
 "nbformat": 4,
 "nbformat_minor": 2
}
