{
 "cells": [
  {
   "cell_type": "markdown",
   "metadata": {},
   "source": [
    "## Notebook for Peng-2022 data spatial transcriptomics data processing \n",
    "### Developed by: Anna Maguza\n",
    "\n",
    "### Institute of Computational Biology - Computational Health Centre - Hemlholtz Munich\n",
    "\n",
    "### 11 November 2022"
   ]
  },
  {
   "cell_type": "markdown",
   "metadata": {},
   "source": [
    "#### Upload necessary packages"
   ]
  },
  {
   "cell_type": "code",
   "execution_count": null,
   "metadata": {},
   "outputs": [],
   "source": [
    "import anndata as ad\n",
    "import scanpy as sc\n",
    "import squidpy as sq\n",
    "import pandas as pd\n",
    "from scipy.io import mmread\n",
    "import matplotlib.pyplot as plt\n",
    "import numpy as np\n",
    "import scipy as sci\n",
    "from scipy.sparse import coo_matrix\n",
    "from PIL import Image"
   ]
  },
  {
   "cell_type": "markdown",
   "metadata": {},
   "source": [
    "#### Setup cells"
   ]
  },
  {
   "cell_type": "code",
   "execution_count": null,
   "metadata": {},
   "outputs": [],
   "source": [
    "sc.logging.print_header()\n",
    "print(f\"squidpy=={sq.__version__}\")"
   ]
  },
  {
   "cell_type": "markdown",
   "metadata": {},
   "source": [
    "# Colorectal cancer picture 1"
   ]
  },
  {
   "cell_type": "markdown",
   "metadata": {},
   "source": [
    "#### Data Upload "
   ]
  },
  {
   "cell_type": "code",
   "execution_count": null,
   "metadata": {},
   "outputs": [],
   "source": [
    "#Uploading barcodes\n",
    "barcodes =pd.read_csv('/Users/annamaguza/Desktop/Desktop-Anna/LMU/Master-Thesis/Spatial transcriptomics data/ST/ST-colon1/barcodes.tsv',sep='\\t', header=None, index_col=0)"
   ]
  },
  {
   "cell_type": "code",
   "execution_count": null,
   "metadata": {},
   "outputs": [],
   "source": [
    "hires = np.asarray(Image.open('/Users/annamaguza/Desktop/Desktop-Anna/LMU/Master-Thesis/Spatial transcriptomics data/ST/ST-colon1/tissue_hires_image.png'))"
   ]
  },
  {
   "cell_type": "code",
   "execution_count": null,
   "metadata": {},
   "outputs": [],
   "source": [
    "lowres = np.asarray(Image.open('/Users/annamaguza/Desktop/Desktop-Anna/LMU/Master-Thesis/Spatial transcriptomics data/ST/ST-colon1/tissue_lowres_image.png'))"
   ]
  },
  {
   "cell_type": "code",
   "execution_count": null,
   "metadata": {},
   "outputs": [],
   "source": [
    "#Uploading coordinates\n",
    "coordinates =pd.read_csv('/Users/annamaguza/Desktop/Desktop-Anna/LMU/Master-Thesis/Spatial transcriptomics data/ST/ST-colon1/coordinates.tsv',delim_whitespace=True, index_col=0)"
   ]
  },
  {
   "cell_type": "code",
   "execution_count": null,
   "metadata": {},
   "outputs": [],
   "source": [
    "#Uploading genes\n",
    "genes =pd.read_csv('/Users/annamaguza/Desktop/Desktop-Anna/LMU/Master-Thesis/Spatial transcriptomics data/ST/ST-colon1/genes.tsv',sep='\\t', header=None)"
   ]
  },
  {
   "cell_type": "code",
   "execution_count": null,
   "metadata": {},
   "outputs": [],
   "source": [
    "#Uploading matrix\n",
    "matrix = mmread('/Users/annamaguza/Desktop/Desktop-Anna/LMU/Master-Thesis/Spatial transcriptomics data/ST/ST-colon1/matrix.mtx')"
   ]
  },
  {
   "cell_type": "code",
   "execution_count": null,
   "metadata": {},
   "outputs": [],
   "source": [
    "matrix1 = sci.sparse.csr_matrix(matrix)"
   ]
  },
  {
   "cell_type": "code",
   "execution_count": null,
   "metadata": {},
   "outputs": [],
   "source": [
    "coords = pd.read_csv(\n",
    "        \"/Users/annamaguza/Desktop/Desktop-Anna/LMU/Master-Thesis/Spatial transcriptomics data/ST/ST-colon1/tissue_positions_list.csv\",\n",
    "        header=None,\n",
    "        index_col=0,)"
   ]
  },
  {
   "cell_type": "code",
   "execution_count": null,
   "metadata": {},
   "outputs": [],
   "source": [
    "coords.columns = [\"in_tissue\", \"array_row\", \"array_col\", \"pxl_col_in_fullres\", \"pxl_row_in_fullres\"]"
   ]
  },
  {
   "cell_type": "code",
   "execution_count": null,
   "metadata": {},
   "outputs": [],
   "source": [
    "Peng = ad.AnnData(X=np.transpose(matrix1), var=genes, obs=barcodes, obsm={\"spatial\": coordinates})"
   ]
  },
  {
   "cell_type": "code",
   "execution_count": null,
   "metadata": {},
   "outputs": [],
   "source": [
    "Peng.obs.index.name = \"index\""
   ]
  },
  {
   "cell_type": "code",
   "execution_count": null,
   "metadata": {},
   "outputs": [],
   "source": [
    "Peng.obs = pd.merge(Peng.obs, coords, how=\"left\", left_index=True, right_index=True)"
   ]
  },
  {
   "cell_type": "code",
   "execution_count": null,
   "metadata": {},
   "outputs": [],
   "source": [
    "\n",
    "Peng.obsm[\"spatial\"] = Peng.obs[[\"pxl_row_in_fullres\", \"pxl_col_in_fullres\"]].values"
   ]
  },
  {
   "cell_type": "code",
   "execution_count": null,
   "metadata": {},
   "outputs": [],
   "source": [
    "Peng.obs.drop(columns=[\"pxl_row_in_fullres\", \"pxl_col_in_fullres\"], inplace=True)"
   ]
  },
  {
   "cell_type": "code",
   "execution_count": null,
   "metadata": {},
   "outputs": [],
   "source": [
    "spatial_key = \"spatial\"\n",
    "library_id = \"tissue42\"\n",
    "Peng.uns[spatial_key] = {library_id: {}}\n",
    "Peng.uns[spatial_key][library_id][\"images\"] = {}\n",
    "Peng.uns[spatial_key][library_id][\"images\"] = {\"hires\": hires, \"lowres\": lowres}\n",
    "Peng.uns[spatial_key][library_id][\"scalefactors\"] = {\"spot_diameter_fullres\": 130.2320992627276, \"tissue_hires_scalef\": 0.12207031, \"fiducial_diameter_fullres\": 210.37492957825225, \"tissue_lowres_scalef\": 0.036621094}"
   ]
  },
  {
   "cell_type": "code",
   "execution_count": null,
   "metadata": {},
   "outputs": [],
   "source": [
    "sc.pp.normalize_total(Peng)"
   ]
  },
  {
   "cell_type": "code",
   "execution_count": null,
   "metadata": {},
   "outputs": [],
   "source": [
    "sc.pp.log1p(Peng)"
   ]
  },
  {
   "cell_type": "code",
   "execution_count": null,
   "metadata": {},
   "outputs": [],
   "source": [
    "sc.pp.pca(Peng)"
   ]
  },
  {
   "cell_type": "code",
   "execution_count": null,
   "metadata": {},
   "outputs": [],
   "source": [
    "sc.pp.neighbors(Peng)"
   ]
  },
  {
   "cell_type": "code",
   "execution_count": null,
   "metadata": {},
   "outputs": [],
   "source": [
    "sc.tl.umap(Peng)"
   ]
  },
  {
   "cell_type": "code",
   "execution_count": null,
   "metadata": {},
   "outputs": [],
   "source": [
    "sc.tl.leiden(Peng)"
   ]
  },
  {
   "cell_type": "code",
   "execution_count": null,
   "metadata": {},
   "outputs": [],
   "source": [
    "sq.pl.spatial_scatter(Peng, color=\"leiden\", shape=None, figsize=(10, 10))"
   ]
  },
  {
   "cell_type": "code",
   "execution_count": null,
   "metadata": {},
   "outputs": [],
   "source": [
    "sq.pl.spatial_scatter(Peng, color=\"leiden\")"
   ]
  },
  {
   "cell_type": "code",
   "execution_count": null,
   "metadata": {},
   "outputs": [],
   "source": [
    "sq.gr.spatial_neighbors(Peng, coord_type=\"generic\")\n",
    "sq.gr.nhood_enrichment(Peng, cluster_key=\"leiden\")\n",
    "sq.pl.nhood_enrichment(Peng, cluster_key=\"leiden\", method=\"ward\")"
   ]
  },
  {
   "cell_type": "markdown",
   "metadata": {},
   "source": [
    "# Colorectal cancer picture 2"
   ]
  },
  {
   "cell_type": "markdown",
   "metadata": {},
   "source": [
    "#### Data Upload "
   ]
  },
  {
   "cell_type": "code",
   "execution_count": null,
   "metadata": {},
   "outputs": [],
   "source": [
    "#Uploading barcodes\n",
    "barcodes2 =pd.read_csv('/Users/annamaguza/Desktop/Desktop-Anna/LMU/Master-Thesis/Spatial transcriptomics data/ST/ST-colon2/barcodes.tsv',sep='\\t', header=None, index_col=0)"
   ]
  },
  {
   "cell_type": "code",
   "execution_count": null,
   "metadata": {},
   "outputs": [],
   "source": [
    "hires2 = np.asarray(Image.open('/Users/annamaguza/Desktop/Desktop-Anna/LMU/Master-Thesis/Spatial transcriptomics data/ST/ST-colon2/tissue_hires_image.png'))"
   ]
  },
  {
   "cell_type": "code",
   "execution_count": null,
   "metadata": {},
   "outputs": [],
   "source": [
    "lowres2 = np.asarray(Image.open('/Users/annamaguza/Desktop/Desktop-Anna/LMU/Master-Thesis/Spatial transcriptomics data/ST/ST-colon2/tissue_lowres_image.png'))"
   ]
  },
  {
   "cell_type": "code",
   "execution_count": null,
   "metadata": {},
   "outputs": [],
   "source": [
    "#Uploading coordinates\n",
    "coordinates2 =pd.read_csv('/Users/annamaguza/Desktop/Desktop-Anna/LMU/Master-Thesis/Spatial transcriptomics data/ST/ST-colon2/coordinates.tsv',delim_whitespace=True, index_col=0)"
   ]
  },
  {
   "cell_type": "code",
   "execution_count": null,
   "metadata": {},
   "outputs": [],
   "source": [
    "#Uploading genes\n",
    "genes2 =pd.read_csv('/Users/annamaguza/Desktop/Desktop-Anna/LMU/Master-Thesis/Spatial transcriptomics data/ST/ST-colon2/genes.tsv',sep='\\t', header=None)"
   ]
  },
  {
   "cell_type": "code",
   "execution_count": null,
   "metadata": {},
   "outputs": [],
   "source": [
    "#Uploading matrix\n",
    "matrix2 = mmread('/Users/annamaguza/Desktop/Desktop-Anna/LMU/Master-Thesis/Spatial transcriptomics data/ST/ST-colon2/matrix.mtx')"
   ]
  },
  {
   "cell_type": "code",
   "execution_count": null,
   "metadata": {},
   "outputs": [],
   "source": [
    "matrix2 = sci.sparse.csr_matrix(matrix2)"
   ]
  },
  {
   "cell_type": "code",
   "execution_count": null,
   "metadata": {},
   "outputs": [],
   "source": [
    "coords2 = pd.read_csv(\n",
    "        \"/Users/annamaguza/Desktop/Desktop-Anna/LMU/Master-Thesis/Spatial transcriptomics data/ST/ST-colon2/tissue_positions_list.csv\",\n",
    "        header=None,\n",
    "        index_col=0,)"
   ]
  },
  {
   "cell_type": "code",
   "execution_count": null,
   "metadata": {},
   "outputs": [],
   "source": [
    "coords2.columns = [\"in_tissue\", \"array_row\", \"array_col\", \"pxl_col_in_fullres\", \"pxl_row_in_fullres\"]"
   ]
  },
  {
   "cell_type": "code",
   "execution_count": null,
   "metadata": {},
   "outputs": [],
   "source": [
    "Peng2 = ad.AnnData(X=np.transpose(matrix2), var=genes2, obs=barcodes2, obsm={\"spatial\": coordinates2})"
   ]
  },
  {
   "cell_type": "code",
   "execution_count": null,
   "metadata": {},
   "outputs": [],
   "source": [
    "Peng2.obs.index.name = \"index\""
   ]
  },
  {
   "cell_type": "code",
   "execution_count": null,
   "metadata": {},
   "outputs": [],
   "source": [
    "Peng2.obs = pd.merge(Peng2.obs, coords2, how=\"left\", left_index=True, right_index=True)"
   ]
  },
  {
   "cell_type": "code",
   "execution_count": null,
   "metadata": {},
   "outputs": [],
   "source": [
    "\n",
    "Peng2.obsm[\"spatial\"] = Peng2.obs[[\"pxl_row_in_fullres\", \"pxl_col_in_fullres\"]].values"
   ]
  },
  {
   "cell_type": "code",
   "execution_count": null,
   "metadata": {},
   "outputs": [],
   "source": [
    "Peng2.obs.drop(columns=[\"pxl_row_in_fullres\", \"pxl_col_in_fullres\"], inplace=True)"
   ]
  },
  {
   "cell_type": "code",
   "execution_count": null,
   "metadata": {},
   "outputs": [],
   "source": [
    "spatial_key = \"spatial\"\n",
    "library_id = \"tissue42\"\n",
    "Peng2.uns[spatial_key] = {library_id: {}}\n",
    "Peng2.uns[spatial_key][library_id][\"images\"] = {}\n",
    "Peng2.uns[spatial_key][library_id][\"images\"] = {\"hires\": hires2, \"lowres\": lowres2}\n",
    "Peng2.uns[spatial_key][library_id][\"scalefactors\"] = {\"spot_diameter_fullres\": 130.15841600880097, \"tissue_hires_scalef\": 0.12112403, \"fiducial_diameter_fullres\": 210.25590278344774, \"tissue_lowres_scalef\": 0.036337208}"
   ]
  },
  {
   "cell_type": "code",
   "execution_count": null,
   "metadata": {},
   "outputs": [],
   "source": [
    "sc.pp.normalize_total(Peng2)"
   ]
  },
  {
   "cell_type": "code",
   "execution_count": null,
   "metadata": {},
   "outputs": [],
   "source": [
    "sc.pp.log1p(Peng2)"
   ]
  },
  {
   "cell_type": "code",
   "execution_count": null,
   "metadata": {},
   "outputs": [],
   "source": [
    "sc.pp.pca(Peng2)"
   ]
  },
  {
   "cell_type": "code",
   "execution_count": null,
   "metadata": {},
   "outputs": [],
   "source": [
    "sc.pp.neighbors(Peng2)"
   ]
  },
  {
   "cell_type": "code",
   "execution_count": null,
   "metadata": {},
   "outputs": [],
   "source": [
    "sc.tl.umap(Peng2)"
   ]
  },
  {
   "cell_type": "code",
   "execution_count": null,
   "metadata": {},
   "outputs": [],
   "source": [
    "sc.tl.leiden(Peng2)"
   ]
  },
  {
   "cell_type": "code",
   "execution_count": null,
   "metadata": {},
   "outputs": [],
   "source": [
    "sq.pl.spatial_scatter(Peng2, color=\"leiden\", shape=None, figsize=(10, 10))"
   ]
  },
  {
   "cell_type": "code",
   "execution_count": null,
   "metadata": {},
   "outputs": [],
   "source": [
    "sq.pl.spatial_scatter(Peng2, color=\"leiden\")"
   ]
  },
  {
   "cell_type": "code",
   "execution_count": null,
   "metadata": {},
   "outputs": [],
   "source": [
    "sq.gr.spatial_neighbors(Peng2, coord_type=\"generic\")\n",
    "sq.gr.nhood_enrichment(Peng2, cluster_key=\"leiden\")\n",
    "sq.pl.nhood_enrichment(Peng2, cluster_key=\"leiden\", method=\"ward\")"
   ]
  },
  {
   "cell_type": "markdown",
   "metadata": {},
   "source": [
    "# Colorectal cancer picture 3"
   ]
  },
  {
   "cell_type": "markdown",
   "metadata": {},
   "source": [
    "#### Data Upload "
   ]
  },
  {
   "cell_type": "code",
   "execution_count": null,
   "metadata": {},
   "outputs": [],
   "source": [
    "#Uploading barcodes\n",
    "barcodes3 =pd.read_csv('/Users/annamaguza/Desktop/Desktop-Anna/LMU/Master-Thesis/Spatial transcriptomics data/ST/ST-colon3/barcodes.tsv',sep='\\t', header=None, index_col=0)"
   ]
  },
  {
   "cell_type": "code",
   "execution_count": null,
   "metadata": {},
   "outputs": [],
   "source": [
    "hires3 = np.asarray(Image.open('/Users/annamaguza/Desktop/Desktop-Anna/LMU/Master-Thesis/Spatial transcriptomics data/ST/ST-colon3/tissue_hires_image.png'))"
   ]
  },
  {
   "cell_type": "code",
   "execution_count": null,
   "metadata": {},
   "outputs": [],
   "source": [
    "lowres3 = np.asarray(Image.open('/Users/annamaguza/Desktop/Desktop-Anna/LMU/Master-Thesis/Spatial transcriptomics data/ST/ST-colon3/tissue_lowres_image.png'))"
   ]
  },
  {
   "cell_type": "code",
   "execution_count": null,
   "metadata": {},
   "outputs": [],
   "source": [
    "#Uploading coordinates\n",
    "coordinates3 =pd.read_csv('/Users/annamaguza/Desktop/Desktop-Anna/LMU/Master-Thesis/Spatial transcriptomics data/ST/ST-colon3/coordinates.tsv',delim_whitespace=True, index_col=0)"
   ]
  },
  {
   "cell_type": "code",
   "execution_count": null,
   "metadata": {},
   "outputs": [],
   "source": [
    "#Uploading genes\n",
    "genes3 =pd.read_csv('/Users/annamaguza/Desktop/Desktop-Anna/LMU/Master-Thesis/Spatial transcriptomics data/ST/ST-colon3/genes.tsv',sep='\\t', header=None)"
   ]
  },
  {
   "cell_type": "code",
   "execution_count": null,
   "metadata": {},
   "outputs": [],
   "source": [
    "#Uploading matrix\n",
    "matrix3 = mmread('/Users/annamaguza/Desktop/Desktop-Anna/LMU/Master-Thesis/Spatial transcriptomics data/ST/ST-colon3/matrix.mtx')"
   ]
  },
  {
   "cell_type": "code",
   "execution_count": null,
   "metadata": {},
   "outputs": [],
   "source": [
    "matrix3 = sci.sparse.csr_matrix(matrix3)"
   ]
  },
  {
   "cell_type": "code",
   "execution_count": null,
   "metadata": {},
   "outputs": [],
   "source": [
    "coords3 = pd.read_csv(\n",
    "        \"/Users/annamaguza/Desktop/Desktop-Anna/LMU/Master-Thesis/Spatial transcriptomics data/ST/ST-colon3/tissue_positions_list.csv\",\n",
    "        header=None,\n",
    "        index_col=0,)"
   ]
  },
  {
   "cell_type": "code",
   "execution_count": null,
   "metadata": {},
   "outputs": [],
   "source": [
    "coords3.columns = [\"in_tissue\", \"array_row\", \"array_col\", \"pxl_col_in_fullres\", \"pxl_row_in_fullres\"]"
   ]
  },
  {
   "cell_type": "code",
   "execution_count": null,
   "metadata": {},
   "outputs": [],
   "source": [
    "Peng3 = ad.AnnData(X=np.transpose(matrix3), var=genes3, obs=barcodes3, obsm={\"spatial\": coordinates3})"
   ]
  },
  {
   "cell_type": "code",
   "execution_count": null,
   "metadata": {},
   "outputs": [],
   "source": [
    "Peng3.obs.index.name = \"index\""
   ]
  },
  {
   "cell_type": "code",
   "execution_count": null,
   "metadata": {},
   "outputs": [],
   "source": [
    "Peng3.obs = pd.merge(Peng3.obs, coords3, how=\"left\", left_index=True, right_index=True)"
   ]
  },
  {
   "cell_type": "code",
   "execution_count": null,
   "metadata": {},
   "outputs": [],
   "source": [
    "\n",
    "Peng3.obsm[\"spatial\"] = Peng3.obs[[\"pxl_row_in_fullres\", \"pxl_col_in_fullres\"]].values"
   ]
  },
  {
   "cell_type": "code",
   "execution_count": null,
   "metadata": {},
   "outputs": [],
   "source": [
    "spatial_key = \"spatial\"\n",
    "library_id = \"tissue42\"\n",
    "Peng3.uns[spatial_key] = {library_id: {}}\n",
    "Peng3.uns[spatial_key][library_id][\"images\"] = {}\n",
    "Peng3.uns[spatial_key][library_id][\"images\"] = {\"hires\": hires3, \"lowres\": lowres3}\n",
    "Peng3.uns[spatial_key][library_id][\"scalefactors\"] = {\"spot_diameter_fullres\": 130.15207564120408, \"tissue_hires_scalef\": 0.12112403, \"fiducial_diameter_fullres\": 210.24566065117583, \"tissue_lowres_scalef\": 0.036337208}"
   ]
  },
  {
   "cell_type": "code",
   "execution_count": null,
   "metadata": {},
   "outputs": [],
   "source": [
    "sc.pp.normalize_total(Peng3)"
   ]
  },
  {
   "cell_type": "code",
   "execution_count": null,
   "metadata": {},
   "outputs": [],
   "source": [
    "sc.pp.log1p(Peng3)"
   ]
  },
  {
   "cell_type": "code",
   "execution_count": null,
   "metadata": {},
   "outputs": [],
   "source": [
    "sc.pp.pca(Peng3)"
   ]
  },
  {
   "cell_type": "code",
   "execution_count": null,
   "metadata": {},
   "outputs": [],
   "source": [
    "sc.pp.neighbors(Peng3)"
   ]
  },
  {
   "cell_type": "code",
   "execution_count": null,
   "metadata": {},
   "outputs": [],
   "source": [
    "sc.tl.umap(Peng3)"
   ]
  },
  {
   "cell_type": "code",
   "execution_count": null,
   "metadata": {},
   "outputs": [],
   "source": [
    "sc.tl.leiden(Peng3)"
   ]
  },
  {
   "cell_type": "code",
   "execution_count": null,
   "metadata": {},
   "outputs": [],
   "source": [
    "sq.pl.spatial_scatter(Peng3, color=\"leiden\", shape=None, figsize=(10, 10))"
   ]
  },
  {
   "cell_type": "code",
   "execution_count": null,
   "metadata": {},
   "outputs": [],
   "source": [
    "sq.pl.spatial_scatter(Peng3, color=\"leiden\", figsize=(10, 10))"
   ]
  },
  {
   "cell_type": "code",
   "execution_count": null,
   "metadata": {},
   "outputs": [],
   "source": [
    "sq.gr.spatial_neighbors(Peng3, coord_type=\"generic\")\n",
    "sq.gr.nhood_enrichment(Peng3, cluster_key=\"leiden\")\n",
    "sq.pl.nhood_enrichment(Peng3, cluster_key=\"leiden\", method=\"ward\")"
   ]
  },
  {
   "cell_type": "markdown",
   "metadata": {},
   "source": [
    "# Colorectal cancer picture 4"
   ]
  },
  {
   "cell_type": "markdown",
   "metadata": {},
   "source": [
    "#### Data Upload "
   ]
  },
  {
   "cell_type": "code",
   "execution_count": null,
   "metadata": {},
   "outputs": [],
   "source": [
    "#Uploading barcodes\n",
    "barcodes4 =pd.read_csv('/Users/annamaguza/Desktop/Desktop-Anna/LMU/Master-Thesis/Spatial transcriptomics data/ST/ST-colon4/barcodes.tsv',sep='\\t', header=None, index_col=0)"
   ]
  },
  {
   "cell_type": "code",
   "execution_count": null,
   "metadata": {},
   "outputs": [],
   "source": [
    "hires4 = np.asarray(Image.open('/Users/annamaguza/Desktop/Desktop-Anna/LMU/Master-Thesis/Spatial transcriptomics data/ST/ST-colon4/tissue_hires_image.png'))"
   ]
  },
  {
   "cell_type": "code",
   "execution_count": null,
   "metadata": {},
   "outputs": [],
   "source": [
    "lowres4 = np.asarray(Image.open('/Users/annamaguza/Desktop/Desktop-Anna/LMU/Master-Thesis/Spatial transcriptomics data/ST/ST-colon4/tissue_lowres_image.png'))"
   ]
  },
  {
   "cell_type": "code",
   "execution_count": null,
   "metadata": {},
   "outputs": [],
   "source": [
    "#Uploading coordinates\n",
    "coordinates4 =pd.read_csv('/Users/annamaguza/Desktop/Desktop-Anna/LMU/Master-Thesis/Spatial transcriptomics data/ST/ST-colon4/coordinates.tsv',delim_whitespace=True, index_col=0)"
   ]
  },
  {
   "cell_type": "code",
   "execution_count": null,
   "metadata": {},
   "outputs": [],
   "source": [
    "#Uploading genes\n",
    "genes4 =pd.read_csv('/Users/annamaguza/Desktop/Desktop-Anna/LMU/Master-Thesis/Spatial transcriptomics data/ST/ST-colon4/genes.tsv',sep='\\t', header=None)"
   ]
  },
  {
   "cell_type": "code",
   "execution_count": null,
   "metadata": {},
   "outputs": [],
   "source": [
    "#Uploading matrix\n",
    "matrix4 = mmread('/Users/annamaguza/Desktop/Desktop-Anna/LMU/Master-Thesis/Spatial transcriptomics data/ST/ST-colon4/matrix.mtx')"
   ]
  },
  {
   "cell_type": "code",
   "execution_count": null,
   "metadata": {},
   "outputs": [],
   "source": [
    "matrix4 = sci.sparse.csr_matrix(matrix4)"
   ]
  },
  {
   "cell_type": "code",
   "execution_count": null,
   "metadata": {},
   "outputs": [],
   "source": [
    "coords4 = pd.read_csv(\n",
    "        \"/Users/annamaguza/Desktop/Desktop-Anna/LMU/Master-Thesis/Spatial transcriptomics data/ST/ST-colon4/tissue_positions_list.csv\",\n",
    "        header=None,\n",
    "        index_col=0,)"
   ]
  },
  {
   "cell_type": "code",
   "execution_count": null,
   "metadata": {},
   "outputs": [],
   "source": [
    "coords4.columns = [\"in_tissue\", \"array_row\", \"array_col\", \"pxl_col_in_fullres\", \"pxl_row_in_fullres\"]"
   ]
  },
  {
   "cell_type": "code",
   "execution_count": null,
   "metadata": {},
   "outputs": [],
   "source": [
    "Peng4 = ad.AnnData(X=np.transpose(matrix4), var=genes4, obs=barcodes4, obsm={\"spatial\": coordinates4})"
   ]
  },
  {
   "cell_type": "code",
   "execution_count": null,
   "metadata": {},
   "outputs": [],
   "source": [
    "Peng4.obs.index.name = \"index\""
   ]
  },
  {
   "cell_type": "code",
   "execution_count": null,
   "metadata": {},
   "outputs": [],
   "source": [
    "Peng4.obs = pd.merge(Peng4.obs, coords4, how=\"left\", left_index=True, right_index=True)"
   ]
  },
  {
   "cell_type": "code",
   "execution_count": null,
   "metadata": {},
   "outputs": [],
   "source": [
    "\n",
    "Peng4.obsm[\"spatial\"] = Peng4.obs[[\"pxl_row_in_fullres\", \"pxl_col_in_fullres\"]].values"
   ]
  },
  {
   "cell_type": "code",
   "execution_count": null,
   "metadata": {},
   "outputs": [],
   "source": [
    "spatial_key = \"spatial\"\n",
    "library_id = \"tissue42\"\n",
    "Peng4.uns[spatial_key] = {library_id: {}}\n",
    "Peng4.uns[spatial_key][library_id][\"images\"] = {}\n",
    "Peng4.uns[spatial_key][library_id][\"images\"] = {\"hires\": hires4, \"lowres\": lowres4}\n",
    "Peng4.uns[spatial_key][library_id][\"scalefactors\"] = {\"spot_diameter_fullres\": 130.0637145542045, \"tissue_hires_scalef\": 0.12207031, \"fiducial_diameter_fullres\": 210.10292351063802, \"tissue_lowres_scalef\": 0.036621094}"
   ]
  },
  {
   "cell_type": "code",
   "execution_count": null,
   "metadata": {},
   "outputs": [],
   "source": [
    "sc.pp.normalize_total(Peng4)"
   ]
  },
  {
   "cell_type": "code",
   "execution_count": null,
   "metadata": {},
   "outputs": [],
   "source": [
    "sc.pp.log1p(Peng4)"
   ]
  },
  {
   "cell_type": "code",
   "execution_count": null,
   "metadata": {},
   "outputs": [],
   "source": [
    "sc.pp.pca(Peng4)"
   ]
  },
  {
   "cell_type": "code",
   "execution_count": null,
   "metadata": {},
   "outputs": [],
   "source": [
    "sc.pp.neighbors(Peng4)"
   ]
  },
  {
   "cell_type": "code",
   "execution_count": null,
   "metadata": {},
   "outputs": [],
   "source": [
    "sc.tl.umap(Peng4)"
   ]
  },
  {
   "cell_type": "code",
   "execution_count": null,
   "metadata": {},
   "outputs": [],
   "source": [
    "sc.tl.leiden(Peng4)"
   ]
  },
  {
   "cell_type": "code",
   "execution_count": null,
   "metadata": {},
   "outputs": [],
   "source": [
    "sq.pl.spatial_scatter(Peng4, color=\"leiden\", shape=None, figsize=(10, 10))"
   ]
  },
  {
   "cell_type": "code",
   "execution_count": null,
   "metadata": {},
   "outputs": [],
   "source": [
    "sq.pl.spatial_scatter(Peng4, color=\"leiden\", figsize=(10, 10))"
   ]
  },
  {
   "cell_type": "code",
   "execution_count": null,
   "metadata": {},
   "outputs": [],
   "source": [
    "sq.gr.spatial_neighbors(Peng4, coord_type=\"generic\")\n",
    "sq.gr.nhood_enrichment(Peng4, cluster_key=\"leiden\")\n",
    "sq.pl.nhood_enrichment(Peng4, cluster_key=\"leiden\", method=\"ward\")"
   ]
  }
 ],
 "metadata": {
  "kernelspec": {
   "display_name": "Python 3.9.13 ('spatial')",
   "language": "python",
   "name": "python3"
  },
  "language_info": {
   "codemirror_mode": {
    "name": "ipython",
    "version": 3
   },
   "file_extension": ".py",
   "mimetype": "text/x-python",
   "name": "python",
   "nbconvert_exporter": "python",
   "pygments_lexer": "ipython3",
   "version": "3.9.13"
  },
  "orig_nbformat": 4,
  "vscode": {
   "interpreter": {
    "hash": "29aac521e8968c408f2fdcb4828c8b82f6b39feef3c051bd8e6f7818cd3405f1"
   }
  }
 },
 "nbformat": 4,
 "nbformat_minor": 2
}
