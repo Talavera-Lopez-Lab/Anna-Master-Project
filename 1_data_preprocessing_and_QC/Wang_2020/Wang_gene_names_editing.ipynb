{
 "cells": [
  {
   "cell_type": "markdown",
   "metadata": {},
   "source": [
    "## Notebook for the Healthy reference counts preparation\n",
    "\n",
    "**Developed by**: Anna Maguza  \n",
    "**Institute of Computational Biology - Computational Health Centre - Hemlholtz Munich**  \n",
    "**19 June 2023**  "
   ]
  },
  {
   "cell_type": "markdown",
   "metadata": {},
   "source": [
    "#### Load required packages"
   ]
  },
  {
   "cell_type": "code",
   "execution_count": 5,
   "metadata": {},
   "outputs": [],
   "source": [
    "import numpy as np\n",
    "import pandas as pd\n",
    "import scanpy as sc\n",
    "import anndata as an\n",
    "from pybiomart import Server"
   ]
  },
  {
   "cell_type": "markdown",
   "metadata": {},
   "source": [
    "#### Setup Cells"
   ]
  },
  {
   "cell_type": "code",
   "execution_count": 2,
   "metadata": {},
   "outputs": [],
   "source": [
    "%matplotlib inline"
   ]
  },
  {
   "cell_type": "code",
   "execution_count": 3,
   "metadata": {},
   "outputs": [
    {
     "name": "stderr",
     "output_type": "stream",
     "text": [
      "/Users/anna.maguza/miniconda3/envs/biomart_env/lib/python3.9/site-packages/tqdm/auto.py:21: TqdmWarning: IProgress not found. Please update jupyter and ipywidgets. See https://ipywidgets.readthedocs.io/en/stable/user_install.html\n",
      "  from .autonotebook import tqdm as notebook_tqdm\n"
     ]
    },
    {
     "name": "stdout",
     "output_type": "stream",
     "text": [
      "scanpy==1.9.3 anndata==0.8.0 umap==0.5.3 numpy==1.23.5 scipy==1.10.1 pandas==1.3.5 scikit-learn==1.2.2 statsmodels==0.13.5 pynndescent==0.5.8\n"
     ]
    }
   ],
   "source": [
    "sc.settings.verbosity = 3             # verbosity: errors (0), warnings (1), info (2), hints (3)\n",
    "sc.logging.print_header()\n",
    "sc.settings.set_figure_params(dpi=80, facecolor='white')"
   ]
  },
  {
   "cell_type": "code",
   "execution_count": 4,
   "metadata": {},
   "outputs": [],
   "source": [
    "def X_is_raw(adata):\n",
    "    return np.array_equal(adata.X.sum(axis=0).astype(int), adata.X.sum(axis=0))"
   ]
  },
  {
   "attachments": {},
   "cell_type": "markdown",
   "metadata": {},
   "source": [
    "### Data Upload"
   ]
  },
  {
   "cell_type": "code",
   "execution_count": 8,
   "metadata": {},
   "outputs": [
    {
     "data": {
      "text/plain": [
       "True"
      ]
     },
     "execution_count": 8,
     "metadata": {},
     "output_type": "execute_result"
    }
   ],
   "source": [
    "Wang_adata = sc.read('/Users/anna.maguza/Desktop/GCA_social_network/data/raw_anndata/Wang/Wang_2022_raw_anndata.h5ad')\n",
    "X_is_raw(Wang_adata)"
   ]
  },
  {
   "attachments": {},
   "cell_type": "markdown",
   "metadata": {},
   "source": [
    "### Ensembla gene id extraction"
   ]
  },
  {
   "cell_type": "code",
   "execution_count": 6,
   "metadata": {},
   "outputs": [],
   "source": [
    "# Connect to BioMart server\n",
    "server = Server(host='http://www.ensembl.org')\n"
   ]
  },
  {
   "cell_type": "code",
   "execution_count": 9,
   "metadata": {},
   "outputs": [],
   "source": [
    "# Make a list of gene names\n",
    "gene_names = Wang_adata.var_names.tolist()"
   ]
  },
  {
   "cell_type": "code",
   "execution_count": 12,
   "metadata": {},
   "outputs": [
    {
     "data": {
      "text/plain": [
       "{'ENSEMBL_MART_ENSEMBL': <biomart.Mart name='ENSEMBL_MART_ENSEMBL', display_name='Ensembl Genes 109', database_name='ensembl_mart_109'>,\n",
       " 'ENSEMBL_MART_MOUSE': <biomart.Mart name='ENSEMBL_MART_MOUSE', display_name='Mouse strains 109', database_name='mouse_mart_109'>,\n",
       " 'ENSEMBL_MART_SEQUENCE': <biomart.Mart name='ENSEMBL_MART_SEQUENCE', display_name='Sequence', database_name='sequence_mart_109'>,\n",
       " 'ENSEMBL_MART_ONTOLOGY': <biomart.Mart name='ENSEMBL_MART_ONTOLOGY', display_name='Ontology', database_name='ontology_mart_109'>,\n",
       " 'ENSEMBL_MART_GENOMIC': <biomart.Mart name='ENSEMBL_MART_GENOMIC', display_name='Genomic features 109', database_name='genomic_features_mart_109'>,\n",
       " 'ENSEMBL_MART_SNP': <biomart.Mart name='ENSEMBL_MART_SNP', display_name='Ensembl Variation 109', database_name='snp_mart_109'>,\n",
       " 'ENSEMBL_MART_FUNCGEN': <biomart.Mart name='ENSEMBL_MART_FUNCGEN', display_name='Ensembl Regulation 109', database_name='regulation_mart_109'>}"
      ]
     },
     "execution_count": 12,
     "metadata": {},
     "output_type": "execute_result"
    }
   ],
   "source": [
    "server.marts"
   ]
  },
  {
   "cell_type": "code",
   "execution_count": 29,
   "metadata": {},
   "outputs": [],
   "source": [
    "# Choose the database\n",
    "dataset = (server.marts['ENSEMBL_MART_ENSEMBL']\n",
    "                  .datasets['hsapiens_gene_ensembl'])"
   ]
  },
  {
   "cell_type": "code",
   "execution_count": 30,
   "metadata": {},
   "outputs": [],
   "source": [
    "# Query the BioMart server to convert gene names to Ensembl IDs\n",
    "query_result = dataset.query(attributes=['external_gene_name', 'ensembl_gene_id'])"
   ]
  },
  {
   "cell_type": "code",
   "execution_count": 31,
   "metadata": {},
   "outputs": [],
   "source": [
    "# Keep only the rows where the gene name is in our list of genes\n",
    "query_result = query_result[query_result['Gene name'].isin(gene_names)]"
   ]
  },
  {
   "cell_type": "code",
   "execution_count": 32,
   "metadata": {},
   "outputs": [],
   "source": [
    "# Make 'Gene name' column as index\n",
    "query_result = query_result.set_index('Gene name')"
   ]
  },
  {
   "cell_type": "code",
   "execution_count": 34,
   "metadata": {},
   "outputs": [
    {
     "ename": "ValueError",
     "evalue": "Length of passed value for var_names is 21342, but this AnnData has shape: (14537, 19525)",
     "output_type": "error",
     "traceback": [
      "\u001b[0;31m---------------------------------------------------------------------------\u001b[0m",
      "\u001b[0;31mValueError\u001b[0m                                Traceback (most recent call last)",
      "Cell \u001b[0;32mIn[34], line 2\u001b[0m\n\u001b[1;32m      1\u001b[0m \u001b[39m# Merge Wang_adata.var with query_result by index. For genes absent in query_result, NaN will be added\u001b[39;00m\n\u001b[0;32m----> 2\u001b[0m Wang_adata\u001b[39m.\u001b[39mvar \u001b[39m=\u001b[39m Wang_adata\u001b[39m.\u001b[39mvar\u001b[39m.\u001b[39mmerge(query_result, left_index\u001b[39m=\u001b[39m\u001b[39mTrue\u001b[39;00m, right_index\u001b[39m=\u001b[39m\u001b[39mTrue\u001b[39;00m, how\u001b[39m=\u001b[39m\u001b[39m'\u001b[39m\u001b[39mleft\u001b[39m\u001b[39m'\u001b[39m)\n",
      "File \u001b[0;32m~/miniconda3/envs/biomart_env/lib/python3.9/site-packages/anndata/_core/anndata.py:882\u001b[0m, in \u001b[0;36mAnnData.var\u001b[0;34m(self, value)\u001b[0m\n\u001b[1;32m    880\u001b[0m \u001b[39m@var\u001b[39m\u001b[39m.\u001b[39msetter\n\u001b[1;32m    881\u001b[0m \u001b[39mdef\u001b[39;00m \u001b[39mvar\u001b[39m(\u001b[39mself\u001b[39m, value: pd\u001b[39m.\u001b[39mDataFrame):\n\u001b[0;32m--> 882\u001b[0m     \u001b[39mself\u001b[39;49m\u001b[39m.\u001b[39;49m_set_dim_df(value, \u001b[39m\"\u001b[39;49m\u001b[39mvar\u001b[39;49m\u001b[39m\"\u001b[39;49m)\n",
      "File \u001b[0;32m~/miniconda3/envs/biomart_env/lib/python3.9/site-packages/anndata/_core/anndata.py:798\u001b[0m, in \u001b[0;36mAnnData._set_dim_df\u001b[0;34m(self, value, attr)\u001b[0m\n\u001b[1;32m    796\u001b[0m \u001b[39mif\u001b[39;00m \u001b[39mnot\u001b[39;00m \u001b[39misinstance\u001b[39m(value, pd\u001b[39m.\u001b[39mDataFrame):\n\u001b[1;32m    797\u001b[0m     \u001b[39mraise\u001b[39;00m \u001b[39mValueError\u001b[39;00m(\u001b[39mf\u001b[39m\u001b[39m\"\u001b[39m\u001b[39mCan only assign pd.DataFrame to \u001b[39m\u001b[39m{\u001b[39;00mattr\u001b[39m}\u001b[39;00m\u001b[39m.\u001b[39m\u001b[39m\"\u001b[39m)\n\u001b[0;32m--> 798\u001b[0m value_idx \u001b[39m=\u001b[39m \u001b[39mself\u001b[39;49m\u001b[39m.\u001b[39;49m_prep_dim_index(value\u001b[39m.\u001b[39;49mindex, attr)\n\u001b[1;32m    799\u001b[0m \u001b[39mif\u001b[39;00m \u001b[39mself\u001b[39m\u001b[39m.\u001b[39mis_view:\n\u001b[1;32m    800\u001b[0m     \u001b[39mself\u001b[39m\u001b[39m.\u001b[39m_init_as_actual(\u001b[39mself\u001b[39m\u001b[39m.\u001b[39mcopy())\n",
      "File \u001b[0;32m~/miniconda3/envs/biomart_env/lib/python3.9/site-packages/anndata/_core/anndata.py:810\u001b[0m, in \u001b[0;36mAnnData._prep_dim_index\u001b[0;34m(self, value, attr)\u001b[0m\n\u001b[1;32m    805\u001b[0m \u001b[39m\"\"\"Prepares index to be uses as obs_names or var_names for AnnData object.AssertionError\u001b[39;00m\n\u001b[1;32m    806\u001b[0m \n\u001b[1;32m    807\u001b[0m \u001b[39mIf a pd.Index is passed, this will use a reference, otherwise a new index object is created.\u001b[39;00m\n\u001b[1;32m    808\u001b[0m \u001b[39m\"\"\"\u001b[39;00m\n\u001b[1;32m    809\u001b[0m \u001b[39mif\u001b[39;00m \u001b[39mself\u001b[39m\u001b[39m.\u001b[39mshape[attr \u001b[39m==\u001b[39m \u001b[39m\"\u001b[39m\u001b[39mvar\u001b[39m\u001b[39m\"\u001b[39m] \u001b[39m!=\u001b[39m \u001b[39mlen\u001b[39m(value):\n\u001b[0;32m--> 810\u001b[0m     \u001b[39mraise\u001b[39;00m \u001b[39mValueError\u001b[39;00m(\n\u001b[1;32m    811\u001b[0m         \u001b[39mf\u001b[39m\u001b[39m\"\u001b[39m\u001b[39mLength of passed value for \u001b[39m\u001b[39m{\u001b[39;00mattr\u001b[39m}\u001b[39;00m\u001b[39m_names is \u001b[39m\u001b[39m{\u001b[39;00m\u001b[39mlen\u001b[39m(value)\u001b[39m}\u001b[39;00m\u001b[39m, but this AnnData has shape: \u001b[39m\u001b[39m{\u001b[39;00m\u001b[39mself\u001b[39m\u001b[39m.\u001b[39mshape\u001b[39m}\u001b[39;00m\u001b[39m\"\u001b[39m\n\u001b[1;32m    812\u001b[0m     )\n\u001b[1;32m    813\u001b[0m \u001b[39mif\u001b[39;00m \u001b[39misinstance\u001b[39m(value, pd\u001b[39m.\u001b[39mIndex) \u001b[39mand\u001b[39;00m \u001b[39mnot\u001b[39;00m \u001b[39misinstance\u001b[39m(\n\u001b[1;32m    814\u001b[0m     value\u001b[39m.\u001b[39mname, (\u001b[39mstr\u001b[39m, \u001b[39mtype\u001b[39m(\u001b[39mNone\u001b[39;00m))\n\u001b[1;32m    815\u001b[0m ):\n\u001b[1;32m    816\u001b[0m     \u001b[39mraise\u001b[39;00m \u001b[39mValueError\u001b[39;00m(\n\u001b[1;32m    817\u001b[0m         \u001b[39mf\u001b[39m\u001b[39m\"\u001b[39m\u001b[39mAnnData expects .\u001b[39m\u001b[39m{\u001b[39;00mattr\u001b[39m}\u001b[39;00m\u001b[39m.index.name to be a string or None, \u001b[39m\u001b[39m\"\u001b[39m\n\u001b[1;32m    818\u001b[0m         \u001b[39mf\u001b[39m\u001b[39m\"\u001b[39m\u001b[39mbut you passed a name of type \u001b[39m\u001b[39m{\u001b[39;00m\u001b[39mtype\u001b[39m(value\u001b[39m.\u001b[39mname)\u001b[39m.\u001b[39m\u001b[39m__name__\u001b[39m\u001b[39m!r}\u001b[39;00m\u001b[39m\"\u001b[39m\n\u001b[1;32m    819\u001b[0m     )\n",
      "\u001b[0;31mValueError\u001b[0m: Length of passed value for var_names is 21342, but this AnnData has shape: (14537, 19525)"
     ]
    }
   ],
   "source": [
    "# Merge Wang_adata.var with query_result by index. For genes absent in query_result, NaN will be added\n",
    "Wang_adata.var = Wang_adata.var.merge(query_result, left_index=True, right_index=True, how='left')"
   ]
  },
  {
   "cell_type": "code",
   "execution_count": null,
   "metadata": {},
   "outputs": [],
   "source": []
  }
 ],
 "metadata": {
  "kernelspec": {
   "display_name": "biomart_env",
   "language": "python",
   "name": "python3"
  },
  "language_info": {
   "codemirror_mode": {
    "name": "ipython",
    "version": 3
   },
   "file_extension": ".py",
   "mimetype": "text/x-python",
   "name": "python",
   "nbconvert_exporter": "python",
   "pygments_lexer": "ipython3",
   "version": "3.9.16"
  },
  "orig_nbformat": 4
 },
 "nbformat": 4,
 "nbformat_minor": 2
}
