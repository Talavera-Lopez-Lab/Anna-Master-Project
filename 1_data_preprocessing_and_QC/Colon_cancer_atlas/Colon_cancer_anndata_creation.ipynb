{
 "cells": [
  {
   "attachments": {},
   "cell_type": "markdown",
   "metadata": {},
   "source": [
    "## Notebook for the Colon Cancer Atlas anndata object preparation \n",
    "### Developed by: Anna Maguza\n",
    "\n",
    "### Institute of Computational Biology - Computational Health Centre - Hemlholtz Munich\n",
    "\n",
    "### 15 May 2023"
   ]
  },
  {
   "cell_type": "markdown",
   "metadata": {},
   "source": [
    "#### Load required packages"
   ]
  },
  {
   "cell_type": "code",
   "execution_count": 2,
   "metadata": {},
   "outputs": [],
   "source": [
    "import numpy as np\n",
    "import pandas as pd\n",
    "import scanpy as sc\n",
    "import anndata as an\n",
    "import matplotlib.pyplot as plt\n",
    "from matplotlib.pyplot import figure\n",
    "import scipy as sci\n",
    "from scipy.io import mmread"
   ]
  },
  {
   "cell_type": "code",
   "execution_count": 3,
   "metadata": {},
   "outputs": [],
   "source": [
    "def X_is_raw(adata):\n",
    "    return np.array_equal(adata.X.sum(axis=0).astype(int), adata.X.sum(axis=0))"
   ]
  },
  {
   "cell_type": "markdown",
   "metadata": {},
   "source": [
    "#### Setup Cells"
   ]
  },
  {
   "cell_type": "code",
   "execution_count": 4,
   "metadata": {},
   "outputs": [],
   "source": [
    "%matplotlib inline"
   ]
  },
  {
   "cell_type": "code",
   "execution_count": 5,
   "metadata": {},
   "outputs": [
    {
     "name": "stderr",
     "output_type": "stream",
     "text": [
      "/Users/anna.maguza/miniconda3/envs/scanpy_env/lib/python3.9/site-packages/tqdm/auto.py:21: TqdmWarning: IProgress not found. Please update jupyter and ipywidgets. See https://ipywidgets.readthedocs.io/en/stable/user_install.html\n",
      "  from .autonotebook import tqdm as notebook_tqdm\n"
     ]
    },
    {
     "name": "stdout",
     "output_type": "stream",
     "text": [
      "scanpy==1.9.3 anndata==0.8.0 umap==0.5.3 numpy==1.23.5 scipy==1.9.1 pandas==1.3.5 scikit-learn==1.2.2 statsmodels==0.13.5 pynndescent==0.5.8\n"
     ]
    }
   ],
   "source": [
    "sc.settings.verbosity = 3             # verbosity: errors (0), warnings (1), info (2), hints (3)\n",
    "sc.logging.print_header()\n",
    "sc.settings.set_figure_params(dpi=80, facecolor='white')"
   ]
  },
  {
   "cell_type": "markdown",
   "metadata": {},
   "source": [
    "#### Upload Data"
   ]
  },
  {
   "cell_type": "code",
   "execution_count": 4,
   "metadata": {},
   "outputs": [
    {
     "name": "stderr",
     "output_type": "stream",
     "text": [
      "/Users/anna.maguza/miniconda3/envs/scanpy_env/lib/python3.9/site-packages/IPython/core/interactiveshell.py:3460: DtypeWarning: Columns (14,15,16,17,18,19,20,21,22,23,24) have mixed types.Specify dtype option on import or set low_memory=False.\n",
      "  exec(code_obj, self.user_global_ns, self.user_ns)\n"
     ]
    }
   ],
   "source": [
    "# Upload genes\n",
    "Genes = pd.read_csv('/Users/anna.maguza/Desktop/Data/Gut_project/Human_Colon_Cancer_Atlas/Raw_data/SCP1162/expression/5fbf5a26771a5b0db8fe7a8b/matrix.genes.tsv', sep='\\t', index_col=0, header=None)\n",
    "\n",
    "# Upload metadata\n",
    "meta = pd.read_csv('/Users/anna.maguza/Desktop/Data/Gut_project/Human_Colon_Cancer_Atlas/Raw_data/SCP1162/metadata/metatable_v3_fix_v2.tsv', sep='\\t', index_col=0)\n",
    "\n",
    "# Upload barcodes\n",
    "Barcodes = pd.read_csv('/Users/anna.maguza/Desktop/Data/Gut_project/Human_Colon_Cancer_Atlas/Raw_data/SCP1162/expression/5fbf5a26771a5b0db8fe7a8b/matrix.barcodes.tsv', sep='\\t', index_col=0, header=None)"
   ]
  },
  {
   "cell_type": "code",
   "execution_count": 5,
   "metadata": {},
   "outputs": [],
   "source": [
    "# Upload matrix (mtx)\n",
    "matrix = mmread('/Users/anna.maguza/Desktop/Data/Gut_project/Human_Colon_Cancer_Atlas/Raw_data/SCP1162/expression/5fbf5a26771a5b0db8fe7a8b/matrix.mtx')\n",
    "matrix = sci.sparse.csr_matrix(matrix)"
   ]
  },
  {
   "cell_type": "code",
   "execution_count": 8,
   "metadata": {},
   "outputs": [
    {
     "name": "stderr",
     "output_type": "stream",
     "text": [
      "/Users/anna.maguza/miniconda3/envs/scanpy_env/lib/python3.9/site-packages/IPython/core/interactiveshell.py:3460: DtypeWarning: Columns (1,2) have mixed types.Specify dtype option on import or set low_memory=False.\n",
      "  exec(code_obj, self.user_global_ns, self.user_ns)\n"
     ]
    }
   ],
   "source": [
    "# Upload tSNE coordinates\n",
    "global_tSNE = pd.read_csv('/Users/anna.maguza/Desktop/Data/Gut_project/Human_Colon_Cancer_Atlas/Raw_data/SCP1162/cluster/crc10x_tSNE_cl_global.tsv', sep='\\t', index_col=0)"
   ]
  },
  {
   "cell_type": "code",
   "execution_count": 7,
   "metadata": {},
   "outputs": [],
   "source": [
    "# Drop row 'TYPE' from metadata\n",
    "meta = meta.drop('TYPE')"
   ]
  },
  {
   "cell_type": "code",
   "execution_count": 14,
   "metadata": {},
   "outputs": [],
   "source": [
    "# Rename index column in Genes to 'gene_ids' and in Barcodes to 'cell_id'\n",
    "Genes.index.name = 'gene_id'\n",
    "Barcodes.index.name = 'cell_id'\n",
    "Genes.rename(columns={1: 'gene_name'}, inplace=True)"
   ]
  },
  {
   "cell_type": "code",
   "execution_count": 16,
   "metadata": {},
   "outputs": [
    {
     "data": {
      "text/html": [
       "<div>\n",
       "<style scoped>\n",
       "    .dataframe tbody tr th:only-of-type {\n",
       "        vertical-align: middle;\n",
       "    }\n",
       "\n",
       "    .dataframe tbody tr th {\n",
       "        vertical-align: top;\n",
       "    }\n",
       "\n",
       "    .dataframe thead th {\n",
       "        text-align: right;\n",
       "    }\n",
       "</style>\n",
       "<table border=\"1\" class=\"dataframe\">\n",
       "  <thead>\n",
       "    <tr style=\"text-align: right;\">\n",
       "      <th></th>\n",
       "    </tr>\n",
       "    <tr>\n",
       "      <th>cell_id</th>\n",
       "    </tr>\n",
       "  </thead>\n",
       "  <tbody>\n",
       "    <tr>\n",
       "      <th>C103_T_1_1_0_c1_v2_id-AAACCTGCATGCTAGT</th>\n",
       "    </tr>\n",
       "    <tr>\n",
       "      <th>C103_T_1_1_0_c1_v2_id-AAACCTGGTAGCCTAT</th>\n",
       "    </tr>\n",
       "    <tr>\n",
       "      <th>C103_T_1_1_0_c1_v2_id-AAACCTGGTTGTCGCG</th>\n",
       "    </tr>\n",
       "    <tr>\n",
       "      <th>C103_T_1_1_0_c1_v2_id-AAACCTGTCATGTGGT</th>\n",
       "    </tr>\n",
       "    <tr>\n",
       "      <th>C103_T_1_1_0_c1_v2_id-AAACCTGTCCTTGGTC</th>\n",
       "    </tr>\n",
       "  </tbody>\n",
       "</table>\n",
       "</div>"
      ],
      "text/plain": [
       "Empty DataFrame\n",
       "Columns: []\n",
       "Index: [C103_T_1_1_0_c1_v2_id-AAACCTGCATGCTAGT, C103_T_1_1_0_c1_v2_id-AAACCTGGTAGCCTAT, C103_T_1_1_0_c1_v2_id-AAACCTGGTTGTCGCG, C103_T_1_1_0_c1_v2_id-AAACCTGTCATGTGGT, C103_T_1_1_0_c1_v2_id-AAACCTGTCCTTGGTC]"
      ]
     },
     "execution_count": 16,
     "metadata": {},
     "output_type": "execute_result"
    }
   ],
   "source": [
    "Barcodes.head()"
   ]
  },
  {
   "cell_type": "code",
   "execution_count": 15,
   "metadata": {},
   "outputs": [
    {
     "data": {
      "text/html": [
       "<div>\n",
       "<style scoped>\n",
       "    .dataframe tbody tr th:only-of-type {\n",
       "        vertical-align: middle;\n",
       "    }\n",
       "\n",
       "    .dataframe tbody tr th {\n",
       "        vertical-align: top;\n",
       "    }\n",
       "\n",
       "    .dataframe thead th {\n",
       "        text-align: right;\n",
       "    }\n",
       "</style>\n",
       "<table border=\"1\" class=\"dataframe\">\n",
       "  <thead>\n",
       "    <tr style=\"text-align: right;\">\n",
       "      <th></th>\n",
       "      <th>gene_name</th>\n",
       "    </tr>\n",
       "    <tr>\n",
       "      <th>gene_id</th>\n",
       "      <th></th>\n",
       "    </tr>\n",
       "  </thead>\n",
       "  <tbody>\n",
       "    <tr>\n",
       "      <th>ENSG00000243485.5_4</th>\n",
       "      <td>RP11-34P13.3</td>\n",
       "    </tr>\n",
       "    <tr>\n",
       "      <th>ENSG00000237613.2_2</th>\n",
       "      <td>FAM138A</td>\n",
       "    </tr>\n",
       "    <tr>\n",
       "      <th>ENSG00000186092.6_4</th>\n",
       "      <td>OR4F5</td>\n",
       "    </tr>\n",
       "    <tr>\n",
       "      <th>ENSG00000238009.6_5</th>\n",
       "      <td>RP11-34P13.7</td>\n",
       "    </tr>\n",
       "    <tr>\n",
       "      <th>ENSG00000239945.1_5</th>\n",
       "      <td>RP11-34P13.8</td>\n",
       "    </tr>\n",
       "  </tbody>\n",
       "</table>\n",
       "</div>"
      ],
      "text/plain": [
       "                        gene_name\n",
       "gene_id                          \n",
       "ENSG00000243485.5_4  RP11-34P13.3\n",
       "ENSG00000237613.2_2       FAM138A\n",
       "ENSG00000186092.6_4         OR4F5\n",
       "ENSG00000238009.6_5  RP11-34P13.7\n",
       "ENSG00000239945.1_5  RP11-34P13.8"
      ]
     },
     "execution_count": 15,
     "metadata": {},
     "output_type": "execute_result"
    }
   ],
   "source": [
    "Genes.head()"
   ]
  },
  {
   "cell_type": "code",
   "execution_count": 17,
   "metadata": {},
   "outputs": [
    {
     "name": "stderr",
     "output_type": "stream",
     "text": [
      "/var/folders/gb/wwnzrh015q9dns5cmsc3xcjsxglkqz/T/ipykernel_9768/759177324.py:2: FutureWarning: X.dtype being converted to np.float32 from float64. In the next version of anndata (0.9) conversion will not be automatic. Pass dtype explicitly to avoid this warning. Pass `AnnData(X, dtype=X.dtype, ...)` to get the future behavour.\n",
      "  adata = an.AnnData(X=np.transpose(matrix), obs=Barcodes, var=Genes)\n"
     ]
    }
   ],
   "source": [
    "# Create anndata object\n",
    "adata = an.AnnData(X=np.transpose(matrix), obs=Barcodes, var=Genes)"
   ]
  },
  {
   "cell_type": "code",
   "execution_count": 18,
   "metadata": {},
   "outputs": [
    {
     "data": {
      "text/plain": [
       "False"
      ]
     },
     "execution_count": 18,
     "metadata": {},
     "output_type": "execute_result"
    }
   ],
   "source": [
    "X_is_raw(adata)"
   ]
  },
  {
   "cell_type": "code",
   "execution_count": 19,
   "metadata": {},
   "outputs": [
    {
     "data": {
      "text/html": [
       "<div>\n",
       "<style scoped>\n",
       "    .dataframe tbody tr th:only-of-type {\n",
       "        vertical-align: middle;\n",
       "    }\n",
       "\n",
       "    .dataframe tbody tr th {\n",
       "        vertical-align: top;\n",
       "    }\n",
       "\n",
       "    .dataframe thead th {\n",
       "        text-align: right;\n",
       "    }\n",
       "</style>\n",
       "<table border=\"1\" class=\"dataframe\">\n",
       "  <thead>\n",
       "    <tr style=\"text-align: right;\">\n",
       "      <th></th>\n",
       "    </tr>\n",
       "    <tr>\n",
       "      <th>cell_id</th>\n",
       "    </tr>\n",
       "  </thead>\n",
       "  <tbody>\n",
       "    <tr>\n",
       "      <th>C103_T_1_1_0_c1_v2_id-AAACCTGCATGCTAGT</th>\n",
       "    </tr>\n",
       "    <tr>\n",
       "      <th>C103_T_1_1_0_c1_v2_id-AAACCTGGTAGCCTAT</th>\n",
       "    </tr>\n",
       "    <tr>\n",
       "      <th>C103_T_1_1_0_c1_v2_id-AAACCTGGTTGTCGCG</th>\n",
       "    </tr>\n",
       "    <tr>\n",
       "      <th>C103_T_1_1_0_c1_v2_id-AAACCTGTCATGTGGT</th>\n",
       "    </tr>\n",
       "    <tr>\n",
       "      <th>C103_T_1_1_0_c1_v2_id-AAACCTGTCCTTGGTC</th>\n",
       "    </tr>\n",
       "    <tr>\n",
       "      <th>...</th>\n",
       "    </tr>\n",
       "    <tr>\n",
       "      <th>C173_T_0_0_0_c1_v3_id-TTTGGAGTCATCGGGC</th>\n",
       "    </tr>\n",
       "    <tr>\n",
       "      <th>C173_T_0_0_0_c1_v3_id-TTTGGAGTCTAGTGTG</th>\n",
       "    </tr>\n",
       "    <tr>\n",
       "      <th>C173_T_0_0_0_c1_v3_id-TTTGTTGCAGCAATTC</th>\n",
       "    </tr>\n",
       "    <tr>\n",
       "      <th>C173_T_0_0_0_c1_v3_id-TTTGTTGGTTCTGAGT</th>\n",
       "    </tr>\n",
       "    <tr>\n",
       "      <th>C173_T_0_0_0_c1_v3_id-TTTGTTGTCGTTCCCA</th>\n",
       "    </tr>\n",
       "  </tbody>\n",
       "</table>\n",
       "<p>371223 rows × 0 columns</p>\n",
       "</div>"
      ],
      "text/plain": [
       "Empty DataFrame\n",
       "Columns: []\n",
       "Index: [C103_T_1_1_0_c1_v2_id-AAACCTGCATGCTAGT, C103_T_1_1_0_c1_v2_id-AAACCTGGTAGCCTAT, C103_T_1_1_0_c1_v2_id-AAACCTGGTTGTCGCG, C103_T_1_1_0_c1_v2_id-AAACCTGTCATGTGGT, C103_T_1_1_0_c1_v2_id-AAACCTGTCCTTGGTC, C103_T_1_1_0_c1_v2_id-AAACCTGTCGGATGTT, C103_T_1_1_0_c1_v2_id-AAACCTGTCGTACGGC, C103_T_1_1_0_c1_v2_id-AAACCTGTCTTGCAAG, C103_T_1_1_0_c1_v2_id-AAACGGGAGACGCACA, C103_T_1_1_0_c1_v2_id-AAACGGGAGAGAACAG, C103_T_1_1_0_c1_v2_id-AAACGGGAGTAGCCGA, C103_T_1_1_0_c1_v2_id-AAACGGGCAACCGCCA, C103_T_1_1_0_c1_v2_id-AAACGGGCACTGCCAG, C103_T_1_1_0_c1_v2_id-AAACGGGCAGAGTGTG, C103_T_1_1_0_c1_v2_id-AAACGGGCAGCCACCA, C103_T_1_1_0_c1_v2_id-AAACGGGGTAGGACAC, C103_T_1_1_0_c1_v2_id-AAACGGGGTCAAACTC, C103_T_1_1_0_c1_v2_id-AAACGGGTCAAAGTAG, C103_T_1_1_0_c1_v2_id-AAACGGGTCATCTGCC, C103_T_1_1_0_c1_v2_id-AAACGGGTCGTTACAG, C103_T_1_1_0_c1_v2_id-AAAGATGAGCTCAACT, C103_T_1_1_0_c1_v2_id-AAAGATGAGCTGCAAG, C103_T_1_1_0_c1_v2_id-AAAGATGAGGTGATTA, C103_T_1_1_0_c1_v2_id-AAAGATGCAAGGTTTC, C103_T_1_1_0_c1_v2_id-AAAGATGCACGGACAA, C103_T_1_1_0_c1_v2_id-AAAGATGGTACCGTAT, C103_T_1_1_0_c1_v2_id-AAAGATGGTATGGTTC, C103_T_1_1_0_c1_v2_id-AAAGATGGTCGGATCC, C103_T_1_1_0_c1_v2_id-AAAGATGGTGCCTGCA, C103_T_1_1_0_c1_v2_id-AAAGATGGTTATCCGA, C103_T_1_1_0_c1_v2_id-AAAGATGGTTCCGGCA, C103_T_1_1_0_c1_v2_id-AAAGCAAAGACTCGGA, C103_T_1_1_0_c1_v2_id-AAAGCAAAGGGATCTG, C103_T_1_1_0_c1_v2_id-AAAGCAAAGGTAGCCA, C103_T_1_1_0_c1_v2_id-AAAGCAACATTGTGCA, C103_T_1_1_0_c1_v2_id-AAAGCAAGTCCATGAT, C103_T_1_1_0_c1_v2_id-AAAGCAAGTCCCTACT, C103_T_1_1_0_c1_v2_id-AAAGCAAGTCTAGTGT, C103_T_1_1_0_c1_v2_id-AAAGCAATCCTGCTTG, C103_T_1_1_0_c1_v2_id-AAAGTAGAGGACACCA, C103_T_1_1_0_c1_v2_id-AAAGTAGAGTAAGTAC, C103_T_1_1_0_c1_v2_id-AAAGTAGCAAGCCTAT, C103_T_1_1_0_c1_v2_id-AAAGTAGCAATGTAAG, C103_T_1_1_0_c1_v2_id-AAAGTAGCACCGTTGG, C103_T_1_1_0_c1_v2_id-AAAGTAGCATGACATC, C103_T_1_1_0_c1_v2_id-AAAGTAGCATTGTGCA, C103_T_1_1_0_c1_v2_id-AAAGTAGGTGGCCCTA, C103_T_1_1_0_c1_v2_id-AAAGTAGGTTATCCGA, C103_T_1_1_0_c1_v2_id-AAAGTAGGTTTCCACC, C103_T_1_1_0_c1_v2_id-AAAGTAGTCCTTGGTC, C103_T_1_1_0_c1_v2_id-AAAGTAGTCGTAGGTT, C103_T_1_1_0_c1_v2_id-AAAGTAGTCTGGCGAC, C103_T_1_1_0_c1_v2_id-AAATGCCAGAAACGAG, C103_T_1_1_0_c1_v2_id-AAATGCCAGTACGACG, C103_T_1_1_0_c1_v2_id-AAATGCCAGTGCGATG, C103_T_1_1_0_c1_v2_id-AAATGCCAGTTGTCGT, C103_T_1_1_0_c1_v2_id-AAATGCCCATCGACGC, C103_T_1_1_0_c1_v2_id-AAATGCCGTGCATCTA, C103_T_1_1_0_c1_v2_id-AAATGCCTCCAAAGTC, C103_T_1_1_0_c1_v2_id-AAATGCCTCCGCTGTT, C103_T_1_1_0_c1_v2_id-AAATGCCTCCTCAACC, C103_T_1_1_0_c1_v2_id-AAATGCCTCGTATCAG, C103_T_1_1_0_c1_v2_id-AACACGTAGAGTCTGG, C103_T_1_1_0_c1_v2_id-AACACGTAGATAGTCA, C103_T_1_1_0_c1_v2_id-AACACGTAGCCTTGAT, C103_T_1_1_0_c1_v2_id-AACACGTAGTCGATAA, C103_T_1_1_0_c1_v2_id-AACACGTAGTGGGATC, C103_T_1_1_0_c1_v2_id-AACACGTCAGCTGCAC, C103_T_1_1_0_c1_v2_id-AACACGTGTCCGAACC, C103_T_1_1_0_c1_v2_id-AACACGTGTGCCTGTG, C103_T_1_1_0_c1_v2_id-AACACGTGTGTAAGTA, C103_T_1_1_0_c1_v2_id-AACACGTGTGTATGGG, C103_T_1_1_0_c1_v2_id-AACACGTGTTATTCTC, C103_T_1_1_0_c1_v2_id-AACACGTTCAGGATCT, C103_T_1_1_0_c1_v2_id-AACACGTTCCATTCTA, C103_T_1_1_0_c1_v2_id-AACACGTTCGCACTCT, C103_T_1_1_0_c1_v2_id-AACACGTTCTTGGGTA, C103_T_1_1_0_c1_v2_id-AACCATGAGCAGGTCA, C103_T_1_1_0_c1_v2_id-AACCATGAGCTAGTGG, C103_T_1_1_0_c1_v2_id-AACCATGAGGATCGCA, C103_T_1_1_0_c1_v2_id-AACCATGAGTTGAGTA, C103_T_1_1_0_c1_v2_id-AACCATGCACCCATGG, C103_T_1_1_0_c1_v2_id-AACCATGCAGGGTTAG, C103_T_1_1_0_c1_v2_id-AACCGCGAGACAAGCC, C103_T_1_1_0_c1_v2_id-AACCGCGAGATAGCAT, C103_T_1_1_0_c1_v2_id-AACCGCGAGATGTTAG, C103_T_1_1_0_c1_v2_id-AACCGCGAGGTAGCTG, C103_T_1_1_0_c1_v2_id-AACCGCGAGTCCCACG, C103_T_1_1_0_c1_v2_id-AACCGCGAGTGTCCCG, C103_T_1_1_0_c1_v2_id-AACCGCGCACGAAGCA, C103_T_1_1_0_c1_v2_id-AACCGCGCATGAACCT, C103_T_1_1_0_c1_v2_id-AACCGCGGTTCACGGC, C103_T_1_1_0_c1_v2_id-AACCGCGGTTCCCGAG, C103_T_1_1_0_c1_v2_id-AACCGCGGTTTGGGCC, C103_T_1_1_0_c1_v2_id-AACCGCGTCATCGATG, C103_T_1_1_0_c1_v2_id-AACCGCGTCTCGAGTA, C103_T_1_1_0_c1_v2_id-AACGTTGAGGCAATTA, C103_T_1_1_0_c1_v2_id-AACGTTGCAAATTGCC, C103_T_1_1_0_c1_v2_id-AACGTTGCAATTGCTG, C103_T_1_1_0_c1_v2_id-AACGTTGCACGGTGTC, ...]\n",
       "\n",
       "[371223 rows x 0 columns]"
      ]
     },
     "execution_count": 19,
     "metadata": {},
     "output_type": "execute_result"
    }
   ],
   "source": [
    "adata.obs"
   ]
  },
  {
   "cell_type": "code",
   "execution_count": 20,
   "metadata": {},
   "outputs": [
    {
     "data": {
      "text/html": [
       "<div>\n",
       "<style scoped>\n",
       "    .dataframe tbody tr th:only-of-type {\n",
       "        vertical-align: middle;\n",
       "    }\n",
       "\n",
       "    .dataframe tbody tr th {\n",
       "        vertical-align: top;\n",
       "    }\n",
       "\n",
       "    .dataframe thead th {\n",
       "        text-align: right;\n",
       "    }\n",
       "</style>\n",
       "<table border=\"1\" class=\"dataframe\">\n",
       "  <thead>\n",
       "    <tr style=\"text-align: right;\">\n",
       "      <th></th>\n",
       "      <th>gene_name</th>\n",
       "    </tr>\n",
       "    <tr>\n",
       "      <th>gene_id</th>\n",
       "      <th></th>\n",
       "    </tr>\n",
       "  </thead>\n",
       "  <tbody>\n",
       "    <tr>\n",
       "      <th>ENSG00000243485.5_4</th>\n",
       "      <td>RP11-34P13.3</td>\n",
       "    </tr>\n",
       "    <tr>\n",
       "      <th>ENSG00000237613.2_2</th>\n",
       "      <td>FAM138A</td>\n",
       "    </tr>\n",
       "    <tr>\n",
       "      <th>ENSG00000186092.6_4</th>\n",
       "      <td>OR4F5</td>\n",
       "    </tr>\n",
       "    <tr>\n",
       "      <th>ENSG00000238009.6_5</th>\n",
       "      <td>RP11-34P13.7</td>\n",
       "    </tr>\n",
       "    <tr>\n",
       "      <th>ENSG00000239945.1_5</th>\n",
       "      <td>RP11-34P13.8</td>\n",
       "    </tr>\n",
       "    <tr>\n",
       "      <th>...</th>\n",
       "      <td>...</td>\n",
       "    </tr>\n",
       "    <tr>\n",
       "      <th>Epi_39_SEPP1_SLC26A3_EpiN8</th>\n",
       "      <td>pEpi39 (SEPP1, SLC26A3)</td>\n",
       "    </tr>\n",
       "    <tr>\n",
       "      <th>Epi_40_CKB_EpiN16</th>\n",
       "      <td>pEpi40 (CKB, AOC1, CEACAM6)</td>\n",
       "    </tr>\n",
       "    <tr>\n",
       "      <th>Epi_41_GSN_MUC2_EpiN17</th>\n",
       "      <td>pEpi41 (GSN, MUC2, MUC4)</td>\n",
       "    </tr>\n",
       "    <tr>\n",
       "      <th>Epi_42_ELFs_EpiN11</th>\n",
       "      <td>pEpi42 (elongation factors)</td>\n",
       "    </tr>\n",
       "    <tr>\n",
       "      <th>Epi_43_SPINK4_EpiN13</th>\n",
       "      <td>pEpi43 (SPINK4, XBP1)</td>\n",
       "    </tr>\n",
       "  </tbody>\n",
       "</table>\n",
       "<p>43282 rows × 1 columns</p>\n",
       "</div>"
      ],
      "text/plain": [
       "                                              gene_name\n",
       "gene_id                                                \n",
       "ENSG00000243485.5_4                        RP11-34P13.3\n",
       "ENSG00000237613.2_2                             FAM138A\n",
       "ENSG00000186092.6_4                               OR4F5\n",
       "ENSG00000238009.6_5                        RP11-34P13.7\n",
       "ENSG00000239945.1_5                        RP11-34P13.8\n",
       "...                                                 ...\n",
       "Epi_39_SEPP1_SLC26A3_EpiN8      pEpi39 (SEPP1, SLC26A3)\n",
       "Epi_40_CKB_EpiN16           pEpi40 (CKB, AOC1, CEACAM6)\n",
       "Epi_41_GSN_MUC2_EpiN17         pEpi41 (GSN, MUC2, MUC4)\n",
       "Epi_42_ELFs_EpiN11          pEpi42 (elongation factors)\n",
       "Epi_43_SPINK4_EpiN13              pEpi43 (SPINK4, XBP1)\n",
       "\n",
       "[43282 rows x 1 columns]"
      ]
     },
     "execution_count": 20,
     "metadata": {},
     "output_type": "execute_result"
    }
   ],
   "source": [
    "adata.var"
   ]
  },
  {
   "cell_type": "code",
   "execution_count": 21,
   "metadata": {},
   "outputs": [],
   "source": [
    "# Join metadata to anndata object by index\n",
    "adata.obs = adata.obs.join(meta)"
   ]
  },
  {
   "cell_type": "code",
   "execution_count": 22,
   "metadata": {},
   "outputs": [
    {
     "data": {
      "text/html": [
       "<div>\n",
       "<style scoped>\n",
       "    .dataframe tbody tr th:only-of-type {\n",
       "        vertical-align: middle;\n",
       "    }\n",
       "\n",
       "    .dataframe tbody tr th {\n",
       "        vertical-align: top;\n",
       "    }\n",
       "\n",
       "    .dataframe thead th {\n",
       "        text-align: right;\n",
       "    }\n",
       "</style>\n",
       "<table border=\"1\" class=\"dataframe\">\n",
       "  <thead>\n",
       "    <tr style=\"text-align: right;\">\n",
       "      <th></th>\n",
       "      <th>biosample_id</th>\n",
       "      <th>donor_id</th>\n",
       "      <th>SpecimenType</th>\n",
       "      <th>TissueSource</th>\n",
       "      <th>ProcessingMethod</th>\n",
       "      <th>PatientTypeID</th>\n",
       "      <th>sex</th>\n",
       "      <th>Site</th>\n",
       "      <th>Grade</th>\n",
       "      <th>TumorStage</th>\n",
       "      <th>...</th>\n",
       "      <th>qc_emptyDropPval</th>\n",
       "      <th>qc_mitoFraction</th>\n",
       "      <th>species</th>\n",
       "      <th>species__ontology_label</th>\n",
       "      <th>disease</th>\n",
       "      <th>disease__ontology_label</th>\n",
       "      <th>organ</th>\n",
       "      <th>organ__ontology_label</th>\n",
       "      <th>library_preparation_protocol</th>\n",
       "      <th>library_preparation_protocol__ontology_label</th>\n",
       "    </tr>\n",
       "    <tr>\n",
       "      <th>cell_id</th>\n",
       "      <th></th>\n",
       "      <th></th>\n",
       "      <th></th>\n",
       "      <th></th>\n",
       "      <th></th>\n",
       "      <th></th>\n",
       "      <th></th>\n",
       "      <th></th>\n",
       "      <th></th>\n",
       "      <th></th>\n",
       "      <th></th>\n",
       "      <th></th>\n",
       "      <th></th>\n",
       "      <th></th>\n",
       "      <th></th>\n",
       "      <th></th>\n",
       "      <th></th>\n",
       "      <th></th>\n",
       "      <th></th>\n",
       "      <th></th>\n",
       "      <th></th>\n",
       "    </tr>\n",
       "  </thead>\n",
       "  <tbody>\n",
       "    <tr>\n",
       "      <th>C103_T_1_1_0_c1_v2_id-AAACCTGCATGCTAGT</th>\n",
       "      <td>C103_T_1_1_0_c1_v2</td>\n",
       "      <td>C103</td>\n",
       "      <td>T</td>\n",
       "      <td>MGH</td>\n",
       "      <td>unsorted</td>\n",
       "      <td>C103_T</td>\n",
       "      <td>male</td>\n",
       "      <td>left</td>\n",
       "      <td>low</td>\n",
       "      <td>notT4</td>\n",
       "      <td>...</td>\n",
       "      <td>9.99900009999e-05</td>\n",
       "      <td>0.0762605181209832</td>\n",
       "      <td>NCBITaxon_9606</td>\n",
       "      <td>Homo sapiens</td>\n",
       "      <td>MONDO_0002271</td>\n",
       "      <td>colon adenocarcinoma</td>\n",
       "      <td>UBERON_0001155</td>\n",
       "      <td>colon</td>\n",
       "      <td>EFO_0009899</td>\n",
       "      <td>10X 3' v2 sequencing</td>\n",
       "    </tr>\n",
       "    <tr>\n",
       "      <th>C103_T_1_1_0_c1_v2_id-AAACCTGGTAGCCTAT</th>\n",
       "      <td>C103_T_1_1_0_c1_v2</td>\n",
       "      <td>C103</td>\n",
       "      <td>T</td>\n",
       "      <td>MGH</td>\n",
       "      <td>unsorted</td>\n",
       "      <td>C103_T</td>\n",
       "      <td>male</td>\n",
       "      <td>left</td>\n",
       "      <td>low</td>\n",
       "      <td>notT4</td>\n",
       "      <td>...</td>\n",
       "      <td>9.99900009999e-05</td>\n",
       "      <td>0.352076124567474</td>\n",
       "      <td>NCBITaxon_9606</td>\n",
       "      <td>Homo sapiens</td>\n",
       "      <td>MONDO_0002271</td>\n",
       "      <td>colon adenocarcinoma</td>\n",
       "      <td>UBERON_0001155</td>\n",
       "      <td>colon</td>\n",
       "      <td>EFO_0009899</td>\n",
       "      <td>10X 3' v2 sequencing</td>\n",
       "    </tr>\n",
       "    <tr>\n",
       "      <th>C103_T_1_1_0_c1_v2_id-AAACCTGGTTGTCGCG</th>\n",
       "      <td>C103_T_1_1_0_c1_v2</td>\n",
       "      <td>C103</td>\n",
       "      <td>T</td>\n",
       "      <td>MGH</td>\n",
       "      <td>unsorted</td>\n",
       "      <td>C103_T</td>\n",
       "      <td>male</td>\n",
       "      <td>left</td>\n",
       "      <td>low</td>\n",
       "      <td>notT4</td>\n",
       "      <td>...</td>\n",
       "      <td>9.99900009999e-05</td>\n",
       "      <td>0.112033277605286</td>\n",
       "      <td>NCBITaxon_9606</td>\n",
       "      <td>Homo sapiens</td>\n",
       "      <td>MONDO_0002271</td>\n",
       "      <td>colon adenocarcinoma</td>\n",
       "      <td>UBERON_0001155</td>\n",
       "      <td>colon</td>\n",
       "      <td>EFO_0009899</td>\n",
       "      <td>10X 3' v2 sequencing</td>\n",
       "    </tr>\n",
       "    <tr>\n",
       "      <th>C103_T_1_1_0_c1_v2_id-AAACCTGTCATGTGGT</th>\n",
       "      <td>C103_T_1_1_0_c1_v2</td>\n",
       "      <td>C103</td>\n",
       "      <td>T</td>\n",
       "      <td>MGH</td>\n",
       "      <td>unsorted</td>\n",
       "      <td>C103_T</td>\n",
       "      <td>male</td>\n",
       "      <td>left</td>\n",
       "      <td>low</td>\n",
       "      <td>notT4</td>\n",
       "      <td>...</td>\n",
       "      <td>9.99900009999e-05</td>\n",
       "      <td>0.108513779527559</td>\n",
       "      <td>NCBITaxon_9606</td>\n",
       "      <td>Homo sapiens</td>\n",
       "      <td>MONDO_0002271</td>\n",
       "      <td>colon adenocarcinoma</td>\n",
       "      <td>UBERON_0001155</td>\n",
       "      <td>colon</td>\n",
       "      <td>EFO_0009899</td>\n",
       "      <td>10X 3' v2 sequencing</td>\n",
       "    </tr>\n",
       "    <tr>\n",
       "      <th>C103_T_1_1_0_c1_v2_id-AAACCTGTCCTTGGTC</th>\n",
       "      <td>C103_T_1_1_0_c1_v2</td>\n",
       "      <td>C103</td>\n",
       "      <td>T</td>\n",
       "      <td>MGH</td>\n",
       "      <td>unsorted</td>\n",
       "      <td>C103_T</td>\n",
       "      <td>male</td>\n",
       "      <td>left</td>\n",
       "      <td>low</td>\n",
       "      <td>notT4</td>\n",
       "      <td>...</td>\n",
       "      <td>9.99900009999e-05</td>\n",
       "      <td>0.119262997524281</td>\n",
       "      <td>NCBITaxon_9606</td>\n",
       "      <td>Homo sapiens</td>\n",
       "      <td>MONDO_0002271</td>\n",
       "      <td>colon adenocarcinoma</td>\n",
       "      <td>UBERON_0001155</td>\n",
       "      <td>colon</td>\n",
       "      <td>EFO_0009899</td>\n",
       "      <td>10X 3' v2 sequencing</td>\n",
       "    </tr>\n",
       "    <tr>\n",
       "      <th>...</th>\n",
       "      <td>...</td>\n",
       "      <td>...</td>\n",
       "      <td>...</td>\n",
       "      <td>...</td>\n",
       "      <td>...</td>\n",
       "      <td>...</td>\n",
       "      <td>...</td>\n",
       "      <td>...</td>\n",
       "      <td>...</td>\n",
       "      <td>...</td>\n",
       "      <td>...</td>\n",
       "      <td>...</td>\n",
       "      <td>...</td>\n",
       "      <td>...</td>\n",
       "      <td>...</td>\n",
       "      <td>...</td>\n",
       "      <td>...</td>\n",
       "      <td>...</td>\n",
       "      <td>...</td>\n",
       "      <td>...</td>\n",
       "      <td>...</td>\n",
       "    </tr>\n",
       "    <tr>\n",
       "      <th>C173_T_0_0_0_c1_v3_id-TTTGGAGTCATCGGGC</th>\n",
       "      <td>C173_T_0_0_0_c1_v3</td>\n",
       "      <td>C173</td>\n",
       "      <td>T</td>\n",
       "      <td>DFCI</td>\n",
       "      <td>unsorted</td>\n",
       "      <td>C173_T</td>\n",
       "      <td>female</td>\n",
       "      <td>left</td>\n",
       "      <td>high</td>\n",
       "      <td>T4</td>\n",
       "      <td>...</td>\n",
       "      <td>0.0001</td>\n",
       "      <td>0.108428</td>\n",
       "      <td>NCBITaxon_9606</td>\n",
       "      <td>Homo sapiens</td>\n",
       "      <td>MONDO_0002271</td>\n",
       "      <td>colon adenocarcinoma</td>\n",
       "      <td>UBERON_0001155</td>\n",
       "      <td>colon</td>\n",
       "      <td>EFO_0009922</td>\n",
       "      <td>10x 3' v3 sequencing</td>\n",
       "    </tr>\n",
       "    <tr>\n",
       "      <th>C173_T_0_0_0_c1_v3_id-TTTGGAGTCTAGTGTG</th>\n",
       "      <td>C173_T_0_0_0_c1_v3</td>\n",
       "      <td>C173</td>\n",
       "      <td>T</td>\n",
       "      <td>DFCI</td>\n",
       "      <td>unsorted</td>\n",
       "      <td>C173_T</td>\n",
       "      <td>female</td>\n",
       "      <td>left</td>\n",
       "      <td>high</td>\n",
       "      <td>T4</td>\n",
       "      <td>...</td>\n",
       "      <td>0.0001</td>\n",
       "      <td>0.260756</td>\n",
       "      <td>NCBITaxon_9606</td>\n",
       "      <td>Homo sapiens</td>\n",
       "      <td>MONDO_0002271</td>\n",
       "      <td>colon adenocarcinoma</td>\n",
       "      <td>UBERON_0001155</td>\n",
       "      <td>colon</td>\n",
       "      <td>EFO_0009922</td>\n",
       "      <td>10x 3' v3 sequencing</td>\n",
       "    </tr>\n",
       "    <tr>\n",
       "      <th>C173_T_0_0_0_c1_v3_id-TTTGTTGCAGCAATTC</th>\n",
       "      <td>C173_T_0_0_0_c1_v3</td>\n",
       "      <td>C173</td>\n",
       "      <td>T</td>\n",
       "      <td>DFCI</td>\n",
       "      <td>unsorted</td>\n",
       "      <td>C173_T</td>\n",
       "      <td>female</td>\n",
       "      <td>left</td>\n",
       "      <td>high</td>\n",
       "      <td>T4</td>\n",
       "      <td>...</td>\n",
       "      <td>0.0001</td>\n",
       "      <td>0.437101</td>\n",
       "      <td>NCBITaxon_9606</td>\n",
       "      <td>Homo sapiens</td>\n",
       "      <td>MONDO_0002271</td>\n",
       "      <td>colon adenocarcinoma</td>\n",
       "      <td>UBERON_0001155</td>\n",
       "      <td>colon</td>\n",
       "      <td>EFO_0009922</td>\n",
       "      <td>10x 3' v3 sequencing</td>\n",
       "    </tr>\n",
       "    <tr>\n",
       "      <th>C173_T_0_0_0_c1_v3_id-TTTGTTGGTTCTGAGT</th>\n",
       "      <td>C173_T_0_0_0_c1_v3</td>\n",
       "      <td>C173</td>\n",
       "      <td>T</td>\n",
       "      <td>DFCI</td>\n",
       "      <td>unsorted</td>\n",
       "      <td>C173_T</td>\n",
       "      <td>female</td>\n",
       "      <td>left</td>\n",
       "      <td>high</td>\n",
       "      <td>T4</td>\n",
       "      <td>...</td>\n",
       "      <td>0.0001</td>\n",
       "      <td>0.161164</td>\n",
       "      <td>NCBITaxon_9606</td>\n",
       "      <td>Homo sapiens</td>\n",
       "      <td>MONDO_0002271</td>\n",
       "      <td>colon adenocarcinoma</td>\n",
       "      <td>UBERON_0001155</td>\n",
       "      <td>colon</td>\n",
       "      <td>EFO_0009922</td>\n",
       "      <td>10x 3' v3 sequencing</td>\n",
       "    </tr>\n",
       "    <tr>\n",
       "      <th>C173_T_0_0_0_c1_v3_id-TTTGTTGTCGTTCCCA</th>\n",
       "      <td>C173_T_0_0_0_c1_v3</td>\n",
       "      <td>C173</td>\n",
       "      <td>T</td>\n",
       "      <td>DFCI</td>\n",
       "      <td>unsorted</td>\n",
       "      <td>C173_T</td>\n",
       "      <td>female</td>\n",
       "      <td>left</td>\n",
       "      <td>high</td>\n",
       "      <td>T4</td>\n",
       "      <td>...</td>\n",
       "      <td>0.0001</td>\n",
       "      <td>0.343076</td>\n",
       "      <td>NCBITaxon_9606</td>\n",
       "      <td>Homo sapiens</td>\n",
       "      <td>MONDO_0002271</td>\n",
       "      <td>colon adenocarcinoma</td>\n",
       "      <td>UBERON_0001155</td>\n",
       "      <td>colon</td>\n",
       "      <td>EFO_0009922</td>\n",
       "      <td>10x 3' v3 sequencing</td>\n",
       "    </tr>\n",
       "  </tbody>\n",
       "</table>\n",
       "<p>371223 rows × 32 columns</p>\n",
       "</div>"
      ],
      "text/plain": [
       "                                              biosample_id donor_id  \\\n",
       "cell_id                                                               \n",
       "C103_T_1_1_0_c1_v2_id-AAACCTGCATGCTAGT  C103_T_1_1_0_c1_v2     C103   \n",
       "C103_T_1_1_0_c1_v2_id-AAACCTGGTAGCCTAT  C103_T_1_1_0_c1_v2     C103   \n",
       "C103_T_1_1_0_c1_v2_id-AAACCTGGTTGTCGCG  C103_T_1_1_0_c1_v2     C103   \n",
       "C103_T_1_1_0_c1_v2_id-AAACCTGTCATGTGGT  C103_T_1_1_0_c1_v2     C103   \n",
       "C103_T_1_1_0_c1_v2_id-AAACCTGTCCTTGGTC  C103_T_1_1_0_c1_v2     C103   \n",
       "...                                                    ...      ...   \n",
       "C173_T_0_0_0_c1_v3_id-TTTGGAGTCATCGGGC  C173_T_0_0_0_c1_v3     C173   \n",
       "C173_T_0_0_0_c1_v3_id-TTTGGAGTCTAGTGTG  C173_T_0_0_0_c1_v3     C173   \n",
       "C173_T_0_0_0_c1_v3_id-TTTGTTGCAGCAATTC  C173_T_0_0_0_c1_v3     C173   \n",
       "C173_T_0_0_0_c1_v3_id-TTTGTTGGTTCTGAGT  C173_T_0_0_0_c1_v3     C173   \n",
       "C173_T_0_0_0_c1_v3_id-TTTGTTGTCGTTCCCA  C173_T_0_0_0_c1_v3     C173   \n",
       "\n",
       "                                       SpecimenType TissueSource  \\\n",
       "cell_id                                                            \n",
       "C103_T_1_1_0_c1_v2_id-AAACCTGCATGCTAGT            T          MGH   \n",
       "C103_T_1_1_0_c1_v2_id-AAACCTGGTAGCCTAT            T          MGH   \n",
       "C103_T_1_1_0_c1_v2_id-AAACCTGGTTGTCGCG            T          MGH   \n",
       "C103_T_1_1_0_c1_v2_id-AAACCTGTCATGTGGT            T          MGH   \n",
       "C103_T_1_1_0_c1_v2_id-AAACCTGTCCTTGGTC            T          MGH   \n",
       "...                                             ...          ...   \n",
       "C173_T_0_0_0_c1_v3_id-TTTGGAGTCATCGGGC            T         DFCI   \n",
       "C173_T_0_0_0_c1_v3_id-TTTGGAGTCTAGTGTG            T         DFCI   \n",
       "C173_T_0_0_0_c1_v3_id-TTTGTTGCAGCAATTC            T         DFCI   \n",
       "C173_T_0_0_0_c1_v3_id-TTTGTTGGTTCTGAGT            T         DFCI   \n",
       "C173_T_0_0_0_c1_v3_id-TTTGTTGTCGTTCCCA            T         DFCI   \n",
       "\n",
       "                                       ProcessingMethod PatientTypeID     sex  \\\n",
       "cell_id                                                                         \n",
       "C103_T_1_1_0_c1_v2_id-AAACCTGCATGCTAGT         unsorted        C103_T    male   \n",
       "C103_T_1_1_0_c1_v2_id-AAACCTGGTAGCCTAT         unsorted        C103_T    male   \n",
       "C103_T_1_1_0_c1_v2_id-AAACCTGGTTGTCGCG         unsorted        C103_T    male   \n",
       "C103_T_1_1_0_c1_v2_id-AAACCTGTCATGTGGT         unsorted        C103_T    male   \n",
       "C103_T_1_1_0_c1_v2_id-AAACCTGTCCTTGGTC         unsorted        C103_T    male   \n",
       "...                                                 ...           ...     ...   \n",
       "C173_T_0_0_0_c1_v3_id-TTTGGAGTCATCGGGC         unsorted        C173_T  female   \n",
       "C173_T_0_0_0_c1_v3_id-TTTGGAGTCTAGTGTG         unsorted        C173_T  female   \n",
       "C173_T_0_0_0_c1_v3_id-TTTGTTGCAGCAATTC         unsorted        C173_T  female   \n",
       "C173_T_0_0_0_c1_v3_id-TTTGTTGGTTCTGAGT         unsorted        C173_T  female   \n",
       "C173_T_0_0_0_c1_v3_id-TTTGTTGTCGTTCCCA         unsorted        C173_T  female   \n",
       "\n",
       "                                        Site Grade TumorStage  ...  \\\n",
       "cell_id                                                        ...   \n",
       "C103_T_1_1_0_c1_v2_id-AAACCTGCATGCTAGT  left   low      notT4  ...   \n",
       "C103_T_1_1_0_c1_v2_id-AAACCTGGTAGCCTAT  left   low      notT4  ...   \n",
       "C103_T_1_1_0_c1_v2_id-AAACCTGGTTGTCGCG  left   low      notT4  ...   \n",
       "C103_T_1_1_0_c1_v2_id-AAACCTGTCATGTGGT  left   low      notT4  ...   \n",
       "C103_T_1_1_0_c1_v2_id-AAACCTGTCCTTGGTC  left   low      notT4  ...   \n",
       "...                                      ...   ...        ...  ...   \n",
       "C173_T_0_0_0_c1_v3_id-TTTGGAGTCATCGGGC  left  high         T4  ...   \n",
       "C173_T_0_0_0_c1_v3_id-TTTGGAGTCTAGTGTG  left  high         T4  ...   \n",
       "C173_T_0_0_0_c1_v3_id-TTTGTTGCAGCAATTC  left  high         T4  ...   \n",
       "C173_T_0_0_0_c1_v3_id-TTTGTTGGTTCTGAGT  left  high         T4  ...   \n",
       "C173_T_0_0_0_c1_v3_id-TTTGTTGTCGTTCCCA  left  high         T4  ...   \n",
       "\n",
       "                                         qc_emptyDropPval     qc_mitoFraction  \\\n",
       "cell_id                                                                         \n",
       "C103_T_1_1_0_c1_v2_id-AAACCTGCATGCTAGT  9.99900009999e-05  0.0762605181209832   \n",
       "C103_T_1_1_0_c1_v2_id-AAACCTGGTAGCCTAT  9.99900009999e-05   0.352076124567474   \n",
       "C103_T_1_1_0_c1_v2_id-AAACCTGGTTGTCGCG  9.99900009999e-05   0.112033277605286   \n",
       "C103_T_1_1_0_c1_v2_id-AAACCTGTCATGTGGT  9.99900009999e-05   0.108513779527559   \n",
       "C103_T_1_1_0_c1_v2_id-AAACCTGTCCTTGGTC  9.99900009999e-05   0.119262997524281   \n",
       "...                                                   ...                 ...   \n",
       "C173_T_0_0_0_c1_v3_id-TTTGGAGTCATCGGGC             0.0001            0.108428   \n",
       "C173_T_0_0_0_c1_v3_id-TTTGGAGTCTAGTGTG             0.0001            0.260756   \n",
       "C173_T_0_0_0_c1_v3_id-TTTGTTGCAGCAATTC             0.0001            0.437101   \n",
       "C173_T_0_0_0_c1_v3_id-TTTGTTGGTTCTGAGT             0.0001            0.161164   \n",
       "C173_T_0_0_0_c1_v3_id-TTTGTTGTCGTTCCCA             0.0001            0.343076   \n",
       "\n",
       "                                               species  \\\n",
       "cell_id                                                  \n",
       "C103_T_1_1_0_c1_v2_id-AAACCTGCATGCTAGT  NCBITaxon_9606   \n",
       "C103_T_1_1_0_c1_v2_id-AAACCTGGTAGCCTAT  NCBITaxon_9606   \n",
       "C103_T_1_1_0_c1_v2_id-AAACCTGGTTGTCGCG  NCBITaxon_9606   \n",
       "C103_T_1_1_0_c1_v2_id-AAACCTGTCATGTGGT  NCBITaxon_9606   \n",
       "C103_T_1_1_0_c1_v2_id-AAACCTGTCCTTGGTC  NCBITaxon_9606   \n",
       "...                                                ...   \n",
       "C173_T_0_0_0_c1_v3_id-TTTGGAGTCATCGGGC  NCBITaxon_9606   \n",
       "C173_T_0_0_0_c1_v3_id-TTTGGAGTCTAGTGTG  NCBITaxon_9606   \n",
       "C173_T_0_0_0_c1_v3_id-TTTGTTGCAGCAATTC  NCBITaxon_9606   \n",
       "C173_T_0_0_0_c1_v3_id-TTTGTTGGTTCTGAGT  NCBITaxon_9606   \n",
       "C173_T_0_0_0_c1_v3_id-TTTGTTGTCGTTCCCA  NCBITaxon_9606   \n",
       "\n",
       "                                       species__ontology_label        disease  \\\n",
       "cell_id                                                                         \n",
       "C103_T_1_1_0_c1_v2_id-AAACCTGCATGCTAGT            Homo sapiens  MONDO_0002271   \n",
       "C103_T_1_1_0_c1_v2_id-AAACCTGGTAGCCTAT            Homo sapiens  MONDO_0002271   \n",
       "C103_T_1_1_0_c1_v2_id-AAACCTGGTTGTCGCG            Homo sapiens  MONDO_0002271   \n",
       "C103_T_1_1_0_c1_v2_id-AAACCTGTCATGTGGT            Homo sapiens  MONDO_0002271   \n",
       "C103_T_1_1_0_c1_v2_id-AAACCTGTCCTTGGTC            Homo sapiens  MONDO_0002271   \n",
       "...                                                        ...            ...   \n",
       "C173_T_0_0_0_c1_v3_id-TTTGGAGTCATCGGGC            Homo sapiens  MONDO_0002271   \n",
       "C173_T_0_0_0_c1_v3_id-TTTGGAGTCTAGTGTG            Homo sapiens  MONDO_0002271   \n",
       "C173_T_0_0_0_c1_v3_id-TTTGTTGCAGCAATTC            Homo sapiens  MONDO_0002271   \n",
       "C173_T_0_0_0_c1_v3_id-TTTGTTGGTTCTGAGT            Homo sapiens  MONDO_0002271   \n",
       "C173_T_0_0_0_c1_v3_id-TTTGTTGTCGTTCCCA            Homo sapiens  MONDO_0002271   \n",
       "\n",
       "                                       disease__ontology_label  \\\n",
       "cell_id                                                          \n",
       "C103_T_1_1_0_c1_v2_id-AAACCTGCATGCTAGT    colon adenocarcinoma   \n",
       "C103_T_1_1_0_c1_v2_id-AAACCTGGTAGCCTAT    colon adenocarcinoma   \n",
       "C103_T_1_1_0_c1_v2_id-AAACCTGGTTGTCGCG    colon adenocarcinoma   \n",
       "C103_T_1_1_0_c1_v2_id-AAACCTGTCATGTGGT    colon adenocarcinoma   \n",
       "C103_T_1_1_0_c1_v2_id-AAACCTGTCCTTGGTC    colon adenocarcinoma   \n",
       "...                                                        ...   \n",
       "C173_T_0_0_0_c1_v3_id-TTTGGAGTCATCGGGC    colon adenocarcinoma   \n",
       "C173_T_0_0_0_c1_v3_id-TTTGGAGTCTAGTGTG    colon adenocarcinoma   \n",
       "C173_T_0_0_0_c1_v3_id-TTTGTTGCAGCAATTC    colon adenocarcinoma   \n",
       "C173_T_0_0_0_c1_v3_id-TTTGTTGGTTCTGAGT    colon adenocarcinoma   \n",
       "C173_T_0_0_0_c1_v3_id-TTTGTTGTCGTTCCCA    colon adenocarcinoma   \n",
       "\n",
       "                                                 organ organ__ontology_label  \\\n",
       "cell_id                                                                        \n",
       "C103_T_1_1_0_c1_v2_id-AAACCTGCATGCTAGT  UBERON_0001155                 colon   \n",
       "C103_T_1_1_0_c1_v2_id-AAACCTGGTAGCCTAT  UBERON_0001155                 colon   \n",
       "C103_T_1_1_0_c1_v2_id-AAACCTGGTTGTCGCG  UBERON_0001155                 colon   \n",
       "C103_T_1_1_0_c1_v2_id-AAACCTGTCATGTGGT  UBERON_0001155                 colon   \n",
       "C103_T_1_1_0_c1_v2_id-AAACCTGTCCTTGGTC  UBERON_0001155                 colon   \n",
       "...                                                ...                   ...   \n",
       "C173_T_0_0_0_c1_v3_id-TTTGGAGTCATCGGGC  UBERON_0001155                 colon   \n",
       "C173_T_0_0_0_c1_v3_id-TTTGGAGTCTAGTGTG  UBERON_0001155                 colon   \n",
       "C173_T_0_0_0_c1_v3_id-TTTGTTGCAGCAATTC  UBERON_0001155                 colon   \n",
       "C173_T_0_0_0_c1_v3_id-TTTGTTGGTTCTGAGT  UBERON_0001155                 colon   \n",
       "C173_T_0_0_0_c1_v3_id-TTTGTTGTCGTTCCCA  UBERON_0001155                 colon   \n",
       "\n",
       "                                       library_preparation_protocol  \\\n",
       "cell_id                                                               \n",
       "C103_T_1_1_0_c1_v2_id-AAACCTGCATGCTAGT                  EFO_0009899   \n",
       "C103_T_1_1_0_c1_v2_id-AAACCTGGTAGCCTAT                  EFO_0009899   \n",
       "C103_T_1_1_0_c1_v2_id-AAACCTGGTTGTCGCG                  EFO_0009899   \n",
       "C103_T_1_1_0_c1_v2_id-AAACCTGTCATGTGGT                  EFO_0009899   \n",
       "C103_T_1_1_0_c1_v2_id-AAACCTGTCCTTGGTC                  EFO_0009899   \n",
       "...                                                             ...   \n",
       "C173_T_0_0_0_c1_v3_id-TTTGGAGTCATCGGGC                  EFO_0009922   \n",
       "C173_T_0_0_0_c1_v3_id-TTTGGAGTCTAGTGTG                  EFO_0009922   \n",
       "C173_T_0_0_0_c1_v3_id-TTTGTTGCAGCAATTC                  EFO_0009922   \n",
       "C173_T_0_0_0_c1_v3_id-TTTGTTGGTTCTGAGT                  EFO_0009922   \n",
       "C173_T_0_0_0_c1_v3_id-TTTGTTGTCGTTCCCA                  EFO_0009922   \n",
       "\n",
       "                                       library_preparation_protocol__ontology_label  \n",
       "cell_id                                                                              \n",
       "C103_T_1_1_0_c1_v2_id-AAACCTGCATGCTAGT                         10X 3' v2 sequencing  \n",
       "C103_T_1_1_0_c1_v2_id-AAACCTGGTAGCCTAT                         10X 3' v2 sequencing  \n",
       "C103_T_1_1_0_c1_v2_id-AAACCTGGTTGTCGCG                         10X 3' v2 sequencing  \n",
       "C103_T_1_1_0_c1_v2_id-AAACCTGTCATGTGGT                         10X 3' v2 sequencing  \n",
       "C103_T_1_1_0_c1_v2_id-AAACCTGTCCTTGGTC                         10X 3' v2 sequencing  \n",
       "...                                                                             ...  \n",
       "C173_T_0_0_0_c1_v3_id-TTTGGAGTCATCGGGC                         10x 3' v3 sequencing  \n",
       "C173_T_0_0_0_c1_v3_id-TTTGGAGTCTAGTGTG                         10x 3' v3 sequencing  \n",
       "C173_T_0_0_0_c1_v3_id-TTTGTTGCAGCAATTC                         10x 3' v3 sequencing  \n",
       "C173_T_0_0_0_c1_v3_id-TTTGTTGGTTCTGAGT                         10x 3' v3 sequencing  \n",
       "C173_T_0_0_0_c1_v3_id-TTTGTTGTCGTTCCCA                         10x 3' v3 sequencing  \n",
       "\n",
       "[371223 rows x 32 columns]"
      ]
     },
     "execution_count": 22,
     "metadata": {},
     "output_type": "execute_result"
    }
   ],
   "source": [
    "adata.obs"
   ]
  },
  {
   "cell_type": "code",
   "execution_count": 24,
   "metadata": {},
   "outputs": [],
   "source": [
    "adata.obs.index = adata.obs.index.astype(str)\n",
    "adata.var.index = adata.var.index.astype(str)\n",
    "adata.obs_names = adata.obs_names.astype(str)\n",
    "adata.var.index.name = str(adata.var.index.name) if adata.var.index.name is not None else None\n",
    "adata.var_names = adata.var_names.astype(str)\n",
    "adata.obs = adata.obs.astype(str)\n",
    "adata.var = adata.var.astype(str)"
   ]
  },
  {
   "cell_type": "code",
   "execution_count": 9,
   "metadata": {},
   "outputs": [],
   "source": [
    "# Drop row 'TYPE' from metadata\n",
    "global_tSNE = global_tSNE.drop('TYPE')"
   ]
  },
  {
   "cell_type": "code",
   "execution_count": 10,
   "metadata": {},
   "outputs": [],
   "source": [
    "# Drop columns 'X' and 'Y' from global_tSNE\n",
    "global_tSNE = global_tSNE.drop(['X', 'Y'], axis=1)"
   ]
  },
  {
   "cell_type": "code",
   "execution_count": 12,
   "metadata": {},
   "outputs": [],
   "source": [
    "# Make column 'NAME' index\n",
    "global_tSNE.index.name = 'cell_id'"
   ]
  },
  {
   "cell_type": "code",
   "execution_count": 16,
   "metadata": {},
   "outputs": [],
   "source": [
    "# Join metadata to anndata object by index\n",
    "adata.obs = adata.obs.join(global_tSNE)"
   ]
  },
  {
   "cell_type": "code",
   "execution_count": 51,
   "metadata": {},
   "outputs": [],
   "source": [
    "# Save anndata object\n",
    "adata.write('/Users/anna.maguza/Desktop/Data/Gut_project/Human_Colon_Cancer_Atlas/anndata/Colon_cancer_atlas_anndata.h5ad')"
   ]
  },
  {
   "cell_type": "code",
   "execution_count": 28,
   "metadata": {},
   "outputs": [],
   "source": [
    "del matrix"
   ]
  },
  {
   "cell_type": "code",
   "execution_count": 26,
   "metadata": {},
   "outputs": [
    {
     "data": {
      "text/plain": [
       "['biosample_id',\n",
       " 'donor_id',\n",
       " 'SpecimenType',\n",
       " 'TissueSource',\n",
       " 'ProcessingMethod',\n",
       " 'PatientTypeID',\n",
       " 'sex',\n",
       " 'Site',\n",
       " 'Grade',\n",
       " 'TumorStage',\n",
       " 'LymphNodeStatus',\n",
       " 'MMRStatusTumor',\n",
       " 'MMRMLH1Tumor',\n",
       " 'qc_geneCount',\n",
       " 'qc_logMappedReads',\n",
       " 'qc_meanReadsPerUmi',\n",
       " 'qc_totalReads',\n",
       " 'qc_logUmiCount',\n",
       " 'qc_bcSwapFraction',\n",
       " 'qc_geneSatFraction',\n",
       " 'qc_seqDupEst',\n",
       " 'qc_umiSatFraction',\n",
       " 'qc_emptyDropPval',\n",
       " 'qc_mitoFraction',\n",
       " 'species',\n",
       " 'species__ontology_label',\n",
       " 'disease',\n",
       " 'disease__ontology_label',\n",
       " 'organ',\n",
       " 'organ__ontology_label',\n",
       " 'library_preparation_protocol',\n",
       " 'library_preparation_protocol__ontology_label']"
      ]
     },
     "execution_count": 26,
     "metadata": {},
     "output_type": "execute_result"
    }
   ],
   "source": [
    "adata.obs_keys()"
   ]
  },
  {
   "cell_type": "code",
   "execution_count": 27,
   "metadata": {},
   "outputs": [
    {
     "data": {
      "text/plain": [
       "T    258359\n",
       "N    112864\n",
       "Name: SpecimenType, dtype: int64"
      ]
     },
     "execution_count": 27,
     "metadata": {},
     "output_type": "execute_result"
    }
   ],
   "source": [
    "adata.obs['SpecimenType'].value_counts()"
   ]
  },
  {
   "cell_type": "code",
   "execution_count": 29,
   "metadata": {},
   "outputs": [
    {
     "data": {
      "text/plain": [
       "MGH     245813\n",
       "DFCI    125410\n",
       "Name: TissueSource, dtype: int64"
      ]
     },
     "execution_count": 29,
     "metadata": {},
     "output_type": "execute_result"
    }
   ],
   "source": [
    "adata.obs['TissueSource'].value_counts()"
   ]
  },
  {
   "cell_type": "code",
   "execution_count": 30,
   "metadata": {},
   "outputs": [
    {
     "data": {
      "text/plain": [
       "unsorted                231737\n",
       "CD45+                   122766\n",
       "mixUnsortCD45            10670\n",
       "Live                      4942\n",
       "CD45+ / CD3- / CD19-      1108\n",
       "Name: ProcessingMethod, dtype: int64"
      ]
     },
     "execution_count": 30,
     "metadata": {},
     "output_type": "execute_result"
    }
   ],
   "source": [
    "adata.obs['ProcessingMethod'].value_counts()"
   ]
  },
  {
   "cell_type": "code",
   "execution_count": 32,
   "metadata": {},
   "outputs": [
    {
     "data": {
      "text/plain": [
       "right    271306\n",
       "left      99917\n",
       "Name: Site, dtype: int64"
      ]
     },
     "execution_count": 32,
     "metadata": {},
     "output_type": "execute_result"
    }
   ],
   "source": [
    "adata.obs['Site'].value_counts()"
   ]
  },
  {
   "cell_type": "code",
   "execution_count": 33,
   "metadata": {},
   "outputs": [
    {
     "data": {
      "text/plain": [
       "low     307807\n",
       "high     58892\n",
       "10        4524\n",
       "Name: Grade, dtype: int64"
      ]
     },
     "execution_count": 33,
     "metadata": {},
     "output_type": "execute_result"
    }
   ],
   "source": [
    "adata.obs['Grade'].value_counts()"
   ]
  },
  {
   "cell_type": "code",
   "execution_count": 34,
   "metadata": {},
   "outputs": [
    {
     "data": {
      "text/plain": [
       "notT4    232676\n",
       "T4       138547\n",
       "Name: TumorStage, dtype: int64"
      ]
     },
     "execution_count": 34,
     "metadata": {},
     "output_type": "execute_result"
    }
   ],
   "source": [
    "adata.obs['TumorStage'].value_counts()"
   ]
  },
  {
   "cell_type": "code",
   "execution_count": 35,
   "metadata": {},
   "outputs": [
    {
     "data": {
      "text/plain": [
       "N-    201608\n",
       "N+    169615\n",
       "Name: LymphNodeStatus, dtype: int64"
      ]
     },
     "execution_count": 35,
     "metadata": {},
     "output_type": "execute_result"
    }
   ],
   "source": [
    "adata.obs['LymphNodeStatus'].value_counts()"
   ]
  },
  {
   "cell_type": "code",
   "execution_count": 36,
   "metadata": {},
   "outputs": [
    {
     "data": {
      "text/plain": [
       "MMRp      139781\n",
       "MMRd      118578\n",
       "Normal    112864\n",
       "Name: MMRStatusTumor, dtype: int64"
      ]
     },
     "execution_count": 36,
     "metadata": {},
     "output_type": "execute_result"
    }
   ],
   "source": [
    "adata.obs['MMRStatusTumor'].value_counts()"
   ]
  },
  {
   "cell_type": "code",
   "execution_count": 37,
   "metadata": {},
   "outputs": [
    {
     "data": {
      "text/plain": [
       "MMRp               139781\n",
       "Normal             111317\n",
       "MMRd_MLH1Meth       82390\n",
       "MMRd_MLH1NoMeth     33211\n",
       "high                 4524\n",
       "Name: MMRMLH1Tumor, dtype: int64"
      ]
     },
     "execution_count": 37,
     "metadata": {},
     "output_type": "execute_result"
    }
   ],
   "source": [
    "adata.obs['MMRMLH1Tumor'].value_counts()"
   ]
  },
  {
   "cell_type": "code",
   "execution_count": 38,
   "metadata": {},
   "outputs": [
    {
     "data": {
      "text/plain": [
       "NCBITaxon_9606    371223\n",
       "Name: species, dtype: int64"
      ]
     },
     "execution_count": 38,
     "metadata": {},
     "output_type": "execute_result"
    }
   ],
   "source": [
    "adata.obs['species'].value_counts()"
   ]
  },
  {
   "cell_type": "code",
   "execution_count": 39,
   "metadata": {},
   "outputs": [
    {
     "data": {
      "text/plain": [
       "Homo sapiens    371223\n",
       "Name: species__ontology_label, dtype: int64"
      ]
     },
     "execution_count": 39,
     "metadata": {},
     "output_type": "execute_result"
    }
   ],
   "source": [
    "adata.obs['species__ontology_label'].value_counts()"
   ]
  },
  {
   "cell_type": "code",
   "execution_count": 40,
   "metadata": {},
   "outputs": [
    {
     "data": {
      "text/plain": [
       "MONDO_0002271    258359\n",
       "PATO_0000461     112864\n",
       "Name: disease, dtype: int64"
      ]
     },
     "execution_count": 40,
     "metadata": {},
     "output_type": "execute_result"
    }
   ],
   "source": [
    "adata.obs['disease'].value_counts()"
   ]
  },
  {
   "cell_type": "code",
   "execution_count": 41,
   "metadata": {},
   "outputs": [
    {
     "data": {
      "text/plain": [
       "colon adenocarcinoma    258359\n",
       "normal                  112864\n",
       "Name: disease__ontology_label, dtype: int64"
      ]
     },
     "execution_count": 41,
     "metadata": {},
     "output_type": "execute_result"
    }
   ],
   "source": [
    "adata.obs['disease__ontology_label'].value_counts()"
   ]
  },
  {
   "cell_type": "code",
   "execution_count": 42,
   "metadata": {},
   "outputs": [
    {
     "data": {
      "text/plain": [
       "colon    371223\n",
       "Name: organ__ontology_label, dtype: int64"
      ]
     },
     "execution_count": 42,
     "metadata": {},
     "output_type": "execute_result"
    }
   ],
   "source": [
    "adata.obs['organ__ontology_label'].value_counts()"
   ]
  },
  {
   "cell_type": "code",
   "execution_count": 43,
   "metadata": {},
   "outputs": [
    {
     "data": {
      "text/plain": [
       "10X 3' v2 sequencing    267712\n",
       "10x 3' v3 sequencing    103511\n",
       "Name: library_preparation_protocol__ontology_label, dtype: int64"
      ]
     },
     "execution_count": 43,
     "metadata": {},
     "output_type": "execute_result"
    }
   ],
   "source": [
    "adata.obs['library_preparation_protocol__ontology_label'].value_counts()"
   ]
  },
  {
   "cell_type": "code",
   "execution_count": 6,
   "metadata": {},
   "outputs": [],
   "source": [
    "input_data = '/Users/anna.maguza/Desktop/Data/Gut_project/Human_Colon_Cancer_Atlas/anndata/Colon_cancer_atlas_anndata.h5ad'\n",
    "adata = sc.read_h5ad(input_data)"
   ]
  },
  {
   "cell_type": "code",
   "execution_count": 7,
   "metadata": {},
   "outputs": [
    {
     "data": {
      "text/html": [
       "<div>\n",
       "<style scoped>\n",
       "    .dataframe tbody tr th:only-of-type {\n",
       "        vertical-align: middle;\n",
       "    }\n",
       "\n",
       "    .dataframe tbody tr th {\n",
       "        vertical-align: top;\n",
       "    }\n",
       "\n",
       "    .dataframe thead th {\n",
       "        text-align: right;\n",
       "    }\n",
       "</style>\n",
       "<table border=\"1\" class=\"dataframe\">\n",
       "  <thead>\n",
       "    <tr style=\"text-align: right;\">\n",
       "      <th></th>\n",
       "      <th>biosample_id</th>\n",
       "      <th>donor_id</th>\n",
       "      <th>SpecimenType</th>\n",
       "      <th>TissueSource</th>\n",
       "      <th>ProcessingMethod</th>\n",
       "      <th>PatientTypeID</th>\n",
       "      <th>sex</th>\n",
       "      <th>Site</th>\n",
       "      <th>Grade</th>\n",
       "      <th>TumorStage</th>\n",
       "      <th>...</th>\n",
       "      <th>species__ontology_label</th>\n",
       "      <th>disease</th>\n",
       "      <th>disease__ontology_label</th>\n",
       "      <th>organ</th>\n",
       "      <th>organ__ontology_label</th>\n",
       "      <th>library_preparation_protocol</th>\n",
       "      <th>library_preparation_protocol__ontology_label</th>\n",
       "      <th>ClusterFull</th>\n",
       "      <th>ClusterMidway</th>\n",
       "      <th>ClusterTop</th>\n",
       "    </tr>\n",
       "    <tr>\n",
       "      <th>cell_id</th>\n",
       "      <th></th>\n",
       "      <th></th>\n",
       "      <th></th>\n",
       "      <th></th>\n",
       "      <th></th>\n",
       "      <th></th>\n",
       "      <th></th>\n",
       "      <th></th>\n",
       "      <th></th>\n",
       "      <th></th>\n",
       "      <th></th>\n",
       "      <th></th>\n",
       "      <th></th>\n",
       "      <th></th>\n",
       "      <th></th>\n",
       "      <th></th>\n",
       "      <th></th>\n",
       "      <th></th>\n",
       "      <th></th>\n",
       "      <th></th>\n",
       "      <th></th>\n",
       "    </tr>\n",
       "  </thead>\n",
       "  <tbody>\n",
       "    <tr>\n",
       "      <th>C103_T_1_1_0_c1_v2_id-AAACCTGCATGCTAGT</th>\n",
       "      <td>C103_T_1_1_0_c1_v2</td>\n",
       "      <td>C103</td>\n",
       "      <td>T</td>\n",
       "      <td>MGH</td>\n",
       "      <td>unsorted</td>\n",
       "      <td>C103_T</td>\n",
       "      <td>male</td>\n",
       "      <td>left</td>\n",
       "      <td>low</td>\n",
       "      <td>notT4</td>\n",
       "      <td>...</td>\n",
       "      <td>Homo sapiens</td>\n",
       "      <td>MONDO_0002271</td>\n",
       "      <td>colon adenocarcinoma</td>\n",
       "      <td>UBERON_0001155</td>\n",
       "      <td>colon</td>\n",
       "      <td>EFO_0009899</td>\n",
       "      <td>10X 3' v2 sequencing</td>\n",
       "      <td>Tumor cE01 (Stem/TA-like)</td>\n",
       "      <td>EpiT</td>\n",
       "      <td>Epi</td>\n",
       "    </tr>\n",
       "    <tr>\n",
       "      <th>C103_T_1_1_0_c1_v2_id-AAACCTGGTAGCCTAT</th>\n",
       "      <td>C103_T_1_1_0_c1_v2</td>\n",
       "      <td>C103</td>\n",
       "      <td>T</td>\n",
       "      <td>MGH</td>\n",
       "      <td>unsorted</td>\n",
       "      <td>C103_T</td>\n",
       "      <td>male</td>\n",
       "      <td>left</td>\n",
       "      <td>low</td>\n",
       "      <td>notT4</td>\n",
       "      <td>...</td>\n",
       "      <td>Homo sapiens</td>\n",
       "      <td>MONDO_0002271</td>\n",
       "      <td>colon adenocarcinoma</td>\n",
       "      <td>UBERON_0001155</td>\n",
       "      <td>colon</td>\n",
       "      <td>EFO_0009899</td>\n",
       "      <td>10X 3' v2 sequencing</td>\n",
       "      <td>Tumor cE01 (Stem/TA-like)</td>\n",
       "      <td>EpiT</td>\n",
       "      <td>Epi</td>\n",
       "    </tr>\n",
       "    <tr>\n",
       "      <th>C103_T_1_1_0_c1_v2_id-AAACCTGGTTGTCGCG</th>\n",
       "      <td>C103_T_1_1_0_c1_v2</td>\n",
       "      <td>C103</td>\n",
       "      <td>T</td>\n",
       "      <td>MGH</td>\n",
       "      <td>unsorted</td>\n",
       "      <td>C103_T</td>\n",
       "      <td>male</td>\n",
       "      <td>left</td>\n",
       "      <td>low</td>\n",
       "      <td>notT4</td>\n",
       "      <td>...</td>\n",
       "      <td>Homo sapiens</td>\n",
       "      <td>MONDO_0002271</td>\n",
       "      <td>colon adenocarcinoma</td>\n",
       "      <td>UBERON_0001155</td>\n",
       "      <td>colon</td>\n",
       "      <td>EFO_0009899</td>\n",
       "      <td>10X 3' v2 sequencing</td>\n",
       "      <td>Tumor cE03 (Stem/TA-like prolif)</td>\n",
       "      <td>EpiT</td>\n",
       "      <td>Epi</td>\n",
       "    </tr>\n",
       "    <tr>\n",
       "      <th>C103_T_1_1_0_c1_v2_id-AAACCTGTCATGTGGT</th>\n",
       "      <td>C103_T_1_1_0_c1_v2</td>\n",
       "      <td>C103</td>\n",
       "      <td>T</td>\n",
       "      <td>MGH</td>\n",
       "      <td>unsorted</td>\n",
       "      <td>C103_T</td>\n",
       "      <td>male</td>\n",
       "      <td>left</td>\n",
       "      <td>low</td>\n",
       "      <td>notT4</td>\n",
       "      <td>...</td>\n",
       "      <td>Homo sapiens</td>\n",
       "      <td>MONDO_0002271</td>\n",
       "      <td>colon adenocarcinoma</td>\n",
       "      <td>UBERON_0001155</td>\n",
       "      <td>colon</td>\n",
       "      <td>EFO_0009899</td>\n",
       "      <td>10X 3' v2 sequencing</td>\n",
       "      <td>Tumor cE01 (Stem/TA-like)</td>\n",
       "      <td>EpiT</td>\n",
       "      <td>Epi</td>\n",
       "    </tr>\n",
       "    <tr>\n",
       "      <th>C103_T_1_1_0_c1_v2_id-AAACCTGTCCTTGGTC</th>\n",
       "      <td>C103_T_1_1_0_c1_v2</td>\n",
       "      <td>C103</td>\n",
       "      <td>T</td>\n",
       "      <td>MGH</td>\n",
       "      <td>unsorted</td>\n",
       "      <td>C103_T</td>\n",
       "      <td>male</td>\n",
       "      <td>left</td>\n",
       "      <td>low</td>\n",
       "      <td>notT4</td>\n",
       "      <td>...</td>\n",
       "      <td>Homo sapiens</td>\n",
       "      <td>MONDO_0002271</td>\n",
       "      <td>colon adenocarcinoma</td>\n",
       "      <td>UBERON_0001155</td>\n",
       "      <td>colon</td>\n",
       "      <td>EFO_0009899</td>\n",
       "      <td>10X 3' v2 sequencing</td>\n",
       "      <td>Tumor cE01 (Stem/TA-like)</td>\n",
       "      <td>EpiT</td>\n",
       "      <td>Epi</td>\n",
       "    </tr>\n",
       "    <tr>\n",
       "      <th>...</th>\n",
       "      <td>...</td>\n",
       "      <td>...</td>\n",
       "      <td>...</td>\n",
       "      <td>...</td>\n",
       "      <td>...</td>\n",
       "      <td>...</td>\n",
       "      <td>...</td>\n",
       "      <td>...</td>\n",
       "      <td>...</td>\n",
       "      <td>...</td>\n",
       "      <td>...</td>\n",
       "      <td>...</td>\n",
       "      <td>...</td>\n",
       "      <td>...</td>\n",
       "      <td>...</td>\n",
       "      <td>...</td>\n",
       "      <td>...</td>\n",
       "      <td>...</td>\n",
       "      <td>...</td>\n",
       "      <td>...</td>\n",
       "      <td>...</td>\n",
       "    </tr>\n",
       "    <tr>\n",
       "      <th>C173_T_0_0_0_c1_v3_id-TTTGGAGTCATCGGGC</th>\n",
       "      <td>C173_T_0_0_0_c1_v3</td>\n",
       "      <td>C173</td>\n",
       "      <td>T</td>\n",
       "      <td>DFCI</td>\n",
       "      <td>unsorted</td>\n",
       "      <td>C173_T</td>\n",
       "      <td>female</td>\n",
       "      <td>left</td>\n",
       "      <td>high</td>\n",
       "      <td>T4</td>\n",
       "      <td>...</td>\n",
       "      <td>Homo sapiens</td>\n",
       "      <td>MONDO_0002271</td>\n",
       "      <td>colon adenocarcinoma</td>\n",
       "      <td>UBERON_0001155</td>\n",
       "      <td>colon</td>\n",
       "      <td>EFO_0009922</td>\n",
       "      <td>10x 3' v3 sequencing</td>\n",
       "      <td>cM02 (Macrophage-like)</td>\n",
       "      <td>Macro</td>\n",
       "      <td>Myeloid</td>\n",
       "    </tr>\n",
       "    <tr>\n",
       "      <th>C173_T_0_0_0_c1_v3_id-TTTGGAGTCTAGTGTG</th>\n",
       "      <td>C173_T_0_0_0_c1_v3</td>\n",
       "      <td>C173</td>\n",
       "      <td>T</td>\n",
       "      <td>DFCI</td>\n",
       "      <td>unsorted</td>\n",
       "      <td>C173_T</td>\n",
       "      <td>female</td>\n",
       "      <td>left</td>\n",
       "      <td>high</td>\n",
       "      <td>T4</td>\n",
       "      <td>...</td>\n",
       "      <td>Homo sapiens</td>\n",
       "      <td>MONDO_0002271</td>\n",
       "      <td>colon adenocarcinoma</td>\n",
       "      <td>UBERON_0001155</td>\n",
       "      <td>colon</td>\n",
       "      <td>EFO_0009922</td>\n",
       "      <td>10x 3' v3 sequencing</td>\n",
       "      <td>Tumor cE03 (Stem/TA-like prolif)</td>\n",
       "      <td>EpiT</td>\n",
       "      <td>Epi</td>\n",
       "    </tr>\n",
       "    <tr>\n",
       "      <th>C173_T_0_0_0_c1_v3_id-TTTGTTGCAGCAATTC</th>\n",
       "      <td>C173_T_0_0_0_c1_v3</td>\n",
       "      <td>C173</td>\n",
       "      <td>T</td>\n",
       "      <td>DFCI</td>\n",
       "      <td>unsorted</td>\n",
       "      <td>C173_T</td>\n",
       "      <td>female</td>\n",
       "      <td>left</td>\n",
       "      <td>high</td>\n",
       "      <td>T4</td>\n",
       "      <td>...</td>\n",
       "      <td>Homo sapiens</td>\n",
       "      <td>MONDO_0002271</td>\n",
       "      <td>colon adenocarcinoma</td>\n",
       "      <td>UBERON_0001155</td>\n",
       "      <td>colon</td>\n",
       "      <td>EFO_0009922</td>\n",
       "      <td>10x 3' v3 sequencing</td>\n",
       "      <td>Tumor cE03 (Stem/TA-like prolif)</td>\n",
       "      <td>EpiT</td>\n",
       "      <td>Epi</td>\n",
       "    </tr>\n",
       "    <tr>\n",
       "      <th>C173_T_0_0_0_c1_v3_id-TTTGTTGGTTCTGAGT</th>\n",
       "      <td>C173_T_0_0_0_c1_v3</td>\n",
       "      <td>C173</td>\n",
       "      <td>T</td>\n",
       "      <td>DFCI</td>\n",
       "      <td>unsorted</td>\n",
       "      <td>C173_T</td>\n",
       "      <td>female</td>\n",
       "      <td>left</td>\n",
       "      <td>high</td>\n",
       "      <td>T4</td>\n",
       "      <td>...</td>\n",
       "      <td>Homo sapiens</td>\n",
       "      <td>MONDO_0002271</td>\n",
       "      <td>colon adenocarcinoma</td>\n",
       "      <td>UBERON_0001155</td>\n",
       "      <td>colon</td>\n",
       "      <td>EFO_0009922</td>\n",
       "      <td>10x 3' v3 sequencing</td>\n",
       "      <td>cTNI08 (CD4+ Treg)</td>\n",
       "      <td>TCD4</td>\n",
       "      <td>TNKILC</td>\n",
       "    </tr>\n",
       "    <tr>\n",
       "      <th>C173_T_0_0_0_c1_v3_id-TTTGTTGTCGTTCCCA</th>\n",
       "      <td>C173_T_0_0_0_c1_v3</td>\n",
       "      <td>C173</td>\n",
       "      <td>T</td>\n",
       "      <td>DFCI</td>\n",
       "      <td>unsorted</td>\n",
       "      <td>C173_T</td>\n",
       "      <td>female</td>\n",
       "      <td>left</td>\n",
       "      <td>high</td>\n",
       "      <td>T4</td>\n",
       "      <td>...</td>\n",
       "      <td>Homo sapiens</td>\n",
       "      <td>MONDO_0002271</td>\n",
       "      <td>colon adenocarcinoma</td>\n",
       "      <td>UBERON_0001155</td>\n",
       "      <td>colon</td>\n",
       "      <td>EFO_0009922</td>\n",
       "      <td>10x 3' v3 sequencing</td>\n",
       "      <td>Tumor cE02 (Stem/TA-like/Immature Goblet)</td>\n",
       "      <td>EpiT</td>\n",
       "      <td>Epi</td>\n",
       "    </tr>\n",
       "  </tbody>\n",
       "</table>\n",
       "<p>371223 rows × 35 columns</p>\n",
       "</div>"
      ],
      "text/plain": [
       "                                              biosample_id donor_id  \\\n",
       "cell_id                                                               \n",
       "C103_T_1_1_0_c1_v2_id-AAACCTGCATGCTAGT  C103_T_1_1_0_c1_v2     C103   \n",
       "C103_T_1_1_0_c1_v2_id-AAACCTGGTAGCCTAT  C103_T_1_1_0_c1_v2     C103   \n",
       "C103_T_1_1_0_c1_v2_id-AAACCTGGTTGTCGCG  C103_T_1_1_0_c1_v2     C103   \n",
       "C103_T_1_1_0_c1_v2_id-AAACCTGTCATGTGGT  C103_T_1_1_0_c1_v2     C103   \n",
       "C103_T_1_1_0_c1_v2_id-AAACCTGTCCTTGGTC  C103_T_1_1_0_c1_v2     C103   \n",
       "...                                                    ...      ...   \n",
       "C173_T_0_0_0_c1_v3_id-TTTGGAGTCATCGGGC  C173_T_0_0_0_c1_v3     C173   \n",
       "C173_T_0_0_0_c1_v3_id-TTTGGAGTCTAGTGTG  C173_T_0_0_0_c1_v3     C173   \n",
       "C173_T_0_0_0_c1_v3_id-TTTGTTGCAGCAATTC  C173_T_0_0_0_c1_v3     C173   \n",
       "C173_T_0_0_0_c1_v3_id-TTTGTTGGTTCTGAGT  C173_T_0_0_0_c1_v3     C173   \n",
       "C173_T_0_0_0_c1_v3_id-TTTGTTGTCGTTCCCA  C173_T_0_0_0_c1_v3     C173   \n",
       "\n",
       "                                       SpecimenType TissueSource  \\\n",
       "cell_id                                                            \n",
       "C103_T_1_1_0_c1_v2_id-AAACCTGCATGCTAGT            T          MGH   \n",
       "C103_T_1_1_0_c1_v2_id-AAACCTGGTAGCCTAT            T          MGH   \n",
       "C103_T_1_1_0_c1_v2_id-AAACCTGGTTGTCGCG            T          MGH   \n",
       "C103_T_1_1_0_c1_v2_id-AAACCTGTCATGTGGT            T          MGH   \n",
       "C103_T_1_1_0_c1_v2_id-AAACCTGTCCTTGGTC            T          MGH   \n",
       "...                                             ...          ...   \n",
       "C173_T_0_0_0_c1_v3_id-TTTGGAGTCATCGGGC            T         DFCI   \n",
       "C173_T_0_0_0_c1_v3_id-TTTGGAGTCTAGTGTG            T         DFCI   \n",
       "C173_T_0_0_0_c1_v3_id-TTTGTTGCAGCAATTC            T         DFCI   \n",
       "C173_T_0_0_0_c1_v3_id-TTTGTTGGTTCTGAGT            T         DFCI   \n",
       "C173_T_0_0_0_c1_v3_id-TTTGTTGTCGTTCCCA            T         DFCI   \n",
       "\n",
       "                                       ProcessingMethod PatientTypeID     sex  \\\n",
       "cell_id                                                                         \n",
       "C103_T_1_1_0_c1_v2_id-AAACCTGCATGCTAGT         unsorted        C103_T    male   \n",
       "C103_T_1_1_0_c1_v2_id-AAACCTGGTAGCCTAT         unsorted        C103_T    male   \n",
       "C103_T_1_1_0_c1_v2_id-AAACCTGGTTGTCGCG         unsorted        C103_T    male   \n",
       "C103_T_1_1_0_c1_v2_id-AAACCTGTCATGTGGT         unsorted        C103_T    male   \n",
       "C103_T_1_1_0_c1_v2_id-AAACCTGTCCTTGGTC         unsorted        C103_T    male   \n",
       "...                                                 ...           ...     ...   \n",
       "C173_T_0_0_0_c1_v3_id-TTTGGAGTCATCGGGC         unsorted        C173_T  female   \n",
       "C173_T_0_0_0_c1_v3_id-TTTGGAGTCTAGTGTG         unsorted        C173_T  female   \n",
       "C173_T_0_0_0_c1_v3_id-TTTGTTGCAGCAATTC         unsorted        C173_T  female   \n",
       "C173_T_0_0_0_c1_v3_id-TTTGTTGGTTCTGAGT         unsorted        C173_T  female   \n",
       "C173_T_0_0_0_c1_v3_id-TTTGTTGTCGTTCCCA         unsorted        C173_T  female   \n",
       "\n",
       "                                        Site Grade TumorStage  ...  \\\n",
       "cell_id                                                        ...   \n",
       "C103_T_1_1_0_c1_v2_id-AAACCTGCATGCTAGT  left   low      notT4  ...   \n",
       "C103_T_1_1_0_c1_v2_id-AAACCTGGTAGCCTAT  left   low      notT4  ...   \n",
       "C103_T_1_1_0_c1_v2_id-AAACCTGGTTGTCGCG  left   low      notT4  ...   \n",
       "C103_T_1_1_0_c1_v2_id-AAACCTGTCATGTGGT  left   low      notT4  ...   \n",
       "C103_T_1_1_0_c1_v2_id-AAACCTGTCCTTGGTC  left   low      notT4  ...   \n",
       "...                                      ...   ...        ...  ...   \n",
       "C173_T_0_0_0_c1_v3_id-TTTGGAGTCATCGGGC  left  high         T4  ...   \n",
       "C173_T_0_0_0_c1_v3_id-TTTGGAGTCTAGTGTG  left  high         T4  ...   \n",
       "C173_T_0_0_0_c1_v3_id-TTTGTTGCAGCAATTC  left  high         T4  ...   \n",
       "C173_T_0_0_0_c1_v3_id-TTTGTTGGTTCTGAGT  left  high         T4  ...   \n",
       "C173_T_0_0_0_c1_v3_id-TTTGTTGTCGTTCCCA  left  high         T4  ...   \n",
       "\n",
       "                                       species__ontology_label        disease  \\\n",
       "cell_id                                                                         \n",
       "C103_T_1_1_0_c1_v2_id-AAACCTGCATGCTAGT            Homo sapiens  MONDO_0002271   \n",
       "C103_T_1_1_0_c1_v2_id-AAACCTGGTAGCCTAT            Homo sapiens  MONDO_0002271   \n",
       "C103_T_1_1_0_c1_v2_id-AAACCTGGTTGTCGCG            Homo sapiens  MONDO_0002271   \n",
       "C103_T_1_1_0_c1_v2_id-AAACCTGTCATGTGGT            Homo sapiens  MONDO_0002271   \n",
       "C103_T_1_1_0_c1_v2_id-AAACCTGTCCTTGGTC            Homo sapiens  MONDO_0002271   \n",
       "...                                                        ...            ...   \n",
       "C173_T_0_0_0_c1_v3_id-TTTGGAGTCATCGGGC            Homo sapiens  MONDO_0002271   \n",
       "C173_T_0_0_0_c1_v3_id-TTTGGAGTCTAGTGTG            Homo sapiens  MONDO_0002271   \n",
       "C173_T_0_0_0_c1_v3_id-TTTGTTGCAGCAATTC            Homo sapiens  MONDO_0002271   \n",
       "C173_T_0_0_0_c1_v3_id-TTTGTTGGTTCTGAGT            Homo sapiens  MONDO_0002271   \n",
       "C173_T_0_0_0_c1_v3_id-TTTGTTGTCGTTCCCA            Homo sapiens  MONDO_0002271   \n",
       "\n",
       "                                       disease__ontology_label  \\\n",
       "cell_id                                                          \n",
       "C103_T_1_1_0_c1_v2_id-AAACCTGCATGCTAGT    colon adenocarcinoma   \n",
       "C103_T_1_1_0_c1_v2_id-AAACCTGGTAGCCTAT    colon adenocarcinoma   \n",
       "C103_T_1_1_0_c1_v2_id-AAACCTGGTTGTCGCG    colon adenocarcinoma   \n",
       "C103_T_1_1_0_c1_v2_id-AAACCTGTCATGTGGT    colon adenocarcinoma   \n",
       "C103_T_1_1_0_c1_v2_id-AAACCTGTCCTTGGTC    colon adenocarcinoma   \n",
       "...                                                        ...   \n",
       "C173_T_0_0_0_c1_v3_id-TTTGGAGTCATCGGGC    colon adenocarcinoma   \n",
       "C173_T_0_0_0_c1_v3_id-TTTGGAGTCTAGTGTG    colon adenocarcinoma   \n",
       "C173_T_0_0_0_c1_v3_id-TTTGTTGCAGCAATTC    colon adenocarcinoma   \n",
       "C173_T_0_0_0_c1_v3_id-TTTGTTGGTTCTGAGT    colon adenocarcinoma   \n",
       "C173_T_0_0_0_c1_v3_id-TTTGTTGTCGTTCCCA    colon adenocarcinoma   \n",
       "\n",
       "                                                 organ organ__ontology_label  \\\n",
       "cell_id                                                                        \n",
       "C103_T_1_1_0_c1_v2_id-AAACCTGCATGCTAGT  UBERON_0001155                 colon   \n",
       "C103_T_1_1_0_c1_v2_id-AAACCTGGTAGCCTAT  UBERON_0001155                 colon   \n",
       "C103_T_1_1_0_c1_v2_id-AAACCTGGTTGTCGCG  UBERON_0001155                 colon   \n",
       "C103_T_1_1_0_c1_v2_id-AAACCTGTCATGTGGT  UBERON_0001155                 colon   \n",
       "C103_T_1_1_0_c1_v2_id-AAACCTGTCCTTGGTC  UBERON_0001155                 colon   \n",
       "...                                                ...                   ...   \n",
       "C173_T_0_0_0_c1_v3_id-TTTGGAGTCATCGGGC  UBERON_0001155                 colon   \n",
       "C173_T_0_0_0_c1_v3_id-TTTGGAGTCTAGTGTG  UBERON_0001155                 colon   \n",
       "C173_T_0_0_0_c1_v3_id-TTTGTTGCAGCAATTC  UBERON_0001155                 colon   \n",
       "C173_T_0_0_0_c1_v3_id-TTTGTTGGTTCTGAGT  UBERON_0001155                 colon   \n",
       "C173_T_0_0_0_c1_v3_id-TTTGTTGTCGTTCCCA  UBERON_0001155                 colon   \n",
       "\n",
       "                                       library_preparation_protocol  \\\n",
       "cell_id                                                               \n",
       "C103_T_1_1_0_c1_v2_id-AAACCTGCATGCTAGT                  EFO_0009899   \n",
       "C103_T_1_1_0_c1_v2_id-AAACCTGGTAGCCTAT                  EFO_0009899   \n",
       "C103_T_1_1_0_c1_v2_id-AAACCTGGTTGTCGCG                  EFO_0009899   \n",
       "C103_T_1_1_0_c1_v2_id-AAACCTGTCATGTGGT                  EFO_0009899   \n",
       "C103_T_1_1_0_c1_v2_id-AAACCTGTCCTTGGTC                  EFO_0009899   \n",
       "...                                                             ...   \n",
       "C173_T_0_0_0_c1_v3_id-TTTGGAGTCATCGGGC                  EFO_0009922   \n",
       "C173_T_0_0_0_c1_v3_id-TTTGGAGTCTAGTGTG                  EFO_0009922   \n",
       "C173_T_0_0_0_c1_v3_id-TTTGTTGCAGCAATTC                  EFO_0009922   \n",
       "C173_T_0_0_0_c1_v3_id-TTTGTTGGTTCTGAGT                  EFO_0009922   \n",
       "C173_T_0_0_0_c1_v3_id-TTTGTTGTCGTTCCCA                  EFO_0009922   \n",
       "\n",
       "                                       library_preparation_protocol__ontology_label  \\\n",
       "cell_id                                                                               \n",
       "C103_T_1_1_0_c1_v2_id-AAACCTGCATGCTAGT                         10X 3' v2 sequencing   \n",
       "C103_T_1_1_0_c1_v2_id-AAACCTGGTAGCCTAT                         10X 3' v2 sequencing   \n",
       "C103_T_1_1_0_c1_v2_id-AAACCTGGTTGTCGCG                         10X 3' v2 sequencing   \n",
       "C103_T_1_1_0_c1_v2_id-AAACCTGTCATGTGGT                         10X 3' v2 sequencing   \n",
       "C103_T_1_1_0_c1_v2_id-AAACCTGTCCTTGGTC                         10X 3' v2 sequencing   \n",
       "...                                                                             ...   \n",
       "C173_T_0_0_0_c1_v3_id-TTTGGAGTCATCGGGC                         10x 3' v3 sequencing   \n",
       "C173_T_0_0_0_c1_v3_id-TTTGGAGTCTAGTGTG                         10x 3' v3 sequencing   \n",
       "C173_T_0_0_0_c1_v3_id-TTTGTTGCAGCAATTC                         10x 3' v3 sequencing   \n",
       "C173_T_0_0_0_c1_v3_id-TTTGTTGGTTCTGAGT                         10x 3' v3 sequencing   \n",
       "C173_T_0_0_0_c1_v3_id-TTTGTTGTCGTTCCCA                         10x 3' v3 sequencing   \n",
       "\n",
       "                                                                      ClusterFull  \\\n",
       "cell_id                                                                             \n",
       "C103_T_1_1_0_c1_v2_id-AAACCTGCATGCTAGT                  Tumor cE01 (Stem/TA-like)   \n",
       "C103_T_1_1_0_c1_v2_id-AAACCTGGTAGCCTAT                  Tumor cE01 (Stem/TA-like)   \n",
       "C103_T_1_1_0_c1_v2_id-AAACCTGGTTGTCGCG           Tumor cE03 (Stem/TA-like prolif)   \n",
       "C103_T_1_1_0_c1_v2_id-AAACCTGTCATGTGGT                  Tumor cE01 (Stem/TA-like)   \n",
       "C103_T_1_1_0_c1_v2_id-AAACCTGTCCTTGGTC                  Tumor cE01 (Stem/TA-like)   \n",
       "...                                                                           ...   \n",
       "C173_T_0_0_0_c1_v3_id-TTTGGAGTCATCGGGC                     cM02 (Macrophage-like)   \n",
       "C173_T_0_0_0_c1_v3_id-TTTGGAGTCTAGTGTG           Tumor cE03 (Stem/TA-like prolif)   \n",
       "C173_T_0_0_0_c1_v3_id-TTTGTTGCAGCAATTC           Tumor cE03 (Stem/TA-like prolif)   \n",
       "C173_T_0_0_0_c1_v3_id-TTTGTTGGTTCTGAGT                         cTNI08 (CD4+ Treg)   \n",
       "C173_T_0_0_0_c1_v3_id-TTTGTTGTCGTTCCCA  Tumor cE02 (Stem/TA-like/Immature Goblet)   \n",
       "\n",
       "                                       ClusterMidway ClusterTop  \n",
       "cell_id                                                          \n",
       "C103_T_1_1_0_c1_v2_id-AAACCTGCATGCTAGT          EpiT        Epi  \n",
       "C103_T_1_1_0_c1_v2_id-AAACCTGGTAGCCTAT          EpiT        Epi  \n",
       "C103_T_1_1_0_c1_v2_id-AAACCTGGTTGTCGCG          EpiT        Epi  \n",
       "C103_T_1_1_0_c1_v2_id-AAACCTGTCATGTGGT          EpiT        Epi  \n",
       "C103_T_1_1_0_c1_v2_id-AAACCTGTCCTTGGTC          EpiT        Epi  \n",
       "...                                              ...        ...  \n",
       "C173_T_0_0_0_c1_v3_id-TTTGGAGTCATCGGGC         Macro    Myeloid  \n",
       "C173_T_0_0_0_c1_v3_id-TTTGGAGTCTAGTGTG          EpiT        Epi  \n",
       "C173_T_0_0_0_c1_v3_id-TTTGTTGCAGCAATTC          EpiT        Epi  \n",
       "C173_T_0_0_0_c1_v3_id-TTTGTTGGTTCTGAGT          TCD4     TNKILC  \n",
       "C173_T_0_0_0_c1_v3_id-TTTGTTGTCGTTCCCA          EpiT        Epi  \n",
       "\n",
       "[371223 rows x 35 columns]"
      ]
     },
     "execution_count": 7,
     "metadata": {},
     "output_type": "execute_result"
    }
   ],
   "source": [
    "adata.obs"
   ]
  }
 ],
 "metadata": {
  "kernelspec": {
   "display_name": "scanpy_env",
   "language": "python",
   "name": "python3"
  },
  "language_info": {
   "codemirror_mode": {
    "name": "ipython",
    "version": 3
   },
   "file_extension": ".py",
   "mimetype": "text/x-python",
   "name": "python",
   "nbconvert_exporter": "python",
   "pygments_lexer": "ipython3",
   "version": "3.9.16"
  },
  "orig_nbformat": 4
 },
 "nbformat": 4,
 "nbformat_minor": 2
}
