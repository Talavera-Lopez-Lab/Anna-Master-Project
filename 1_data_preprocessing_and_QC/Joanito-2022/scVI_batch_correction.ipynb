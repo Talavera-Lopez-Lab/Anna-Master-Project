{
 "cells": [
  {
   "attachments": {},
   "cell_type": "markdown",
   "metadata": {},
   "source": [
    "## Notebook for Smillie data integration and batch correction `scVI`\n",
    "\n",
    "- **Developed by**: Anna Maguza\n",
    "- **Institute of Computational Biology - Computational Health Centre - Helmholtz Munich**\n",
    "- 4th July 2023"
   ]
  },
  {
   "cell_type": "markdown",
   "metadata": {},
   "source": [
    "### Load required modules"
   ]
  },
  {
   "cell_type": "code",
   "execution_count": 2,
   "metadata": {},
   "outputs": [
    {
     "name": "stderr",
     "output_type": "stream",
     "text": [
      "Global seed set to 0\n",
      "/Users/anna.maguza/miniconda3/envs/scvi_env/lib/python3.9/site-packages/tqdm/auto.py:21: TqdmWarning: IProgress not found. Please update jupyter and ipywidgets. See https://ipywidgets.readthedocs.io/en/stable/user_install.html\n",
      "  from .autonotebook import tqdm as notebook_tqdm\n",
      "/Users/anna.maguza/miniconda3/envs/scvi_env/lib/python3.9/site-packages/flax/struct.py:132: FutureWarning: jax.tree_util.register_keypaths is deprecated, and will be removed in a future release. Please use `register_pytree_with_keys()` instead.\n",
      "  jax.tree_util.register_keypaths(data_clz, keypaths)\n",
      "/Users/anna.maguza/miniconda3/envs/scvi_env/lib/python3.9/site-packages/flax/struct.py:132: FutureWarning: jax.tree_util.register_keypaths is deprecated, and will be removed in a future release. Please use `register_pytree_with_keys()` instead.\n",
      "  jax.tree_util.register_keypaths(data_clz, keypaths)\n",
      "/Users/anna.maguza/miniconda3/envs/scvi_env/lib/python3.9/site-packages/flax/struct.py:132: FutureWarning: jax.tree_util.register_keypaths is deprecated, and will be removed in a future release. Please use `register_pytree_with_keys()` instead.\n",
      "  jax.tree_util.register_keypaths(data_clz, keypaths)\n"
     ]
    }
   ],
   "source": [
    "import sys\n",
    "import scvi\n",
    "import torch\n",
    "import anndata\n",
    "import matplotlib\n",
    "import matplotlib.pyplot as plt\n",
    "from matplotlib.colors import LinearSegmentedColormap\n",
    "import seaborn as sns\n",
    "\n",
    "import numpy as np\n",
    "import scipy as sp\n",
    "import pandas as pd\n",
    "import scanpy as sc\n",
    "import numpy.random as random\n",
    "\n",
    "\n",
    "from umap import UMAP\n",
    "import warnings; warnings.simplefilter('ignore')\n",
    "\n",
    "import matplotlib.pyplot as plt"
   ]
  },
  {
   "cell_type": "code",
   "execution_count": 3,
   "metadata": {},
   "outputs": [],
   "source": [
    "%matplotlib inline\n",
    "matplotlib.rcParams[\"pdf.fonttype\"] = 42\n",
    "matplotlib.rcParams[\"ps.fonttype\"] = 42"
   ]
  },
  {
   "cell_type": "code",
   "execution_count": 4,
   "metadata": {},
   "outputs": [
    {
     "data": {
      "text/plain": [
       "False"
      ]
     },
     "execution_count": 4,
     "metadata": {},
     "output_type": "execute_result"
    }
   ],
   "source": [
    "torch.cuda.is_available()"
   ]
  },
  {
   "cell_type": "code",
   "execution_count": 5,
   "metadata": {},
   "outputs": [],
   "source": [
    "torch.set_float32_matmul_precision('medium')"
   ]
  },
  {
   "cell_type": "code",
   "execution_count": 6,
   "metadata": {},
   "outputs": [
    {
     "name": "stdout",
     "output_type": "stream",
     "text": [
      "-----\n",
      "anndata     0.8.0\n",
      "scanpy      1.9.3\n",
      "-----\n",
      "PIL                         9.4.0\n",
      "absl                        NA\n",
      "appnope                     0.1.2\n",
      "asttokens                   NA\n",
      "attr                        22.2.0\n",
      "backcall                    0.2.0\n",
      "beta_ufunc                  NA\n",
      "binom_ufunc                 NA\n",
      "brotli                      NA\n",
      "certifi                     2022.12.07\n",
      "cffi                        1.15.1\n",
      "charset_normalizer          2.1.1\n",
      "chex                        0.1.6\n",
      "colorama                    0.4.6\n",
      "comm                        0.1.2\n",
      "contextlib2                 NA\n",
      "cycler                      0.10.0\n",
      "cython_runtime              NA\n",
      "dateutil                    2.8.2\n",
      "debugpy                     1.5.1\n",
      "decorator                   5.1.1\n",
      "defusedxml                  0.7.1\n",
      "docrep                      0.3.2\n",
      "entrypoints                 0.4\n",
      "executing                   0.8.3\n",
      "flax                        0.6.1\n",
      "fsspec                      2023.3.0\n",
      "h5py                        3.8.0\n",
      "hypergeom_ufunc             NA\n",
      "idna                        3.4\n",
      "importlib_resources         NA\n",
      "invgauss_ufunc              NA\n",
      "ipykernel                   6.19.2\n",
      "ipython_genutils            0.2.0\n",
      "jax                         0.4.6\n",
      "jaxlib                      0.4.6\n",
      "jedi                        0.18.1\n",
      "joblib                      1.2.0\n",
      "jupyter_server              1.23.6\n",
      "kiwisolver                  1.4.4\n",
      "lightning_fabric            1.9.4\n",
      "lightning_utilities         0.8.0\n",
      "llvmlite                    0.39.1\n",
      "matplotlib                  3.7.1\n",
      "matplotlib_inline           0.1.6\n",
      "ml_collections              NA\n",
      "mpl_toolkits                NA\n",
      "mpmath                      1.3.0\n",
      "msgpack                     1.0.5\n",
      "mudata                      0.2.1\n",
      "multipledispatch            0.6.0\n",
      "natsort                     8.3.1\n",
      "nbinom_ufunc                NA\n",
      "ncf_ufunc                   NA\n",
      "nct_ufunc                   NA\n",
      "ncx2_ufunc                  NA\n",
      "numba                       0.56.4\n",
      "numpy                       1.23.5\n",
      "numpyro                     0.11.0\n",
      "opt_einsum                  v3.3.0\n",
      "optax                       0.1.4\n",
      "packaging                   23.0\n",
      "pandas                      1.3.5\n",
      "parso                       0.8.3\n",
      "pexpect                     4.8.0\n",
      "pickleshare                 0.7.5\n",
      "pkg_resources               NA\n",
      "platformdirs                3.1.1\n",
      "prompt_toolkit              3.0.36\n",
      "psutil                      5.9.0\n",
      "ptyprocess                  0.7.0\n",
      "pure_eval                   0.2.2\n",
      "pycparser                   2.21\n",
      "pydev_ipython               NA\n",
      "pydevconsole                NA\n",
      "pydevd                      2.6.0\n",
      "pydevd_concurrency_analyser NA\n",
      "pydevd_file_utils           NA\n",
      "pydevd_plugins              NA\n",
      "pydevd_tracing              NA\n",
      "pygments                    2.14.0\n",
      "pynndescent                 0.5.8\n",
      "pyparsing                   3.0.9\n",
      "pyro                        1.8.4+9ed468d\n",
      "pytorch_lightning           1.9.4\n",
      "pytz                        2022.7.1\n",
      "requests                    2.28.2\n",
      "rich                        NA\n",
      "scipy                       1.10.1\n",
      "scvi                        0.20.2\n",
      "seaborn                     0.12.2\n",
      "session_info                1.0.0\n",
      "setuptools                  65.6.3\n",
      "six                         1.16.0\n",
      "skewnorm_ufunc              NA\n",
      "sklearn                     1.2.2\n",
      "socks                       1.7.1\n",
      "stack_data                  0.2.0\n",
      "statsmodels                 0.13.5\n",
      "sympy                       1.11.1\n",
      "threadpoolctl               3.1.0\n",
      "toolz                       0.12.0\n",
      "torch                       2.0.0\n",
      "torchmetrics                0.11.4\n",
      "torchvision                 0.15.1\n",
      "tornado                     6.2\n",
      "tqdm                        4.65.0\n",
      "traitlets                   5.7.1\n",
      "tree                        0.1.7\n",
      "typing_extensions           NA\n",
      "umap                        0.5.3\n",
      "unicodedata2                NA\n",
      "urllib3                     1.26.15\n",
      "wcwidth                     0.2.5\n",
      "wrapt                       1.15.0\n",
      "yaml                        6.0\n",
      "zipp                        NA\n",
      "zmq                         23.2.0\n",
      "-----\n",
      "IPython             8.10.0\n",
      "jupyter_client      7.4.9\n",
      "jupyter_core        5.2.0\n",
      "jupyterlab          3.5.0\n",
      "notebook            6.5.3\n",
      "-----\n",
      "Python 3.9.16 | packaged by conda-forge | (main, Feb  1 2023, 21:38:11) [Clang 14.0.6 ]\n",
      "macOS-12.6.1-arm64-arm-64bit\n",
      "-----\n",
      "Session information updated at 2023-08-09 15:48\n"
     ]
    }
   ],
   "source": [
    "sc.settings.verbosity = 3\n",
    "sc.logging.print_versions()\n",
    "sc.settings.set_figure_params(dpi = 180, color_map = 'magma_r', dpi_save = 300, vector_friendly = True, format = 'svg')"
   ]
  },
  {
   "cell_type": "code",
   "execution_count": 7,
   "metadata": {},
   "outputs": [],
   "source": [
    "arches_params = dict(\n",
    "    use_layer_norm = \"both\",\n",
    "    use_batch_norm = \"none\",\n",
    "    encode_covariates = True,\n",
    "    dropout_rate = 0.2,\n",
    "    n_layers = 2,\n",
    ")"
   ]
  },
  {
   "cell_type": "code",
   "execution_count": 8,
   "metadata": {},
   "outputs": [],
   "source": [
    "def X_is_raw(adata):\n",
    "    return np.array_equal(adata.X.sum(axis=0).astype(int), adata.X.sum(axis=0))"
   ]
  },
  {
   "cell_type": "markdown",
   "metadata": {},
   "source": [
    "### Read in datasets"
   ]
  },
  {
   "cell_type": "code",
   "execution_count": 8,
   "metadata": {},
   "outputs": [],
   "source": [
    "input = '/Users/anna.maguza/Desktop/Data/Gut_project/Joanito_cancer/anndata/Joanito_raw_anndata_all_cells.h5ad'\n",
    "adata = sc.read(input)"
   ]
  },
  {
   "cell_type": "code",
   "execution_count": 9,
   "metadata": {},
   "outputs": [],
   "source": [
    "# Filter only tumor cells\n",
    "adata = adata[adata.obs['sample.origin'] == 'Tumor']"
   ]
  },
  {
   "cell_type": "code",
   "execution_count": 10,
   "metadata": {},
   "outputs": [
    {
     "data": {
      "text/plain": [
       "True"
      ]
     },
     "execution_count": 10,
     "metadata": {},
     "output_type": "execute_result"
    }
   ],
   "source": [
    "X_is_raw(adata)"
   ]
  },
  {
   "cell_type": "code",
   "execution_count": 11,
   "metadata": {},
   "outputs": [],
   "source": [
    "# Save raw data\n",
    "adata.raw = adata"
   ]
  },
  {
   "cell_type": "code",
   "execution_count": 12,
   "metadata": {},
   "outputs": [
    {
     "name": "stdout",
     "output_type": "stream",
     "text": [
      "If you pass `n_top_genes`, all cutoffs are ignored.\n",
      "extracting highly variable genes\n",
      "--> added\n",
      "    'highly_variable', boolean vector (adata.var)\n",
      "    'highly_variable_rank', float vector (adata.var)\n",
      "    'means', float vector (adata.var)\n",
      "    'variances', float vector (adata.var)\n",
      "    'variances_norm', float vector (adata.var)\n"
     ]
    }
   ],
   "source": [
    "adata.layers['counts'] = adata.X.copy()\n",
    "\n",
    "# Calculate 5000 HVGs\n",
    "sc.pp.highly_variable_genes(\n",
    "    adata,\n",
    "    flavor = \"seurat_v3\",\n",
    "    n_top_genes = 5000,\n",
    "    layer = \"counts\",\n",
    "    batch_key = 'Library_Preparation_Protocol',\n",
    "    subset = True,\n",
    "    span = 1\n",
    ")"
   ]
  },
  {
   "cell_type": "code",
   "execution_count": 13,
   "metadata": {},
   "outputs": [
    {
     "data": {
      "text/html": [
       "<div>\n",
       "<style scoped>\n",
       "    .dataframe tbody tr th:only-of-type {\n",
       "        vertical-align: middle;\n",
       "    }\n",
       "\n",
       "    .dataframe tbody tr th {\n",
       "        vertical-align: top;\n",
       "    }\n",
       "\n",
       "    .dataframe thead th {\n",
       "        text-align: right;\n",
       "    }\n",
       "</style>\n",
       "<table border=\"1\" class=\"dataframe\">\n",
       "  <thead>\n",
       "    <tr style=\"text-align: right;\">\n",
       "      <th></th>\n",
       "      <th>nFeature_RNA</th>\n",
       "      <th>pct_counts_mito</th>\n",
       "      <th>Sample_ID</th>\n",
       "      <th>Donor_ID</th>\n",
       "      <th>sample.origin</th>\n",
       "      <th>dataset_x</th>\n",
       "      <th>Cell_Type</th>\n",
       "      <th>dataset_y</th>\n",
       "      <th>Sex</th>\n",
       "      <th>Tumor Stage</th>\n",
       "      <th>...</th>\n",
       "      <th>iCMS</th>\n",
       "      <th>msi</th>\n",
       "      <th>batch</th>\n",
       "      <th>Age_group</th>\n",
       "      <th>Study_name</th>\n",
       "      <th>Diagnosis</th>\n",
       "      <th>n_genes_by_counts</th>\n",
       "      <th>total_counts</th>\n",
       "      <th>Library_Preparation_Protocol</th>\n",
       "      <th>total_counts_mito</th>\n",
       "    </tr>\n",
       "  </thead>\n",
       "  <tbody>\n",
       "    <tr>\n",
       "      <th>CRC16_MUX8563_AAACCTGCAAGCCGCT-1-0</th>\n",
       "      <td>2577</td>\n",
       "      <td>0.0</td>\n",
       "      <td>MUX8563</td>\n",
       "      <td>CRC2794</td>\n",
       "      <td>Tumor</td>\n",
       "      <td>CRC-SG1</td>\n",
       "      <td>Plasma cells</td>\n",
       "      <td>CRC-SG1</td>\n",
       "      <td>Female</td>\n",
       "      <td>65.0</td>\n",
       "      <td>...</td>\n",
       "      <td>NaN</td>\n",
       "      <td>NaN</td>\n",
       "      <td>0</td>\n",
       "      <td>Adult</td>\n",
       "      <td>Joanito, 2022</td>\n",
       "      <td>Colorectal cancer, Stage III</td>\n",
       "      <td>2577</td>\n",
       "      <td>29514.0</td>\n",
       "      <td>10x 5' v1</td>\n",
       "      <td>0.0</td>\n",
       "    </tr>\n",
       "    <tr>\n",
       "      <th>CRC16_MUX8563_AAACCTGTCTCGATGA-1-0</th>\n",
       "      <td>1531</td>\n",
       "      <td>0.0</td>\n",
       "      <td>MUX8563</td>\n",
       "      <td>CRC2794</td>\n",
       "      <td>Tumor</td>\n",
       "      <td>CRC-SG1</td>\n",
       "      <td>T cells</td>\n",
       "      <td>CRC-SG1</td>\n",
       "      <td>Female</td>\n",
       "      <td>65.0</td>\n",
       "      <td>...</td>\n",
       "      <td>NaN</td>\n",
       "      <td>NaN</td>\n",
       "      <td>0</td>\n",
       "      <td>Adult</td>\n",
       "      <td>Joanito, 2022</td>\n",
       "      <td>Colorectal cancer, Stage III</td>\n",
       "      <td>1531</td>\n",
       "      <td>3259.0</td>\n",
       "      <td>10x 5' v1</td>\n",
       "      <td>0.0</td>\n",
       "    </tr>\n",
       "    <tr>\n",
       "      <th>CRC16_MUX8563_AAACCTGTCTCTGTCG-1-0</th>\n",
       "      <td>3083</td>\n",
       "      <td>0.0</td>\n",
       "      <td>MUX8563</td>\n",
       "      <td>CRC2794</td>\n",
       "      <td>Tumor</td>\n",
       "      <td>CRC-SG1</td>\n",
       "      <td>Plasma cells</td>\n",
       "      <td>CRC-SG1</td>\n",
       "      <td>Female</td>\n",
       "      <td>65.0</td>\n",
       "      <td>...</td>\n",
       "      <td>NaN</td>\n",
       "      <td>NaN</td>\n",
       "      <td>0</td>\n",
       "      <td>Adult</td>\n",
       "      <td>Joanito, 2022</td>\n",
       "      <td>Colorectal cancer, Stage III</td>\n",
       "      <td>3083</td>\n",
       "      <td>71212.0</td>\n",
       "      <td>10x 5' v1</td>\n",
       "      <td>0.0</td>\n",
       "    </tr>\n",
       "    <tr>\n",
       "      <th>CRC16_MUX8563_AAACGGGCAAGTTAAG-1-0</th>\n",
       "      <td>1686</td>\n",
       "      <td>0.0</td>\n",
       "      <td>MUX8563</td>\n",
       "      <td>CRC2794</td>\n",
       "      <td>Tumor</td>\n",
       "      <td>CRC-SG1</td>\n",
       "      <td>T cells</td>\n",
       "      <td>CRC-SG1</td>\n",
       "      <td>Female</td>\n",
       "      <td>65.0</td>\n",
       "      <td>...</td>\n",
       "      <td>NaN</td>\n",
       "      <td>NaN</td>\n",
       "      <td>0</td>\n",
       "      <td>Adult</td>\n",
       "      <td>Joanito, 2022</td>\n",
       "      <td>Colorectal cancer, Stage III</td>\n",
       "      <td>1686</td>\n",
       "      <td>3771.0</td>\n",
       "      <td>10x 5' v1</td>\n",
       "      <td>0.0</td>\n",
       "    </tr>\n",
       "    <tr>\n",
       "      <th>CRC16_MUX8563_AAACGGGCAGTTCATG-1-0</th>\n",
       "      <td>4304</td>\n",
       "      <td>0.0</td>\n",
       "      <td>MUX8563</td>\n",
       "      <td>CRC2794</td>\n",
       "      <td>Tumor</td>\n",
       "      <td>CRC-SG1</td>\n",
       "      <td>Mesenchymal</td>\n",
       "      <td>CRC-SG1</td>\n",
       "      <td>Female</td>\n",
       "      <td>65.0</td>\n",
       "      <td>...</td>\n",
       "      <td>NaN</td>\n",
       "      <td>NaN</td>\n",
       "      <td>0</td>\n",
       "      <td>Adult</td>\n",
       "      <td>Joanito, 2022</td>\n",
       "      <td>Colorectal cancer, Stage III</td>\n",
       "      <td>4304</td>\n",
       "      <td>16948.0</td>\n",
       "      <td>10x 5' v1</td>\n",
       "      <td>0.0</td>\n",
       "    </tr>\n",
       "    <tr>\n",
       "      <th>...</th>\n",
       "      <td>...</td>\n",
       "      <td>...</td>\n",
       "      <td>...</td>\n",
       "      <td>...</td>\n",
       "      <td>...</td>\n",
       "      <td>...</td>\n",
       "      <td>...</td>\n",
       "      <td>...</td>\n",
       "      <td>...</td>\n",
       "      <td>...</td>\n",
       "      <td>...</td>\n",
       "      <td>...</td>\n",
       "      <td>...</td>\n",
       "      <td>...</td>\n",
       "      <td>...</td>\n",
       "      <td>...</td>\n",
       "      <td>...</td>\n",
       "      <td>...</td>\n",
       "      <td>...</td>\n",
       "      <td>...</td>\n",
       "      <td>...</td>\n",
       "    </tr>\n",
       "    <tr>\n",
       "      <th>KUL5_EXT127_GACTGCGAGTAGCGGT-1-1</th>\n",
       "      <td>5368</td>\n",
       "      <td>0.0</td>\n",
       "      <td>EXT127</td>\n",
       "      <td>SC044</td>\n",
       "      <td>Tumor</td>\n",
       "      <td>KUL5</td>\n",
       "      <td>Epithelial</td>\n",
       "      <td>KUL5</td>\n",
       "      <td>Female</td>\n",
       "      <td>80.0</td>\n",
       "      <td>...</td>\n",
       "      <td>iCMS3</td>\n",
       "      <td>MSI-H</td>\n",
       "      <td>1</td>\n",
       "      <td>Adult</td>\n",
       "      <td>Joanito, 2022</td>\n",
       "      <td>Colorectal cancer, Stage III</td>\n",
       "      <td>5368</td>\n",
       "      <td>20711.0</td>\n",
       "      <td>10x 5' v1</td>\n",
       "      <td>0.0</td>\n",
       "    </tr>\n",
       "    <tr>\n",
       "      <th>KUL5_EXT127_GTGCATAGTTTGACAC-1-1</th>\n",
       "      <td>4430</td>\n",
       "      <td>0.0</td>\n",
       "      <td>EXT127</td>\n",
       "      <td>SC044</td>\n",
       "      <td>Tumor</td>\n",
       "      <td>KUL5</td>\n",
       "      <td>Epithelial</td>\n",
       "      <td>KUL5</td>\n",
       "      <td>Female</td>\n",
       "      <td>80.0</td>\n",
       "      <td>...</td>\n",
       "      <td>iCMS3</td>\n",
       "      <td>MSI-H</td>\n",
       "      <td>1</td>\n",
       "      <td>Adult</td>\n",
       "      <td>Joanito, 2022</td>\n",
       "      <td>Colorectal cancer, Stage III</td>\n",
       "      <td>4430</td>\n",
       "      <td>11799.0</td>\n",
       "      <td>10x 5' v1</td>\n",
       "      <td>0.0</td>\n",
       "    </tr>\n",
       "    <tr>\n",
       "      <th>KUL5_EXT127_TATCAGGGTGTGAAAT-1-1</th>\n",
       "      <td>2291</td>\n",
       "      <td>0.0</td>\n",
       "      <td>EXT127</td>\n",
       "      <td>SC044</td>\n",
       "      <td>Tumor</td>\n",
       "      <td>KUL5</td>\n",
       "      <td>Epithelial</td>\n",
       "      <td>KUL5</td>\n",
       "      <td>Female</td>\n",
       "      <td>80.0</td>\n",
       "      <td>...</td>\n",
       "      <td>iCMS3</td>\n",
       "      <td>MSI-H</td>\n",
       "      <td>1</td>\n",
       "      <td>Adult</td>\n",
       "      <td>Joanito, 2022</td>\n",
       "      <td>Colorectal cancer, Stage III</td>\n",
       "      <td>2291</td>\n",
       "      <td>5210.0</td>\n",
       "      <td>10x 5' v1</td>\n",
       "      <td>0.0</td>\n",
       "    </tr>\n",
       "    <tr>\n",
       "      <th>KUL5_EXT127_TCACAAGAGATCCCGC-1-1</th>\n",
       "      <td>4633</td>\n",
       "      <td>0.0</td>\n",
       "      <td>EXT127</td>\n",
       "      <td>SC044</td>\n",
       "      <td>Tumor</td>\n",
       "      <td>KUL5</td>\n",
       "      <td>Epithelial</td>\n",
       "      <td>KUL5</td>\n",
       "      <td>Female</td>\n",
       "      <td>80.0</td>\n",
       "      <td>...</td>\n",
       "      <td>iCMS3</td>\n",
       "      <td>MSI-H</td>\n",
       "      <td>1</td>\n",
       "      <td>Adult</td>\n",
       "      <td>Joanito, 2022</td>\n",
       "      <td>Colorectal cancer, Stage III</td>\n",
       "      <td>4633</td>\n",
       "      <td>13969.0</td>\n",
       "      <td>10x 5' v1</td>\n",
       "      <td>0.0</td>\n",
       "    </tr>\n",
       "    <tr>\n",
       "      <th>KUL5_EXT127_TGGTTCCAGAGATGAG-1-1</th>\n",
       "      <td>6716</td>\n",
       "      <td>0.0</td>\n",
       "      <td>EXT127</td>\n",
       "      <td>SC044</td>\n",
       "      <td>Tumor</td>\n",
       "      <td>KUL5</td>\n",
       "      <td>Epithelial</td>\n",
       "      <td>KUL5</td>\n",
       "      <td>Female</td>\n",
       "      <td>80.0</td>\n",
       "      <td>...</td>\n",
       "      <td>iCMS3</td>\n",
       "      <td>MSI-H</td>\n",
       "      <td>1</td>\n",
       "      <td>Adult</td>\n",
       "      <td>Joanito, 2022</td>\n",
       "      <td>Colorectal cancer, Stage III</td>\n",
       "      <td>6716</td>\n",
       "      <td>29929.0</td>\n",
       "      <td>10x 5' v1</td>\n",
       "      <td>0.0</td>\n",
       "    </tr>\n",
       "  </tbody>\n",
       "</table>\n",
       "<p>170596 rows × 37 columns</p>\n",
       "</div>"
      ],
      "text/plain": [
       "                                    nFeature_RNA  pct_counts_mito Sample_ID  \\\n",
       "CRC16_MUX8563_AAACCTGCAAGCCGCT-1-0          2577              0.0   MUX8563   \n",
       "CRC16_MUX8563_AAACCTGTCTCGATGA-1-0          1531              0.0   MUX8563   \n",
       "CRC16_MUX8563_AAACCTGTCTCTGTCG-1-0          3083              0.0   MUX8563   \n",
       "CRC16_MUX8563_AAACGGGCAAGTTAAG-1-0          1686              0.0   MUX8563   \n",
       "CRC16_MUX8563_AAACGGGCAGTTCATG-1-0          4304              0.0   MUX8563   \n",
       "...                                          ...              ...       ...   \n",
       "KUL5_EXT127_GACTGCGAGTAGCGGT-1-1            5368              0.0    EXT127   \n",
       "KUL5_EXT127_GTGCATAGTTTGACAC-1-1            4430              0.0    EXT127   \n",
       "KUL5_EXT127_TATCAGGGTGTGAAAT-1-1            2291              0.0    EXT127   \n",
       "KUL5_EXT127_TCACAAGAGATCCCGC-1-1            4633              0.0    EXT127   \n",
       "KUL5_EXT127_TGGTTCCAGAGATGAG-1-1            6716              0.0    EXT127   \n",
       "\n",
       "                                   Donor_ID sample.origin dataset_x  \\\n",
       "CRC16_MUX8563_AAACCTGCAAGCCGCT-1-0  CRC2794         Tumor   CRC-SG1   \n",
       "CRC16_MUX8563_AAACCTGTCTCGATGA-1-0  CRC2794         Tumor   CRC-SG1   \n",
       "CRC16_MUX8563_AAACCTGTCTCTGTCG-1-0  CRC2794         Tumor   CRC-SG1   \n",
       "CRC16_MUX8563_AAACGGGCAAGTTAAG-1-0  CRC2794         Tumor   CRC-SG1   \n",
       "CRC16_MUX8563_AAACGGGCAGTTCATG-1-0  CRC2794         Tumor   CRC-SG1   \n",
       "...                                     ...           ...       ...   \n",
       "KUL5_EXT127_GACTGCGAGTAGCGGT-1-1      SC044         Tumor      KUL5   \n",
       "KUL5_EXT127_GTGCATAGTTTGACAC-1-1      SC044         Tumor      KUL5   \n",
       "KUL5_EXT127_TATCAGGGTGTGAAAT-1-1      SC044         Tumor      KUL5   \n",
       "KUL5_EXT127_TCACAAGAGATCCCGC-1-1      SC044         Tumor      KUL5   \n",
       "KUL5_EXT127_TGGTTCCAGAGATGAG-1-1      SC044         Tumor      KUL5   \n",
       "\n",
       "                                       Cell_Type dataset_y     Sex  \\\n",
       "CRC16_MUX8563_AAACCTGCAAGCCGCT-1-0  Plasma cells   CRC-SG1  Female   \n",
       "CRC16_MUX8563_AAACCTGTCTCGATGA-1-0       T cells   CRC-SG1  Female   \n",
       "CRC16_MUX8563_AAACCTGTCTCTGTCG-1-0  Plasma cells   CRC-SG1  Female   \n",
       "CRC16_MUX8563_AAACGGGCAAGTTAAG-1-0       T cells   CRC-SG1  Female   \n",
       "CRC16_MUX8563_AAACGGGCAGTTCATG-1-0   Mesenchymal   CRC-SG1  Female   \n",
       "...                                          ...       ...     ...   \n",
       "KUL5_EXT127_GACTGCGAGTAGCGGT-1-1      Epithelial      KUL5  Female   \n",
       "KUL5_EXT127_GTGCATAGTTTGACAC-1-1      Epithelial      KUL5  Female   \n",
       "KUL5_EXT127_TATCAGGGTGTGAAAT-1-1      Epithelial      KUL5  Female   \n",
       "KUL5_EXT127_TCACAAGAGATCCCGC-1-1      Epithelial      KUL5  Female   \n",
       "KUL5_EXT127_TGGTTCCAGAGATGAG-1-1      Epithelial      KUL5  Female   \n",
       "\n",
       "                                    Tumor Stage  ...   iCMS    msi batch  \\\n",
       "CRC16_MUX8563_AAACCTGCAAGCCGCT-1-0         65.0  ...    NaN    NaN     0   \n",
       "CRC16_MUX8563_AAACCTGTCTCGATGA-1-0         65.0  ...    NaN    NaN     0   \n",
       "CRC16_MUX8563_AAACCTGTCTCTGTCG-1-0         65.0  ...    NaN    NaN     0   \n",
       "CRC16_MUX8563_AAACGGGCAAGTTAAG-1-0         65.0  ...    NaN    NaN     0   \n",
       "CRC16_MUX8563_AAACGGGCAGTTCATG-1-0         65.0  ...    NaN    NaN     0   \n",
       "...                                         ...  ...    ...    ...   ...   \n",
       "KUL5_EXT127_GACTGCGAGTAGCGGT-1-1           80.0  ...  iCMS3  MSI-H     1   \n",
       "KUL5_EXT127_GTGCATAGTTTGACAC-1-1           80.0  ...  iCMS3  MSI-H     1   \n",
       "KUL5_EXT127_TATCAGGGTGTGAAAT-1-1           80.0  ...  iCMS3  MSI-H     1   \n",
       "KUL5_EXT127_TCACAAGAGATCCCGC-1-1           80.0  ...  iCMS3  MSI-H     1   \n",
       "KUL5_EXT127_TGGTTCCAGAGATGAG-1-1           80.0  ...  iCMS3  MSI-H     1   \n",
       "\n",
       "                                   Age_group     Study_name  \\\n",
       "CRC16_MUX8563_AAACCTGCAAGCCGCT-1-0     Adult  Joanito, 2022   \n",
       "CRC16_MUX8563_AAACCTGTCTCGATGA-1-0     Adult  Joanito, 2022   \n",
       "CRC16_MUX8563_AAACCTGTCTCTGTCG-1-0     Adult  Joanito, 2022   \n",
       "CRC16_MUX8563_AAACGGGCAAGTTAAG-1-0     Adult  Joanito, 2022   \n",
       "CRC16_MUX8563_AAACGGGCAGTTCATG-1-0     Adult  Joanito, 2022   \n",
       "...                                      ...            ...   \n",
       "KUL5_EXT127_GACTGCGAGTAGCGGT-1-1       Adult  Joanito, 2022   \n",
       "KUL5_EXT127_GTGCATAGTTTGACAC-1-1       Adult  Joanito, 2022   \n",
       "KUL5_EXT127_TATCAGGGTGTGAAAT-1-1       Adult  Joanito, 2022   \n",
       "KUL5_EXT127_TCACAAGAGATCCCGC-1-1       Adult  Joanito, 2022   \n",
       "KUL5_EXT127_TGGTTCCAGAGATGAG-1-1       Adult  Joanito, 2022   \n",
       "\n",
       "                                                       Diagnosis  \\\n",
       "CRC16_MUX8563_AAACCTGCAAGCCGCT-1-0  Colorectal cancer, Stage III   \n",
       "CRC16_MUX8563_AAACCTGTCTCGATGA-1-0  Colorectal cancer, Stage III   \n",
       "CRC16_MUX8563_AAACCTGTCTCTGTCG-1-0  Colorectal cancer, Stage III   \n",
       "CRC16_MUX8563_AAACGGGCAAGTTAAG-1-0  Colorectal cancer, Stage III   \n",
       "CRC16_MUX8563_AAACGGGCAGTTCATG-1-0  Colorectal cancer, Stage III   \n",
       "...                                                          ...   \n",
       "KUL5_EXT127_GACTGCGAGTAGCGGT-1-1    Colorectal cancer, Stage III   \n",
       "KUL5_EXT127_GTGCATAGTTTGACAC-1-1    Colorectal cancer, Stage III   \n",
       "KUL5_EXT127_TATCAGGGTGTGAAAT-1-1    Colorectal cancer, Stage III   \n",
       "KUL5_EXT127_TCACAAGAGATCCCGC-1-1    Colorectal cancer, Stage III   \n",
       "KUL5_EXT127_TGGTTCCAGAGATGAG-1-1    Colorectal cancer, Stage III   \n",
       "\n",
       "                                   n_genes_by_counts total_counts  \\\n",
       "CRC16_MUX8563_AAACCTGCAAGCCGCT-1-0              2577      29514.0   \n",
       "CRC16_MUX8563_AAACCTGTCTCGATGA-1-0              1531       3259.0   \n",
       "CRC16_MUX8563_AAACCTGTCTCTGTCG-1-0              3083      71212.0   \n",
       "CRC16_MUX8563_AAACGGGCAAGTTAAG-1-0              1686       3771.0   \n",
       "CRC16_MUX8563_AAACGGGCAGTTCATG-1-0              4304      16948.0   \n",
       "...                                              ...          ...   \n",
       "KUL5_EXT127_GACTGCGAGTAGCGGT-1-1                5368      20711.0   \n",
       "KUL5_EXT127_GTGCATAGTTTGACAC-1-1                4430      11799.0   \n",
       "KUL5_EXT127_TATCAGGGTGTGAAAT-1-1                2291       5210.0   \n",
       "KUL5_EXT127_TCACAAGAGATCCCGC-1-1                4633      13969.0   \n",
       "KUL5_EXT127_TGGTTCCAGAGATGAG-1-1                6716      29929.0   \n",
       "\n",
       "                                   Library_Preparation_Protocol  \\\n",
       "CRC16_MUX8563_AAACCTGCAAGCCGCT-1-0                    10x 5' v1   \n",
       "CRC16_MUX8563_AAACCTGTCTCGATGA-1-0                    10x 5' v1   \n",
       "CRC16_MUX8563_AAACCTGTCTCTGTCG-1-0                    10x 5' v1   \n",
       "CRC16_MUX8563_AAACGGGCAAGTTAAG-1-0                    10x 5' v1   \n",
       "CRC16_MUX8563_AAACGGGCAGTTCATG-1-0                    10x 5' v1   \n",
       "...                                                         ...   \n",
       "KUL5_EXT127_GACTGCGAGTAGCGGT-1-1                      10x 5' v1   \n",
       "KUL5_EXT127_GTGCATAGTTTGACAC-1-1                      10x 5' v1   \n",
       "KUL5_EXT127_TATCAGGGTGTGAAAT-1-1                      10x 5' v1   \n",
       "KUL5_EXT127_TCACAAGAGATCCCGC-1-1                      10x 5' v1   \n",
       "KUL5_EXT127_TGGTTCCAGAGATGAG-1-1                      10x 5' v1   \n",
       "\n",
       "                                   total_counts_mito  \n",
       "CRC16_MUX8563_AAACCTGCAAGCCGCT-1-0               0.0  \n",
       "CRC16_MUX8563_AAACCTGTCTCGATGA-1-0               0.0  \n",
       "CRC16_MUX8563_AAACCTGTCTCTGTCG-1-0               0.0  \n",
       "CRC16_MUX8563_AAACGGGCAAGTTAAG-1-0               0.0  \n",
       "CRC16_MUX8563_AAACGGGCAGTTCATG-1-0               0.0  \n",
       "...                                              ...  \n",
       "KUL5_EXT127_GACTGCGAGTAGCGGT-1-1                 0.0  \n",
       "KUL5_EXT127_GTGCATAGTTTGACAC-1-1                 0.0  \n",
       "KUL5_EXT127_TATCAGGGTGTGAAAT-1-1                 0.0  \n",
       "KUL5_EXT127_TCACAAGAGATCCCGC-1-1                 0.0  \n",
       "KUL5_EXT127_TGGTTCCAGAGATGAG-1-1                 0.0  \n",
       "\n",
       "[170596 rows x 37 columns]"
      ]
     },
     "execution_count": 13,
     "metadata": {},
     "output_type": "execute_result"
    }
   ],
   "source": [
    "adata.obs"
   ]
  },
  {
   "cell_type": "code",
   "execution_count": 14,
   "metadata": {},
   "outputs": [],
   "source": [
    "adata.obs.rename(columns = {'Cell Type': 'Cell_Type'}, inplace = True)"
   ]
  },
  {
   "cell_type": "markdown",
   "metadata": {},
   "source": [
    "### Run Integration with scVI"
   ]
  },
  {
   "cell_type": "code",
   "execution_count": 15,
   "metadata": {},
   "outputs": [],
   "source": [
    "adata = adata.copy()\n",
    "scvi.model.SCVI.setup_anndata(adata, \n",
    "                              layer = \"counts\", \n",
    "                              labels_key = \"Cell_Type\", \n",
    "                              categorical_covariate_keys = [\"Sample_ID\"])"
   ]
  },
  {
   "cell_type": "code",
   "execution_count": 16,
   "metadata": {},
   "outputs": [],
   "source": [
    "scvi_model = scvi.model.SCVI(adata, n_latent = 50, n_layers = 3, dispersion = 'gene-batch', gene_likelihood = 'nb')"
   ]
  },
  {
   "cell_type": "code",
   "execution_count": 17,
   "metadata": {},
   "outputs": [
    {
     "name": "stderr",
     "output_type": "stream",
     "text": [
      "GPU available: True (mps), used: False\n",
      "TPU available: False, using: 0 TPU cores\n",
      "IPU available: False, using: 0 IPUs\n",
      "HPU available: False, using: 0 HPUs\n"
     ]
    },
    {
     "name": "stdout",
     "output_type": "stream",
     "text": [
      "Epoch 47/47: 100%|██████████| 47/47 [31:43<00:00, 40.54s/it, loss=1.04e+03, v_num=1]"
     ]
    },
    {
     "name": "stderr",
     "output_type": "stream",
     "text": [
      "`Trainer.fit` stopped: `max_epochs=47` reached.\n"
     ]
    },
    {
     "name": "stdout",
     "output_type": "stream",
     "text": [
      "Epoch 47/47: 100%|██████████| 47/47 [31:43<00:00, 40.49s/it, loss=1.04e+03, v_num=1]\n"
     ]
    }
   ],
   "source": [
    "scvi_model.train()"
   ]
  },
  {
   "cell_type": "code",
   "execution_count": 18,
   "metadata": {},
   "outputs": [],
   "source": [
    "adata.obsm[\"X_scVI\"] = scvi_model.get_latent_representation()"
   ]
  },
  {
   "cell_type": "markdown",
   "metadata": {},
   "source": [
    "### Integration with scANVI"
   ]
  },
  {
   "cell_type": "code",
   "execution_count": 19,
   "metadata": {},
   "outputs": [],
   "source": [
    "scanvi_model = scvi.model.SCANVI.from_scvi_model(\n",
    "    scvi_model,\n",
    "    adata=adata,\n",
    "    labels_key=\"Cell_Type\",\n",
    "    unlabeled_category=\"Unknown\",\n",
    ")"
   ]
  },
  {
   "cell_type": "code",
   "execution_count": 20,
   "metadata": {},
   "outputs": [
    {
     "name": "stdout",
     "output_type": "stream",
     "text": [
      "\u001b[34mINFO    \u001b[0m Training for \u001b[1;36m10\u001b[0m epochs.                                                                                   \n"
     ]
    },
    {
     "name": "stderr",
     "output_type": "stream",
     "text": [
      "GPU available: True (mps), used: False\n",
      "TPU available: False, using: 0 TPU cores\n",
      "IPU available: False, using: 0 IPUs\n",
      "HPU available: False, using: 0 HPUs\n"
     ]
    },
    {
     "name": "stdout",
     "output_type": "stream",
     "text": [
      "Epoch 10/10: 100%|██████████| 10/10 [10:47<00:00, 64.92s/it, loss=1.14e+03, v_num=1]"
     ]
    },
    {
     "name": "stderr",
     "output_type": "stream",
     "text": [
      "`Trainer.fit` stopped: `max_epochs=10` reached.\n"
     ]
    },
    {
     "name": "stdout",
     "output_type": "stream",
     "text": [
      "Epoch 10/10: 100%|██████████| 10/10 [10:47<00:00, 64.79s/it, loss=1.14e+03, v_num=1]\n"
     ]
    }
   ],
   "source": [
    "scanvi_model.train()"
   ]
  },
  {
   "cell_type": "code",
   "execution_count": 21,
   "metadata": {},
   "outputs": [],
   "source": [
    "adata.obsm[\"X_scANVI\"] = scanvi_model.get_latent_representation(adata)"
   ]
  },
  {
   "cell_type": "code",
   "execution_count": 22,
   "metadata": {},
   "outputs": [],
   "source": [
    "adata.write('/Users/anna.maguza/Desktop/Data/Processed_datasets/1_QC/Joanito_scVI_scANVI.h5ad')"
   ]
  },
  {
   "cell_type": "markdown",
   "metadata": {},
   "source": [
    "### UMAP calculation"
   ]
  },
  {
   "cell_type": "code",
   "execution_count": 23,
   "metadata": {},
   "outputs": [
    {
     "name": "stdout",
     "output_type": "stream",
     "text": [
      "computing neighbors\n",
      "    finished: added to `.uns['neighbors']`\n",
      "    `.obsp['distances']`, distances for each pair of neighbors\n",
      "    `.obsp['connectivities']`, weighted adjacency matrix (0:00:36)\n"
     ]
    }
   ],
   "source": [
    "sc.pp.neighbors(adata, use_rep = \"X_scANVI\", n_neighbors = 50, metric = 'minkowski')"
   ]
  },
  {
   "cell_type": "code",
   "execution_count": 24,
   "metadata": {},
   "outputs": [
    {
     "name": "stdout",
     "output_type": "stream",
     "text": [
      "computing UMAP\n",
      "    finished: added\n",
      "    'X_umap', UMAP coordinates (adata.obsm) (0:01:50)\n"
     ]
    }
   ],
   "source": [
    "sc.tl.umap(adata, min_dist = 0.4, spread = 4, random_state = 1712)"
   ]
  },
  {
   "cell_type": "code",
   "execution_count": 51,
   "metadata": {},
   "outputs": [],
   "source": [
    "adata.write('/Users/anna.maguza/Desktop/Data/Processed_datasets/1_QC/Joanito_scVI_scANVI.h5ad')"
   ]
  },
  {
   "cell_type": "code",
   "execution_count": 26,
   "metadata": {},
   "outputs": [
    {
     "data": {
      "text/plain": [
       "<bound method AnnData.obs_keys of AnnData object with n_obs × n_vars = 170596 × 5000\n",
       "    obs: 'nFeature_RNA', 'pct_counts_mito', 'Sample_ID', 'Donor_ID', 'sample.origin', 'dataset_x', 'Cell_Type', 'dataset_y', 'Sex', 'Tumor Stage', 'MSS/MSI', 'Location', 'Side', 'Group Stage', 'Stage TNM', 'iCMS.transcriptomic', 'iCMS.inferCNV', 'KRAS', 'BRAF', 'TP53', 'APC', 'PIK3CA', 'LymphNode', 'Normal', 'Tumor', 'CMS', 'cell_ID', 'iCMS', 'msi', 'batch', 'Age_group', 'Study_name', 'Diagnosis', 'n_genes_by_counts', 'total_counts', 'Library_Preparation_Protocol', 'total_counts_mito', '_scvi_batch', '_scvi_labels'\n",
       "    var: 'feature_types', 'genome', 'n_cells_by_counts', 'mean_counts', 'pct_dropout_by_counts', 'total_counts', 'mito', 'highly_variable', 'highly_variable_rank', 'means', 'variances', 'variances_norm', 'highly_variable_nbatches'\n",
       "    uns: 'hvg', '_scvi_uuid', '_scvi_manager_uuid', 'neighbors', 'umap'\n",
       "    obsm: '_scvi_extra_categorical_covs', 'X_scVI', 'X_scANVI', 'X_umap'\n",
       "    layers: 'counts'\n",
       "    obsp: 'distances', 'connectivities'>"
      ]
     },
     "execution_count": 26,
     "metadata": {},
     "output_type": "execute_result"
    }
   ],
   "source": [
    "adata.obs_keys"
   ]
  },
  {
   "cell_type": "code",
   "execution_count": null,
   "metadata": {},
   "outputs": [],
   "source": [
    "adata.obs"
   ]
  },
  {
   "cell_type": "code",
   "execution_count": null,
   "metadata": {},
   "outputs": [],
   "source": [
    "sc.set_figure_params(dpi=300)\n",
    "sc.pl.umap(adata, frameon = False, color = ['Cell_Type', 'Diagnosis', 'Donor_ID', 'Location', 'Sex', 'Library_Preparation_Protocol'], size = 1, legend_fontsize = 5, ncols = 3)"
   ]
  },
  {
   "cell_type": "code",
   "execution_count": null,
   "metadata": {},
   "outputs": [],
   "source": [
    "sc.set_figure_params(dpi=300)\n",
    "sc.pl.umap(adata, frameon = False, color = ['MSS/MSI', 'KRAS', 'BRAF', 'TP53', 'APC', 'PIK3CA'], size = 1, legend_fontsize = 5, ncols = 3)"
   ]
  },
  {
   "cell_type": "code",
   "execution_count": 47,
   "metadata": {},
   "outputs": [],
   "source": [
    "adata.obs['predicted_doublets'] = adata.obs['predicted_doublets'].astype(str)"
   ]
  },
  {
   "cell_type": "code",
   "execution_count": 4,
   "metadata": {},
   "outputs": [],
   "source": [
    "adata_with_mito = sc.read('/Users/anna.maguza/Desktop/Data/Gut_project/Joanito_cancer/anndata/Joanito_raw_anndata_tumor_cells.h5ad')"
   ]
  },
  {
   "cell_type": "code",
   "execution_count": 5,
   "metadata": {},
   "outputs": [],
   "source": [
    "# Merge adata_with_mito.obs['percent.mt'] with adata.obs by index\n",
    "adata.obs = adata.obs.merge(adata_with_mito.obs['percent.mt'], left_index = True, right_index = True)"
   ]
  },
  {
   "cell_type": "code",
   "execution_count": null,
   "metadata": {},
   "outputs": [],
   "source": [
    "sc.set_figure_params(dpi=300)\n",
    "sc.pl.umap(adata, frameon = False, color = ['n_genes_by_counts', 'total_counts', 'percent.mt', 'predicted_doublets'], size = 1, legend_fontsize = 5, ncols = 4)"
   ]
  },
  {
   "cell_type": "code",
   "execution_count": 3,
   "metadata": {},
   "outputs": [],
   "source": [
    "input = '/Users/anna.maguza/Desktop/Data/Processed_datasets/1_QC/Joanito_scVI_scANVI.h5ad'\n",
    "adata = sc.read(input)"
   ]
  },
  {
   "cell_type": "code",
   "execution_count": null,
   "metadata": {},
   "outputs": [],
   "source": [
    "sc.set_figure_params(dpi=300)\n",
    "sc.pl.umap(adata, color=['n_genes_by_counts', 'total_counts', 'percent.mt', 'predicted_doublets'],\n",
    "             color_map = \"RdPu\", size = 1, frameon = False, ncols=5)"
   ]
  },
  {
   "cell_type": "code",
   "execution_count": null,
   "metadata": {},
   "outputs": [],
   "source": [
    "sc.set_figure_params(dpi=300)\n",
    "sc.pl.umap(adata, color=['Cell_Type'],\n",
    "             color_map = \"RdPu\", size = 1, frameon = False, ncols=5)"
   ]
  }
 ],
 "metadata": {
  "kernelspec": {
   "display_name": "scvi_env",
   "language": "python",
   "name": "python3"
  },
  "language_info": {
   "codemirror_mode": {
    "name": "ipython",
    "version": 3
   },
   "file_extension": ".py",
   "mimetype": "text/x-python",
   "name": "python",
   "nbconvert_exporter": "python",
   "pygments_lexer": "ipython3",
   "version": "3.9.16"
  },
  "orig_nbformat": 4
 },
 "nbformat": 4,
 "nbformat_minor": 2
}
