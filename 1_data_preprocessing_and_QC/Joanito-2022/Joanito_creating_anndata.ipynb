{
 "cells": [
  {
   "cell_type": "markdown",
   "metadata": {},
   "source": [
    "## Notebook for Joanito-2022 data processing \n",
    "### Developed by: Anna Maguza\n",
    "\n",
    "### Institute of Computational Biology - Computational Health Centre - Hemlholtz Munich\n",
    "\n",
    "### 18 October 2022"
   ]
  },
  {
   "cell_type": "markdown",
   "metadata": {},
   "source": [
    "#### Load packages"
   ]
  },
  {
   "cell_type": "code",
   "execution_count": 1,
   "metadata": {},
   "outputs": [],
   "source": [
    "import numpy as np\n",
    "import pandas as pd\n",
    "import scanpy as sc\n",
    "import anndata as an\n",
    "import h5py"
   ]
  },
  {
   "cell_type": "code",
   "execution_count": 2,
   "metadata": {},
   "outputs": [],
   "source": [
    "import scrublet"
   ]
  },
  {
   "cell_type": "code",
   "execution_count": 3,
   "metadata": {},
   "outputs": [],
   "source": [
    "def X_is_raw(adata):\n",
    "    return np.array_equal(adata.X.sum(axis=0).astype(int), adata.X.sum(axis=0))"
   ]
  },
  {
   "cell_type": "markdown",
   "metadata": {},
   "source": [
    "#### Setup Cells"
   ]
  },
  {
   "cell_type": "code",
   "execution_count": 4,
   "metadata": {},
   "outputs": [],
   "source": [
    "%matplotlib inline"
   ]
  },
  {
   "cell_type": "code",
   "execution_count": 5,
   "metadata": {},
   "outputs": [
    {
     "name": "stderr",
     "output_type": "stream",
     "text": [
      "/Users/anna.maguza/miniconda3/envs/scanpy_env/lib/python3.9/site-packages/tqdm/auto.py:21: TqdmWarning: IProgress not found. Please update jupyter and ipywidgets. See https://ipywidgets.readthedocs.io/en/stable/user_install.html\n",
      "  from .autonotebook import tqdm as notebook_tqdm\n"
     ]
    },
    {
     "name": "stdout",
     "output_type": "stream",
     "text": [
      "scanpy==1.9.3 anndata==0.8.0 umap==0.5.3 numpy==1.23.5 scipy==1.9.1 pandas==1.3.5 scikit-learn==1.2.2 statsmodels==0.13.5 pynndescent==0.5.8\n"
     ]
    }
   ],
   "source": [
    "sc.settings.verbosity = 3             # verbosity: errors (0), warnings (1), info (2), hints (3)\n",
    "sc.logging.print_header()\n",
    "sc.settings.set_figure_params(dpi=80, facecolor='white')"
   ]
  },
  {
   "cell_type": "markdown",
   "metadata": {},
   "source": [
    "#### Upload Data"
   ]
  },
  {
   "cell_type": "code",
   "execution_count": 6,
   "metadata": {},
   "outputs": [],
   "source": [
    "#Data Upload (csv)\n",
    "Epithelial_meta = pd.read_csv('/Users/anna.maguza/Desktop/Data/Gut_project/Joanito_cancer/Joanito_cancer_dataset/Epithelial_metadata.csv', index_col=[1])\n",
    "Nonepithelial_meta = pd.read_csv('/Users/anna.maguza/Desktop/Data/Gut_project/Joanito_cancer/Joanito_cancer_dataset/NonEpithelial_metadata.csv', index_col=[1])"
   ]
  },
  {
   "cell_type": "code",
   "execution_count": 7,
   "metadata": {},
   "outputs": [],
   "source": [
    "#Data Upload (csv)\n",
    "Patientmeta = pd.read_csv('/Users/anna.maguza/Desktop/Data/Gut_project/Joanito_cancer/Joanito_cancer_dataset/patient_clinical_information.csv', index_col=[1], encoding='cp1252')"
   ]
  },
  {
   "cell_type": "markdown",
   "metadata": {},
   "source": [
    "### For anndata==0.8.0 and higher"
   ]
  },
  {
   "cell_type": "code",
   "execution_count": 8,
   "metadata": {},
   "outputs": [],
   "source": [
    "def read_v3_10x_h5_mod(filename, *, start=None):\n",
    "    \"\"\"\n",
    "    Read hdf5 file from Cell Ranger v3 or later versions.\n",
    "    \"\"\"\n",
    "    with h5py.File(str(filename), 'r') as f:\n",
    "        try:\n",
    "            dsets = {}\n",
    "            sc.readwrite._collect_datasets(dsets, f[\"matrix\"])\n",
    "            from scipy.sparse import csr_matrix\n",
    "\n",
    "            M, N = dsets['shape']\n",
    "            data = dsets['data']\n",
    "            if dsets['data'].dtype == np.dtype('int32'):\n",
    "                data = dsets['data'].view('float32')\n",
    "                data[:] = dsets['data']\n",
    "            matrix = csr_matrix(\n",
    "                (data, dsets['indices'], dsets['indptr']),\n",
    "                shape=(N, M),\n",
    "            )\n",
    "            adata = an.AnnData(\n",
    "                matrix,\n",
    "                obs=dict(obs_names=dsets['barcodes'].astype(str)),\n",
    "                var=dict(\n",
    "                    var_names=dsets['name'].astype(str),\n",
    "                    feature_types=dsets['feature_type'].astype(str),\n",
    "                    genome=dsets['genome'].astype(str),\n",
    "                ),\n",
    "            )\n",
    "            return adata\n",
    "        except KeyError:\n",
    "            raise Exception('File is missing one or more required datasets.')"
   ]
  },
  {
   "cell_type": "markdown",
   "metadata": {},
   "source": [
    "### For scanpy==1.6.0 and anndata==0.7.4 "
   ]
  },
  {
   "cell_type": "code",
   "execution_count": null,
   "metadata": {},
   "outputs": [],
   "source": [
    "def _collect_datasets(dsets: dict, group: h5py.Group):\n",
    "    for k, v in group.items():\n",
    "        if isinstance(v, h5py.Dataset):\n",
    "            dsets[k] = v[()]\n",
    "        else:\n",
    "            _collect_datasets(dsets, v)"
   ]
  },
  {
   "cell_type": "code",
   "execution_count": null,
   "metadata": {},
   "outputs": [],
   "source": [
    "def read_v3_10x_h5_mod2(filename, *, start=None):\n",
    "    \"\"\"\n",
    "    Read hdf5 file from Cell Ranger v3 or later versions.\n",
    "    \"\"\"\n",
    "    with h5py.File(str(filename), 'r') as f:\n",
    "        try:\n",
    "            dsets = {}\n",
    "            _collect_datasets(dsets, f[\"matrix\"])\n",
    "\n",
    "            from scipy.sparse import csr_matrix\n",
    "\n",
    "            M, N = dsets['shape']\n",
    "            data = dsets['data']\n",
    "            if dsets['data'].dtype == np.dtype('int32'):\n",
    "                data = dsets['data'].view('float32')\n",
    "                data[:] = dsets['data']\n",
    "            matrix = csr_matrix(\n",
    "                (data, dsets['indices'], dsets['indptr']),\n",
    "                shape=(N, M),\n",
    "            )\n",
    "            adata = an.AnnData(\n",
    "                matrix,\n",
    "                obs=dict(obs_names=dsets['barcodes'].astype(str)),\n",
    "                var=dict(\n",
    "                    var_names=dsets['name'].astype(str),\n",
    "                    feature_types=dsets['feature_type'].astype(str),\n",
    "                    genome=dsets['genome'].astype(str),\n",
    "                ),\n",
    "            )\n",
    "            return adata\n",
    "        except KeyError:\n",
    "            raise Exception('File is missing one or more required datasets.')"
   ]
  },
  {
   "cell_type": "code",
   "execution_count": 9,
   "metadata": {},
   "outputs": [
    {
     "name": "stderr",
     "output_type": "stream",
     "text": [
      "/var/folders/gb/wwnzrh015q9dns5cmsc3xcjsxglkqz/T/ipykernel_59657/1635666716.py:20: FutureWarning: X.dtype being converted to np.float32 from float64. In the next version of anndata (0.9) conversion will not be automatic. Pass dtype explicitly to avoid this warning. Pass `AnnData(X, dtype=X.dtype, ...)` to get the future behavour.\n",
      "  adata = an.AnnData(\n"
     ]
    }
   ],
   "source": [
    "# Please use read_v3_10x_h5_mod2 for earlier scanpy and anndata versions and read_v3_10x_h5_mod for anndata later than 0.8.0\n",
    "Epithelian_data = read_v3_10x_h5_mod('/Users/anna.maguza/Desktop/Data/Gut_project/Joanito_cancer/Joanito_cancer_dataset/Epithelial_Count_matrix.h5')"
   ]
  },
  {
   "cell_type": "code",
   "execution_count": 10,
   "metadata": {},
   "outputs": [
    {
     "name": "stderr",
     "output_type": "stream",
     "text": [
      "/var/folders/gb/wwnzrh015q9dns5cmsc3xcjsxglkqz/T/ipykernel_59657/1635666716.py:20: FutureWarning: X.dtype being converted to np.float32 from float64. In the next version of anndata (0.9) conversion will not be automatic. Pass dtype explicitly to avoid this warning. Pass `AnnData(X, dtype=X.dtype, ...)` to get the future behavour.\n",
      "  adata = an.AnnData(\n"
     ]
    }
   ],
   "source": [
    "# Please use read_v3_10x_h5_mod2 for earlier scanpy and anndata versions and read_v3_10x_h5_mod for anndata later than 0.8.0\n",
    "Nonepithelian_data = read_v3_10x_h5_mod('/Users/anna.maguza/Desktop/Data/Gut_project/Joanito_cancer/Joanito_cancer_dataset/NonEpithelial_Count_matrix.h5')"
   ]
  },
  {
   "cell_type": "markdown",
   "metadata": {},
   "source": [
    "### Create metadata"
   ]
  },
  {
   "cell_type": "code",
   "execution_count": 11,
   "metadata": {},
   "outputs": [],
   "source": [
    "# Merge Epithelial_meta and Patientmeta by patient.ID \n",
    "Epithelial_meta = Epithelial_meta.merge(Patientmeta, left_on='patient.ID', right_on='patient.ID', how='left')\n",
    "\n",
    "# Merge Nonepithelial_meta and Patientmeta by patient.ID \n",
    "Nonepithelial_meta = Nonepithelial_meta.merge(Patientmeta, left_on='patient.ID', right_on='patient.ID', how='left')"
   ]
  },
  {
   "attachments": {},
   "cell_type": "markdown",
   "metadata": {},
   "source": [
    "### Create epithelial anndata"
   ]
  },
  {
   "cell_type": "code",
   "execution_count": 12,
   "metadata": {},
   "outputs": [],
   "source": [
    "epithelial_anndata = an.AnnData(X = Epithelian_data.X, obs = Epithelian_data.obs, var=Epithelian_data.var)"
   ]
  },
  {
   "cell_type": "code",
   "execution_count": 13,
   "metadata": {},
   "outputs": [],
   "source": [
    "# Make 'cell.ID' column as index in Epithelial_meta\n",
    "Epithelial_meta = Epithelial_meta.set_index('cell.ID')\n",
    "\n",
    "#Copy index column as a separate column\n",
    "Epithelial_meta['cell_ID'] = Epithelial_meta.index"
   ]
  },
  {
   "cell_type": "code",
   "execution_count": 14,
   "metadata": {},
   "outputs": [],
   "source": [
    "# Concatenate epithelial_anndata.obs and Epithelial_meta by index\n",
    "epithelial_anndata.obs = pd.concat([epithelial_anndata.obs, Epithelial_meta], axis=1)"
   ]
  },
  {
   "attachments": {},
   "cell_type": "markdown",
   "metadata": {},
   "source": [
    "### Create non-epithelial anndata"
   ]
  },
  {
   "cell_type": "code",
   "execution_count": 15,
   "metadata": {},
   "outputs": [],
   "source": [
    "nonepithelial_anndata = an.AnnData(X = Nonepithelian_data.X, obs = Nonepithelian_data.obs, var=Nonepithelian_data.var)"
   ]
  },
  {
   "cell_type": "code",
   "execution_count": 16,
   "metadata": {},
   "outputs": [],
   "source": [
    "# Make 'cell.ID' column as index in Epithelial_meta\n",
    "Nonepithelial_meta = Nonepithelial_meta.set_index('cell.ID')\n",
    "\n",
    "#Copy index column as a separate column\n",
    "Nonepithelial_meta['cell_ID'] = Nonepithelial_meta.index"
   ]
  },
  {
   "cell_type": "code",
   "execution_count": 17,
   "metadata": {},
   "outputs": [],
   "source": [
    "# Concatenate epithelial_anndata.obs and Epithelial_meta by index\n",
    "nonepithelial_anndata.obs = pd.concat([nonepithelial_anndata.obs, Nonepithelial_meta], axis=1)"
   ]
  },
  {
   "cell_type": "markdown",
   "metadata": {},
   "source": [
    "#### Preparing anndata file (var and X)"
   ]
  },
  {
   "cell_type": "code",
   "execution_count": 18,
   "metadata": {},
   "outputs": [
    {
     "name": "stderr",
     "output_type": "stream",
     "text": [
      "/Users/anna.maguza/miniconda3/envs/scanpy_env/lib/python3.9/site-packages/anndata/_core/anndata.py:1785: FutureWarning: X.dtype being converted to np.float32 from float64. In the next version of anndata (0.9) conversion will not be automatic. Pass dtype explicitly to avoid this warning. Pass `AnnData(X, dtype=X.dtype, ...)` to get the future behavour.\n",
      "  [AnnData(sparse.csr_matrix(a.shape), obs=a.obs) for a in all_adatas],\n"
     ]
    }
   ],
   "source": [
    "#Concatenate 2 anndata files (nonepithelial and epithelian)\n",
    "Joanito_2022 = nonepithelial_anndata.concatenate(epithelial_anndata)"
   ]
  },
  {
   "cell_type": "code",
   "execution_count": 19,
   "metadata": {},
   "outputs": [],
   "source": [
    "del Nonepithelian_data, Epithelian_data, epithelial_anndata, nonepithelial_anndata"
   ]
  },
  {
   "cell_type": "code",
   "execution_count": 20,
   "metadata": {},
   "outputs": [
    {
     "data": {
      "text/plain": [
       "True"
      ]
     },
     "execution_count": 20,
     "metadata": {},
     "output_type": "execute_result"
    }
   ],
   "source": [
    "X_is_raw(Joanito_2022)"
   ]
  },
  {
   "cell_type": "code",
   "execution_count": 21,
   "metadata": {},
   "outputs": [],
   "source": [
    "Joanito_2022.raw = Joanito_2022"
   ]
  },
  {
   "attachments": {},
   "cell_type": "markdown",
   "metadata": {},
   "source": [
    "#### Rename obs"
   ]
  },
  {
   "cell_type": "code",
   "execution_count": 22,
   "metadata": {},
   "outputs": [],
   "source": [
    "# Rename columns in obs \n",
    "Joanito_2022.obs = Joanito_2022.obs.rename(columns={\"sample.ID\": \"Sample_ID\"})\n",
    "Joanito_2022.obs = Joanito_2022.obs.rename(columns={\"patient.ID\": \"Donor_ID\"})\n",
    "Joanito_2022.obs = Joanito_2022.obs.rename(columns={\"cell.type\": \"Cell_Type\"})\n",
    "#Joanito_2022s.obs = Joanito_2022.obs.rename(columns={\"sample.origin\": \"Diagnosis\"})\n",
    "Joanito_2022.obs = Joanito_2022.obs.rename(columns={\"Sidedness\": \"Side\"})\n",
    "Joanito_2022.obs = Joanito_2022.obs.rename(columns={\"Site\": \"Location\"})\n",
    "Joanito_2022.obs = Joanito_2022.obs.rename(columns={\"Age at recruitment\": \"Tumor Stage\"})\n",
    "Joanito_2022.obs = Joanito_2022.obs.rename(columns={\"Gender\": \"Sex\"})\n",
    "Joanito_2022.obs['Age_group'] = 'Adult'\n",
    "Joanito_2022.obs['Study_name'] = 'Joanito, 2022'\n",
    "#Joanito_2022.obs = Joanito_2022.obs.rename(columns={\"percent.mt\": \"pct_counts_mito\"})\n",
    "#del Joanito_2022.obs.obs['nFeature_RNA']"
   ]
  },
  {
   "cell_type": "code",
   "execution_count": 23,
   "metadata": {},
   "outputs": [],
   "source": [
    "def diagnosis_mapping(label):\n",
    "    if label.startswith('T1'):\n",
    "        return 'Colorectal cancer, Stage I'\n",
    "    elif label.startswith('T2'):\n",
    "        return 'Colorectal cancer, Stage II'\n",
    "    elif label.startswith('T3'):\n",
    "        return 'Colorectal cancer, Stage III'\n",
    "    elif label.startswith('T4'):\n",
    "        return 'Colorectal cancer, Stage IV'\n",
    "    elif label.startswith('mpT3'):\n",
    "        return 'Colorectal cancer, Stage mpIII'\n",
    "    elif label.startswith('pT1'):\n",
    "        return 'Colorectal cancer, Stage pI'\n",
    "    elif label.startswith('pT2'):\n",
    "        return 'Colorectal cancer, Stage pII'\n",
    "    elif label.startswith('pT3'):\n",
    "        return 'Colorectal cancer, Stage pIII'\n",
    "    elif label.startswith('pT4'):\n",
    "        return 'Colorectal cancer, Stage pIV'\n",
    "    elif label.startswith('ypT3'):\n",
    "        return 'Colorectal cancer, Stage ypIII'\n",
    "    else:\n",
    "        return label  # leave the label unchanged if it doesn't match any of the above\n",
    "    \n",
    "\n",
    "Joanito_2022.obs['Diagnosis'] = Joanito_2022.obs['Stage TNM']\n",
    "\n",
    "Joanito_2022.obs['Diagnosis'] = Joanito_2022.obs['Diagnosis'].apply(diagnosis_mapping)\n"
   ]
  },
  {
   "cell_type": "code",
   "execution_count": 24,
   "metadata": {},
   "outputs": [
    {
     "data": {
      "text/plain": [
       "Colorectal cancer, Stage III      212615\n",
       "Colorectal cancer, Stage IV       113542\n",
       "Colorectal cancer, Stage pIII      16645\n",
       "Colorectal cancer, Stage pIV        8696\n",
       "Colorectal cancer, Stage II         7062\n",
       "Colorectal cancer, Stage pI         4224\n",
       "Colorectal cancer, Stage pII        3159\n",
       "Colorectal cancer, Stage mpIII      3034\n",
       "Colorectal cancer, Stage ypIII      2769\n",
       "Colorectal cancer, Stage I          1312\n",
       "Name: Diagnosis, dtype: int64"
      ]
     },
     "execution_count": 24,
     "metadata": {},
     "output_type": "execute_result"
    }
   ],
   "source": [
    "Joanito_2022.obs['Diagnosis'].value_counts()"
   ]
  },
  {
   "cell_type": "code",
   "execution_count": 25,
   "metadata": {},
   "outputs": [],
   "source": [
    "Joanito_2022.obs['Sex'].replace({'M': 'Male', \n",
    "                                        'F': 'Female'}, inplace=True)"
   ]
  },
  {
   "cell_type": "code",
   "execution_count": 26,
   "metadata": {},
   "outputs": [],
   "source": [
    "Joanito_2022.obs['Cell_Type'].replace({'T_NK': 'T cells', \n",
    "                                        'PlasmaB': 'Plasma cells',\n",
    "                                        'Fibroblast': 'Mesenchymal',\n",
    "                                        'B': 'B cells'}, inplace=True)"
   ]
  },
  {
   "cell_type": "code",
   "execution_count": 27,
   "metadata": {},
   "outputs": [],
   "source": [
    "# Calculate quality metrics for cancer dataset\n",
    "sc.pp.calculate_qc_metrics(Joanito_2022, percent_top=None, log1p=False, inplace=True)"
   ]
  },
  {
   "cell_type": "code",
   "execution_count": 28,
   "metadata": {},
   "outputs": [],
   "source": [
    "# Make a new column \"Library_Preparation_Protocol\" in Cancer_adata_raw.obs and if Cancer_adata_raw.obs[dataset_x] == 'SMC' then fill it with \"10X 3' v2\"\n",
    "# if Cancer_adata_raw.obs[dataset_x] == 'CRC-SG2' then fill it with \"10X 3' v3\"\n",
    "# if Cancer_adata_raw.obs[dataset_x] =='KUL3' then fill it with \"10X 3' v2\"\n",
    "# if Cancer_adata_raw.obs[dataset_x] =='KUL5' then fill it with \"5'\"\n",
    "# if dCancer_adata_raw.obs[dataset_x] == 'CRC-SG1' then fill it with \"5'\"\n",
    "\n",
    "# Create a new column \"Library_Preparation_Protocol\" in Cancer_adata_raw.obs\n",
    "Joanito_2022.obs['Library_Preparation_Protocol'] = \"\"\n",
    "\n",
    "# Iterate over each row and assign the corresponding protocol value\n",
    "for idx, row in Joanito_2022.obs.iterrows():\n",
    "    dataset_x = row['dataset_x']\n",
    "    if dataset_x == 'SMC':\n",
    "        Joanito_2022.obs.at[idx, 'Library_Preparation_Protocol'] = \"10x 3' v2\"\n",
    "    elif dataset_x == 'CRC-SG2':\n",
    "        Joanito_2022.obs.at[idx, 'Library_Preparation_Protocol'] = \"10x 3' v3\"\n",
    "    elif dataset_x == 'KUL3':\n",
    "        Joanito_2022.obs.at[idx, 'Library_Preparation_Protocol'] = \"10x 3' v2\"\n",
    "    elif dataset_x == 'KUL5':\n",
    "        Joanito_2022.obs.at[idx, 'Library_Preparation_Protocol'] = \"10x 5' v1\"\n",
    "    elif dataset_x == 'CRC-SG1':\n",
    "        Joanito_2022.obs.at[idx, 'Library_Preparation_Protocol'] = \"10x 5' v1\""
   ]
  },
  {
   "cell_type": "code",
   "execution_count": 29,
   "metadata": {},
   "outputs": [
    {
     "data": {
      "text/plain": [
       "10x 5' v1    249668\n",
       "10x 3' v2     85295\n",
       "10x 3' v3     38095\n",
       "Name: Library_Preparation_Protocol, dtype: int64"
      ]
     },
     "execution_count": 29,
     "metadata": {},
     "output_type": "execute_result"
    }
   ],
   "source": [
    "Joanito_2022.obs['Library_Preparation_Protocol'].value_counts()"
   ]
  },
  {
   "cell_type": "code",
   "execution_count": 30,
   "metadata": {},
   "outputs": [],
   "source": [
    "#Saving the final anndata file\n",
    "Joanito_2022.write('/Users/anna.maguza/Desktop/Data/Gut_project/Joanito_cancer/anndata/Joanito_raw_anndata_all_cells.h5ad')"
   ]
  },
  {
   "cell_type": "code",
   "execution_count": 31,
   "metadata": {},
   "outputs": [],
   "source": [
    "del Epithelial_meta, Nonepithelial_meta, Patientmeta"
   ]
  },
  {
   "attachments": {},
   "cell_type": "markdown",
   "metadata": {},
   "source": [
    "### Doublets Identification"
   ]
  },
  {
   "cell_type": "code",
   "execution_count": 6,
   "metadata": {},
   "outputs": [],
   "source": [
    "input = '/Users/anna.maguza/Desktop/Data/Gut_project/Joanito_cancer/anndata/Joanito_raw_anndata_all_cells.h5ad'\n",
    "Joanito_2022 = sc.read_h5ad(input)"
   ]
  },
  {
   "cell_type": "code",
   "execution_count": 32,
   "metadata": {},
   "outputs": [],
   "source": [
    "# Filter only tumor cells\n",
    "Joanito_2022 = Joanito_2022[Joanito_2022.obs['sample.origin'] == 'Tumor']"
   ]
  },
  {
   "cell_type": "code",
   "execution_count": 33,
   "metadata": {},
   "outputs": [],
   "source": [
    "scrub = scrublet.Scrublet(Joanito_2022.X)"
   ]
  },
  {
   "cell_type": "code",
   "execution_count": 44,
   "metadata": {},
   "outputs": [
    {
     "name": "stdout",
     "output_type": "stream",
     "text": [
      "Preprocessing...\n",
      "Simulating doublets...\n",
      "Embedding transcriptomes using PCA...\n",
      "Calculating doublet scores...\n",
      "Automatically set threshold at doublet score = 0.68\n",
      "Detected doublet rate = 0.1%\n",
      "Estimated detectable doublet fraction = 7.9%\n",
      "Overall doublet rate:\n",
      "\tExpected   = 10.0%\n",
      "\tEstimated  = 0.8%\n",
      "Elapsed time: 358.8 seconds\n"
     ]
    }
   ],
   "source": [
    "Joanito_2022.obs['doublet_scores'], Joanito_2022.obs['predicted_doublets'] = scrub.scrub_doublets()"
   ]
  },
  {
   "cell_type": "code",
   "execution_count": 46,
   "metadata": {},
   "outputs": [
    {
     "name": "stdout",
     "output_type": "stream",
     "text": [
      "Detected doublet rate = 0.2%\n",
      "Estimated detectable doublet fraction = 13.1%\n",
      "Overall doublet rate:\n",
      "\tExpected   = 10.0%\n",
      "\tEstimated  = 1.4%\n"
     ]
    }
   ],
   "source": [
    "predicted_doublet_mask = scrub.call_doublets(threshold=0.4)"
   ]
  },
  {
   "cell_type": "code",
   "execution_count": 42,
   "metadata": {},
   "outputs": [
    {
     "data": {
      "text/plain": [
       "(<Figure size 640x240 with 2 Axes>,\n",
       " array([<Axes: title={'center': 'Observed transcriptomes'}, xlabel='Doublet score', ylabel='Prob. density'>,\n",
       "        <Axes: title={'center': 'Simulated doublets'}, xlabel='Doublet score', ylabel='Prob. density'>],\n",
       "       dtype=object))"
      ]
     },
     "execution_count": 42,
     "metadata": {},
     "output_type": "execute_result"
    },
    {
     "data": {
      "image/png": "[encoded data removed]",
      "text/plain": [
       "<Figure size 640x240 with 2 Axes>"
      ]
     },
     "metadata": {
      "image/png": {
       "height": 223,
       "width": 625
      }
     },
     "output_type": "display_data"
    }
   ],
   "source": [
    "scrub.plot_histogram()"
   ]
  },
  {
   "cell_type": "code",
   "execution_count": 47,
   "metadata": {},
   "outputs": [
    {
     "data": {
      "text/plain": [
       "106"
      ]
     },
     "execution_count": 47,
     "metadata": {},
     "output_type": "execute_result"
    }
   ],
   "source": [
    "sum(Joanito_2022.obs['predicted_doublets'])"
   ]
  },
  {
   "cell_type": "code",
   "execution_count": null,
   "metadata": {},
   "outputs": [],
   "source": [
    "# add in column with singlet/doublet instead of True/False\n",
    "Joanito_2022.obs['doublet_info'] = Joanito_2022.obs[\"predicted_doublets\"].astype(str)"
   ]
  },
  {
   "cell_type": "code",
   "execution_count": 48,
   "metadata": {},
   "outputs": [],
   "source": [
    "#Saving the final anndata file\n",
    "Joanito_2022.write('/Users/anna.maguza/Desktop/Data/Gut_project/Joanito_cancer/anndata/Joanito_raw_anndata_tumor_cells.h5ad')"
   ]
  },
  {
   "attachments": {},
   "cell_type": "markdown",
   "metadata": {},
   "source": [
    "### Filter by quality metrics"
   ]
  },
  {
   "cell_type": "code",
   "execution_count": null,
   "metadata": {},
   "outputs": [],
   "source": [
    "#Filtering by genes\n",
    "#Joanito_2022_anndata = Joanito_2022_anndata[Joanito_2022_anndata.obs.n_genes_by_counts < 4000, :]\n",
    "#Joanito_2022_anndata = Joanito_2022_anndata[Joanito_2022_anndata.obs.n_genes_by_counts > 200, :]\n",
    "\n",
    "#Filtering by counts\n",
    "#Joanito_2022_anndata = Joanito_2022_anndata[Joanito_2022_anndata.obs.total_counts < 20000, :]"
   ]
  }
 ],
 "metadata": {
  "kernelspec": {
   "display_name": "Python 3 (ipykernel)",
   "language": "python",
   "name": "python3"
  },
  "language_info": {
   "codemirror_mode": {
    "name": "ipython",
    "version": 3
   },
   "file_extension": ".py",
   "mimetype": "text/x-python",
   "name": "python",
   "nbconvert_exporter": "python",
   "pygments_lexer": "ipython3",
   "version": "3.9.16"
  },
  "orig_nbformat": 4,
  "vscode": {
   "interpreter": {
    "hash": "38196666d5885f2c7b712fecdbb810606921747bf937f5c5e660684fe79200fa"
   }
  }
 },
 "nbformat": 4,
 "nbformat_minor": 2
}
