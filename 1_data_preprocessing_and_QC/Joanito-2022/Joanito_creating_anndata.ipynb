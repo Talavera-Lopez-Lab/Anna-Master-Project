{
 "cells": [
  {
   "cell_type": "markdown",
   "metadata": {},
   "source": [
    "## Notebook for Joanito-2022 data processing \n",
    "### Developed by: Anna Maguza\n",
    "\n",
    "### Institute of Computational Biology - Computational Health Centre - Hemlholtz Munich\n",
    "\n",
    "### 18 October 2022"
   ]
  },
  {
   "cell_type": "markdown",
   "metadata": {},
   "source": [
    "#### Load packages"
   ]
  },
  {
   "cell_type": "code",
   "execution_count": 18,
   "metadata": {},
   "outputs": [],
   "source": [
    "import numpy as np\n",
    "import pandas as pd\n",
    "import scanpy as sc\n",
    "import anndata as an\n",
    "import h5py"
   ]
  },
  {
   "cell_type": "code",
   "execution_count": 19,
   "metadata": {},
   "outputs": [],
   "source": [
    "import scrublet"
   ]
  },
  {
   "cell_type": "code",
   "execution_count": 20,
   "metadata": {},
   "outputs": [],
   "source": [
    "def X_is_raw(adata):\n",
    "    return np.array_equal(adata.X.sum(axis=0).astype(int), adata.X.sum(axis=0))"
   ]
  },
  {
   "cell_type": "markdown",
   "metadata": {},
   "source": [
    "#### Setup Cells"
   ]
  },
  {
   "cell_type": "code",
   "execution_count": 21,
   "metadata": {},
   "outputs": [],
   "source": [
    "%matplotlib inline"
   ]
  },
  {
   "cell_type": "code",
   "execution_count": 22,
   "metadata": {},
   "outputs": [
    {
     "name": "stdout",
     "output_type": "stream",
     "text": [
      "scanpy==1.9.3 anndata==0.8.0 umap==0.5.3 numpy==1.23.5 scipy==1.9.1 pandas==1.3.5 scikit-learn==1.2.2 statsmodels==0.13.5 pynndescent==0.5.8\n"
     ]
    }
   ],
   "source": [
    "sc.settings.verbosity = 3             # verbosity: errors (0), warnings (1), info (2), hints (3)\n",
    "sc.logging.print_header()\n",
    "sc.settings.set_figure_params(dpi=80, facecolor='white')"
   ]
  },
  {
   "cell_type": "markdown",
   "metadata": {},
   "source": [
    "#### Upload Data"
   ]
  },
  {
   "cell_type": "code",
   "execution_count": 23,
   "metadata": {},
   "outputs": [],
   "source": [
    "#Data Upload (csv)\n",
    "Epithelial_meta = pd.read_csv('/Users/anna.maguza/Desktop/Data/Gut_project/Joanito_cancer/Joanito_cancer_dataset/Epithelial_metadata.csv', index_col=[1])\n",
    "Nonepithelial_meta = pd.read_csv('/Users/anna.maguza/Desktop/Data/Gut_project/Joanito_cancer/Joanito_cancer_dataset/NonEpithelial_metadata.csv', index_col=[1])"
   ]
  },
  {
   "cell_type": "code",
   "execution_count": 24,
   "metadata": {},
   "outputs": [],
   "source": [
    "#Data Upload (csv)\n",
    "Patientmeta = pd.read_csv('/Users/anna.maguza/Desktop/Data/Gut_project/Joanito_cancer/Joanito_cancer_dataset/patient_clinical_information.csv', index_col=[1], encoding='cp1252')"
   ]
  },
  {
   "cell_type": "markdown",
   "metadata": {},
   "source": [
    "### For anndata==0.8.0 and higher"
   ]
  },
  {
   "cell_type": "code",
   "execution_count": 25,
   "metadata": {},
   "outputs": [],
   "source": [
    "def read_v3_10x_h5_mod(filename, *, start=None):\n",
    "    \"\"\"\n",
    "    Read hdf5 file from Cell Ranger v3 or later versions.\n",
    "    \"\"\"\n",
    "    with h5py.File(str(filename), 'r') as f:\n",
    "        try:\n",
    "            dsets = {}\n",
    "            sc.readwrite._collect_datasets(dsets, f[\"matrix\"])\n",
    "            from scipy.sparse import csr_matrix\n",
    "\n",
    "            M, N = dsets['shape']\n",
    "            data = dsets['data']\n",
    "            if dsets['data'].dtype == np.dtype('int32'):\n",
    "                data = dsets['data'].view('float32')\n",
    "                data[:] = dsets['data']\n",
    "            matrix = csr_matrix(\n",
    "                (data, dsets['indices'], dsets['indptr']),\n",
    "                shape=(N, M),\n",
    "            )\n",
    "            adata = an.AnnData(\n",
    "                matrix,\n",
    "                obs=dict(obs_names=dsets['barcodes'].astype(str)),\n",
    "                var=dict(\n",
    "                    var_names=dsets['name'].astype(str),\n",
    "                    feature_types=dsets['feature_type'].astype(str),\n",
    "                    genome=dsets['genome'].astype(str),\n",
    "                ),\n",
    "            )\n",
    "            return adata\n",
    "        except KeyError:\n",
    "            raise Exception('File is missing one or more required datasets.')"
   ]
  },
  {
   "cell_type": "markdown",
   "metadata": {},
   "source": [
    "### For scanpy==1.6.0 and anndata==0.7.4 "
   ]
  },
  {
   "cell_type": "code",
   "execution_count": 9,
   "metadata": {},
   "outputs": [],
   "source": [
    "def _collect_datasets(dsets: dict, group: h5py.Group):\n",
    "    for k, v in group.items():\n",
    "        if isinstance(v, h5py.Dataset):\n",
    "            dsets[k] = v[()]\n",
    "        else:\n",
    "            _collect_datasets(dsets, v)"
   ]
  },
  {
   "cell_type": "code",
   "execution_count": 10,
   "metadata": {},
   "outputs": [],
   "source": [
    "def read_v3_10x_h5_mod2(filename, *, start=None):\n",
    "    \"\"\"\n",
    "    Read hdf5 file from Cell Ranger v3 or later versions.\n",
    "    \"\"\"\n",
    "    with h5py.File(str(filename), 'r') as f:\n",
    "        try:\n",
    "            dsets = {}\n",
    "            _collect_datasets(dsets, f[\"matrix\"])\n",
    "\n",
    "            from scipy.sparse import csr_matrix\n",
    "\n",
    "            M, N = dsets['shape']\n",
    "            data = dsets['data']\n",
    "            if dsets['data'].dtype == np.dtype('int32'):\n",
    "                data = dsets['data'].view('float32')\n",
    "                data[:] = dsets['data']\n",
    "            matrix = csr_matrix(\n",
    "                (data, dsets['indices'], dsets['indptr']),\n",
    "                shape=(N, M),\n",
    "            )\n",
    "            adata = an.AnnData(\n",
    "                matrix,\n",
    "                obs=dict(obs_names=dsets['barcodes'].astype(str)),\n",
    "                var=dict(\n",
    "                    var_names=dsets['name'].astype(str),\n",
    "                    feature_types=dsets['feature_type'].astype(str),\n",
    "                    genome=dsets['genome'].astype(str),\n",
    "                ),\n",
    "            )\n",
    "            return adata\n",
    "        except KeyError:\n",
    "            raise Exception('File is missing one or more required datasets.')"
   ]
  },
  {
   "cell_type": "code",
   "execution_count": 26,
   "metadata": {},
   "outputs": [
    {
     "name": "stderr",
     "output_type": "stream",
     "text": [
      "/var/folders/gb/wwnzrh015q9dns5cmsc3xcjsxglkqz/T/ipykernel_13854/1635666716.py:20: FutureWarning: X.dtype being converted to np.float32 from float64. In the next version of anndata (0.9) conversion will not be automatic. Pass dtype explicitly to avoid this warning. Pass `AnnData(X, dtype=X.dtype, ...)` to get the future behavour.\n",
      "  adata = an.AnnData(\n"
     ]
    }
   ],
   "source": [
    "# Please use read_v3_10x_h5_mod2 for earlier scanpy and anndata versions and read_v3_10x_h5_mod for anndata later than 0.8.0\n",
    "Epithelian_data = read_v3_10x_h5_mod('/Users/anna.maguza/Desktop/Data/Gut_project/Joanito_cancer/Joanito_cancer_dataset/Epithelial_Count_matrix.h5')"
   ]
  },
  {
   "cell_type": "code",
   "execution_count": 27,
   "metadata": {},
   "outputs": [
    {
     "name": "stderr",
     "output_type": "stream",
     "text": [
      "/var/folders/gb/wwnzrh015q9dns5cmsc3xcjsxglkqz/T/ipykernel_13854/1635666716.py:20: FutureWarning: X.dtype being converted to np.float32 from float64. In the next version of anndata (0.9) conversion will not be automatic. Pass dtype explicitly to avoid this warning. Pass `AnnData(X, dtype=X.dtype, ...)` to get the future behavour.\n",
      "  adata = an.AnnData(\n"
     ]
    }
   ],
   "source": [
    "# Please use read_v3_10x_h5_mod2 for earlier scanpy and anndata versions and read_v3_10x_h5_mod for anndata later than 0.8.0\n",
    "Nonepithelian_data = read_v3_10x_h5_mod('/Users/anna.maguza/Desktop/Data/Gut_project/Joanito_cancer/Joanito_cancer_dataset/NonEpithelial_Count_matrix.h5')"
   ]
  },
  {
   "cell_type": "markdown",
   "metadata": {},
   "source": [
    "#### Preparing anndata file (obs)"
   ]
  },
  {
   "cell_type": "code",
   "execution_count": 28,
   "metadata": {},
   "outputs": [],
   "source": [
    "#Rename Nonepithelial_meta\n",
    "Nonepithelial_meta = Nonepithelial_meta.rename(columns={\"nCount_RNA\": \"cell.ID\", \"msi\": \"MSS/MSI\"})\n"
   ]
  },
  {
   "cell_type": "code",
   "execution_count": 29,
   "metadata": {},
   "outputs": [
    {
     "data": {
      "text/html": [
       "<div>\n",
       "<style scoped>\n",
       "    .dataframe tbody tr th:only-of-type {\n",
       "        vertical-align: middle;\n",
       "    }\n",
       "\n",
       "    .dataframe tbody tr th {\n",
       "        vertical-align: top;\n",
       "    }\n",
       "\n",
       "    .dataframe thead th {\n",
       "        text-align: right;\n",
       "    }\n",
       "</style>\n",
       "<table border=\"1\" class=\"dataframe\">\n",
       "  <thead>\n",
       "    <tr style=\"text-align: right;\">\n",
       "      <th></th>\n",
       "      <th>cell.ID</th>\n",
       "      <th>nFeature_RNA</th>\n",
       "      <th>percent.mt</th>\n",
       "      <th>sample.ID</th>\n",
       "      <th>patient.ID</th>\n",
       "      <th>sample.origin</th>\n",
       "      <th>dataset</th>\n",
       "      <th>cell.type</th>\n",
       "    </tr>\n",
       "    <tr>\n",
       "      <th>nCount_RNA</th>\n",
       "      <th></th>\n",
       "      <th></th>\n",
       "      <th></th>\n",
       "      <th></th>\n",
       "      <th></th>\n",
       "      <th></th>\n",
       "      <th></th>\n",
       "      <th></th>\n",
       "    </tr>\n",
       "  </thead>\n",
       "  <tbody>\n",
       "    <tr>\n",
       "      <th>29514</th>\n",
       "      <td>CRC16_MUX8563_AAACCTGCAAGCCGCT-1</td>\n",
       "      <td>2577</td>\n",
       "      <td>1.235932</td>\n",
       "      <td>MUX8563</td>\n",
       "      <td>CRC2794</td>\n",
       "      <td>Tumor</td>\n",
       "      <td>CRC-SG1</td>\n",
       "      <td>PlasmaB</td>\n",
       "    </tr>\n",
       "    <tr>\n",
       "      <th>3259</th>\n",
       "      <td>CRC16_MUX8563_AAACCTGTCTCGATGA-1</td>\n",
       "      <td>1531</td>\n",
       "      <td>6.171890</td>\n",
       "      <td>MUX8563</td>\n",
       "      <td>CRC2794</td>\n",
       "      <td>Tumor</td>\n",
       "      <td>CRC-SG1</td>\n",
       "      <td>T_NK</td>\n",
       "    </tr>\n",
       "    <tr>\n",
       "      <th>71212</th>\n",
       "      <td>CRC16_MUX8563_AAACCTGTCTCTGTCG-1</td>\n",
       "      <td>3083</td>\n",
       "      <td>0.891850</td>\n",
       "      <td>MUX8563</td>\n",
       "      <td>CRC2794</td>\n",
       "      <td>Tumor</td>\n",
       "      <td>CRC-SG1</td>\n",
       "      <td>PlasmaB</td>\n",
       "    </tr>\n",
       "    <tr>\n",
       "      <th>3771</th>\n",
       "      <td>CRC16_MUX8563_AAACGGGCAAGTTAAG-1</td>\n",
       "      <td>1686</td>\n",
       "      <td>3.639915</td>\n",
       "      <td>MUX8563</td>\n",
       "      <td>CRC2794</td>\n",
       "      <td>Tumor</td>\n",
       "      <td>CRC-SG1</td>\n",
       "      <td>T_NK</td>\n",
       "    </tr>\n",
       "    <tr>\n",
       "      <th>16948</th>\n",
       "      <td>CRC16_MUX8563_AAACGGGCAGTTCATG-1</td>\n",
       "      <td>4304</td>\n",
       "      <td>3.975425</td>\n",
       "      <td>MUX8563</td>\n",
       "      <td>CRC2794</td>\n",
       "      <td>Tumor</td>\n",
       "      <td>CRC-SG1</td>\n",
       "      <td>Fibroblast</td>\n",
       "    </tr>\n",
       "    <tr>\n",
       "      <th>...</th>\n",
       "      <td>...</td>\n",
       "      <td>...</td>\n",
       "      <td>...</td>\n",
       "      <td>...</td>\n",
       "      <td>...</td>\n",
       "      <td>...</td>\n",
       "      <td>...</td>\n",
       "      <td>...</td>\n",
       "    </tr>\n",
       "    <tr>\n",
       "      <th>10870</th>\n",
       "      <td>KUL5_EXT129_TTTGTCAGTTGGACCC-1</td>\n",
       "      <td>1230</td>\n",
       "      <td>1.356960</td>\n",
       "      <td>EXT129</td>\n",
       "      <td>SC044</td>\n",
       "      <td>Normal</td>\n",
       "      <td>KUL5</td>\n",
       "      <td>PlasmaB</td>\n",
       "    </tr>\n",
       "    <tr>\n",
       "      <th>1615</th>\n",
       "      <td>KUL5_EXT129_TTTGTCATCAGCATGT-1</td>\n",
       "      <td>983</td>\n",
       "      <td>9.032534</td>\n",
       "      <td>EXT129</td>\n",
       "      <td>SC044</td>\n",
       "      <td>Normal</td>\n",
       "      <td>KUL5</td>\n",
       "      <td>T_NK</td>\n",
       "    </tr>\n",
       "    <tr>\n",
       "      <th>1279</th>\n",
       "      <td>KUL5_EXT129_TTTGTCATCCATGAGT-1</td>\n",
       "      <td>850</td>\n",
       "      <td>7.793522</td>\n",
       "      <td>EXT129</td>\n",
       "      <td>SC044</td>\n",
       "      <td>Normal</td>\n",
       "      <td>KUL5</td>\n",
       "      <td>T_NK</td>\n",
       "    </tr>\n",
       "    <tr>\n",
       "      <th>25255</th>\n",
       "      <td>KUL5_EXT129_TTTGTCATCGGTTCGG-1</td>\n",
       "      <td>1595</td>\n",
       "      <td>1.074276</td>\n",
       "      <td>EXT129</td>\n",
       "      <td>SC044</td>\n",
       "      <td>Normal</td>\n",
       "      <td>KUL5</td>\n",
       "      <td>PlasmaB</td>\n",
       "    </tr>\n",
       "    <tr>\n",
       "      <th>16598</th>\n",
       "      <td>KUL5_EXT129_TTTGTCATCTATCGCC-1</td>\n",
       "      <td>1532</td>\n",
       "      <td>1.153075</td>\n",
       "      <td>EXT129</td>\n",
       "      <td>SC044</td>\n",
       "      <td>Normal</td>\n",
       "      <td>KUL5</td>\n",
       "      <td>PlasmaB</td>\n",
       "    </tr>\n",
       "  </tbody>\n",
       "</table>\n",
       "<p>323903 rows × 8 columns</p>\n",
       "</div>"
      ],
      "text/plain": [
       "                                     cell.ID  nFeature_RNA  percent.mt  \\\n",
       "nCount_RNA                                                               \n",
       "29514       CRC16_MUX8563_AAACCTGCAAGCCGCT-1          2577    1.235932   \n",
       "3259        CRC16_MUX8563_AAACCTGTCTCGATGA-1          1531    6.171890   \n",
       "71212       CRC16_MUX8563_AAACCTGTCTCTGTCG-1          3083    0.891850   \n",
       "3771        CRC16_MUX8563_AAACGGGCAAGTTAAG-1          1686    3.639915   \n",
       "16948       CRC16_MUX8563_AAACGGGCAGTTCATG-1          4304    3.975425   \n",
       "...                                      ...           ...         ...   \n",
       "10870         KUL5_EXT129_TTTGTCAGTTGGACCC-1          1230    1.356960   \n",
       "1615          KUL5_EXT129_TTTGTCATCAGCATGT-1           983    9.032534   \n",
       "1279          KUL5_EXT129_TTTGTCATCCATGAGT-1           850    7.793522   \n",
       "25255         KUL5_EXT129_TTTGTCATCGGTTCGG-1          1595    1.074276   \n",
       "16598         KUL5_EXT129_TTTGTCATCTATCGCC-1          1532    1.153075   \n",
       "\n",
       "           sample.ID patient.ID sample.origin  dataset   cell.type  \n",
       "nCount_RNA                                                          \n",
       "29514        MUX8563    CRC2794         Tumor  CRC-SG1     PlasmaB  \n",
       "3259         MUX8563    CRC2794         Tumor  CRC-SG1        T_NK  \n",
       "71212        MUX8563    CRC2794         Tumor  CRC-SG1     PlasmaB  \n",
       "3771         MUX8563    CRC2794         Tumor  CRC-SG1        T_NK  \n",
       "16948        MUX8563    CRC2794         Tumor  CRC-SG1  Fibroblast  \n",
       "...              ...        ...           ...      ...         ...  \n",
       "10870         EXT129      SC044        Normal     KUL5     PlasmaB  \n",
       "1615          EXT129      SC044        Normal     KUL5        T_NK  \n",
       "1279          EXT129      SC044        Normal     KUL5        T_NK  \n",
       "25255         EXT129      SC044        Normal     KUL5     PlasmaB  \n",
       "16598         EXT129      SC044        Normal     KUL5     PlasmaB  \n",
       "\n",
       "[323903 rows x 8 columns]"
      ]
     },
     "execution_count": 29,
     "metadata": {},
     "output_type": "execute_result"
    }
   ],
   "source": [
    "Nonepithelial_meta"
   ]
  },
  {
   "cell_type": "code",
   "execution_count": 30,
   "metadata": {},
   "outputs": [],
   "source": [
    "#Merging cells and patients\n",
    "merged_data_final = pd.concat([Epithelial_meta, Nonepithelial_meta])\n",
    "merged_data_final = pd.merge(merged_data_final, Patientmeta, \n",
    "                   on='patient.ID', how='left')"
   ]
  },
  {
   "cell_type": "code",
   "execution_count": 31,
   "metadata": {},
   "outputs": [
    {
     "name": "stdout",
     "output_type": "stream",
     "text": [
      "                                cell.ID  nFeature_RNA  percent.mt sample.ID  \\\n",
      "49150    KUL5_EXT129_CTGTGCTTCGCTTGTC-1          2926   15.401077    EXT129   \n",
      "49151    KUL5_EXT129_GAAATGAGTTCCTCCA-1          5779   13.561872    EXT129   \n",
      "49152    KUL5_EXT129_GATCGCGTCTGCTGTC-1          3934   19.530070    EXT129   \n",
      "49153    KUL5_EXT129_GGAACTTCAGGAATGC-1          5551   11.547377    EXT129   \n",
      "49154    KUL5_EXT129_TCACAAGGTTTGGGCC-1          3276    9.897333    EXT129   \n",
      "49155  CRC16_MUX8563_AAACCTGCAAGCCGCT-1          2577    1.235932   MUX8563   \n",
      "49156  CRC16_MUX8563_AAACCTGTCTCGATGA-1          1531    6.171890   MUX8563   \n",
      "49157  CRC16_MUX8563_AAACCTGTCTCTGTCG-1          3083    0.891850   MUX8563   \n",
      "49158  CRC16_MUX8563_AAACGGGCAAGTTAAG-1          1686    3.639915   MUX8563   \n",
      "49159  CRC16_MUX8563_AAACGGGCAGTTCATG-1          4304    3.975425   MUX8563   \n",
      "49160  CRC16_MUX8563_AAAGATGAGTTAACGA-1          3080    6.754530   MUX8563   \n",
      "\n",
      "      patient.ID sample.origin dataset_x   cell.type    iCMS    msi  ...  \\\n",
      "49150      SC044        Normal      KUL5  Epithelial  Normal  MSI-H  ...   \n",
      "49151      SC044        Normal      KUL5  Epithelial  Normal  MSI-H  ...   \n",
      "49152      SC044        Normal      KUL5  Epithelial  Normal  MSI-H  ...   \n",
      "49153      SC044        Normal      KUL5  Epithelial  Normal  MSI-H  ...   \n",
      "49154      SC044        Normal      KUL5  Epithelial  Normal  MSI-H  ...   \n",
      "49155    CRC2794         Tumor   CRC-SG1     PlasmaB     NaN    NaN  ...   \n",
      "49156    CRC2794         Tumor   CRC-SG1        T_NK     NaN    NaN  ...   \n",
      "49157    CRC2794         Tumor   CRC-SG1     PlasmaB     NaN    NaN  ...   \n",
      "49158    CRC2794         Tumor   CRC-SG1        T_NK     NaN    NaN  ...   \n",
      "49159    CRC2794         Tumor   CRC-SG1  Fibroblast     NaN    NaN  ...   \n",
      "49160    CRC2794         Tumor   CRC-SG1  Fibroblast     NaN    NaN  ...   \n",
      "\n",
      "      iCMS.inferCNV KRAS  BRAF TP53  APC PIK3CA LymphNode Normal Tumor   CMS  \n",
      "49150         iCMS3   wt    wt   wt   wt    NaN         0      2     3  CMS1  \n",
      "49151         iCMS3   wt    wt   wt   wt    NaN         0      2     3  CMS1  \n",
      "49152         iCMS3   wt    wt   wt   wt    NaN         0      2     3  CMS1  \n",
      "49153         iCMS3   wt    wt   wt   wt    NaN         0      2     3  CMS1  \n",
      "49154         iCMS3   wt    wt   wt   wt    NaN         0      2     3  CMS1  \n",
      "49155         iCMS2   wt    wt  mut  mut     wt         0      1     4  CMS2  \n",
      "49156         iCMS2   wt    wt  mut  mut     wt         0      1     4  CMS2  \n",
      "49157         iCMS2   wt    wt  mut  mut     wt         0      1     4  CMS2  \n",
      "49158         iCMS2   wt    wt  mut  mut     wt         0      1     4  CMS2  \n",
      "49159         iCMS2   wt    wt  mut  mut     wt         0      1     4  CMS2  \n",
      "49160         iCMS2   wt    wt  mut  mut     wt         0      1     4  CMS2  \n",
      "\n",
      "[11 rows x 29 columns]\n"
     ]
    }
   ],
   "source": [
    "print(merged_data_final.loc[49150:49160, ])"
   ]
  },
  {
   "cell_type": "markdown",
   "metadata": {},
   "source": [
    "#### Preparing anndata file (var and X)"
   ]
  },
  {
   "cell_type": "code",
   "execution_count": 32,
   "metadata": {},
   "outputs": [
    {
     "name": "stderr",
     "output_type": "stream",
     "text": [
      "/Users/anna.maguza/miniconda3/envs/scanpy_env/lib/python3.9/site-packages/anndata/_core/anndata.py:1785: FutureWarning: X.dtype being converted to np.float32 from float64. In the next version of anndata (0.9) conversion will not be automatic. Pass dtype explicitly to avoid this warning. Pass `AnnData(X, dtype=X.dtype, ...)` to get the future behavour.\n",
      "  [AnnData(sparse.csr_matrix(a.shape), obs=a.obs) for a in all_adatas],\n"
     ]
    }
   ],
   "source": [
    "#Concatenate 2 anndata files (nonepithelial and epithelian)\n",
    "Joanito_2022 = Nonepithelian_data.concatenate(Epithelian_data)"
   ]
  },
  {
   "cell_type": "code",
   "execution_count": 33,
   "metadata": {},
   "outputs": [],
   "source": [
    "del Nonepithelian_data, Epithelian_data"
   ]
  },
  {
   "attachments": {},
   "cell_type": "markdown",
   "metadata": {},
   "source": [
    "#### Merge obs, vars and X"
   ]
  },
  {
   "cell_type": "code",
   "execution_count": 34,
   "metadata": {},
   "outputs": [
    {
     "name": "stderr",
     "output_type": "stream",
     "text": [
      "/Users/anna.maguza/miniconda3/envs/scanpy_env/lib/python3.9/site-packages/anndata/_core/anndata.py:121: ImplicitModificationWarning: Transforming to str index.\n",
      "  warnings.warn(\"Transforming to str index.\", ImplicitModificationWarning)\n"
     ]
    }
   ],
   "source": [
    "#Create anndata file \n",
    "Joanito_2022_anndata = an.AnnData(X=Joanito_2022.X,\n",
    "                        obs=merged_data_final,\n",
    "                        var=Joanito_2022.var)"
   ]
  },
  {
   "cell_type": "code",
   "execution_count": 35,
   "metadata": {},
   "outputs": [
    {
     "data": {
      "text/plain": [
       "<373058x33287 sparse matrix of type '<class 'numpy.float32'>'\n",
       "\twith 741331835 stored elements in Compressed Sparse Row format>"
      ]
     },
     "execution_count": 35,
     "metadata": {},
     "output_type": "execute_result"
    }
   ],
   "source": [
    "#Chacking final anndata\n",
    "Joanito_2022_anndata.X"
   ]
  },
  {
   "cell_type": "code",
   "execution_count": 36,
   "metadata": {},
   "outputs": [
    {
     "data": {
      "text/plain": [
       "True"
      ]
     },
     "execution_count": 36,
     "metadata": {},
     "output_type": "execute_result"
    }
   ],
   "source": [
    "X_is_raw(Joanito_2022_anndata)"
   ]
  },
  {
   "cell_type": "code",
   "execution_count": 37,
   "metadata": {},
   "outputs": [],
   "source": [
    "Joanito_2022_anndata.raw = Joanito_2022_anndata"
   ]
  },
  {
   "attachments": {},
   "cell_type": "markdown",
   "metadata": {},
   "source": [
    "#### Rename obs"
   ]
  },
  {
   "cell_type": "code",
   "execution_count": 38,
   "metadata": {},
   "outputs": [],
   "source": [
    "# Make cell.ID as index in obs\n",
    "Joanito_2022_anndata.obs = Joanito_2022_anndata.obs.set_index('cell.ID')"
   ]
  },
  {
   "cell_type": "code",
   "execution_count": 39,
   "metadata": {},
   "outputs": [],
   "source": [
    "# Rename columns in obs \n",
    "Joanito_2022_anndata.obs = Joanito_2022_anndata.obs.rename(columns={\"sample.ID\": \"Sample_ID\"})\n",
    "Joanito_2022_anndata.obs = Joanito_2022_anndata.obs.rename(columns={\"patient.ID\": \"Donor_ID\"})\n",
    "Joanito_2022_anndata.obs = Joanito_2022_anndata.obs.rename(columns={\"cell.type\": \"Cell Type\"})\n",
    "#Joanito_2022_anndata.obs = Joanito_2022_anndata.obs.rename(columns={\"sample.origin\": \"Diagnosis\"})\n",
    "Joanito_2022_anndata.obs = Joanito_2022_anndata.obs.rename(columns={\"Sidedness\": \"Side\"})\n",
    "Joanito_2022_anndata.obs = Joanito_2022_anndata.obs.rename(columns={\"Site\": \"Location\"})\n",
    "Joanito_2022_anndata.obs = Joanito_2022_anndata.obs.rename(columns={\"Age at recruitment\": \"Tumor Stage\"})\n",
    "Joanito_2022_anndata.obs = Joanito_2022_anndata.obs.rename(columns={\"Gender\": \"Sex\"})\n",
    "Joanito_2022_anndata.obs['Age_group'] = 'Adult'\n",
    "Joanito_2022_anndata.obs['Study_name'] = 'Joanito, 2022'\n",
    "Joanito_2022_anndata.obs = Joanito_2022_anndata.obs.rename(columns={\"percent.mt\": \"pct_counts_mito\"})\n",
    "#del Joanito_2022_anndata.obs['nFeature_RNA']"
   ]
  },
  {
   "cell_type": "code",
   "execution_count": 40,
   "metadata": {},
   "outputs": [],
   "source": [
    "def diagnosis_mapping(label):\n",
    "    if label.startswith('T1'):\n",
    "        return 'Colorectal cancer, Stage I'\n",
    "    elif label.startswith('T2'):\n",
    "        return 'Colorectal cancer, Stage II'\n",
    "    elif label.startswith('T3'):\n",
    "        return 'Colorectal cancer, Stage III'\n",
    "    elif label.startswith('T4'):\n",
    "        return 'Colorectal cancer, Stage IV'\n",
    "    elif label.startswith('mpT3'):\n",
    "        return 'Colorectal cancer, Stage mpIII'\n",
    "    elif label.startswith('pT1'):\n",
    "        return 'Colorectal cancer, Stage pI'\n",
    "    elif label.startswith('pT2'):\n",
    "        return 'Colorectal cancer, Stage pII'\n",
    "    elif label.startswith('pT3'):\n",
    "        return 'Colorectal cancer, Stage pIII'\n",
    "    elif label.startswith('pT4'):\n",
    "        return 'Colorectal cancer, Stage pIV'\n",
    "    elif label.startswith('ypT3'):\n",
    "        return 'Colorectal cancer, Stage ypIII'\n",
    "    else:\n",
    "        return label  # leave the label unchanged if it doesn't match any of the above\n",
    "    \n",
    "\n",
    "Joanito_2022_anndata.obs['Diagnosis'] = Joanito_2022_anndata.obs['Stage TNM']\n",
    "\n",
    "Joanito_2022_anndata.obs['Diagnosis'] = Joanito_2022_anndata.obs['Diagnosis'].apply(diagnosis_mapping)\n"
   ]
  },
  {
   "cell_type": "code",
   "execution_count": 41,
   "metadata": {},
   "outputs": [
    {
     "data": {
      "text/plain": [
       "Colorectal cancer, Stage III      212615\n",
       "Colorectal cancer, Stage IV       113542\n",
       "Colorectal cancer, Stage pIII      16645\n",
       "Colorectal cancer, Stage pIV        8696\n",
       "Colorectal cancer, Stage II         7062\n",
       "Colorectal cancer, Stage pI         4224\n",
       "Colorectal cancer, Stage pII        3159\n",
       "Colorectal cancer, Stage mpIII      3034\n",
       "Colorectal cancer, Stage ypIII      2769\n",
       "Colorectal cancer, Stage I          1312\n",
       "Name: Diagnosis, dtype: int64"
      ]
     },
     "execution_count": 41,
     "metadata": {},
     "output_type": "execute_result"
    }
   ],
   "source": [
    "Joanito_2022_anndata.obs['Diagnosis'].value_counts()"
   ]
  },
  {
   "cell_type": "code",
   "execution_count": 42,
   "metadata": {},
   "outputs": [
    {
     "data": {
      "text/plain": [
       "AnnData object with n_obs × n_vars = 373058 × 33287\n",
       "    obs: 'nFeature_RNA', 'pct_counts_mito', 'Sample_ID', 'Donor_ID', 'sample.origin', 'dataset_x', 'Cell Type', 'iCMS', 'msi', 'dataset_y', 'Sex', 'Tumor Stage', 'MSS/MSI', 'Location', 'Side', 'Group Stage', 'Stage TNM', 'iCMS.transcriptomic', 'iCMS.inferCNV', 'KRAS', 'BRAF', 'TP53', 'APC', 'PIK3CA', 'LymphNode', 'Normal', 'Tumor', 'CMS', 'Age_group', 'Study_name', 'Diagnosis'\n",
       "    var: 'feature_types', 'genome'"
      ]
     },
     "execution_count": 42,
     "metadata": {},
     "output_type": "execute_result"
    }
   ],
   "source": [
    "Joanito_2022_anndata"
   ]
  },
  {
   "cell_type": "code",
   "execution_count": 43,
   "metadata": {},
   "outputs": [],
   "source": [
    "Joanito_2022_anndata.obs['Sex'].replace({'M': 'Male', \n",
    "                                        'F': 'Female'}, inplace=True)"
   ]
  },
  {
   "cell_type": "code",
   "execution_count": 44,
   "metadata": {},
   "outputs": [],
   "source": [
    "Joanito_2022_anndata.obs['Cell Type'].replace({'T_NK': 'T cells', \n",
    "                                        'PlasmaB': 'Plasma cells',\n",
    "                                        'Fibroblast': 'Mesenchymal',\n",
    "                                        'B': 'B cells'}, inplace=True)"
   ]
  },
  {
   "cell_type": "code",
   "execution_count": 45,
   "metadata": {},
   "outputs": [],
   "source": [
    "# Calculate quality metrics for cancer dataset\n",
    "sc.pp.calculate_qc_metrics(Joanito_2022_anndata, inplace=True)"
   ]
  },
  {
   "cell_type": "code",
   "execution_count": 46,
   "metadata": {},
   "outputs": [
    {
     "data": {
      "text/html": [
       "<div>\n",
       "<style scoped>\n",
       "    .dataframe tbody tr th:only-of-type {\n",
       "        vertical-align: middle;\n",
       "    }\n",
       "\n",
       "    .dataframe tbody tr th {\n",
       "        vertical-align: top;\n",
       "    }\n",
       "\n",
       "    .dataframe thead th {\n",
       "        text-align: right;\n",
       "    }\n",
       "</style>\n",
       "<table border=\"1\" class=\"dataframe\">\n",
       "  <thead>\n",
       "    <tr style=\"text-align: right;\">\n",
       "      <th></th>\n",
       "      <th>nFeature_RNA</th>\n",
       "      <th>pct_counts_mito</th>\n",
       "      <th>Sample_ID</th>\n",
       "      <th>Donor_ID</th>\n",
       "      <th>sample.origin</th>\n",
       "      <th>dataset_x</th>\n",
       "      <th>Cell Type</th>\n",
       "      <th>iCMS</th>\n",
       "      <th>msi</th>\n",
       "      <th>dataset_y</th>\n",
       "      <th>...</th>\n",
       "      <th>Study_name</th>\n",
       "      <th>Diagnosis</th>\n",
       "      <th>n_genes_by_counts</th>\n",
       "      <th>log1p_n_genes_by_counts</th>\n",
       "      <th>total_counts</th>\n",
       "      <th>log1p_total_counts</th>\n",
       "      <th>pct_counts_in_top_50_genes</th>\n",
       "      <th>pct_counts_in_top_100_genes</th>\n",
       "      <th>pct_counts_in_top_200_genes</th>\n",
       "      <th>pct_counts_in_top_500_genes</th>\n",
       "    </tr>\n",
       "    <tr>\n",
       "      <th>cell.ID</th>\n",
       "      <th></th>\n",
       "      <th></th>\n",
       "      <th></th>\n",
       "      <th></th>\n",
       "      <th></th>\n",
       "      <th></th>\n",
       "      <th></th>\n",
       "      <th></th>\n",
       "      <th></th>\n",
       "      <th></th>\n",
       "      <th></th>\n",
       "      <th></th>\n",
       "      <th></th>\n",
       "      <th></th>\n",
       "      <th></th>\n",
       "      <th></th>\n",
       "      <th></th>\n",
       "      <th></th>\n",
       "      <th></th>\n",
       "      <th></th>\n",
       "      <th></th>\n",
       "    </tr>\n",
       "  </thead>\n",
       "  <tbody>\n",
       "    <tr>\n",
       "      <th>CRC16_MUX8563_AAACGGGGTCGATTGT-1</th>\n",
       "      <td>5099</td>\n",
       "      <td>17.969349</td>\n",
       "      <td>MUX8563</td>\n",
       "      <td>CRC2794</td>\n",
       "      <td>Tumor</td>\n",
       "      <td>CRC-SG1</td>\n",
       "      <td>Epithelial</td>\n",
       "      <td>iCMS2</td>\n",
       "      <td>MSS</td>\n",
       "      <td>CRC-SG1</td>\n",
       "      <td>...</td>\n",
       "      <td>Joanito, 2022</td>\n",
       "      <td>Colorectal cancer, Stage III</td>\n",
       "      <td>2577</td>\n",
       "      <td>7.854769</td>\n",
       "      <td>29514.0</td>\n",
       "      <td>10.292654</td>\n",
       "      <td>82.221996</td>\n",
       "      <td>84.563258</td>\n",
       "      <td>87.172189</td>\n",
       "      <td>91.044928</td>\n",
       "    </tr>\n",
       "    <tr>\n",
       "      <th>CRC16_MUX8563_AAAGATGCAGAAGCAC-1</th>\n",
       "      <td>4759</td>\n",
       "      <td>23.734351</td>\n",
       "      <td>MUX8563</td>\n",
       "      <td>CRC2794</td>\n",
       "      <td>Tumor</td>\n",
       "      <td>CRC-SG1</td>\n",
       "      <td>Epithelial</td>\n",
       "      <td>iCMS2</td>\n",
       "      <td>MSS</td>\n",
       "      <td>CRC-SG1</td>\n",
       "      <td>...</td>\n",
       "      <td>Joanito, 2022</td>\n",
       "      <td>Colorectal cancer, Stage III</td>\n",
       "      <td>1531</td>\n",
       "      <td>7.334329</td>\n",
       "      <td>3259.0</td>\n",
       "      <td>8.089482</td>\n",
       "      <td>34.581160</td>\n",
       "      <td>42.405646</td>\n",
       "      <td>52.347346</td>\n",
       "      <td>68.364529</td>\n",
       "    </tr>\n",
       "    <tr>\n",
       "      <th>CRC16_MUX8563_AAAGCAATCTAACGGT-1</th>\n",
       "      <td>2580</td>\n",
       "      <td>24.403016</td>\n",
       "      <td>MUX8563</td>\n",
       "      <td>CRC2794</td>\n",
       "      <td>Tumor</td>\n",
       "      <td>CRC-SG1</td>\n",
       "      <td>Epithelial</td>\n",
       "      <td>Normal</td>\n",
       "      <td>MSS</td>\n",
       "      <td>CRC-SG1</td>\n",
       "      <td>...</td>\n",
       "      <td>Joanito, 2022</td>\n",
       "      <td>Colorectal cancer, Stage III</td>\n",
       "      <td>3083</td>\n",
       "      <td>8.033983</td>\n",
       "      <td>71212.0</td>\n",
       "      <td>11.173430</td>\n",
       "      <td>89.725046</td>\n",
       "      <td>91.269730</td>\n",
       "      <td>92.697860</td>\n",
       "      <td>94.829523</td>\n",
       "    </tr>\n",
       "    <tr>\n",
       "      <th>CRC16_MUX8563_ACAGCCGGTCTCTTAT-1</th>\n",
       "      <td>2499</td>\n",
       "      <td>11.020450</td>\n",
       "      <td>MUX8563</td>\n",
       "      <td>CRC2794</td>\n",
       "      <td>Tumor</td>\n",
       "      <td>CRC-SG1</td>\n",
       "      <td>Epithelial</td>\n",
       "      <td>iCMS2</td>\n",
       "      <td>MSS</td>\n",
       "      <td>CRC-SG1</td>\n",
       "      <td>...</td>\n",
       "      <td>Joanito, 2022</td>\n",
       "      <td>Colorectal cancer, Stage III</td>\n",
       "      <td>1686</td>\n",
       "      <td>7.430707</td>\n",
       "      <td>3771.0</td>\n",
       "      <td>8.235361</td>\n",
       "      <td>32.962079</td>\n",
       "      <td>41.500928</td>\n",
       "      <td>51.259613</td>\n",
       "      <td>68.363829</td>\n",
       "    </tr>\n",
       "    <tr>\n",
       "      <th>CRC16_MUX8563_ACAGCTATCCGTCATC-1</th>\n",
       "      <td>4937</td>\n",
       "      <td>23.243570</td>\n",
       "      <td>MUX8563</td>\n",
       "      <td>CRC2794</td>\n",
       "      <td>Tumor</td>\n",
       "      <td>CRC-SG1</td>\n",
       "      <td>Epithelial</td>\n",
       "      <td>iCMS2</td>\n",
       "      <td>MSS</td>\n",
       "      <td>CRC-SG1</td>\n",
       "      <td>...</td>\n",
       "      <td>Joanito, 2022</td>\n",
       "      <td>Colorectal cancer, Stage III</td>\n",
       "      <td>4304</td>\n",
       "      <td>8.367532</td>\n",
       "      <td>16948.0</td>\n",
       "      <td>9.737964</td>\n",
       "      <td>31.602549</td>\n",
       "      <td>39.951617</td>\n",
       "      <td>49.032334</td>\n",
       "      <td>62.030918</td>\n",
       "    </tr>\n",
       "    <tr>\n",
       "      <th>...</th>\n",
       "      <td>...</td>\n",
       "      <td>...</td>\n",
       "      <td>...</td>\n",
       "      <td>...</td>\n",
       "      <td>...</td>\n",
       "      <td>...</td>\n",
       "      <td>...</td>\n",
       "      <td>...</td>\n",
       "      <td>...</td>\n",
       "      <td>...</td>\n",
       "      <td>...</td>\n",
       "      <td>...</td>\n",
       "      <td>...</td>\n",
       "      <td>...</td>\n",
       "      <td>...</td>\n",
       "      <td>...</td>\n",
       "      <td>...</td>\n",
       "      <td>...</td>\n",
       "      <td>...</td>\n",
       "      <td>...</td>\n",
       "      <td>...</td>\n",
       "    </tr>\n",
       "    <tr>\n",
       "      <th>KUL5_EXT129_TTTGTCAGTTGGACCC-1</th>\n",
       "      <td>1230</td>\n",
       "      <td>1.356960</td>\n",
       "      <td>EXT129</td>\n",
       "      <td>SC044</td>\n",
       "      <td>Normal</td>\n",
       "      <td>KUL5</td>\n",
       "      <td>Plasma cells</td>\n",
       "      <td>NaN</td>\n",
       "      <td>NaN</td>\n",
       "      <td>KUL5</td>\n",
       "      <td>...</td>\n",
       "      <td>Joanito, 2022</td>\n",
       "      <td>Colorectal cancer, Stage III</td>\n",
       "      <td>2926</td>\n",
       "      <td>7.981733</td>\n",
       "      <td>8000.0</td>\n",
       "      <td>8.987322</td>\n",
       "      <td>26.037500</td>\n",
       "      <td>35.625000</td>\n",
       "      <td>46.200000</td>\n",
       "      <td>61.250000</td>\n",
       "    </tr>\n",
       "    <tr>\n",
       "      <th>KUL5_EXT129_TTTGTCATCAGCATGT-1</th>\n",
       "      <td>983</td>\n",
       "      <td>9.032534</td>\n",
       "      <td>EXT129</td>\n",
       "      <td>SC044</td>\n",
       "      <td>Normal</td>\n",
       "      <td>KUL5</td>\n",
       "      <td>T cells</td>\n",
       "      <td>NaN</td>\n",
       "      <td>NaN</td>\n",
       "      <td>KUL5</td>\n",
       "      <td>...</td>\n",
       "      <td>Joanito, 2022</td>\n",
       "      <td>Colorectal cancer, Stage III</td>\n",
       "      <td>5779</td>\n",
       "      <td>8.662159</td>\n",
       "      <td>28255.0</td>\n",
       "      <td>10.249061</td>\n",
       "      <td>23.542736</td>\n",
       "      <td>32.503982</td>\n",
       "      <td>42.456202</td>\n",
       "      <td>57.165104</td>\n",
       "    </tr>\n",
       "    <tr>\n",
       "      <th>KUL5_EXT129_TTTGTCATCCATGAGT-1</th>\n",
       "      <td>850</td>\n",
       "      <td>7.793522</td>\n",
       "      <td>EXT129</td>\n",
       "      <td>SC044</td>\n",
       "      <td>Normal</td>\n",
       "      <td>KUL5</td>\n",
       "      <td>T cells</td>\n",
       "      <td>NaN</td>\n",
       "      <td>NaN</td>\n",
       "      <td>KUL5</td>\n",
       "      <td>...</td>\n",
       "      <td>Joanito, 2022</td>\n",
       "      <td>Colorectal cancer, Stage III</td>\n",
       "      <td>3934</td>\n",
       "      <td>8.277666</td>\n",
       "      <td>11016.0</td>\n",
       "      <td>9.307195</td>\n",
       "      <td>23.638344</td>\n",
       "      <td>32.452796</td>\n",
       "      <td>41.485113</td>\n",
       "      <td>55.637255</td>\n",
       "    </tr>\n",
       "    <tr>\n",
       "      <th>KUL5_EXT129_TTTGTCATCGGTTCGG-1</th>\n",
       "      <td>1595</td>\n",
       "      <td>1.074276</td>\n",
       "      <td>EXT129</td>\n",
       "      <td>SC044</td>\n",
       "      <td>Normal</td>\n",
       "      <td>KUL5</td>\n",
       "      <td>Plasma cells</td>\n",
       "      <td>NaN</td>\n",
       "      <td>NaN</td>\n",
       "      <td>KUL5</td>\n",
       "      <td>...</td>\n",
       "      <td>Joanito, 2022</td>\n",
       "      <td>Colorectal cancer, Stage III</td>\n",
       "      <td>5551</td>\n",
       "      <td>8.621914</td>\n",
       "      <td>26544.0</td>\n",
       "      <td>10.186597</td>\n",
       "      <td>27.946052</td>\n",
       "      <td>36.765371</td>\n",
       "      <td>46.470012</td>\n",
       "      <td>59.877939</td>\n",
       "    </tr>\n",
       "    <tr>\n",
       "      <th>KUL5_EXT129_TTTGTCATCTATCGCC-1</th>\n",
       "      <td>1532</td>\n",
       "      <td>1.153075</td>\n",
       "      <td>EXT129</td>\n",
       "      <td>SC044</td>\n",
       "      <td>Normal</td>\n",
       "      <td>KUL5</td>\n",
       "      <td>Plasma cells</td>\n",
       "      <td>NaN</td>\n",
       "      <td>NaN</td>\n",
       "      <td>KUL5</td>\n",
       "      <td>...</td>\n",
       "      <td>Joanito, 2022</td>\n",
       "      <td>Colorectal cancer, Stage III</td>\n",
       "      <td>3276</td>\n",
       "      <td>8.094684</td>\n",
       "      <td>9588.0</td>\n",
       "      <td>9.168372</td>\n",
       "      <td>24.530663</td>\n",
       "      <td>33.646224</td>\n",
       "      <td>43.387568</td>\n",
       "      <td>59.084272</td>\n",
       "    </tr>\n",
       "  </tbody>\n",
       "</table>\n",
       "<p>373058 rows × 39 columns</p>\n",
       "</div>"
      ],
      "text/plain": [
       "                                  nFeature_RNA  pct_counts_mito Sample_ID  \\\n",
       "cell.ID                                                                     \n",
       "CRC16_MUX8563_AAACGGGGTCGATTGT-1          5099        17.969349   MUX8563   \n",
       "CRC16_MUX8563_AAAGATGCAGAAGCAC-1          4759        23.734351   MUX8563   \n",
       "CRC16_MUX8563_AAAGCAATCTAACGGT-1          2580        24.403016   MUX8563   \n",
       "CRC16_MUX8563_ACAGCCGGTCTCTTAT-1          2499        11.020450   MUX8563   \n",
       "CRC16_MUX8563_ACAGCTATCCGTCATC-1          4937        23.243570   MUX8563   \n",
       "...                                        ...              ...       ...   \n",
       "KUL5_EXT129_TTTGTCAGTTGGACCC-1            1230         1.356960    EXT129   \n",
       "KUL5_EXT129_TTTGTCATCAGCATGT-1             983         9.032534    EXT129   \n",
       "KUL5_EXT129_TTTGTCATCCATGAGT-1             850         7.793522    EXT129   \n",
       "KUL5_EXT129_TTTGTCATCGGTTCGG-1            1595         1.074276    EXT129   \n",
       "KUL5_EXT129_TTTGTCATCTATCGCC-1            1532         1.153075    EXT129   \n",
       "\n",
       "                                 Donor_ID sample.origin dataset_x  \\\n",
       "cell.ID                                                             \n",
       "CRC16_MUX8563_AAACGGGGTCGATTGT-1  CRC2794         Tumor   CRC-SG1   \n",
       "CRC16_MUX8563_AAAGATGCAGAAGCAC-1  CRC2794         Tumor   CRC-SG1   \n",
       "CRC16_MUX8563_AAAGCAATCTAACGGT-1  CRC2794         Tumor   CRC-SG1   \n",
       "CRC16_MUX8563_ACAGCCGGTCTCTTAT-1  CRC2794         Tumor   CRC-SG1   \n",
       "CRC16_MUX8563_ACAGCTATCCGTCATC-1  CRC2794         Tumor   CRC-SG1   \n",
       "...                                   ...           ...       ...   \n",
       "KUL5_EXT129_TTTGTCAGTTGGACCC-1      SC044        Normal      KUL5   \n",
       "KUL5_EXT129_TTTGTCATCAGCATGT-1      SC044        Normal      KUL5   \n",
       "KUL5_EXT129_TTTGTCATCCATGAGT-1      SC044        Normal      KUL5   \n",
       "KUL5_EXT129_TTTGTCATCGGTTCGG-1      SC044        Normal      KUL5   \n",
       "KUL5_EXT129_TTTGTCATCTATCGCC-1      SC044        Normal      KUL5   \n",
       "\n",
       "                                     Cell Type    iCMS  msi dataset_y  ...  \\\n",
       "cell.ID                                                                ...   \n",
       "CRC16_MUX8563_AAACGGGGTCGATTGT-1    Epithelial   iCMS2  MSS   CRC-SG1  ...   \n",
       "CRC16_MUX8563_AAAGATGCAGAAGCAC-1    Epithelial   iCMS2  MSS   CRC-SG1  ...   \n",
       "CRC16_MUX8563_AAAGCAATCTAACGGT-1    Epithelial  Normal  MSS   CRC-SG1  ...   \n",
       "CRC16_MUX8563_ACAGCCGGTCTCTTAT-1    Epithelial   iCMS2  MSS   CRC-SG1  ...   \n",
       "CRC16_MUX8563_ACAGCTATCCGTCATC-1    Epithelial   iCMS2  MSS   CRC-SG1  ...   \n",
       "...                                        ...     ...  ...       ...  ...   \n",
       "KUL5_EXT129_TTTGTCAGTTGGACCC-1    Plasma cells     NaN  NaN      KUL5  ...   \n",
       "KUL5_EXT129_TTTGTCATCAGCATGT-1         T cells     NaN  NaN      KUL5  ...   \n",
       "KUL5_EXT129_TTTGTCATCCATGAGT-1         T cells     NaN  NaN      KUL5  ...   \n",
       "KUL5_EXT129_TTTGTCATCGGTTCGG-1    Plasma cells     NaN  NaN      KUL5  ...   \n",
       "KUL5_EXT129_TTTGTCATCTATCGCC-1    Plasma cells     NaN  NaN      KUL5  ...   \n",
       "\n",
       "                                     Study_name                     Diagnosis  \\\n",
       "cell.ID                                                                         \n",
       "CRC16_MUX8563_AAACGGGGTCGATTGT-1  Joanito, 2022  Colorectal cancer, Stage III   \n",
       "CRC16_MUX8563_AAAGATGCAGAAGCAC-1  Joanito, 2022  Colorectal cancer, Stage III   \n",
       "CRC16_MUX8563_AAAGCAATCTAACGGT-1  Joanito, 2022  Colorectal cancer, Stage III   \n",
       "CRC16_MUX8563_ACAGCCGGTCTCTTAT-1  Joanito, 2022  Colorectal cancer, Stage III   \n",
       "CRC16_MUX8563_ACAGCTATCCGTCATC-1  Joanito, 2022  Colorectal cancer, Stage III   \n",
       "...                                         ...                           ...   \n",
       "KUL5_EXT129_TTTGTCAGTTGGACCC-1    Joanito, 2022  Colorectal cancer, Stage III   \n",
       "KUL5_EXT129_TTTGTCATCAGCATGT-1    Joanito, 2022  Colorectal cancer, Stage III   \n",
       "KUL5_EXT129_TTTGTCATCCATGAGT-1    Joanito, 2022  Colorectal cancer, Stage III   \n",
       "KUL5_EXT129_TTTGTCATCGGTTCGG-1    Joanito, 2022  Colorectal cancer, Stage III   \n",
       "KUL5_EXT129_TTTGTCATCTATCGCC-1    Joanito, 2022  Colorectal cancer, Stage III   \n",
       "\n",
       "                                 n_genes_by_counts log1p_n_genes_by_counts  \\\n",
       "cell.ID                                                                      \n",
       "CRC16_MUX8563_AAACGGGGTCGATTGT-1              2577                7.854769   \n",
       "CRC16_MUX8563_AAAGATGCAGAAGCAC-1              1531                7.334329   \n",
       "CRC16_MUX8563_AAAGCAATCTAACGGT-1              3083                8.033983   \n",
       "CRC16_MUX8563_ACAGCCGGTCTCTTAT-1              1686                7.430707   \n",
       "CRC16_MUX8563_ACAGCTATCCGTCATC-1              4304                8.367532   \n",
       "...                                            ...                     ...   \n",
       "KUL5_EXT129_TTTGTCAGTTGGACCC-1                2926                7.981733   \n",
       "KUL5_EXT129_TTTGTCATCAGCATGT-1                5779                8.662159   \n",
       "KUL5_EXT129_TTTGTCATCCATGAGT-1                3934                8.277666   \n",
       "KUL5_EXT129_TTTGTCATCGGTTCGG-1                5551                8.621914   \n",
       "KUL5_EXT129_TTTGTCATCTATCGCC-1                3276                8.094684   \n",
       "\n",
       "                                 total_counts log1p_total_counts  \\\n",
       "cell.ID                                                            \n",
       "CRC16_MUX8563_AAACGGGGTCGATTGT-1      29514.0          10.292654   \n",
       "CRC16_MUX8563_AAAGATGCAGAAGCAC-1       3259.0           8.089482   \n",
       "CRC16_MUX8563_AAAGCAATCTAACGGT-1      71212.0          11.173430   \n",
       "CRC16_MUX8563_ACAGCCGGTCTCTTAT-1       3771.0           8.235361   \n",
       "CRC16_MUX8563_ACAGCTATCCGTCATC-1      16948.0           9.737964   \n",
       "...                                       ...                ...   \n",
       "KUL5_EXT129_TTTGTCAGTTGGACCC-1         8000.0           8.987322   \n",
       "KUL5_EXT129_TTTGTCATCAGCATGT-1        28255.0          10.249061   \n",
       "KUL5_EXT129_TTTGTCATCCATGAGT-1        11016.0           9.307195   \n",
       "KUL5_EXT129_TTTGTCATCGGTTCGG-1        26544.0          10.186597   \n",
       "KUL5_EXT129_TTTGTCATCTATCGCC-1         9588.0           9.168372   \n",
       "\n",
       "                                 pct_counts_in_top_50_genes  \\\n",
       "cell.ID                                                       \n",
       "CRC16_MUX8563_AAACGGGGTCGATTGT-1                  82.221996   \n",
       "CRC16_MUX8563_AAAGATGCAGAAGCAC-1                  34.581160   \n",
       "CRC16_MUX8563_AAAGCAATCTAACGGT-1                  89.725046   \n",
       "CRC16_MUX8563_ACAGCCGGTCTCTTAT-1                  32.962079   \n",
       "CRC16_MUX8563_ACAGCTATCCGTCATC-1                  31.602549   \n",
       "...                                                     ...   \n",
       "KUL5_EXT129_TTTGTCAGTTGGACCC-1                    26.037500   \n",
       "KUL5_EXT129_TTTGTCATCAGCATGT-1                    23.542736   \n",
       "KUL5_EXT129_TTTGTCATCCATGAGT-1                    23.638344   \n",
       "KUL5_EXT129_TTTGTCATCGGTTCGG-1                    27.946052   \n",
       "KUL5_EXT129_TTTGTCATCTATCGCC-1                    24.530663   \n",
       "\n",
       "                                 pct_counts_in_top_100_genes  \\\n",
       "cell.ID                                                        \n",
       "CRC16_MUX8563_AAACGGGGTCGATTGT-1                   84.563258   \n",
       "CRC16_MUX8563_AAAGATGCAGAAGCAC-1                   42.405646   \n",
       "CRC16_MUX8563_AAAGCAATCTAACGGT-1                   91.269730   \n",
       "CRC16_MUX8563_ACAGCCGGTCTCTTAT-1                   41.500928   \n",
       "CRC16_MUX8563_ACAGCTATCCGTCATC-1                   39.951617   \n",
       "...                                                      ...   \n",
       "KUL5_EXT129_TTTGTCAGTTGGACCC-1                     35.625000   \n",
       "KUL5_EXT129_TTTGTCATCAGCATGT-1                     32.503982   \n",
       "KUL5_EXT129_TTTGTCATCCATGAGT-1                     32.452796   \n",
       "KUL5_EXT129_TTTGTCATCGGTTCGG-1                     36.765371   \n",
       "KUL5_EXT129_TTTGTCATCTATCGCC-1                     33.646224   \n",
       "\n",
       "                                 pct_counts_in_top_200_genes  \\\n",
       "cell.ID                                                        \n",
       "CRC16_MUX8563_AAACGGGGTCGATTGT-1                   87.172189   \n",
       "CRC16_MUX8563_AAAGATGCAGAAGCAC-1                   52.347346   \n",
       "CRC16_MUX8563_AAAGCAATCTAACGGT-1                   92.697860   \n",
       "CRC16_MUX8563_ACAGCCGGTCTCTTAT-1                   51.259613   \n",
       "CRC16_MUX8563_ACAGCTATCCGTCATC-1                   49.032334   \n",
       "...                                                      ...   \n",
       "KUL5_EXT129_TTTGTCAGTTGGACCC-1                     46.200000   \n",
       "KUL5_EXT129_TTTGTCATCAGCATGT-1                     42.456202   \n",
       "KUL5_EXT129_TTTGTCATCCATGAGT-1                     41.485113   \n",
       "KUL5_EXT129_TTTGTCATCGGTTCGG-1                     46.470012   \n",
       "KUL5_EXT129_TTTGTCATCTATCGCC-1                     43.387568   \n",
       "\n",
       "                                 pct_counts_in_top_500_genes  \n",
       "cell.ID                                                       \n",
       "CRC16_MUX8563_AAACGGGGTCGATTGT-1                   91.044928  \n",
       "CRC16_MUX8563_AAAGATGCAGAAGCAC-1                   68.364529  \n",
       "CRC16_MUX8563_AAAGCAATCTAACGGT-1                   94.829523  \n",
       "CRC16_MUX8563_ACAGCCGGTCTCTTAT-1                   68.363829  \n",
       "CRC16_MUX8563_ACAGCTATCCGTCATC-1                   62.030918  \n",
       "...                                                      ...  \n",
       "KUL5_EXT129_TTTGTCAGTTGGACCC-1                     61.250000  \n",
       "KUL5_EXT129_TTTGTCATCAGCATGT-1                     57.165104  \n",
       "KUL5_EXT129_TTTGTCATCCATGAGT-1                     55.637255  \n",
       "KUL5_EXT129_TTTGTCATCGGTTCGG-1                     59.877939  \n",
       "KUL5_EXT129_TTTGTCATCTATCGCC-1                     59.084272  \n",
       "\n",
       "[373058 rows x 39 columns]"
      ]
     },
     "execution_count": 46,
     "metadata": {},
     "output_type": "execute_result"
    }
   ],
   "source": [
    "Joanito_2022_anndata.obs"
   ]
  },
  {
   "cell_type": "code",
   "execution_count": 47,
   "metadata": {},
   "outputs": [],
   "source": [
    "# Delete unnecessary columns\n",
    "del Joanito_2022_anndata.obs['log1p_total_counts'], Joanito_2022_anndata.obs['pct_counts_in_top_50_genes'], Joanito_2022_anndata.obs['log1p_n_genes_by_counts']\n",
    "del Joanito_2022_anndata.obs['pct_counts_in_top_100_genes'], Joanito_2022_anndata.obs['pct_counts_in_top_200_genes'], Joanito_2022_anndata.obs['pct_counts_in_top_500_genes']"
   ]
  },
  {
   "cell_type": "code",
   "execution_count": 48,
   "metadata": {},
   "outputs": [],
   "source": [
    "# Make a new column \"Library_Preparation_Protocol\" in Cancer_adata_raw.obs and if Cancer_adata_raw.obs[dataset_x] == 'SMC' then fill it with \"10X 3' v2\"\n",
    "# if Cancer_adata_raw.obs[dataset_x] == 'CRC-SG2' then fill it with \"10X 3' v3\"\n",
    "# if Cancer_adata_raw.obs[dataset_x] =='KUL3' then fill it with \"10X 3' v2\"\n",
    "# if Cancer_adata_raw.obs[dataset_x] =='KUL5' then fill it with \"5'\"\n",
    "# if dCancer_adata_raw.obs[dataset_x] == 'CRC-SG1' then fill it with \"5'\"\n",
    "\n",
    "# Create a new column \"Library_Preparation_Protocol\" in Cancer_adata_raw.obs\n",
    "Joanito_2022_anndata.obs['Library_Preparation_Protocol'] = \"\"\n",
    "\n",
    "# Iterate over each row and assign the corresponding protocol value\n",
    "for idx, row in Joanito_2022_anndata.obs.iterrows():\n",
    "    dataset_x = row['dataset_x']\n",
    "    if dataset_x == 'SMC':\n",
    "        Joanito_2022_anndata.obs.at[idx, 'Library_Preparation_Protocol'] = \"10x 3' v2\"\n",
    "    elif dataset_x == 'CRC-SG2':\n",
    "        Joanito_2022_anndata.obs.at[idx, 'Library_Preparation_Protocol'] = \"10x 3' v3\"\n",
    "    elif dataset_x == 'KUL3':\n",
    "        Joanito_2022_anndata.obs.at[idx, 'Library_Preparation_Protocol'] = \"10x 3' v2\"\n",
    "    elif dataset_x == 'KUL5':\n",
    "        Joanito_2022_anndata.obs.at[idx, 'Library_Preparation_Protocol'] = \"10x 5' v1\"\n",
    "    elif dataset_x == 'CRC-SG1':\n",
    "        Joanito_2022_anndata.obs.at[idx, 'Library_Preparation_Protocol'] = \"10x 5' v1\""
   ]
  },
  {
   "cell_type": "code",
   "execution_count": 49,
   "metadata": {},
   "outputs": [
    {
     "data": {
      "text/plain": [
       "10x 5' v1    249668\n",
       "10x 3' v2     85295\n",
       "10x 3' v3     38095\n",
       "Name: Library_Preparation_Protocol, dtype: int64"
      ]
     },
     "execution_count": 49,
     "metadata": {},
     "output_type": "execute_result"
    }
   ],
   "source": [
    "Joanito_2022_anndata.obs['Library_Preparation_Protocol'].value_counts()"
   ]
  },
  {
   "cell_type": "code",
   "execution_count": 50,
   "metadata": {},
   "outputs": [],
   "source": [
    "#Saving the final anndata file\n",
    "Joanito_2022_anndata.write('/Users/anna.maguza/Desktop/Data/Gut_project/Joanito_cancer/anndata/Joanito_raw_anndata_all_cells.h5ad')"
   ]
  },
  {
   "attachments": {},
   "cell_type": "markdown",
   "metadata": {},
   "source": [
    "### Doublets Identification"
   ]
  },
  {
   "cell_type": "code",
   "execution_count": 7,
   "metadata": {},
   "outputs": [
    {
     "data": {
      "text/plain": [
       "AnnData object with n_obs × n_vars = 373058 × 33287\n",
       "    obs: 'nFeature_RNA', 'pct_counts_mito', 'Sample_ID', 'Donor_ID', 'sample.origin', 'dataset_x', 'Cell Type', 'iCMS', 'msi', 'dataset_y', 'Sex', 'Tumor Stage', 'MSS/MSI', 'Location', 'Side', 'Group Stage', 'Stage TNM', 'iCMS.transcriptomic', 'iCMS.inferCNV', 'KRAS', 'BRAF', 'TP53', 'APC', 'PIK3CA', 'LymphNode', 'Normal', 'Tumor', 'CMS', 'Age_group', 'Study_name', 'Diagnosis', 'n_genes_by_counts', 'total_counts', 'Library_Preparation_Protocol'\n",
       "    var: 'feature_types', 'genome', 'n_cells_by_counts', 'mean_counts', 'log1p_mean_counts', 'pct_dropout_by_counts', 'total_counts', 'log1p_total_counts'"
      ]
     },
     "execution_count": 7,
     "metadata": {},
     "output_type": "execute_result"
    }
   ],
   "source": [
    "Joanito_2022_anndata"
   ]
  },
  {
   "cell_type": "code",
   "execution_count": 8,
   "metadata": {},
   "outputs": [],
   "source": [
    "# Filter only tumor cells\n",
    "Joanito_2022_anndata = Joanito_2022_anndata[Joanito_2022_anndata.obs['sample.origin'] == 'Tumor']"
   ]
  },
  {
   "cell_type": "code",
   "execution_count": 10,
   "metadata": {},
   "outputs": [],
   "source": [
    "scrub = scrublet.Scrublet(Joanito_2022_anndata.X)"
   ]
  },
  {
   "cell_type": "code",
   "execution_count": 11,
   "metadata": {},
   "outputs": [
    {
     "name": "stdout",
     "output_type": "stream",
     "text": [
      "Preprocessing...\n",
      "Simulating doublets...\n",
      "Embedding transcriptomes using PCA...\n",
      "Calculating doublet scores...\n",
      "Automatically set threshold at doublet score = 0.52\n",
      "Detected doublet rate = 0.4%\n",
      "Estimated detectable doublet fraction = 31.9%\n",
      "Overall doublet rate:\n",
      "\tExpected   = 10.0%\n",
      "\tEstimated  = 1.2%\n",
      "Elapsed time: 678.8 seconds\n"
     ]
    },
    {
     "name": "stderr",
     "output_type": "stream",
     "text": [
      "/var/folders/gb/wwnzrh015q9dns5cmsc3xcjsxglkqz/T/ipykernel_13854/889316888.py:1: ImplicitModificationWarning: Trying to modify attribute `.obs` of view, initializing view as actual.\n",
      "  Joanito_2022_anndata.obs['doublet_scores'], Joanito_2022_anndata.obs['predicted_doublets'] = scrub.scrub_doublets()\n"
     ]
    },
    {
     "data": {
      "text/plain": [
       "(<Figure size 640x240 with 2 Axes>,\n",
       " array([<Axes: title={'center': 'Observed transcriptomes'}, xlabel='Doublet score', ylabel='Prob. density'>,\n",
       "        <Axes: title={'center': 'Simulated doublets'}, xlabel='Doublet score', ylabel='Prob. density'>],\n",
       "       dtype=object))"
      ]
     },
     "execution_count": 11,
     "metadata": {},
     "output_type": "execute_result"
    },
    {
     "data": {
      "image/png": "[encoded data removed]",
      "text/plain": [
       "<Figure size 640x240 with 2 Axes>"
      ]
     },
     "metadata": {
      "image/png": {
       "height": 223,
       "width": 623
      }
     },
     "output_type": "display_data"
    }
   ],
   "source": [
    "Joanito_2022_anndata.obs['doublet_scores'], Joanito_2022_anndata.obs['predicted_doublets'] = scrub.scrub_doublets()\n",
    "scrub.plot_histogram()"
   ]
  },
  {
   "cell_type": "code",
   "execution_count": 12,
   "metadata": {},
   "outputs": [
    {
     "data": {
      "text/plain": [
       "656"
      ]
     },
     "execution_count": 12,
     "metadata": {},
     "output_type": "execute_result"
    }
   ],
   "source": [
    "sum(Joanito_2022_anndata.obs['predicted_doublets'])"
   ]
  },
  {
   "cell_type": "code",
   "execution_count": 13,
   "metadata": {},
   "outputs": [],
   "source": [
    "# add in column with singlet/doublet instead of True/False\n",
    "Joanito_2022_anndata.obs['doublet_info'] = Joanito_2022_anndata.obs[\"predicted_doublets\"].astype(str)"
   ]
  },
  {
   "cell_type": "code",
   "execution_count": 17,
   "metadata": {},
   "outputs": [],
   "source": [
    "#Saving the final anndata file\n",
    "Joanito_2022_anndata.write('/Users/anna.maguza/Desktop/Data/Gut_project/Joanito_cancer/anndata/Joanito_raw_anndata_tumor_cells.h5ad')"
   ]
  },
  {
   "attachments": {},
   "cell_type": "markdown",
   "metadata": {},
   "source": [
    "### Filter by quality metrics"
   ]
  },
  {
   "cell_type": "code",
   "execution_count": 26,
   "metadata": {},
   "outputs": [],
   "source": [
    "#Filtering by genes\n",
    "#Joanito_2022_anndata = Joanito_2022_anndata[Joanito_2022_anndata.obs.n_genes_by_counts < 4000, :]\n",
    "#Joanito_2022_anndata = Joanito_2022_anndata[Joanito_2022_anndata.obs.n_genes_by_counts > 200, :]\n",
    "\n",
    "#Filtering by counts\n",
    "#Joanito_2022_anndata = Joanito_2022_anndata[Joanito_2022_anndata.obs.total_counts < 20000, :]"
   ]
  }
 ],
 "metadata": {
  "kernelspec": {
   "display_name": "Python 3 (ipykernel)",
   "language": "python",
   "name": "python3"
  },
  "language_info": {
   "codemirror_mode": {
    "name": "ipython",
    "version": 3
   },
   "file_extension": ".py",
   "mimetype": "text/x-python",
   "name": "python",
   "nbconvert_exporter": "python",
   "pygments_lexer": "ipython3",
   "version": "3.9.16"
  },
  "orig_nbformat": 4,
  "vscode": {
   "interpreter": {
    "hash": "38196666d5885f2c7b712fecdbb810606921747bf937f5c5e660684fe79200fa"
   }
  }
 },
 "nbformat": 4,
 "nbformat_minor": 2
}
