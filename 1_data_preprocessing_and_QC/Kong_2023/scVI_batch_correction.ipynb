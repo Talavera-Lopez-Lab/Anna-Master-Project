{
 "cells": [
  {
   "attachments": {},
   "cell_type": "markdown",
   "metadata": {},
   "source": [
    "## Notebook for Smillie data integration and batch correction `scVI`\n",
    "\n",
    "- **Developed by**: Anna Maguza\n",
    "- **Institute of Computational Biology - Computational Health Centre - Helmholtz Munich**\n",
    "- 4th July 2023"
   ]
  },
  {
   "cell_type": "markdown",
   "metadata": {},
   "source": [
    "### Load required modules"
   ]
  },
  {
   "cell_type": "code",
   "execution_count": 1,
   "metadata": {},
   "outputs": [
    {
     "name": "stderr",
     "output_type": "stream",
     "text": [
      "Global seed set to 0\n",
      "/Users/anna.maguza/miniconda3/envs/scvi_env/lib/python3.9/site-packages/tqdm/auto.py:21: TqdmWarning: IProgress not found. Please update jupyter and ipywidgets. See https://ipywidgets.readthedocs.io/en/stable/user_install.html\n",
      "  from .autonotebook import tqdm as notebook_tqdm\n",
      "/Users/anna.maguza/miniconda3/envs/scvi_env/lib/python3.9/site-packages/flax/struct.py:132: FutureWarning: jax.tree_util.register_keypaths is deprecated, and will be removed in a future release. Please use `register_pytree_with_keys()` instead.\n",
      "  jax.tree_util.register_keypaths(data_clz, keypaths)\n",
      "/Users/anna.maguza/miniconda3/envs/scvi_env/lib/python3.9/site-packages/flax/struct.py:132: FutureWarning: jax.tree_util.register_keypaths is deprecated, and will be removed in a future release. Please use `register_pytree_with_keys()` instead.\n",
      "  jax.tree_util.register_keypaths(data_clz, keypaths)\n",
      "/Users/anna.maguza/miniconda3/envs/scvi_env/lib/python3.9/site-packages/flax/struct.py:132: FutureWarning: jax.tree_util.register_keypaths is deprecated, and will be removed in a future release. Please use `register_pytree_with_keys()` instead.\n",
      "  jax.tree_util.register_keypaths(data_clz, keypaths)\n"
     ]
    }
   ],
   "source": [
    "import sys\n",
    "import scvi\n",
    "import torch\n",
    "import anndata\n",
    "import matplotlib\n",
    "import matplotlib.pyplot as plt\n",
    "from matplotlib.colors import LinearSegmentedColormap\n",
    "import seaborn as sns\n",
    "\n",
    "import numpy as np\n",
    "import scipy as sp\n",
    "import pandas as pd\n",
    "import scanpy as sc\n",
    "import numpy.random as random\n",
    "\n",
    "\n",
    "from umap import UMAP\n",
    "import warnings; warnings.simplefilter('ignore')\n",
    "\n",
    "import matplotlib.pyplot as plt"
   ]
  },
  {
   "cell_type": "code",
   "execution_count": 2,
   "metadata": {},
   "outputs": [],
   "source": [
    "%matplotlib inline\n",
    "matplotlib.rcParams[\"pdf.fonttype\"] = 42\n",
    "matplotlib.rcParams[\"ps.fonttype\"] = 42"
   ]
  },
  {
   "cell_type": "code",
   "execution_count": 3,
   "metadata": {},
   "outputs": [
    {
     "data": {
      "text/plain": [
       "False"
      ]
     },
     "execution_count": 3,
     "metadata": {},
     "output_type": "execute_result"
    }
   ],
   "source": [
    "torch.cuda.is_available()"
   ]
  },
  {
   "cell_type": "code",
   "execution_count": 4,
   "metadata": {},
   "outputs": [],
   "source": [
    "torch.set_float32_matmul_precision('medium')"
   ]
  },
  {
   "cell_type": "code",
   "execution_count": 5,
   "metadata": {},
   "outputs": [
    {
     "name": "stdout",
     "output_type": "stream",
     "text": [
      "-----\n",
      "anndata     0.8.0\n",
      "scanpy      1.9.3\n",
      "-----\n",
      "PIL                         9.4.0\n",
      "absl                        NA\n",
      "appnope                     0.1.2\n",
      "asttokens                   NA\n",
      "attr                        22.2.0\n",
      "backcall                    0.2.0\n",
      "beta_ufunc                  NA\n",
      "binom_ufunc                 NA\n",
      "brotli                      NA\n",
      "certifi                     2022.12.07\n",
      "cffi                        1.15.1\n",
      "charset_normalizer          2.1.1\n",
      "chex                        0.1.6\n",
      "colorama                    0.4.6\n",
      "comm                        0.1.2\n",
      "contextlib2                 NA\n",
      "cycler                      0.10.0\n",
      "cython_runtime              NA\n",
      "dateutil                    2.8.2\n",
      "debugpy                     1.5.1\n",
      "decorator                   5.1.1\n",
      "defusedxml                  0.7.1\n",
      "docrep                      0.3.2\n",
      "entrypoints                 0.4\n",
      "executing                   0.8.3\n",
      "flax                        0.6.1\n",
      "fsspec                      2023.3.0\n",
      "h5py                        3.8.0\n",
      "hypergeom_ufunc             NA\n",
      "idna                        3.4\n",
      "importlib_resources         NA\n",
      "invgauss_ufunc              NA\n",
      "ipykernel                   6.19.2\n",
      "ipython_genutils            0.2.0\n",
      "jax                         0.4.6\n",
      "jaxlib                      0.4.6\n",
      "jedi                        0.18.1\n",
      "joblib                      1.2.0\n",
      "jupyter_server              1.23.6\n",
      "kiwisolver                  1.4.4\n",
      "lightning_fabric            1.9.4\n",
      "lightning_utilities         0.8.0\n",
      "llvmlite                    0.39.1\n",
      "matplotlib                  3.7.1\n",
      "matplotlib_inline           0.1.6\n",
      "ml_collections              NA\n",
      "mpl_toolkits                NA\n",
      "mpmath                      1.3.0\n",
      "msgpack                     1.0.5\n",
      "mudata                      0.2.1\n",
      "multipledispatch            0.6.0\n",
      "natsort                     8.3.1\n",
      "nbinom_ufunc                NA\n",
      "ncf_ufunc                   NA\n",
      "nct_ufunc                   NA\n",
      "ncx2_ufunc                  NA\n",
      "numba                       0.56.4\n",
      "numpy                       1.23.5\n",
      "numpyro                     0.11.0\n",
      "opt_einsum                  v3.3.0\n",
      "optax                       0.1.4\n",
      "packaging                   23.0\n",
      "pandas                      1.3.5\n",
      "parso                       0.8.3\n",
      "pexpect                     4.8.0\n",
      "pickleshare                 0.7.5\n",
      "pkg_resources               NA\n",
      "platformdirs                3.1.1\n",
      "prompt_toolkit              3.0.36\n",
      "psutil                      5.9.0\n",
      "ptyprocess                  0.7.0\n",
      "pure_eval                   0.2.2\n",
      "pycparser                   2.21\n",
      "pydev_ipython               NA\n",
      "pydevconsole                NA\n",
      "pydevd                      2.6.0\n",
      "pydevd_concurrency_analyser NA\n",
      "pydevd_file_utils           NA\n",
      "pydevd_plugins              NA\n",
      "pydevd_tracing              NA\n",
      "pygments                    2.14.0\n",
      "pynndescent                 0.5.8\n",
      "pyparsing                   3.0.9\n",
      "pyro                        1.8.4+9ed468d\n",
      "pytorch_lightning           1.9.4\n",
      "pytz                        2022.7.1\n",
      "requests                    2.28.2\n",
      "rich                        NA\n",
      "scipy                       1.10.1\n",
      "scvi                        0.20.2\n",
      "seaborn                     0.12.2\n",
      "session_info                1.0.0\n",
      "setuptools                  65.6.3\n",
      "six                         1.16.0\n",
      "skewnorm_ufunc              NA\n",
      "sklearn                     1.2.2\n",
      "socks                       1.7.1\n",
      "stack_data                  0.2.0\n",
      "statsmodels                 0.13.5\n",
      "sympy                       1.11.1\n",
      "threadpoolctl               3.1.0\n",
      "toolz                       0.12.0\n",
      "torch                       2.0.0\n",
      "torchmetrics                0.11.4\n",
      "torchvision                 0.15.1\n",
      "tornado                     6.2\n",
      "tqdm                        4.65.0\n",
      "traitlets                   5.7.1\n",
      "tree                        0.1.7\n",
      "typing_extensions           NA\n",
      "umap                        0.5.3\n",
      "unicodedata2                NA\n",
      "urllib3                     1.26.15\n",
      "wcwidth                     0.2.5\n",
      "wrapt                       1.15.0\n",
      "yaml                        6.0\n",
      "zipp                        NA\n",
      "zmq                         23.2.0\n",
      "-----\n",
      "IPython             8.10.0\n",
      "jupyter_client      7.4.9\n",
      "jupyter_core        5.2.0\n",
      "jupyterlab          3.5.0\n",
      "notebook            6.5.3\n",
      "-----\n",
      "Python 3.9.16 | packaged by conda-forge | (main, Feb  1 2023, 21:38:11) [Clang 14.0.6 ]\n",
      "macOS-12.6.1-arm64-arm-64bit\n",
      "-----\n",
      "Session information updated at 2023-07-05 09:20\n"
     ]
    }
   ],
   "source": [
    "sc.settings.verbosity = 3\n",
    "sc.logging.print_versions()\n",
    "sc.settings.set_figure_params(dpi = 180, color_map = 'magma_r', dpi_save = 300, vector_friendly = True, format = 'svg')"
   ]
  },
  {
   "cell_type": "code",
   "execution_count": 6,
   "metadata": {},
   "outputs": [],
   "source": [
    "arches_params = dict(\n",
    "    use_layer_norm = \"both\",\n",
    "    use_batch_norm = \"none\",\n",
    "    encode_covariates = True,\n",
    "    dropout_rate = 0.2,\n",
    "    n_layers = 2,\n",
    ")"
   ]
  },
  {
   "cell_type": "code",
   "execution_count": 7,
   "metadata": {},
   "outputs": [],
   "source": [
    "def X_is_raw(adata):\n",
    "    return np.array_equal(adata.X.sum(axis=0).astype(int), adata.X.sum(axis=0))"
   ]
  },
  {
   "cell_type": "markdown",
   "metadata": {},
   "source": [
    "### Read in datasets"
   ]
  },
  {
   "cell_type": "code",
   "execution_count": 8,
   "metadata": {},
   "outputs": [],
   "source": [
    "input = '/Users/anna.maguza/Desktop/Data/Gut_project/Kong_2023/Raw_anndata/adata_Kong_2023_healthy_with_QC.h5ad'\n",
    "adata = sc.read_h5ad(input)"
   ]
  },
  {
   "cell_type": "code",
   "execution_count": 9,
   "metadata": {},
   "outputs": [],
   "source": [
    "input = '/Users/anna.maguza/Desktop/Data/Gut_project/Kong_2023/Raw_anndata/Kong_2023_raw_anndata.h5ad'\n",
    "adata_raw = sc.read_h5ad(input)"
   ]
  },
  {
   "cell_type": "code",
   "execution_count": 10,
   "metadata": {},
   "outputs": [],
   "source": [
    "# Filter out cells from adata_raw that are not in adata\n",
    "adata_raw = adata_raw[adata.obs_names]\n",
    "\n",
    "# Replace counts in adata to raw counts from adata_raw\n",
    "adata.X = adata_raw.X\n",
    "\n",
    "del adata_raw"
   ]
  },
  {
   "cell_type": "code",
   "execution_count": 11,
   "metadata": {},
   "outputs": [
    {
     "data": {
      "text/plain": [
       "True"
      ]
     },
     "execution_count": 11,
     "metadata": {},
     "output_type": "execute_result"
    }
   ],
   "source": [
    "X_is_raw(adata)"
   ]
  },
  {
   "cell_type": "code",
   "execution_count": 12,
   "metadata": {},
   "outputs": [],
   "source": [
    "# Save raw data\n",
    "adata.raw = adata"
   ]
  },
  {
   "cell_type": "code",
   "execution_count": 15,
   "metadata": {},
   "outputs": [
    {
     "data": {
      "text/plain": [
       "<bound method AnnData.obs_keys of AnnData object with n_obs × n_vars = 181806 × 27830\n",
       "    obs: 'cell_type', 'tissue', 'batch', 'biosample_id', 'n_genes', 'n_counts', 'Chem', 'Site', 'Type', 'donor_id', 'Layer', 'Celltype', 'sex', 'species', 'species__ontology_label', 'library_preparation_protocol', 'library_preparation_protocol__ontology_label', 'organ', 'organ__ontology_label', 'disease', 'disease__ontology_label', 'n_genes_by_counts', 'log1p_n_genes_by_counts', 'total_counts', 'log1p_total_counts', 'pct_counts_in_top_50_genes', 'pct_counts_in_top_100_genes', 'pct_counts_in_top_200_genes', 'pct_counts_in_top_500_genes', 'total_counts_mito', 'pct_counts_mito', 'total_counts_ribo', 'pct_counts_ribo', 'S_score', 'G2M_score', 'doublet_scores', 'predicted_doublets', 'doublet_info', 'percent_chrY', 'XIST-counts'\n",
       "    var: 'gene_id', 'gene_name', 'n_cells_by_counts', 'mean_counts', 'log1p_mean_counts', 'pct_dropout_by_counts', 'total_counts', 'log1p_total_counts', 'mito', 'ribo', 'highly_variable', 'highly_variable_rank', 'means', 'variances', 'variances_norm'\n",
       "    uns: 'biosample_id_colors', 'donor_id_colors', 'hvg', 'neighbors', 'umap'\n",
       "    obsm: 'X_pca', 'X_umap'\n",
       "    obsp: 'connectivities', 'distances'>"
      ]
     },
     "execution_count": 15,
     "metadata": {},
     "output_type": "execute_result"
    }
   ],
   "source": [
    "adata.obs_keys"
   ]
  },
  {
   "cell_type": "code",
   "execution_count": 18,
   "metadata": {},
   "outputs": [
    {
     "data": {
      "text/plain": [
       "Immune        81599\n",
       "Epithelial    77638\n",
       "Stromal       22569\n",
       "Name: cell_type, dtype: int64"
      ]
     },
     "execution_count": 18,
     "metadata": {},
     "output_type": "execute_result"
    }
   ],
   "source": [
    "adata.obs['cell_type'].value_counts()"
   ]
  },
  {
   "cell_type": "code",
   "execution_count": 17,
   "metadata": {},
   "outputs": [
    {
     "name": "stdout",
     "output_type": "stream",
     "text": [
      "If you pass `n_top_genes`, all cutoffs are ignored.\n",
      "extracting highly variable genes\n",
      "--> added\n",
      "    'highly_variable', boolean vector (adata.var)\n",
      "    'highly_variable_rank', float vector (adata.var)\n",
      "    'means', float vector (adata.var)\n",
      "    'variances', float vector (adata.var)\n",
      "    'variances_norm', float vector (adata.var)\n"
     ]
    }
   ],
   "source": [
    "adata.layers['counts'] = adata.X.copy()\n",
    "\n",
    "# Calculate 5000 HVGs\n",
    "sc.pp.highly_variable_genes(\n",
    "    adata,\n",
    "    flavor = \"seurat_v3\",\n",
    "    n_top_genes = 5000,\n",
    "    layer = \"counts\",\n",
    "    batch_key = 'library_preparation_protocol__ontology_label',\n",
    "    subset = True,\n",
    "    span = 1\n",
    ")"
   ]
  },
  {
   "cell_type": "code",
   "execution_count": 20,
   "metadata": {},
   "outputs": [],
   "source": [
    "adata.obs.rename(columns = {'Celltype': 'Cell States'}, inplace = True)\n",
    "adata.obs.rename(columns = {'cell_type': 'Cell Type'}, inplace = True)"
   ]
  },
  {
   "cell_type": "code",
   "execution_count": 21,
   "metadata": {},
   "outputs": [],
   "source": [
    "# List of specific Cell States to look for\n",
    "cell_states_list = [\n",
    "    'Stem cells OLFM4 LGR5',\n",
    "    'Stem cells OLFM4 PCNA',\n",
    "    'Stem cells OLFM4 GSTA1',\n",
    "    'Stem cells OLFM4'\n",
    "]\n",
    "\n",
    "# Add 'Stem Cell' as a new category to the 'Cell Type' column\n",
    "adata.obs['Cell Type'] = adata.obs['Cell Type'].cat.add_categories(['Stem Cell'])\n",
    "\n",
    "# Update 'Cell Type' based on the condition in 'Cell States'\n",
    "adata.obs.loc[adata.obs['Cell States'].isin(cell_states_list), 'Cell Type'] = 'Stem Cell'"
   ]
  },
  {
   "cell_type": "code",
   "execution_count": 22,
   "metadata": {},
   "outputs": [],
   "source": [
    "# List of specific Cell States to look for\n",
    "cell_states_list = [\n",
    "    'B cells',\n",
    "    'B cells AICDA LRMP'\n",
    "]\n",
    "\n",
    "# Add 'B cells' as a new category to the 'Cell Type' column\n",
    "adata.obs['Cell Type'] = adata.obs['Cell Type'].cat.add_categories(['B cells'])\n",
    "\n",
    "# Update 'Cell Type' based on the condition in 'Cell States'\n",
    "adata.obs.loc[adata.obs['Cell States'].isin(cell_states_list), 'Cell Type'] = 'B cells'"
   ]
  },
  {
   "cell_type": "code",
   "execution_count": 23,
   "metadata": {},
   "outputs": [],
   "source": [
    "# List of specific Cell States to look for\n",
    "cell_states_list = [\n",
    "    'T cells CD4 FOSB',\n",
    "    'T cells CD4 IL17A',\n",
    "    'T cells CD8',\n",
    "    'T cells CD8 KLRG1',\n",
    "    'T cells Naive CD4',\n",
    "    'T cells OGT',\n",
    "    'Tregs',\n",
    "    'NK cells KLRF1 CD3G-',\n",
    "    'NK-like cells ID3 ENTPD1',\n",
    "    'ILCs',\n",
    "    'IELs ID3 ENTPD1',\n",
    "    'Lymphatics'\n",
    "]\n",
    "\n",
    "# Add 'T cells' as a new category to the 'Cell Type' column\n",
    "adata.obs['Cell Type'] = adata.obs['Cell Type'].cat.add_categories(['T cells'])\n",
    "\n",
    "# Update 'Cell Type' based on the condition in 'Cell States'\n",
    "adata.obs.loc[adata.obs['Cell States'].isin(cell_states_list), 'Cell Type'] = 'T cells'"
   ]
  },
  {
   "cell_type": "code",
   "execution_count": 24,
   "metadata": {},
   "outputs": [],
   "source": [
    "cell_states_list = [\n",
    "    'Plasma cells'\n",
    "]\n",
    "\n",
    "# Add 'Plasma cells' as a new category to the 'Cell Type' column\n",
    "adata.obs['Cell Type'] = adata.obs['Cell Type'].cat.add_categories(['Plasma cells'])\n",
    "\n",
    "# Update 'Cell Type' based on the condition in 'Cell States'\n",
    "adata.obs.loc[adata.obs['Cell States'].isin(cell_states_list), 'Cell Type'] = 'Plasma cells'"
   ]
  },
  {
   "cell_type": "code",
   "execution_count": 25,
   "metadata": {},
   "outputs": [],
   "source": [
    "cell_states_list = [\n",
    "    'Cycling cells',\n",
    "    'DC1',\n",
    "    'DC2 CD1D',\n",
    "    'DC2 CD1D-',\n",
    "    'Immune Cycling cells',\n",
    "    'Macrophages',\n",
    "    'Macrophages CCL3 CCL4',\n",
    "    'Macrophages CXCL9 CXCL10',\n",
    "    'Macrophages LYVE1',\n",
    "    'Macrophages Metallothionein',\n",
    "    'Macrophages PLA2G2D',\n",
    "    'Mast cells',\n",
    "    'Mature DCs',\n",
    "    'Monocytes CHI3L1 CYP27A1', \n",
    "    'Monocytes HBB',\n",
    "    'Monocytes S100A8 S100A9'\n",
    "]\n",
    "\n",
    "# Add 'Myeloid' as a new category to the 'Cell Type' column\n",
    "adata.obs['Cell Type'] = adata.obs['Cell Type'].cat.add_categories(['Myeloid'])\n",
    "\n",
    "# Update 'Cell Type' based on the condition in 'Cell States'\n",
    "adata.obs.loc[adata.obs['Cell States'].isin(cell_states_list), 'Cell Type'] = 'Myeloid'"
   ]
  },
  {
   "cell_type": "code",
   "execution_count": 27,
   "metadata": {},
   "outputs": [],
   "source": [
    "cell_states_list = [\n",
    "    'Glial cells'\n",
    "]\n",
    "\n",
    "# Add 'Neuronal' as a new category to the 'Cell Type' column\n",
    "adata.obs['Cell Type'] = adata.obs['Cell Type'].cat.add_categories(['Neuronal'])\n",
    "\n",
    "# Update 'Cell Type' based on the condition in 'Cell States'\n",
    "adata.obs.loc[adata.obs['Cell States'].isin(cell_states_list), 'Cell Type'] = 'Neuronal'"
   ]
  },
  {
   "cell_type": "code",
   "execution_count": 28,
   "metadata": {},
   "outputs": [],
   "source": [
    "cell_states_list = [\n",
    "    'Endothelial cells CA4 CD36',\n",
    "    'Endothelial cells CD36',\n",
    "    'Endothelial cells DARC',\n",
    "    'Endothelial cells LTC4S SEMA3G'\n",
    "]\n",
    "\n",
    "# Add 'Endothelial' as a new category to the 'Cell Type' column\n",
    "adata.obs['Cell Type'] = adata.obs['Cell Type'].cat.add_categories(['Endothelial'])\n",
    "\n",
    "# Update 'Cell Type' based on the condition in 'Cell States'\n",
    "adata.obs.loc[adata.obs['Cell States'].isin(cell_states_list), 'Cell Type'] = 'Endothelial'"
   ]
  },
  {
   "cell_type": "code",
   "execution_count": 29,
   "metadata": {},
   "outputs": [],
   "source": [
    "cell_states_list = [\n",
    "    'Activated fibroblasts CCL19 ADAMADEC1',\n",
    "    'Fibroblasts ADAMDEC1',\n",
    "    'Fibroblasts KCNN3 LY6H',\n",
    "    'Fibroblasts NPY SLITRK6',\n",
    "    'Fibroblasts SFRP2 SLPI',\n",
    "    'Fibroblasts SMOC2 PTGIS',\n",
    "    'Inflammatory fibroblasts IL11 CHI3L1',\n",
    "    'Pericytes HIGD1B STEAP4',\n",
    "    'Pericytes RERGL NTRK2',\n",
    "    'Stromal Cycling cells',\n",
    "    'Myofibroblasts GREM1 GREM2',\n",
    "    'Myofibroblasts HHIP NPNT'\n",
    "]\n",
    "\n",
    "# Add 'Mesenchymal' as a new category to the 'Cell Type' column\n",
    "adata.obs['Cell Type'] = adata.obs['Cell Type'].cat.add_categories(['Mesenchymal'])\n",
    "\n",
    "# Update 'Cell Type' based on the condition in 'Cell States'\n",
    "adata.obs.loc[adata.obs['Cell States'].isin(cell_states_list), 'Cell Type'] = 'Mesenchymal'"
   ]
  },
  {
   "cell_type": "code",
   "execution_count": 30,
   "metadata": {},
   "outputs": [],
   "source": [
    "adata.obs.rename(columns = {'Cell Type': 'Cell_Type'}, inplace = True)"
   ]
  },
  {
   "cell_type": "markdown",
   "metadata": {},
   "source": [
    "### Run Integration with scVI"
   ]
  },
  {
   "cell_type": "code",
   "execution_count": 32,
   "metadata": {},
   "outputs": [],
   "source": [
    "adata = adata.copy()\n",
    "scvi.model.SCVI.setup_anndata(adata, \n",
    "                              layer = \"counts\", \n",
    "                              labels_key = \"Cell_Type\", \n",
    "                              categorical_covariate_keys = [\"biosample_id\"])"
   ]
  },
  {
   "cell_type": "code",
   "execution_count": 33,
   "metadata": {},
   "outputs": [],
   "source": [
    "scvi_model = scvi.model.SCVI(adata, n_latent = 50, n_layers = 3, dispersion = 'gene-batch', gene_likelihood = 'nb')"
   ]
  },
  {
   "cell_type": "code",
   "execution_count": 34,
   "metadata": {},
   "outputs": [
    {
     "name": "stderr",
     "output_type": "stream",
     "text": [
      "GPU available: True (mps), used: False\n",
      "TPU available: False, using: 0 TPU cores\n",
      "IPU available: False, using: 0 IPUs\n",
      "HPU available: False, using: 0 HPUs\n"
     ]
    },
    {
     "name": "stdout",
     "output_type": "stream",
     "text": [
      "Epoch 44/44: 100%|██████████| 44/44 [1:18:41<00:00, 98.40s/it, loss=712, v_num=1]   "
     ]
    },
    {
     "name": "stderr",
     "output_type": "stream",
     "text": [
      "`Trainer.fit` stopped: `max_epochs=44` reached.\n"
     ]
    },
    {
     "name": "stdout",
     "output_type": "stream",
     "text": [
      "Epoch 44/44: 100%|██████████| 44/44 [1:18:41<00:00, 107.31s/it, loss=712, v_num=1]\n"
     ]
    }
   ],
   "source": [
    "scvi_model.train()"
   ]
  },
  {
   "cell_type": "code",
   "execution_count": 35,
   "metadata": {},
   "outputs": [],
   "source": [
    "adata.obsm[\"X_scVI\"] = scvi_model.get_latent_representation()"
   ]
  },
  {
   "cell_type": "markdown",
   "metadata": {},
   "source": [
    "### Integration with scANVI"
   ]
  },
  {
   "cell_type": "code",
   "execution_count": 36,
   "metadata": {},
   "outputs": [],
   "source": [
    "scanvi_model = scvi.model.SCANVI.from_scvi_model(\n",
    "    scvi_model,\n",
    "    adata=adata,\n",
    "    labels_key=\"Cell_Type\",\n",
    "    unlabeled_category=\"Unknown\",\n",
    ")"
   ]
  },
  {
   "cell_type": "code",
   "execution_count": 37,
   "metadata": {},
   "outputs": [
    {
     "name": "stdout",
     "output_type": "stream",
     "text": [
      "\u001b[34mINFO    \u001b[0m Training for \u001b[1;36m10\u001b[0m epochs.                                                                                   \n"
     ]
    },
    {
     "name": "stderr",
     "output_type": "stream",
     "text": [
      "GPU available: True (mps), used: False\n",
      "TPU available: False, using: 0 TPU cores\n",
      "IPU available: False, using: 0 IPUs\n",
      "HPU available: False, using: 0 HPUs\n"
     ]
    },
    {
     "name": "stdout",
     "output_type": "stream",
     "text": [
      "Epoch 10/10: 100%|██████████| 10/10 [16:10<00:00, 97.76s/it, loss=789, v_num=1]"
     ]
    },
    {
     "name": "stderr",
     "output_type": "stream",
     "text": [
      "`Trainer.fit` stopped: `max_epochs=10` reached.\n"
     ]
    },
    {
     "name": "stdout",
     "output_type": "stream",
     "text": [
      "Epoch 10/10: 100%|██████████| 10/10 [16:10<00:00, 97.06s/it, loss=789, v_num=1]\n"
     ]
    }
   ],
   "source": [
    "scanvi_model.train()"
   ]
  },
  {
   "cell_type": "code",
   "execution_count": 38,
   "metadata": {},
   "outputs": [],
   "source": [
    "adata.obsm[\"X_scANVI\"] = scanvi_model.get_latent_representation(adata)"
   ]
  },
  {
   "cell_type": "code",
   "execution_count": 39,
   "metadata": {},
   "outputs": [],
   "source": [
    "adata.write('/Users/anna.maguza/Desktop/Data/Processed_datasets/1_QC/Kong_scVI_scANVI.h5ad')"
   ]
  },
  {
   "cell_type": "markdown",
   "metadata": {},
   "source": [
    "### UMAP calculation"
   ]
  },
  {
   "cell_type": "code",
   "execution_count": 40,
   "metadata": {},
   "outputs": [
    {
     "name": "stdout",
     "output_type": "stream",
     "text": [
      "computing neighbors\n",
      "    finished: added to `.uns['neighbors']`\n",
      "    `.obsp['distances']`, distances for each pair of neighbors\n",
      "    `.obsp['connectivities']`, weighted adjacency matrix (0:01:01)\n"
     ]
    }
   ],
   "source": [
    "sc.pp.neighbors(adata, use_rep = \"X_scANVI\", n_neighbors = 50, metric = 'minkowski')"
   ]
  },
  {
   "cell_type": "code",
   "execution_count": 41,
   "metadata": {},
   "outputs": [
    {
     "name": "stdout",
     "output_type": "stream",
     "text": [
      "computing UMAP\n",
      "    finished: added\n",
      "    'X_umap', UMAP coordinates (adata.obsm) (0:03:04)\n"
     ]
    }
   ],
   "source": [
    "sc.tl.umap(adata, min_dist = 0.4, spread = 4, random_state = 1712)"
   ]
  },
  {
   "cell_type": "code",
   "execution_count": 60,
   "metadata": {},
   "outputs": [],
   "source": [
    "adata.write('/Users/anna.maguza/Desktop/Data/Processed_datasets/1_QC/Kong_scVI_scANVI.h5ad')"
   ]
  },
  {
   "cell_type": "code",
   "execution_count": 43,
   "metadata": {},
   "outputs": [],
   "source": [
    "# Change 'CO' in Kong_adata.obs['Site'] to 'Colon', 'TI' to 'Terminal Ileum', and 'SB' to 'Small Bowel'\n",
    "adata.obs['Site'] = adata.obs['Site'].replace('CO', 'Colon')\n",
    "adata.obs['Site'] = adata.obs['Site'].replace('TI', 'Terminal Ileum')\n",
    "adata.obs['Site'] = adata.obs['Site'].replace('SB', 'Small Bowel')\n",
    "\n",
    "# Rename columns in Kong-2023 dataset as in GCA_Smillie_Wang dataset\n",
    "adata.obs.rename(columns = {'donor_id': 'Donor_ID'}, inplace = True)\n",
    "adata.obs['Study_name'] = 'Kong 2023'\n",
    "adata.obs.rename(columns = {'biosample_id': 'Sample_ID'}, inplace = True)\n",
    "adata.obs.rename(columns = {'Site': 'Location'}, inplace = True)\n",
    "adata.obs.rename(columns = {'Cell States': 'Cell_States'}, inplace = True)\n",
    "\n",
    "adata.obs.rename(columns = {'library_preparation_protocol__ontology_label': 'Library_Preparation_Protocol'}, inplace = True)\n",
    "\n",
    "adata.obs.drop(columns = ['log1p_n_genes_by_counts', 'log1p_total_counts', 'log1p_total_counts', 'pct_counts_in_top_50_genes', 'pct_counts_in_top_100_genes', 'pct_counts_in_top_200_genes', 'pct_counts_in_top_500_genes', 'total_counts'], inplace = True)\n",
    "\n",
    "adata.obs['sex'] = adata.obs['sex'].replace('male', 'Male')\n",
    "adata.obs['sex'] = adata.obs['sex'].replace('female', 'Female')\n",
    "adata.obs.rename(columns = {'sex': 'Sex'}, inplace = True)\n",
    "\n",
    "adata.obs['disease__ontology_label'] = adata.obs['disease__ontology_label'].replace('normal', 'Healthy adult')\n",
    "adata.obs.rename(columns = {'disease__ontology_label': 'Diagnosis'}, inplace = True)\n",
    "\n",
    "adata.obs.drop(columns = ['G2M_score', 'percent_chrY', 'doublet_info', 'XIST-counts', 'S_score'], inplace = True)\n",
    "\n",
    "adata.obs.drop(columns = ['organ', 'tissue', 'Type', 'library_preparation_protocol', 'disease', 'organ__ontology_label', 'species', 'species__ontology_label'], inplace = True)"
   ]
  },
  {
   "cell_type": "code",
   "execution_count": null,
   "metadata": {},
   "outputs": [],
   "source": [
    "sc.set_figure_params(dpi=300)\n",
    "sc.pl.umap(adata, frameon = False, color = ['Cell_Type', 'Donor_ID', 'Sample_ID', 'Location', 'Sex', 'Cell States', 'Library_Preparation_Protocol'], size = 1, legend_fontsize = 5, ncols = 3)"
   ]
  },
  {
   "cell_type": "code",
   "execution_count": null,
   "metadata": {},
   "outputs": [],
   "source": [
    "sc.set_figure_params(dpi=300)\n",
    "sc.pl.umap(adata, frameon = False, color = ['Cell_Type', 'Cell States'], size = 1, legend_fontsize = 5, ncols = 3)"
   ]
  },
  {
   "cell_type": "code",
   "execution_count": null,
   "metadata": {},
   "outputs": [],
   "source": [
    "sc.set_figure_params(dpi=300)\n",
    "sc.pl.umap(adata, frameon = False, color = ['Cell_Type', 'Donor_ID', 'Sample_ID', 'Location', 'Sex', 'Library_Preparation_Protocol'], size = 1, legend_fontsize = 5, ncols = 3)"
   ]
  },
  {
   "cell_type": "code",
   "execution_count": 65,
   "metadata": {},
   "outputs": [],
   "source": [
    "adata.obs['predicted_doublets'] = adata.obs['predicted_doublets'].astype(str)\n",
    "adata.obs['n_counts'] = adata.obs['n_counts'].astype(int)\n",
    "adata.obs['n_genes'] = adata.obs['n_genes'].astype(int)"
   ]
  },
  {
   "cell_type": "code",
   "execution_count": 64,
   "metadata": {},
   "outputs": [
    {
     "data": {
      "text/plain": [
       "<bound method AnnData.obs_keys of AnnData object with n_obs × n_vars = 181806 × 5000\n",
       "    obs: 'Cell_Type', 'batch', 'Sample_ID', 'n_genes', 'n_counts', 'Chem', 'Location', 'Donor_ID', 'Layer', 'Cell States', 'Sex', 'Library_Preparation_Protocol', 'Diagnosis', 'n_genes_by_counts', 'total_counts_mito', 'pct_counts_mito', 'total_counts_ribo', 'pct_counts_ribo', 'doublet_scores', 'predicted_doublets', '_scvi_batch', '_scvi_labels', 'Study_name'\n",
       "    var: 'gene_id', 'gene_name', 'n_cells_by_counts', 'mean_counts', 'log1p_mean_counts', 'pct_dropout_by_counts', 'total_counts', 'log1p_total_counts', 'mito', 'ribo', 'highly_variable', 'highly_variable_rank', 'means', 'variances', 'variances_norm', 'highly_variable_nbatches'\n",
       "    uns: 'biosample_id_colors', 'donor_id_colors', 'hvg', 'neighbors', 'umap', '_scvi_uuid', '_scvi_manager_uuid', 'Cell_Type_colors', 'Diagnosis_colors', 'Sample_ID_colors', 'Donor_ID_colors', 'Location_colors', 'Sex_colors', 'Cell States_colors', 'Library_Preparation_Protocol_colors', 'n_counts_colors'\n",
       "    obsm: 'X_pca', 'X_umap', '_scvi_extra_categorical_covs', 'X_scVI', 'X_scANVI'\n",
       "    layers: 'counts'\n",
       "    obsp: 'connectivities', 'distances'>"
      ]
     },
     "execution_count": 64,
     "metadata": {},
     "output_type": "execute_result"
    }
   ],
   "source": [
    "adata.obs_keys"
   ]
  },
  {
   "cell_type": "code",
   "execution_count": null,
   "metadata": {},
   "outputs": [],
   "source": [
    "sc.set_figure_params(dpi=300)\n",
    "sc.pl.umap(adata, frameon = False, color = ['n_genes_by_counts', 'n_counts', 'pct_counts_mito', 'pct_counts_ribo', 'predicted_doublets', ], size = 1, legend_fontsize = 5, ncols = 3)"
   ]
  },
  {
   "cell_type": "code",
   "execution_count": 79,
   "metadata": {},
   "outputs": [],
   "source": [
    "# Make a column 'Stem_cell' in adata.obs, and put True if adata.obs['Cell_State'] == 'Stem_cell', False otherwise\n",
    "adata.obs['Stem_cell'] = adata.obs['Cell_Type'] == 'Stem Cell'"
   ]
  },
  {
   "cell_type": "code",
   "execution_count": 80,
   "metadata": {},
   "outputs": [],
   "source": [
    "adata.obs['Stem_cell'] = adata.obs['Stem_cell'].astype(str)"
   ]
  },
  {
   "cell_type": "code",
   "execution_count": null,
   "metadata": {},
   "outputs": [],
   "source": [
    "# Plot only Stem cells\n",
    "sc.set_figure_params(dpi=300)\n",
    "sc.pl.umap(adata, frameon = False, color = ['Stem_cell'], size = 1, legend_fontsize = 5, ncols = 3)"
   ]
  },
  {
   "cell_type": "code",
   "execution_count": 82,
   "metadata": {},
   "outputs": [],
   "source": [
    "# Return to raw counts\n",
    "adata = adata.raw.to_adata()"
   ]
  },
  {
   "cell_type": "code",
   "execution_count": null,
   "metadata": {},
   "outputs": [],
   "source": [
    "Stem_cells_markers = ['CD24', 'DCLK1', 'LGR5', 'CD166', 'CD44', 'DCAMKL-1', 'SOX9', 'ACAD10', 'ACVR1C', 'ADH1C', 'ALDH1', 'ALK3', 'ARSE', \n",
    "'ASCL2', 'ATP10B', 'BMI1', 'C16orf89', 'C6orf136', 'CD29', 'CDCA7', 'CFTR','CHMP4C', 'CHP2', 'CLDN15', 'CLDN18', 'CLDN2', 'CPA6', 'DAPK2', \n",
    "'DDC', 'EFNA3', 'EPHB2', 'EPYC', 'EVPL', 'F2RL1', 'FBLN2', 'FOXD2-AS1', 'GATA6-AS1', 'GDF15', 'GJB1', 'GJB1', 'GOLT1A', 'GPX2', 'HNF1A', \n",
    "'HSD17B2', 'ITPKC','LEFTY1', 'LHFPL3-AS2', 'LIPG', 'LY6G6D', 'MGST1', 'MSI1', 'MYOM3', 'Musashi-1', 'NOX1', 'OLFM4', 'PCSK9', 'PDZD3', \n",
    "'PHLDA1', 'PKP2', 'PLAGL2', 'PLEKHH1', 'PPP1R1B', 'PTGDR', 'PTK7', 'RGMB', 'RNF157', 'RNF186', 'SFN', 'SLC27A2', 'SLC38A4', 'SLPI',\n",
    "'SULT1B1', 'TAF4B', 'TANC1', 'TMEM171', 'TSPAN8', 'Telomerase Inhibitors', 'URB1-AS1', 'ZBED9', 'ZNF296', 'ASCL2', 'SMOC2']\n",
    "sc.tl.score_genes(adata, Stem_cells_markers, score_name = 'Stem_cells_markers_score')\n",
    "\n",
    "sc.set_figure_params(dpi=300)\n",
    "sc.pl.umap(adata, color= ['Stem_cells_markers_score'], color_map = \"RdPu\", size = 0.3, frameon = False)"
   ]
  }
 ],
 "metadata": {
  "kernelspec": {
   "display_name": "scvi_env",
   "language": "python",
   "name": "python3"
  },
  "language_info": {
   "codemirror_mode": {
    "name": "ipython",
    "version": 3
   },
   "file_extension": ".py",
   "mimetype": "text/x-python",
   "name": "python",
   "nbconvert_exporter": "python",
   "pygments_lexer": "ipython3",
   "version": "3.9.16"
  },
  "orig_nbformat": 4
 },
 "nbformat": 4,
 "nbformat_minor": 2
}
