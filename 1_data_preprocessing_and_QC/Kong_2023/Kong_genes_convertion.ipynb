{
 "cells": [
  {
   "cell_type": "code",
   "execution_count": 1,
   "metadata": {},
   "outputs": [],
   "source": [
    "from liftover import get_lifter\n",
    "import scanpy as sc\n",
    "import pandas as pd\n",
    "import numpy as np\n",
    "import anndata\n",
    "from pybiomart import Server"
   ]
  },
  {
   "cell_type": "code",
   "execution_count": 55,
   "metadata": {},
   "outputs": [],
   "source": [
    "from intervaltree import Interval, IntervalTree"
   ]
  },
  {
   "attachments": {},
   "cell_type": "markdown",
   "metadata": {},
   "source": [
    "### Data Upload"
   ]
  },
  {
   "cell_type": "code",
   "execution_count": 37,
   "metadata": {},
   "outputs": [],
   "source": [
    "Kong_adata = sc.read('/Users/anna.maguza/Desktop/GCA_social_network/data/raw_anndata/Kong_2023/Kong_2023_raw_anndata.h5ad')"
   ]
  },
  {
   "attachments": {},
   "cell_type": "markdown",
   "metadata": {},
   "source": [
    "### Obtain genomic positions of genes in hg19"
   ]
  },
  {
   "cell_type": "code",
   "execution_count": 38,
   "metadata": {},
   "outputs": [],
   "source": [
    "# Set up the server\n",
    "server = Server(host='http://www.ensembl.org')"
   ]
  },
  {
   "cell_type": "code",
   "execution_count": 39,
   "metadata": {},
   "outputs": [],
   "source": [
    "# Choose the database\n",
    "dataset = (server.marts['ENSEMBL_MART_ENSEMBL']\n",
    "                  .datasets['hsapiens_gene_ensembl'])"
   ]
  },
  {
   "cell_type": "code",
   "execution_count": 40,
   "metadata": {},
   "outputs": [],
   "source": [
    "# Get the genes in your anndata object\n",
    "genes = Kong_adata.var_names.tolist()"
   ]
  },
  {
   "cell_type": "code",
   "execution_count": 41,
   "metadata": {},
   "outputs": [],
   "source": [
    "def chunker(seq, size):\n",
    "    return (seq[pos:pos + size] for pos in range(0, len(seq), size))\n",
    "\n",
    "# Split the gene IDs into chunks of 500 (you can adjust this value as needed)\n",
    "chunks = list(chunker(genes, 250))\n",
    "\n",
    "# Create an empty dataframe to store the results\n",
    "gene_positions = pd.DataFrame()\n",
    "\n",
    "# Loop through each chunk\n",
    "for chunk in chunks:\n",
    "    # Query the database for the positions of the genes in the chunk\n",
    "    result = dataset.query(attributes=['ensembl_gene_id', 'chromosome_name', 'start_position', 'end_position'],\n",
    "                           filters={'link_ensembl_gene_id': chunk})\n",
    "    \n",
    "    # Append the result to the main dataframe\n",
    "    gene_positions = pd.concat([gene_positions, result])\n",
    "\n",
    "# Rename the columns to match the ones in the previous example\n",
    "gene_positions.columns = ['gene_id', 'chrom', 'start', 'end']\n"
   ]
  },
  {
   "cell_type": "code",
   "execution_count": 42,
   "metadata": {},
   "outputs": [
    {
     "data": {
      "text/html": [
       "<div>\n",
       "<style scoped>\n",
       "    .dataframe tbody tr th:only-of-type {\n",
       "        vertical-align: middle;\n",
       "    }\n",
       "\n",
       "    .dataframe tbody tr th {\n",
       "        vertical-align: top;\n",
       "    }\n",
       "\n",
       "    .dataframe thead th {\n",
       "        text-align: right;\n",
       "    }\n",
       "</style>\n",
       "<table border=\"1\" class=\"dataframe\">\n",
       "  <thead>\n",
       "    <tr style=\"text-align: right;\">\n",
       "      <th></th>\n",
       "      <th>gene_id</th>\n",
       "      <th>chrom</th>\n",
       "      <th>start</th>\n",
       "      <th>end</th>\n",
       "    </tr>\n",
       "  </thead>\n",
       "  <tbody>\n",
       "    <tr>\n",
       "      <th>0</th>\n",
       "      <td>ENSG00000007923</td>\n",
       "      <td>1</td>\n",
       "      <td>6634168</td>\n",
       "      <td>6701924</td>\n",
       "    </tr>\n",
       "    <tr>\n",
       "      <th>1</th>\n",
       "      <td>ENSG00000008128</td>\n",
       "      <td>1</td>\n",
       "      <td>1702379</td>\n",
       "      <td>1724357</td>\n",
       "    </tr>\n",
       "    <tr>\n",
       "      <th>2</th>\n",
       "      <td>ENSG00000008130</td>\n",
       "      <td>1</td>\n",
       "      <td>1751232</td>\n",
       "      <td>1780457</td>\n",
       "    </tr>\n",
       "    <tr>\n",
       "      <th>3</th>\n",
       "      <td>ENSG00000009724</td>\n",
       "      <td>1</td>\n",
       "      <td>11022009</td>\n",
       "      <td>11047239</td>\n",
       "    </tr>\n",
       "    <tr>\n",
       "      <th>4</th>\n",
       "      <td>ENSG00000011021</td>\n",
       "      <td>1</td>\n",
       "      <td>11806096</td>\n",
       "      <td>11848079</td>\n",
       "    </tr>\n",
       "  </tbody>\n",
       "</table>\n",
       "</div>"
      ],
      "text/plain": [
       "           gene_id chrom     start       end\n",
       "0  ENSG00000007923     1   6634168   6701924\n",
       "1  ENSG00000008128     1   1702379   1724357\n",
       "2  ENSG00000008130     1   1751232   1780457\n",
       "3  ENSG00000009724     1  11022009  11047239\n",
       "4  ENSG00000011021     1  11806096  11848079"
      ]
     },
     "execution_count": 42,
     "metadata": {},
     "output_type": "execute_result"
    }
   ],
   "source": [
    "gene_positions.head()"
   ]
  },
  {
   "attachments": {},
   "cell_type": "markdown",
   "metadata": {},
   "source": [
    "### Convert genes positions to hg38 using liftover"
   ]
  },
  {
   "cell_type": "code",
   "execution_count": 43,
   "metadata": {},
   "outputs": [],
   "source": [
    "# Create a liftover object for hg19 to hg38 conversion\n",
    "converter = get_lifter('hg19', 'hg38')"
   ]
  },
  {
   "cell_type": "code",
   "execution_count": 44,
   "metadata": {},
   "outputs": [],
   "source": [
    "# A function that converts one coordinate and returns the converted position\n",
    "def convert_position(row):\n",
    "    chrom = str(row['chrom'])\n",
    "    start = int(row['start'])\n",
    "    end = int(row['end'])\n",
    "    # Liftover for the start and end coordinates\n",
    "    new_start = converter.convert_coordinate(chrom, start)\n",
    "    new_end = converter.convert_coordinate(chrom, end)\n",
    "    # If liftover is successful (it can fail for some positions), return the new positions\n",
    "    if new_start and new_end:\n",
    "        return pd.Series({'new_start': new_start[0][1], 'new_end': new_end[0][1]})\n",
    "    else:\n",
    "        return pd.Series({'new_start': None, 'new_end': None})"
   ]
  },
  {
   "cell_type": "code",
   "execution_count": 45,
   "metadata": {},
   "outputs": [],
   "source": [
    "# Ensure 'chrom' column is of type string\n",
    "gene_positions['chrom'] = gene_positions['chrom'].astype(str)\n",
    "\n",
    "# Drop rows where 'chrom' is NaN\n",
    "gene_positions = gene_positions.dropna(subset=['chrom'])\n",
    "\n",
    "# Filter out rows where chrom is 'MT' or contains 'HSCHR'\n",
    "gene_positions = gene_positions[~gene_positions['chrom'].str.contains('MT|HSCHR')]\n",
    "\n",
    "# Apply the conversion function to all rows (i.e., all genes)\n",
    "gene_positions[['new_start', 'new_end']] = gene_positions.apply(convert_position, axis=1)"
   ]
  },
  {
   "cell_type": "code",
   "execution_count": 46,
   "metadata": {},
   "outputs": [],
   "source": [
    "# Apply the conversion function to all rows (i.e., all genes)\n",
    "gene_positions[['new_start', 'new_end']] = gene_positions.apply(convert_position, axis=1)"
   ]
  },
  {
   "cell_type": "code",
   "execution_count": 47,
   "metadata": {},
   "outputs": [
    {
     "data": {
      "text/html": [
       "<div>\n",
       "<style scoped>\n",
       "    .dataframe tbody tr th:only-of-type {\n",
       "        vertical-align: middle;\n",
       "    }\n",
       "\n",
       "    .dataframe tbody tr th {\n",
       "        vertical-align: top;\n",
       "    }\n",
       "\n",
       "    .dataframe thead th {\n",
       "        text-align: right;\n",
       "    }\n",
       "</style>\n",
       "<table border=\"1\" class=\"dataframe\">\n",
       "  <thead>\n",
       "    <tr style=\"text-align: right;\">\n",
       "      <th></th>\n",
       "      <th>gene_id</th>\n",
       "      <th>chrom</th>\n",
       "      <th>start</th>\n",
       "      <th>end</th>\n",
       "      <th>new_start</th>\n",
       "      <th>new_end</th>\n",
       "    </tr>\n",
       "  </thead>\n",
       "  <tbody>\n",
       "    <tr>\n",
       "      <th>0</th>\n",
       "      <td>ENSG00000007923</td>\n",
       "      <td>1</td>\n",
       "      <td>6634168</td>\n",
       "      <td>6701924</td>\n",
       "      <td>6574108.0</td>\n",
       "      <td>6641864.0</td>\n",
       "    </tr>\n",
       "    <tr>\n",
       "      <th>1</th>\n",
       "      <td>ENSG00000008128</td>\n",
       "      <td>1</td>\n",
       "      <td>1702379</td>\n",
       "      <td>1724357</td>\n",
       "      <td>1770940.0</td>\n",
       "      <td>1792918.0</td>\n",
       "    </tr>\n",
       "    <tr>\n",
       "      <th>2</th>\n",
       "      <td>ENSG00000008130</td>\n",
       "      <td>1</td>\n",
       "      <td>1751232</td>\n",
       "      <td>1780457</td>\n",
       "      <td>1819793.0</td>\n",
       "      <td>1849018.0</td>\n",
       "    </tr>\n",
       "    <tr>\n",
       "      <th>3</th>\n",
       "      <td>ENSG00000009724</td>\n",
       "      <td>1</td>\n",
       "      <td>11022009</td>\n",
       "      <td>11047239</td>\n",
       "      <td>10961952.0</td>\n",
       "      <td>10987182.0</td>\n",
       "    </tr>\n",
       "    <tr>\n",
       "      <th>4</th>\n",
       "      <td>ENSG00000011021</td>\n",
       "      <td>1</td>\n",
       "      <td>11806096</td>\n",
       "      <td>11848079</td>\n",
       "      <td>11746039.0</td>\n",
       "      <td>11788022.0</td>\n",
       "    </tr>\n",
       "  </tbody>\n",
       "</table>\n",
       "</div>"
      ],
      "text/plain": [
       "           gene_id chrom     start       end   new_start     new_end\n",
       "0  ENSG00000007923     1   6634168   6701924   6574108.0   6641864.0\n",
       "1  ENSG00000008128     1   1702379   1724357   1770940.0   1792918.0\n",
       "2  ENSG00000008130     1   1751232   1780457   1819793.0   1849018.0\n",
       "3  ENSG00000009724     1  11022009  11047239  10961952.0  10987182.0\n",
       "4  ENSG00000011021     1  11806096  11848079  11746039.0  11788022.0"
      ]
     },
     "execution_count": 47,
     "metadata": {},
     "output_type": "execute_result"
    }
   ],
   "source": [
    "gene_positions.head()"
   ]
  },
  {
   "attachments": {},
   "cell_type": "markdown",
   "metadata": {},
   "source": [
    "### Extract new genes"
   ]
  },
  {
   "cell_type": "code",
   "execution_count": 57,
   "metadata": {},
   "outputs": [],
   "source": [
    "# First, create an interval tree from your original gene positions\n",
    "gene_tree = IntervalTree()\n",
    "\n",
    "for i, row in gene_positions.iterrows():\n",
    "    interval = Interval(row['start'], row['end'], row['gene_id'])\n",
    "    gene_tree[interval.begin:interval.end] = interval"
   ]
  },
  {
   "cell_type": "code",
   "execution_count": null,
   "metadata": {},
   "outputs": [],
   "source": [
    "# Now, you can query the tree with your new positions to find overlapping genes\n",
    "overlapping_genes = []\n",
    "\n",
    "for i, row in gene_positions.iterrows():\n",
    "    intervals = gene_tree[row['new_start']:row['new_end']]\n",
    "    for interval in intervals:\n",
    "        print(interval.data)\n",
    "        overlapping_genes.append(interval.data)\n",
    "\n",
    "overlapping_genes = pd.DataFrame(overlapping_genes, columns=['ensembl_gene_id'])"
   ]
  },
  {
   "cell_type": "code",
   "execution_count": 61,
   "metadata": {},
   "outputs": [
    {
     "data": {
      "text/html": [
       "<div>\n",
       "<style scoped>\n",
       "    .dataframe tbody tr th:only-of-type {\n",
       "        vertical-align: middle;\n",
       "    }\n",
       "\n",
       "    .dataframe tbody tr th {\n",
       "        vertical-align: top;\n",
       "    }\n",
       "\n",
       "    .dataframe thead th {\n",
       "        text-align: right;\n",
       "    }\n",
       "</style>\n",
       "<table border=\"1\" class=\"dataframe\">\n",
       "  <thead>\n",
       "    <tr style=\"text-align: right;\">\n",
       "      <th></th>\n",
       "      <th>start</th>\n",
       "      <th>end</th>\n",
       "      <th>ensembl_gene_id</th>\n",
       "    </tr>\n",
       "  </thead>\n",
       "  <tbody>\n",
       "    <tr>\n",
       "      <th>0</th>\n",
       "      <td>6575189</td>\n",
       "      <td>6623362</td>\n",
       "      <td>ENSG00000013288</td>\n",
       "    </tr>\n",
       "    <tr>\n",
       "      <th>1</th>\n",
       "      <td>6603642</td>\n",
       "      <td>6604420</td>\n",
       "      <td>ENSG00000254400</td>\n",
       "    </tr>\n",
       "    <tr>\n",
       "      <th>2</th>\n",
       "      <td>6579994</td>\n",
       "      <td>6589280</td>\n",
       "      <td>ENSG00000204859</td>\n",
       "    </tr>\n",
       "    <tr>\n",
       "      <th>3</th>\n",
       "      <td>6640985</td>\n",
       "      <td>6644541</td>\n",
       "      <td>ENSG00000129235</td>\n",
       "    </tr>\n",
       "    <tr>\n",
       "      <th>4</th>\n",
       "      <td>6599239</td>\n",
       "      <td>6633291</td>\n",
       "      <td>ENSG00000037474</td>\n",
       "    </tr>\n",
       "    <tr>\n",
       "      <th>...</th>\n",
       "      <td>...</td>\n",
       "      <td>...</td>\n",
       "      <td>...</td>\n",
       "    </tr>\n",
       "    <tr>\n",
       "      <th>585865</th>\n",
       "      <td>75375511</td>\n",
       "      <td>75377294</td>\n",
       "      <td>ENSG00000225203</td>\n",
       "    </tr>\n",
       "    <tr>\n",
       "      <th>585866</th>\n",
       "      <td>75318076</td>\n",
       "      <td>75405709</td>\n",
       "      <td>ENSG00000177885</td>\n",
       "    </tr>\n",
       "    <tr>\n",
       "      <th>585867</th>\n",
       "      <td>75355207</td>\n",
       "      <td>75368612</td>\n",
       "      <td>ENSG00000140400</td>\n",
       "    </tr>\n",
       "    <tr>\n",
       "      <th>585868</th>\n",
       "      <td>75293698</td>\n",
       "      <td>75433503</td>\n",
       "      <td>ENSG00000153774</td>\n",
       "    </tr>\n",
       "    <tr>\n",
       "      <th>585869</th>\n",
       "      <td>75269068</td>\n",
       "      <td>75361182</td>\n",
       "      <td>ENSG00000251185</td>\n",
       "    </tr>\n",
       "  </tbody>\n",
       "</table>\n",
       "<p>585870 rows × 3 columns</p>\n",
       "</div>"
      ],
      "text/plain": [
       "           start       end  ensembl_gene_id\n",
       "0        6575189   6623362  ENSG00000013288\n",
       "1        6603642   6604420  ENSG00000254400\n",
       "2        6579994   6589280  ENSG00000204859\n",
       "3        6640985   6644541  ENSG00000129235\n",
       "4        6599239   6633291  ENSG00000037474\n",
       "...          ...       ...              ...\n",
       "585865  75375511  75377294  ENSG00000225203\n",
       "585866  75318076  75405709  ENSG00000177885\n",
       "585867  75355207  75368612  ENSG00000140400\n",
       "585868  75293698  75433503  ENSG00000153774\n",
       "585869  75269068  75361182  ENSG00000251185\n",
       "\n",
       "[585870 rows x 3 columns]"
      ]
     },
     "execution_count": 61,
     "metadata": {},
     "output_type": "execute_result"
    }
   ],
   "source": [
    "# Create a DataFrame from overlapping_genes\n",
    "df_overlapping_genes = pd.DataFrame(overlapping_genes, columns=['start', 'end', 'ensembl_gene_id'])\n",
    "\n",
    "# View the DataFrame\n",
    "df_overlapping_genes"
   ]
  },
  {
   "cell_type": "code",
   "execution_count": null,
   "metadata": {},
   "outputs": [],
   "source": []
  },
  {
   "cell_type": "code",
   "execution_count": 54,
   "metadata": {},
   "outputs": [
    {
     "ename": "BiomartException",
     "evalue": "Query ERROR: caught BioMart::Exception::Usage: Wrong format value for Start",
     "output_type": "error",
     "traceback": [
      "\u001b[0;31m---------------------------------------------------------------------------\u001b[0m",
      "\u001b[0;31mBiomartException\u001b[0m                          Traceback (most recent call last)",
      "Cell \u001b[0;32mIn[54], line 7\u001b[0m\n\u001b[1;32m      4\u001b[0m \u001b[39m# Loop over the rows of gene_positions\u001b[39;00m\n\u001b[1;32m      5\u001b[0m \u001b[39mfor\u001b[39;00m i, row \u001b[39min\u001b[39;00m gene_positions\u001b[39m.\u001b[39miterrows():\n\u001b[1;32m      6\u001b[0m     \u001b[39m# Query the dataset for genes that overlap with new_start and new_end\u001b[39;00m\n\u001b[0;32m----> 7\u001b[0m     results \u001b[39m=\u001b[39m dataset\u001b[39m.\u001b[39;49mquery(attributes\u001b[39m=\u001b[39;49m[\u001b[39m'\u001b[39;49m\u001b[39mensembl_gene_id\u001b[39;49m\u001b[39m'\u001b[39;49m, \u001b[39m'\u001b[39;49m\u001b[39mensembl_gene_id_version\u001b[39;49m\u001b[39m'\u001b[39;49m, \n\u001b[1;32m      8\u001b[0m                                         \u001b[39m'\u001b[39;49m\u001b[39mensembl_transcript_id\u001b[39;49m\u001b[39m'\u001b[39;49m, \u001b[39m'\u001b[39;49m\u001b[39mhgnc_symbol\u001b[39;49m\u001b[39m'\u001b[39;49m, \u001b[39m'\u001b[39;49m\u001b[39mexternal_gene_name\u001b[39;49m\u001b[39m'\u001b[39;49m,],\n\u001b[1;32m      9\u001b[0m                             filters\u001b[39m=\u001b[39;49m{\u001b[39m'\u001b[39;49m\u001b[39mchromosome_name\u001b[39;49m\u001b[39m'\u001b[39;49m: row[\u001b[39m'\u001b[39;49m\u001b[39mchrom\u001b[39;49m\u001b[39m'\u001b[39;49m],\n\u001b[1;32m     10\u001b[0m                                      \u001b[39m'\u001b[39;49m\u001b[39mstart\u001b[39;49m\u001b[39m'\u001b[39;49m: {\u001b[39m'\u001b[39;49m\u001b[39mlte\u001b[39;49m\u001b[39m'\u001b[39;49m: row[\u001b[39m'\u001b[39;49m\u001b[39mnew_end\u001b[39;49m\u001b[39m'\u001b[39;49m]},\n\u001b[1;32m     11\u001b[0m                                      \u001b[39m'\u001b[39;49m\u001b[39mend\u001b[39;49m\u001b[39m'\u001b[39;49m: {\u001b[39m'\u001b[39;49m\u001b[39mgte\u001b[39;49m\u001b[39m'\u001b[39;49m: row[\u001b[39m'\u001b[39;49m\u001b[39mnew_start\u001b[39;49m\u001b[39m'\u001b[39;49m]}})\n\u001b[1;32m     13\u001b[0m     \u001b[39m# Append the results to new_gene_names\u001b[39;00m\n\u001b[1;32m     14\u001b[0m     new_gene_names \u001b[39m=\u001b[39m pd\u001b[39m.\u001b[39mconcat([new_gene_names, results])\n",
      "File \u001b[0;32m~/miniconda3/envs/liftover_env/lib/python3.9/site-packages/pybiomart/dataset.py:266\u001b[0m, in \u001b[0;36mDataset.query\u001b[0;34m(self, attributes, filters, only_unique, use_attr_names)\u001b[0m\n\u001b[1;32m    264\u001b[0m \u001b[39m# Raise exception if an error occurred.\u001b[39;00m\n\u001b[1;32m    265\u001b[0m \u001b[39mif\u001b[39;00m \u001b[39m'\u001b[39m\u001b[39mQuery ERROR\u001b[39m\u001b[39m'\u001b[39m \u001b[39min\u001b[39;00m response\u001b[39m.\u001b[39mtext:\n\u001b[0;32m--> 266\u001b[0m     \u001b[39mraise\u001b[39;00m BiomartException(response\u001b[39m.\u001b[39mtext)\n\u001b[1;32m    268\u001b[0m \u001b[39m# Parse results into a DataFrame.\u001b[39;00m\n\u001b[1;32m    269\u001b[0m result \u001b[39m=\u001b[39m pd\u001b[39m.\u001b[39mread_csv(StringIO(response\u001b[39m.\u001b[39mtext), sep\u001b[39m=\u001b[39m\u001b[39m'\u001b[39m\u001b[39m\\t\u001b[39;00m\u001b[39m'\u001b[39m)\n",
      "\u001b[0;31mBiomartException\u001b[0m: Query ERROR: caught BioMart::Exception::Usage: Wrong format value for Start"
     ]
    }
   ],
   "source": [
    "# Initialize an empty DataFrame to store the results\n",
    "new_gene_names = pd.DataFrame()\n",
    "\n",
    "# Loop over the rows of gene_positions\n",
    "for i, row in gene_positions.iterrows():\n",
    "    # Query the dataset for genes that overlap with new_start and new_end\n",
    "    results = dataset.query(attributes=['ensembl_gene_id', 'ensembl_gene_id_version', \n",
    "                                        'ensembl_transcript_id', 'hgnc_symbol', 'external_gene_name',],\n",
    "                            filters={'chromosome_name': row['chrom'],\n",
    "                                     'start': {'lte': row['new_end']},\n",
    "                                     'end': {'gte': row['new_start']}})\n",
    "    \n",
    "    # Append the results to new_gene_names\n",
    "    new_gene_names = pd.concat([new_gene_names, results])\n",
    "\n",
    "# Remove duplicate rows, if any\n",
    "new_gene_names = new_gene_names.drop_duplicates()"
   ]
  },
  {
   "cell_type": "code",
   "execution_count": 48,
   "metadata": {},
   "outputs": [
    {
     "ename": "NameError",
     "evalue": "name 'query_ensembl_for_gene_names' is not defined",
     "output_type": "error",
     "traceback": [
      "\u001b[0;31m---------------------------------------------------------------------------\u001b[0m",
      "\u001b[0;31mNameError\u001b[0m                                 Traceback (most recent call last)",
      "Cell \u001b[0;32mIn[48], line 2\u001b[0m\n\u001b[1;32m      1\u001b[0m \u001b[39m# Pseudocode for step 1\u001b[39;00m\n\u001b[0;32m----> 2\u001b[0m new_gene_names \u001b[39m=\u001b[39m query_ensembl_for_gene_names(gene_positions[\u001b[39m'\u001b[39m\u001b[39mnew_start\u001b[39m\u001b[39m'\u001b[39m], gene_positions[\u001b[39m'\u001b[39m\u001b[39mnew_end\u001b[39m\u001b[39m'\u001b[39m])\n\u001b[1;32m      4\u001b[0m \u001b[39m# Pseudocode for step 2\u001b[39;00m\n\u001b[1;32m      5\u001b[0m old_to_new_gene_names \u001b[39m=\u001b[39m \u001b[39mdict\u001b[39m(\u001b[39mzip\u001b[39m(gene_positions[\u001b[39m'\u001b[39m\u001b[39mgene_name\u001b[39m\u001b[39m'\u001b[39m], new_gene_names))\n",
      "\u001b[0;31mNameError\u001b[0m: name 'query_ensembl_for_gene_names' is not defined"
     ]
    }
   ],
   "source": [
    "# Pseudocode for step 1\n",
    "new_gene_names = query_ensembl_for_gene_names(gene_positions['new_start'], gene_positions['new_end'])\n",
    "\n",
    "# Pseudocode for step 2\n",
    "old_to_new_gene_names = dict(zip(gene_positions['gene_name'], new_gene_names))\n",
    "\n",
    "# Pseudocode for step 3\n",
    "for old_gene, new_gene in old_to_new_gene_names.items():\n",
    "    # This assumes 'gene_name' is an attribute of your anndata object.\n",
    "    # You'll need to adjust this to match the actual structure of your object.\n",
    "    anndata_object.gene_name[anndata_object.gene_name == old_gene] = new_gene\n"
   ]
  }
 ],
 "metadata": {
  "kernelspec": {
   "display_name": "liftover_env",
   "language": "python",
   "name": "python3"
  },
  "language_info": {
   "codemirror_mode": {
    "name": "ipython",
    "version": 3
   },
   "file_extension": ".py",
   "mimetype": "text/x-python",
   "name": "python",
   "nbconvert_exporter": "python",
   "pygments_lexer": "ipython3",
   "version": "3.9.16"
  },
  "orig_nbformat": 4
 },
 "nbformat": 4,
 "nbformat_minor": 2
}
