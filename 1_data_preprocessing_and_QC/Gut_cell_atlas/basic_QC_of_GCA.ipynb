{
 "cells": [
  {
   "attachments": {},
   "cell_type": "markdown",
   "metadata": {},
   "source": [
    "## Notebook for Gut Cell Atlas Quality Check \n",
    "\n",
    "**Prepared by:** Anna Maguza  \n",
    "**Date:** 4th of July 2023  "
   ]
  },
  {
   "cell_type": "markdown",
   "metadata": {},
   "source": [
    "#### Load required packages"
   ]
  },
  {
   "cell_type": "code",
   "execution_count": null,
   "metadata": {},
   "outputs": [],
   "source": [
    "import numpy as np\n",
    "import pandas as pd\n",
    "import scanpy as sc\n",
    "import anndata as an\n",
    "import matplotlib.pyplot as plt\n",
    "from matplotlib.pyplot import figure"
   ]
  },
  {
   "cell_type": "code",
   "execution_count": null,
   "metadata": {},
   "outputs": [],
   "source": [
    "import scrublet as scr"
   ]
  },
  {
   "cell_type": "markdown",
   "metadata": {},
   "source": [
    "#### Setup Cells"
   ]
  },
  {
   "cell_type": "code",
   "execution_count": null,
   "metadata": {},
   "outputs": [],
   "source": [
    "%matplotlib inline"
   ]
  },
  {
   "cell_type": "code",
   "execution_count": null,
   "metadata": {},
   "outputs": [],
   "source": [
    "sc.settings.verbosity = 3             # verbosity: errors (0), warnings (1), info (2), hints (3)\n",
    "sc.logging.print_header()\n",
    "sc.settings.set_figure_params(dpi=80, facecolor='white')"
   ]
  },
  {
   "cell_type": "code",
   "execution_count": null,
   "metadata": {},
   "outputs": [],
   "source": [
    "def X_is_raw(adata):\n",
    "    return np.array_equal(adata.X.sum(axis=0).astype(int), adata.X.sum(axis=0))"
   ]
  },
  {
   "cell_type": "markdown",
   "metadata": {},
   "source": [
    "#### Upload Data"
   ]
  },
  {
   "cell_type": "code",
   "execution_count": null,
   "metadata": {},
   "outputs": [],
   "source": [
    "GCA_adata = sc.read('/Users/anna.maguza/Desktop/GCA_social_network/data/raw_anndata/GCA/GCA_raw_anndata.h5ad')\n",
    "X_is_raw(GCA_adata)"
   ]
  },
  {
   "attachments": {},
   "cell_type": "markdown",
   "metadata": {},
   "source": [
    "#### Modify obs"
   ]
  },
  {
   "cell_type": "code",
   "execution_count": null,
   "metadata": {},
   "outputs": [],
   "source": [
    "GCA_adata.obs['Study_name'] = 'Elmentaite, 2021'"
   ]
  },
  {
   "cell_type": "code",
   "execution_count": null,
   "metadata": {},
   "outputs": [],
   "source": [
    "#Remove Pediatric Crohn Disease\n",
    "GCA_adata = GCA_adata[~GCA_adata.obs['Diagnosis'].isin(['Pediatric Crohn Disease']),:]\n",
    "#Deleting the lymph node samples\n",
    "GCA_adata = GCA_adata[~GCA_adata.obs['Region'].isin(['lymph node']),:]"
   ]
  },
  {
   "cell_type": "code",
   "execution_count": null,
   "metadata": {},
   "outputs": [],
   "source": [
    "#Adding percentage of ribosomial genes\n",
    "GCA_adata.var['ribo'] = GCA_adata.var_names.str.startswith((\"RPS\",\"RPL\"))  # annotate the group of ribosomal genes as 'ribo'\n",
    "sc.pp.calculate_qc_metrics(GCA_adata, qc_vars=['ribo'], percent_top=None, log1p=False, inplace=True)"
   ]
  },
  {
   "cell_type": "code",
   "execution_count": null,
   "metadata": {},
   "outputs": [],
   "source": [
    "GCA_adata.obs.rename(columns = {'10X': 'Library_Preparation_Protocol'}, inplace = True)\n",
    "GCA_adata.obs.rename(columns = {'Gender': 'Sex'}, inplace = True)\n",
    "GCA_adata.obs['Diagnosis'] = GCA_adata.obs['Diagnosis'].replace('fetal', 'Fetal Healthy')\n",
    "GCA_adata.obs['Diagnosis'] = GCA_adata.obs['Diagnosis'].replace('Healthy', 'Healthy adult')\n",
    "GCA_adata.obs['Sex'] = GCA_adata.obs['Sex'].replace('M', 'Male')\n",
    "GCA_adata.obs['Sex'] = GCA_adata.obs['Sex'].replace('F', 'Female')"
   ]
  },
  {
   "cell_type": "code",
   "execution_count": null,
   "metadata": {},
   "outputs": [],
   "source": [
    "GCA_adata.obs.rename(columns = {'Sample name': 'Donor_ID'}, inplace = True)\n",
    "GCA_adata.obs.rename(columns = {'sample name': 'Sample_ID'}, inplace = True)\n",
    "GCA_adata.obs.rename(columns = {'Integrated_05': 'Cell_State'}, inplace = True)\n",
    "GCA_adata.obs.rename(columns = {'Region': 'Location'}, inplace = True)\n",
    "GCA_adata.obs.rename(columns = {'category': 'Cell_Type'}, inplace = True)"
   ]
  },
  {
   "cell_type": "code",
   "execution_count": null,
   "metadata": {},
   "outputs": [],
   "source": [
    "GCA_adata.obs['Sample_ID'] = GCA_adata.obs.apply(\n",
    "    lambda row: row['Sample_ID'] if row['Sample_ID'].lower() != \"nan\" else\n",
    "    (row['Donor_ID'] + '_' + str(row['Age']) + '_' + row['Region code'] + '_' + str(row['Fraction'])),\n",
    "    axis=1\n",
    ")\n",
    "\n",
    "GCA_adata.obs['Donor_ID'] = GCA_adata.obs['Donor_ID'].astype('str')\n",
    "GCA_adata.obs['Age'] = GCA_adata.obs['Age'].astype('str')\n",
    "GCA_adata.obs['Region code'] = GCA_adata.obs['Region code'].astype('str')\n",
    "GCA_adata.obs['Fraction'] = GCA_adata.obs['Fraction'].astype('str')\n",
    "\n",
    "GCA_adata.obs['Sample_ID'] = GCA_adata.obs['Sample_ID'].where(\n",
    "    pd.notna(GCA_adata.obs['Sample_ID']),\n",
    "    GCA_adata.obs['Donor_ID'] + '_' + GCA_adata.obs['Age'].astype(str) + '_' +\n",
    "    GCA_adata.obs['Region code'] + '_' + GCA_adata.obs['Fraction'].astype(str)\n",
    ")"
   ]
  },
  {
   "cell_type": "code",
   "execution_count": null,
   "metadata": {},
   "outputs": [],
   "source": [
    "# Rename values in Cancer_adata.obs['ClusterTop'] as in Healthy_adata.obs['Cell Type']\n",
    "GCA_adata.obs['Location'].replace({'SmallInt' : 'Small Intestine',\n",
    "                                            'Small Bowel' : 'Small Intestine',\n",
    "                                            'LargeInt': 'Large Intestine',\n",
    "                                            'Colon': 'Large Intestine',\n",
    "                                            'REC' : 'Rectum',\n",
    "                                            'Epi': 'Epithelium',\n",
    "                                            'LP': 'Lamina Propria'}, inplace=True)"
   ]
  },
  {
   "cell_type": "code",
   "execution_count": null,
   "metadata": {},
   "outputs": [],
   "source": [
    "GCA_adata.obs['Library_Preparation_Protocol'].replace({\"3'\" : \"10x 3' v1\",\n",
    "                                            \"5'\" : \"10x 5' v1\",\n",
    "                                            \"nan\" : \"10x 3' v1\"}, inplace=True)"
   ]
  },
  {
   "attachments": {},
   "cell_type": "markdown",
   "metadata": {},
   "source": [
    "### Fill the table"
   ]
  },
  {
   "cell_type": "code",
   "execution_count": null,
   "metadata": {},
   "outputs": [],
   "source": [
    "# Calculate number of donors\n",
    "len(GCA_adata.obs.Donor_ID.unique())"
   ]
  },
  {
   "cell_type": "code",
   "execution_count": null,
   "metadata": {},
   "outputs": [],
   "source": [
    "# Calculate number of samples\n",
    "len(GCA_adata.obs.Sample_ID.unique())"
   ]
  },
  {
   "cell_type": "code",
   "execution_count": null,
   "metadata": {},
   "outputs": [],
   "source": [
    "# calculate number of adult samples\n",
    "len(GCA_adata.obs[GCA_adata.obs['Diagnosis'].isin(['Healthy adult'])].Sample_ID.unique())"
   ]
  },
  {
   "cell_type": "code",
   "execution_count": null,
   "metadata": {},
   "outputs": [],
   "source": [
    "# calculate number of fetal samples\n",
    "len(GCA_adata.obs[GCA_adata.obs['Diagnosis'].isin(['Fetal Healthy'])].Sample_ID.unique())"
   ]
  },
  {
   "cell_type": "code",
   "execution_count": null,
   "metadata": {},
   "outputs": [],
   "source": [
    "# calculate number of Pediatric samples\n",
    "len(GCA_adata.obs[GCA_adata.obs['Diagnosis'].isin(['Pediatric healthy'])].Sample_ID.unique())"
   ]
  },
  {
   "cell_type": "code",
   "execution_count": null,
   "metadata": {},
   "outputs": [],
   "source": [
    "#Total Counts\n",
    "sum(GCA_adata.obs.total_counts)"
   ]
  },
  {
   "cell_type": "code",
   "execution_count": null,
   "metadata": {},
   "outputs": [],
   "source": [
    "# calculate mean cells per sample\n",
    "GCA_adata.obs.groupby('Sample_ID').size().mean()"
   ]
  },
  {
   "cell_type": "code",
   "execution_count": null,
   "metadata": {},
   "outputs": [],
   "source": [
    "# calculate mean reads per cell \n",
    "sum(GCA_adata.obs.total_counts)/len(GCA_adata.obs)"
   ]
  },
  {
   "cell_type": "code",
   "execution_count": null,
   "metadata": {},
   "outputs": [],
   "source": [
    "#Mean Genes per Cell\n",
    "sum(GCA_adata.obs.n_genes_by_counts)/len(GCA_adata.obs)"
   ]
  },
  {
   "cell_type": "code",
   "execution_count": null,
   "metadata": {},
   "outputs": [],
   "source": [
    "#Mean percentage of mitochondrial counts \n",
    "sum(GCA_adata.obs.pct_counts_mt)/len(GCA_adata.obs)"
   ]
  },
  {
   "cell_type": "code",
   "execution_count": null,
   "metadata": {},
   "outputs": [],
   "source": [
    "# Mean percentage of ribosomal counts\n",
    "sum(GCA_adata.obs.pct_counts_ribo)/len(GCA_adata.obs)"
   ]
  },
  {
   "cell_type": "code",
   "execution_count": null,
   "metadata": {},
   "outputs": [],
   "source": [
    "# Number of predicted_doublets == True\n",
    "GCA_adata.obs['predicted_doublets'].value_counts()"
   ]
  },
  {
   "cell_type": "code",
   "execution_count": null,
   "metadata": {},
   "outputs": [],
   "source": [
    "GCA_adata.obs['Cell_Type'].value_counts()"
   ]
  },
  {
   "cell_type": "code",
   "execution_count": null,
   "metadata": {},
   "outputs": [],
   "source": [
    "GCA_adata.obs['Location'].value_counts()"
   ]
  },
  {
   "cell_type": "code",
   "execution_count": null,
   "metadata": {},
   "outputs": [],
   "source": [
    "GCA_adata.obs['Library_Preparation_Protocol'].value_counts()"
   ]
  },
  {
   "attachments": {},
   "cell_type": "markdown",
   "metadata": {},
   "source": [
    "#### Create Violin Plots"
   ]
  },
  {
   "cell_type": "code",
   "execution_count": null,
   "metadata": {},
   "outputs": [],
   "source": [
    "#A violin plot of some of the computed quality measures:\n",
    "    # the number of genes expressed in the count matrix\n",
    "    #the total counts per cell\n",
    "    #the percentage of counts in mitochondrial genes\n",
    "    #the percentage of counts in ribosomial genes\n",
    "sc.set_figure_params(dpi=300)\n",
    "sc.pl.violin(GCA_adata, ['n_genes_by_counts', 'total_counts', 'pct_counts_mt', 'pct_counts_ribo'],\n",
    "             jitter=0.4, multi_panel=True)"
   ]
  },
  {
   "cell_type": "code",
   "execution_count": null,
   "metadata": {},
   "outputs": [],
   "source": [
    "#Filtering by genes\n",
    "GCA_adata = GCA_adata[GCA_adata.obs.n_genes_by_counts < 5000, :]\n",
    "GCA_adata = GCA_adata[GCA_adata.obs.n_genes_by_counts > 200, :]\n",
    "GCA_adata = GCA_adata[GCA_adata.obs.total_counts < 50000, :]\n",
    "\n",
    "sc.set_figure_params(dpi=300)\n",
    "sc.pl.violin(GCA_adata, ['n_genes_by_counts', 'total_counts', 'pct_counts_mt', 'pct_counts_ribo'],\n",
    "             jitter=0.4, multi_panel=True)"
   ]
  },
  {
   "cell_type": "code",
   "execution_count": null,
   "metadata": {},
   "outputs": [],
   "source": [
    "GCA_adata.write('/Users/anna.maguza/Desktop/Data/Processed_datasets/1_QC/GCA_filtered_raw.h5ad')"
   ]
  }
 ],
 "metadata": {
  "kernelspec": {
   "display_name": "scanpy_env",
   "language": "python",
   "name": "python3"
  },
  "language_info": {
   "codemirror_mode": {
    "name": "ipython",
    "version": 3
   },
   "file_extension": ".py",
   "mimetype": "text/x-python",
   "name": "python",
   "nbconvert_exporter": "python",
   "pygments_lexer": "ipython3",
   "version": "3.9.16"
  },
  "orig_nbformat": 4
 },
 "nbformat": 4,
 "nbformat_minor": 2
}
