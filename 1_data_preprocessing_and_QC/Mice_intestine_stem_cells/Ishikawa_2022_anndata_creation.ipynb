{
 "cells": [
  {
   "cell_type": "markdown",
   "metadata": {},
   "source": [
    "## Notebook for Ishikawa-2022 anndata file creation \n",
    "### Developed by: Anna Maguza\n",
    "\n",
    "### Institute of Computational Biology - Computational Health Centre - Hemlholtz Munich\n",
    "\n",
    "### 16 January 2023"
   ]
  },
  {
   "cell_type": "markdown",
   "metadata": {},
   "source": [
    "#### Load packages"
   ]
  },
  {
   "cell_type": "code",
   "execution_count": 1,
   "metadata": {},
   "outputs": [],
   "source": [
    "import numpy as np\n",
    "import pandas as pd\n",
    "import scanpy as sc\n",
    "import anndata as an\n",
    "import h5py\n",
    "from scipy.io import mmread\n",
    "from scipy.sparse import coo_matrix\n",
    "import matplotlib.pyplot as plt\n",
    "import scipy as sci"
   ]
  },
  {
   "cell_type": "markdown",
   "metadata": {},
   "source": [
    "#### Setup Cells"
   ]
  },
  {
   "cell_type": "code",
   "execution_count": 2,
   "metadata": {},
   "outputs": [],
   "source": [
    "%matplotlib inline"
   ]
  },
  {
   "cell_type": "code",
   "execution_count": 3,
   "metadata": {},
   "outputs": [
    {
     "name": "stderr",
     "output_type": "stream",
     "text": [
      "/home/icb/anna.maguza/miniconda3/envs/scanpy_env/lib/python3.9/site-packages/tqdm/auto.py:22: TqdmWarning: IProgress not found. Please update jupyter and ipywidgets. See https://ipywidgets.readthedocs.io/en/stable/user_install.html\n",
      "  from .autonotebook import tqdm as notebook_tqdm\n"
     ]
    },
    {
     "name": "stdout",
     "output_type": "stream",
     "text": [
      "scanpy==1.9.1 anndata==0.8.0 umap==0.5.3 numpy==1.21.5 scipy==1.7.3 pandas==1.5.1 scikit-learn==1.1.3 statsmodels==0.13.2 pynndescent==0.5.8\n"
     ]
    }
   ],
   "source": [
    "sc.settings.verbosity = 3             # verbosity: errors (0), warnings (1), info (2), hints (3)\n",
    "sc.logging.print_header()\n",
    "sc.settings.set_figure_params(dpi=80, facecolor='white')"
   ]
  },
  {
   "cell_type": "markdown",
   "metadata": {},
   "source": [
    "#### Data upload"
   ]
  },
  {
   "cell_type": "code",
   "execution_count": 62,
   "metadata": {},
   "outputs": [],
   "source": [
    "#Data Upload (tsv) - Barcodes\n",
    "Barcodes = pd.read_csv('/lustre/groups/talaveralopez/datasets/Colorectal_cancer/Mice_intestine/Ishikawa-2022-mice/GSM6381794_barcodes.tsv', sep='\\t', header=None, index_col=0)"
   ]
  },
  {
   "cell_type": "code",
   "execution_count": 63,
   "metadata": {},
   "outputs": [],
   "source": [
    "#Data Upload (tsv) - Features\n",
    "Features = pd.read_csv('/lustre/groups/talaveralopez/datasets/Colorectal_cancer/Mice_intestine/Ishikawa-2022-mice/GSM6381794_features.tsv', sep='\\t', header=None, index_col=0)"
   ]
  },
  {
   "cell_type": "code",
   "execution_count": 64,
   "metadata": {},
   "outputs": [],
   "source": [
    "#Data Upload (tsv) - Matrix\n",
    "Matrix = mmread('/lustre/groups/talaveralopez/datasets/Colorectal_cancer/Mice_intestine/Ishikawa-2022-mice/GSM6381794_matrix.mtx')"
   ]
  },
  {
   "cell_type": "code",
   "execution_count": 65,
   "metadata": {},
   "outputs": [],
   "source": [
    "Matrix = sci.sparse.csr_matrix(Matrix)"
   ]
  },
  {
   "cell_type": "code",
   "execution_count": 66,
   "metadata": {},
   "outputs": [
    {
     "name": "stderr",
     "output_type": "stream",
     "text": [
      "/tmp/ipykernel_5004/1932302732.py:1: FutureWarning: X.dtype being converted to np.float32 from int64. In the next version of anndata (0.9) conversion will not be automatic. Pass dtype explicitly to avoid this warning. Pass `AnnData(X, dtype=X.dtype, ...)` to get the future behavour.\n",
      "  Ishikawa_anndata = an.AnnData(X=np.transpose(Matrix), var=Features, obs=Barcodes)\n"
     ]
    }
   ],
   "source": [
    "Ishikawa_anndata = an.AnnData(X=np.transpose(Matrix), var=Features, obs=Barcodes)"
   ]
  },
  {
   "cell_type": "code",
   "execution_count": 67,
   "metadata": {},
   "outputs": [
    {
     "data": {
      "text/html": [
       "<div>\n",
       "<style scoped>\n",
       "    .dataframe tbody tr th:only-of-type {\n",
       "        vertical-align: middle;\n",
       "    }\n",
       "\n",
       "    .dataframe tbody tr th {\n",
       "        vertical-align: top;\n",
       "    }\n",
       "\n",
       "    .dataframe thead th {\n",
       "        text-align: right;\n",
       "    }\n",
       "</style>\n",
       "<table border=\"1\" class=\"dataframe\">\n",
       "  <thead>\n",
       "    <tr style=\"text-align: right;\">\n",
       "      <th></th>\n",
       "      <th>1</th>\n",
       "      <th>2</th>\n",
       "    </tr>\n",
       "    <tr>\n",
       "      <th>0</th>\n",
       "      <th></th>\n",
       "      <th></th>\n",
       "    </tr>\n",
       "  </thead>\n",
       "  <tbody>\n",
       "    <tr>\n",
       "      <th>ENSMUSG00000051951</th>\n",
       "      <td>Xkr4</td>\n",
       "      <td>Gene Expression</td>\n",
       "    </tr>\n",
       "    <tr>\n",
       "      <th>ENSMUSG00000089699</th>\n",
       "      <td>Gm1992</td>\n",
       "      <td>Gene Expression</td>\n",
       "    </tr>\n",
       "    <tr>\n",
       "      <th>ENSMUSG00000102343</th>\n",
       "      <td>Gm37381</td>\n",
       "      <td>Gene Expression</td>\n",
       "    </tr>\n",
       "    <tr>\n",
       "      <th>ENSMUSG00000025900</th>\n",
       "      <td>Rp1</td>\n",
       "      <td>Gene Expression</td>\n",
       "    </tr>\n",
       "    <tr>\n",
       "      <th>ENSMUSG00000025902</th>\n",
       "      <td>Sox17</td>\n",
       "      <td>Gene Expression</td>\n",
       "    </tr>\n",
       "    <tr>\n",
       "      <th>...</th>\n",
       "      <td>...</td>\n",
       "      <td>...</td>\n",
       "    </tr>\n",
       "    <tr>\n",
       "      <th>ENSMUSG00000079808</th>\n",
       "      <td>AC168977.1</td>\n",
       "      <td>Gene Expression</td>\n",
       "    </tr>\n",
       "    <tr>\n",
       "      <th>ENSMUSG00000095041</th>\n",
       "      <td>AC149090.1</td>\n",
       "      <td>Gene Expression</td>\n",
       "    </tr>\n",
       "    <tr>\n",
       "      <th>ENSMUSG00000063897</th>\n",
       "      <td>CAAA01118383.1</td>\n",
       "      <td>Gene Expression</td>\n",
       "    </tr>\n",
       "    <tr>\n",
       "      <th>ENSMUSG00000096730</th>\n",
       "      <td>Vmn2r122</td>\n",
       "      <td>Gene Expression</td>\n",
       "    </tr>\n",
       "    <tr>\n",
       "      <th>ENSMUSG00000095742</th>\n",
       "      <td>CAAA01147332.1</td>\n",
       "      <td>Gene Expression</td>\n",
       "    </tr>\n",
       "  </tbody>\n",
       "</table>\n",
       "<p>31053 rows × 2 columns</p>\n",
       "</div>"
      ],
      "text/plain": [
       "                                 1                2\n",
       "0                                                  \n",
       "ENSMUSG00000051951            Xkr4  Gene Expression\n",
       "ENSMUSG00000089699          Gm1992  Gene Expression\n",
       "ENSMUSG00000102343         Gm37381  Gene Expression\n",
       "ENSMUSG00000025900             Rp1  Gene Expression\n",
       "ENSMUSG00000025902           Sox17  Gene Expression\n",
       "...                            ...              ...\n",
       "ENSMUSG00000079808      AC168977.1  Gene Expression\n",
       "ENSMUSG00000095041      AC149090.1  Gene Expression\n",
       "ENSMUSG00000063897  CAAA01118383.1  Gene Expression\n",
       "ENSMUSG00000096730        Vmn2r122  Gene Expression\n",
       "ENSMUSG00000095742  CAAA01147332.1  Gene Expression\n",
       "\n",
       "[31053 rows x 2 columns]"
      ]
     },
     "execution_count": 67,
     "metadata": {},
     "output_type": "execute_result"
    }
   ],
   "source": [
    "Ishikawa_anndata.var"
   ]
  },
  {
   "cell_type": "code",
   "execution_count": 68,
   "metadata": {},
   "outputs": [
    {
     "data": {
      "text/html": [
       "<div>\n",
       "<style scoped>\n",
       "    .dataframe tbody tr th:only-of-type {\n",
       "        vertical-align: middle;\n",
       "    }\n",
       "\n",
       "    .dataframe tbody tr th {\n",
       "        vertical-align: top;\n",
       "    }\n",
       "\n",
       "    .dataframe thead th {\n",
       "        text-align: right;\n",
       "    }\n",
       "</style>\n",
       "<table border=\"1\" class=\"dataframe\">\n",
       "  <thead>\n",
       "    <tr style=\"text-align: right;\">\n",
       "      <th></th>\n",
       "    </tr>\n",
       "    <tr>\n",
       "      <th>0</th>\n",
       "    </tr>\n",
       "  </thead>\n",
       "  <tbody>\n",
       "    <tr>\n",
       "      <th>AAACCCAAGAGGATGA-1</th>\n",
       "    </tr>\n",
       "    <tr>\n",
       "      <th>AAACCCAGTAGGTTTC-1</th>\n",
       "    </tr>\n",
       "    <tr>\n",
       "      <th>AAACCCATCGCGCCAA-1</th>\n",
       "    </tr>\n",
       "    <tr>\n",
       "      <th>AAACGAAAGACGGTCA-1</th>\n",
       "    </tr>\n",
       "    <tr>\n",
       "      <th>AAACGAAAGGCTCTAT-1</th>\n",
       "    </tr>\n",
       "    <tr>\n",
       "      <th>...</th>\n",
       "    </tr>\n",
       "    <tr>\n",
       "      <th>TTTGTTGCAAGTCCCG-1</th>\n",
       "    </tr>\n",
       "    <tr>\n",
       "      <th>TTTGTTGCATGAGATA-1</th>\n",
       "    </tr>\n",
       "    <tr>\n",
       "      <th>TTTGTTGGTCAGTCGC-1</th>\n",
       "    </tr>\n",
       "    <tr>\n",
       "      <th>TTTGTTGTCGAGGCAA-1</th>\n",
       "    </tr>\n",
       "    <tr>\n",
       "      <th>TTTGTTGTCTGGACCG-1</th>\n",
       "    </tr>\n",
       "  </tbody>\n",
       "</table>\n",
       "<p>3638 rows × 0 columns</p>\n",
       "</div>"
      ],
      "text/plain": [
       "Empty DataFrame\n",
       "Columns: []\n",
       "Index: [AAACCCAAGAGGATGA-1, AAACCCAGTAGGTTTC-1, AAACCCATCGCGCCAA-1, AAACGAAAGACGGTCA-1, AAACGAAAGGCTCTAT-1, AAACGAACAGATTTCG-1, AAACGAATCAAGTTGC-1, AAACGAATCAGCTCTC-1, AAACGCTAGACTGGGT-1, AAACGCTAGCGACTGA-1, AAACGCTCAGGCGATA-1, AAACGCTGTAACTTCG-1, AAACGCTGTCGCATGC-1, AAACGCTGTTGCGGCT-1, AAACGCTTCGAGTCCG-1, AAAGAACAGCAAATGT-1, AAAGAACAGCATCTTG-1, AAAGAACCAGCTGTAT-1, AAAGAACTCAAGAGTA-1, AAAGGGCAGAGAGCAA-1, AAAGGGCGTGTTCCAA-1, AAAGGGCTCGCGCCAA-1, AAAGGTAAGGCATCAG-1, AAAGGTAAGGGAGGCA-1, AAAGGTACAACTGCCG-1, AAAGGTATCCTTTAGT-1, AAAGTCCCAAGTGGCA-1, AAAGTGAAGTGAGTGC-1, AAAGTGAAGTGGTCAG-1, AAAGTGACAGGAACCA-1, AAAGTGAGTAGCTTTG-1, AAAGTGAGTTTGGGAG-1, AAAGTGATCCGCTGTT-1, AACAAAGGTGAGATTA-1, AACAACCCACGACAAG-1, AACAACCCATTGAGCT-1, AACAACCGTCCGAAGA-1, AACAACCGTGCAGATG-1, AACAACCTCGAGTCTA-1, AACAAGAAGCGCCGTT-1, AACACACAGAGGACTC-1, AACACACAGAGGTATT-1, AACACACTCCCACAGG-1, AACAGGGCACGACCTG-1, AACAGGGCATAGGTTC-1, AACAGGGGTAGGCAAC-1, AACAGGGGTGACCGTC-1, AACCAACAGACTTGTC-1, AACCAACAGGTCCAGA-1, AACCAACAGTCTGCAT-1, AACCAACGTAGGTAGC-1, AACCAACGTTCTCCCA-1, AACCAACTCGATTGAC-1, AACCACAAGACTAAGT-1, AACCACAAGAGTACCG-1, AACCACAAGGAGGTTC-1, AACCACACATAATGAG-1, AACCACAGTCGTGGAA-1, AACCACATCTCCGAAA-1, AACCATGCACCTGCTT-1, AACCATGCATATCTCT-1, AACCATGTCCGAAATC-1, AACCATGTCTGGTGCG-1, AACCCAACAAATCGGG-1, AACCCAAGTTGTGCCG-1, AACCTGAAGGAGTATT-1, AACCTGAAGGCAGCTA-1, AACCTGACAAGGTCAG-1, AACCTGACACTGAGTT-1, AACCTGAGTCGTTGCG-1, AACCTGAGTGCCGTAC-1, AACCTGAGTTGCTAGT-1, AACCTGATCACATCAG-1, AACCTGATCCAAGCTA-1, AACCTTTCACAAGTTC-1, AACCTTTCACCCTGAG-1, AACCTTTCAGTTTCGA-1, AACCTTTTCAAGTTGC-1, AACGAAACACGTATAC-1, AACGAAATCCATCTCG-1, AACGGGAAGGCGCTTC-1, AACGGGACACTTGTCC-1, AACGGGAGTCGGCCTA-1, AACGGGATCGCTGTCT-1, AACGTCAAGTAGGGTC-1, AACGTCACACCAAAGG-1, AACGTCACAGATCATC-1, AACGTCACAGGCAATG-1, AACGTCAGTAGGAAAG-1, AACGTCAGTGGTCCCA-1, AACTTCTAGGATTTCC-1, AACTTCTGTGATAGTA-1, AACTTCTGTTCTCTAT-1, AACTTCTGTTGAGGAC-1, AACTTCTTCAATCAGC-1, AACTTCTTCTAGAACC-1, AAGAACAAGCCTCTTC-1, AAGAACACATGCAGGA-1, AAGAACAGTGAGTTTC-1, AAGAACATCCGCCTAT-1, ...]\n",
       "\n",
       "[3638 rows x 0 columns]"
      ]
     },
     "execution_count": 68,
     "metadata": {},
     "output_type": "execute_result"
    }
   ],
   "source": [
    "Ishikawa_anndata.obs"
   ]
  },
  {
   "cell_type": "code",
   "execution_count": 69,
   "metadata": {},
   "outputs": [
    {
     "data": {
      "text/html": [
       "<div>\n",
       "<style scoped>\n",
       "    .dataframe tbody tr th:only-of-type {\n",
       "        vertical-align: middle;\n",
       "    }\n",
       "\n",
       "    .dataframe tbody tr th {\n",
       "        vertical-align: top;\n",
       "    }\n",
       "\n",
       "    .dataframe thead th {\n",
       "        text-align: right;\n",
       "    }\n",
       "</style>\n",
       "<table border=\"1\" class=\"dataframe\">\n",
       "  <thead>\n",
       "    <tr style=\"text-align: right;\">\n",
       "      <th></th>\n",
       "      <th>cell_index</th>\n",
       "    </tr>\n",
       "  </thead>\n",
       "  <tbody>\n",
       "    <tr>\n",
       "      <th>0</th>\n",
       "      <td>AAACCCAAGAGGATGA-1</td>\n",
       "    </tr>\n",
       "    <tr>\n",
       "      <th>1</th>\n",
       "      <td>AAACCCAGTAGGTTTC-1</td>\n",
       "    </tr>\n",
       "    <tr>\n",
       "      <th>2</th>\n",
       "      <td>AAACCCATCGCGCCAA-1</td>\n",
       "    </tr>\n",
       "    <tr>\n",
       "      <th>3</th>\n",
       "      <td>AAACGAAAGACGGTCA-1</td>\n",
       "    </tr>\n",
       "    <tr>\n",
       "      <th>4</th>\n",
       "      <td>AAACGAAAGGCTCTAT-1</td>\n",
       "    </tr>\n",
       "    <tr>\n",
       "      <th>...</th>\n",
       "      <td>...</td>\n",
       "    </tr>\n",
       "    <tr>\n",
       "      <th>3633</th>\n",
       "      <td>TTTGTTGCAAGTCCCG-1</td>\n",
       "    </tr>\n",
       "    <tr>\n",
       "      <th>3634</th>\n",
       "      <td>TTTGTTGCATGAGATA-1</td>\n",
       "    </tr>\n",
       "    <tr>\n",
       "      <th>3635</th>\n",
       "      <td>TTTGTTGGTCAGTCGC-1</td>\n",
       "    </tr>\n",
       "    <tr>\n",
       "      <th>3636</th>\n",
       "      <td>TTTGTTGTCGAGGCAA-1</td>\n",
       "    </tr>\n",
       "    <tr>\n",
       "      <th>3637</th>\n",
       "      <td>TTTGTTGTCTGGACCG-1</td>\n",
       "    </tr>\n",
       "  </tbody>\n",
       "</table>\n",
       "<p>3638 rows × 1 columns</p>\n",
       "</div>"
      ],
      "text/plain": [
       "              cell_index\n",
       "0     AAACCCAAGAGGATGA-1\n",
       "1     AAACCCAGTAGGTTTC-1\n",
       "2     AAACCCATCGCGCCAA-1\n",
       "3     AAACGAAAGACGGTCA-1\n",
       "4     AAACGAAAGGCTCTAT-1\n",
       "...                  ...\n",
       "3633  TTTGTTGCAAGTCCCG-1\n",
       "3634  TTTGTTGCATGAGATA-1\n",
       "3635  TTTGTTGGTCAGTCGC-1\n",
       "3636  TTTGTTGTCGAGGCAA-1\n",
       "3637  TTTGTTGTCTGGACCG-1\n",
       "\n",
       "[3638 rows x 1 columns]"
      ]
     },
     "execution_count": 69,
     "metadata": {},
     "output_type": "execute_result"
    }
   ],
   "source": [
    "#Name the column in obs as cell_index\n",
    "Ishikawa_anndata.obs['cell_index'] = Ishikawa_anndata.obs.index\n",
    "#Change anndata index to numeric index\n",
    "Ishikawa_anndata.obs.index = np.arange(0, len(Ishikawa_anndata.obs.index))\n",
    "#Change anndata column names to string\n",
    "Ishikawa_anndata.obs.columns = Ishikawa_anndata.obs.columns.astype(str)\n",
    "Ishikawa_anndata.obs"
   ]
  },
  {
   "cell_type": "code",
   "execution_count": 70,
   "metadata": {},
   "outputs": [
    {
     "data": {
      "text/html": [
       "<div>\n",
       "<style scoped>\n",
       "    .dataframe tbody tr th:only-of-type {\n",
       "        vertical-align: middle;\n",
       "    }\n",
       "\n",
       "    .dataframe tbody tr th {\n",
       "        vertical-align: top;\n",
       "    }\n",
       "\n",
       "    .dataframe thead th {\n",
       "        text-align: right;\n",
       "    }\n",
       "</style>\n",
       "<table border=\"1\" class=\"dataframe\">\n",
       "  <thead>\n",
       "    <tr style=\"text-align: right;\">\n",
       "      <th></th>\n",
       "      <th>1</th>\n",
       "      <th>2</th>\n",
       "      <th>gene_id</th>\n",
       "    </tr>\n",
       "  </thead>\n",
       "  <tbody>\n",
       "    <tr>\n",
       "      <th>0</th>\n",
       "      <td>Xkr4</td>\n",
       "      <td>Gene Expression</td>\n",
       "      <td>ENSMUSG00000051951</td>\n",
       "    </tr>\n",
       "    <tr>\n",
       "      <th>1</th>\n",
       "      <td>Gm1992</td>\n",
       "      <td>Gene Expression</td>\n",
       "      <td>ENSMUSG00000089699</td>\n",
       "    </tr>\n",
       "    <tr>\n",
       "      <th>2</th>\n",
       "      <td>Gm37381</td>\n",
       "      <td>Gene Expression</td>\n",
       "      <td>ENSMUSG00000102343</td>\n",
       "    </tr>\n",
       "    <tr>\n",
       "      <th>3</th>\n",
       "      <td>Rp1</td>\n",
       "      <td>Gene Expression</td>\n",
       "      <td>ENSMUSG00000025900</td>\n",
       "    </tr>\n",
       "    <tr>\n",
       "      <th>4</th>\n",
       "      <td>Sox17</td>\n",
       "      <td>Gene Expression</td>\n",
       "      <td>ENSMUSG00000025902</td>\n",
       "    </tr>\n",
       "    <tr>\n",
       "      <th>...</th>\n",
       "      <td>...</td>\n",
       "      <td>...</td>\n",
       "      <td>...</td>\n",
       "    </tr>\n",
       "    <tr>\n",
       "      <th>31048</th>\n",
       "      <td>AC168977.1</td>\n",
       "      <td>Gene Expression</td>\n",
       "      <td>ENSMUSG00000079808</td>\n",
       "    </tr>\n",
       "    <tr>\n",
       "      <th>31049</th>\n",
       "      <td>AC149090.1</td>\n",
       "      <td>Gene Expression</td>\n",
       "      <td>ENSMUSG00000095041</td>\n",
       "    </tr>\n",
       "    <tr>\n",
       "      <th>31050</th>\n",
       "      <td>CAAA01118383.1</td>\n",
       "      <td>Gene Expression</td>\n",
       "      <td>ENSMUSG00000063897</td>\n",
       "    </tr>\n",
       "    <tr>\n",
       "      <th>31051</th>\n",
       "      <td>Vmn2r122</td>\n",
       "      <td>Gene Expression</td>\n",
       "      <td>ENSMUSG00000096730</td>\n",
       "    </tr>\n",
       "    <tr>\n",
       "      <th>31052</th>\n",
       "      <td>CAAA01147332.1</td>\n",
       "      <td>Gene Expression</td>\n",
       "      <td>ENSMUSG00000095742</td>\n",
       "    </tr>\n",
       "  </tbody>\n",
       "</table>\n",
       "<p>31053 rows × 3 columns</p>\n",
       "</div>"
      ],
      "text/plain": [
       "                    1                2             gene_id\n",
       "0                Xkr4  Gene Expression  ENSMUSG00000051951\n",
       "1              Gm1992  Gene Expression  ENSMUSG00000089699\n",
       "2             Gm37381  Gene Expression  ENSMUSG00000102343\n",
       "3                 Rp1  Gene Expression  ENSMUSG00000025900\n",
       "4               Sox17  Gene Expression  ENSMUSG00000025902\n",
       "...               ...              ...                 ...\n",
       "31048      AC168977.1  Gene Expression  ENSMUSG00000079808\n",
       "31049      AC149090.1  Gene Expression  ENSMUSG00000095041\n",
       "31050  CAAA01118383.1  Gene Expression  ENSMUSG00000063897\n",
       "31051        Vmn2r122  Gene Expression  ENSMUSG00000096730\n",
       "31052  CAAA01147332.1  Gene Expression  ENSMUSG00000095742\n",
       "\n",
       "[31053 rows x 3 columns]"
      ]
     },
     "execution_count": 70,
     "metadata": {},
     "output_type": "execute_result"
    }
   ],
   "source": [
    "#Name the column in var as gene_id\n",
    "Ishikawa_anndata.var['gene_id'] = Ishikawa_anndata.var.index\n",
    "#Change anndata index to numeric index\n",
    "Ishikawa_anndata.var.index = np.arange(0, len(Ishikawa_anndata.var.index))\n",
    "#Change anndata column names to string\n",
    "Ishikawa_anndata.var.columns = Ishikawa_anndata.var.columns.astype(str)\n",
    "Ishikawa_anndata.var"
   ]
  },
  {
   "cell_type": "code",
   "execution_count": 71,
   "metadata": {},
   "outputs": [
    {
     "data": {
      "text/html": [
       "<div>\n",
       "<style scoped>\n",
       "    .dataframe tbody tr th:only-of-type {\n",
       "        vertical-align: middle;\n",
       "    }\n",
       "\n",
       "    .dataframe tbody tr th {\n",
       "        vertical-align: top;\n",
       "    }\n",
       "\n",
       "    .dataframe thead th {\n",
       "        text-align: right;\n",
       "    }\n",
       "</style>\n",
       "<table border=\"1\" class=\"dataframe\">\n",
       "  <thead>\n",
       "    <tr style=\"text-align: right;\">\n",
       "      <th></th>\n",
       "      <th>gene_name</th>\n",
       "      <th>type</th>\n",
       "      <th>gene_id</th>\n",
       "    </tr>\n",
       "  </thead>\n",
       "  <tbody>\n",
       "    <tr>\n",
       "      <th>0</th>\n",
       "      <td>Xkr4</td>\n",
       "      <td>Gene Expression</td>\n",
       "      <td>ENSMUSG00000051951</td>\n",
       "    </tr>\n",
       "    <tr>\n",
       "      <th>1</th>\n",
       "      <td>Gm1992</td>\n",
       "      <td>Gene Expression</td>\n",
       "      <td>ENSMUSG00000089699</td>\n",
       "    </tr>\n",
       "    <tr>\n",
       "      <th>2</th>\n",
       "      <td>Gm37381</td>\n",
       "      <td>Gene Expression</td>\n",
       "      <td>ENSMUSG00000102343</td>\n",
       "    </tr>\n",
       "    <tr>\n",
       "      <th>3</th>\n",
       "      <td>Rp1</td>\n",
       "      <td>Gene Expression</td>\n",
       "      <td>ENSMUSG00000025900</td>\n",
       "    </tr>\n",
       "    <tr>\n",
       "      <th>4</th>\n",
       "      <td>Sox17</td>\n",
       "      <td>Gene Expression</td>\n",
       "      <td>ENSMUSG00000025902</td>\n",
       "    </tr>\n",
       "    <tr>\n",
       "      <th>...</th>\n",
       "      <td>...</td>\n",
       "      <td>...</td>\n",
       "      <td>...</td>\n",
       "    </tr>\n",
       "    <tr>\n",
       "      <th>31048</th>\n",
       "      <td>AC168977.1</td>\n",
       "      <td>Gene Expression</td>\n",
       "      <td>ENSMUSG00000079808</td>\n",
       "    </tr>\n",
       "    <tr>\n",
       "      <th>31049</th>\n",
       "      <td>AC149090.1</td>\n",
       "      <td>Gene Expression</td>\n",
       "      <td>ENSMUSG00000095041</td>\n",
       "    </tr>\n",
       "    <tr>\n",
       "      <th>31050</th>\n",
       "      <td>CAAA01118383.1</td>\n",
       "      <td>Gene Expression</td>\n",
       "      <td>ENSMUSG00000063897</td>\n",
       "    </tr>\n",
       "    <tr>\n",
       "      <th>31051</th>\n",
       "      <td>Vmn2r122</td>\n",
       "      <td>Gene Expression</td>\n",
       "      <td>ENSMUSG00000096730</td>\n",
       "    </tr>\n",
       "    <tr>\n",
       "      <th>31052</th>\n",
       "      <td>CAAA01147332.1</td>\n",
       "      <td>Gene Expression</td>\n",
       "      <td>ENSMUSG00000095742</td>\n",
       "    </tr>\n",
       "  </tbody>\n",
       "</table>\n",
       "<p>31053 rows × 3 columns</p>\n",
       "</div>"
      ],
      "text/plain": [
       "            gene_name             type             gene_id\n",
       "0                Xkr4  Gene Expression  ENSMUSG00000051951\n",
       "1              Gm1992  Gene Expression  ENSMUSG00000089699\n",
       "2             Gm37381  Gene Expression  ENSMUSG00000102343\n",
       "3                 Rp1  Gene Expression  ENSMUSG00000025900\n",
       "4               Sox17  Gene Expression  ENSMUSG00000025902\n",
       "...               ...              ...                 ...\n",
       "31048      AC168977.1  Gene Expression  ENSMUSG00000079808\n",
       "31049      AC149090.1  Gene Expression  ENSMUSG00000095041\n",
       "31050  CAAA01118383.1  Gene Expression  ENSMUSG00000063897\n",
       "31051        Vmn2r122  Gene Expression  ENSMUSG00000096730\n",
       "31052  CAAA01147332.1  Gene Expression  ENSMUSG00000095742\n",
       "\n",
       "[31053 rows x 3 columns]"
      ]
     },
     "execution_count": 71,
     "metadata": {},
     "output_type": "execute_result"
    }
   ],
   "source": [
    "#Name the columns properly\n",
    "Ishikawa_anndata.var.rename(columns={\"1\": \"gene_name\"}, inplace=True)\n",
    "Ishikawa_anndata.var.rename(columns={\"2\": \"type\"}, inplace=True)\n",
    "Ishikawa_anndata.var"
   ]
  },
  {
   "cell_type": "code",
   "execution_count": 72,
   "metadata": {},
   "outputs": [
    {
     "data": {
      "text/plain": [
       "<3638x31053 sparse matrix of type '<class 'numpy.float32'>'\n",
       "\twith 8586005 stored elements in Compressed Sparse Column format>"
      ]
     },
     "execution_count": 72,
     "metadata": {},
     "output_type": "execute_result"
    }
   ],
   "source": [
    "Ishikawa_anndata.X"
   ]
  },
  {
   "cell_type": "code",
   "execution_count": 73,
   "metadata": {},
   "outputs": [],
   "source": [
    "#Save the anndata object\n",
    "Ishikawa_anndata.write('/lustre/groups/talaveralopez/datasets/Colorectal_cancer/Mice_intestine/Ishikawa-2022-mice/GSM6381794_anndata_raw-2.h5ad')"
   ]
  }
 ],
 "metadata": {
  "kernelspec": {
   "display_name": "Python 3 (ipykernel)",
   "language": "python",
   "name": "python3"
  },
  "language_info": {
   "codemirror_mode": {
    "name": "ipython",
    "version": 3
   },
   "file_extension": ".py",
   "mimetype": "text/x-python",
   "name": "python",
   "nbconvert_exporter": "python",
   "pygments_lexer": "ipython3",
   "version": "3.9.15"
  },
  "orig_nbformat": 4
 },
 "nbformat": 4,
 "nbformat_minor": 2
}
