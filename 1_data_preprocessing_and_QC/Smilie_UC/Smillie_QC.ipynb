{
 "cells": [
  {
   "attachments": {},
   "cell_type": "markdown",
   "metadata": {},
   "source": [
    "## Notebook for the Smillie, 2019 QC \n",
    "### Developed by: Anna Maguza\n",
    "\n",
    "### Institute of Computational Biology - Computational Health Centre - Hemlholtz Munich\n",
    "\n",
    "### 16th June 2023"
   ]
  },
  {
   "cell_type": "markdown",
   "metadata": {},
   "source": [
    "#### Load required packages"
   ]
  },
  {
   "cell_type": "code",
   "execution_count": null,
   "metadata": {},
   "outputs": [],
   "source": [
    "import numpy as np\n",
    "import pandas as pd\n",
    "import scanpy as sc\n",
    "import anndata as an\n",
    "import matplotlib.pyplot as plt\n",
    "from matplotlib.pyplot import figure"
   ]
  },
  {
   "cell_type": "code",
   "execution_count": null,
   "metadata": {},
   "outputs": [],
   "source": [
    "import scrublet "
   ]
  },
  {
   "cell_type": "markdown",
   "metadata": {},
   "source": [
    "#### Setup Cells"
   ]
  },
  {
   "cell_type": "code",
   "execution_count": null,
   "metadata": {},
   "outputs": [],
   "source": [
    "%matplotlib inline"
   ]
  },
  {
   "cell_type": "code",
   "execution_count": null,
   "metadata": {},
   "outputs": [],
   "source": [
    "sc.settings.verbosity = 3             # verbosity: errors (0), warnings (1), info (2), hints (3)\n",
    "sc.logging.print_header()\n",
    "sc.settings.set_figure_params(dpi=80, facecolor='white')"
   ]
  },
  {
   "cell_type": "code",
   "execution_count": null,
   "metadata": {},
   "outputs": [],
   "source": [
    "def X_is_raw(adata):\n",
    "    return np.array_equal(adata.X.sum(axis=0).astype(int), adata.X.sum(axis=0))"
   ]
  },
  {
   "cell_type": "markdown",
   "metadata": {},
   "source": [
    "#### Upload Data"
   ]
  },
  {
   "cell_type": "code",
   "execution_count": null,
   "metadata": {},
   "outputs": [],
   "source": [
    "input = '/Users/anna.maguza/Desktop/Data/Gut_project/Smillie/Anndata_raw/Smillie_ulcerative_colitis_anndata.h5ad'\n",
    "adata = sc.read_h5ad(input)"
   ]
  },
  {
   "cell_type": "code",
   "execution_count": null,
   "metadata": {},
   "outputs": [],
   "source": [
    "X_is_raw(adata)"
   ]
  },
  {
   "cell_type": "code",
   "execution_count": null,
   "metadata": {},
   "outputs": [],
   "source": [
    "adata.obs"
   ]
  },
  {
   "cell_type": "code",
   "execution_count": null,
   "metadata": {},
   "outputs": [],
   "source": [
    "adata.obs['Diagnosis'].value_counts()"
   ]
  },
  {
   "cell_type": "code",
   "execution_count": null,
   "metadata": {},
   "outputs": [],
   "source": [
    "adata.obs['Cell_States'] = adata.obs['CellType']"
   ]
  },
  {
   "cell_type": "code",
   "execution_count": null,
   "metadata": {},
   "outputs": [],
   "source": [
    "adata.obs['CellType'].replace({\n",
    "    'Enterocytes': 'Epithelial',\n",
    "    'Best4+ Enterocytes': 'Epithelial',\n",
    "    'Enterocyte Progenitors': 'Epithelial',\n",
    "    'Immature Enterocytes 1': 'Epithelial',\n",
    "    'Immature Enterocytes 2': 'Epithelial',\n",
    "    'Immature Goblet': 'Epithelial',\n",
    "    'M cells': 'Epithelial',\n",
    "    'Secretory TA': 'Epithelial',\n",
    "    'TA 1': 'Epithelial',\n",
    "    'TA 2': 'Epithelial',\n",
    "    'Cycling TA': 'Epithelial',\n",
    "    'WNT2B+ Fos-lo 1': 'Epithelial',\n",
    "    'WNT2B+ Fos-hi': 'Epithelial',\n",
    "    'WNT5B+ 2': 'Epithelial',\n",
    "    'RSPO3+': 'Epithelial',\n",
    "    'Enteroendocrine': 'Epithelial',\n",
    "    'Tuft': 'Epithelial',\n",
    "    'Goblet': 'Epithelial',\n",
    "    'Stem': 'Epithelial',\n",
    "    'WNT2B+ Fos-lo 2': 'Epithelial',\n",
    "    'WNT5B+ 1': 'Epithelial',\n",
    "    \n",
    "    'Myofibroblasts': 'Mesenchymal',\n",
    "    'Pericytes': 'Mesenchymal',\n",
    "    'Inflammatory Fibroblasts': 'Mesenchymal',\n",
    "    \n",
    "    'Cycling B': 'B cells',\n",
    "    'GC': 'B cells',\n",
    "    'Follicular': 'B cells',\n",
    "    \n",
    "    'CD4+ Activated Fos-hi': 'T cells',\n",
    "    'CD4+ Activated Fos-lo': 'T cells',\n",
    "    'CD4+ Memory': 'T cells',\n",
    "    'CD4+ PD1+': 'T cells',\n",
    "    'CD8+ IELs': 'T cells',\n",
    "    'CD8+ IL17+': 'T cells',\n",
    "    'CD8+ LP': 'T cells',\n",
    "    'Tregs': 'T cells',\n",
    "    'Cycling T': 'T cells',\n",
    "    \n",
    "    'Plasma': 'Plasma cells',\n",
    "    \n",
    "    'Post-capillary Venules': 'Endothelial',\n",
    "    'Microvascular': 'Endothelial',\n",
    "    \n",
    "    'Glia': 'Neuronal',\n",
    "    \n",
    "    'NKs': 'Myeloid',\n",
    "    'Inflammatory Monocytes': 'Myeloid',\n",
    "    'Cycling Monocytes': 'Myeloid',\n",
    "    'Macrophages': 'Myeloid',\n",
    "    'DC1': 'Myeloid',\n",
    "    'CD69- Mast': 'Myeloid',\n",
    "    'CD69+ Mast': 'Myeloid',\n",
    "    'DC2': 'Myeloid',\n",
    "    \n",
    "    'MT-hi': 'Red blood cells',\n",
    "    'ILCs': 'Red blood cells',\n",
    "}, inplace=True)\n"
   ]
  },
  {
   "attachments": {},
   "cell_type": "markdown",
   "metadata": {},
   "source": [
    "### Generate QC values"
   ]
  },
  {
   "cell_type": "code",
   "execution_count": null,
   "metadata": {},
   "outputs": [],
   "source": [
    "#Adding percentage of ribosomial genes\n",
    "adata.var['ribo'] = adata.var_names.str.startswith((\"RPS\",\"RPL\"))  # annotate the group of ribosomal genes as 'ribo'\n",
    "sc.pp.calculate_qc_metrics(adata, qc_vars=['ribo'], percent_top=None, log1p=False, inplace=True)"
   ]
  },
  {
   "cell_type": "code",
   "execution_count": null,
   "metadata": {},
   "outputs": [],
   "source": [
    "# Add percent_mito to adata\n",
    "adata.var['mito'] = adata.var_names.str.startswith((\"MT-\"))  # annotate the group of ribosomal genes as 'ribo'\n",
    "sc.pp.calculate_qc_metrics(adata, qc_vars=['mito'], percent_top=None, log1p=False, inplace=True)"
   ]
  },
  {
   "cell_type": "markdown",
   "metadata": {},
   "source": [
    "### Fill the table"
   ]
  },
  {
   "cell_type": "code",
   "execution_count": null,
   "metadata": {},
   "outputs": [],
   "source": [
    "# Calculate number of donors\n",
    "len(adata.obs.Donor_ID.unique())"
   ]
  },
  {
   "cell_type": "code",
   "execution_count": null,
   "metadata": {},
   "outputs": [],
   "source": [
    "# Calculate number of samples\n",
    "len(adata.obs.Sample_ID.unique())"
   ]
  },
  {
   "cell_type": "code",
   "execution_count": null,
   "metadata": {},
   "outputs": [],
   "source": [
    "# Number of cells\n",
    "adata.n_obs"
   ]
  },
  {
   "cell_type": "code",
   "execution_count": null,
   "metadata": {},
   "outputs": [],
   "source": [
    "# change the value type of adata.obs.n_counts to int\n",
    "adata.obs['n_counts'] = adata.obs['n_counts'].astype(int)\n",
    "adata.obs['n_genes'] = adata.obs['n_genes'].astype(int)\n",
    "\n",
    "#Total Counts\n",
    "sum(adata.obs.n_counts)"
   ]
  },
  {
   "cell_type": "code",
   "execution_count": null,
   "metadata": {},
   "outputs": [],
   "source": [
    "# Mean cells per sample\n",
    "adata.obs.groupby('Sample_ID').size().mean()"
   ]
  },
  {
   "cell_type": "code",
   "execution_count": null,
   "metadata": {},
   "outputs": [],
   "source": [
    "# calculate mean reads per cell \n",
    "sum(adata.obs.total_counts)/len(adata.obs)"
   ]
  },
  {
   "cell_type": "code",
   "execution_count": null,
   "metadata": {},
   "outputs": [],
   "source": [
    "#Mean Genes per Cell\n",
    "sum(adata.obs.n_genes_by_counts)/len(adata.obs)"
   ]
  },
  {
   "cell_type": "code",
   "execution_count": null,
   "metadata": {},
   "outputs": [],
   "source": [
    "#Mean percentage of mitochondrial counts \n",
    "sum(adata.obs.pct_counts_mito)/len(adata.obs)"
   ]
  },
  {
   "cell_type": "code",
   "execution_count": null,
   "metadata": {},
   "outputs": [],
   "source": [
    "# Mean percentage of ribosomal counts\n",
    "sum(adata.obs.pct_counts_ribo)/len(adata.obs)"
   ]
  },
  {
   "cell_type": "code",
   "execution_count": null,
   "metadata": {},
   "outputs": [],
   "source": [
    "# Rename values in Cancer_adata.obs['ClusterTop'] as in Healthy_adata.obs['Cell Type']\n",
    "adata.obs['Location'].replace({'SmallInt' : 'Small Intestine',\n",
    "                                            'Small Bowel' : 'Small Intestine',\n",
    "                                            'LargeInt': 'Large Intestine',\n",
    "                                            'Colon': 'Large Intestine',\n",
    "                                            'REC' : 'Rectum',\n",
    "                                            'Epi': 'Epithelium',\n",
    "                                            'LP': 'Lamina Propria'}, inplace=True)"
   ]
  },
  {
   "cell_type": "code",
   "execution_count": null,
   "metadata": {},
   "outputs": [],
   "source": [
    "adata.obs['Location'].value_counts()"
   ]
  },
  {
   "cell_type": "code",
   "execution_count": null,
   "metadata": {},
   "outputs": [],
   "source": [
    "sc.set_figure_params(dpi=300)\n",
    "sc.pl.violin(adata, ['n_genes', 'n_counts', 'pct_counts_mito', 'pct_counts_ribo'],\n",
    "             jitter=0.4, multi_panel=True)"
   ]
  },
  {
   "cell_type": "code",
   "execution_count": null,
   "metadata": {},
   "outputs": [],
   "source": [
    "adata = adata[adata.obs.n_genes < 5000, :]\n",
    "adata = adata[adata.obs.n_genes > 200, :]\n",
    "adata = adata[adata.obs.n_counts < 50000, :]\n",
    "\n",
    "sc.set_figure_params(dpi=300)\n",
    "sc.pl.violin(adata, ['n_genes', 'n_counts', 'pct_counts_mito', 'pct_counts_ribo'],\n",
    "             jitter=0.4, multi_panel=True)"
   ]
  },
  {
   "attachments": {},
   "cell_type": "markdown",
   "metadata": {},
   "source": [
    "### Identify doublets"
   ]
  },
  {
   "cell_type": "code",
   "execution_count": null,
   "metadata": {},
   "outputs": [],
   "source": [
    "scrub = scrublet.Scrublet(adata.X)"
   ]
  },
  {
   "cell_type": "code",
   "execution_count": null,
   "metadata": {},
   "outputs": [],
   "source": [
    "adata.obs['doublet_scores'], adata.obs['predicted_doublets'] = scrub.scrub_doublets()\n",
    "scrub.plot_histogram()"
   ]
  },
  {
   "cell_type": "code",
   "execution_count": null,
   "metadata": {},
   "outputs": [],
   "source": [
    "sum(adata.obs['predicted_doublets'])"
   ]
  },
  {
   "cell_type": "code",
   "execution_count": null,
   "metadata": {},
   "outputs": [],
   "source": [
    "# add in column with singlet/doublet instead of True/False\n",
    "adata.obs['doublet_info'] = adata.obs[\"predicted_doublets\"].astype(str)"
   ]
  },
  {
   "cell_type": "code",
   "execution_count": null,
   "metadata": {},
   "outputs": [],
   "source": [
    "adata.write('/Users/anna.maguza/Desktop/Data/Processed_datasets/1_QC/Smillie_with_QC_raw.h5ad')"
   ]
  }
 ],
 "metadata": {
  "kernelspec": {
   "display_name": "scanpy_env",
   "language": "python",
   "name": "python3"
  },
  "language_info": {
   "codemirror_mode": {
    "name": "ipython",
    "version": 3
   },
   "file_extension": ".py",
   "mimetype": "text/x-python",
   "name": "python",
   "nbconvert_exporter": "python",
   "pygments_lexer": "ipython3",
   "version": "3.9.16"
  },
  "orig_nbformat": 4
 },
 "nbformat": 4,
 "nbformat_minor": 2
}
