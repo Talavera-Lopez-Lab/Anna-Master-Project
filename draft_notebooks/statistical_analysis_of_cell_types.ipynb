{
 "cells": [
  {
   "cell_type": "markdown",
   "metadata": {},
   "source": [
    "#### Load required packages"
   ]
  },
  {
   "cell_type": "code",
   "execution_count": null,
   "metadata": {},
   "outputs": [],
   "source": [
    "import numpy as np\n",
    "import pandas as pd\n",
    "import scanpy as sc\n",
    "import anndata as an\n",
    "import matplotlib.pyplot as plt\n",
    "from matplotlib.pyplot import figure"
   ]
  },
  {
   "cell_type": "markdown",
   "metadata": {},
   "source": [
    "#### Setup Cells"
   ]
  },
  {
   "cell_type": "code",
   "execution_count": null,
   "metadata": {},
   "outputs": [],
   "source": [
    "%matplotlib inline"
   ]
  },
  {
   "cell_type": "code",
   "execution_count": null,
   "metadata": {},
   "outputs": [],
   "source": [
    "sc.settings.verbosity = 3             # verbosity: errors (0), warnings (1), info (2), hints (3)\n",
    "sc.logging.print_header()\n",
    "sc.settings.set_figure_params(dpi=80, facecolor='white')"
   ]
  },
  {
   "cell_type": "markdown",
   "metadata": {},
   "source": [
    "#### Upload Data"
   ]
  },
  {
   "cell_type": "code",
   "execution_count": null,
   "metadata": {},
   "outputs": [],
   "source": [
    "input_data = '/Users/anna.maguza/Desktop/Data/COPD_project/Marburg_All_ctl230321_leiden_states.raw.h5ad'\n",
    "output_data = '/Users/anna.maguza/Desktop/Data/COPD_project/Marburg_All_ctl230321_leiden_states_output.h5ad'"
   ]
  },
  {
   "cell_type": "code",
   "execution_count": null,
   "metadata": {},
   "outputs": [],
   "source": [
    "adata = sc.read_h5ad(input_data)"
   ]
  },
  {
   "cell_type": "code",
   "execution_count": null,
   "metadata": {},
   "outputs": [],
   "source": [
    "adata.obs"
   ]
  },
  {
   "cell_type": "code",
   "execution_count": null,
   "metadata": {},
   "outputs": [],
   "source": [
    "adata.obs['leiden_states'].value_counts()"
   ]
  },
  {
   "cell_type": "code",
   "execution_count": null,
   "metadata": {},
   "outputs": [],
   "source": [
    "adata.obs['group'].value_counts()"
   ]
  },
  {
   "cell_type": "code",
   "execution_count": null,
   "metadata": {},
   "outputs": [],
   "source": [
    "# Count the number of cells of each cell type in each group\n",
    "cell_type_counts = adata.obs.groupby(['group', 'leiden_states'])['group'].count().unstack()"
   ]
  },
  {
   "cell_type": "code",
   "execution_count": null,
   "metadata": {},
   "outputs": [],
   "source": [
    "# Calculate the total number of cells in each group\n",
    "total_cell_counts = cell_type_counts.sum(axis=1)"
   ]
  },
  {
   "cell_type": "code",
   "execution_count": null,
   "metadata": {},
   "outputs": [],
   "source": [
    "# Calculate the relative abundance of each cell type in each group\n",
    "relative_abundances = (cell_type_counts.T / total_cell_counts).T"
   ]
  },
  {
   "attachments": {},
   "cell_type": "markdown",
   "metadata": {},
   "source": [
    "### COPD_IAV"
   ]
  },
  {
   "cell_type": "code",
   "execution_count": null,
   "metadata": {},
   "outputs": [],
   "source": [
    "# Calculate the percentage increase/decrease of each cell type in copd_iav relative to each other group separately\n",
    "other_groups = ['healthy_ctrl', 'healthy_iav', 'copd_ctrl']\n",
    "reference_abundances = relative_abundances.loc[other_groups].mean(axis=0)\n",
    "percentage_changes = {}\n",
    "for group in other_groups:\n",
    "    group_abundances = relative_abundances.loc[group]\n",
    "    percentage_changes[group] = ((group_abundances / reference_abundances) - 1) * 100\n",
    "\n",
    "# Save the percentage changes as a CSV file\n",
    "percentage_changes_df = pd.DataFrame(percentage_changes).round(2)\n",
    "percentage_changes_df.index.name = 'Cell Type'\n",
    "#percentage_changes_df.to_csv('/lustre/groups/talaveralopez/workspace/anna.maguza/COPD/Percentage_change/copd_iav_percentage_changes.csv')\n",
    "\n",
    "# Print the percentage changes\n",
    "print(percentage_changes_df)"
   ]
  },
  {
   "attachments": {},
   "cell_type": "markdown",
   "metadata": {},
   "source": [
    "### copd_ctrl"
   ]
  },
  {
   "cell_type": "code",
   "execution_count": null,
   "metadata": {},
   "outputs": [],
   "source": [
    "# Calculate the percentage increase/decrease of each cell type in copd_iav relative to each other group separately\n",
    "other_groups = ['healthy_ctrl', 'healthy_iav', 'copd_iav']\n",
    "reference_abundances = relative_abundances.loc[other_groups].mean(axis=0)\n",
    "percentage_changes = {}\n",
    "for group in other_groups:\n",
    "    group_abundances = relative_abundances.loc[group]\n",
    "    percentage_changes[group] = ((group_abundances / reference_abundances) - 1) * 100\n",
    "\n",
    "# Save the percentage changes as a CSV file\n",
    "percentage_changes_df = pd.DataFrame(percentage_changes).round(2)\n",
    "percentage_changes_df.index.name = 'Cell Type'\n",
    "#percentage_changes_df.to_csv('/lustre/groups/talaveralopez/workspace/anna.maguza/COPD/Percentage_change/copd_control_percentage_changes.csv')\n",
    "\n",
    "# Print the percentage changes\n",
    "print(percentage_changes_df)"
   ]
  },
  {
   "attachments": {},
   "cell_type": "markdown",
   "metadata": {},
   "source": [
    "### healthy_ctrl"
   ]
  },
  {
   "cell_type": "code",
   "execution_count": null,
   "metadata": {},
   "outputs": [],
   "source": [
    "# Calculate the percentage increase/decrease of each cell type in copd_iav relative to each other group separately\n",
    "other_groups = ['copd_ctrl', 'healthy_iav', 'copd_iav']\n",
    "reference_abundances = relative_abundances.loc[other_groups].mean(axis=0)\n",
    "percentage_changes = {}\n",
    "for group in other_groups:\n",
    "    group_abundances = relative_abundances.loc[group]\n",
    "    percentage_changes[group] = ((group_abundances / reference_abundances) - 1) * 100\n",
    "\n",
    "# Save the percentage changes as a CSV file\n",
    "percentage_changes_df = pd.DataFrame(percentage_changes).round(2)\n",
    "percentage_changes_df.index.name = 'Cell Type'\n",
    "#percentage_changes_df.to_csv('/lustre/groups/talaveralopez/workspace/anna.maguza/COPD/Percentage_change/healthy_control_percentage_changes.csv')\n",
    "\n",
    "# Print the percentage changes\n",
    "print(percentage_changes_df)"
   ]
  },
  {
   "attachments": {},
   "cell_type": "markdown",
   "metadata": {},
   "source": [
    "### healthy_iav"
   ]
  },
  {
   "cell_type": "code",
   "execution_count": null,
   "metadata": {},
   "outputs": [],
   "source": [
    "# Calculate the percentage increase/decrease of each cell type in copd_iav relative to each other group separately\n",
    "other_groups = ['copd_ctrl', 'healthy_ctrl', 'copd_iav']\n",
    "reference_abundances = relative_abundances.loc[other_groups].mean(axis=0)\n",
    "percentage_changes = {}\n",
    "for group in other_groups:\n",
    "    group_abundances = relative_abundances.loc[group]\n",
    "    percentage_changes[group] = ((group_abundances / reference_abundances) - 1) * 100\n",
    "\n",
    "# Save the percentage changes as a CSV file\n",
    "percentage_changes_df = pd.DataFrame(percentage_changes).round(2)\n",
    "percentage_changes_df.index.name = 'Cell Type'\n",
    "#percentage_changes_df.to_csv('/lustre/groups/talaveralopez/workspace/anna.maguza/COPD/Percentage_change/healthy_iav_percentage_changes.csv')\n",
    "\n",
    "# Print the percentage changes\n",
    "print(percentage_changes_df)"
   ]
  },
  {
   "cell_type": "code",
   "execution_count": null,
   "metadata": {},
   "outputs": [],
   "source": [
    "# Calculate the percentage increase/decrease of each cell type in copd_iav relative to each other group separately\n",
    "other_groups = ['healthy_ctrl', 'healthy_iav', 'copd_ctrl']\n",
    "reference_abundances = relative_abundances.loc[other_groups].mean(axis=0)\n",
    "percentage_changes = {}\n",
    "for group in other_groups:\n",
    "    group_abundances = relative_abundances.loc[group]\n",
    "    percentage_changes[group] = ((group_abundances / reference_abundances) - 1) * 100\n",
    "\n",
    "# Print the percentage increase/decrease of each cell type in copd_iav relative to each other group separately\n",
    "for group, changes in percentage_changes.items():\n",
    "    print(f\"Copd_iav has {changes.loc[changes.index!='nan'].mean().round(2)}% more {group} cells than other groups on average\")\n",
    "    print(changes.loc[changes.index!='nan'].round(2))\n",
    "    print()"
   ]
  },
  {
   "cell_type": "markdown",
   "metadata": {},
   "source": [
    "# ANOVA TEST"
   ]
  },
  {
   "cell_type": "code",
   "execution_count": null,
   "metadata": {},
   "outputs": [],
   "source": [
    "import statsmodels as stats\n",
    "from scipy.stats import f_oneway\n",
    "from statsmodels.stats.multicomp import pairwise_tukeyhsd\n",
    "import statsmodels.api as sm\n",
    "from statsmodels.stats.multicomp import pairwise_tukeyhsd"
   ]
  },
  {
   "cell_type": "code",
   "execution_count": null,
   "metadata": {},
   "outputs": [],
   "source": [
    "adata.obs"
   ]
  },
  {
   "cell_type": "code",
   "execution_count": null,
   "metadata": {},
   "outputs": [],
   "source": [
    "# Get the cell type and condition information\n",
    "obs_df = adata.obs[['group', 'leiden_states']]"
   ]
  },
  {
   "cell_type": "code",
   "execution_count": null,
   "metadata": {},
   "outputs": [],
   "source": [
    "# Calculate the proprtions of each cell type in each condition\n",
    "cell_type_proportions = obs_df.groupby('group')['leiden_states'].value_counts(normalize=True).unstack().fillna(0)"
   ]
  },
  {
   "cell_type": "code",
   "execution_count": null,
   "metadata": {},
   "outputs": [],
   "source": [
    "# Calculate the proprtions of each cell type in each condition\n",
    "cell_type_proportions = obs_df.groupby('group')['leiden_states'].value_counts().unstack().fillna(0)"
   ]
  },
  {
   "cell_type": "code",
   "execution_count": null,
   "metadata": {},
   "outputs": [],
   "source": [
    "# Perform one-way ANOVA to test for differences in cell type proportions between conditions\n",
    "f_stats, p_value = f_oneway(*[cell_type_proportions.loc[group] for group in cell_type_proportions.index])\n",
    "print('ANOVA F-Statisic:', f_stats)\n",
    "print('ANOVA p-value:', p_value)"
   ]
  },
  {
   "cell_type": "code",
   "execution_count": null,
   "metadata": {},
   "outputs": [],
   "source": [
    "# Perform Tukey's HSD test to test for differences in cell type proportions between conditions\n",
    "cell_type_proportions_flat = cell_type_proportions.stack().reset_index()\n",
    "cell_type_proportions_flat.columns = ['group', 'leiden_states', 'proportion']\n",
    "\n",
    "tukey_results = pairwise_tukeyhsd(cell_type_proportions_flat['proportion'], cell_type_proportions_flat['group'])\n"
   ]
  },
  {
   "cell_type": "code",
   "execution_count": null,
   "metadata": {},
   "outputs": [],
   "source": [
    "# perform Tukey's HSD test for each cell type separately\n",
    "cell_types = cell_type_proportions_flat['leiden_states'].unique()"
   ]
  },
  {
   "cell_type": "code",
   "execution_count": null,
   "metadata": {},
   "outputs": [],
   "source": [
    "import statsmodels.api as sm\n",
    "from statsmodels.formula.api import ols\n",
    "from statsmodels.stats.multicomp import MultiComparison, pairwise_tukeyhsd\n"
   ]
  },
  {
   "cell_type": "code",
   "execution_count": null,
   "metadata": {},
   "outputs": [],
   "source": [
    "# perform Tukey's HSD test for each cell type separately\n",
    "cell_types = cell_type_proportions_flat['leiden_states'].unique()\n",
    "for cell_type in cell_types:\n",
    "    df = cell_type_proportions_flat[cell_type_proportions_flat['leiden_states'] == cell_type]\n",
    "    mc = MultiComparison(df['leiden_states'], df['group'])\n",
    "    result = mc.tukeyhsd()\n",
    "    print(f\"Tukey's HSD test for {cell_type}:\")\n",
    "    print(result)\n",
    "    print()"
   ]
  },
  {
   "cell_type": "code",
   "execution_count": null,
   "metadata": {},
   "outputs": [],
   "source": [
    "print(tukey_results)"
   ]
  },
  {
   "cell_type": "markdown",
   "metadata": {},
   "source": [
    "# New trial"
   ]
  },
  {
   "cell_type": "code",
   "execution_count": 30,
   "metadata": {},
   "outputs": [],
   "source": [
    "import statsmodels.api as sm\n",
    "from statsmodels.formula.api import ols\n",
    "from statsmodels.stats.multicomp import MultiComparison, pairwise_tukeyhsd\n"
   ]
  },
  {
   "cell_type": "code",
   "execution_count": 31,
   "metadata": {},
   "outputs": [],
   "source": [
    "# create a new DataFrame with the relevant data\n",
    "data = pd.DataFrame({'group': adata.obs['group'], 'cell_type': adata.obs['leiden_states']})"
   ]
  },
  {
   "cell_type": "code",
   "execution_count": 32,
   "metadata": {},
   "outputs": [],
   "source": [
    "# convert the group and cell_type columns to numerical labels\n",
    "data['group_id'] = data['group'].astype('category').cat.codes\n",
    "data['cell_type'] = data['cell_type'].astype('category')\n",
    "data['cell_type_id'] = data['cell_type'].cat.codes"
   ]
  },
  {
   "cell_type": "code",
   "execution_count": 33,
   "metadata": {},
   "outputs": [],
   "source": [
    "# perform two-way ANOVA\n",
    "formula = 'cell_type_id ~ group_id + cell_type_id + group_id:cell_type_id'\n",
    "model = ols(formula, data).fit()\n",
    "anova_table = sm.stats.anova_lm(model, typ=2)"
   ]
  },
  {
   "cell_type": "code",
   "execution_count": 34,
   "metadata": {},
   "outputs": [
    {
     "name": "stderr",
     "output_type": "stream",
     "text": [
      "/Users/anna.maguza/miniconda3/envs/stats_env/lib/python3.9/site-packages/statsmodels/sandbox/stats/multicomp.py:1300: RuntimeWarning: invalid value encountered in divide\n",
      "  st_range = np.abs(meandiffs) / std_pairs #studentized range statistic\n"
     ]
    },
    {
     "name": "stdout",
     "output_type": "stream",
     "text": [
      "Tukey's HSD test for SupraB_14:\n",
      "    Multiple Comparison of Means - Tukey HSD, FWER=0.05    \n",
      "===========================================================\n",
      "   group1       group2    meandiff p-adj lower upper reject\n",
      "-----------------------------------------------------------\n",
      "   copd_ctrl     copd_iav      0.0   nan   0.0   0.0  False\n",
      "   copd_ctrl healthy_ctrl      0.0   nan   0.0   0.0  False\n",
      "   copd_ctrl  healthy_iav      0.0   nan   0.0   0.0  False\n",
      "    copd_iav healthy_ctrl      0.0   nan   0.0   0.0  False\n",
      "    copd_iav  healthy_iav      0.0   nan   0.0   0.0  False\n",
      "healthy_ctrl  healthy_iav      0.0   nan   0.0   0.0  False\n",
      "-----------------------------------------------------------\n",
      "\n",
      "Tukey's HSD test for Club_1:\n",
      "    Multiple Comparison of Means - Tukey HSD, FWER=0.05    \n",
      "===========================================================\n",
      "   group1       group2    meandiff p-adj lower upper reject\n",
      "-----------------------------------------------------------\n",
      "   copd_ctrl     copd_iav      0.0   nan   0.0   0.0  False\n",
      "   copd_ctrl healthy_ctrl      0.0   nan   0.0   0.0  False\n",
      "   copd_ctrl  healthy_iav      0.0   nan   0.0   0.0  False\n",
      "    copd_iav healthy_ctrl      0.0   nan   0.0   0.0  False\n",
      "    copd_iav  healthy_iav      0.0   nan   0.0   0.0  False\n",
      "healthy_ctrl  healthy_iav      0.0   nan   0.0   0.0  False\n",
      "-----------------------------------------------------------\n",
      "\n",
      "Tukey's HSD test for MultiC_18:\n",
      "    Multiple Comparison of Means - Tukey HSD, FWER=0.05    \n",
      "===========================================================\n",
      "   group1       group2    meandiff p-adj lower upper reject\n",
      "-----------------------------------------------------------\n",
      "   copd_ctrl     copd_iav      0.0   nan   0.0   0.0  False\n",
      "   copd_ctrl healthy_ctrl      0.0   nan   0.0   0.0  False\n",
      "   copd_ctrl  healthy_iav      0.0   nan   0.0   0.0  False\n",
      "    copd_iav healthy_ctrl      0.0   nan   0.0   0.0  False\n",
      "    copd_iav  healthy_iav      0.0   nan   0.0   0.0  False\n",
      "healthy_ctrl  healthy_iav      0.0   nan   0.0   0.0  False\n",
      "-----------------------------------------------------------\n",
      "\n",
      "Tukey's HSD test for Club_10:\n",
      "    Multiple Comparison of Means - Tukey HSD, FWER=0.05    \n",
      "===========================================================\n",
      "   group1       group2    meandiff p-adj lower upper reject\n",
      "-----------------------------------------------------------\n",
      "   copd_ctrl     copd_iav      0.0   nan   0.0   0.0  False\n",
      "   copd_ctrl healthy_ctrl      0.0   nan   0.0   0.0  False\n",
      "   copd_ctrl  healthy_iav      0.0   nan   0.0   0.0  False\n",
      "    copd_iav healthy_ctrl      0.0   nan   0.0   0.0  False\n",
      "    copd_iav  healthy_iav      0.0   nan   0.0   0.0  False\n",
      "healthy_ctrl  healthy_iav      0.0   nan   0.0   0.0  False\n",
      "-----------------------------------------------------------\n",
      "\n",
      "Tukey's HSD test for SupraB_5:\n",
      "    Multiple Comparison of Means - Tukey HSD, FWER=0.05    \n",
      "===========================================================\n",
      "   group1       group2    meandiff p-adj lower upper reject\n",
      "-----------------------------------------------------------\n",
      "   copd_ctrl     copd_iav      0.0   nan   0.0   0.0  False\n",
      "   copd_ctrl healthy_ctrl      0.0   nan   0.0   0.0  False\n",
      "   copd_ctrl  healthy_iav      0.0   nan   0.0   0.0  False\n",
      "    copd_iav healthy_ctrl      0.0   nan   0.0   0.0  False\n",
      "    copd_iav  healthy_iav      0.0   nan   0.0   0.0  False\n",
      "healthy_ctrl  healthy_iav      0.0   nan   0.0   0.0  False\n",
      "-----------------------------------------------------------\n",
      "\n",
      "Tukey's HSD test for Goblet_3:\n",
      "    Multiple Comparison of Means - Tukey HSD, FWER=0.05    \n",
      "===========================================================\n",
      "   group1       group2    meandiff p-adj lower upper reject\n",
      "-----------------------------------------------------------\n",
      "   copd_ctrl     copd_iav      0.0   nan   0.0   0.0  False\n",
      "   copd_ctrl healthy_ctrl      0.0   nan   0.0   0.0  False\n",
      "   copd_ctrl  healthy_iav      0.0   nan   0.0   0.0  False\n",
      "    copd_iav healthy_ctrl      0.0   nan   0.0   0.0  False\n",
      "    copd_iav  healthy_iav      0.0   nan   0.0   0.0  False\n",
      "healthy_ctrl  healthy_iav      0.0   nan   0.0   0.0  False\n",
      "-----------------------------------------------------------\n",
      "\n",
      "Tukey's HSD test for Club_20:\n",
      "    Multiple Comparison of Means - Tukey HSD, FWER=0.05    \n",
      "===========================================================\n",
      "   group1       group2    meandiff p-adj lower upper reject\n",
      "-----------------------------------------------------------\n",
      "   copd_ctrl     copd_iav      0.0   nan   0.0   0.0  False\n",
      "   copd_ctrl healthy_ctrl      0.0   nan   0.0   0.0  False\n",
      "   copd_ctrl  healthy_iav      0.0   nan   0.0   0.0  False\n",
      "    copd_iav healthy_ctrl      0.0   nan   0.0   0.0  False\n",
      "    copd_iav  healthy_iav      0.0   nan   0.0   0.0  False\n",
      "healthy_ctrl  healthy_iav      0.0   nan   0.0   0.0  False\n",
      "-----------------------------------------------------------\n",
      "\n",
      "Tukey's HSD test for Goblet_4:\n",
      "    Multiple Comparison of Means - Tukey HSD, FWER=0.05    \n",
      "===========================================================\n",
      "   group1       group2    meandiff p-adj lower upper reject\n",
      "-----------------------------------------------------------\n",
      "   copd_ctrl     copd_iav      0.0   nan   0.0   0.0  False\n",
      "   copd_ctrl healthy_ctrl      0.0   nan   0.0   0.0  False\n",
      "   copd_ctrl  healthy_iav      0.0   nan   0.0   0.0  False\n",
      "    copd_iav healthy_ctrl      0.0   nan   0.0   0.0  False\n",
      "    copd_iav  healthy_iav      0.0   nan   0.0   0.0  False\n",
      "healthy_ctrl  healthy_iav      0.0   nan   0.0   0.0  False\n",
      "-----------------------------------------------------------\n",
      "\n",
      "Tukey's HSD test for Basal_16:\n",
      "    Multiple Comparison of Means - Tukey HSD, FWER=0.05    \n",
      "===========================================================\n",
      "   group1       group2    meandiff p-adj lower upper reject\n",
      "-----------------------------------------------------------\n",
      "   copd_ctrl     copd_iav      0.0   nan   0.0   0.0  False\n",
      "   copd_ctrl healthy_ctrl      0.0   nan   0.0   0.0  False\n",
      "   copd_ctrl  healthy_iav      0.0   nan   0.0   0.0  False\n",
      "    copd_iav healthy_ctrl      0.0   nan   0.0   0.0  False\n",
      "    copd_iav  healthy_iav      0.0   nan   0.0   0.0  False\n",
      "healthy_ctrl  healthy_iav      0.0   nan   0.0   0.0  False\n",
      "-----------------------------------------------------------\n",
      "\n",
      "Tukey's HSD test for Goblet_13:\n",
      "    Multiple Comparison of Means - Tukey HSD, FWER=0.05    \n",
      "===========================================================\n",
      "   group1       group2    meandiff p-adj lower upper reject\n",
      "-----------------------------------------------------------\n",
      "   copd_ctrl     copd_iav      0.0   nan   0.0   0.0  False\n",
      "   copd_ctrl healthy_ctrl      0.0   nan   0.0   0.0  False\n",
      "   copd_ctrl  healthy_iav      0.0   nan   0.0   0.0  False\n",
      "    copd_iav healthy_ctrl      0.0   nan   0.0   0.0  False\n",
      "    copd_iav  healthy_iav      0.0   nan   0.0   0.0  False\n",
      "healthy_ctrl  healthy_iav      0.0   nan   0.0   0.0  False\n",
      "-----------------------------------------------------------\n",
      "\n",
      "Tukey's HSD test for SupraB_7:\n",
      "    Multiple Comparison of Means - Tukey HSD, FWER=0.05    \n",
      "===========================================================\n",
      "   group1       group2    meandiff p-adj lower upper reject\n",
      "-----------------------------------------------------------\n",
      "   copd_ctrl     copd_iav      0.0   nan   0.0   0.0  False\n",
      "   copd_ctrl healthy_ctrl      0.0   nan   0.0   0.0  False\n",
      "   copd_ctrl  healthy_iav      0.0   nan   0.0   0.0  False\n",
      "    copd_iav healthy_ctrl      0.0   nan   0.0   0.0  False\n",
      "    copd_iav  healthy_iav      0.0   nan   0.0   0.0  False\n",
      "healthy_ctrl  healthy_iav      0.0   nan   0.0   0.0  False\n",
      "-----------------------------------------------------------\n",
      "\n",
      "Tukey's HSD test for Club_9:\n",
      "    Multiple Comparison of Means - Tukey HSD, FWER=0.05    \n",
      "===========================================================\n",
      "   group1       group2    meandiff p-adj lower upper reject\n",
      "-----------------------------------------------------------\n",
      "   copd_ctrl     copd_iav      0.0   nan   0.0   0.0  False\n",
      "   copd_ctrl healthy_ctrl      0.0   nan   0.0   0.0  False\n",
      "   copd_ctrl  healthy_iav      0.0   nan   0.0   0.0  False\n",
      "    copd_iav healthy_ctrl      0.0   nan   0.0   0.0  False\n",
      "    copd_iav  healthy_iav      0.0   nan   0.0   0.0  False\n",
      "healthy_ctrl  healthy_iav      0.0   nan   0.0   0.0  False\n",
      "-----------------------------------------------------------\n",
      "\n",
      "Tukey's HSD test for Goblet_8:\n",
      "    Multiple Comparison of Means - Tukey HSD, FWER=0.05    \n",
      "===========================================================\n",
      "   group1       group2    meandiff p-adj lower upper reject\n",
      "-----------------------------------------------------------\n",
      "   copd_ctrl     copd_iav      0.0   nan   0.0   0.0  False\n",
      "   copd_ctrl healthy_ctrl      0.0   nan   0.0   0.0  False\n",
      "   copd_ctrl  healthy_iav      0.0   nan   0.0   0.0  False\n",
      "    copd_iav healthy_ctrl      0.0   nan   0.0   0.0  False\n",
      "    copd_iav  healthy_iav      0.0   nan   0.0   0.0  False\n",
      "healthy_ctrl  healthy_iav      0.0   nan   0.0   0.0  False\n",
      "-----------------------------------------------------------\n",
      "\n",
      "Tukey's HSD test for SupraB_0:\n",
      "    Multiple Comparison of Means - Tukey HSD, FWER=0.05    \n",
      "===========================================================\n",
      "   group1       group2    meandiff p-adj lower upper reject\n",
      "-----------------------------------------------------------\n",
      "   copd_ctrl     copd_iav      0.0   nan   0.0   0.0  False\n",
      "   copd_ctrl healthy_ctrl      0.0   nan   0.0   0.0  False\n",
      "   copd_ctrl  healthy_iav      0.0   nan   0.0   0.0  False\n",
      "    copd_iav healthy_ctrl      0.0   nan   0.0   0.0  False\n",
      "    copd_iav  healthy_iav      0.0   nan   0.0   0.0  False\n",
      "healthy_ctrl  healthy_iav      0.0   nan   0.0   0.0  False\n",
      "-----------------------------------------------------------\n",
      "\n",
      "Tukey's HSD test for Basal_2:\n",
      "    Multiple Comparison of Means - Tukey HSD, FWER=0.05    \n",
      "===========================================================\n",
      "   group1       group2    meandiff p-adj lower upper reject\n",
      "-----------------------------------------------------------\n",
      "   copd_ctrl     copd_iav      0.0   nan   0.0   0.0  False\n",
      "   copd_ctrl healthy_ctrl      0.0   nan   0.0   0.0  False\n",
      "   copd_ctrl  healthy_iav      0.0   nan   0.0   0.0  False\n",
      "    copd_iav healthy_ctrl      0.0   nan   0.0   0.0  False\n",
      "    copd_iav  healthy_iav      0.0   nan   0.0   0.0  False\n",
      "healthy_ctrl  healthy_iav      0.0   nan   0.0   0.0  False\n",
      "-----------------------------------------------------------\n",
      "\n",
      "Tukey's HSD test for Goblet_12:\n",
      "    Multiple Comparison of Means - Tukey HSD, FWER=0.05    \n",
      "===========================================================\n",
      "   group1       group2    meandiff p-adj lower upper reject\n",
      "-----------------------------------------------------------\n",
      "   copd_ctrl     copd_iav      0.0   nan   0.0   0.0  False\n",
      "   copd_ctrl healthy_ctrl      0.0   nan   0.0   0.0  False\n",
      "   copd_ctrl  healthy_iav      0.0   nan   0.0   0.0  False\n",
      "    copd_iav healthy_ctrl      0.0   nan   0.0   0.0  False\n",
      "    copd_iav  healthy_iav      0.0   nan   0.0   0.0  False\n",
      "healthy_ctrl  healthy_iav      0.0   nan   0.0   0.0  False\n",
      "-----------------------------------------------------------\n",
      "\n",
      "Tukey's HSD test for Club_23:\n",
      "    Multiple Comparison of Means - Tukey HSD, FWER=0.05    \n",
      "===========================================================\n",
      "   group1       group2    meandiff p-adj lower upper reject\n",
      "-----------------------------------------------------------\n",
      "   copd_ctrl     copd_iav      0.0   nan   0.0   0.0  False\n",
      "   copd_ctrl healthy_ctrl      0.0   nan   0.0   0.0  False\n",
      "   copd_ctrl  healthy_iav      0.0   nan   0.0   0.0  False\n",
      "    copd_iav healthy_ctrl      0.0   nan   0.0   0.0  False\n",
      "    copd_iav  healthy_iav      0.0   nan   0.0   0.0  False\n",
      "healthy_ctrl  healthy_iav      0.0   nan   0.0   0.0  False\n",
      "-----------------------------------------------------------\n",
      "\n",
      "Tukey's HSD test for MultiC_19:\n",
      "    Multiple Comparison of Means - Tukey HSD, FWER=0.05    \n",
      "===========================================================\n",
      "   group1       group2    meandiff p-adj lower upper reject\n",
      "-----------------------------------------------------------\n",
      "   copd_ctrl     copd_iav      0.0   nan   0.0   0.0  False\n",
      "   copd_ctrl healthy_ctrl      0.0   nan   0.0   0.0  False\n",
      "   copd_ctrl  healthy_iav      0.0   nan   0.0   0.0  False\n",
      "    copd_iav healthy_ctrl      0.0   nan   0.0   0.0  False\n",
      "    copd_iav  healthy_iav      0.0   nan   0.0   0.0  False\n",
      "healthy_ctrl  healthy_iav      0.0   nan   0.0   0.0  False\n",
      "-----------------------------------------------------------\n",
      "\n",
      "Tukey's HSD test for MultiC_17:\n",
      "    Multiple Comparison of Means - Tukey HSD, FWER=0.05    \n",
      "===========================================================\n",
      "   group1       group2    meandiff p-adj lower upper reject\n",
      "-----------------------------------------------------------\n",
      "   copd_ctrl     copd_iav      0.0   nan   0.0   0.0  False\n",
      "   copd_ctrl healthy_ctrl      0.0   nan   0.0   0.0  False\n",
      "   copd_ctrl  healthy_iav      0.0   nan   0.0   0.0  False\n",
      "    copd_iav healthy_ctrl      0.0   nan   0.0   0.0  False\n",
      "    copd_iav  healthy_iav      0.0   nan   0.0   0.0  False\n",
      "healthy_ctrl  healthy_iav      0.0   nan   0.0   0.0  False\n",
      "-----------------------------------------------------------\n",
      "\n",
      "Tukey's HSD test for SupraB_6:\n",
      "    Multiple Comparison of Means - Tukey HSD, FWER=0.05    \n",
      "===========================================================\n",
      "   group1       group2    meandiff p-adj lower upper reject\n",
      "-----------------------------------------------------------\n",
      "   copd_ctrl     copd_iav      0.0   nan   0.0   0.0  False\n",
      "   copd_ctrl healthy_ctrl      0.0   nan   0.0   0.0  False\n",
      "   copd_ctrl  healthy_iav      0.0   nan   0.0   0.0  False\n",
      "    copd_iav healthy_ctrl      0.0   nan   0.0   0.0  False\n",
      "    copd_iav  healthy_iav      0.0   nan   0.0   0.0  False\n",
      "healthy_ctrl  healthy_iav      0.0   nan   0.0   0.0  False\n",
      "-----------------------------------------------------------\n",
      "\n",
      "Tukey's HSD test for Goblet_11:\n",
      "    Multiple Comparison of Means - Tukey HSD, FWER=0.05    \n",
      "===========================================================\n",
      "   group1       group2    meandiff p-adj lower upper reject\n",
      "-----------------------------------------------------------\n",
      "   copd_ctrl     copd_iav      0.0   nan   0.0   0.0  False\n",
      "   copd_ctrl healthy_ctrl      0.0   nan   0.0   0.0  False\n",
      "   copd_ctrl  healthy_iav      0.0   nan   0.0   0.0  False\n",
      "    copd_iav healthy_ctrl      0.0   nan   0.0   0.0  False\n",
      "    copd_iav  healthy_iav      0.0   nan   0.0   0.0  False\n",
      "healthy_ctrl  healthy_iav      0.0   nan   0.0   0.0  False\n",
      "-----------------------------------------------------------\n",
      "\n",
      "Tukey's HSD test for SupraB_15:\n",
      "    Multiple Comparison of Means - Tukey HSD, FWER=0.05    \n",
      "===========================================================\n",
      "   group1       group2    meandiff p-adj lower upper reject\n",
      "-----------------------------------------------------------\n",
      "   copd_ctrl     copd_iav      0.0   nan   0.0   0.0  False\n",
      "   copd_ctrl healthy_ctrl      0.0   nan   0.0   0.0  False\n",
      "   copd_ctrl  healthy_iav      0.0   nan   0.0   0.0  False\n",
      "    copd_iav healthy_ctrl      0.0   nan   0.0   0.0  False\n",
      "    copd_iav  healthy_iav      0.0   nan   0.0   0.0  False\n",
      "healthy_ctrl  healthy_iav      0.0   nan   0.0   0.0  False\n",
      "-----------------------------------------------------------\n",
      "\n",
      "Tukey's HSD test for Goblet_21:\n",
      "    Multiple Comparison of Means - Tukey HSD, FWER=0.05    \n",
      "===========================================================\n",
      "   group1       group2    meandiff p-adj lower upper reject\n",
      "-----------------------------------------------------------\n",
      "   copd_ctrl     copd_iav      0.0   nan   0.0   0.0  False\n",
      "   copd_ctrl healthy_ctrl      0.0   nan   0.0   0.0  False\n",
      "   copd_ctrl  healthy_iav      0.0   nan   0.0   0.0  False\n",
      "    copd_iav healthy_ctrl      0.0   nan   0.0   0.0  False\n",
      "    copd_iav  healthy_iav      0.0   nan   0.0   0.0  False\n",
      "healthy_ctrl  healthy_iav      0.0   nan   0.0   0.0  False\n",
      "-----------------------------------------------------------\n",
      "\n",
      "Tukey's HSD test for Basal_22:\n",
      "    Multiple Comparison of Means - Tukey HSD, FWER=0.05    \n",
      "===========================================================\n",
      "   group1       group2    meandiff p-adj lower upper reject\n",
      "-----------------------------------------------------------\n",
      "   copd_ctrl     copd_iav      0.0   nan   0.0   0.0  False\n",
      "   copd_ctrl healthy_ctrl      0.0   nan   0.0   0.0  False\n",
      "   copd_ctrl  healthy_iav      0.0   nan   0.0   0.0  False\n",
      "    copd_iav healthy_ctrl      0.0   nan   0.0   0.0  False\n",
      "    copd_iav  healthy_iav      0.0   nan   0.0   0.0  False\n",
      "healthy_ctrl  healthy_iav      0.0   nan   0.0   0.0  False\n",
      "-----------------------------------------------------------\n",
      "\n"
     ]
    }
   ],
   "source": [
    "# perform Tukey's HSD test for each cell type separately\n",
    "cell_types = data['cell_type'].unique()\n",
    "for cell_type in cell_types:\n",
    "    df = data[data['cell_type'] == cell_type]\n",
    "    mc = MultiComparison(df['cell_type_id'], df['group'])\n",
    "    result = mc.tukeyhsd()\n",
    "    print(f\"Tukey's HSD test for {cell_type}:\")\n",
    "    print(result)\n",
    "    print()"
   ]
  },
  {
   "cell_type": "markdown",
   "metadata": {},
   "source": [
    "# Trial 3"
   ]
  },
  {
   "cell_type": "code",
   "execution_count": null,
   "metadata": {},
   "outputs": [],
   "source": [
    "# Get the cell type and condition information\n",
    "obs_df = adata.obs[['group', 'leiden_states']]\n",
    "\n",
    "# Calculate the proprtions of each cell type in each condition\n",
    "cell_types_number = obs_df.groupby('group')['leiden_states'].value_counts().unstack().fillna(0)\n",
    "\n",
    "# Perform Tukey's HSD test to test for differences in cell type numbers between conditions\n",
    "cell_types_number_flat = cell_types_number.stack().reset_index()\n",
    "cell_types_number_flat.columns = ['index', 'leiden_states', 'value']"
   ]
  }
 ],
 "metadata": {
  "kernelspec": {
   "display_name": "Python 3.9.16 ('stats_env')",
   "language": "python",
   "name": "python3"
  },
  "language_info": {
   "codemirror_mode": {
    "name": "ipython",
    "version": 3
   },
   "file_extension": ".py",
   "mimetype": "text/x-python",
   "name": "python",
   "nbconvert_exporter": "python",
   "pygments_lexer": "ipython3",
   "version": "3.9.16"
  },
  "orig_nbformat": 4,
  "vscode": {
   "interpreter": {
    "hash": "1b007543425fbd789558df8d25e046a6708c150814cbb6ba942aef0e52552a4b"
   }
  }
 },
 "nbformat": 4,
 "nbformat_minor": 2
}
