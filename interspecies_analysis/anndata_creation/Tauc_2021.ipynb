{
 "cells": [
  {
   "attachments": {},
   "cell_type": "markdown",
   "metadata": {},
   "source": [
    "## Notebook for Tauc 2021 (Drosophila) anndata file creation \n",
    "### Developed by: Anna Maguza\n",
    "\n",
    "### Institute of Computational Biology - Computational Health Centre - Hemlholtz Munich\n",
    "\n",
    "### 2nd April 2023"
   ]
  },
  {
   "cell_type": "markdown",
   "metadata": {},
   "source": [
    "#### Load packages"
   ]
  },
  {
   "cell_type": "code",
   "execution_count": 3,
   "metadata": {},
   "outputs": [],
   "source": [
    "import numpy as np\n",
    "import pandas as pd\n",
    "import scanpy as sc\n",
    "import anndata as an\n",
    "import h5py\n",
    "from scipy.io import mmread\n",
    "from scipy.sparse import coo_matrix\n",
    "import matplotlib.pyplot as plt\n",
    "import scipy as sci"
   ]
  },
  {
   "cell_type": "markdown",
   "metadata": {},
   "source": [
    "#### Setup Cells"
   ]
  },
  {
   "cell_type": "code",
   "execution_count": 5,
   "metadata": {},
   "outputs": [],
   "source": [
    "%matplotlib inline"
   ]
  },
  {
   "cell_type": "code",
   "execution_count": 4,
   "metadata": {},
   "outputs": [
    {
     "name": "stderr",
     "output_type": "stream",
     "text": [
      "/Users/anna.maguza/miniconda3/envs/scanpy_env/lib/python3.9/site-packages/tqdm/auto.py:21: TqdmWarning: IProgress not found. Please update jupyter and ipywidgets. See https://ipywidgets.readthedocs.io/en/stable/user_install.html\n",
      "  from .autonotebook import tqdm as notebook_tqdm\n"
     ]
    },
    {
     "name": "stdout",
     "output_type": "stream",
     "text": [
      "scanpy==1.9.3 anndata==0.8.0 umap==0.5.3 numpy==1.23.5 scipy==1.10.1 pandas==1.3.5 scikit-learn==1.2.2 statsmodels==0.13.5 pynndescent==0.5.8\n"
     ]
    }
   ],
   "source": [
    "sc.settings.verbosity = 3             # verbosity: errors (0), warnings (1), info (2), hints (3)\n",
    "sc.logging.print_header()\n",
    "sc.settings.set_figure_params(dpi=80, facecolor='white')"
   ]
  },
  {
   "attachments": {},
   "cell_type": "markdown",
   "metadata": {},
   "source": [
    "# GSE157775"
   ]
  },
  {
   "attachments": {},
   "cell_type": "markdown",
   "metadata": {},
   "source": [
    "## Data Upload"
   ]
  },
  {
   "cell_type": "code",
   "execution_count": 13,
   "metadata": {},
   "outputs": [],
   "source": [
    "# Upload barcodes, features, cells annotations and gene expression matrix\n",
    "barcodes = pd.read_csv('/Users/anna.maguza/Desktop/Data/Gut_project/Interspecies_analysis/Drosophila/Tauc_2021/GSE157775/GSE157775_barcodes.tsv', sep='\\t', header=None)\n",
    "cell_annotations = pd.read_csv('/Users/anna.maguza/Desktop/Data/Gut_project/Interspecies_analysis/Drosophila/Tauc_2021/GSE157775/GSE157775_cell_annotation.csv', header=None)\n",
    "features = pd.read_csv('/Users/anna.maguza/Desktop/Data/Gut_project/Interspecies_analysis/Drosophila/Tauc_2021/GSE157775/GSE157775_features.tsv', sep='\\t', header=None)\n",
    "#matrix = mmread('/Users/anna.maguza/Desktop/Data/Gut_project/Interspecies_analysis/Drosophila/Tauc_2021/GSE157775/GSE157775_matrix.mtx').T.tocoo()"
   ]
  },
  {
   "cell_type": "code",
   "execution_count": 14,
   "metadata": {},
   "outputs": [],
   "source": [
    "# Make column 0 as index in barcodes and rename it to 'cell_id'\n",
    "barcodes = barcodes.set_index(0)\n",
    "barcodes.index.name = 'cell_id'\n",
    "\n",
    "# Make column 0 as index in features and rename it to 'gene_id'\n",
    "features = features.set_index(0)\n",
    "features.index.name = 'FlyBase_ID'\n",
    "#rename column 1 to 'gene_name'\n",
    "features = features.rename(columns={1: 'gene_name'})\n",
    "features = features.rename(columns={2: 'gene_type'})\n"
   ]
  },
  {
   "cell_type": "code",
   "execution_count": 15,
   "metadata": {},
   "outputs": [],
   "source": [
    "#Make the first row as column names\n",
    "cell_annotations.columns = cell_annotations.iloc[0]\n",
    "cell_annotations = cell_annotations.drop(cell_annotations.index[0])\n",
    "# Make column 0 as index in cell_annotations and rename it to 'cell_id'\n",
    "cell_annotations = cell_annotations.set_index('cellID')"
   ]
  },
  {
   "cell_type": "code",
   "execution_count": 16,
   "metadata": {},
   "outputs": [
    {
     "name": "stderr",
     "output_type": "stream",
     "text": [
      "/var/folders/gb/wwnzrh015q9dns5cmsc3xcjsxglkqz/T/ipykernel_47279/2867533586.py:2: FutureWarning: X.dtype being converted to np.float32 from int64. In the next version of anndata (0.9) conversion will not be automatic. Pass dtype explicitly to avoid this warning. Pass `AnnData(X, dtype=X.dtype, ...)` to get the future behavour.\n",
      "  adata = an.AnnData(X=matrix, obs=barcodes, var=features)\n"
     ]
    }
   ],
   "source": [
    "#Create anndata object\n",
    "adata = an.AnnData(X=matrix, obs=barcodes, var=features)"
   ]
  },
  {
   "cell_type": "code",
   "execution_count": 19,
   "metadata": {},
   "outputs": [
    {
     "data": {
      "text/html": [
       "<div>\n",
       "<style scoped>\n",
       "    .dataframe tbody tr th:only-of-type {\n",
       "        vertical-align: middle;\n",
       "    }\n",
       "\n",
       "    .dataframe tbody tr th {\n",
       "        vertical-align: top;\n",
       "    }\n",
       "\n",
       "    .dataframe thead th {\n",
       "        text-align: right;\n",
       "    }\n",
       "</style>\n",
       "<table border=\"1\" class=\"dataframe\">\n",
       "  <thead>\n",
       "    <tr style=\"text-align: right;\">\n",
       "      <th></th>\n",
       "    </tr>\n",
       "    <tr>\n",
       "      <th>cell_id</th>\n",
       "    </tr>\n",
       "  </thead>\n",
       "  <tbody>\n",
       "    <tr>\n",
       "      <th>AAACCTGAGAAACCAT-1</th>\n",
       "    </tr>\n",
       "    <tr>\n",
       "      <th>AAACCTGAGAAACCGC-1</th>\n",
       "    </tr>\n",
       "    <tr>\n",
       "      <th>AAACCTGAGAAACCTA-1</th>\n",
       "    </tr>\n",
       "    <tr>\n",
       "      <th>AAACCTGAGAAACGAG-1</th>\n",
       "    </tr>\n",
       "    <tr>\n",
       "      <th>AAACCTGAGAAACGCC-1</th>\n",
       "    </tr>\n",
       "    <tr>\n",
       "      <th>...</th>\n",
       "    </tr>\n",
       "    <tr>\n",
       "      <th>TTTGTCATCTTTACAC-5</th>\n",
       "    </tr>\n",
       "    <tr>\n",
       "      <th>TTTGTCATCTTTACGT-5</th>\n",
       "    </tr>\n",
       "    <tr>\n",
       "      <th>TTTGTCATCTTTAGGG-5</th>\n",
       "    </tr>\n",
       "    <tr>\n",
       "      <th>TTTGTCATCTTTAGTC-5</th>\n",
       "    </tr>\n",
       "    <tr>\n",
       "      <th>TTTGTCATCTTTCCTC-5</th>\n",
       "    </tr>\n",
       "  </tbody>\n",
       "</table>\n",
       "<p>3686400 rows × 0 columns</p>\n",
       "</div>"
      ],
      "text/plain": [
       "Empty DataFrame\n",
       "Columns: []\n",
       "Index: [AAACCTGAGAAACCAT-1, AAACCTGAGAAACCGC-1, AAACCTGAGAAACCTA-1, AAACCTGAGAAACGAG-1, AAACCTGAGAAACGCC-1, AAACCTGAGAAAGTGG-1, AAACCTGAGAACAACT-1, AAACCTGAGAACAATC-1, AAACCTGAGAACTCGG-1, AAACCTGAGAACTGTA-1, AAACCTGAGAAGAAGC-1, AAACCTGAGAAGATTC-1, AAACCTGAGAAGCCCA-1, AAACCTGAGAAGGACA-1, AAACCTGAGAAGGCCT-1, AAACCTGAGAAGGGTA-1, AAACCTGAGAAGGTGA-1, AAACCTGAGAAGGTTT-1, AAACCTGAGAATAGGG-1, AAACCTGAGAATCTCC-1, AAACCTGAGAATGTGT-1, AAACCTGAGAATGTTG-1, AAACCTGAGAATTCCC-1, AAACCTGAGAATTGTG-1, AAACCTGAGACAAAGG-1, AAACCTGAGACAAGCC-1, AAACCTGAGACAATAC-1, AAACCTGAGACACGAC-1, AAACCTGAGACACTAA-1, AAACCTGAGACAGACC-1, AAACCTGAGACAGAGA-1, AAACCTGAGACAGGCT-1, AAACCTGAGACATAAC-1, AAACCTGAGACCACGA-1, AAACCTGAGACCCACC-1, AAACCTGAGACCGGAT-1, AAACCTGAGACCTAGG-1, AAACCTGAGACCTTTG-1, AAACCTGAGACGACGT-1, AAACCTGAGACGCAAC-1, AAACCTGAGACGCACA-1, AAACCTGAGACGCTTT-1, AAACCTGAGACTAAGT-1, AAACCTGAGACTACAA-1, AAACCTGAGACTAGAT-1, AAACCTGAGACTAGGC-1, AAACCTGAGACTCGGA-1, AAACCTGAGACTGGGT-1, AAACCTGAGACTGTAA-1, AAACCTGAGACTTGAA-1, AAACCTGAGACTTTCG-1, AAACCTGAGAGAACAG-1, AAACCTGAGAGACGAA-1, AAACCTGAGAGACTAT-1, AAACCTGAGAGACTTA-1, AAACCTGAGAGAGCTC-1, AAACCTGAGAGATGAG-1, AAACCTGAGAGCAATT-1, AAACCTGAGAGCCCAA-1, AAACCTGAGAGCCTAG-1, AAACCTGAGAGCTATA-1, AAACCTGAGAGCTGCA-1, AAACCTGAGAGCTGGT-1, AAACCTGAGAGCTTCT-1, AAACCTGAGAGGACGG-1, AAACCTGAGAGGGATA-1, AAACCTGAGAGGGCTT-1, AAACCTGAGAGGTACC-1, AAACCTGAGAGGTAGA-1, AAACCTGAGAGGTTAT-1, AAACCTGAGAGGTTGC-1, AAACCTGAGAGTAAGG-1, AAACCTGAGAGTAATC-1, AAACCTGAGAGTACAT-1, AAACCTGAGAGTACCG-1, AAACCTGAGAGTCGGT-1, AAACCTGAGAGTCTGG-1, AAACCTGAGAGTGACC-1, AAACCTGAGAGTGAGA-1, AAACCTGAGAGTTGGC-1, AAACCTGAGATACACA-1, AAACCTGAGATAGCAT-1, AAACCTGAGATAGGAG-1, AAACCTGAGATAGTCA-1, AAACCTGAGATATACG-1, AAACCTGAGATATGCA-1, AAACCTGAGATATGGT-1, AAACCTGAGATCACGG-1, AAACCTGAGATCCCAT-1, AAACCTGAGATCCCGC-1, AAACCTGAGATCCGAG-1, AAACCTGAGATCCTGT-1, AAACCTGAGATCGATA-1, AAACCTGAGATCGGGT-1, AAACCTGAGATCTGAA-1, AAACCTGAGATCTGCT-1, AAACCTGAGATGAGAG-1, AAACCTGAGATGCCAG-1, AAACCTGAGATGCCTT-1, AAACCTGAGATGCGAC-1, ...]\n",
       "\n",
       "[3686400 rows x 0 columns]"
      ]
     },
     "execution_count": 19,
     "metadata": {},
     "output_type": "execute_result"
    }
   ],
   "source": [
    "adata.obs"
   ]
  },
  {
   "cell_type": "code",
   "execution_count": null,
   "metadata": {},
   "outputs": [],
   "source": []
  }
 ],
 "metadata": {
  "kernelspec": {
   "display_name": "scanpy_env",
   "language": "python",
   "name": "python3"
  },
  "language_info": {
   "codemirror_mode": {
    "name": "ipython",
    "version": 3
   },
   "file_extension": ".py",
   "mimetype": "text/x-python",
   "name": "python",
   "nbconvert_exporter": "python",
   "pygments_lexer": "ipython3",
   "version": "3.9.16"
  },
  "orig_nbformat": 4
 },
 "nbformat": 4,
 "nbformat_minor": 2
}
