{
 "cells": [
  {
   "cell_type": "code",
   "execution_count": 1,
   "metadata": {},
   "outputs": [],
   "source": [
    "# 0. Import\n",
    "\n",
    "import os\n",
    "import sys\n",
    "\n",
    "import matplotlib.pyplot as plt\n",
    "import numpy as np\n",
    "import pandas as pd\n",
    "import scanpy as sc\n",
    "import seaborn as sns"
   ]
  },
  {
   "cell_type": "code",
   "execution_count": 2,
   "metadata": {},
   "outputs": [
    {
     "ename": "ImportError",
     "evalue": "dlopen(/Users/anna.maguza/miniconda3/envs/celloracle_2/lib/python3.8/site-packages/velocyto/speedboosted.cpython-38-darwin.so, 0x0002): Library not loaded: '@rpath/libomp.dylib'\n  Referenced from: '/Users/anna.maguza/miniconda3/envs/celloracle_2/lib/python3.8/site-packages/velocyto/speedboosted.cpython-38-darwin.so'\n  Reason: tried: '/Users/anna.maguza/miniconda3/envs/celloracle_2/lib/python3.8/site-packages/velocyto/libomp.dylib' (no such file), '/opt/homebrew/Cellar/gcc/12.2.0/lib/gcc/current/gcc/aarch64-apple-darwin21/12/libomp.dylib' (no such file), '/opt/homebrew/Cellar/gcc/12.2.0/lib/gcc/current/gcc/libomp.dylib' (no such file), '/opt/homebrew/Cellar/gcc/12.2.0/lib/gcc/current/libomp.dylib' (no such file), '/Users/anna.maguza/miniconda3/envs/celloracle_2/lib/python3.8/site-packages/velocyto/libomp.dylib' (no such file), '/opt/homebrew/Cellar/gcc/12.2.0/lib/gcc/current/gcc/aarch64-apple-darwin21/12/libomp.dylib' (no such file), '/opt/homebrew/Cellar/gcc/12.2.0/lib/gcc/current/gcc/libomp.dylib' (no such file), '/opt/homebrew/Cellar/gcc/12.2.0/lib/gcc/current/libomp.dylib' (no such file), '/Users/anna.maguza/miniconda3/envs/celloracle_2/bin/../lib/libomp.dylib' (no such file), '/Users/anna.maguza/miniconda3/envs/celloracle_2/bin/../lib/libomp.dylib' (no such file), '/usr/local/lib/libomp.dylib' (no such file), '/usr/lib/libomp.dylib' (no such file)",
     "output_type": "error",
     "traceback": [
      "\u001b[0;31m---------------------------------------------------------------------------\u001b[0m",
      "\u001b[0;31mImportError\u001b[0m                               Traceback (most recent call last)",
      "Cell \u001b[0;32mIn[2], line 1\u001b[0m\n\u001b[0;32m----> 1\u001b[0m \u001b[39mimport\u001b[39;00m \u001b[39mcelloracle\u001b[39;00m \u001b[39mas\u001b[39;00m \u001b[39mco\u001b[39;00m\n",
      "File \u001b[0;32m~/miniconda3/envs/celloracle_2/lib/python3.8/site-packages/celloracle/__init__.py:8\u001b[0m\n\u001b[1;32m      5\u001b[0m \u001b[39mimport\u001b[39;00m \u001b[39mwarnings\u001b[39;00m\n\u001b[1;32m      6\u001b[0m \u001b[39mimport\u001b[39;00m \u001b[39mlogging\u001b[39;00m\n\u001b[0;32m----> 8\u001b[0m \u001b[39mfrom\u001b[39;00m \u001b[39m.\u001b[39;00m \u001b[39mimport\u001b[39;00m utility, network, network_analysis, go_analysis, data, data_conversion, oracle_utility\n\u001b[1;32m      9\u001b[0m \u001b[39mfrom\u001b[39;00m \u001b[39m.\u001b[39;00m\u001b[39mtrajectory\u001b[39;00m\u001b[39m.\u001b[39;00m\u001b[39moracle_core\u001b[39;00m \u001b[39mimport\u001b[39;00m Oracle\n\u001b[1;32m     10\u001b[0m \u001b[39mfrom\u001b[39;00m \u001b[39m.\u001b[39;00m\u001b[39mnetwork\u001b[39;00m \u001b[39mimport\u001b[39;00m Net\n",
      "File \u001b[0;32m~/miniconda3/envs/celloracle_2/lib/python3.8/site-packages/celloracle/utility/__init__.py:18\u001b[0m\n\u001b[1;32m      7\u001b[0m \u001b[39mfrom\u001b[39;00m \u001b[39m.\u001b[39;00m\u001b[39mmake_log\u001b[39;00m \u001b[39mimport\u001b[39;00m makelog\n\u001b[1;32m      9\u001b[0m \u001b[39mfrom\u001b[39;00m \u001b[39m.\u001b[39;00m\u001b[39mutility\u001b[39;00m \u001b[39mimport\u001b[39;00m (save_as_pickled_object, load_pickled_object,\n\u001b[1;32m     10\u001b[0m                       intersect,\n\u001b[1;32m     11\u001b[0m                       exec_process,\n\u001b[0;32m   (...)\u001b[0m\n\u001b[1;32m     16\u001b[0m                       knn_data_transferer,\n\u001b[1;32m     17\u001b[0m                       update_adata)\n\u001b[0;32m---> 18\u001b[0m \u001b[39mfrom\u001b[39;00m \u001b[39m.\u001b[39;00m\u001b[39mload_hdf5\u001b[39;00m \u001b[39mimport\u001b[39;00m load_hdf5\n\u001b[1;32m     20\u001b[0m \u001b[39mfrom\u001b[39;00m \u001b[39m.\u001b[39;00m\u001b[39mpandas_utility_for_jupyternotebook\u001b[39;00m \u001b[39mimport\u001b[39;00m init_datatable_mode\n\u001b[1;32m     22\u001b[0m \u001b[39mfrom\u001b[39;00m \u001b[39m.\u001b[39;00m\u001b[39mpackage_version_checker\u001b[39;00m \u001b[39mimport\u001b[39;00m check_python_requirements\n",
      "File \u001b[0;32m~/miniconda3/envs/celloracle_2/lib/python3.8/site-packages/celloracle/utility/load_hdf5.py:5\u001b[0m\n\u001b[1;32m      1\u001b[0m \u001b[39m# -*- coding: utf-8 -*-\u001b[39;00m\n\u001b[0;32m----> 5\u001b[0m \u001b[39mfrom\u001b[39;00m \u001b[39m.\u001b[39;00m\u001b[39m.\u001b[39;00m\u001b[39mnetwork_analysis\u001b[39;00m \u001b[39mimport\u001b[39;00m load_links\n\u001b[1;32m      6\u001b[0m \u001b[39mfrom\u001b[39;00m \u001b[39m.\u001b[39;00m\u001b[39m.\u001b[39;00m\u001b[39mnetwork\u001b[39;00m \u001b[39mimport\u001b[39;00m load_net\n\u001b[1;32m      7\u001b[0m \u001b[39mfrom\u001b[39;00m \u001b[39m.\u001b[39;00m\u001b[39m.\u001b[39;00m\u001b[39mtrajectory\u001b[39;00m\u001b[39m.\u001b[39;00m\u001b[39moracle_core\u001b[39;00m \u001b[39mimport\u001b[39;00m load_oracle\n",
      "File \u001b[0;32m~/miniconda3/envs/celloracle_2/lib/python3.8/site-packages/celloracle/network_analysis/__init__.py:9\u001b[0m\n\u001b[1;32m      7\u001b[0m \u001b[39mfrom\u001b[39;00m \u001b[39m.\u001b[39;00m \u001b[39mimport\u001b[39;00m gene_analysis\n\u001b[1;32m      8\u001b[0m \u001b[39mfrom\u001b[39;00m \u001b[39m.\u001b[39;00m \u001b[39mimport\u001b[39;00m network_structure_analysis\n\u001b[0;32m----> 9\u001b[0m \u001b[39mfrom\u001b[39;00m \u001b[39m.\u001b[39;00m\u001b[39mnetwork_construction\u001b[39;00m \u001b[39mimport\u001b[39;00m get_links\n\u001b[1;32m     10\u001b[0m \u001b[39mfrom\u001b[39;00m \u001b[39m.\u001b[39;00m\u001b[39muse_r_scripts\u001b[39;00m \u001b[39mimport\u001b[39;00m test_R_libraries_installation, get_R_path, set_R_path, config, _check_R_libraries_installation\n\u001b[1;32m     11\u001b[0m \u001b[39mfrom\u001b[39;00m \u001b[39m.\u001b[39;00m\u001b[39mlinks_object\u001b[39;00m \u001b[39mimport\u001b[39;00m load_links, Links\n",
      "File \u001b[0;32m~/miniconda3/envs/celloracle_2/lib/python3.8/site-packages/celloracle/network_analysis/network_construction.py:26\u001b[0m\n\u001b[1;32m     22\u001b[0m \u001b[39mfrom\u001b[39;00m \u001b[39mscipy\u001b[39;00m \u001b[39mimport\u001b[39;00m stats\n\u001b[1;32m     24\u001b[0m \u001b[39mfrom\u001b[39;00m \u001b[39mtqdm\u001b[39;00m\u001b[39m.\u001b[39;00m\u001b[39mauto\u001b[39;00m \u001b[39mimport\u001b[39;00m tqdm\n\u001b[0;32m---> 26\u001b[0m \u001b[39mfrom\u001b[39;00m \u001b[39m.\u001b[39;00m\u001b[39m.\u001b[39;00m\u001b[39mnetwork\u001b[39;00m\u001b[39m.\u001b[39;00m\u001b[39mnet_core\u001b[39;00m \u001b[39mimport\u001b[39;00m Net\n\u001b[1;32m     27\u001b[0m \u001b[39mfrom\u001b[39;00m \u001b[39m.\u001b[39;00m\u001b[39m.\u001b[39;00m\u001b[39mutility\u001b[39;00m \u001b[39mimport\u001b[39;00m standard\n\u001b[1;32m     28\u001b[0m \u001b[39mfrom\u001b[39;00m \u001b[39m.\u001b[39;00m\u001b[39mlinks_object\u001b[39;00m \u001b[39mimport\u001b[39;00m Links\n",
      "File \u001b[0;32m~/miniconda3/envs/celloracle_2/lib/python3.8/site-packages/celloracle/network/__init__.py:7\u001b[0m\n\u001b[1;32m      2\u001b[0m \u001b[39m\"\"\"\u001b[39;00m\n\u001b[1;32m      3\u001b[0m \u001b[39mThe :mod:`.network` module implements GRN inference.\u001b[39;00m\n\u001b[1;32m      4\u001b[0m \n\u001b[1;32m      5\u001b[0m \u001b[39m\"\"\"\u001b[39;00m\n\u001b[1;32m      6\u001b[0m \u001b[39mfrom\u001b[39;00m \u001b[39m.\u001b[39;00m\u001b[39mnet_core\u001b[39;00m \u001b[39mimport\u001b[39;00m Net\n\u001b[0;32m----> 7\u001b[0m \u001b[39mfrom\u001b[39;00m \u001b[39m.\u001b[39;00m\u001b[39mnet_util\u001b[39;00m \u001b[39mimport\u001b[39;00m load_net_from_patquets, getDF_TGxTF, getDF_peakxTF, load_net\n\u001b[1;32m     10\u001b[0m __all__ \u001b[39m=\u001b[39m [\u001b[39m\"\u001b[39m\u001b[39mNet\u001b[39m\u001b[39m\"\u001b[39m,\n\u001b[1;32m     11\u001b[0m            \u001b[39m\"\u001b[39m\u001b[39mload_net_from_patquets\u001b[39m\u001b[39m\"\u001b[39m,\n\u001b[1;32m     12\u001b[0m            \u001b[39m\"\u001b[39m\u001b[39mgetDF_TGxTF\u001b[39m\u001b[39m\"\u001b[39m,\n\u001b[1;32m     13\u001b[0m            \u001b[39m\"\u001b[39m\u001b[39mgetDF_peakxTF\u001b[39m\u001b[39m\"\u001b[39m\n\u001b[1;32m     14\u001b[0m            \u001b[39m\"\u001b[39m\u001b[39mload_net\u001b[39m\u001b[39m\"\u001b[39m]\n",
      "File \u001b[0;32m~/miniconda3/envs/celloracle_2/lib/python3.8/site-packages/celloracle/network/net_util.py:26\u001b[0m\n\u001b[1;32m     23\u001b[0m \u001b[39mfrom\u001b[39;00m \u001b[39m.\u001b[39;00m\u001b[39m.\u001b[39;00m\u001b[39mutility\u001b[39;00m \u001b[39mimport\u001b[39;00m load_pickled_object\n\u001b[1;32m     24\u001b[0m \u001b[39mfrom\u001b[39;00m \u001b[39m.\u001b[39;00m\u001b[39mnet_core\u001b[39;00m \u001b[39mimport\u001b[39;00m Net\n\u001b[0;32m---> 26\u001b[0m \u001b[39mfrom\u001b[39;00m \u001b[39mvelocyto\u001b[39;00m\u001b[39m.\u001b[39;00m\u001b[39mserialization\u001b[39;00m \u001b[39mimport\u001b[39;00m dump_hdf5, load_hdf5\n\u001b[1;32m     28\u001b[0m \u001b[39m##############################\u001b[39;00m\n\u001b[1;32m     29\u001b[0m \u001b[39m### 1.  define main class  ###\u001b[39;00m\n\u001b[1;32m     30\u001b[0m \u001b[39m##############################\u001b[39;00m\n\u001b[1;32m     33\u001b[0m \u001b[39mdef\u001b[39;00m \u001b[39mload_net\u001b[39m(file_path):\n",
      "File \u001b[0;32m~/miniconda3/envs/celloracle_2/lib/python3.8/site-packages/velocyto/__init__.py:13\u001b[0m\n\u001b[1;32m     11\u001b[0m \u001b[39mfrom\u001b[39;00m \u001b[39m.\u001b[39;00m\u001b[39mmetadata\u001b[39;00m \u001b[39mimport\u001b[39;00m MetadataCollection, Metadata\n\u001b[1;32m     12\u001b[0m \u001b[39mfrom\u001b[39;00m \u001b[39m.\u001b[39;00m\u001b[39mneighbors\u001b[39;00m \u001b[39mimport\u001b[39;00m BalancedKNN, convolve_by_sparse_weights\n\u001b[0;32m---> 13\u001b[0m \u001b[39mfrom\u001b[39;00m \u001b[39m.\u001b[39;00m\u001b[39mestimation\u001b[39;00m \u001b[39mimport\u001b[39;00m fit_slope, _fit1_slope, clusters_stats\n\u001b[1;32m     14\u001b[0m \u001b[39mfrom\u001b[39;00m \u001b[39m.\u001b[39;00m\u001b[39mserialization\u001b[39;00m \u001b[39mimport\u001b[39;00m dump_hdf5, load_hdf5\n\u001b[1;32m     15\u001b[0m \u001b[39mfrom\u001b[39;00m \u001b[39m.\u001b[39;00m\u001b[39manalysis\u001b[39;00m \u001b[39mimport\u001b[39;00m VelocytoLoom, scatter_viz, ixs_thatsort_a2b, load_velocyto_hdf5\n",
      "File \u001b[0;32m~/miniconda3/envs/celloracle_2/lib/python3.8/site-packages/velocyto/estimation.py:7\u001b[0m\n\u001b[1;32m      5\u001b[0m \u001b[39mfrom\u001b[39;00m \u001b[39mtyping\u001b[39;00m \u001b[39mimport\u001b[39;00m \u001b[39m*\u001b[39m\n\u001b[1;32m      6\u001b[0m \u001b[39mfrom\u001b[39;00m \u001b[39msklearn\u001b[39;00m\u001b[39m.\u001b[39;00m\u001b[39mneighbors\u001b[39;00m \u001b[39mimport\u001b[39;00m NearestNeighbors\n\u001b[0;32m----> 7\u001b[0m \u001b[39mfrom\u001b[39;00m \u001b[39m.\u001b[39;00m\u001b[39mspeedboosted\u001b[39;00m \u001b[39mimport\u001b[39;00m _colDeltaCor, _colDeltaCorLog10, _colDeltaCorSqrt\n\u001b[1;32m      8\u001b[0m \u001b[39mfrom\u001b[39;00m \u001b[39m.\u001b[39;00m\u001b[39mspeedboosted\u001b[39;00m \u001b[39mimport\u001b[39;00m _colDeltaCorpartial, _colDeltaCorLog10partial, _colDeltaCorSqrtpartial\n\u001b[1;32m     11\u001b[0m \u001b[39mdef\u001b[39;00m \u001b[39mcolDeltaCor\u001b[39m(emat: np\u001b[39m.\u001b[39mndarray, dmat: np\u001b[39m.\u001b[39mndarray, threads: \u001b[39mint\u001b[39m\u001b[39m=\u001b[39m\u001b[39mNone\u001b[39;00m) \u001b[39m-\u001b[39m\u001b[39m>\u001b[39m np\u001b[39m.\u001b[39mndarray:\n",
      "\u001b[0;31mImportError\u001b[0m: dlopen(/Users/anna.maguza/miniconda3/envs/celloracle_2/lib/python3.8/site-packages/velocyto/speedboosted.cpython-38-darwin.so, 0x0002): Library not loaded: '@rpath/libomp.dylib'\n  Referenced from: '/Users/anna.maguza/miniconda3/envs/celloracle_2/lib/python3.8/site-packages/velocyto/speedboosted.cpython-38-darwin.so'\n  Reason: tried: '/Users/anna.maguza/miniconda3/envs/celloracle_2/lib/python3.8/site-packages/velocyto/libomp.dylib' (no such file), '/opt/homebrew/Cellar/gcc/12.2.0/lib/gcc/current/gcc/aarch64-apple-darwin21/12/libomp.dylib' (no such file), '/opt/homebrew/Cellar/gcc/12.2.0/lib/gcc/current/gcc/libomp.dylib' (no such file), '/opt/homebrew/Cellar/gcc/12.2.0/lib/gcc/current/libomp.dylib' (no such file), '/Users/anna.maguza/miniconda3/envs/celloracle_2/lib/python3.8/site-packages/velocyto/libomp.dylib' (no such file), '/opt/homebrew/Cellar/gcc/12.2.0/lib/gcc/current/gcc/aarch64-apple-darwin21/12/libomp.dylib' (no such file), '/opt/homebrew/Cellar/gcc/12.2.0/lib/gcc/current/gcc/libomp.dylib' (no such file), '/opt/homebrew/Cellar/gcc/12.2.0/lib/gcc/current/libomp.dylib' (no such file), '/Users/anna.maguza/miniconda3/envs/celloracle_2/bin/../lib/libomp.dylib' (no such file), '/Users/anna.maguza/miniconda3/envs/celloracle_2/bin/../lib/libomp.dylib' (no such file), '/usr/local/lib/libomp.dylib' (no such file), '/usr/lib/libomp.dylib' (no such file)"
     ]
    }
   ],
   "source": [
    "import celloracle as co"
   ]
  },
  {
   "cell_type": "code",
   "execution_count": null,
   "metadata": {},
   "outputs": [],
   "source": []
  }
 ],
 "metadata": {
  "kernelspec": {
   "display_name": "celloracle_env",
   "language": "python",
   "name": "python3"
  },
  "language_info": {
   "codemirror_mode": {
    "name": "ipython",
    "version": 3
   },
   "file_extension": ".py",
   "mimetype": "text/x-python",
   "name": "python",
   "nbconvert_exporter": "python",
   "pygments_lexer": "ipython3",
   "version": "3.8.16"
  },
  "orig_nbformat": 4
 },
 "nbformat": 4,
 "nbformat_minor": 2
}
