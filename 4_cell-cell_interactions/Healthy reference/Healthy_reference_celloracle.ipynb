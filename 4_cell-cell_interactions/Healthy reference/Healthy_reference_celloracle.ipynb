{
 "cells": [
  {
   "cell_type": "code",
   "execution_count": 1,
   "metadata": {},
   "outputs": [],
   "source": [
    "import velocyto"
   ]
  },
  {
   "cell_type": "code",
   "execution_count": 2,
   "metadata": {},
   "outputs": [
    {
     "name": "stderr",
     "output_type": "stream",
     "text": [
      "Fontconfig warning: ignoring UTF-8: not a valid region tag\n",
      "INFO:matplotlib.font_manager:Failed to extract font properties from /opt/X11/share/system_fonts/Apple Color Emoji.ttc: In FT2Font: Could not set the fontsize (invalid pixel size; error code 0x17)\n",
      "INFO:matplotlib.font_manager:Failed to extract font properties from /System/Library/Fonts/LastResort.otf: tuple indices must be integers or slices, not str\n",
      "INFO:matplotlib.font_manager:Failed to extract font properties from /System/Library/Fonts/Supplemental/NISC18030.ttf: In FT2Font: Could not set the fontsize (invalid pixel size; error code 0x17)\n",
      "INFO:matplotlib.font_manager:Failed to extract font properties from /opt/X11/share/system_fonts/LastResort.otf: tuple indices must be integers or slices, not str\n",
      "INFO:matplotlib.font_manager:Failed to extract font properties from /opt/X11/share/system_fonts/Supplemental/NISC18030.ttf: In FT2Font: Could not set the fontsize (invalid pixel size; error code 0x17)\n",
      "INFO:matplotlib.font_manager:Failed to extract font properties from /System/Library/Fonts/Apple Color Emoji.ttc: In FT2Font: Could not set the fontsize (invalid pixel size; error code 0x17)\n",
      "2023-04-17 11:38:57,160 - INFO - No config found.\n",
      "INFO:gimme.config:No config found.\n",
      "2023-04-17 11:38:57,162 - INFO - Creating new config.\n",
      "INFO:gimme.config:Creating new config.\n",
      "2023-04-17 11:38:57,165 - INFO - Using included version of MDmodule.\n",
      "INFO:gimme.config:Using included version of MDmodule.\n",
      "2023-04-17 11:38:57,209 - WARNING - MEME not found. To include it you will have to install it.\n",
      "WARNING:gimme.config:MEME not found. To include it you will have to install it.\n",
      "2023-04-17 11:38:57,251 - WARNING - MEMEW not found. To include it you will have to install it.\n",
      "WARNING:gimme.config:MEMEW not found. To include it you will have to install it.\n",
      "2023-04-17 11:38:57,291 - WARNING - DREME not found. To include it you will have to install it.\n",
      "WARNING:gimme.config:DREME not found. To include it you will have to install it.\n",
      "2023-04-17 11:38:57,331 - WARNING - Weeder not found. To include it you will have to install it.\n",
      "WARNING:gimme.config:Weeder not found. To include it you will have to install it.\n",
      "2023-04-17 11:38:57,370 - WARNING - GADEM not found. To include it you will have to install it.\n",
      "WARNING:gimme.config:GADEM not found. To include it you will have to install it.\n",
      "2023-04-17 11:38:57,374 - INFO - Using included version of MotifSampler.\n",
      "INFO:gimme.config:Using included version of MotifSampler.\n",
      "2023-04-17 11:38:57,419 - WARNING - Trawler not found. To include it you will have to install it.\n",
      "WARNING:gimme.config:Trawler not found. To include it you will have to install it.\n",
      "2023-04-17 11:38:57,423 - INFO - Using included version of Improbizer.\n",
      "INFO:gimme.config:Using included version of Improbizer.\n",
      "2023-04-17 11:38:57,425 - INFO - Using included version of BioProspector.\n",
      "INFO:gimme.config:Using included version of BioProspector.\n",
      "2023-04-17 11:38:57,427 - INFO - Using included version of Posmo.\n",
      "INFO:gimme.config:Using included version of Posmo.\n",
      "2023-04-17 11:38:57,430 - INFO - Using included version of ChIPMunk.\n",
      "INFO:gimme.config:Using included version of ChIPMunk.\n",
      "2023-04-17 11:38:57,431 - INFO - Using included version of AMD.\n",
      "INFO:gimme.config:Using included version of AMD.\n",
      "2023-04-17 11:38:57,433 - INFO - Using included version of HMS.\n",
      "INFO:gimme.config:Using included version of HMS.\n",
      "2023-04-17 11:38:57,483 - WARNING - Homer not found. To include it you will have to install it.\n",
      "WARNING:gimme.config:Homer not found. To include it you will have to install it.\n",
      "2023-04-17 11:38:57,528 - WARNING - XXmotif not found. To include it you will have to install it.\n",
      "WARNING:gimme.config:XXmotif not found. To include it you will have to install it.\n",
      "2023-04-17 11:38:57,574 - WARNING - ProSampler not found. To include it you will have to install it.\n",
      "WARNING:gimme.config:ProSampler not found. To include it you will have to install it.\n",
      "2023-04-17 11:38:57,578 - WARNING - Yamda not in config\n",
      "WARNING:gimme.config:Yamda not in config\n",
      "2023-04-17 11:38:57,618 - WARNING - DiNAMO not found. To include it you will have to install it.\n",
      "WARNING:gimme.config:DiNAMO not found. To include it you will have to install it.\n",
      "2023-04-17 11:38:57,669 - WARNING - RPMCMC not found. To include it you will have to install it.\n",
      "WARNING:gimme.config:RPMCMC not found. To include it you will have to install it.\n",
      "2023-04-17 11:38:57,679 - INFO - Configuration file: /Users/anna.maguza/.config/gimmemotifs/gimmemotifs.cfg\n",
      "INFO:gimme.config:Configuration file: /Users/anna.maguza/.config/gimmemotifs/gimmemotifs.cfg\n"
     ]
    }
   ],
   "source": [
    "import celloracle as co"
   ]
  },
  {
   "cell_type": "code",
   "execution_count": 3,
   "metadata": {},
   "outputs": [],
   "source": [
    "# 0. Import\n",
    "\n",
    "import os\n",
    "import sys\n",
    "\n",
    "import matplotlib.pyplot as plt\n",
    "import numpy as np\n",
    "import pandas as pd\n",
    "import scanpy as sc\n",
    "import seaborn as sns"
   ]
  }
 ],
 "metadata": {
  "kernelspec": {
   "display_name": "celloracle_env",
   "language": "python",
   "name": "python3"
  },
  "language_info": {
   "codemirror_mode": {
    "name": "ipython",
    "version": 3
   },
   "file_extension": ".py",
   "mimetype": "text/x-python",
   "name": "python",
   "nbconvert_exporter": "python",
   "pygments_lexer": "ipython3",
   "version": "3.9.16"
  },
  "orig_nbformat": 4
 },
 "nbformat": 4,
 "nbformat_minor": 2
}
